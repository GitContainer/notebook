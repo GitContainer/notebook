{
 "metadata": {
  "gist_id": "adc310e098d3d7540de1",
  "kernelspec": {
   "codemirror_mode": {
    "name": "ipython",
    "version": 3
   },
   "display_name": "IOOS (Python 2)",
   "language": "python",
   "name": "ioos_python2"
  },
  "name": "",
  "signature": "sha256:0c145ce9cc281591d38380c33af17bba75308ed98b90fa4ca75f8eed21110d92"
 },
 "nbformat": 3,
 "nbformat_minor": 0,
 "worksheets": [
  {
   "cells": [
    {
     "cell_type": "markdown",
     "metadata": {},
     "source": [
      "# Testing Glider DAC access in Python\n",
      "\n",
      "This is a url from Kerfooot's TDS server, using the multidimensional NetCDF datasets created by a private ERDDAP instance.  These multidimensonal datasets are also available from ERDDAP, along with a flattened NetCDF representation and a ragged NetCDF representation.\n",
      "\n",
      "The glider ERDDAP is here:\n",
      "http://erddap.marine.rutgers.edu/erddap\n",
      "\n",
      "The glider TDS is here: http://tds.marine.rutgers.edu:8080/thredds/catalog/cool/glider/all/catalog.html"
     ]
    },
    {
     "cell_type": "code",
     "collapsed": false,
     "input": [
      "import iris\n",
      "\n",
      "url = 'http://tds.marine.rutgers.edu:8080/thredds/dodsC/cool/glider/all/ru22-20130924T2010.ncCFMA.nc3.nc'\n",
      "\n",
      "cubes = iris.load_raw(url)\n",
      "\n",
      "print(cubes)"
     ],
     "language": "python",
     "metadata": {
      "trusted": true
     },
     "outputs": [
      {
       "output_type": "stream",
       "stream": "stdout",
       "text": [
        "0: longitude Variable Quality Flag / (unknown) (-- : 1; -- : 3294; -- : 680)\n",
        "1: CTD Metadata / (1)                  (-- : 1; -- : 3294; -- : 680)\n",
        "2: Profile ID / (unknown)              (-- : 1; -- : 3294)\n",
        "3: longitude / (degrees)               (-- : 1; -- : 3294; -- : 680)\n",
        "4: time / (seconds since 1970-01-01T00:00:00Z) (-- : 1; -- : 3294; -- : 680)\n",
        "5: latitude / (degrees)                (-- : 1; -- : 3294; -- : 680)\n",
        "6: sea_water_electrical_conductivity / (S m-1) (-- : 1; -- : 3294; -- : 680)\n",
        "7: sea_water_temperature / (Celsius)   (-- : 1; -- : 3294; -- : 680)\n",
        "8: sea_water_density / (kg m-3)        (-- : 1; -- : 3294; -- : 680)\n",
        "9: Trajectory Name / (no_unit)         (-- : 1; -- : 64)\n",
        "10: lat_uv Variable Quality Flag / (unknown) (-- : 1; -- : 3294; -- : 680)\n",
        "11: Platform Metadata / (1)             (-- : 1; -- : 3294; -- : 680)\n",
        "12: lon_uv Variable Quality Flag / (unknown) (-- : 1; -- : 3294; -- : 680)\n",
        "13: u Variable Quality Flag / (unknown) (-- : 1; -- : 3294; -- : 680)\n",
        "14: WMO ID / (no_unit)                  (-- : 1; -- : 64)\n",
        "15: sea_water_pressure / (dbar)         (-- : 1; -- : 3294; -- : 680)\n",
        "16: precise_time Variable Quality Flag / (unknown) (-- : 1; -- : 3294; -- : 680)\n",
        "17: precise_lon Variable Quality Flag / (unknown) (-- : 1; -- : 3294; -- : 680)\n",
        "18: sea_water_salinity / (1e-3)         (-- : 1; -- : 3294; -- : 680)\n",
        "19: time_uv Variable Quality Flag / (unknown) (-- : 1; -- : 3294; -- : 680)\n",
        "20: lat Variable Quality Flag / (unknown) (-- : 1; -- : 3294; -- : 680)\n",
        "21: eastward_sea_water_velocity / (m s-1) (-- : 1; -- : 3294)\n",
        "22: v Variable Quality Flag / (unknown) (-- : 1; -- : 3294; -- : 680)\n",
        "23: northward_sea_water_velocity / (m s-1) (-- : 1; -- : 3294)\n",
        "24: latitude Variable Quality Flag / (unknown) (-- : 1; -- : 3294; -- : 680)\n"
       ]
      },
      {
       "output_type": "stream",
       "stream": "stderr",
       "text": [
        "/home/usgs/anaconda/lib/python2.7/site-packages/iris/fileformats/cf.py:269: UserWarning: Missing CF-netCDF ancillary data variable u'lat_qc', referenced by netCDF variable u'precise_lat'\n",
        "  warnings.warn(message % (name, nc_var_name))\n",
        "/home/usgs/anaconda/lib/python2.7/site-packages/iris/fileformats/cf.py:269: UserWarning: Missing CF-netCDF ancillary data variable u'lon_qc', referenced by netCDF variable u'precise_lon'\n",
        "  warnings.warn(message % (name, nc_var_name))\n"
       ]
      }
     ],
     "prompt_number": 1
    },
    {
     "cell_type": "code",
     "collapsed": false,
     "input": [
      "cube = cubes.extract('sea_water_temperature')[0]  #<- it always returns a list!\n",
      "print(cube)"
     ],
     "language": "python",
     "metadata": {
      "trusted": true
     },
     "outputs": [
      {
       "output_type": "stream",
       "stream": "stdout",
       "text": [
        "sea_water_temperature / (Celsius)   (-- : 1; -- : 3294; -- : 680)\n",
        "     Auxiliary coordinates:\n",
        "          latitude                      x       x          -\n",
        "          longitude                     x       x          -\n",
        "          time                          x       x          -\n",
        "          depth                         x       x          x\n",
        "     Attributes:\n",
        "          Conventions: Unidata Dataset Discovery v1.0, COARDS, CF-1.6\n",
        "          DODS.dimName: wmo_id_strlen\n",
        "          DODS.strlen: 7\n",
        "          Easternmost_Easting: -74.2846128922\n",
        "          Metadata_Conventions: Unidata Dataset Discovery v1.0, COARDS, CF-1.6\n",
        "          Northernmost_Northing: 37.7880349112\n",
        "          Southernmost_Northing: 37.0371716345\n",
        "          Westernmost_Easting: -75.5659652921\n",
        "          _ChunkSize: 1\n",
        "          acknowledgment: This deployment supported by NOAA U.S. IOOS\n",
        "          actual_range: [  9.8394  23.0101]\n",
        "          cdm_data_type: TrajectoryProfile\n",
        "          cdm_profile_variables: time_uv,lat_uv,lon_uv,u,v,profile_id,time,latitude,longitude\n",
        "          cdm_trajectory_variables: trajectory,wmo_id\n",
        "          colorBarMaximum: 32.0\n",
        "          colorBarMinimum: 0.0\n",
        "          comment: Glider operatored by the Rutgers University Coastal Ocean Observation Lab,...\n",
        "          contributor_name: Scott Glenn, Oscar Schofield, Josh Kohut, David Aragon, Tina Haskins, Chip...\n",
        "          contributor_role: Principal Investigator, Principal Investigator, Principal Investigator,...\n",
        "          creator_email: kerfoot@marine.rutgers.edu\n",
        "          creator_name: John Kerfoot\n",
        "          creator_url: http://rucool.marine.rutgers.edu\n",
        "          date_created: 2014-10-03T15:53:28Z\n",
        "          date_issued: 2014-10-03T15:53:28Z\n",
        "          defaultDataQuery: &trajectory=ru22-20130924T2010\n",
        "          defaultGraphQuery: longitude,latitude,time&.draw=linesAndMarkers&.marker=2|5&.color=0xFFF...\n",
        "          featureType: TrajectoryProfile\n",
        "          format_version: IOOS_Glider_NetCDF_v2.0.nc\n",
        "          geospatial_lat_max: 37.7880349112\n",
        "          geospatial_lat_min: 37.0371716345\n",
        "          geospatial_lat_units: degrees_north\n",
        "          geospatial_lon_max: -74.2846128922\n",
        "          geospatial_lon_min: -75.5659652921\n",
        "          geospatial_lon_units: degrees_east\n",
        "          geospatial_vertical_max: 91.53\n",
        "          geospatial_vertical_min: 1.0\n",
        "          geospatial_vertical_positive: down\n",
        "          geospatial_vertical_units: m\n",
        "          history: 2014-10-03T15:53:28Z /home/kerfoot/slocum/matlab/spt/export/nc/IOOS/DAC/writeIoosGliderFlatNc.m\n",
        "2014-10-11T14:34:46Z...\n",
        "          id: ru22-20130924T2010_f070_8f49_1646\n",
        "          infoUrl: http://rucool.marine.rutgers.edu\n",
        "          institution: Rutgers University\n",
        "          instrument: instrument_ctd\n",
        "          ioos_category: Temperature\n",
        "          keywords: AUVS > Autonomous Underwater Vehicles, Oceans > Ocean Pressure > Water...\n",
        "          keywords_vocabulary: GCMD Science Keywords\n",
        "          license: This data may be redistributed and used without restriction.  Data provided...\n",
        "          naming_authority: edu.rutgers.marine\n",
        "          observation_type: measured\n",
        "          platform: platform\n",
        "          platform_type: Slocum Glider\n",
        "          processing_level: Timestamp and gps positions checked for validity.\n",
        "          project: MARACOOS\n",
        "          publisher_email: kerfoot@marine.rutgers.edu\n",
        "          publisher_name: John Kerfoot\n",
        "          publisher_url: http://rucool.marine.rutgers.edu\n",
        "          sea_name: Mid-Atlantic Bight\n",
        "          source: Observational data from a profiling glider\n",
        "          sourceUrl: (local files)\n",
        "          standard_name_vocabulary: CF-v25\n",
        "          subsetVariables: trajectory,wmo_id,time_uv,lat_uv,lon_uv,u,v,profile_id,time,latitude,l...\n",
        "          summary: U.S. IOOS Mid-Atlantic Regional Consortium of Ocean Observing Systems (MARACOOS)...\n",
        "          time_coverage_end: 2013-10-17T00:19:33Z\n",
        "          time_coverage_start: 2013-09-24T20:18:47Z\n",
        "          title: ru22-20130924T2010\n"
       ]
      }
     ],
     "prompt_number": 2
    },
    {
     "cell_type": "code",
     "collapsed": false,
     "input": [
      "import numpy as np\n",
      "import numpy.ma as ma\n",
      "import seawater as sw\n",
      "import matplotlib.pyplot as plt\n",
      "from scipy.interpolate import interp1d\n",
      "\n",
      "%matplotlib inline"
     ],
     "language": "python",
     "metadata": {},
     "outputs": [],
     "prompt_number": 3
    },
    {
     "cell_type": "code",
     "collapsed": false,
     "input": [
      "def gen_topomask(h, lon, lat, dx=1., kind='linear'):\n",
      "    \"\"\"\n",
      "    generate bottom contour, dx in km\n",
      "    \"\"\"\n",
      "    h, lon, lat = map(np.asanyarray, (h, lon, lat))\n",
      "    x = np.append(0, np.cumsum(sw.dist(lon, lat, units='km')[0]))\n",
      "    Ih = interp1d(x, h, kind=kind, bounds_error=False, fill_value=h[-1])\n",
      "    xm = np.arange(0, x.max() + dx, dx)\n",
      "    hm = Ih(xm)\n",
      "    return xm, hm"
     ],
     "language": "python",
     "metadata": {},
     "outputs": [],
     "prompt_number": 4
    },
    {
     "cell_type": "code",
     "collapsed": false,
     "input": [
      "def plot_glider(cube, mask_topo=False, **kw):\n",
      "    \"\"\"Plot glider cube.\"\"\"\n",
      "    cmap = kw.pop('cmap', plt.cm.rainbow)\n",
      "    \n",
      "    lon = cube.coord(axis='X').points.squeeze()\n",
      "    lat = cube.coord(axis='Y').points.squeeze()\n",
      "    z = cube.coord(axis='Z').points.squeeze()\n",
      "    data = cube.data\n",
      "    t = cube.coord(axis='T')\n",
      "    t = t.units.num2date(t.points)\n",
      "    \n",
      "    dist, pha = sw.dist(lat, lon, units='km')\n",
      "    dist = np.r_[0, np.cumsum(dist)]\n",
      "    \n",
      "    dist, z = np.broadcast_arrays(dist[..., None], z)\n",
      "\n",
      "    z_range = cube.coord(axis='Z').attributes['actual_range']\n",
      "    data_range = cube.attributes['actual_range']\n",
      "    \n",
      "    condition = np.logical_and(data >= data_range[0], data <= data_range[1])\n",
      "    data = ma.masked_where(~condition, data)\n",
      "    \n",
      "    condition = np.logical_and(z >= z_range[0], z <= z_range[1])\n",
      "    z = ma.masked_where(~condition, z)\n",
      "    \n",
      "    from matplotlib import rcParams\n",
      "    rcParams['xtick.direction'] = 'in'\n",
      "    rcParams['ytick.direction'] = 'in'\n",
      "    \n",
      "    fig, ax = plt.subplots()\n",
      "    cs = ax.pcolor(dist, z, data, cmap=cmap, **kw)\n",
      "    if mask_topo:\n",
      "        h = z.max(axis=1)\n",
      "        xm, hm = gen_topomask(h, lon, lat, dx=1., kind='linear')\n",
      "        ax.plot(xm, hm, color='black', linewidth='1', zorder=3)\n",
      "        ax.fill_between(xm, hm, y2=hm.max(), color='0.8', zorder=3)\n",
      "    ax.invert_yaxis()\n",
      "    ax.set_title('Glider track from {} to {}'.format(t[0], t[-1]))\n",
      "    ax.set_ylabel('depth (m)')\n",
      "    ax.set_xlabel('alongtrack distance (km)')\n",
      "\n",
      "    return fig, ax, cs"
     ],
     "language": "python",
     "metadata": {
      "trusted": true
     },
     "outputs": [],
     "prompt_number": 5
    },
    {
     "cell_type": "code",
     "collapsed": false,
     "input": [
      "c = cube[0, ::5, ::2]\n",
      "\n",
      "fig, ax, cs = plot_glider(c, mask_topo=False)\n",
      "\n",
      "# FIXME: Masking topo needs some work!\n",
      "#fig, ax, cs = plot_glider(c, mask_topo=True)"
     ],
     "language": "python",
     "metadata": {
      "trusted": true
     },
     "outputs": [
      {
       "metadata": {},
       "output_type": "display_data",
       "png": "[encoded data removed]",
       "text": [
        "<matplotlib.figure.Figure at 0x7fc5ae31e550>"
       ]
      }
     ],
     "prompt_number": 6
    },
    {
     "cell_type": "code",
     "collapsed": false,
     "input": [
      "np.shape(cube)"
     ],
     "language": "python",
     "metadata": {},
     "outputs": [
      {
       "metadata": {},
       "output_type": "pyout",
       "prompt_number": 7,
       "text": [
        "(1, 3294, 680)"
       ]
      }
     ],
     "prompt_number": 7
    },
    {
     "cell_type": "code",
     "collapsed": false,
     "input": [
      "print cube"
     ],
     "language": "python",
     "metadata": {},
     "outputs": [
      {
       "output_type": "stream",
       "stream": "stdout",
       "text": [
        "sea_water_temperature / (Celsius)   (-- : 1; -- : 3294; -- : 680)\n",
        "     Auxiliary coordinates:\n",
        "          latitude                      x       x          -\n",
        "          longitude                     x       x          -\n",
        "          time                          x       x          -\n",
        "          depth                         x       x          x\n",
        "     Attributes:\n",
        "          Conventions: Unidata Dataset Discovery v1.0, COARDS, CF-1.6\n",
        "          DODS.dimName: wmo_id_strlen\n",
        "          DODS.strlen: 7\n",
        "          Easternmost_Easting: -74.2846128922\n",
        "          Metadata_Conventions: Unidata Dataset Discovery v1.0, COARDS, CF-1.6\n",
        "          Northernmost_Northing: 37.7880349112\n",
        "          Southernmost_Northing: 37.0371716345\n",
        "          Westernmost_Easting: -75.5659652921\n",
        "          _ChunkSize: 1\n",
        "          acknowledgment: This deployment supported by NOAA U.S. IOOS\n",
        "          actual_range: [  9.8394  23.0101]\n",
        "          cdm_data_type: TrajectoryProfile\n",
        "          cdm_profile_variables: time_uv,lat_uv,lon_uv,u,v,profile_id,time,latitude,longitude\n",
        "          cdm_trajectory_variables: trajectory,wmo_id\n",
        "          colorBarMaximum: 32.0\n",
        "          colorBarMinimum: 0.0\n",
        "          comment: Glider operatored by the Rutgers University Coastal Ocean Observation Lab,...\n",
        "          contributor_name: Scott Glenn, Oscar Schofield, Josh Kohut, David Aragon, Tina Haskins, Chip...\n",
        "          contributor_role: Principal Investigator, Principal Investigator, Principal Investigator,...\n",
        "          creator_email: kerfoot@marine.rutgers.edu\n",
        "          creator_name: John Kerfoot\n",
        "          creator_url: http://rucool.marine.rutgers.edu\n",
        "          date_created: 2014-10-03T15:53:28Z\n",
        "          date_issued: 2014-10-03T15:53:28Z\n",
        "          defaultDataQuery: &trajectory=ru22-20130924T2010\n",
        "          defaultGraphQuery: longitude,latitude,time&.draw=linesAndMarkers&.marker=2|5&.color=0xFFF...\n",
        "          featureType: TrajectoryProfile\n",
        "          format_version: IOOS_Glider_NetCDF_v2.0.nc\n",
        "          geospatial_lat_max: 37.7880349112\n",
        "          geospatial_lat_min: 37.0371716345\n",
        "          geospatial_lat_units: degrees_north\n",
        "          geospatial_lon_max: -74.2846128922\n",
        "          geospatial_lon_min: -75.5659652921\n",
        "          geospatial_lon_units: degrees_east\n",
        "          geospatial_vertical_max: 91.53\n",
        "          geospatial_vertical_min: 1.0\n",
        "          geospatial_vertical_positive: down\n",
        "          geospatial_vertical_units: m\n",
        "          history: 2014-10-03T15:53:28Z /home/kerfoot/slocum/matlab/spt/export/nc/IOOS/DAC/writeIoosGliderFlatNc.m\n",
        "2014-10-11T14:34:46Z...\n",
        "          id: ru22-20130924T2010_f070_8f49_1646\n",
        "          infoUrl: http://rucool.marine.rutgers.edu\n",
        "          institution: Rutgers University\n",
        "          instrument: instrument_ctd\n",
        "          ioos_category: Temperature\n",
        "          keywords: AUVS > Autonomous Underwater Vehicles, Oceans > Ocean Pressure > Water...\n",
        "          keywords_vocabulary: GCMD Science Keywords\n",
        "          license: This data may be redistributed and used without restriction.  Data provided...\n",
        "          naming_authority: edu.rutgers.marine\n",
        "          observation_type: measured\n",
        "          platform: platform\n",
        "          platform_type: Slocum Glider\n",
        "          processing_level: Timestamp and gps positions checked for validity.\n",
        "          project: MARACOOS\n",
        "          publisher_email: kerfoot@marine.rutgers.edu\n",
        "          publisher_name: John Kerfoot\n",
        "          publisher_url: http://rucool.marine.rutgers.edu\n",
        "          sea_name: Mid-Atlantic Bight\n",
        "          source: Observational data from a profiling glider\n",
        "          sourceUrl: (local files)\n",
        "          standard_name_vocabulary: CF-v25\n",
        "          subsetVariables: trajectory,wmo_id,time_uv,lat_uv,lon_uv,u,v,profile_id,time,latitude,l...\n",
        "          summary: U.S. IOOS Mid-Atlantic Regional Consortium of Ocean Observing Systems (MARACOOS)...\n",
        "          time_coverage_end: 2013-10-17T00:19:33Z\n",
        "          time_coverage_start: 2013-09-24T20:18:47Z\n",
        "          title: ru22-20130924T2010\n"
       ]
      }
     ],
     "prompt_number": 8
    },
    {
     "cell_type": "code",
     "collapsed": false,
     "input": [],
     "language": "python",
     "metadata": {},
     "outputs": [],
     "prompt_number": 8
    }
   ],
   "metadata": {}
  }
 ]
}