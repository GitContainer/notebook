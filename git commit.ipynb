{
 "metadata": {
  "name": "",
  "signature": "sha256:3b531e85449eda1e59ffb5835d72aff33dafa3214ce524d47895cd8481603f0b"
 },
 "nbformat": 3,
 "nbformat_minor": 0,
 "worksheets": [
  {
   "cells": [
    {
     "cell_type": "code",
     "collapsed": false,
     "input": [
      "cd /usgs/data2/notebook"
     ],
     "language": "python",
     "metadata": {},
     "outputs": [
      {
       "output_type": "stream",
       "stream": "stdout",
       "text": [
        "/usgs/data2/notebook\n"
       ]
      }
     ],
     "prompt_number": 18
    },
    {
     "cell_type": "code",
     "collapsed": false,
     "input": [
      "!git pull"
     ],
     "language": "python",
     "metadata": {},
     "outputs": [
      {
       "output_type": "stream",
       "stream": "stdout",
       "text": [
        "Already up-to-date.\r\n"
       ]
      }
     ],
     "prompt_number": 19
    },
    {
     "cell_type": "code",
     "collapsed": false,
     "input": [
      "#!git add -A\n",
      "!git add Siphon\n",
      "!git commit -m 'added Siphon example'\n",
      "!git push"
     ],
     "language": "python",
     "metadata": {},
     "outputs": [
      {
       "output_type": "stream",
       "stream": "stdout",
       "text": [
        "[master 4a6d7ae] added Siphon example\r\n"
       ]
      },
      {
       "output_type": "stream",
       "stream": "stdout",
       "text": [
        " 5 files changed, 1890 insertions(+), 1615 deletions(-)\r\n",
        " rewrite IOOS_Models.ipynb (88%)\r\n",
        " rewrite Siphon/.ipynb_checkpoints/hrrr_wind-esrl-rob-checkpoint.ipynb (96%)\r\n",
        " rewrite Siphon/hrrr_wind-esrl-rob.ipynb (96%)\r\n"
       ]
      },
      {
       "output_type": "stream",
       "stream": "stdout",
       "text": [
        "Counting objects: 15, done.\r\n",
        "Delta compression using up to 16 threads.\r\n",
        "Compressing objects:  12% (1/8)   \r",
        "Compressing objects:  25% (2/8)   \r",
        "Compressing objects:  37% (3/8)   \r"
       ]
      },
      {
       "output_type": "stream",
       "stream": "stdout",
       "text": [
        "Compressing objects:  50% (4/8)   \r"
       ]
      },
      {
       "output_type": "stream",
       "stream": "stdout",
       "text": [
        "Compressing objects:  62% (5/8)   \r",
        "Compressing objects:  75% (6/8)   \r",
        "Compressing objects:  87% (7/8)   \r",
        "Compressing objects: 100% (8/8)   \r",
        "Compressing objects: 100% (8/8), done.\r\n",
        "Writing objects:  12% (1/8)   \r",
        "Writing objects:  25% (2/8)   \r"
       ]
      },
      {
       "output_type": "stream",
       "stream": "stdout",
       "text": [
        "Writing objects:  37% (3/8)   \r",
        "Writing objects:  50% (4/8)   \r",
        "Writing objects:  62% (5/8)   \r",
        "Writing objects:  75% (6/8)   \r",
        "Writing objects:  87% (7/8)   \r",
        "Writing objects: 100% (8/8)   \r",
        "Writing objects: 100% (8/8), 743.48 KiB, done.\r\n",
        "Total 8 (delta 5), reused 0 (delta 0)\r\n"
       ]
      },
      {
       "output_type": "stream",
       "stream": "stdout",
       "text": [
        "To git@github.com:rsignell-usgs/notebook.git\r\n",
        "   a6b4fe2..4a6d7ae  master -> master\r\n"
       ]
      }
     ],
     "prompt_number": 20
    },
    {
     "cell_type": "code",
     "collapsed": false,
     "input": [
      "!git add IOOS_models*"
     ],
     "language": "python",
     "metadata": {},
     "outputs": [
      {
       "output_type": "stream",
       "stream": "stdout",
       "text": [
        "fatal: pathspec 'IOOS_models*' did not match any files\r\n"
       ]
      }
     ],
     "prompt_number": 16
    },
    {
     "cell_type": "code",
     "collapsed": false,
     "input": [
      "!git add IOOS_Models*"
     ],
     "language": "python",
     "metadata": {},
     "outputs": [],
     "prompt_number": 17
    },
    {
     "cell_type": "code",
     "collapsed": false,
     "input": [
      "!git commit -m 'updated IOOS_Models to Cartopy'"
     ],
     "language": "python",
     "metadata": {},
     "outputs": [
      {
       "output_type": "stream",
       "stream": "stdout",
       "text": [
        "[master 41969c2] updated IOOS_Models to Cartopy\r\n",
        " 4 files changed, 1156 insertions(+), 533 deletions(-)\r\n",
        " create mode 100644 IOOS_Models-Sediment.ipynb\r\n",
        " create mode 100644 IOOS_Models-Sediment.py\r\n",
        " rewrite IOOS_Models.ipynb (85%)\r\n"
       ]
      }
     ],
     "prompt_number": 4
    },
    {
     "cell_type": "code",
     "collapsed": false,
     "input": [
      "!git push"
     ],
     "language": "python",
     "metadata": {},
     "outputs": [
      {
       "output_type": "stream",
       "stream": "stdout",
       "text": [
        "Counting objects: 9, done.\r\n",
        "Delta compression using up to 16 threads.\r\n",
        "Compressing objects:  16% (1/6)   \r",
        "Compressing objects:  33% (2/6)   \r",
        "Compressing objects:  50% (3/6)   \r",
        "Compressing objects:  66% (4/6)   \r"
       ]
      },
      {
       "output_type": "stream",
       "stream": "stdout",
       "text": [
        "Compressing objects:  83% (5/6)   \r",
        "Compressing objects: 100% (6/6)   \r",
        "Compressing objects: 100% (6/6), done.\r\n",
        "Writing objects:  16% (1/6)   \r",
        "Writing objects:  33% (2/6)   \r",
        "Writing objects:  50% (3/6)   \r",
        "Writing objects:  66% (4/6)   \r"
       ]
      },
      {
       "output_type": "stream",
       "stream": "stdout",
       "text": [
        "Writing objects:  83% (5/6)   \r",
        "Writing objects: 100% (6/6)   \r",
        "Writing objects: 100% (6/6), 964.72 KiB, done.\r\n",
        "Total 6 (delta 2), reused 0 (delta 0)\r\n"
       ]
      },
      {
       "output_type": "stream",
       "stream": "stdout",
       "text": [
        "To git@github.com:rsignell-usgs/notebook.git\r\n",
        "   c320501..41969c2  master -> master\r\n"
       ]
      }
     ],
     "prompt_number": 5
    },
    {
     "cell_type": "code",
     "collapsed": false,
     "input": [],
     "language": "python",
     "metadata": {},
     "outputs": []
    }
   ],
   "metadata": {}
  }
 ]
}