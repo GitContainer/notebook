{
 "metadata": {
  "gist_id": "b7cc96e08cad001a7e9c",
  "kernelspec": {
   "codemirror_mode": {
    "name": "ipython",
    "version": 3
   },
   "display_name": "IOOS (Python 2)",
   "language": "python",
   "name": "ioos_python2"
  },
  "name": "",
  "signature": "sha256:115e94774d65365a1710a0c7d06358eb82d7d395edb73b54165a269eabd58842"
 },
 "nbformat": 3,
 "nbformat_minor": 0,
 "worksheets": [
  {
   "cells": [
    {
     "cell_type": "markdown",
     "metadata": {},
     "source": [
      "# Testing Glider CMRE access in Python\n",
      "\n",
      "This is a url from NATO CMRE \"grid\" format, where glider data are stored as profiles. These follow the GROOM convention, and in contrast the the IOOS Glide DAC 2.0 format, instead of one combined profile for the down and up paths,  down and up are split into separate profiles.   \n",
      "\n",
      "In addition to the \"grid\" files, there are also \"raw\" and \"processed\" glider netcdf files:\n",
      "\n",
      "http://comt.sura.org/thredds/catalog/comt_2_full/testing/glider_cmre/catalog.html"
     ]
    },
    {
     "cell_type": "code",
     "collapsed": false,
     "input": [],
     "language": "python",
     "metadata": {},
     "outputs": []
    },
    {
     "cell_type": "code",
     "collapsed": false,
     "input": [
      "import iris\n",
      "\n",
      "url = 'http://comt.sura.org/thredds/dodsC/comt_2_full/testing/glider_cmre/GL-20140621-elettra-MEDREP14depl005-grid-R.nc'\n",
      "# adding coordinates attribute so that Iris can find the coordinates\n",
      "url = 'http://comt.sura.org/thredds/dodsC/comt_2_full/testing/glider_cmre/foo2.ncml'\n",
      "\n",
      "cubes = iris.load_raw(url)\n",
      "\n",
      "print(cubes)"
     ],
     "language": "python",
     "metadata": {},
     "outputs": [
      {
       "output_type": "stream",
       "stream": "stdout",
       "text": [
        "0: sea_water_potential_temperature / (Celsius) (-- : 36; -- : 170)\n",
        "1: sea_water_temperature / (Celsius)   (-- : 36; -- : 170)\n",
        "2: sea_water_salinity / (1e-3)         (-- : 36; -- : 170)\n",
        "3: sound velocity / (m s-1)            (-- : 36; -- : 170)\n",
        "4: sea_water_potential_density / (unknown) (-- : 36; -- : 170)\n",
        "5: distance flown since mission start / (km) (-- : 36)\n",
        "6: Profile ID / (unknown)              (-- : 36)\n",
        "7: sea_water_potential_temperature / (Celsius) (-- : 36; -- : 170)\n",
        "8: sound velocity / (m s-1)            (-- : 36; -- : 170)\n",
        "9: sea_water_electrical_conductivity / (S m-1) (-- : 36; -- : 170)\n",
        "10: sea_water_electrical_conductivity / (S m-1) (-- : 36; -- : 170)\n",
        "11: sea_water_potential_density / (unknown) (-- : 36; -- : 170)\n",
        "12: water pressure / (bar)              (-- : 36; -- : 170)\n",
        "13: profile direction / (no_unit)       (-- : 64)\n",
        "14: water pressure / (bar)              (-- : 36; -- : 170)\n",
        "15: sea_water_temperature / (Celsius)   (-- : 36; -- : 170)\n",
        "16: sea_water_salinity / (1e-3)         (-- : 36; -- : 170)\n",
        "17: profile direction / (no_unit)       (-- : 64)\n",
        "18: distance flown since mission start / (km) (-- : 36)\n"
       ]
      }
     ],
     "prompt_number": 22
    },
    {
     "cell_type": "code",
     "collapsed": false,
     "input": [
      "cube = cubes.extract('sea_water_salinity')[0]  #<- it always returns a list!\n",
      "print(cube)"
     ],
     "language": "python",
     "metadata": {},
     "outputs": [
      {
       "output_type": "stream",
       "stream": "stdout",
       "text": [
        "sea_water_salinity / (1e-3)         (-- : 36; -- : 170)\n",
        "     Auxiliary coordinates:\n",
        "          latitude                      x        -\n",
        "          longitude                     x        -\n",
        "          time                          x        -\n",
        "          depth                         -        x\n",
        "     Attributes:\n",
        "          Conventions: CF-1.6\n",
        "          DODS.dimName: ctdProfile\n",
        "          DODS.strlen: 36\n",
        "          QC_indicator: 0.0\n",
        "          anomaly: none\n",
        "          cdm_data_type: TrajectoryProfile\n",
        "          contact: http://www.cmre.nato.int/\n",
        "          cruise: MEDREP14\n",
        "          data_classification: NATO Unclassified\n",
        "          data_mode: R\n",
        "          data_type: Glider profiles data\n",
        "          date_update: 2014-06-23T16:45:18Z\n",
        "          disclaimer: The processing software that generated this dataset is under development....\n",
        "          distribution_statement: NATO UNCLASSIFIED releasable to project partner only\n",
        "          featureType: TrajectoryProfile\n",
        "          format_version: 0.99\n",
        "          geospatial_lat_max: 39.9588181424\n",
        "          geospatial_lat_min: 39.8547639286\n",
        "          geospatial_lon_max: 7.44207619048\n",
        "          geospatial_lon_min: 7.30733570387\n",
        "          geospatial_vertical_max: 173.0\n",
        "          geospatial_vertical_min: 0.0\n",
        "          history: 2014-06-23 16:45:18: File created\n",
        "          institution: STO-CMRE\n",
        "          institution_reference: http://www.cmre.nato.int/\n",
        "          launch_date: 09-Jun-2014 10:00:00\n",
        "          launch_latitude: 39.9537735847\n",
        "          launch_longitude: 7.34393181681\n",
        "          launch_qc: 0.0\n",
        "          mission: depl005\n",
        "          netcdf_version: 3.6\n",
        "          pi_name: R. Onken\n",
        "          platform_code: elettra\n",
        "          platform_maker: Teledyne Webb Research Corporation\n",
        "          platform_model: WEBB SLOCUM\n",
        "          positioning_system: GPS\n",
        "          processing: real time\n",
        "          product_description: This file contains a glider data product derived from processed data. Trajectory...\n",
        "          project_name: MEDREP14\n",
        "          provider: STO-CMRE (NATO Science & Technology Organization - Centre for Maritime...\n",
        "          qcCodes: 0: no quality control performed on that value; 1: good value (GPS fix);...\n",
        "          qc_manual: http://www.groom.org/data/quality_control_manual.pdf\n",
        "          quality_index: 0.0\n",
        "          references: http://geos3.cmre.nato.int/REP14\n",
        "          sensors_ctd_manufacturer: Seabird\n",
        "          sensors_ctd_model: Slocum Glider CTD\n",
        "          sensors_ctd_name: pumpedCTD\n",
        "          sensors_ctd_serial_number: 48.0\n",
        "          source: Glider observation\n",
        "          summary: MEDREP14 glider data\n",
        "          time_coverage_end: 2014-06-23T09:55:13Z\n",
        "          time_coverage_start: 2014-06-21T09:28:56Z\n",
        "          title: MEDREP14\n",
        "          trans_system: IRIDIUM\n",
        "          type: Glider data file\n",
        "          update_interval: hourly\n"
       ]
      }
     ],
     "prompt_number": 23
    },
    {
     "cell_type": "code",
     "collapsed": false,
     "input": [
      "import numpy as np\n",
      "import numpy.ma as ma\n",
      "import seawater as sw\n",
      "import matplotlib.pyplot as plt\n",
      "from scipy.interpolate import interp1d\n",
      "\n",
      "%matplotlib inline"
     ],
     "language": "python",
     "metadata": {},
     "outputs": []
    },
    {
     "cell_type": "code",
     "collapsed": false,
     "input": [
      "def plot_glider(cube, mask_topo=False, **kw):\n",
      "    \"\"\"Plot glider cube.\"\"\"\n",
      "    cmap = kw.pop('cmap', plt.cm.rainbow)\n",
      "    \n",
      "    lon = cube.coord(axis='X').points.squeeze()\n",
      "    lat = cube.coord(axis='Y').points.squeeze()\n",
      "    z = cube.coord(axis='Z').points.squeeze()\n",
      "    data = cube.data\n",
      "    data = ma.masked_invalid(data,copy=True)\n",
      "    z = ma.masked_invalid(z,copy=True)\n",
      "    t = cube.coord(axis='T')\n",
      "    t = t.units.num2date(t.points)\n",
      "    \n",
      "    dist, pha = sw.dist(lat, lon, units='km')\n",
      "    dist = np.r_[0, np.cumsum(dist)]\n",
      "    \n",
      "    dist, z = np.broadcast_arrays(dist[..., None], z)\n",
      "    \n",
      "    fig, ax = plt.subplots(figsize=(9, 3.75))\n",
      "    cs = ax.pcolor(dist, z, data, cmap=cmap, snap=True, **kw)\n",
      "    plt.colorbar(cs)\n",
      "    if mask_topo:\n",
      "        h = z.max(axis=1)\n",
      "        x = dist[:, 0]\n",
      "        ax.plot(x, h, color='black', linewidth='0.5', zorder=3)\n",
      "        ax.fill_between(x, h, y2=h.max(), color='0.9', zorder=3)\n",
      "    ax.invert_yaxis()\n",
      "    ax.set_title('Glider track from {} to {}'.format(t[0], t[-1]))\n",
      "    fig.tight_layout()\n",
      "    return fig, ax, cs"
     ],
     "language": "python",
     "metadata": {},
     "outputs": [],
     "prompt_number": 43
    },
    {
     "cell_type": "code",
     "collapsed": false,
     "input": [
      "c = cube[:,:]\n",
      "fig, ax, cs = plot_glider(c, mask_topo=True)"
     ],
     "language": "python",
     "metadata": {},
     "outputs": [
      {
       "metadata": {},
       "output_type": "display_data",
       "png": "[encoded data removed]",
       "text": [
        "<matplotlib.figure.Figure at 0x7f0c53cbbf90>"
       ]
      }
     ],
     "prompt_number": 44
    },
    {
     "cell_type": "code",
     "collapsed": false,
     "input": [],
     "language": "python",
     "metadata": {},
     "outputs": []
    }
   ],
   "metadata": {}
  }
 ]
}