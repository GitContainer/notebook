{
 "metadata": {
  "gist_id": "69d1adaab8d6c13c5598",
  "name": "",
  "signature": "sha256:d7d8990eeab19ee6587b27395de12a31041d6acba3b405f5cd0ed6c19da139c4"
 },
 "nbformat": 3,
 "nbformat_minor": 0,
 "worksheets": [
  {
   "cells": [
    {
     "cell_type": "code",
     "collapsed": false,
     "input": [
      "import iris"
     ],
     "language": "python",
     "metadata": {},
     "outputs": [],
     "prompt_number": 1
    },
    {
     "cell_type": "code",
     "collapsed": false,
     "input": [
      "# calculate the current speed using a EPIC NetCDF file\n",
      "url = 'http://geoport.whoi.edu/thredds/dodsC/usgs/data2/emontgomery/stellwagen/CF-1.6/RCNWR/9541aqd-cal.nc'"
     ],
     "language": "python",
     "metadata": {},
     "outputs": [],
     "prompt_number": 2
    },
    {
     "cell_type": "code",
     "collapsed": false,
     "input": [
      "u = iris.load_cube(url,'eastward_sea_water_velocity')\n",
      "v = iris.load_cube(url,'northward_sea_water_velocity')"
     ],
     "language": "python",
     "metadata": {},
     "outputs": [],
     "prompt_number": 3
    },
    {
     "cell_type": "code",
     "collapsed": false,
     "input": [
      "print u"
     ],
     "language": "python",
     "metadata": {},
     "outputs": [
      {
       "output_type": "stream",
       "stream": "stdout",
       "text": [
        "eastward_sea_water_velocity / (m/s) (time: 17425; height: 8)\n",
        "     Dimension coordinates:\n",
        "          time                           x              -\n",
        "          height                         -              x\n",
        "     Scalar coordinates:\n",
        "          latitude: 43.2737388611 degrees\n",
        "          longitude: -70.5867462158 degrees\n",
        "     Attributes:\n",
        "          AQDAnalogInput1: NONE\n",
        "          AQDAnalogInput2: NONE\n",
        "          AQDAnalogInputCal1: [-1471.  8826.]\n",
        "          AQDAnalogInputCal2: [-1471.  8826.]\n",
        "          AQDAnalogPowerLevel: LOW\n",
        "          AQDAnalogPowerOutput: BATTERY\n",
        "          AQDAverageInterval: 120.0\n",
        "          AQDBeamAngle: 25.0\n",
        "          AQDBeamPattern: convex\n",
        "          AQDBeamWidth: 3.4\n",
        "          AQDBlankingDistance: 0.4\n",
        "          AQDCellSize: 50.0\n",
        "          AQDCompassUpdateRate: 600.0\n",
        "          AQDCoordinateSystem: BEAM\n",
        "          AQDDeploymentName: 954aqd\n",
        "          AQDDeploymentTime: 3/27/2013\n",
        "          AQDFirmwareVersion: 3.38\n",
        "          AQDFrequency: 1000.0\n",
        "          AQDHeadRotation: horizontal\n",
        "          AQDHeadSerialNumber: ASP 3795\n",
        "          AQDMeasurementLoad: 75.0\n",
        "          AQDNumberOfBeams: 3.0\n",
        "          AQDNumberOfCells: 8.0\n",
        "          AQDNumberOfPingsPerBurst: 6.0\n",
        "          AQDPressRange: [   0.  100.]\n",
        "          AQDPressureCal: [     0.      0.   3753.  12332.]\n",
        "          AQDProfileInterval: 600.0\n",
        "          AQDRecorderSize: 361 MByte\n",
        "          AQDSalinity: 30.0 ppt\n",
        "          AQDSerial_Number: AQD 5379\n",
        "          AQDSoftwareVersion: 1.35\n",
        "          AQDSoundSpeed: MEASURED\n",
        "          AQDSyncOutDelay: 0 sec\n",
        "          AQDSyncPowerDelay: 0 sec\n",
        "          AQDTempRange: [ -4.  40.]\n",
        "          AQDTransMatrix: [ 1.5774  0.      0.3677 -0.7891 -1.3662  0.3677 -0.7891  1.3662  0.36...\n",
        "          AQDTransmitPulseLength: 0.50 m\n",
        "          AQDVelRange: 1000.0\n",
        "          COMPOSITE: 0.0\n",
        "          COORD_SYSTEM: GEOGRAPHIC\n",
        "          ClockError: 0.0\n",
        "          Conventions: CF-1.6\n",
        "          DATA_CMNT: early termination on 7/26 due to instrument failure\n",
        "          DATA_ORIGIN: USGS WHSC Sed Trans Group\n",
        "          DATA_SUBTYPE: MOORED\n",
        "          DELTA_T: 600\n",
        "          DEPTH_CONST: 0.0\n",
        "          DESCRIPTION: Under Bourne Ave. Bridge\n",
        "          DODS.dimName: feature_type_instance\n",
        "          DODS.strlen: 11\n",
        "          DODS_EXTRA.Unlimited_Dimension: time\n",
        "          DRIFTER: 0.0\n",
        "          Deployment_date: 27-Mar-2013\n",
        "          EXPERIMENT: Rachel Carson National Wildlife Refuge 2013\n",
        "          FORTRAN_format:  \n",
        "          INST_TYPE: Nortek Aquadopp Profiler\n",
        "          LatLonDatum: NAD83\n",
        "          MOORING: 954\n",
        "          POS_CONST: 0.0\n",
        "          PROJECT: USGS Coastal Marine Geology Program\n",
        "          Recovery_date: 9-Dec-2013\n",
        "          SciPi: N. Ganju\n",
        "          WATER_DEPTH: 2.82962687162\n",
        "          WATER_DEPTH_NOTE: (meters), nominal depth\n",
        "          WATER_DEPTH_datum: MSL\n",
        "          WATER_DEPTH_source: Water depth determined by mean pressure value\n",
        "          WATER_MASS: ?\n",
        "          WaveMeasurements: DISABLED\n",
        "          _ChunkSize: [1000    8]\n",
        "          actual_max: 168.253\n",
        "          actual_min: -63.2215\n",
        "          beam_angle: 25.0\n",
        "          beam_pattern: convex\n",
        "          beam_width: 3.4\n",
        "          bin_count: 8.0\n",
        "          bin_size: 0.5\n",
        "          blanking_distance: 0.4\n",
        "          center_first_bin: 0.9\n",
        "          contributor_name: N. Ganju\n",
        "          contributor_role: principalInvestigator\n",
        "          creator_email: rsignell@usgs.gov\n",
        "          creator_name: Rich Signell\n",
        "          creator_phone: +1 (508) 548-8700\n",
        "          creator_url: http://www.usgs.gov\n",
        "          date_created: 2015-08-12T20:39:00Z\n",
        "          epic_code: 1205\n",
        "          featureType: timeSeriesProfile\n",
        "          feneric_name: u\n",
        "          fileRoot: 9541aqdoldnc\n",
        "          fixgaps: 1.0\n",
        "          frequency: 1000.0\n",
        "          geospatial_lat_max: 43.2737\n",
        "          geospatial_lat_min: 43.2737\n",
        "          geospatial_lon_max: -70.5867\n",
        "          geospatial_lon_min: -70.5867\n",
        "          geospatial_vertical_max: 1.34037312838\n",
        "          geospatial_vertical_min: -2.15962687162\n",
        "          geospatial_vertical_positive: up\n",
        "          geospatial_vertical_resolution: 0.5 0.5 0.5 0.5 0.5 0.5 0.5\n",
        "          height_depth_units: m\n",
        "          history: Data cropped by user defined ensemble numbers;Data rotated into Earth Coordinates...\n",
        "          id: 9541aqd-cal\n",
        "          initial_instrument_height: 0.25\n",
        "          initial_instrument_height_note: from mooring log\n",
        "          initial_sensor_height: 0.25\n",
        "          inst_height: 0.25\n",
        "          institution: USGS Woods Hole Coastal and Marine Science Center\n",
        "          institution_url: http://woodshole.er.usgs.gov\n",
        "          instrument_type: Nortek Aquadopp Profiler\n",
        "          keywords: Oceans > Ocean Pressure > Water Pressure, Oceans > Ocean Temperature >...\n",
        "          keywords_vocabulary: GCMD Science Keywords\n",
        "          latitude: 43.27374\n",
        "          longitude: -70.58675\n",
        "          magnetic_variation: 99.0\n",
        "          magnetic_variation_applied: 99.0\n",
        "          metadatafile_author: Ellyn Montgomery, USGS CMGP\n",
        "          metadatafile_name: emrun954AQDprfoldnc\n",
        "          metadatafile_version: 0.0\n",
        "          name: u_1205\n",
        "          naming_authority: gov.usgs.cmgp\n",
        "          nominal_sensor_depth: 2.57962687162\n",
        "          nominal_sensor_depth_note: WATER_DEPTH-initial_instrument_height\n",
        "          orientation: UP\n",
        "          original_filename: 9541aqd-cal.nc\n",
        "          original_folder: RCNWR\n",
        "          platform: I-mount \n",
        "          platform_type: I frame bottom mount\n",
        "          pred_accuracy: 4.8\n",
        "          project: Coastal and Marine Geology Program\n",
        "          project_summary: Oceanographic and water-quality observations made at 3 sites in the wetlands...\n",
        "          project_title: Rachel Carson NWR 2013\n",
        "          publisher_email: emontgomery@usgs.gov\n",
        "          publisher_name: Ellyn Montgomery\n",
        "          publisher_phone: +1 (508) 548-8700\n",
        "          publisher_url: http://www.usgs.gov\n",
        "          salinity_set_by_user: 30.0 ppt\n",
        "          salinity_set_by_user_units: ppt\n",
        "          sensor_depth: -2.57962687162\n",
        "          sensor_type: Nortek Aquadopp Profiler\n",
        "          serial_number: AQD 5379\n",
        "          source: USGS\n",
        "          standard_name_vocabulary: CF-1.6\n",
        "          start_time: 03-Mar-2013 13:31:00\n",
        "          stop_time: 26-July-2013 01:30:59\n",
        "          time_coverage_duration: P10454399S\n",
        "          time_coverage_end: 2013-07-26T01:30:59\n",
        "          time_coverage_resolution: P600S\n",
        "          time_coverage_start: 2013-03-27T01:31:00\n",
        "          title: RCNWR - 9541aqd-cal.nc\n",
        "          transducer_offset_from_bottom: 0.25\n",
        "          zeroed_pressure: Yes\n"
       ]
      }
     ],
     "prompt_number": 4
    },
    {
     "cell_type": "code",
     "collapsed": false,
     "input": [
      "u.name()"
     ],
     "language": "python",
     "metadata": {},
     "outputs": [
      {
       "metadata": {},
       "output_type": "pyout",
       "prompt_number": 5,
       "text": [
        "u'eastward_sea_water_velocity'"
       ]
      }
     ],
     "prompt_number": 5
    },
    {
     "cell_type": "code",
     "collapsed": false,
     "input": [
      "def calc_speed(u, v):\n",
      "    \"\"\"Calculate the speed\"\"\"\n",
      "\n",
      "    speed = (u**2 + v**2)**0.5\n",
      "\n",
      "    return speed"
     ],
     "language": "python",
     "metadata": {},
     "outputs": [],
     "prompt_number": 6
    },
    {
     "cell_type": "code",
     "collapsed": false,
     "input": [
      "spData = calc_speed(u,v)"
     ],
     "language": "python",
     "metadata": {},
     "outputs": [],
     "prompt_number": 9
    },
    {
     "cell_type": "code",
     "collapsed": false,
     "input": [
      "print spData"
     ],
     "language": "python",
     "metadata": {},
     "outputs": [
      {
       "output_type": "stream",
       "stream": "stdout",
       "text": [
        "unknown / (meter-second^-1)         (time: 17425; height: 8)\n",
        "     Dimension coordinates:\n",
        "          time                           x              -\n",
        "          height                         -              x\n",
        "     Scalar coordinates:\n",
        "          latitude: 43.2737388611 degrees\n",
        "          longitude: -70.5867462158 degrees\n"
       ]
      }
     ],
     "prompt_number": 10
    },
    {
     "cell_type": "code",
     "collapsed": false,
     "input": [
      "import matplotlib.pyplot as plt\n",
      "%matplotlib inline"
     ],
     "language": "python",
     "metadata": {},
     "outputs": [],
     "prompt_number": 17
    },
    {
     "cell_type": "code",
     "collapsed": false,
     "input": [
      "u.shape"
     ],
     "language": "python",
     "metadata": {},
     "outputs": [
      {
       "metadata": {},
       "output_type": "pyout",
       "prompt_number": 21,
       "text": [
        "(17425, 8)"
       ]
      }
     ],
     "prompt_number": 21
    },
    {
     "cell_type": "code",
     "collapsed": false,
     "input": [
      "u[3000,0].data"
     ],
     "language": "python",
     "metadata": {},
     "outputs": [
      {
       "metadata": {},
       "output_type": "pyout",
       "prompt_number": 26,
       "text": [
        "array(-0.037856344133615494)"
       ]
      }
     ],
     "prompt_number": 26
    },
    {
     "cell_type": "code",
     "collapsed": false,
     "input": [
      "v[3000,0].data"
     ],
     "language": "python",
     "metadata": {},
     "outputs": [
      {
       "metadata": {},
       "output_type": "pyout",
       "prompt_number": 27,
       "text": [
        "array(0.06000868231058121)"
       ]
      }
     ],
     "prompt_number": 27
    },
    {
     "cell_type": "code",
     "collapsed": false,
     "input": [
      "spData[3000,0].data"
     ],
     "language": "python",
     "metadata": {},
     "outputs": [
      {
       "metadata": {},
       "output_type": "pyout",
       "prompt_number": 28,
       "text": [
        "array(0.07095170712403603)"
       ]
      }
     ],
     "prompt_number": 28
    },
    {
     "cell_type": "code",
     "collapsed": false,
     "input": [
      "spData.rename('sea_water_speed')"
     ],
     "language": "python",
     "metadata": {},
     "outputs": [],
     "prompt_number": 29
    },
    {
     "cell_type": "code",
     "collapsed": false,
     "input": [
      "spData"
     ],
     "language": "python",
     "metadata": {},
     "outputs": [
      {
       "metadata": {},
       "output_type": "pyout",
       "prompt_number": 30,
       "text": [
        "<iris 'Cube' of sea_water_speed / (meter-second^-1) (time: 17425; height: 8)>"
       ]
      }
     ],
     "prompt_number": 30
    },
    {
     "cell_type": "code",
     "collapsed": false,
     "input": [
      "spData.attributes = u.attributes"
     ],
     "language": "python",
     "metadata": {},
     "outputs": [],
     "prompt_number": 31
    },
    {
     "cell_type": "code",
     "collapsed": false,
     "input": [
      "spData"
     ],
     "language": "python",
     "metadata": {},
     "outputs": [
      {
       "metadata": {},
       "output_type": "pyout",
       "prompt_number": 32,
       "text": [
        "<iris 'Cube' of sea_water_speed / (meter-second^-1) (time: 17425; height: 8)>"
       ]
      }
     ],
     "prompt_number": 32
    },
    {
     "cell_type": "code",
     "collapsed": false,
     "input": [
      "print spData"
     ],
     "language": "python",
     "metadata": {},
     "outputs": [
      {
       "output_type": "stream",
       "stream": "stdout",
       "text": [
        "sea_water_speed / (meter-second^-1) (time: 17425; height: 8)\n",
        "     Dimension coordinates:\n",
        "          time                           x              -\n",
        "          height                         -              x\n",
        "     Scalar coordinates:\n",
        "          latitude: 43.2737388611 degrees\n",
        "          longitude: -70.5867462158 degrees\n",
        "     Attributes:\n",
        "          AQDAnalogInput1: NONE\n",
        "          AQDAnalogInput2: NONE\n",
        "          AQDAnalogInputCal1: [-1471.  8826.]\n",
        "          AQDAnalogInputCal2: [-1471.  8826.]\n",
        "          AQDAnalogPowerLevel: LOW\n",
        "          AQDAnalogPowerOutput: BATTERY\n",
        "          AQDAverageInterval: 120.0\n",
        "          AQDBeamAngle: 25.0\n",
        "          AQDBeamPattern: convex\n",
        "          AQDBeamWidth: 3.4\n",
        "          AQDBlankingDistance: 0.4\n",
        "          AQDCellSize: 50.0\n",
        "          AQDCompassUpdateRate: 600.0\n",
        "          AQDCoordinateSystem: BEAM\n",
        "          AQDDeploymentName: 954aqd\n",
        "          AQDDeploymentTime: 3/27/2013\n",
        "          AQDFirmwareVersion: 3.38\n",
        "          AQDFrequency: 1000.0\n",
        "          AQDHeadRotation: horizontal\n",
        "          AQDHeadSerialNumber: ASP 3795\n",
        "          AQDMeasurementLoad: 75.0\n",
        "          AQDNumberOfBeams: 3.0\n",
        "          AQDNumberOfCells: 8.0\n",
        "          AQDNumberOfPingsPerBurst: 6.0\n",
        "          AQDPressRange: [   0.  100.]\n",
        "          AQDPressureCal: [     0.      0.   3753.  12332.]\n",
        "          AQDProfileInterval: 600.0\n",
        "          AQDRecorderSize: 361 MByte\n",
        "          AQDSalinity: 30.0 ppt\n",
        "          AQDSerial_Number: AQD 5379\n",
        "          AQDSoftwareVersion: 1.35\n",
        "          AQDSoundSpeed: MEASURED\n",
        "          AQDSyncOutDelay: 0 sec\n",
        "          AQDSyncPowerDelay: 0 sec\n",
        "          AQDTempRange: [ -4.  40.]\n",
        "          AQDTransMatrix: [ 1.5774  0.      0.3677 -0.7891 -1.3662  0.3677 -0.7891  1.3662  0.36...\n",
        "          AQDTransmitPulseLength: 0.50 m\n",
        "          AQDVelRange: 1000.0\n",
        "          COMPOSITE: 0.0\n",
        "          COORD_SYSTEM: GEOGRAPHIC\n",
        "          ClockError: 0.0\n",
        "          Conventions: CF-1.6\n",
        "          DATA_CMNT: early termination on 7/26 due to instrument failure\n",
        "          DATA_ORIGIN: USGS WHSC Sed Trans Group\n",
        "          DATA_SUBTYPE: MOORED\n",
        "          DELTA_T: 600\n",
        "          DEPTH_CONST: 0.0\n",
        "          DESCRIPTION: Under Bourne Ave. Bridge\n",
        "          DODS.dimName: feature_type_instance\n",
        "          DODS.strlen: 11\n",
        "          DODS_EXTRA.Unlimited_Dimension: time\n",
        "          DRIFTER: 0.0\n",
        "          Deployment_date: 27-Mar-2013\n",
        "          EXPERIMENT: Rachel Carson National Wildlife Refuge 2013\n",
        "          FORTRAN_format:  \n",
        "          INST_TYPE: Nortek Aquadopp Profiler\n",
        "          LatLonDatum: NAD83\n",
        "          MOORING: 954\n",
        "          POS_CONST: 0.0\n",
        "          PROJECT: USGS Coastal Marine Geology Program\n",
        "          Recovery_date: 9-Dec-2013\n",
        "          SciPi: N. Ganju\n",
        "          WATER_DEPTH: 2.82962687162\n",
        "          WATER_DEPTH_NOTE: (meters), nominal depth\n",
        "          WATER_DEPTH_datum: MSL\n",
        "          WATER_DEPTH_source: Water depth determined by mean pressure value\n",
        "          WATER_MASS: ?\n",
        "          WaveMeasurements: DISABLED\n",
        "          _ChunkSize: [1000    8]\n",
        "          actual_max: 168.253\n",
        "          actual_min: -63.2215\n",
        "          beam_angle: 25.0\n",
        "          beam_pattern: convex\n",
        "          beam_width: 3.4\n",
        "          bin_count: 8.0\n",
        "          bin_size: 0.5\n",
        "          blanking_distance: 0.4\n",
        "          center_first_bin: 0.9\n",
        "          contributor_name: N. Ganju\n",
        "          contributor_role: principalInvestigator\n",
        "          creator_email: rsignell@usgs.gov\n",
        "          creator_name: Rich Signell\n",
        "          creator_phone: +1 (508) 548-8700\n",
        "          creator_url: http://www.usgs.gov\n",
        "          date_created: 2015-08-12T20:39:00Z\n",
        "          epic_code: 1205\n",
        "          featureType: timeSeriesProfile\n",
        "          feneric_name: u\n",
        "          fileRoot: 9541aqdoldnc\n",
        "          fixgaps: 1.0\n",
        "          frequency: 1000.0\n",
        "          geospatial_lat_max: 43.2737\n",
        "          geospatial_lat_min: 43.2737\n",
        "          geospatial_lon_max: -70.5867\n",
        "          geospatial_lon_min: -70.5867\n",
        "          geospatial_vertical_max: 1.34037312838\n",
        "          geospatial_vertical_min: -2.15962687162\n",
        "          geospatial_vertical_positive: up\n",
        "          geospatial_vertical_resolution: 0.5 0.5 0.5 0.5 0.5 0.5 0.5\n",
        "          height_depth_units: m\n",
        "          history: Data cropped by user defined ensemble numbers;Data rotated into Earth Coordinates...\n",
        "          id: 9541aqd-cal\n",
        "          initial_instrument_height: 0.25\n",
        "          initial_instrument_height_note: from mooring log\n",
        "          initial_sensor_height: 0.25\n",
        "          inst_height: 0.25\n",
        "          institution: USGS Woods Hole Coastal and Marine Science Center\n",
        "          institution_url: http://woodshole.er.usgs.gov\n",
        "          instrument_type: Nortek Aquadopp Profiler\n",
        "          keywords: Oceans > Ocean Pressure > Water Pressure, Oceans > Ocean Temperature >...\n",
        "          keywords_vocabulary: GCMD Science Keywords\n",
        "          latitude: 43.27374\n",
        "          longitude: -70.58675\n",
        "          magnetic_variation: 99.0\n",
        "          magnetic_variation_applied: 99.0\n",
        "          metadatafile_author: Ellyn Montgomery, USGS CMGP\n",
        "          metadatafile_name: emrun954AQDprfoldnc\n",
        "          metadatafile_version: 0.0\n",
        "          name: u_1205\n",
        "          naming_authority: gov.usgs.cmgp\n",
        "          nominal_sensor_depth: 2.57962687162\n",
        "          nominal_sensor_depth_note: WATER_DEPTH-initial_instrument_height\n",
        "          orientation: UP\n",
        "          original_filename: 9541aqd-cal.nc\n",
        "          original_folder: RCNWR\n",
        "          platform: I-mount \n",
        "          platform_type: I frame bottom mount\n",
        "          pred_accuracy: 4.8\n",
        "          project: Coastal and Marine Geology Program\n",
        "          project_summary: Oceanographic and water-quality observations made at 3 sites in the wetlands...\n",
        "          project_title: Rachel Carson NWR 2013\n",
        "          publisher_email: emontgomery@usgs.gov\n",
        "          publisher_name: Ellyn Montgomery\n",
        "          publisher_phone: +1 (508) 548-8700\n",
        "          publisher_url: http://www.usgs.gov\n",
        "          salinity_set_by_user: 30.0 ppt\n",
        "          salinity_set_by_user_units: ppt\n",
        "          sensor_depth: -2.57962687162\n",
        "          sensor_type: Nortek Aquadopp Profiler\n",
        "          serial_number: AQD 5379\n",
        "          source: USGS\n",
        "          standard_name_vocabulary: CF-1.6\n",
        "          start_time: 03-Mar-2013 13:31:00\n",
        "          stop_time: 26-July-2013 01:30:59\n",
        "          time_coverage_duration: P10454399S\n",
        "          time_coverage_end: 2013-07-26T01:30:59\n",
        "          time_coverage_resolution: P600S\n",
        "          time_coverage_start: 2013-03-27T01:31:00\n",
        "          title: RCNWR - 9541aqd-cal.nc\n",
        "          transducer_offset_from_bottom: 0.25\n",
        "          zeroed_pressure: Yes\n"
       ]
      }
     ],
     "prompt_number": 33
    },
    {
     "cell_type": "code",
     "collapsed": false,
     "input": [],
     "language": "python",
     "metadata": {},
     "outputs": []
    }
   ],
   "metadata": {}
  }
 ]
}