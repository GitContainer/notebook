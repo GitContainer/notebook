{
 "cells": [
  {
   "cell_type": "markdown",
   "metadata": {},
   "source": [
    "# Convert OOI Parsed pwrsys JSON to NetCDF file\n",
    "using CF-1.6, Discrete Sampling Geometry (DSG) conventions, **`featureType=timeSeries`**"
   ]
  },
  {
   "cell_type": "code",
   "execution_count": 1,
   "metadata": {
    "ExecuteTime": {
     "end_time": "2017-02-10T17:21:51.848544",
     "start_time": "2017-02-10T17:21:51.022788"
    },
    "collapsed": false
   },
   "outputs": [],
   "source": [
    "%matplotlib inline\n",
    "import json\n",
    "import pandas as pd\n",
    "import numpy as np\n",
    "\n",
    "from pyaxiom.netcdf.sensors import TimeSeries"
   ]
  },
  {
   "cell_type": "code",
   "execution_count": 2,
   "metadata": {
    "ExecuteTime": {
     "end_time": "2017-02-10T17:21:52.004405",
     "start_time": "2017-02-10T17:21:51.852715"
    },
    "collapsed": false
   },
   "outputs": [
    {
     "data": {
      "text/html": [
       "<div>\n",
       "<table border=\"1\" class=\"dataframe\">\n",
       "  <thead>\n",
       "    <tr style=\"text-align: right;\">\n",
       "      <th></th>\n",
       "      <th>fuel_cell2_voltage</th>\n",
       "      <th>solar_panel3_state</th>\n",
       "      <th>wind_turbine2_state</th>\n",
       "      <th>battery_bank2_voltage</th>\n",
       "      <th>wind_turbine2_current</th>\n",
       "      <th>seawater_ground_state</th>\n",
       "      <th>battery_bank1_temperature</th>\n",
       "      <th>battery_bank4_temperature</th>\n",
       "      <th>main_current</th>\n",
       "      <th>wind_turbine1_current</th>\n",
       "      <th>...</th>\n",
       "      <th>solar_panel2_current</th>\n",
       "      <th>fuel_cell1_voltage</th>\n",
       "      <th>battery_bank3_voltage</th>\n",
       "      <th>solar_panel4_state</th>\n",
       "      <th>cvt_state</th>\n",
       "      <th>battery_bank1_current</th>\n",
       "      <th>wind_turbine2_voltage</th>\n",
       "      <th>fuel_cell1_current</th>\n",
       "      <th>error_flag2</th>\n",
       "      <th>depth</th>\n",
       "    </tr>\n",
       "  </thead>\n",
       "  <tbody>\n",
       "    <tr>\n",
       "      <th>0</th>\n",
       "      <td>0.0</td>\n",
       "      <td>1</td>\n",
       "      <td>1</td>\n",
       "      <td>24.05</td>\n",
       "      <td>4.0</td>\n",
       "      <td>0</td>\n",
       "      <td>10.06</td>\n",
       "      <td>9.87</td>\n",
       "      <td>2753.33</td>\n",
       "      <td>0.0</td>\n",
       "      <td>...</td>\n",
       "      <td>192.0</td>\n",
       "      <td>0.0</td>\n",
       "      <td>24.08</td>\n",
       "      <td>1</td>\n",
       "      <td>0</td>\n",
       "      <td>368.0</td>\n",
       "      <td>24.08</td>\n",
       "      <td>0.0</td>\n",
       "      <td>00402000</td>\n",
       "      <td>0.0</td>\n",
       "    </tr>\n",
       "    <tr>\n",
       "      <th>1</th>\n",
       "      <td>0.0</td>\n",
       "      <td>1</td>\n",
       "      <td>1</td>\n",
       "      <td>24.04</td>\n",
       "      <td>4.0</td>\n",
       "      <td>0</td>\n",
       "      <td>10.06</td>\n",
       "      <td>9.87</td>\n",
       "      <td>2700.00</td>\n",
       "      <td>72.0</td>\n",
       "      <td>...</td>\n",
       "      <td>156.0</td>\n",
       "      <td>0.0</td>\n",
       "      <td>24.06</td>\n",
       "      <td>1</td>\n",
       "      <td>0</td>\n",
       "      <td>330.0</td>\n",
       "      <td>24.05</td>\n",
       "      <td>0.0</td>\n",
       "      <td>00402000</td>\n",
       "      <td>0.0</td>\n",
       "    </tr>\n",
       "    <tr>\n",
       "      <th>2</th>\n",
       "      <td>0.0</td>\n",
       "      <td>1</td>\n",
       "      <td>1</td>\n",
       "      <td>24.03</td>\n",
       "      <td>4.0</td>\n",
       "      <td>0</td>\n",
       "      <td>10.06</td>\n",
       "      <td>9.87</td>\n",
       "      <td>2620.00</td>\n",
       "      <td>0.0</td>\n",
       "      <td>...</td>\n",
       "      <td>184.0</td>\n",
       "      <td>0.0</td>\n",
       "      <td>24.05</td>\n",
       "      <td>1</td>\n",
       "      <td>0</td>\n",
       "      <td>324.0</td>\n",
       "      <td>24.05</td>\n",
       "      <td>0.0</td>\n",
       "      <td>00402000</td>\n",
       "      <td>0.0</td>\n",
       "    </tr>\n",
       "    <tr>\n",
       "      <th>3</th>\n",
       "      <td>0.0</td>\n",
       "      <td>1</td>\n",
       "      <td>1</td>\n",
       "      <td>24.03</td>\n",
       "      <td>4.0</td>\n",
       "      <td>0</td>\n",
       "      <td>10.06</td>\n",
       "      <td>9.87</td>\n",
       "      <td>2566.67</td>\n",
       "      <td>0.0</td>\n",
       "      <td>...</td>\n",
       "      <td>156.0</td>\n",
       "      <td>0.0</td>\n",
       "      <td>24.06</td>\n",
       "      <td>1</td>\n",
       "      <td>0</td>\n",
       "      <td>310.0</td>\n",
       "      <td>24.05</td>\n",
       "      <td>0.0</td>\n",
       "      <td>00402000</td>\n",
       "      <td>0.0</td>\n",
       "    </tr>\n",
       "    <tr>\n",
       "      <th>4</th>\n",
       "      <td>0.0</td>\n",
       "      <td>1</td>\n",
       "      <td>1</td>\n",
       "      <td>24.05</td>\n",
       "      <td>4.0</td>\n",
       "      <td>0</td>\n",
       "      <td>10.06</td>\n",
       "      <td>9.87</td>\n",
       "      <td>2193.33</td>\n",
       "      <td>0.0</td>\n",
       "      <td>...</td>\n",
       "      <td>174.0</td>\n",
       "      <td>0.0</td>\n",
       "      <td>24.08</td>\n",
       "      <td>1</td>\n",
       "      <td>0</td>\n",
       "      <td>218.0</td>\n",
       "      <td>24.08</td>\n",
       "      <td>0.0</td>\n",
       "      <td>00402000</td>\n",
       "      <td>0.0</td>\n",
       "    </tr>\n",
       "  </tbody>\n",
       "</table>\n",
       "<p>5 rows × 60 columns</p>\n",
       "</div>"
      ],
      "text/plain": [
       "   fuel_cell2_voltage  solar_panel3_state  wind_turbine2_state  \\\n",
       "0                 0.0                   1                    1   \n",
       "1                 0.0                   1                    1   \n",
       "2                 0.0                   1                    1   \n",
       "3                 0.0                   1                    1   \n",
       "4                 0.0                   1                    1   \n",
       "\n",
       "   battery_bank2_voltage  wind_turbine2_current  seawater_ground_state  \\\n",
       "0                  24.05                    4.0                      0   \n",
       "1                  24.04                    4.0                      0   \n",
       "2                  24.03                    4.0                      0   \n",
       "3                  24.03                    4.0                      0   \n",
       "4                  24.05                    4.0                      0   \n",
       "\n",
       "   battery_bank1_temperature  battery_bank4_temperature  main_current  \\\n",
       "0                      10.06                       9.87       2753.33   \n",
       "1                      10.06                       9.87       2700.00   \n",
       "2                      10.06                       9.87       2620.00   \n",
       "3                      10.06                       9.87       2566.67   \n",
       "4                      10.06                       9.87       2193.33   \n",
       "\n",
       "   wind_turbine1_current  ...    solar_panel2_current fuel_cell1_voltage  \\\n",
       "0                    0.0  ...                   192.0                0.0   \n",
       "1                   72.0  ...                   156.0                0.0   \n",
       "2                    0.0  ...                   184.0                0.0   \n",
       "3                    0.0  ...                   156.0                0.0   \n",
       "4                    0.0  ...                   174.0                0.0   \n",
       "\n",
       "   battery_bank3_voltage  solar_panel4_state  cvt_state  \\\n",
       "0                  24.08                   1          0   \n",
       "1                  24.06                   1          0   \n",
       "2                  24.05                   1          0   \n",
       "3                  24.06                   1          0   \n",
       "4                  24.08                   1          0   \n",
       "\n",
       "   battery_bank1_current  wind_turbine2_voltage  fuel_cell1_current  \\\n",
       "0                  368.0                  24.08                 0.0   \n",
       "1                  330.0                  24.05                 0.0   \n",
       "2                  324.0                  24.05                 0.0   \n",
       "3                  310.0                  24.05                 0.0   \n",
       "4                  218.0                  24.08                 0.0   \n",
       "\n",
       "   error_flag2  depth  \n",
       "0     00402000    0.0  \n",
       "1     00402000    0.0  \n",
       "2     00402000    0.0  \n",
       "3     00402000    0.0  \n",
       "4     00402000    0.0  \n",
       "\n",
       "[5 rows x 60 columns]"
      ]
     },
     "execution_count": 2,
     "metadata": {},
     "output_type": "execute_result"
    }
   ],
   "source": [
    "infile = '/usgs/data2/notebook/data/20170130.superv.json'\n",
    "infile = '/sand/usgs/users/rsignell/data/ooi/endurance/cg_proc/ce02shsm/D00004/buoy/pwrsys/20170208.pwrsys.json'\n",
    "\n",
    "outfile = '/usgs/data2/notebook/data/20170208.pwrsys.nc'\n",
    "with open(infile) as jf:\n",
    "    js = json.load(jf)\n",
    "    df = pd.DataFrame({})\n",
    "    for k, v in js.items():\n",
    "        df[k] = v\n",
    "    df['time'] = pd.to_datetime(df.time, unit='s')\n",
    "    df['depth'] = 0.\n",
    "df.head()"
   ]
  },
  {
   "cell_type": "code",
   "execution_count": 3,
   "metadata": {
    "ExecuteTime": {
     "end_time": "2017-02-10T17:21:52.444837",
     "start_time": "2017-02-10T17:21:52.007173"
    },
    "collapsed": false
   },
   "outputs": [
    {
     "data": {
      "image/png": "[encoded data removed]",
      "text/plain": [
       "<matplotlib.figure.Figure at 0x7f280fccfb70>"
      ]
     },
     "metadata": {},
     "output_type": "display_data"
    }
   ],
   "source": [
    "df['solar_panel4_voltage'].plot();"
   ]
  },
  {
   "cell_type": "code",
   "execution_count": 4,
   "metadata": {
    "ExecuteTime": {
     "end_time": "2017-02-10T17:21:52.840016",
     "start_time": "2017-02-10T17:21:52.448577"
    },
    "collapsed": false
   },
   "outputs": [
    {
     "data": {
      "image/png": "[encoded data removed]",
      "text/plain": [
       "<matplotlib.figure.Figure at 0x7f280d858240>"
      ]
     },
     "metadata": {},
     "output_type": "display_data"
    }
   ],
   "source": [
    "df.index = df['time']\n",
    "df['solar_panel4_voltage'].plot();"
   ]
  },
  {
   "cell_type": "markdown",
   "metadata": {},
   "source": [
    "### Define the NetCDF global attributes"
   ]
  },
  {
   "cell_type": "code",
   "execution_count": 5,
   "metadata": {
    "ExecuteTime": {
     "end_time": "2017-02-10T17:21:52.850112",
     "start_time": "2017-02-10T17:21:52.843961"
    },
    "collapsed": true
   },
   "outputs": [],
   "source": [
    "global_attributes = {\n",
    "    'institution':'Oregon State University', \n",
    "    'title':'OOI CE02SHSM Pwrsys Data',\n",
    "    'summary':'OOI Pwrsys data from Coastal Endurance Oregon Shelf Surface Mooring',\n",
    "    'creator_name':'Chris Wingard',\n",
    "    'creator_email':'cwingard@coas.oregonstate.edu',\n",
    "    'creator_url':'http://ceoas.oregonstate.edu/ooi'\n",
    "}"
   ]
  },
  {
   "cell_type": "markdown",
   "metadata": {},
   "source": [
    "### Create initial file"
   ]
  },
  {
   "cell_type": "code",
   "execution_count": 6,
   "metadata": {
    "ExecuteTime": {
     "end_time": "2017-02-10T17:21:52.975814",
     "start_time": "2017-02-10T17:21:52.852816"
    },
    "collapsed": false
   },
   "outputs": [],
   "source": [
    "ts = TimeSeries(\n",
    "    output_directory='.',\n",
    "    latitude=44.64,\n",
    "    longitude=-124.31,\n",
    "    station_name='ce02shsm',\n",
    "    global_attributes=global_attributes,\n",
    "    times=df.time.values.astype(np.int64) // 10**9,\n",
    "    verticals=df.depth.values,\n",
    "    output_filename=outfile,\n",
    "    vertical_positive='down'\n",
    ")"
   ]
  },
  {
   "cell_type": "markdown",
   "metadata": {},
   "source": [
    "### Add data variables"
   ]
  },
  {
   "cell_type": "code",
   "execution_count": 7,
   "metadata": {
    "ExecuteTime": {
     "end_time": "2017-02-10T17:21:53.086342",
     "start_time": "2017-02-10T17:21:52.979812"
    },
    "collapsed": false
   },
   "outputs": [
    {
     "data": {
      "text/plain": [
       "['fuel_cell2_voltage',\n",
       " 'solar_panel3_state',\n",
       " 'wind_turbine2_state',\n",
       " 'battery_bank2_voltage',\n",
       " 'wind_turbine2_current',\n",
       " 'seawater_ground_state',\n",
       " 'battery_bank1_temperature',\n",
       " 'battery_bank4_temperature',\n",
       " 'main_current',\n",
       " 'wind_turbine1_current',\n",
       " 'internal_current',\n",
       " 'error_flag1',\n",
       " 'wind_turbine1_voltage',\n",
       " 'battery_bank3_temperature',\n",
       " 'solar_panel1_state',\n",
       " 'fuel_cell2_state',\n",
       " 'battery_bank4_current',\n",
       " 'solar_panel4_current',\n",
       " 'solar_panel4_voltage',\n",
       " 'seawater_ground_positve',\n",
       " 'seawater_ground_negative',\n",
       " 'solar_panel1_current',\n",
       " 'battery_bank2_current',\n",
       " 'wind_turbine1_state',\n",
       " 'fuel_cell2_current',\n",
       " 'external_voltage',\n",
       " 'battery_bank3_current',\n",
       " 'internal_voltage',\n",
       " 'fuel_cell_volume',\n",
       " 'solar_panel2_voltage',\n",
       " 'main_voltage',\n",
       " 'percent_charge',\n",
       " 'time',\n",
       " 'external_current',\n",
       " 'cvt_temperature',\n",
       " 'solar_panel1_voltage',\n",
       " 'solar_panel3_voltage',\n",
       " 'internal_temperature',\n",
       " 'cvt_current',\n",
       " 'fuel_cell1_state',\n",
       " 'solar_panel2_state',\n",
       " 'battery_bank4_voltage',\n",
       " 'solar_panel3_current',\n",
       " 'override_flag',\n",
       " 'cvt_interlock',\n",
       " 'cvt_voltage',\n",
       " 'dcl_date_time_string',\n",
       " 'battery_bank2_temperature',\n",
       " 'battery_bank1_voltage',\n",
       " 'error_flag3',\n",
       " 'solar_panel2_current',\n",
       " 'fuel_cell1_voltage',\n",
       " 'battery_bank3_voltage',\n",
       " 'solar_panel4_state',\n",
       " 'cvt_state',\n",
       " 'battery_bank1_current',\n",
       " 'wind_turbine2_voltage',\n",
       " 'fuel_cell1_current',\n",
       " 'error_flag2',\n",
       " 'depth']"
      ]
     },
     "execution_count": 7,
     "metadata": {},
     "output_type": "execute_result"
    }
   ],
   "source": [
    "df.columns.tolist()"
   ]
  },
  {
   "cell_type": "code",
   "execution_count": 8,
   "metadata": {
    "ExecuteTime": {
     "end_time": "2017-02-10T17:21:53.171887",
     "start_time": "2017-02-10T17:21:53.090185"
    },
    "collapsed": true
   },
   "outputs": [],
   "source": [
    "# create a dictionary of variable attributes\n",
    "atts = {\n",
    "        'main_current':{'units':'volts', 'long_name':'main current'},\n",
    "        'solar_panel3_voltage':{'units':'volts', 'long_name':'solar panel 3 voltage'}\n",
    "       }"
   ]
  },
  {
   "cell_type": "code",
   "execution_count": 9,
   "metadata": {
    "ExecuteTime": {
     "end_time": "2017-02-10T17:21:53.301462",
     "start_time": "2017-02-10T17:21:53.175763"
    },
    "collapsed": false
   },
   "outputs": [
    {
     "name": "stdout",
     "output_type": "stream",
     "text": [
      "{'long_name': 'main current', 'units': 'volts'}\n"
     ]
    }
   ],
   "source": [
    "print(atts.get('main_current'))"
   ]
  },
  {
   "cell_type": "code",
   "execution_count": 10,
   "metadata": {
    "ExecuteTime": {
     "end_time": "2017-02-10T17:21:53.389947",
     "start_time": "2017-02-10T17:21:53.305454"
    },
    "collapsed": false
   },
   "outputs": [
    {
     "name": "stdout",
     "output_type": "stream",
     "text": [
      "None\n"
     ]
    }
   ],
   "source": [
    "# if we ask for a key that doesn't exist, we get a value of \"None\"\n",
    "print(atts.get('foobar'))"
   ]
  },
  {
   "cell_type": "code",
   "execution_count": 11,
   "metadata": {
    "ExecuteTime": {
     "end_time": "2017-02-10T17:21:53.671467",
     "start_time": "2017-02-10T17:21:53.394062"
    },
    "collapsed": false
   },
   "outputs": [
    {
     "name": "stdout",
     "output_type": "stream",
     "text": [
      "Adding fuel_cell2_voltage\n",
      "Adding solar_panel3_state\n",
      "Adding wind_turbine2_state\n",
      "Adding battery_bank2_voltage\n",
      "Adding wind_turbine2_current\n",
      "Adding seawater_ground_state\n",
      "Adding battery_bank1_temperature\n",
      "Adding battery_bank4_temperature\n",
      "Adding main_current\n",
      "Adding wind_turbine1_current\n",
      "Adding internal_current\n",
      "Skipping object error_flag1\n",
      "Adding wind_turbine1_voltage\n",
      "Adding battery_bank3_temperature\n",
      "Adding solar_panel1_state\n",
      "Adding fuel_cell2_state\n",
      "Adding battery_bank4_current\n",
      "Adding solar_panel4_current\n",
      "Adding solar_panel4_voltage\n",
      "Adding seawater_ground_positve\n",
      "Adding seawater_ground_negative\n",
      "Adding solar_panel1_current\n",
      "Adding battery_bank2_current\n",
      "Adding wind_turbine1_state\n",
      "Adding fuel_cell2_current\n",
      "Adding external_voltage\n",
      "Adding battery_bank3_current\n",
      "Adding internal_voltage\n",
      "Adding fuel_cell_volume\n",
      "Adding solar_panel2_voltage\n",
      "Adding main_voltage\n",
      "Adding percent_charge\n",
      "Skipping 'time' (already in file)\n",
      "Adding external_current\n",
      "Adding cvt_temperature\n",
      "Adding solar_panel1_voltage\n",
      "Adding solar_panel3_voltage\n",
      "Adding internal_temperature\n",
      "Adding cvt_current\n",
      "Adding fuel_cell1_state\n",
      "Adding solar_panel2_state\n",
      "Adding battery_bank4_voltage\n",
      "Adding solar_panel3_current\n",
      "Skipping object override_flag\n",
      "Adding cvt_interlock\n",
      "Adding cvt_voltage\n",
      "Skipping object dcl_date_time_string\n",
      "Adding battery_bank2_temperature\n",
      "Adding battery_bank1_voltage\n",
      "Skipping object error_flag3\n",
      "Adding solar_panel2_current\n",
      "Adding fuel_cell1_voltage\n",
      "Adding battery_bank3_voltage\n",
      "Adding solar_panel4_state\n",
      "Adding cvt_state\n",
      "Adding battery_bank1_current\n",
      "Adding wind_turbine2_voltage\n",
      "Adding fuel_cell1_current\n",
      "Skipping object error_flag2\n",
      "Skipping axis 'depth' (already in file)\n"
     ]
    }
   ],
   "source": [
    "for c in df.columns:\n",
    "    if c in ts._nc.variables:\n",
    "        print(\"Skipping '{}' (already in file)\".format(c))\n",
    "        continue\n",
    "    if c in ['time', 'lat', 'lon', 'depth', 'cpm_date_time_string']:\n",
    "        print(\"Skipping axis '{}' (already in file)\".format(c))\n",
    "        continue\n",
    "    if 'object' in df[c].dtype.name: \n",
    "        print(\"Skipping object {}\".format(c))\n",
    "        continue\n",
    "        \n",
    "    print(\"Adding {}\".format(c))\n",
    "    # add variable values and variable attributes here\n",
    "    ts.add_variable(c, df[c].values, attributes=atts.get(c))\n"
   ]
  },
  {
   "cell_type": "code",
   "execution_count": 12,
   "metadata": {
    "ExecuteTime": {
     "end_time": "2017-02-10T17:21:53.682680",
     "start_time": "2017-02-10T17:21:53.675158"
    },
    "collapsed": false
   },
   "outputs": [
    {
     "data": {
      "text/plain": [
       "'0f200000'"
      ]
     },
     "execution_count": 12,
     "metadata": {},
     "output_type": "execute_result"
    }
   ],
   "source": [
    "df['error_flag3'][0]"
   ]
  },
  {
   "cell_type": "code",
   "execution_count": 13,
   "metadata": {
    "ExecuteTime": {
     "end_time": "2017-02-10T17:21:53.769879",
     "start_time": "2017-02-10T17:21:53.686352"
    },
    "collapsed": false
   },
   "outputs": [
    {
     "data": {
      "text/plain": [
       "<class 'pyaxiom.netcdf.dataset.EnhancedDataset'>\n",
       "root group (NETCDF4 data model, file format HDF5):\n",
       "    institution: Oregon State University\n",
       "    creator_url: http://ceoas.oregonstate.edu/ooi\n",
       "    creator_name: Chris Wingard\n",
       "    title: OOI CE02SHSM Pwrsys Data\n",
       "    summary: OOI Pwrsys data from Coastal Endurance Oregon Shelf Surface Mooring\n",
       "    creator_email: cwingard@coas.oregonstate.edu\n",
       "    Conventions: CF-1.6,ACDD-1.3\n",
       "    date_created: 2017-02-10T22:21:00Z\n",
       "    date_modified: 2017-02-10T22:21:00Z\n",
       "    date_issued: 2017-02-10T22:21:00Z\n",
       "    date_metadata_modified: 2017-02-10T22:21:00Z\n",
       "    cdm_data_type: Station\n",
       "    history: 2017-02-10T22:21:00Z - pyaxiom - File created using pyaxiom\n",
       "    geospatial_lat_min: 44.64\n",
       "    geospatial_lat_max: 44.64\n",
       "    geospatial_lat_resolution: 0\n",
       "    geospatial_lat_units: degrees_north\n",
       "    geospatial_lon_min: -124.31\n",
       "    geospatial_lon_max: -124.31\n",
       "    geospatial_lon_resolution: 0\n",
       "    geospatial_lon_units: degrees_east\n",
       "    geospatial_bounds: POINT(-124.31 44.64)\n",
       "    geospatial_bounds_crs: 4326\n",
       "    time_coverage_start: 2017-02-08T00:00:25\n",
       "    time_coverage_end: 2017-02-08T12:34:25\n",
       "    time_coverage_duration: PT45240S\n",
       "    time_coverage_resolution: PT60S\n",
       "    geospatial_vertical_units: meters\n",
       "    geospatial_vertical_positive: down\n",
       "    featureType: timeSeries\n",
       "    geospatial_vertical_resolution: 0\n",
       "    geospatial_vertical_min: 0.0\n",
       "    geospatial_vertical_max: 0.0\n",
       "    ncei_template_version: NCEI_NetCDF_TimeSeries_Orthogonal_Template_v2.0\n",
       "    dimensions(sizes): feature_type_instance(8), time(755)\n",
       "    variables(dimensions): |S1 \u001b[4mfeature_type_instance\u001b[0m(feature_type_instance), float64 \u001b[4mlatitude\u001b[0m(), float64 \u001b[4mlongitude\u001b[0m(), int32 \u001b[4mcrs\u001b[0m(), int32 \u001b[4mplatform\u001b[0m(), int32 \u001b[4mtime\u001b[0m(time), float64 \u001b[4mz\u001b[0m(), float64 \u001b[4mfuel_cell2_voltage\u001b[0m(time), int32 \u001b[4msolar_panel3_state\u001b[0m(time), int32 \u001b[4mwind_turbine2_state\u001b[0m(time), float64 \u001b[4mbattery_bank2_voltage\u001b[0m(time), float64 \u001b[4mwind_turbine2_current\u001b[0m(time), int32 \u001b[4mseawater_ground_state\u001b[0m(time), float64 \u001b[4mbattery_bank1_temperature\u001b[0m(time), float64 \u001b[4mbattery_bank4_temperature\u001b[0m(time), float64 \u001b[4mmain_current\u001b[0m(time), float64 \u001b[4mwind_turbine1_current\u001b[0m(time), float64 \u001b[4minternal_current\u001b[0m(time), float64 \u001b[4mwind_turbine1_voltage\u001b[0m(time), float64 \u001b[4mbattery_bank3_temperature\u001b[0m(time), int32 \u001b[4msolar_panel1_state\u001b[0m(time), int32 \u001b[4mfuel_cell2_state\u001b[0m(time), float64 \u001b[4mbattery_bank4_current\u001b[0m(time), float64 \u001b[4msolar_panel4_current\u001b[0m(time), float64 \u001b[4msolar_panel4_voltage\u001b[0m(time), float64 \u001b[4mseawater_ground_positve\u001b[0m(time), float64 \u001b[4mseawater_ground_negative\u001b[0m(time), float64 \u001b[4msolar_panel1_current\u001b[0m(time), float64 \u001b[4mbattery_bank2_current\u001b[0m(time), int32 \u001b[4mwind_turbine1_state\u001b[0m(time), float64 \u001b[4mfuel_cell2_current\u001b[0m(time), float64 \u001b[4mexternal_voltage\u001b[0m(time), float64 \u001b[4mbattery_bank3_current\u001b[0m(time), float64 \u001b[4minternal_voltage\u001b[0m(time), float64 \u001b[4mfuel_cell_volume\u001b[0m(time), float64 \u001b[4msolar_panel2_voltage\u001b[0m(time), float64 \u001b[4mmain_voltage\u001b[0m(time), float64 \u001b[4mpercent_charge\u001b[0m(time), float64 \u001b[4mexternal_current\u001b[0m(time), float64 \u001b[4mcvt_temperature\u001b[0m(time), float64 \u001b[4msolar_panel1_voltage\u001b[0m(time), float64 \u001b[4msolar_panel3_voltage\u001b[0m(time), float64 \u001b[4minternal_temperature\u001b[0m(time), float64 \u001b[4mcvt_current\u001b[0m(time), int32 \u001b[4mfuel_cell1_state\u001b[0m(time), int32 \u001b[4msolar_panel2_state\u001b[0m(time), float64 \u001b[4mbattery_bank4_voltage\u001b[0m(time), float64 \u001b[4msolar_panel3_current\u001b[0m(time), int32 \u001b[4mcvt_interlock\u001b[0m(time), float64 \u001b[4mcvt_voltage\u001b[0m(time), float64 \u001b[4mbattery_bank2_temperature\u001b[0m(time), float64 \u001b[4mbattery_bank1_voltage\u001b[0m(time), float64 \u001b[4msolar_panel2_current\u001b[0m(time), float64 \u001b[4mfuel_cell1_voltage\u001b[0m(time), float64 \u001b[4mbattery_bank3_voltage\u001b[0m(time), int32 \u001b[4msolar_panel4_state\u001b[0m(time), int32 \u001b[4mcvt_state\u001b[0m(time), float64 \u001b[4mbattery_bank1_current\u001b[0m(time), float64 \u001b[4mwind_turbine2_voltage\u001b[0m(time), float64 \u001b[4mfuel_cell1_current\u001b[0m(time)\n",
       "    groups: "
      ]
     },
     "execution_count": 13,
     "metadata": {},
     "output_type": "execute_result"
    }
   ],
   "source": [
    "ts.ncd"
   ]
  },
  {
   "cell_type": "code",
   "execution_count": 14,
   "metadata": {
    "ExecuteTime": {
     "end_time": "2017-02-10T17:21:53.901856",
     "start_time": "2017-02-10T17:21:53.773637"
    },
    "collapsed": true
   },
   "outputs": [],
   "source": [
    "import netCDF4\n",
    "nc = netCDF4.Dataset(outfile)"
   ]
  },
  {
   "cell_type": "code",
   "execution_count": 15,
   "metadata": {
    "ExecuteTime": {
     "end_time": "2017-02-10T17:21:54.017011",
     "start_time": "2017-02-10T17:21:53.904778"
    },
    "collapsed": false
   },
   "outputs": [
    {
     "data": {
      "text/plain": [
       "<class 'netCDF4._netCDF4.Variable'>\n",
       "float64 main_current(time)\n",
       "    _FillValue: -9999.9\n",
       "    coordinates: time z latitude longitude\n",
       "    missing_value: -9999.9\n",
       "    long_name: main current\n",
       "    units: volts\n",
       "    grid_mapping: crs\n",
       "    platform: platform\n",
       "    ancillary_variables: platform\n",
       "    coverage_content_type: physicalMeasurement\n",
       "unlimited dimensions: \n",
       "current shape = (755,)\n",
       "filling on"
      ]
     },
     "execution_count": 15,
     "metadata": {},
     "output_type": "execute_result"
    }
   ],
   "source": [
    "nc['main_current']"
   ]
  },
  {
   "cell_type": "code",
   "execution_count": 16,
   "metadata": {
    "ExecuteTime": {
     "end_time": "2017-02-10T17:21:54.094660",
     "start_time": "2017-02-10T17:21:54.020824"
    },
    "collapsed": true
   },
   "outputs": [],
   "source": [
    "nc.close()"
   ]
  },
  {
   "cell_type": "code",
   "execution_count": null,
   "metadata": {
    "collapsed": true
   },
   "outputs": [],
   "source": []
  }
 ],
 "metadata": {
  "_draft": {
   "nbviewer_url": "https://gist.github.com/9eb2dda0ea8d643889bf02be9e23f699"
  },
  "anaconda-cloud": {},
  "gist": {
   "data": {
    "description": "testing/from_ooi_json.ipynb",
    "public": true
   },
   "id": "9eb2dda0ea8d643889bf02be9e23f699"
  },
  "gist_id": "98f8b00b2357bb8d9a9fb8c74d43467e",
  "kernelspec": {
   "display_name": "Python [conda env:IOOS3]",
   "language": "python",
   "name": "conda-env-IOOS3-py"
  },
  "language_info": {
   "codemirror_mode": {
    "name": "ipython",
    "version": 3
   },
   "file_extension": ".py",
   "mimetype": "text/x-python",
   "name": "python",
   "nbconvert_exporter": "python",
   "pygments_lexer": "ipython3",
   "version": "3.5.2"
  }
 },
 "nbformat": 4,
 "nbformat_minor": 2
}
