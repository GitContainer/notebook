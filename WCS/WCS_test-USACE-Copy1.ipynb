{
 "metadata": {
  "gist_id": "fe2b250d55a8067317dd",
  "name": "",
  "signature": "sha256:a0c209aa96a3064412e5d685faed4086936e688b3447fe4082ea02fbb1c79d95"
 },
 "nbformat": 3,
 "nbformat_minor": 0,
 "worksheets": [
  {
   "cells": [
    {
     "cell_type": "heading",
     "level": 1,
     "metadata": {},
     "source": [
      "Extract data from USACE WCS Service"
     ]
    },
    {
     "cell_type": "code",
     "collapsed": false,
     "input": [
      "import matplotlib.pyplot as plt\n",
      "from owslib.wcs import WebCoverageService\n",
      "%matplotlib inline"
     ],
     "language": "python",
     "metadata": {},
     "outputs": [],
     "prompt_number": 1
    },
    {
     "cell_type": "code",
     "collapsed": false,
     "input": [
      "endpoint='http://cloud.insideidaho.org/ArcGIS/services/climatologyMeteorologyAtmosphere/climatologyMeteorologyAtmosphere/MapServer/WCSServer?request=GetCapabilities&service=WCS'"
     ],
     "language": "python",
     "metadata": {},
     "outputs": [],
     "prompt_number": 2
    },
    {
     "cell_type": "code",
     "collapsed": false,
     "input": [
      "wcs = WebCoverageService(endpoint,version='1.0.0',timeout=60)"
     ],
     "language": "python",
     "metadata": {},
     "outputs": [],
     "prompt_number": 3
    },
    {
     "cell_type": "code",
     "collapsed": false,
     "input": [
      "for k,v in wcs.contents.iteritems():\n",
      "    print v.title"
     ],
     "language": "python",
     "metadata": {},
     "outputs": [
      {
       "output_type": "stream",
       "stream": "stdout",
       "text": [
        "Agroclimate Zones_1\n",
        "Koppen Climate Classification_2\n"
       ]
      }
     ],
     "prompt_number": 4
    },
    {
     "cell_type": "code",
     "collapsed": false,
     "input": [
      "wcs.contents"
     ],
     "language": "python",
     "metadata": {},
     "outputs": [
      {
       "metadata": {},
       "output_type": "pyout",
       "prompt_number": 5,
       "text": [
        "{'1': <owslib.coverage.wcs100.ContentMetadata at 0x7fc3a408e5d0>,\n",
        " '2': <owslib.coverage.wcs100.ContentMetadata at 0x7fc3a408e610>}"
       ]
      }
     ],
     "prompt_number": 5
    },
    {
     "cell_type": "code",
     "collapsed": false,
     "input": [
      "lidar = wcs['1']\n",
      "print lidar.title\n",
      "print lidar.boundingBoxWGS84\n",
      "print lidar.timelimits\n",
      "print lidar.supportedFormats"
     ],
     "language": "python",
     "metadata": {},
     "outputs": [
      {
       "output_type": "stream",
       "stream": "stdout",
       "text": [
        "Agroclimate Zones_1\n",
        "(-117.54391664332157, 41.93095065270037, -110.64024328374633, 49.054486221179275)\n",
        "[]\n",
        "[]"
       ]
      },
      {
       "output_type": "stream",
       "stream": "stdout",
       "text": [
        "\n"
       ]
      }
     ],
     "prompt_number": 6
    },
    {
     "cell_type": "code",
     "collapsed": false,
     "input": [],
     "language": "python",
     "metadata": {},
     "outputs": [],
     "prompt_number": 25
    },
    {
     "cell_type": "code",
     "collapsed": false,
     "input": [
      "# try Plum Island Sound Region\n",
      "bbox = (-70.825,42.701,-70.7526,42.762)\n",
      "bbox =  wcs['1'].boundingBoxWGS84\n",
      "output = wcs.getCoverage(identifier=\"1\",bbox=bbox,crs='EPSG:4326',format='GeoTIFF',\n",
      "                         resx=0.1, resy=0.1)"
     ],
     "language": "python",
     "metadata": {},
     "outputs": [],
     "prompt_number": 7
    },
    {
     "cell_type": "code",
     "collapsed": false,
     "input": [
      "f=open('test.tif','wb')\n",
      "f.write(output.read())\n",
      "f.close()"
     ],
     "language": "python",
     "metadata": {},
     "outputs": [],
     "prompt_number": 8
    },
    {
     "cell_type": "code",
     "collapsed": false,
     "input": [
      "from osgeo import gdal\n",
      "gdal.UseExceptions()"
     ],
     "language": "python",
     "metadata": {},
     "outputs": [],
     "prompt_number": 9
    },
    {
     "cell_type": "code",
     "collapsed": false,
     "input": [
      "ds = gdal.Open('test.tif')"
     ],
     "language": "python",
     "metadata": {},
     "outputs": [],
     "prompt_number": 10
    },
    {
     "cell_type": "code",
     "collapsed": false,
     "input": [
      "band = ds.GetRasterBand(1)\n",
      "elevation = band.ReadAsArray()\n",
      "nrows, ncols = elevation.shape\n",
      "\n",
      "# I'm making the assumption that the image isn't rotated/skewed/etc. \n",
      "# This is not the correct method in general, but let's ignore that for now\n",
      "# If dxdy or dydx aren't 0, then this will be incorrect\n",
      "x0, dx, dxdy, y0, dydx, dy = ds.GetGeoTransform()\n",
      "\n",
      "if dxdy == 0.0:\n",
      "    x1 = x0 + dx * ncols\n",
      "    y1 = y0 + dy * nrows"
     ],
     "language": "python",
     "metadata": {},
     "outputs": [],
     "prompt_number": 11
    },
    {
     "cell_type": "code",
     "collapsed": false,
     "input": [
      "import cartopy.crs as ccrs"
     ],
     "language": "python",
     "metadata": {},
     "outputs": [],
     "prompt_number": 12
    },
    {
     "cell_type": "code",
     "collapsed": false,
     "input": [
      "print x0,x1,y1,y0"
     ],
     "language": "python",
     "metadata": {},
     "outputs": [
      {
       "output_type": "stream",
       "stream": "stdout",
       "text": [
        "-117.543916643 -110.640243284 41.9309506527 49.0544862212\n"
       ]
      }
     ],
     "prompt_number": 13
    },
    {
     "cell_type": "code",
     "collapsed": false,
     "input": [
      "plt.figure(figsize=(8,8))\n",
      "ax = plt.axes(projection=ccrs.PlateCarree())\n",
      "plt.imshow(elevation, cmap='jet', extent=[x0, x1, y1, y0],transform=ccrs.PlateCarree());\n",
      "ax.gridlines(draw_labels=True);\n"
     ],
     "language": "python",
     "metadata": {},
     "outputs": [
      {
       "metadata": {},
       "output_type": "display_data",
       "png": "[encoded data removed]",
       "text": [
        "<matplotlib.figure.Figure at 0x7fc3988ab090>"
       ]
      }
     ],
     "prompt_number": 14
    },
    {
     "cell_type": "code",
     "collapsed": false,
     "input": [],
     "language": "python",
     "metadata": {},
     "outputs": [],
     "prompt_number": 14
    }
   ],
   "metadata": {}
  }
 ]
}