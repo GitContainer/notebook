{
 "metadata": {
  "name": "",
  "signature": "sha256:4da068fb5f2e392f982a17a354de080c94bcc743baf40ca7eec5b1014c5903cc"
 },
 "nbformat": 3,
 "nbformat_minor": 0,
 "worksheets": [
  {
   "cells": [
    {
     "cell_type": "code",
     "collapsed": false,
     "input": [
      "cd /usgs/data2/notebook/WMS"
     ],
     "language": "python",
     "metadata": {},
     "outputs": [
      {
       "output_type": "stream",
       "stream": "stdout",
       "text": [
        "/usgs/data2/notebook/WMS\n"
       ]
      }
     ],
     "prompt_number": 1
    },
    {
     "cell_type": "code",
     "collapsed": false,
     "input": [
      "!git pull\n",
      "!git add -A\n",
      "!git commit -m 'updated ERDDAP examples'\n",
      "!git push"
     ],
     "language": "python",
     "metadata": {},
     "outputs": [
      {
       "output_type": "stream",
       "stream": "stdout",
       "text": [
        "Already up-to-date.\r\n"
       ]
      },
      {
       "output_type": "stream",
       "stream": "stdout",
       "text": [
        "[master 917c6e3] updated ERDDAP examples\r\n",
        " 6 files changed, 1811 insertions(+)\r\n",
        " create mode 100644 WMS/Filipe_test_wms.ipynb\r\n",
        " create mode 100644 WMS/Filipe_test_wms.py\r\n",
        " create mode 100644 WMS/WMS_experiments.ipynb\r\n",
        " create mode 100644 WMS/WMS_test_digital_coast.ipynb\r\n",
        " create mode 100644 WMS/WMS_test_digital_coast.py\r\n",
        " create mode 100644 WMS/wms_sample.ipynb\r\n"
       ]
      },
      {
       "output_type": "stream",
       "stream": "stdout",
       "text": [
        "Counting objects: 8, done.\r\n",
        "Delta compression using up to 16 threads.\r\n",
        "Compressing objects:  14% (1/7)   \r",
        "Compressing objects:  28% (2/7)   \r",
        "Compressing objects:  42% (3/7)   \r",
        "Compressing objects:  57% (4/7)   \r"
       ]
      },
      {
       "output_type": "stream",
       "stream": "stdout",
       "text": [
        "Compressing objects:  71% (5/7)   \r",
        "Compressing objects:  85% (6/7)   \r",
        "Compressing objects: 100% (7/7)   \r",
        "Compressing objects: 100% (7/7), done.\r\n",
        "Writing objects:  14% (1/7)   \r",
        "Writing objects:  28% (2/7)   \r",
        "Writing objects:  42% (3/7)   \r",
        "Writing objects:  57% (4/7)   \r",
        "Writing objects:  71% (5/7)   \r",
        "Writing objects:  85% (6/7)   \r",
        "Writing objects: 100% (7/7)   \r",
        "Writing objects: 100% (7/7), 229.18 KiB, done.\r\n",
        "Total 7 (delta 1), reused 0 (delta 0)\r\n"
       ]
      },
      {
       "output_type": "stream",
       "stream": "stdout",
       "text": [
        "To git@github.com:rsignell-usgs/notebook.git\r\n",
        "   aa20739..917c6e3  master -> master\r\n"
       ]
      }
     ],
     "prompt_number": 2
    },
    {
     "cell_type": "code",
     "collapsed": false,
     "input": [],
     "language": "python",
     "metadata": {},
     "outputs": []
    }
   ],
   "metadata": {}
  }
 ]
}