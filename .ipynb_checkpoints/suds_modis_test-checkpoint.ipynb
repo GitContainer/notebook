{
 "metadata": {
  "name": "",
  "signature": "sha256:2e01e2a1fcffa34fbf914c33a813611f4705540f6a19466b4f406038d0051988"
 },
 "nbformat": 3,
 "nbformat_minor": 0,
 "worksheets": [
  {
   "cells": [
    {
     "cell_type": "code",
     "collapsed": false,
     "input": [
      "from suds.client import *\n",
      "wsdlurl = 'http://daac.ornl.gov/cgi-bin/MODIS/GLBVIZ_1_Glb_subset/MODIS_webservice.wsdl'\n",
      "client = Client(wsdlurl)\n",
      "result = client.service.getsubset(40.115,-110.025,\"MOD11A2\",\"LST_Day_1km\",\"A2001001\",\"A2001025\",1,1)\n",
      "print result"
     ],
     "language": "python",
     "metadata": {},
     "outputs": [
      {
       "output_type": "stream",
       "stream": "stdout",
       "text": [
        "(ModisData){\n",
        "   xllcorner = -9357990.22\n",
        "   yllcorner = 4458921.58\n",
        "   cellsize = 926.625433056\n",
        "   nrows = 3.0\n",
        "   ncols = 3.0\n",
        "   band = \"LST_Day_1km\"\n",
        "   units = \" Kelvin\"\n",
        "   scale = 0.02\n",
        "   latitude = 40.115\n",
        "   longitude = -110.025\n",
        "   header = \"HDFname,Product,Date,Location,Processed_Date,Subset_Data... \n",
        "\"\n",
        "   subset[] = \n",
        "      \"MOD11A2.A2001001.h09v04.005.2006350190424.LST_Day_1km,MOD11A2,A2001001,Lat40.115Lon-110.025Samp3Line3,2006350190424,0,14039,14039,0,0,0,0,0,0\n",
        "\",\n",
        "      \"MOD11A2.A2001009.h09v04.005.2006352085954.LST_Day_1km,MOD11A2,A2001009,Lat40.115Lon-110.025Samp3Line3,2006352085954,13571,13604,13605,13583,13604,13590,13609,13589,13589\n",
        "\",\n",
        "      \"MOD11A2.A2001017.h09v04.005.2006354035405.LST_Day_1km,MOD11A2,A2001017,Lat40.115Lon-110.025Samp3Line3,2006354035405,13290,13302,13403,13289,13364,13364,0,0,0\n",
        "\",\n",
        "      \"MOD11A2.A2001025.h09v04.005.2006355205007.LST_Day_1km,MOD11A2,A2001025,Lat40.115Lon-110.025Samp3Line3,2006355205007,13419,13223,13227,13420,13185,13212,13174,13203,13214\n",
        "\",\n",
        " }\n"
       ]
      }
     ],
     "prompt_number": 3
    },
    {
     "cell_type": "code",
     "collapsed": false,
     "input": [
      "client.service.getproducts()"
     ],
     "language": "python",
     "metadata": {},
     "outputs": [
      {
       "metadata": {},
       "output_type": "pyout",
       "prompt_number": 35,
       "text": [
        "[MCD12Q1,\n",
        " MCD12Q2,\n",
        " MCD43A1,\n",
        " MCD43A2,\n",
        " MCD43A4,\n",
        " MOD09A1,\n",
        " MOD11A2,\n",
        " MOD13Q1,\n",
        " MOD15A2,\n",
        " MOD15A2GFS,\n",
        " MOD16A2,\n",
        " MOD17A2_51,\n",
        " MOD17A3,\n",
        " MYD09A1,\n",
        " MYD11A2,\n",
        " MYD13Q1,\n",
        " MYD15A2]"
       ]
      }
     ],
     "prompt_number": 35
    },
    {
     "cell_type": "code",
     "collapsed": false,
     "input": [
      "url='http://acdisc.gsfc.nasa.gov:80/opendap/Aqua_MODIS_Level3/MYD08_D3.051/2014/MYD08_D3.A2014001.051.2014002194328.pscs_000500796355.hdf'"
     ],
     "language": "python",
     "metadata": {},
     "outputs": [],
     "prompt_number": 36
    },
    {
     "cell_type": "code",
     "collapsed": false,
     "input": [
      "import netCDF4"
     ],
     "language": "python",
     "metadata": {},
     "outputs": []
    },
    {
     "cell_type": "code",
     "collapsed": false,
     "input": [
      "nc = netCDF4.Dataset(url)"
     ],
     "language": "python",
     "metadata": {},
     "outputs": [
      {
       "ename": "RuntimeError",
       "evalue": "NetCDF: Malformed or inaccessible DAP DATADDS",
       "output_type": "pyerr",
       "traceback": [
        "\u001b[1;31m---------------------------------------------------------------------------\u001b[0m\n\u001b[1;31mRuntimeError\u001b[0m                              Traceback (most recent call last)",
        "\u001b[1;32m<ipython-input-38-9e734cf63ec2>\u001b[0m in \u001b[0;36m<module>\u001b[1;34m()\u001b[0m\n\u001b[0;32m      1\u001b[0m \u001b[1;32mimport\u001b[0m \u001b[0mnetCDF4\u001b[0m\u001b[1;33m\u001b[0m\u001b[0m\n\u001b[1;32m----> 2\u001b[1;33m \u001b[0mnc\u001b[0m \u001b[1;33m=\u001b[0m \u001b[0mnetCDF4\u001b[0m\u001b[1;33m.\u001b[0m\u001b[0mDataset\u001b[0m\u001b[1;33m(\u001b[0m\u001b[0murl\u001b[0m\u001b[1;33m)\u001b[0m\u001b[1;33m\u001b[0m\u001b[0m\n\u001b[0m",
        "\u001b[1;32m/home/usgs/anaconda/lib/python2.7/site-packages/netCDF4.so\u001b[0m in \u001b[0;36mnetCDF4.Dataset.__init__ (netCDF4.c:19478)\u001b[1;34m()\u001b[0m\n",
        "\u001b[1;31mRuntimeError\u001b[0m: NetCDF: Malformed or inaccessible DAP DATADDS"
       ]
      }
     ],
     "prompt_number": 38
    },
    {
     "cell_type": "code",
     "collapsed": false,
     "input": [
      "nc.variables"
     ],
     "language": "python",
     "metadata": {},
     "outputs": []
    },
    {
     "cell_type": "code",
     "collapsed": false,
     "input": [
      "result = client.service.getsubset(40.115,-110.025,\"MOD11A2\",\"LST_Day_1km\",\"A2001001\",\"A2001009\",100,100)\n"
     ],
     "language": "python",
     "metadata": {},
     "outputs": [],
     "prompt_number": 4
    },
    {
     "cell_type": "code",
     "collapsed": false,
     "input": [
      "result.nrows"
     ],
     "language": "python",
     "metadata": {},
     "outputs": [
      {
       "metadata": {},
       "output_type": "pyout",
       "prompt_number": 33,
       "text": [
        "201.0"
       ]
      }
     ],
     "prompt_number": 33
    },
    {
     "cell_type": "code",
     "collapsed": false,
     "input": [
      "result.band."
     ],
     "language": "python",
     "metadata": {},
     "outputs": [
      {
       "metadata": {},
       "output_type": "pyout",
       "prompt_number": 34,
       "text": [
        "LST_Day_1km"
       ]
      }
     ],
     "prompt_number": 34
    },
    {
     "cell_type": "code",
     "collapsed": false,
     "input": [
      "xml = etree.fromstring(result[0])\n"
     ],
     "language": "python",
     "metadata": {},
     "outputs": [
      {
       "ename": "ValueError",
       "evalue": "can only parse strings",
       "output_type": "pyerr",
       "traceback": [
        "\u001b[1;31m---------------------------------------------------------------------------\u001b[0m\n\u001b[1;31mValueError\u001b[0m                                Traceback (most recent call last)",
        "\u001b[1;32m<ipython-input-30-3f74620c503d>\u001b[0m in \u001b[0;36m<module>\u001b[1;34m()\u001b[0m\n\u001b[1;32m----> 1\u001b[1;33m \u001b[0mxml\u001b[0m \u001b[1;33m=\u001b[0m \u001b[0metree\u001b[0m\u001b[1;33m.\u001b[0m\u001b[0mfromstring\u001b[0m\u001b[1;33m(\u001b[0m\u001b[0mresult\u001b[0m\u001b[1;33m[\u001b[0m\u001b[1;36m0\u001b[0m\u001b[1;33m]\u001b[0m\u001b[1;33m)\u001b[0m\u001b[1;33m\u001b[0m\u001b[0m\n\u001b[0m",
        "\u001b[1;32m/home/usgs/anaconda/lib/python2.7/site-packages/lxml/etree.so\u001b[0m in \u001b[0;36mlxml.etree.fromstring (src/lxml/lxml.etree.c:68121)\u001b[1;34m()\u001b[0m\n",
        "\u001b[1;32m/home/usgs/anaconda/lib/python2.7/site-packages/lxml/etree.so\u001b[0m in \u001b[0;36mlxml.etree._parseMemoryDocument (src/lxml/lxml.etree.c:102459)\u001b[1;34m()\u001b[0m\n",
        "\u001b[1;31mValueError\u001b[0m: can only parse strings"
       ]
      }
     ],
     "prompt_number": 30
    },
    {
     "cell_type": "code",
     "collapsed": false,
     "input": [
      "len(result)"
     ],
     "language": "python",
     "metadata": {},
     "outputs": [
      {
       "metadata": {},
       "output_type": "pyout",
       "prompt_number": 32,
       "text": [
        "12"
       ]
      }
     ],
     "prompt_number": 32
    },
    {
     "cell_type": "code",
     "collapsed": false,
     "input": [
      "b=a[0]"
     ],
     "language": "python",
     "metadata": {},
     "outputs": [],
     "prompt_number": 25
    },
    {
     "cell_type": "code",
     "collapsed": false,
     "input": [
      "type(b)"
     ],
     "language": "python",
     "metadata": {},
     "outputs": [
      {
       "metadata": {},
       "output_type": "pyout",
       "prompt_number": 26,
       "text": [
        "suds.sax.text.Text"
       ]
      }
     ],
     "prompt_number": 26
    },
    {
     "cell_type": "code",
     "collapsed": false,
     "input": [
      "len(c)"
     ],
     "language": "python",
     "metadata": {},
     "outputs": [
      {
       "ename": "TypeError",
       "evalue": "len() of unsized object",
       "output_type": "pyerr",
       "traceback": [
        "\u001b[1;31m---------------------------------------------------------------------------\u001b[0m\n\u001b[1;31mTypeError\u001b[0m                                 Traceback (most recent call last)",
        "\u001b[1;32m<ipython-input-17-c6494b964a51>\u001b[0m in \u001b[0;36m<module>\u001b[1;34m()\u001b[0m\n\u001b[1;32m----> 1\u001b[1;33m \u001b[0mlen\u001b[0m\u001b[1;33m(\u001b[0m\u001b[0mc\u001b[0m\u001b[1;33m)\u001b[0m\u001b[1;33m\u001b[0m\u001b[0m\n\u001b[0m",
        "\u001b[1;31mTypeError\u001b[0m: len() of unsized object"
       ]
      }
     ],
     "prompt_number": 17
    },
    {
     "cell_type": "code",
     "collapsed": false,
     "input": [],
     "language": "python",
     "metadata": {},
     "outputs": []
    }
   ],
   "metadata": {}
  }
 ]
}