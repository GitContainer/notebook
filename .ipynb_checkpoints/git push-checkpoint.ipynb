{
 "metadata": {
  "name": "",
  "signature": "sha256:3cf222f54d5b48b5d21dd8af5d7e22a586a74a9245a1252ffa5d11c583fc74a5"
 },
 "nbformat": 3,
 "nbformat_minor": 0,
 "worksheets": [
  {
   "cells": [
    {
     "cell_type": "code",
     "collapsed": false,
     "input": [
      "cd /usgs/data2/notebook/"
     ],
     "language": "python",
     "metadata": {},
     "outputs": [
      {
       "output_type": "stream",
       "stream": "stdout",
       "text": [
        "/usgs/data2/notebook\n"
       ]
      }
     ],
     "prompt_number": 1
    },
    {
     "cell_type": "code",
     "collapsed": false,
     "input": [
      "!ls IOOS*"
     ],
     "language": "python",
     "metadata": {},
     "outputs": [
      {
       "output_type": "stream",
       "stream": "stdout",
       "text": [
        "IOOS_Glider_filipe.ipynb       IOOS_Models.ipynb\r\n",
        "IOOS_Glider_filipe.py\t       IOOS_Models.py\r\n",
        "IOOS Models-bottom temp.ipynb  IOOS Models-Rutgers.ipynb\r\n"
       ]
      }
     ],
     "prompt_number": 2
    },
    {
     "cell_type": "code",
     "collapsed": false,
     "input": [
      "!git add IOOS_Models.*"
     ],
     "language": "python",
     "metadata": {},
     "outputs": [],
     "prompt_number": 3
    },
    {
     "cell_type": "code",
     "collapsed": false,
     "input": [
      "!git commit -m 'added IOOS_models without pylab'"
     ],
     "language": "python",
     "metadata": {},
     "outputs": [
      {
       "output_type": "stream",
       "stream": "stdout",
       "text": [
        "[master 0cbe753] added IOOS_models without pylab\r\n"
       ]
      },
      {
       "output_type": "stream",
       "stream": "stdout",
       "text": [
        " 4 files changed, 677 insertions(+), 378 deletions(-)\r\n",
        " rewrite IOOS_Models.ipynb (85%)\r\n",
        " create mode 100644 IOOS_Models.py\r\n"
       ]
      }
     ],
     "prompt_number": 4
    },
    {
     "cell_type": "code",
     "collapsed": false,
     "input": [
      "!git push"
     ],
     "language": "python",
     "metadata": {},
     "outputs": [
      {
       "output_type": "stream",
       "stream": "stdout",
       "text": [
        "ssh: /home/usgs/anaconda/lib/libcrypto.so.1.0.0: no version information available (required by ssh)\r\n"
       ]
      },
      {
       "output_type": "stream",
       "stream": "stdout",
       "text": [
        "Counting objects: 12, done.\r\n",
        "Delta compression using up to 16 threads.\r\n",
        "Compressing objects:  14% (1/7)   \r",
        "Compressing objects:  28% (2/7)   \r",
        "Compressing objects:  42% (3/7)   \r",
        "Compressing objects:  57% (4/7)   \r",
        "Compressing objects:  71% (5/7)   \r",
        "Compressing objects:  85% (6/7)   \r",
        "Compressing objects: 100% (7/7)   \r",
        "Compressing objects: 100% (7/7), done.\r\n",
        "Writing objects:  14% (1/7)   \r",
        "Writing objects:  28% (2/7)   \r",
        "Writing objects:  42% (3/7)   \r",
        "Writing objects:  57% (4/7)   \r",
        "Writing objects:  71% (5/7)   \r"
       ]
      },
      {
       "output_type": "stream",
       "stream": "stdout",
       "text": [
        "Writing objects:  85% (6/7)   \r",
        "Writing objects: 100% (7/7)   \r",
        "Writing objects: 100% (7/7), 419.55 KiB, done.\r\n",
        "Total 7 (delta 4), reused 0 (delta 0)\r\n"
       ]
      },
      {
       "output_type": "stream",
       "stream": "stdout",
       "text": [
        "To git@github.com:rsignell-usgs/notebook.git\r\n",
        "   4837208..0cbe753  master -> master\r\n"
       ]
      }
     ],
     "prompt_number": 5
    },
    {
     "cell_type": "code",
     "collapsed": false,
     "input": [],
     "language": "python",
     "metadata": {},
     "outputs": []
    }
   ],
   "metadata": {}
  }
 ]
}