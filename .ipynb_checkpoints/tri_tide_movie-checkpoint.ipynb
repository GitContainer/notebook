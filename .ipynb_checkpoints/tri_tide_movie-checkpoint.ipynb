{
 "cells": [
  {
   "cell_type": "code",
   "execution_count": 13,
   "metadata": {
    "collapsed": false
   },
   "outputs": [
    {
     "name": "stdout",
     "output_type": "stream",
     "text": [
      "0: Tide Constituent / (no_unit)        (-- : 38; -- : 64)\n",
      "1: Horizontal Element Incidence List / (1) (-- : 622367; -- : 3)\n",
      "2: Northward Water Velocity Phase / (unknown) (Depth-Averaged Output in the Vertical: 1; -- : 353718; -- : 38)\n",
      "3: Bathymetryd / (meters)              (-- : 353718)\n",
      "4: Northward Water Velocity Amplitude / (m/s) (Depth-Averaged Output in the Vertical: 1; -- : 353718; -- : 38)\n",
      "5: Eastward Water Velocity Phase / (unknown) (Depth-Averaged Output in the Vertical: 1; -- : 353718; -- : 38)\n",
      "6: Tide Frequency / (radians/second)   (-- : 38)\n",
      "7: Eastward Water Velocity Amplitude / (m/s) (Depth-Averaged Output in the Vertical: 1; -- : 353718; -- : 38)\n"
     ]
    }
   ],
   "source": [
    "import iris\n",
    "import warnings\n",
    "\n",
    "\n",
    "with warnings.catch_warnings():\n",
    "    warnings.simplefilter(\"ignore\")\n",
    "#    ncfile = ('http://geoport.whoi.edu/thredds/dodsC/usgs/vault0/models/tides/'\n",
    "#              'vdatum_gulf_of_maine/adcirc54_38_orig.nc')\n",
    "    ncfile = ('http://geoport.whoi.edu/thredds/dodsC/usgs/vault0/models/tides/'\n",
    "              'vdatum_fl_sab/adcirc54.ncml')\n",
    "    cubes = iris.load_raw(ncfile)\n",
    "\n",
    "print(cubes)"
   ]
  },
  {
   "cell_type": "code",
   "execution_count": 14,
   "metadata": {
    "collapsed": false
   },
   "outputs": [
    {
     "data": {
      "text/plain": [
       "'1.8.1'"
      ]
     },
     "execution_count": 14,
     "metadata": {},
     "output_type": "execute_result"
    }
   ],
   "source": [
    "iris.__version__"
   ]
  },
  {
   "cell_type": "code",
   "execution_count": 15,
   "metadata": {
    "collapsed": false
   },
   "outputs": [],
   "source": [
    "units = dict({'knots': 1.9438, 'm/s': 1.0})\n",
    "consts = ['STEADY', 'M2', 'S2', 'N2', 'K1', 'O1', 'P1', 'M4', 'M6']\n",
    "\n",
    "#bbox = [-70.7234, -70.4532, 41.4258, 41.5643]  # Vineyard sound 2.\n",
    "bbox = [-85.35, -84.55, 29.58, 29.83]  # Apalachicola Bay\n",
    "halo = 0.1\n",
    "ax2 = [bbox[0] - halo * (bbox[1] - bbox[0]),\n",
    "       bbox[1] + halo * (bbox[1] - bbox[0]),\n",
    "       bbox[2] - halo * (bbox[3] - bbox[2]),\n",
    "       bbox[3] + halo * (bbox[3] - bbox[2])]"
   ]
  },
  {
   "cell_type": "code",
   "execution_count": 16,
   "metadata": {
    "collapsed": false
   },
   "outputs": [],
   "source": [
    "import pytz\n",
    "from datetime import datetime\n",
    "from pandas import date_range\n",
    "\n",
    "\n",
    "start = datetime.strptime('18-Sep-2015 05:00',\n",
    "                          '%d-%b-%Y %H:%M').replace(tzinfo=pytz.utc)\n",
    "stop = datetime.strptime('19-Sep-2015 05:00',  # '18-Sep-2015 18:00'\n",
    "                         '%d-%b-%Y %H:%M').replace(tzinfo=pytz.utc)\n",
    "\n",
    "dt = 1.0  # Hours.\n",
    "\n",
    "glocals = date_range(start, stop, freq='1H').to_pydatetime()\n",
    "\n",
    "ntimes = len(glocals)"
   ]
  },
  {
   "cell_type": "code",
   "execution_count": 17,
   "metadata": {
    "collapsed": false
   },
   "outputs": [],
   "source": [
    "def parse_string(name):\n",
    "    return ''.join(name.tolist()).strip()\n",
    "\n",
    "\n",
    "names = []\n",
    "data = cubes.extract_strict('Tide Constituent').data\n",
    "for name in data:\n",
    "    names.append(parse_string(name))"
   ]
  },
  {
   "cell_type": "code",
   "execution_count": 18,
   "metadata": {
    "collapsed": false
   },
   "outputs": [
    {
     "ename": "ConstraintMismatchError",
     "evalue": "Got 0 cubes for constraint Constraint(name='depth'), expecting 1.",
     "output_type": "error",
     "traceback": [
      "\u001b[1;31m---------------------------------------------------------------------------\u001b[0m",
      "\u001b[1;31mConstraintMismatchError\u001b[0m                   Traceback (most recent call last)",
      "\u001b[1;32m<ipython-input-18-99cbe3a99092>\u001b[0m in \u001b[0;36m<module>\u001b[1;34m()\u001b[0m\n\u001b[0;32m      1\u001b[0m \u001b[1;32mfrom\u001b[0m \u001b[0mscipy\u001b[0m\u001b[1;33m.\u001b[0m\u001b[0mspatial\u001b[0m \u001b[1;32mimport\u001b[0m \u001b[0mDelaunay\u001b[0m\u001b[1;33m\u001b[0m\u001b[0m\n\u001b[0;32m      2\u001b[0m \u001b[1;33m\u001b[0m\u001b[0m\n\u001b[1;32m----> 3\u001b[1;33m \u001b[0mdepth\u001b[0m \u001b[1;33m=\u001b[0m \u001b[0mcubes\u001b[0m\u001b[1;33m.\u001b[0m\u001b[0mextract_strict\u001b[0m\u001b[1;33m(\u001b[0m\u001b[1;34m'depth'\u001b[0m\u001b[1;33m)\u001b[0m\u001b[1;33m.\u001b[0m\u001b[0mdata\u001b[0m\u001b[1;33m\u001b[0m\u001b[0m\n\u001b[0m\u001b[0;32m      4\u001b[0m \u001b[0mlatf\u001b[0m \u001b[1;33m=\u001b[0m \u001b[0mcubes\u001b[0m\u001b[1;33m.\u001b[0m\u001b[0mextract_strict\u001b[0m\u001b[1;33m(\u001b[0m\u001b[1;34m'latitude'\u001b[0m\u001b[1;33m)\u001b[0m\u001b[1;33m.\u001b[0m\u001b[0mdata\u001b[0m\u001b[1;33m\u001b[0m\u001b[0m\n\u001b[0;32m      5\u001b[0m \u001b[0mlonf\u001b[0m \u001b[1;33m=\u001b[0m \u001b[0mcubes\u001b[0m\u001b[1;33m.\u001b[0m\u001b[0mextract_strict\u001b[0m\u001b[1;33m(\u001b[0m\u001b[1;34m'longitude'\u001b[0m\u001b[1;33m)\u001b[0m\u001b[1;33m.\u001b[0m\u001b[0mdata\u001b[0m\u001b[1;33m\u001b[0m\u001b[0m\n",
      "\u001b[1;32m/home/usgs/miniconda/envs/ioos/lib/python2.7/site-packages/iris/cube.pyc\u001b[0m in \u001b[0;36mextract_strict\u001b[1;34m(self, constraints)\u001b[0m\n\u001b[0;32m    311\u001b[0m \u001b[1;33m\u001b[0m\u001b[0m\n\u001b[0;32m    312\u001b[0m         \"\"\"\n\u001b[1;32m--> 313\u001b[1;33m         \u001b[1;32mreturn\u001b[0m \u001b[0mself\u001b[0m\u001b[1;33m.\u001b[0m\u001b[0mextract\u001b[0m\u001b[1;33m(\u001b[0m\u001b[0mconstraints\u001b[0m\u001b[1;33m,\u001b[0m \u001b[0mstrict\u001b[0m\u001b[1;33m=\u001b[0m\u001b[0mTrue\u001b[0m\u001b[1;33m)\u001b[0m\u001b[1;33m\u001b[0m\u001b[0m\n\u001b[0m\u001b[0;32m    314\u001b[0m \u001b[1;33m\u001b[0m\u001b[0m\n\u001b[0;32m    315\u001b[0m     \u001b[1;32mdef\u001b[0m \u001b[0mextract_overlapping\u001b[0m\u001b[1;33m(\u001b[0m\u001b[0mself\u001b[0m\u001b[1;33m,\u001b[0m \u001b[0mcoord_names\u001b[0m\u001b[1;33m)\u001b[0m\u001b[1;33m:\u001b[0m\u001b[1;33m\u001b[0m\u001b[0m\n",
      "\u001b[1;32m/home/usgs/miniconda/envs/ioos/lib/python2.7/site-packages/iris/cube.pyc\u001b[0m in \u001b[0;36mextract\u001b[1;34m(self, constraints, strict)\u001b[0m\n\u001b[0;32m    270\u001b[0m         \"\"\"\n\u001b[0;32m    271\u001b[0m         return self._extract_and_merge(self, constraints, strict,\n\u001b[1;32m--> 272\u001b[1;33m                                        merge_unique=None)\n\u001b[0m\u001b[0;32m    273\u001b[0m \u001b[1;33m\u001b[0m\u001b[0m\n\u001b[0;32m    274\u001b[0m     \u001b[1;33m@\u001b[0m\u001b[0mstaticmethod\u001b[0m\u001b[1;33m\u001b[0m\u001b[0m\n",
      "\u001b[1;32m/home/usgs/miniconda/envs/ioos/lib/python2.7/site-packages/iris/cube.pyc\u001b[0m in \u001b[0;36m_extract_and_merge\u001b[1;34m(cubes, constraints, strict, merge_unique)\u001b[0m\n\u001b[0;32m    298\u001b[0m                 \u001b[0mmsg\u001b[0m \u001b[1;33m=\u001b[0m \u001b[1;34m'Got %s cubes for constraint %r, '\u001b[0m\u001b[0;31m \u001b[0m\u001b[0;31m\\\u001b[0m\u001b[1;33m\u001b[0m\u001b[0m\n\u001b[0;32m    299\u001b[0m                       \u001b[1;34m'expecting 1.'\u001b[0m \u001b[1;33m%\u001b[0m \u001b[1;33m(\u001b[0m\u001b[0mlen\u001b[0m\u001b[1;33m(\u001b[0m\u001b[0mconstraint_cubes\u001b[0m\u001b[1;33m)\u001b[0m\u001b[1;33m,\u001b[0m \u001b[0mconstraint\u001b[0m\u001b[1;33m)\u001b[0m\u001b[1;33m\u001b[0m\u001b[0m\n\u001b[1;32m--> 300\u001b[1;33m                 \u001b[1;32mraise\u001b[0m \u001b[0miris\u001b[0m\u001b[1;33m.\u001b[0m\u001b[0mexceptions\u001b[0m\u001b[1;33m.\u001b[0m\u001b[0mConstraintMismatchError\u001b[0m\u001b[1;33m(\u001b[0m\u001b[0mmsg\u001b[0m\u001b[1;33m)\u001b[0m\u001b[1;33m\u001b[0m\u001b[0m\n\u001b[0m\u001b[0;32m    301\u001b[0m             \u001b[0mresult\u001b[0m\u001b[1;33m.\u001b[0m\u001b[0mextend\u001b[0m\u001b[1;33m(\u001b[0m\u001b[0mconstraint_cubes\u001b[0m\u001b[1;33m)\u001b[0m\u001b[1;33m\u001b[0m\u001b[0m\n\u001b[0;32m    302\u001b[0m \u001b[1;33m\u001b[0m\u001b[0m\n",
      "\u001b[1;31mConstraintMismatchError\u001b[0m: Got 0 cubes for constraint Constraint(name='depth'), expecting 1."
     ]
    }
   ],
   "source": [
    "from scipy.spatial import Delaunay\n",
    "\n",
    "depth = cubes.extract_strict('depth').data\n",
    "latf = cubes.extract_strict('latitude').data\n",
    "lonf = cubes.extract_strict('longitude').data\n",
    "frequency = cubes.extract_strict('Tide Frequency').data\n",
    "\n",
    "# Not sure why this is not working.\n",
    "# trif = cubes.extract_strict('Horizontal Element Incidence List').data\n",
    "trif = Delaunay(zip(lonf, latf)).vertices"
   ]
  },
  {
   "cell_type": "code",
   "execution_count": null,
   "metadata": {
    "collapsed": false
   },
   "outputs": [],
   "source": [
    "# Find indices in box.\n",
    "import numpy as np\n",
    "\n",
    "\n",
    "inbox = np.logical_and(np.logical_and(lonf >= ax2[0],\n",
    "                                      lonf <= ax2[1]),\n",
    "                       np.logical_and(latf >= ax2[2],\n",
    "                                      latf <= ax2[3]))\n",
    "\n",
    "lon = lonf[inbox]\n",
    "lat = latf[inbox]"
   ]
  },
  {
   "cell_type": "code",
   "execution_count": null,
   "metadata": {
    "collapsed": false
   },
   "outputs": [],
   "source": [
    "import os.path\n",
    "from scipy.io import loadmat\n",
    "\n",
    "#mat = os.path.join('..', 't_tide_v1.3beta', 't_constituents.mat')\n",
    "mat = 't_constituents.mat'\n",
    "con_info = loadmat(mat, squeeze_me=True)\n",
    "con_info = con_info['const']  # I am ignore shallow water and sat constants!"
   ]
  },
  {
   "cell_type": "code",
   "execution_count": null,
   "metadata": {
    "collapsed": false,
    "scrolled": true
   },
   "outputs": [],
   "source": [
    "from utide import _ut_constants_fname\n",
    "from utide.utilities import loadmatbunch\n",
    "\n",
    "con_info = loadmatbunch(_ut_constants_fname)['const']"
   ]
  },
  {
   "cell_type": "code",
   "execution_count": null,
   "metadata": {
    "collapsed": false
   },
   "outputs": [],
   "source": [
    "# Find the indices of the tidal constituents.\n",
    "\n",
    "k = 0\n",
    "ind_nc, ind_ttide = [], []\n",
    "\n",
    "const_name = [e.strip() for e in con_info['name'].tolist()]\n",
    "\n",
    "for name in consts:\n",
    "    try:\n",
    "        if name == 'STEADY':\n",
    "            indx = const_name.index('Z0')\n",
    "        else:\n",
    "            indx = const_name.index(name)\n",
    "        k += 1\n",
    "        ind_ttide.append(indx)\n",
    "        ind_nc.append(names.index(name))\n",
    "    except ValueError:\n",
    "        pass  # `const` not found."
   ]
  },
  {
   "cell_type": "code",
   "execution_count": null,
   "metadata": {
    "collapsed": false
   },
   "outputs": [],
   "source": [
    "ua = cubes.extract_strict('Eastward Water Velocity Amplitude')\n",
    "up = cubes.extract_strict('Eastward Water Velocity Phase')\n",
    "va = cubes.extract_strict('Northward Water Velocity Amplitude')\n",
    "vp = cubes.extract_strict('Northward Water Velocity Phase')"
   ]
  },
  {
   "cell_type": "code",
   "execution_count": null,
   "metadata": {
    "collapsed": false
   },
   "outputs": [],
   "source": [
    "ua.shape"
   ]
  },
  {
   "cell_type": "code",
   "execution_count": null,
   "metadata": {
    "collapsed": false
   },
   "outputs": [],
   "source": [
    "uamp = ua.data[0, inbox, :][:, ind_nc]\n",
    "vamp = va.data[0, inbox, :][:, ind_nc]\n",
    "upha = up.data[0, inbox, :][:, ind_nc]\n",
    "vpha = vp.data[0, inbox, :][:, ind_nc]"
   ]
  },
  {
   "cell_type": "code",
   "execution_count": null,
   "metadata": {
    "collapsed": false
   },
   "outputs": [],
   "source": [
    "freq_nc = frequency[ind_nc]"
   ]
  },
  {
   "cell_type": "code",
   "execution_count": null,
   "metadata": {
    "collapsed": false
   },
   "outputs": [],
   "source": [
    "freq_ttide = con_info['freq'][ind_ttide]"
   ]
  },
  {
   "cell_type": "code",
   "execution_count": null,
   "metadata": {
    "collapsed": false
   },
   "outputs": [],
   "source": [
    "t_tide_names = np.array(const_name)[ind_ttide]"
   ]
  },
  {
   "cell_type": "code",
   "execution_count": null,
   "metadata": {
    "collapsed": false
   },
   "outputs": [],
   "source": [
    "omega_ttide = 2*np.pi * freq_ttide  # Convert from radians/s to radians/hour.\n",
    "\n",
    "omega = freq_nc * 3600\n",
    "\n",
    "rllat = 55  # Reference latitude for 3rd order satellites (degrees) (55 is fine always)\n",
    "\n",
    "vscale = 10  # smaller makes arrows bigger"
   ]
  },
  {
   "cell_type": "code",
   "execution_count": null,
   "metadata": {
    "collapsed": false
   },
   "outputs": [],
   "source": [
    "from matplotlib.dates import date2num\n",
    "\n",
    "# Convert to Matlab datenum.\n",
    "# (Soon UTide will take python datetime objects.)\n",
    "jd_start = date2num(start) + 366.1667"
   ]
  },
  {
   "cell_type": "code",
   "execution_count": null,
   "metadata": {
    "collapsed": false
   },
   "outputs": [],
   "source": [
    "from utide.harmonics import FUV\n",
    "\n",
    "\n",
    "# NB: I am not a 100% sure if this is identical to what we had with t_tide.\n",
    "# ngflgs -> [NodsatLint NodsatNone GwchLint GwchNone]\n",
    "v, u, f = FUV(t=np.array([jd_start]), tref=np.array([0]),\n",
    "              lind=np.array([ind_ttide]),\n",
    "              lat=rllat, ngflgs=[0, 0, 0, 0])"
   ]
  },
  {
   "cell_type": "code",
   "execution_count": null,
   "metadata": {
    "collapsed": false
   },
   "outputs": [],
   "source": [
    "# Convert phase in radians.\n",
    "v, u, f = map(np.squeeze, (v, u, f))\n",
    "v = v * 2 * np.pi\n",
    "u = u * 2 * np.pi\n",
    "\n",
    "thours = np.array([d.total_seconds() for d in\n",
    "                   (glocals - glocals[0])]) / 60 / 60."
   ]
  },
  {
   "cell_type": "code",
   "execution_count": null,
   "metadata": {
    "collapsed": true
   },
   "outputs": [],
   "source": [
    "import mplleaflet\n",
    "import matplotlib.pyplot as plt"
   ]
  },
  {
   "cell_type": "code",
   "execution_count": null,
   "metadata": {
    "collapsed": true
   },
   "outputs": [],
   "source": [
    "import json"
   ]
  },
  {
   "cell_type": "code",
   "execution_count": null,
   "metadata": {
    "collapsed": false
   },
   "outputs": [],
   "source": [
    "fig = plt.figure(figsize=(10,5))\n",
    "U = (f * uamp * np.cos(v + thours[k] * omega + u - upha * np.pi/180)).sum(axis=1)\n",
    "V = (f * vamp * np.cos(v + thours[k] * omega + u - vpha * np.pi/180)).sum(axis=1)\n",
    "\n",
    "w = units['knots'] * (U + 1j * V)\n",
    "\n",
    "wf = np.NaN * np.ones_like(lonf, dtype=w.dtype)\n",
    "wf[inbox] = w\n",
    "\n",
    "# FIXME: Cannot use masked arrays and tricontour!\n",
    "# wf = ma.masked_invalid(wf)\n",
    "# cs = ax.tricontour(lonf, latf, trif, np.abs(wf).filled(fill_value=0))\n",
    "# fig.colorbar(cs)\n",
    "q = plt.quiver(lon, lat, U, V, scale=vscale, color='white')\n",
    "plt.axis(bbox)  # Vineyard sound 2.\n",
    "#q.set_title('{}'.format(glocals[k]))\n",
    "mplleaflet.display(fig=fig, tiles='esri_aerial')"
   ]
  },
  {
   "cell_type": "code",
   "execution_count": null,
   "metadata": {
    "collapsed": false
   },
   "outputs": [],
   "source": [
    "js = mplleaflet.fig_to_geojson(fig=fig)\n",
    "with open(\"test.json\", \"w\") as outfile:\n",
    "    json.dump(js, outfile, indent=4)"
   ]
  },
  {
   "cell_type": "code",
   "execution_count": null,
   "metadata": {
    "collapsed": false
   },
   "outputs": [],
   "source": [
    "%matplotlib inline\n",
    "\n",
    "import matplotlib.pyplot as plt\n",
    "from JSAnimation import IPython_display\n",
    "from matplotlib.animation import FuncAnimation\n",
    "\n",
    "def update_figure(k):\n",
    "    global ax, fig\n",
    "    ax.cla()\n",
    "    \n",
    "    U = (f * uamp * np.cos(v + thours[k] * omega + u - upha * np.pi/180)).sum(axis=1)\n",
    "    V = (f * vamp * np.cos(v + thours[k] * omega + u - vpha * np.pi/180)).sum(axis=1)\n",
    "    \n",
    "    w = units['knots'] * (U + 1j * V)\n",
    "    \n",
    "    wf = np.NaN * np.ones_like(lonf, dtype=w.dtype)\n",
    "    wf[inbox] = w\n",
    "\n",
    "    # FIXME: Cannot use masked arrays and tricontour!\n",
    "    # wf = ma.masked_invalid(wf)\n",
    "    # cs = ax.tricontour(lonf, latf, trif, np.abs(wf).filled(fill_value=0))\n",
    "    # fig.colorbar(cs)\n",
    "    q = ax.quiver(lon, lat, U, V, scale=vscale)\n",
    "    ax.axis(bbox)  # Vineyard sound 2.\n",
    "    ax.set_title('{}'.format(glocals[k]))\n",
    "\n",
    "fig, ax = plt.subplots(figsize=(10, 5))\n",
    "FuncAnimation(fig, update_figure, interval=100, frames=ntimes)"
   ]
  },
  {
   "cell_type": "code",
   "execution_count": null,
   "metadata": {
    "collapsed": true
   },
   "outputs": [],
   "source": []
  },
  {
   "cell_type": "code",
   "execution_count": null,
   "metadata": {
    "collapsed": true
   },
   "outputs": [],
   "source": []
  }
 ],
 "metadata": {
  "gist_id": "ab5133b7feecba1dfacd",
  "kernelspec": {
   "display_name": "Python 2",
   "language": "python",
   "name": "python2"
  },
  "language_info": {
   "codemirror_mode": {
    "name": "ipython",
    "version": 2
   },
   "file_extension": ".py",
   "mimetype": "text/x-python",
   "name": "python",
   "nbconvert_exporter": "python",
   "pygments_lexer": "ipython2",
   "version": "2.7.10"
  }
 },
 "nbformat": 4,
 "nbformat_minor": 0
}
