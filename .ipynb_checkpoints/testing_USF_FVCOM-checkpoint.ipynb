{
 "metadata": {
  "name": "",
  "signature": "sha256:15de34de0333108edf9938971845f1df15ce4930d98d721f0c2c63dab49eedff"
 },
 "nbformat": 3,
 "nbformat_minor": 0,
 "worksheets": [
  {
   "cells": [
    {
     "cell_type": "code",
     "collapsed": false,
     "input": [
      "import iris\n",
      "iris.FUTURE.netcdf_promote = True\n",
      "\n",
      "#url = 'http://geoport.whoi.edu/thredds/dodsC/usgs/data2/rsignell/usf_fvcom.ncml'\n",
      "url = 'http://crow.marine.usf.edu:8080/thredds/dodsC/FVCOM-Nowcast-Agg.nc'\n",
      "cubes = iris.load_raw(url)\n",
      "\n",
      "cube = cubes.extract_strict('sea_surface_height_above_geoid')\n",
      "\n",
      "print(cube)"
     ],
     "language": "python",
     "metadata": {},
     "outputs": [
      {
       "output_type": "stream",
       "stream": "stdout",
       "text": [
        "sea_surface_height_above_geoid / (meters) (-- : 41688; -- : 51391)\n",
        "     Auxiliary coordinates:\n",
        "          time                                x           -\n",
        "          latitude                            -           x\n",
        "          longitude                           -           x\n",
        "     Attributes:\n",
        "          Conventions: UGRID-0.9.0\n",
        "          CoordinateProjection: none\n",
        "          DODS.dimName: DateStrLen\n",
        "          DODS.strlen: 26\n",
        "          Metadata_Conventions: Unidata Dataset Discovery v1.0\n",
        "          cdm_data_type: any\n",
        "          contact: email: lzheng@mail.usf.edu  Tel: 727-553-1639\n",
        "          institute: USF College of Marine Science\n",
        "          location: node\n",
        "          mesh: fvcom_mesh\n",
        "          naming_authority: SECOORA\n",
        "          reference: http://fvcom.smast.umassd.edu\n",
        "          source: FVCOM v2.7 with modification by L. Zheng\n",
        "          standard_name_vocabulary: http://www.cgd.ucar.edu/cms/eaton/cf-metadata/standard_name.html\n",
        "          summary: Nowcast Aggregation for USF FVCOM\n",
        "          title: USF FVCOM - Nowcast Aggregation\n",
        "          type: data\n"
       ]
      }
     ],
     "prompt_number": 3
    },
    {
     "cell_type": "code",
     "collapsed": false,
     "input": [
      "cubes"
     ],
     "language": "python",
     "metadata": {},
     "outputs": [
      {
       "metadata": {},
       "output_type": "pyout",
       "prompt_number": 4,
       "text": [
        "[<iris 'Cube' of nodal x-coordinate / (meters) (-- : 51391)>,\n",
        "<iris 'Cube' of Itime / (days since 1858-11-17 00:00:00) (-- : 41688)>,\n",
        "<iris 'Cube' of sea_water_potential_temperature / (degrees_C) (-- : 41688; -- : 10; -- : 51391)>,\n",
        "<iris 'Cube' of Itime2 / (unknown) (-- : 41688)>,\n",
        "<iris 'Cube' of zonal x-coordinate / (meters) (-- : 98818)>,\n",
        "<iris 'Cube' of sigma levels / (unknown) (-- : 11; -- : 51391)>,\n",
        "<iris 'Cube' of Times / (no_unit) (-- : 41688; -- : 64)>,\n",
        "<iris 'Cube' of Upward Water Velocity / (meters s-1) (-- : 41688; -- : 10; -- : 98818)>,\n",
        "<iris 'Cube' of nodal y-coordinate / (meters) (-- : 51391)>,\n",
        "<iris 'Cube' of eastward_sea_water_velocity / (meters s-1) (-- : 41688; -- : 10; -- : 98818)>,\n",
        "<iris 'Cube' of northward_sea_water_velocity / (meters s-1) (-- : 41688; -- : 10; -- : 98818)>,\n",
        "<iris 'Cube' of internal mode iteration number / (unknown) (-- : 41688)>,\n",
        "<iris 'Cube' of sea_floor_depth_below_geoid / (m) (-- : 98818)>,\n",
        "<iris 'Cube' of sea_water_salinity / (0.001) (-- : 41688; -- : 10; -- : 51391)>,\n",
        "<iris 'Cube' of zonal y-coordinate / (meters) (-- : 98818)>,\n",
        "<iris 'Cube' of nodes surrounding element / (unknown) (-- : 3; -- : 98818)>,\n",
        "<iris 'Cube' of latitude / (degrees) (-- : 51391)>,\n",
        "<iris 'Cube' of ocean_sigma_coordinate / (unknown) (-- : 10; -- : 51391)>,\n",
        "<iris 'Cube' of sea_surface_height_above_geoid / (meters) (-- : 41688; -- : 51391)>,\n",
        "<iris 'Cube' of longitude / (degrees) (-- : 51391)>]"
       ]
      }
     ],
     "prompt_number": 4
    },
    {
     "cell_type": "code",
     "collapsed": false,
     "input": [],
     "language": "python",
     "metadata": {},
     "outputs": [],
     "prompt_number": 2
    }
   ],
   "metadata": {}
  }
 ]
}