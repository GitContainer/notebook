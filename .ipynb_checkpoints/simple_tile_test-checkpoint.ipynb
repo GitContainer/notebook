{
 "metadata": {
  "name": "",
  "signature": "sha256:2de2e74cd552920eb0d485261b1dbf6923c819c522eed83ee6796940fb515ff7"
 },
 "nbformat": 3,
 "nbformat_minor": 0,
 "worksheets": [
  {
   "cells": [
    {
     "cell_type": "code",
     "collapsed": false,
     "input": [
      "import matplotlib.pyplot as plt\n",
      "import cartopy.crs as ccrs\n",
      "from cartopy.io.img_tiles import GoogleTiles\n",
      "%matplotlib inline"
     ],
     "language": "python",
     "metadata": {},
     "outputs": [],
     "prompt_number": 2
    },
    {
     "cell_type": "code",
     "collapsed": false,
     "input": [
      "\n",
      "# Specify a region of interest, in this case, Sudelfeld Ski Resort (Germany)\n",
      "lat = 47 + 40 / 60.0 + 30 / 3600.\n",
      "lon = 12 + 3 / 60.0 + 2 / 3600.\n",
      "\n",
      "plt.figure(figsize=(10, 10))\n",
      "ax = plt.subplot(111, projection=ccrs.PlateCarree())\n",
      "ax.set_extent([12.0, 13.0, 47.0, 48.0])\n",
      "gg_tiles = GoogleTiles()\n",
      "ax.add_image(gg_tiles, 10)\n",
      "\n",
      "plt.scatter(lon, lat, marker=(5, 1), color='red', s=200)\n",
      "plt.title(\"Welcome to Sudelfeld\")\n",
      "gl = ax.gridlines(draw_labels=True,)\n",
      "gl.xlabels_top = False\n",
      "gl.ylabels_left = False\n",
      "\n"
     ],
     "language": "python",
     "metadata": {},
     "outputs": []
    },
    {
     "cell_type": "code",
     "collapsed": false,
     "input": [],
     "language": "python",
     "metadata": {},
     "outputs": []
    }
   ],
   "metadata": {}
  }
 ]
}