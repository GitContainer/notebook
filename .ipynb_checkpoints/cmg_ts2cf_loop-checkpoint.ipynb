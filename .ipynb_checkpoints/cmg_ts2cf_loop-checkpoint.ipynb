{
 "metadata": {
  "gist_id": "bc431264273be627a4f5",
  "name": "",
  "signature": "sha256:45f710d66ea52ec67e6cd94e63f19b917ecf213bb0a6babdf9883c994cb4f612"
 },
 "nbformat": 3,
 "nbformat_minor": 0,
 "worksheets": [
  {
   "cells": [
    {
     "cell_type": "markdown",
     "metadata": {},
     "source": [
      "#Convert existing time series NetCDF files in 4D (T,Z,Y,X) \"grid\" format to CF-1.6 format"
     ]
    },
    {
     "cell_type": "markdown",
     "metadata": {},
     "source": [
      "All the USGS time series data has traditionally been stored in PMEL EPIC-compliant NetCDF files.  These files use EPIC codes for "
     ]
    },
    {
     "cell_type": "code",
     "collapsed": false,
     "input": [
      "import glob\n",
      "import os\n",
      "import netCDF4\n",
      "import StringIO\n",
      "import pandas as pd\n",
      "import re"
     ],
     "language": "python",
     "metadata": {},
     "outputs": [],
     "prompt_number": 74
    },
    {
     "cell_type": "code",
     "collapsed": false,
     "input": [
      "projs = '''\n",
      "ARGO_MERCHANT:B. Butman:Argo Merchant Experiment:A moored array deployed after the ARGO MERCHANT ran aground onNantucket Shoals designed to help understand the fate of the spilled oil.\n",
      "BUZZ_BAY:B. Butman:Currents and Sediment Transport in Buzzards Bay:Investigation of the near-bottom circulation in Buzzards Bay and consequent transport of fine-grained sediments that may be contaminated with PCBs from inner New Bedford Harbor.\n",
      "CAMP:B. Butman:California Area Monitoring Program (CAMP):A four-year multi-disciplinary field and laboratory study to investigate the sediment transport regime in the vicinity of production drilling rigs in the Santa Barbara Basin\n",
      "CAPE_COD_BAY:B. Butman:Currents and Sediment Transport in Cape Cod Bay:A pilot study to determine the effect of winter storms on sediment movement at two potential dredge spoil disposal areas.\n",
      "CC_MISC:B. Butman:Transport studies - Nauset Inlet:Part of a collaborative study of sediment movement in Nauset Inlet.\n",
      "DEEP_REEF:J. Lacey:Gulf of Mexico - Pinnacles:Pressure data from the Gulf of Mexico\n",
      "DWDS_106:B. Butman:Sediment Transport at Deep Water Dump Site 106:Near-bottom current measurements to understand the fate and transport of sludge from the New York Metropolitan region discharged at the sea surface.\n",
      "ECOHAB_II:R. Signell:Ecology of Harmful Algal Blooms (ECOHAB-II):A field program to continue investigating the transport and fate of toxic dinoflagellate blooms in the western Gulf of Maine.\n",
      "ECOHAB_I:R. Signell:Ecology of Harmful Algal Blooms (ECOHAB-I):A field program to study the transport and fate of toxic dinoflagellate blooms in the western Gulf of Maine.\n",
      "EUROSTRATAFORM:C. Sherwood:EuroSTRATAFORM:The EuroSTRATAFORM Po and Apennine Sediment Transport and Accumulation (PASTA) experiment was an international study of sediment-transport processes and formation of geological strata in the Adriatic Sea.\n",
      "FARALLONES:M. Noble:Farallons:Program to measure the currents and circulation on the continental slope off San Francisco CA and thus infer the transport of dredged materialat the newly-established deep-water disposal site.\n",
      "GB_SED:B. Butman:Georges Bank Current and Sediment Transport Studies:A series of studies to assess environmental hazards to petroleum development in the Georges Bank and New England Shelf region\n",
      "GLOBEC_GB:R. Schlitz:GLOBEC Georges Bank Program:A moored array program to investigate the circulation and mixing of plankton on Georges Bank.\n",
      "GLOBEC_GSC:R. Schlitz:GLOBEC Great South Channel Circulation Experiment:A moored array program to investigate the recirculation of water and plankton around Georges Bank\n",
      "GULF_MAINE:B. Butman:Deep Circulation in the Gulf of Maine:A two-year field study to investigate the deep flow between the major basins in the Gulf of Maine and the effects on the distribution of suspended sediments.\n",
      "HUDSON_SVALLEY:B. Butman:Circulation and Sediment Transport in the Hudson Shelf Valley:Field experiments have been carried out to understand the transport of sediments and associated contaminants in the Hudson Shelf Valley offshore of New York.\n",
      "KARIN_RIDGE:M. Noble:Karin Ridge Experiment:Current measurements collected at 2 sites in Karin Ridge Seamount.\n",
      "LYDONIA_C:B. Butman:Lydonia Canyon Dynamics Experiment:A major field experiment to determine the importance of submarine canyons in sediment transport along and across the continental margin.\n",
      "MAB_SED:B. Butman:Sediment Transport Observations in the Middle Atlantic Bight:A series of studies to assess environmental hazards to petroleum development in the Middle Atlantic Bight. \n",
      "MAMALA_BAY:D. Cacchione:Mamala bay Experiment:Current measurements collected at 350-450 meters in Mamala Bay near Waikiki Beach. \n",
      "MBAY_CIRC:R. Signell: Massachusetts Bay Circulation Experiment:Current measurements collected at 6 sites in Massachusetts Bay throughout the year to map the tidal wind and density driven currents. \n",
      "MBAY_IWAVE:B. Butman:Massachusetts Bay Internal Wave Experiment:A 1-month 4-element moored array experiment to measure the currents associated with large-amplitude internal waves generated by tidal flow across Stellwagen Bank.\n",
      "MBAY_LTB:B. Butman:Long-term observations in Massachusetts Bay; Site B-Scituate:Measurements of currents and other oceanographic properties were made to assess the impact of sewage discharge from the proposed outfall site.\n",
      "MBAY_LT:B. Butman:Long-term observations in Massachusetts Bay; Site A-Boston Harbor:Measurements of currents and other oceanographic properties were made to assess the impact of sewage discharge from the proposed outfall site.\n",
      "MBAY_STELL:R. Signell:Monitoring on Stellwagen Bank:A year-long series of current measurements on the eastern flank of Stellwagen Bank to document the currents at the mouth of Massachusetts Bay driven by the Maine Coastal current.\n",
      "MBAY_WEST:B. Butman:Currents and Sediment Transport in Western Massachusetts Bay:A pilot winter-time experiment to investigate circulation and sediment transport. Designed to provide information to aid in citing the new ocean outfall for the Boston sewer system.\n",
      "MOBILE_BAY:B. Butman:Mobile Bay Study:Measure currents and transport out of Mobile Bay.\n",
      "MONTEREY_BAY:M. Noble:Monterey Bay National Marine Sanctuary Program:Part of a large multi-disciplinary experiment to characterize the geologic environment and to generate a sediment budget.\n",
      "MONTEREY_CAN:M. Noble:Monterey Canyon Experiment: A program to determine the mechanisms that govern the circulation within and the transport of sediment and water through Monterey Submarine Canyon.\n",
      "MYRTLEBEACH:J. Warner:Myrtle Beach Experiment SC:Measurements collected as part of a larger study to understand the physical processes that control the transport of sediments in Long Bay South Carolina. \n",
      "NE_SLOPE:B. Butman:Currents on the New England Continental Slope:A study designed to describe the currents and to investigate the transport of sediment from the shelf to the slope. \n",
      "OCEANOG_C:B. Butman:Oceanographer Canyon Dynamics Experiment:A field experiment to determine the importance of submarine canyons in sediment transport along and across the continental margin.\n",
      "ORANGE_COUNTY:M. Noble:Orange County Sanitation District Studies:Observations to monitor coastal ocean process that transport suspended material and associated comtaminants across the shelf\n",
      "PONCHARTRAIN:R. Signell:Lake Ponchartrain Project:A series of moored array studies to investigate the circulation and particle transport in Lake Pontchartrain.\n",
      "PV_SHELF04:M. Noble:Palos Verdes Shelf 2004:Additional observations to estimate the quantity and direction of sediment erosion and transport on the shelf near the White Point ocean outfalls.\n",
      "PV_SHELF07:M. Noble:Palos Verdes Shelf 2007:Follow-up observations to evaluate how often coastal ocean processes move the DDT contaminated sediments near the White Point ocean outfalls.\n",
      "PV_SHELF:M. Noble:Palos Verdes Shelf Study:Initial observations of currents and circulation near the White Point ocean outfalls determine how often coastal ocean processes move the DDT contaminated sediments in this region.\n",
      "SAB_SED:B. Butman:Sediment Transport Observations in the Southern Atlantic Bight:A series of studies to assess environmental hazards to petroleum development in the South Atlantic Bight.\n",
      "SOUTHERN_CAL:M. Noble:Southern California Project:A series of moorings were deployed to understand how coastal ocean processes that move sediments change with location on the shelf.\n",
      "STRESS:B. Butman:Sediment Transport on Shelves and Slopes (STRESS):Experiment on the California continental margin to investigate storm-driven sediment transport.\n",
      "WRIGHTSVILLE:R. Thieler:Wrightsville Beach Study: Measurements of bottom currents and waves to investigate the flow field and sediment transport in a rippled scour depression offshore of Wrightsville Beach NC.\n",
      "DIAMONDSHOALS:J. Warner:Cape Hatteras- Diamond Shoals:This experiment was designed to investigate the ocean circulation and sediment transport dynamics at Diamond Shoals NC.\n",
      "CHANDELEUR:C. Sherwood:Chandeleur Islands Oceanographic Measurements:A program to measure waves water levels and currents near the Chandeleur Islands Louisiana and adjacent berm construction site.\n",
      "WFAL:N. Ganju:West Falmouth Harbor Fluxes:Oceanographic and water-quality observations made at six locations in West Falmouth Harbor and Buzzards Bay.\n",
      "BW2011:N. Ganju: Blackwater 2011: Oceanographic and Water-Quality Measurements made at several sites in 2 watersheds in Blackwater National Wildlife Refuge.\n",
      "MVCO_11:C. Sherwood: OASIS MVCO 2011: Near-seabed Oceanographic Observations made as part of the 2011 OASIS Project at the MVCO.\n",
      "HURRIRENE_BB:B. Butman: Observations in Buzzards Bay during and after a Hurricane: Oceanographic data collected in Buzzards Bay MA during Hurricane Irene August 2011.\n",
      "FI12:J. Warner:Fire Island NY - Offshore: Oceanographic and meteorological observations were made at 7 sites on and around the sand ridges offshore of Fire Island NY in winter 2012 to study coastal processes.\n",
      "BARNEGAT:N. Ganju:Light attenuation and sediment resuspension in Barnegat Bay New Jersey: Light attenuation is a critical parameter governing the ecological function of shallow estuaries.  Near-bottom and mid-water observations of currents, pressure, chlorophyll, and fDOM were collected at three pairs of sites sequentially at different locations in the estuary to characterize the conditions.\n",
      "'''"
     ],
     "language": "python",
     "metadata": {},
     "outputs": [],
     "prompt_number": 81
    },
    {
     "cell_type": "code",
     "collapsed": false,
     "input": [
      "project = pd.read_csv(StringIO.StringIO(projs.strip()), \n",
      "                      sep=':',index_col='project_id',\n",
      "                      names=['project_id', 'project_pi', 'project_name','project_summary'])"
     ],
     "language": "python",
     "metadata": {},
     "outputs": [],
     "prompt_number": 82
    },
    {
     "cell_type": "code",
     "collapsed": false,
     "input": [
      "project.head()"
     ],
     "language": "python",
     "metadata": {},
     "outputs": [
      {
       "html": [
        "<div style=\"max-height:1000px;max-width:1500px;overflow:auto;\">\n",
        "<table border=\"1\" class=\"dataframe\">\n",
        "  <thead>\n",
        "    <tr style=\"text-align: right;\">\n",
        "      <th></th>\n",
        "      <th>project_pi</th>\n",
        "      <th>project_name</th>\n",
        "      <th>project_summary</th>\n",
        "    </tr>\n",
        "    <tr>\n",
        "      <th>project_id</th>\n",
        "      <th></th>\n",
        "      <th></th>\n",
        "      <th></th>\n",
        "    </tr>\n",
        "  </thead>\n",
        "  <tbody>\n",
        "    <tr>\n",
        "      <th>ARGO_MERCHANT</th>\n",
        "      <td> B. Butman</td>\n",
        "      <td>                        Argo Merchant Experiment</td>\n",
        "      <td> A moored array deployed after the ARGO MERCHAN...</td>\n",
        "    </tr>\n",
        "    <tr>\n",
        "      <th>BUZZ_BAY</th>\n",
        "      <td> B. Butman</td>\n",
        "      <td> Currents and Sediment Transport in Buzzards Bay</td>\n",
        "      <td> Investigation of the near-bottom circulation i...</td>\n",
        "    </tr>\n",
        "    <tr>\n",
        "      <th>CAMP</th>\n",
        "      <td> B. Butman</td>\n",
        "      <td>       California Area Monitoring Program (CAMP)</td>\n",
        "      <td> A four-year multi-disciplinary field and labor...</td>\n",
        "    </tr>\n",
        "    <tr>\n",
        "      <th>CAPE_COD_BAY</th>\n",
        "      <td> B. Butman</td>\n",
        "      <td> Currents and Sediment Transport in Cape Cod Bay</td>\n",
        "      <td> A pilot study to determine the effect of winte...</td>\n",
        "    </tr>\n",
        "    <tr>\n",
        "      <th>CC_MISC</th>\n",
        "      <td> B. Butman</td>\n",
        "      <td>                Transport studies - Nauset Inlet</td>\n",
        "      <td> Part of a collaborative study of sediment move...</td>\n",
        "    </tr>\n",
        "  </tbody>\n",
        "</table>\n",
        "</div>"
       ],
       "metadata": {},
       "output_type": "pyout",
       "prompt_number": 84,
       "text": [
        "              project_pi                                     project_name  \\\n",
        "project_id                                                                  \n",
        "ARGO_MERCHANT  B. Butman                         Argo Merchant Experiment   \n",
        "BUZZ_BAY       B. Butman  Currents and Sediment Transport in Buzzards Bay   \n",
        "CAMP           B. Butman        California Area Monitoring Program (CAMP)   \n",
        "CAPE_COD_BAY   B. Butman  Currents and Sediment Transport in Cape Cod Bay   \n",
        "CC_MISC        B. Butman                 Transport studies - Nauset Inlet   \n",
        "\n",
        "                                                 project_summary  \n",
        "project_id                                                        \n",
        "ARGO_MERCHANT  A moored array deployed after the ARGO MERCHAN...  \n",
        "BUZZ_BAY       Investigation of the near-bottom circulation i...  \n",
        "CAMP           A four-year multi-disciplinary field and labor...  \n",
        "CAPE_COD_BAY   A pilot study to determine the effect of winte...  \n",
        "CC_MISC        Part of a collaborative study of sediment move...  "
       ]
      }
     ],
     "prompt_number": 84
    },
    {
     "cell_type": "code",
     "collapsed": false,
     "input": [
      "project.ix['PV_SHELF'].project_pi"
     ],
     "language": "python",
     "metadata": {},
     "outputs": [
      {
       "metadata": {},
       "output_type": "pyout",
       "prompt_number": 85,
       "text": [
        "'M. Noble'"
       ]
      }
     ],
     "prompt_number": 85
    },
    {
     "cell_type": "code",
     "collapsed": false,
     "input": [
      "len(project)"
     ],
     "language": "python",
     "metadata": {},
     "outputs": []
    },
    {
     "cell_type": "heading",
     "level": 2,
     "metadata": {},
     "source": [
      "Process only these projects:"
     ]
    },
    {
     "cell_type": "code",
     "collapsed": false,
     "input": [
      "proj=project.ix[['FI12','BARNEGAT','WFAL']]"
     ],
     "language": "python",
     "metadata": {},
     "outputs": [],
     "prompt_number": 88
    },
    {
     "cell_type": "code",
     "collapsed": false,
     "input": [
      "len(proj)"
     ],
     "language": "python",
     "metadata": {},
     "outputs": [
      {
       "metadata": {},
       "output_type": "pyout",
       "prompt_number": 89,
       "text": [
        "3"
       ]
      }
     ],
     "prompt_number": 89
    },
    {
     "cell_type": "code",
     "collapsed": false,
     "input": [
      "for index,row in proj.iterrows():\n",
      "    print index,row['project_pi']"
     ],
     "language": "python",
     "metadata": {},
     "outputs": [
      {
       "output_type": "stream",
       "stream": "stdout",
       "text": [
        "FI12 J. Warner\n",
        "BARNEGAT N. Ganju\n",
        "WFAL N. Ganju\n"
       ]
      }
     ],
     "prompt_number": 90
    },
    {
     "cell_type": "code",
     "collapsed": false,
     "input": [
      "\"\"\" this is Ellyn's old Matlab code:\n",
      "\n",
      "function nname=lookup_cf(long_name)\n",
      "% LOOKUP_CF  Get CF equivalent name for EPIC variable long_name\n",
      "% return the new name string or [] if there's no equivalent\n",
      "%\n",
      "\n",
      "if(strfind(lower(long_name),'temp'))\n",
      "    nname='sea_water_temperature';\n",
      "elseif (strfind(lower(long_name),'cond'))\n",
      "    nname='sea_water_electrical_conductivity';\n",
      "elseif (strfind(lower(long_name),'sal'))\n",
      "    nname='sea_water_salinity';\n",
      "elseif (strfind(lower(long_name),'sigma'))\n",
      "    nname='sea_water_sigma_theta';\n",
      "% also have to deal with the min, max std of vels for burst stats files\n",
      "elseif (strfind(lower(long_name),'east'))\n",
      "    nname='eastward_sea_water_velocity';\n",
      "elseif (strfind(lower(long_name),'north'))\n",
      "    nname='northward_sea_water_velocity';\n",
      "elseif (strfind(lower(long_name),'vertical'))\n",
      "    nname='upward_sea_water_velocity';\n",
      "elseif (strfind(lower(long_name),'pitch'))\n",
      "    nname='platform_pitch_angle';\n",
      "elseif (strfind(lower(long_name),'roll'))\n",
      "    nname='platform_roll_angle';\n",
      "elseif (strfind(lower(long_name),'head'))\n",
      "    nname='platform_orientation';\n",
      "elseif (strfind(lower(long_name),'pres'))\n",
      "    if ~isempty(strfind(lower(long_name),'dev')) || ~isempty(strfind(lower(long_name),'std'))\n",
      "        nname=[];\n",
      "    else\n",
      "       nname='sea_water_pressure';\n",
      "    end\n",
      "elseif (strfind(lower(long_name),'cond'))\n",
      "    nname='sea_water_electrical_conductivity';\n",
      "elseif (strfind(lower(long_name),'speed'))\n",
      "    if (strfind(lower(long_name),'rotor'))\n",
      "        nname=[];\n",
      "    else\n",
      "       nname='sea_water_speed';\n",
      "    end\n",
      "elseif (strfind(lower(long_name),'direction'))\n",
      "    nname='direction_of_sea_water_velocity';\n",
      "else\n",
      "    nname=[];\n",
      "end\n",
      "disp([long_name ' : ' nname])\n",
      "\"\"\";"
     ],
     "language": "python",
     "metadata": {},
     "outputs": [],
     "prompt_number": 91
    },
    {
     "cell_type": "code",
     "collapsed": false,
     "input": [
      "#os.chdir('/usgs/data2/emontgomery/stellwagen/Data/ARGO_MERCHANT')\n",
      "\n",
      "root_dir='/usgs/data2/emontgomery/stellwagen/Data/'\n",
      "#root_dir='/usgs/data2/emontgomery/stellwagen/Data/MVCO_11'\n",
      "odir='/usgs/data2/emontgomery/stellwagen/CF-1.6/'\n",
      "os.chdir(root_dir)"
     ],
     "language": "python",
     "metadata": {},
     "outputs": [],
     "prompt_number": 92
    },
    {
     "cell_type": "code",
     "collapsed": false,
     "input": [
      "# now find all the unique names, long_names & units\n",
      "names = set()\n",
      "long_names = set()\n",
      "units = set()\n",
      "epic_keys = set()\n",
      "for path, subdirs, files in os.walk(root_dir):\n",
      "    for name in files:\n",
      "        file= os.path.join(path, name)\n",
      "        try:\n",
      "            nc=netCDF4.Dataset(file)\n",
      "            for var in nc.variables.keys():\n",
      "                names.add(var)\n",
      "                try:\n",
      "                    long_names.add(nc.variables[var].long_name)\n",
      "                except:\n",
      "                    pass\n",
      "                try:\n",
      "                    units.add(nc.variables[var].units)\n",
      "                except:\n",
      "                    pass\n",
      "                try:\n",
      "                    epic_keys.add(nc.variables[var].epic_code)\n",
      "                except:\n",
      "                    pass\n",
      "                    \n",
      "        except:\n",
      "            pass"
     ],
     "language": "python",
     "metadata": {},
     "outputs": [],
     "prompt_number": 70
    },
    {
     "cell_type": "code",
     "collapsed": false,
     "input": [
      "names= list(names)\n",
      "long_names = list(long_names)\n",
      "units = list(units)\n",
      "epic_keys = list(epic_keys)"
     ],
     "language": "python",
     "metadata": {},
     "outputs": [],
     "prompt_number": 72
    },
    {
     "cell_type": "code",
     "collapsed": false,
     "input": [
      "print len(names)\n",
      "print len(long_names)\n",
      "print len(units)\n",
      "print len(epic_keys)"
     ],
     "language": "python",
     "metadata": {},
     "outputs": [
      {
       "output_type": "stream",
       "stream": "stdout",
       "text": [
        "509\n",
        "545\n",
        "153\n",
        "138\n"
       ]
      }
     ],
     "prompt_number": 73
    },
    {
     "cell_type": "code",
     "collapsed": false,
     "input": [
      "# let's use Ellyn's approach of matching substrings in the long_names to deduce standard_names"
     ],
     "language": "python",
     "metadata": {},
     "outputs": [],
     "prompt_number": 42
    },
    {
     "cell_type": "code",
     "collapsed": false,
     "input": [
      "# air temp, frtemp, laser temp factor, internal, temp diff\n",
      "filter(lambda x:re.search(r'temp',x.lower()), long_names)"
     ],
     "language": "python",
     "metadata": {},
     "outputs": [
      {
       "metadata": {},
       "output_type": "pyout",
       "prompt_number": 43,
       "text": [
        "[u'AIR TEMPERATURE (C)      ',\n",
        " u'instrument Transducer Temp.',\n",
        " u'Air Temperature (degrees C)',\n",
        " u'TEMPERATURE (C)          ',\n",
        " u'FR TEMP     ',\n",
        " u'ADP Transducer Temp.',\n",
        " u'ADCP Transducer Temp.',\n",
        " u'TEMPERATURE (C)',\n",
        " u'Transducer Temp.    ',\n",
        " u'laser temperature factor',\n",
        " u'Transducer Temp.',\n",
        " u'TEMP 1      ',\n",
        " u'TEMP 2      ',\n",
        " u'Temperature',\n",
        " u'internal temperature',\n",
        " u'FRTEMP      ',\n",
        " u'TEMP 2 Q    ',\n",
        " u'TEMP        ',\n",
        " u'TEMP DIFF   ',\n",
        " u'TEMP LP     ',\n",
        " u'Sea Surface Temperature (degrees C)',\n",
        " u'TEMPERATURE ']"
       ]
      }
     ],
     "prompt_number": 43
    },
    {
     "cell_type": "code",
     "collapsed": false,
     "input": [
      "# seconds, second\n",
      "filter(lambda x:re.search(r'cond',x.lower()), long_names)"
     ],
     "language": "python",
     "metadata": {},
     "outputs": [
      {
       "metadata": {},
       "output_type": "pyout",
       "prompt_number": 44,
       "text": [
        "[u'SPECIFIC CONDUCTANCE        ',\n",
        " u'CONDUCTIVITY             ',\n",
        " u'Specific conductance',\n",
        " u'SECONDS SINCE START',\n",
        " u'second',\n",
        " u'CONDUCTIVITY',\n",
        " u'SP COND     ',\n",
        " u'COND        ',\n",
        " u'CTD Conductivity       ',\n",
        " u'COND 2      ',\n",
        " u'COND 1      ']"
       ]
      }
     ],
     "prompt_number": 44
    },
    {
     "cell_type": "code",
     "collapsed": false,
     "input": [
      "filter(lambda x:re.search(r'sal',x.lower()), long_names)"
     ],
     "language": "python",
     "metadata": {},
     "outputs": [
      {
       "metadata": {},
       "output_type": "pyout",
       "prompt_number": 45,
       "text": [
        "[u'SALINITY 2 Q',\n",
        " u'SALINITY 1  ',\n",
        " u'CTD Salinity, PSS-78',\n",
        " u'Salinity',\n",
        " u'SALINITY 2  ',\n",
        " u'SALINITY (PPT)           ',\n",
        " u'SALINITY (PSU)           ',\n",
        " u'SALINITY    ']"
       ]
      }
     ],
     "prompt_number": 45
    },
    {
     "cell_type": "code",
     "collapsed": false,
     "input": [
      "filter(lambda x:re.search(r'sigma',x.lower()), long_names)"
     ],
     "language": "python",
     "metadata": {},
     "outputs": [
      {
       "metadata": {},
       "output_type": "pyout",
       "prompt_number": 46,
       "text": [
        "[u'SIGMA-THETA (KG/M**3) ',\n",
        " u'SIGMA-T (KG/M**3)        ',\n",
        " u'SIGMA-THETA (KG/M**3)    ',\n",
        " u'SIGMA THETA ']"
       ]
      }
     ],
     "prompt_number": 46
    },
    {
     "cell_type": "code",
     "collapsed": false,
     "input": [
      "# deal with burst data, std dev, resolution velocity, variance\n",
      "filter(lambda x:re.search(r'east',x.lower()), long_names)"
     ],
     "language": "python",
     "metadata": {},
     "outputs": [
      {
       "metadata": {},
       "output_type": "pyout",
       "prompt_number": 47,
       "text": [
        "[u'Eastward Velocity       ',\n",
        " u'Eastward Velocity',\n",
        " u'Ratio of variances for burst after points replaced by delgitch: Eastward Velocity',\n",
        " u'EAST        ',\n",
        " u'Maximum Eastward Velocity',\n",
        " u'Minimum Eastward Velocity',\n",
        " u'Eastward Resolution Velocity',\n",
        " u'Std. Dev. of east component',\n",
        " u'Ratio of means for burst after points replaced by delgitch: Eastward Velocity',\n",
        " u'EAST VELOCITY VARIANCE   ',\n",
        " u'Mean Eastward Velocity',\n",
        " u'Eastward Velocity        ',\n",
        " u'Eastward Velocity         ',\n",
        " u'EAST LP     ',\n",
        " u'EAST VELOCITY VARIANCE ',\n",
        " u'Mean Resolution VelocityEastward']"
       ]
      }
     ],
     "prompt_number": 47
    },
    {
     "cell_type": "code",
     "collapsed": false,
     "input": [
      "filter(lambda x:re.search(r'north',x.lower()), long_names)"
     ],
     "language": "python",
     "metadata": {},
     "outputs": [
      {
       "metadata": {},
       "output_type": "pyout",
       "prompt_number": 48,
       "text": [
        "[u'NORTH       ',\n",
        " u'Northward Velocity        ',\n",
        " u'Std. Dev. of north component',\n",
        " u'Peak Wave Direction (degrees North)',\n",
        " u'Wind Direction (degrees true North)',\n",
        " u'Ratio of means for burst after points replaced by delgitch: Northward Velocity',\n",
        " u'Minimum Northward Velocity',\n",
        " u'Maximum Northward Velocity',\n",
        " u'Peak Wave Direction (degrees true North)',\n",
        " u'Northward Velocity',\n",
        " u'Mean Wave Direction (degrees true North)',\n",
        " u'Mean Resolution VelocityNorthward',\n",
        " u'NORTH VELOCITY VARIANCE ',\n",
        " u'NORTH LP    ',\n",
        " u'Northward Resolution Velocity',\n",
        " u'Mean Northward Velocity',\n",
        " u'Ratio of variances for burst after points replaced by delgitch: Northward Velocity',\n",
        " u'Northward Velocity      ',\n",
        " u'Northward Velocity       ',\n",
        " u'NORTH VELOCITY VARIANCE  ']"
       ]
      }
     ],
     "prompt_number": 48
    },
    {
     "cell_type": "code",
     "collapsed": false,
     "input": [
      "filter(lambda x:re.search(r'vertical',x.lower()), long_names)"
     ],
     "language": "python",
     "metadata": {},
     "outputs": [
      {
       "metadata": {},
       "output_type": "pyout",
       "prompt_number": 49,
       "text": [
        "[u'Vertical Velocity    ',\n",
        " u'Vertical Velocity        ',\n",
        " u'Ratio of means for burst after points replaced by delgitch: Vertical Velocity',\n",
        " u'Vertical Resolution Velocity',\n",
        " u'Ratio of variances for burst after points replaced by delgitch: Vertical Velocity',\n",
        " u'Vertical Velocity',\n",
        " u'Maximum Vertical Velocity',\n",
        " u'Mean Resolution VelocityVertical',\n",
        " u'Vertical Velocity         ',\n",
        " u'Mean Vertical Velocity',\n",
        " u'Minimum Vertical Velocity']"
       ]
      }
     ],
     "prompt_number": 49
    },
    {
     "cell_type": "code",
     "collapsed": false,
     "input": [
      "# wind, rotor speed\n",
      "filter(lambda x:re.search(r'speed',x.lower()), long_names)"
     ],
     "language": "python",
     "metadata": {},
     "outputs": [
      {
       "metadata": {},
       "output_type": "pyout",
       "prompt_number": 50,
       "text": [
        "[u'WIND SPEED (CM/S)        ',\n",
        " u'ROTOR SPEED DIFFERENCE',\n",
        " u'ROTOR SPEED DIFFERENCE  ',\n",
        " u'Current Speed',\n",
        " u'UPPER ROTOR SPEED     ',\n",
        " u'Wind Speed (m/s)',\n",
        " u'CURRENT SPEED (CM/S)      ',\n",
        " u'LOWER ROTOR SPEED  ',\n",
        " u'CURRENT SPEED (CM/S)    ',\n",
        " u'VECTOR SPEED',\n",
        " u'LOWER ROTOR SPEED    ',\n",
        " u'WIND SPEED (M/S) ',\n",
        " u'WIND SPEED (CM/S) ',\n",
        " u'CURRENT SPEED (CM/S)       ',\n",
        " u'ROTOR SPEED             ',\n",
        " u'ROTOR SPEED ']"
       ]
      }
     ],
     "prompt_number": 50
    },
    {
     "cell_type": "code",
     "collapsed": false,
     "input": [
      "# std dev\n",
      "filter(lambda x:re.search(r'pitch',x.lower()), long_names)"
     ],
     "language": "python",
     "metadata": {},
     "outputs": [
      {
       "metadata": {},
       "output_type": "pyout",
       "prompt_number": 51,
       "text": [
        "[u'INST Pitch',\n",
        " u'Pitch Std. Dev.          ',\n",
        " u'Standard Deviation of INST Pitch',\n",
        " u'INST Pitch             ']"
       ]
      }
     ],
     "prompt_number": 51
    },
    {
     "cell_type": "code",
     "collapsed": false,
     "input": [
      "filter(lambda x:re.search(r'roll',x.lower()), long_names)"
     ],
     "language": "python",
     "metadata": {},
     "outputs": [
      {
       "metadata": {},
       "output_type": "pyout",
       "prompt_number": 52,
       "text": [
        "[u'Roll Std. Dev.             ',\n",
        " u'INST Roll             ',\n",
        " u'INST Roll',\n",
        " u'Standard Deviation of INST Roll']"
       ]
      }
     ],
     "prompt_number": 52
    },
    {
     "cell_type": "code",
     "collapsed": false,
     "input": [
      "# std dev\n",
      "filter(lambda x:re.search(r'heading',x.lower()), long_names)"
     ],
     "language": "python",
     "metadata": {},
     "outputs": [
      {
       "metadata": {},
       "output_type": "pyout",
       "prompt_number": 53,
       "text": [
        "[u'Median INST Heading             ',\n",
        " u'Heading Std. Dev.        ',\n",
        " u'INST Heading',\n",
        " u'INST Heading             ']"
       ]
      }
     ],
     "prompt_number": 53
    },
    {
     "cell_type": "code",
     "collapsed": false,
     "input": [
      "# std, dev, wave height spectra, barometric, presscheck\n",
      "pres = filter(lambda x:re.search(r'press',x.lower()), long_names)\n",
      "pres"
     ],
     "language": "python",
     "metadata": {},
     "outputs": [
      {
       "metadata": {},
       "output_type": "pyout",
       "prompt_number": 54,
       "text": [
        "[u'STAND.DEV.(PRESS)',\n",
        " u'Pressure at Transducer Head',\n",
        " u'Pressure',\n",
        " u'PRESSURE (PASCALS)',\n",
        " u'PRESSURE (DB)          ',\n",
        " u'STAND. DEV. (PRESS)     ',\n",
        " u'AVERAGE BURST PRESSURE   ',\n",
        " u'Bottom Pressure (psia)           ',\n",
        " u'BAROMETRIC PRESSURE (MB) ',\n",
        " u'AVERAGE BURST PRESSURE  ',\n",
        " u'Pressure-derived Non-directional Wave Height Spectrum (mm/sqrt(Hz))',\n",
        " u'STAND. DEV. (PRESS)    ',\n",
        " u'INTERVAL PRESSURE       ',\n",
        " u'Barometric Pressure (mbar)',\n",
        " u'PRESS       ',\n",
        " u'Barometric Pressure (mb)',\n",
        " u'ADCP Pressure at Transducer Head',\n",
        " u'AVERAGE RELATIVE PRESSURE',\n",
        " u'PRESSURE            ',\n",
        " u'Raw pressure Std. Dev.',\n",
        " u'PRESSCHECK  ',\n",
        " u'INTERVAL PRESSURE        ',\n",
        " u'PRESSURE    ']"
       ]
      }
     ],
     "prompt_number": 54
    },
    {
     "cell_type": "code",
     "collapsed": false,
     "input": [
      "filter(lambda x:re.search(r'std|dev',x.lower()), pres)"
     ],
     "language": "python",
     "metadata": {},
     "outputs": [
      {
       "metadata": {},
       "output_type": "pyout",
       "prompt_number": 55,
       "text": [
        "[u'STAND.DEV.(PRESS)',\n",
        " u'STAND. DEV. (PRESS)     ',\n",
        " u'STAND. DEV. (PRESS)    ',\n",
        " u'Raw pressure Std. Dev.']"
       ]
      }
     ],
     "prompt_number": 55
    },
    {
     "cell_type": "code",
     "collapsed": false,
     "input": [
      "# save only direction and current direction\n",
      "filter(lambda x:re.search(r'direct',x.lower()), long_names)"
     ],
     "language": "python",
     "metadata": {},
     "outputs": [
      {
       "metadata": {},
       "output_type": "pyout",
       "prompt_number": 56,
       "text": [
        "[u'beginning of first direction slice, degrees',\n",
        " u'Surface-derived Non-directional Wave Height Spectrum (mm/sqrt(Hz))',\n",
        " u'Direction (degrees)',\n",
        " u'Peak Wave Direction (degrees North)',\n",
        " u'Wind Direction (degrees true North)',\n",
        " u'V  DIRECTION',\n",
        " u'Peak Wave Direction (degrees true North)',\n",
        " u'CURRENT DIRECTION (T)      ',\n",
        " u'WIND DIRECTION           ',\n",
        " u'CURRENT DIRECTION (T)     ',\n",
        " u'Pressure-derived Non-directional Wave Height Spectrum (mm/sqrt(Hz))',\n",
        " u'WIND DIRECTION STABILITY',\n",
        " u'Mean Wave Direction (degrees true North)',\n",
        " u'Directional Wave Energy Spectrum (mm^2/Hz/degree)',\n",
        " u'Velocity-derived Non-directional Wave Height Spectrum (mm/sqrt(Hz))',\n",
        " u'mean wave direction',\n",
        " u'Direction (degrees T)',\n",
        " u'WIND DIRECTION        ',\n",
        " u'Current Direction',\n",
        " u'CURRENT DIRECTION (T)   ']"
       ]
      }
     ],
     "prompt_number": 56
    },
    {
     "cell_type": "code",
     "collapsed": false,
     "input": [
      "f = open('/usgs/data2/notebook/names.txt','w')\n",
      "f.write(\"\\n\".join(names))\n",
      "f.close()\n",
      "f = open('/usgs/data2/notebook/long_names.txt','w')\n",
      "f.write(\"\\n\".join(long_names))\n",
      "f.close()\n",
      "f = open('/usgs/data2/notebook/units.txt','w')\n",
      "f.write(\"\\n\".join(units))\n",
      "f.close()"
     ],
     "language": "python",
     "metadata": {},
     "outputs": [],
     "prompt_number": 57
    },
    {
     "cell_type": "heading",
     "level": 2,
     "metadata": {},
     "source": [
      "Create a dictionary with `standard_name` to `NetCDF variable` mapping"
     ]
    },
    {
     "cell_type": "code",
     "collapsed": false,
     "input": [
      "d={}"
     ],
     "language": "python",
     "metadata": {},
     "outputs": [],
     "prompt_number": 93
    },
    {
     "cell_type": "code",
     "collapsed": false,
     "input": [
      "d['sea_water_temperature']=['instrument transducer temp.', 'temperature (c)','fr temp',\n",
      "                            'adp transducer temp.','adcp transducer temp.','transducer temp.','temp 1','temp 2',\n",
      "                            'temperature','internal temperature','frtemp','temp 2 q','temp','temp lp','sea surface temperature (degrees C)']\n"
     ],
     "language": "python",
     "metadata": {},
     "outputs": [],
     "prompt_number": 94
    },
    {
     "cell_type": "code",
     "collapsed": false,
     "input": [
      "d['sea_water_salinity'] = ['salinity 2 q','salinity 1','ctd salinity, pss-78','salinity','salinity (ppt)','salinity (psu)','salinity']\n"
     ],
     "language": "python",
     "metadata": {},
     "outputs": [],
     "prompt_number": 95
    },
    {
     "cell_type": "code",
     "collapsed": false,
     "input": [
      "d['northward_sea_water_velocity']=['northward velocity','north','mean northward velocity','northward velocity','north lp']\n"
     ],
     "language": "python",
     "metadata": {},
     "outputs": [],
     "prompt_number": 96
    },
    {
     "cell_type": "code",
     "collapsed": false,
     "input": [
      "d['eastward_sea_water_velocity']=['eastward velocity','east','mean eastward velocity','eastward velocity','east lp']\n"
     ],
     "language": "python",
     "metadata": {},
     "outputs": [],
     "prompt_number": 97
    },
    {
     "cell_type": "code",
     "collapsed": false,
     "input": [
      "def grid2dsg(ifile,ofile,coord_vars=['time','time2','depth','lat','lon'],\n",
      "             project_name=None,project_pi=None,project_summary=None):\n",
      "    nc = netCDF4.Dataset(ifile)\n",
      "    id = '%s/%s' % (project_name,ifile.split('.')[0])  \n",
      "    #id = ifile.split('.')[0]\n",
      "    vars=nc.variables.keys()\n",
      "    data_vars = [var for var in vars if var not in coord_vars]\n",
      "    nt = len(nc.dimensions['time'])\n",
      "    nz = len(nc.dimensions['depth'])\n",
      "    \n",
      "    # create dimensions of output file\n",
      "    nco = netCDF4.Dataset(ofile,'w',clobber=True)\n",
      "    nco.createDimension('time',nt)\n",
      "    if nz > 1:\n",
      "        nco.createDimension('depth',nz)\n",
      "\n",
      "    nchar=20\n",
      "    nco.createDimension('nchar',nchar)\n",
      "    # create coordinate variables\n",
      "    time_v = nco.createVariable('time', 'f8', ('time'))\n",
      "    lon_v = nco.createVariable('lon','f4')\n",
      "    lat_v = nco.createVariable('lat','f4')\n",
      "    if nz > 1:\n",
      "        depth_v = nco.createVariable('depth','f4',dimensions='depth')\n",
      "    else:\n",
      "        depth_v = nco.createVariable('depth','f4')\n",
      "\n",
      "    station_v = nco.createVariable('site','S1',('nchar'))\n",
      "    # write global attributes\n",
      "    g_attdict = nc.__dict__\n",
      "    g_attdict['Conventions'] = 'CF-1.6'\n",
      "    if nz>1:\n",
      "        g_attdict['featureType'] = 'timeSeriesProfile'\n",
      "    else:\n",
      "        g_attdict['featureType'] = 'timeSeries'\n",
      "\n",
      "    g_attdict['naming_authority'] = 'gov.usgs'\n",
      "    g_attdict['id'] = id\n",
      "    g_attdict['source'] = 'USGS'\n",
      "    g_attdict['institution'] = 'USGS Woods Hole Coastal and Marine Science Center'\n",
      "    g_attdict['project'] = 'Coastal and Marine Geology Program'\n",
      "    g_attdict['title'] = '%s/%s/%s' % (g_attdict['source'],project_name,g_attdict['id'])\n",
      "    g_attdict['keywords']='Oceans > Ocean Pressure > Water Pressure, Oceans > Ocean Temperature > Water Temperature, Oceans > Salinity/Density > Conductivity, Oceans > Salinity/Density > Salinity'\n",
      "    g_attdict['keywords_vocabulary']='GCMD Science Keywords'\n",
      "    g_attdict['standard_name_vocabulary'] = 'CF-1.6'\n",
      "    g_attdict['creator_email'] = 'rsignell@usgs.gov'\n",
      "    g_attdict['creator_name'] =  'Rich Signell'\n",
      "    g_attdict['creator_phone'] = '+1 (508) 548-8700'\n",
      "    g_attdict['creator_url'] = 'http://www.usgs.gov'\n",
      "    g_attdict['publisher_email'] = 'emontgomery@usgs.gov'\n",
      "    g_attdict['publisher_name'] =  'Ellyn Montgomery'\n",
      "    g_attdict['publisher_phone'] = '+1 (508) 548-8700'\n",
      "    g_attdict['publisher_url'] = 'http://www.usgs.gov'\n",
      "    g_attdict['contributor_name'] =  project_pi\n",
      "    g_attdict['contributor_role'] = 'principalInvestigator' #from esip ACDD\n",
      "    g_attdict['summary'] = project_summary\n",
      "\n",
      "    nco.setncatts(g_attdict) \n",
      "    # write station variable\n",
      "    station_v.cf_role = 'timeseries_id'\n",
      "    station_v.standard_name = 'station_id'\n",
      "    data = numpy.empty((1,),'S'+repr(nchar))\n",
      "    data[0] = ifile.split('.')[0]\n",
      "    station_v[:] = netCDF4.stringtochar(data)\n",
      "\n",
      "    # write time variable\n",
      "    time_v.units = 'milliseconds since 1858-11-17 00:00:00 +0:00'\n",
      "    time_v.standard_name = 'time'\n",
      "    time_v.calendar = 'gregorian'\n",
      "    time_v[:] = (np.int64(nc.variables['time'][:])-2400001)*3600*24*1000 + nc.variables['time2'][:]\n",
      "\n",
      "    # write lon variable\n",
      "    lon_v.units = 'degree_east'\n",
      "    lon_v.standard_name = 'longitude'\n",
      "    lon_v[:] = nc.variables['lon'][:]\n",
      "\n",
      "    # write lat variable\n",
      "    lat_v.units = 'degree_north'\n",
      "    lat_v.standard_name = 'latitude'\n",
      "    lat_v[:] = nc.variables['lat'][:]\n",
      "\n",
      "    # write depth variable\n",
      "    depth_v.units = 'm'\n",
      "    depth_v.standard_name = 'depth'   \n",
      "    depth_v.positive = 'down'\n",
      "    depth_v.axis = 'Z'\n",
      "    depth_v[:] = nc.variables['depth'][:]\n",
      "\n",
      "\n",
      "    # create the data variables\n",
      "    var_v=[]\n",
      "    for varname in data_vars:\n",
      "        ncvar = nc.variables[varname]\n",
      "        # if time series variable\n",
      "        if size(ncvar) == nt:\n",
      "            var = nco.createVariable(varname,ncvar.dtype,('time'))\n",
      "        elif size(ncvar) == nz:\n",
      "            var = nco.createVariable(varname,ncvar.dtype,('depth'))\n",
      "        else:\n",
      "            var = nco.createVariable(varname,ncvar.dtype,('time','depth'))\n",
      "\n",
      "    #   load old variable attributes and modify if necessary \n",
      "        attdict = ncvar.__dict__\n",
      "    #   if dounpackshort and 'scale_factor' in attdict: del attdict['scale_factor']\n",
      "      \n",
      "        attdict['coordinates'] = 'time lon lat depth'\n",
      "\n",
      "        # assign standard_name if in dictionary\n",
      "        a =[k for (k, v) in d.iteritems() if attdict['long_name'].strip().lower() in v]\n",
      "        if len(a)==1: attdict['standard_name']=a[0]\n",
      "        \n",
      "        # write variable attributes\n",
      "        var.setncatts(attdict) \n",
      "        # write the data\n",
      "    #    print ncvar\n",
      "        var[:] = ncvar[:]\n",
      "    nco.close()\n"
     ],
     "language": "python",
     "metadata": {},
     "outputs": [],
     "prompt_number": 98
    },
    {
     "cell_type": "code",
     "collapsed": false,
     "input": [
      "root_idir='/usgs/data2/emontgomery/stellwagen/Data/'\n",
      "#root_dir='/usgs/data2/emontgomery/stellwagen/Data/MVCO_11'\n",
      "root_odir='/usgs/data2/emontgomery/stellwagen/CF-1.6/'\n",
      "os.chdir(root_dir)"
     ],
     "language": "python",
     "metadata": {},
     "outputs": [],
     "prompt_number": 99
    },
    {
     "cell_type": "code",
     "collapsed": true,
     "input": [
      "types = ('*.nc', '*.cdf')\n",
      "coord_vars = ['time','time2','depth','lat','lon']\n",
      "badfiles = []\n",
      "goodfiles = []\n",
      "for index,row in proj.iterrows():\n",
      "    idir = os.path.join(root_idir,index)\n",
      "    os.chdir(idir)\n",
      "    odir = os.path.join(root_odir,index)\n",
      "    if not os.path.exists(odir):\n",
      "        os.makedirs(odir)\n",
      "    ncfiles = []\n",
      "    for files in types:\n",
      "        ncfiles.extend(glob.glob(files))\n",
      "    print index, len(ncfiles)\n",
      "    project_name = index\n",
      "    project_pi = project.ix[index].ix['project_pi']\n",
      "    project_summary = project.ix[index].ix['project_summary']\n",
      "    print project_name,project_pi,project_summary\n",
      "    for ifile in ncfiles:\n",
      "        ofile = os.path.join(odir,ifile)\n",
      "        print ifile,ofile\n",
      "        try:\n",
      "            grid2dsg(ifile,ofile,coord_vars = coord_vars,\n",
      "                     project_name = project_name,\n",
      "                     project_pi = project_pi,\n",
      "                     project_summary = project_summary)\n",
      "            goodfiles.append(ifile)\n",
      "        except:\n",
      "            badfiles.append(ifile)\n",
      "\n",
      "    \n",
      "    "
     ],
     "language": "python",
     "metadata": {},
     "outputs": [
      {
       "output_type": "stream",
       "stream": "stdout",
       "text": [
        "FI12 44\n",
        "FI12 J. Warner  Oceanographic and meteorological observations were made at 7 sites on and around the sand ridges offshore of Fire Island NY in winter 2012 to study coastal processes.\n",
        "9191met-a.nc /usgs/data2/emontgomery/stellwagen/CF-1.6/FI12/9191met-a.nc\n",
        "9202sc-a.nc"
       ]
      },
      {
       "output_type": "stream",
       "stream": "stdout",
       "text": [
        " /usgs/data2/emontgomery/stellwagen/CF-1.6/FI12/9202sc-a.nc\n",
        "9203pcb-cal.nc /usgs/data2/emontgomery/stellwagen/CF-1.6/FI12/9203pcb-cal.nc\n",
        "9203pcs-cal.nc"
       ]
      },
      {
       "output_type": "stream",
       "stream": "stdout",
       "text": [
        " /usgs/data2/emontgomery/stellwagen/CF-1.6/FI12/9203pcs-cal.nc\n",
        "9205advb-cal.nc"
       ]
      },
      {
       "output_type": "stream",
       "stream": "stdout",
       "text": [
        " /usgs/data2/emontgomery/stellwagen/CF-1.6/FI12/9205advb-cal.nc\n",
        "9205advs-cal.nc"
       ]
      },
      {
       "output_type": "stream",
       "stream": "stdout",
       "text": [
        " /usgs/data2/emontgomery/stellwagen/CF-1.6/FI12/9205advs-cal.nc\n",
        "9206advb-cal.nc"
       ]
      },
      {
       "output_type": "stream",
       "stream": "stdout",
       "text": [
        " /usgs/data2/emontgomery/stellwagen/CF-1.6/FI12/9206advb-cal.nc\n",
        "9206advs-cal.nc"
       ]
      },
      {
       "output_type": "stream",
       "stream": "stdout",
       "text": [
        " /usgs/data2/emontgomery/stellwagen/CF-1.6/FI12/9206advs-cal.nc\n",
        "9211wh-a.nc"
       ]
      },
      {
       "output_type": "stream",
       "stream": "stdout",
       "text": [
        " /usgs/data2/emontgomery/stellwagen/CF-1.6/FI12/9211wh-a.nc\n",
        "9221mc-a.nc"
       ]
      },
      {
       "output_type": "stream",
       "stream": "stdout",
       "text": [
        " /usgs/data2/emontgomery/stellwagen/CF-1.6/FI12/9221mc-a.nc\n",
        "9232sc-a.nc /usgs/data2/emontgomery/stellwagen/CF-1.6/FI12/9232sc-a.nc\n",
        "9233pcb-cal.nc /usgs/data2/emontgomery/stellwagen/CF-1.6/FI12/9233pcb-cal.nc\n",
        "9233pcs-cal.nc"
       ]
      },
      {
       "output_type": "stream",
       "stream": "stdout",
       "text": [
        " /usgs/data2/emontgomery/stellwagen/CF-1.6/FI12/9233pcs-cal.nc\n",
        "9235advb-cal.nc"
       ]
      },
      {
       "output_type": "stream",
       "stream": "stdout",
       "text": [
        " /usgs/data2/emontgomery/stellwagen/CF-1.6/FI12/9235advb-cal.nc\n",
        "9235advs-cal.nc"
       ]
      },
      {
       "output_type": "stream",
       "stream": "stdout",
       "text": [
        " /usgs/data2/emontgomery/stellwagen/CF-1.6/FI12/9235advs-cal.nc\n",
        "9236advb-cal.nc"
       ]
      },
      {
       "output_type": "stream",
       "stream": "stdout",
       "text": [
        " /usgs/data2/emontgomery/stellwagen/CF-1.6/FI12/9236advb-cal.nc\n",
        "9236advs-cal.nc"
       ]
      },
      {
       "output_type": "stream",
       "stream": "stdout",
       "text": [
        " /usgs/data2/emontgomery/stellwagen/CF-1.6/FI12/9236advs-cal.nc\n",
        "9241wh-a.nc"
       ]
      },
      {
       "output_type": "stream",
       "stream": "stdout",
       "text": [
        " /usgs/data2/emontgomery/stellwagen/CF-1.6/FI12/9241wh-a.nc\n",
        "9241whp-cal.nc"
       ]
      },
      {
       "output_type": "stream",
       "stream": "stdout",
       "text": [
        " /usgs/data2/emontgomery/stellwagen/CF-1.6/FI12/9241whp-cal.nc\n",
        "9261aw-a.nc /usgs/data2/emontgomery/stellwagen/CF-1.6/FI12/9261aw-a.nc\n",
        "9261awWvs-cal.nc /usgs/data2/emontgomery/stellwagen/CF-1.6/FI12/9261awWvs-cal.nc\n",
        "9262sc-a.nc"
       ]
      },
      {
       "output_type": "stream",
       "stream": "stdout",
       "text": [
        " /usgs/data2/emontgomery/stellwagen/CF-1.6/FI12/9262sc-a.nc\n",
        "9271mc-a.nc /usgs/data2/emontgomery/stellwagen/CF-1.6/FI12/9271mc-a.nc\n",
        "9281wh-a.nc /usgs/data2/emontgomery/stellwagen/CF-1.6/FI12/9281wh-a.nc\n",
        "9281whp-cal.nc"
       ]
      },
      {
       "output_type": "stream",
       "stream": "stdout",
       "text": [
        " /usgs/data2/emontgomery/stellwagen/CF-1.6/FI12/9281whp-cal.nc\n",
        "9282mc-a.nc /usgs/data2/emontgomery/stellwagen/CF-1.6/FI12/9282mc-a.nc\n",
        "9291mc-a.nc /usgs/data2/emontgomery/stellwagen/CF-1.6/FI12/9291mc-a.nc\n",
        "9302mc-a.nc /usgs/data2/emontgomery/stellwagen/CF-1.6/FI12/9302mc-a.nc\n",
        "9303sgWvs-p-cal.nc"
       ]
      },
      {
       "output_type": "stream",
       "stream": "stdout",
       "text": [
        " /usgs/data2/emontgomery/stellwagen/CF-1.6/FI12/9303sgWvs-p-cal.nc\n",
        "9303sgWvs-r-cal.nc /usgs/data2/emontgomery/stellwagen/CF-1.6/FI12/9303sgWvs-r-cal.nc\n",
        "9303sgWvs-tide-cal.nc /usgs/data2/emontgomery/stellwagen/CF-1.6/FI12/9303sgWvs-tide-cal.nc\n",
        "9311mc-a.nc"
       ]
      },
      {
       "output_type": "stream",
       "stream": "stdout",
       "text": [
        " /usgs/data2/emontgomery/stellwagen/CF-1.6/FI12/9311mc-a.nc\n",
        "9321aw-a.nc /usgs/data2/emontgomery/stellwagen/CF-1.6/FI12/9321aw-a.nc\n",
        "9321awWvs-cal.nc /usgs/data2/emontgomery/stellwagen/CF-1.6/FI12/9321awWvs-cal.nc\n",
        "9322sc-a.nc"
       ]
      },
      {
       "output_type": "stream",
       "stream": "stdout",
       "text": [
        " /usgs/data2/emontgomery/stellwagen/CF-1.6/FI12/9322sc-a.nc\n",
        "9332sc-a.nc /usgs/data2/emontgomery/stellwagen/CF-1.6/FI12/9332sc-a.nc\n",
        "9204abss1s.cdf /usgs/data2/emontgomery/stellwagen/CF-1.6/FI12/9204abss1s.cdf\n",
        "9204abss2s.cdf"
       ]
      },
      {
       "output_type": "stream",
       "stream": "stdout",
       "text": [
        " /usgs/data2/emontgomery/stellwagen/CF-1.6/FI12/9204abss2s.cdf\n",
        "9204abss3s.cdf"
       ]
      },
      {
       "output_type": "stream",
       "stream": "stdout",
       "text": [
        " /usgs/data2/emontgomery/stellwagen/CF-1.6/FI12/9204abss3s.cdf\n",
        "9212fan_proc_rot.cdf"
       ]
      },
      {
       "output_type": "stream",
       "stream": "stdout",
       "text": [
        " /usgs/data2/emontgomery/stellwagen/CF-1.6/FI12/9212fan_proc_rot.cdf\n",
        "9212fan_raw.cdf /usgs/data2/emontgomery/stellwagen/CF-1.6/FI12/9212fan_raw.cdf\n",
        "9234abss1s.cdf /usgs/data2/emontgomery/stellwagen/CF-1.6/FI12/9234abss1s.cdf\n",
        "9234abss2s.cdf"
       ]
      },
      {
       "output_type": "stream",
       "stream": "stdout",
       "text": [
        " /usgs/data2/emontgomery/stellwagen/CF-1.6/FI12/9234abss2s.cdf\n",
        "9234abss3s.cdf /usgs/data2/emontgomery/stellwagen/CF-1.6/FI12/9234abss3s.cdf\n",
        "BARNEGAT 29\n",
        "BARNEGAT N. Ganju  Light attenuation is a critical parameter governing the ecological function of shallow estuaries.  Near-bottom and mid-water observations of currents, pressure, chlorophyll, and fDOM were collected at three pairs of sites sequentially at different locations in the estuary to characterize the conditions.\n",
        "9611ecp-a.nc /usgs/data2/emontgomery/stellwagen/CF-1.6/BARNEGAT/9611ecp-a.nc\n",
        "9612solot-a.nc"
       ]
      },
      {
       "output_type": "stream",
       "stream": "stdout",
       "text": [
        " /usgs/data2/emontgomery/stellwagen/CF-1.6/BARNEGAT/9612solot-a.nc\n",
        "9613HRaqd-cal.nc /usgs/data2/emontgomery/stellwagen/CF-1.6/BARNEGAT/9613HRaqd-cal.nc\n",
        "9614dw-a.nc"
       ]
      },
      {
       "output_type": "stream",
       "stream": "stdout",
       "text": [
        " /usgs/data2/emontgomery/stellwagen/CF-1.6/BARNEGAT/9614dw-a.nc\n",
        "9615exo-a.nc"
       ]
      },
      {
       "output_type": "stream",
       "stream": "stdout",
       "text": [
        " /usgs/data2/emontgomery/stellwagen/CF-1.6/BARNEGAT/9615exo-a.nc\n",
        "9616ecp-a.nc"
       ]
      },
      {
       "output_type": "stream",
       "stream": "stdout",
       "text": [
        " /usgs/data2/emontgomery/stellwagen/CF-1.6/BARNEGAT/9616ecp-a.nc\n",
        "9617solot-a.nc /usgs/data2/emontgomery/stellwagen/CF-1.6/BARNEGAT/9617solot-a.nc\n",
        "9621dw-a.nc"
       ]
      },
      {
       "output_type": "stream",
       "stream": "stdout",
       "text": [
        " /usgs/data2/emontgomery/stellwagen/CF-1.6/BARNEGAT/9621dw-a.nc\n",
        "9622ecn-a.nc"
       ]
      },
      {
       "output_type": "stream",
       "stream": "stdout",
       "text": [
        " /usgs/data2/emontgomery/stellwagen/CF-1.6/BARNEGAT/9622ecn-a.nc\n",
        "9631ecp-a.nc /usgs/data2/emontgomery/stellwagen/CF-1.6/BARNEGAT/9631ecp-a.nc\n",
        "9632solot-a.nc /usgs/data2/emontgomery/stellwagen/CF-1.6/BARNEGAT/9632solot-a.nc\n",
        "9633HRaqd-cal.nc"
       ]
      },
      {
       "output_type": "stream",
       "stream": "stdout",
       "text": [
        " /usgs/data2/emontgomery/stellwagen/CF-1.6/BARNEGAT/9633HRaqd-cal.nc\n",
        "9634dw-a.nc"
       ]
      },
      {
       "output_type": "stream",
       "stream": "stdout",
       "text": [
        " /usgs/data2/emontgomery/stellwagen/CF-1.6/BARNEGAT/9634dw-a.nc\n",
        "9635exo-a.nc"
       ]
      },
      {
       "output_type": "stream",
       "stream": "stdout",
       "text": [
        " /usgs/data2/emontgomery/stellwagen/CF-1.6/BARNEGAT/9635exo-a.nc\n",
        "9636ecp-a.nc"
       ]
      },
      {
       "output_type": "stream",
       "stream": "stdout",
       "text": [
        " /usgs/data2/emontgomery/stellwagen/CF-1.6/BARNEGAT/9636ecp-a.nc\n",
        "9637solot-a.nc /usgs/data2/emontgomery/stellwagen/CF-1.6/BARNEGAT/9637solot-a.nc\n",
        "9641dw-a.nc"
       ]
      },
      {
       "output_type": "stream",
       "stream": "stdout",
       "text": [
        " /usgs/data2/emontgomery/stellwagen/CF-1.6/BARNEGAT/9641dw-a.nc\n",
        "9642ecn-a.nc"
       ]
      },
      {
       "output_type": "stream",
       "stream": "stdout",
       "text": [
        " /usgs/data2/emontgomery/stellwagen/CF-1.6/BARNEGAT/9642ecn-a.nc\n",
        "9771ecp-a.nc /usgs/data2/emontgomery/stellwagen/CF-1.6/BARNEGAT/9771ecp-a.nc\n",
        "9772solot-a.nc /usgs/data2/emontgomery/stellwagen/CF-1.6/BARNEGAT/9772solot-a.nc\n",
        "9773HRaqdb-cal.nc"
       ]
      },
      {
       "output_type": "stream",
       "stream": "stdout",
       "text": [
        " /usgs/data2/emontgomery/stellwagen/CF-1.6/BARNEGAT/9773HRaqdb-cal.nc\n",
        "9773HRaqds-cal.nc /usgs/data2/emontgomery/stellwagen/CF-1.6/BARNEGAT/9773HRaqds-cal.nc\n",
        "9774dw-a.nc"
       ]
      },
      {
       "output_type": "stream",
       "stream": "stdout",
       "text": [
        " /usgs/data2/emontgomery/stellwagen/CF-1.6/BARNEGAT/9774dw-a.nc\n",
        "9774dw_trim.nc"
       ]
      },
      {
       "output_type": "stream",
       "stream": "stdout",
       "text": [
        " /usgs/data2/emontgomery/stellwagen/CF-1.6/BARNEGAT/9774dw_trim.nc\n",
        "9775exo-a.nc"
       ]
      },
      {
       "output_type": "stream",
       "stream": "stdout",
       "text": [
        " /usgs/data2/emontgomery/stellwagen/CF-1.6/BARNEGAT/9775exo-a.nc\n",
        "9776ecp-a.nc"
       ]
      },
      {
       "output_type": "stream",
       "stream": "stdout",
       "text": [
        " /usgs/data2/emontgomery/stellwagen/CF-1.6/BARNEGAT/9776ecp-a.nc\n",
        "9777solot-a.nc /usgs/data2/emontgomery/stellwagen/CF-1.6/BARNEGAT/9777solot-a.nc\n",
        "9781dw-a.nc"
       ]
      },
      {
       "output_type": "stream",
       "stream": "stdout",
       "text": [
        " /usgs/data2/emontgomery/stellwagen/CF-1.6/BARNEGAT/9781dw-a.nc\n",
        "9782ecn-a.nc"
       ]
      },
      {
       "output_type": "stream",
       "stream": "stdout",
       "text": [
        " /usgs/data2/emontgomery/stellwagen/CF-1.6/BARNEGAT/9782ecn-a.nc\n",
        "WFAL 40\n",
        "WFAL N. Ganju Oceanographic and water-quality observations made at six locations in West Falmouth Harbor and Buzzards Bay.\n",
        "8591wh-a.nc /usgs/data2/emontgomery/stellwagen/CF-1.6/WFAL/8591wh-a.nc\n",
        "8591whp-cal.nc"
       ]
      },
      {
       "output_type": "stream",
       "stream": "stdout",
       "text": [
        " /usgs/data2/emontgomery/stellwagen/CF-1.6/WFAL/8591whp-cal.nc\n",
        "8592pt-a.nc /usgs/data2/emontgomery/stellwagen/CF-1.6/WFAL/8592pt-a.nc\n",
        "8593sc-a.nc /usgs/data2/emontgomery/stellwagen/CF-1.6/WFAL/8593sc-a.nc\n",
        "8594bl-a.nc"
       ]
      },
      {
       "output_type": "stream",
       "stream": "stdout",
       "text": [
        " /usgs/data2/emontgomery/stellwagen/CF-1.6/WFAL/8594bl-a.nc\n",
        "8601aqd-a.nc /usgs/data2/emontgomery/stellwagen/CF-1.6/WFAL/8601aqd-a.nc\n",
        "8602wh-a.nc"
       ]
      },
      {
       "output_type": "stream",
       "stream": "stdout",
       "text": [
        " /usgs/data2/emontgomery/stellwagen/CF-1.6/WFAL/8602wh-a.nc\n",
        "8603pt-a.nc"
       ]
      },
      {
       "output_type": "stream",
       "stream": "stdout",
       "text": [
        " /usgs/data2/emontgomery/stellwagen/CF-1.6/WFAL/8603pt-a.nc\n",
        "8604sc-a.nc /usgs/data2/emontgomery/stellwagen/CF-1.6/WFAL/8604sc-a.nc\n",
        "8621sc-a.nc"
       ]
      },
      {
       "output_type": "stream",
       "stream": "stdout",
       "text": [
        " /usgs/data2/emontgomery/stellwagen/CF-1.6/WFAL/8621sc-a.nc\n",
        "8622pt-a.nc /usgs/data2/emontgomery/stellwagen/CF-1.6/WFAL/8622pt-a.nc\n",
        "8821aqd-a.nc"
       ]
      },
      {
       "output_type": "stream",
       "stream": "stdout",
       "text": [
        " /usgs/data2/emontgomery/stellwagen/CF-1.6/WFAL/8821aqd-a.nc\n",
        "8822pt-a.nc"
       ]
      },
      {
       "output_type": "stream",
       "stream": "stdout",
       "text": [
        " /usgs/data2/emontgomery/stellwagen/CF-1.6/WFAL/8822pt-a.nc\n",
        "8841mc-a.nc /usgs/data2/emontgomery/stellwagen/CF-1.6/WFAL/8841mc-a.nc\n",
        "8842mc-a.nc"
       ]
      },
      {
       "output_type": "stream",
       "stream": "stdout",
       "text": [
        " /usgs/data2/emontgomery/stellwagen/CF-1.6/WFAL/8842mc-a.nc\n",
        "8843mc-a.nc /usgs/data2/emontgomery/stellwagen/CF-1.6/WFAL/8843mc-a.nc\n",
        "8851aqd-a.nc"
       ]
      },
      {
       "output_type": "stream",
       "stream": "stdout",
       "text": [
        " /usgs/data2/emontgomery/stellwagen/CF-1.6/WFAL/8851aqd-a.nc\n",
        "8852pt-a.nc"
       ]
      },
      {
       "output_type": "stream",
       "stream": "stdout",
       "text": [
        " /usgs/data2/emontgomery/stellwagen/CF-1.6/WFAL/8852pt-a.nc\n",
        "8862rcm-a.nc"
       ]
      },
      {
       "output_type": "stream",
       "stream": "stdout",
       "text": [
        " /usgs/data2/emontgomery/stellwagen/CF-1.6/WFAL/8862rcm-a.nc\n",
        "8871aqd-a.nc"
       ]
      },
      {
       "output_type": "stream",
       "stream": "stdout",
       "text": [
        " /usgs/data2/emontgomery/stellwagen/CF-1.6/WFAL/8871aqd-a.nc\n",
        "8872pt-a.nc"
       ]
      },
      {
       "output_type": "stream",
       "stream": "stdout",
       "text": [
        " /usgs/data2/emontgomery/stellwagen/CF-1.6/WFAL/8872pt-a.nc\n",
        "9001rcm-a.nc /usgs/data2/emontgomery/stellwagen/CF-1.6/WFAL/9001rcm-a.nc\n",
        "938metA-a.nc"
       ]
      },
      {
       "output_type": "stream",
       "stream": "stdout",
       "text": [
        " /usgs/data2/emontgomery/stellwagen/CF-1.6/WFAL/938metA-a.nc\n",
        "938metB-a.nc"
       ]
      },
      {
       "output_type": "stream",
       "stream": "stdout",
       "text": [
        " /usgs/data2/emontgomery/stellwagen/CF-1.6/WFAL/938metB-a.nc\n",
        "9391aqd-cal.nc"
       ]
      },
      {
       "output_type": "stream",
       "stream": "stdout",
       "text": [
        " /usgs/data2/emontgomery/stellwagen/CF-1.6/WFAL/9391aqd-cal.nc\n",
        "9392ysi-a.nc"
       ]
      },
      {
       "output_type": "stream",
       "stream": "stdout",
       "text": [
        " /usgs/data2/emontgomery/stellwagen/CF-1.6/WFAL/9392ysi-a.nc\n",
        "9394eco-a.nc"
       ]
      },
      {
       "output_type": "stream",
       "stream": "stdout",
       "text": [
        " /usgs/data2/emontgomery/stellwagen/CF-1.6/WFAL/9394eco-a.nc\n",
        "9395eco-a.nc /usgs/data2/emontgomery/stellwagen/CF-1.6/WFAL/9395eco-a.nc\n",
        "9401aqd-cal.nc"
       ]
      },
      {
       "output_type": "stream",
       "stream": "stdout",
       "text": [
        " /usgs/data2/emontgomery/stellwagen/CF-1.6/WFAL/9401aqd-cal.nc\n",
        "9402ysi-a.nc"
       ]
      },
      {
       "output_type": "stream",
       "stream": "stdout",
       "text": [
        " /usgs/data2/emontgomery/stellwagen/CF-1.6/WFAL/9402ysi-a.nc\n",
        "9404eco-a.nc"
       ]
      },
      {
       "output_type": "stream",
       "stream": "stdout",
       "text": [
        " /usgs/data2/emontgomery/stellwagen/CF-1.6/WFAL/9404eco-a.nc\n",
        "9405eco-a.nc /usgs/data2/emontgomery/stellwagen/CF-1.6/WFAL/9405eco-a.nc\n",
        "9411aqd-cal.nc"
       ]
      },
      {
       "output_type": "stream",
       "stream": "stdout",
       "text": [
        " /usgs/data2/emontgomery/stellwagen/CF-1.6/WFAL/9411aqd-cal.nc\n",
        "9412ysi-a.nc /usgs/data2/emontgomery/stellwagen/CF-1.6/WFAL/9412ysi-a.nc\n",
        "8602Wvs-cal.cdf"
       ]
      },
      {
       "output_type": "stream",
       "stream": "stdout",
       "text": [
        " /usgs/data2/emontgomery/stellwagen/CF-1.6/WFAL/8602Wvs-cal.cdf\n",
        "8831ysi-cal.cdf /usgs/data2/emontgomery/stellwagen/CF-1.6/WFAL/8831ysi-cal.cdf\n",
        "8832isus-cal.cdf"
       ]
      },
      {
       "output_type": "stream",
       "stream": "stdout",
       "text": [
        " /usgs/data2/emontgomery/stellwagen/CF-1.6/WFAL/8832isus-cal.cdf\n",
        "8861ysi-cal.cdf"
       ]
      },
      {
       "output_type": "stream",
       "stream": "stdout",
       "text": [
        " /usgs/data2/emontgomery/stellwagen/CF-1.6/WFAL/8861ysi-cal.cdf\n",
        "8881ysiA-cal.cdf"
       ]
      },
      {
       "output_type": "stream",
       "stream": "stdout",
       "text": [
        " /usgs/data2/emontgomery/stellwagen/CF-1.6/WFAL/8881ysiA-cal.cdf\n",
        "8881ysiB-cal.cdf"
       ]
      },
      {
       "output_type": "stream",
       "stream": "stdout",
       "text": [
        " /usgs/data2/emontgomery/stellwagen/CF-1.6/WFAL/8881ysiB-cal.cdf\n"
       ]
      }
     ],
     "prompt_number": 100
    },
    {
     "cell_type": "code",
     "collapsed": false,
     "input": [
      "len(badfiles)"
     ],
     "language": "python",
     "metadata": {},
     "outputs": [
      {
       "metadata": {},
       "output_type": "pyout",
       "prompt_number": 101,
       "text": [
        "41"
       ]
      }
     ],
     "prompt_number": 101
    },
    {
     "cell_type": "code",
     "collapsed": false,
     "input": [
      "len(goodfiles)"
     ],
     "language": "python",
     "metadata": {},
     "outputs": [
      {
       "metadata": {},
       "output_type": "pyout",
       "prompt_number": 102,
       "text": [
        "72"
       ]
      }
     ],
     "prompt_number": 102
    },
    {
     "cell_type": "code",
     "collapsed": true,
     "input": [
      "print badfiles"
     ],
     "language": "python",
     "metadata": {},
     "outputs": [
      {
       "output_type": "stream",
       "stream": "stdout",
       "text": [
        "['9191met-a.nc', '9202sc-a.nc', '9203pcb-cal.nc', '9203pcs-cal.nc', '9205advb-cal.nc', '9206advb-cal.nc', '9221mc-a.nc', '9232sc-a.nc', '9233pcb-cal.nc', '9233pcs-cal.nc', '9235advb-cal.nc', '9236advb-cal.nc', '9241whp-cal.nc', '9261aw-a.nc', '9261awWvs-cal.nc', '9262sc-a.nc', '9271mc-a.nc', '9281whp-cal.nc', '9282mc-a.nc', '9291mc-a.nc', '9302mc-a.nc', '9303sgWvs-p-cal.nc', '9303sgWvs-r-cal.nc', '9303sgWvs-tide-cal.nc', '9311mc-a.nc', '9321aw-a.nc', '9321awWvs-cal.nc', '9322sc-a.nc', '9332sc-a.nc', '9204abss1s.cdf', '9204abss2s.cdf', '9204abss3s.cdf', '9212fan_proc_rot.cdf', '9212fan_raw.cdf', '9234abss1s.cdf', '9234abss2s.cdf', '9234abss3s.cdf', '9773HRaqdb-cal.nc', '8591whp-cal.nc', '9411aqd-cal.nc', '8602Wvs-cal.cdf']\n"
       ]
      }
     ],
     "prompt_number": 103
    },
    {
     "cell_type": "code",
     "collapsed": false,
     "input": [],
     "language": "python",
     "metadata": {},
     "outputs": [],
     "prompt_number": 38
    }
   ],
   "metadata": {}
  }
 ]
}