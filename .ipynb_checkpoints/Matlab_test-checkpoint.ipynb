{
 "metadata": {
  "name": "",
  "signature": "sha256:1794f719f88d11802d66d352db0583fd427a39460ccbf85d6264bdeb59a4819c"
 },
 "nbformat": 3,
 "nbformat_minor": 0,
 "worksheets": [
  {
   "cells": [
    {
     "cell_type": "code",
     "collapsed": false,
     "input": [
      "import iris\n",
      "iris.FUTURE.netcdf_promote = True\n",
      "print(iris.__version__)\n",
      "\n",
      "import os.path\n",
      "\n",
      "os.path.abspath(iris.__file__)"
     ],
     "language": "python",
     "metadata": {},
     "outputs": [
      {
       "output_type": "stream",
       "stream": "stdout",
       "text": [
        "1.7.2-DEV\n"
       ]
      },
      {
       "metadata": {},
       "output_type": "pyout",
       "prompt_number": 2,
       "text": [
        "'/home/usgs/anaconda/lib/python2.7/site-packages/iris/__init__.pyc'"
       ]
      }
     ],
     "prompt_number": 2
    },
    {
     "cell_type": "code",
     "collapsed": false,
     "input": [
      "%load_ext pymatbridge"
     ],
     "language": "python",
     "metadata": {},
     "outputs": [
      {
       "output_type": "stream",
       "stream": "stdout",
       "text": [
        "The pymatbridge extension is already loaded. To reload it, use:\n",
        "  %reload_ext pymatbridge\n"
       ]
      }
     ],
     "prompt_number": 3
    },
    {
     "cell_type": "code",
     "collapsed": false,
     "input": [
      "import iris.plot as iplt\n",
      "import matplotlib.pyplot as plt\n",
      "\n",
      "\n",
      "def plot_profile(c):\n",
      "    coord = c.coord('sea_surface_height_above_reference_ellipsoid')\n",
      "    lon = c.coord(axis='X').points.squeeze()\n",
      "    lat = c.coord(axis='Y').points.squeeze()\n",
      "    depth = coord.points.min()\n",
      "    \n",
      "    fig, ax = plt.subplots(figsize=(5, 6))\n",
      "    kw = dict(linewidth=2,  color=(.3, .4, .5),\n",
      "              alpha=0.75, marker='o', label='iris')\n",
      "    iplt.plot(c, coord, **kw)\n",
      "    ax.grid()\n",
      "    ax.set_ylabel('{} ({})'.format(coord.standard_name, coord.units))\n",
      "    ax.set_xlabel('{} ({})'.format(c.name(), c.units))\n",
      "    ax.set_title('lon: %s\\nlat: %s\\nMax depth = %s' % (lon, lat, depth))\n",
      "    return fig, ax"
     ],
     "language": "python",
     "metadata": {},
     "outputs": []
    },
    {
     "cell_type": "code",
     "collapsed": false,
     "input": [
      "a=2"
     ],
     "language": "python",
     "metadata": {},
     "outputs": [],
     "prompt_number": 6
    },
    {
     "cell_type": "code",
     "collapsed": false,
     "input": [
      "%%matlab -i a -o b\n",
      "b=a^3;"
     ],
     "language": "python",
     "metadata": {},
     "outputs": [],
     "prompt_number": 10
    },
    {
     "cell_type": "code",
     "collapsed": false,
     "input": [
      "print b"
     ],
     "language": "python",
     "metadata": {},
     "outputs": [
      {
       "output_type": "stream",
       "stream": "stdout",
       "text": [
        "8\n"
       ]
      }
     ],
     "prompt_number": 11
    },
    {
     "cell_type": "code",
     "collapsed": false,
     "input": [
      "2^3"
     ],
     "language": "python",
     "metadata": {},
     "outputs": [
      {
       "metadata": {},
       "output_type": "pyout",
       "prompt_number": 5,
       "text": [
        "1"
       ]
      }
     ],
     "prompt_number": 5
    },
    {
     "cell_type": "code",
     "collapsed": false,
     "input": [],
     "language": "python",
     "metadata": {},
     "outputs": []
    }
   ],
   "metadata": {}
  }
 ]
}