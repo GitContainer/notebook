{
 "metadata": {
  "kernelspec": {
   "codemirror_mode": {
    "name": "ipython",
    "version": 2
   },
   "display_name": "IPython (Python 2)",
   "language": "python",
   "name": "python2"
  },
  "name": "",
  "signature": "sha256:a8dc686e834e4c523ab99e21e33ce2f3c15912e94448839a4dcc689383997403"
 },
 "nbformat": 3,
 "worksheets": [
  {
   "cells": [
    {
     "cell_type": "code",
     "collapsed": false,
     "input": [
      "from IPython.lib.kernel import find_connection_file\n",
      "from IPython.kernel import BlockingKernelClient\n",
      "import os"
     ],
     "language": "python",
     "metadata": {},
     "outputs": [],
     "prompt_number": 18
    },
    {
     "cell_type": "code",
     "collapsed": false,
     "input": [
      "cf = '/home/epilib/Envs/env1/.ipython/profile_default/security/kernel-c5bd6be3-7df6-4b6f-8289-4d54908e39db.json'"
     ],
     "language": "python",
     "metadata": {},
     "outputs": [],
     "prompt_number": 19
    },
    {
     "cell_type": "code",
     "collapsed": false,
     "input": [
      "km = BlockingKernelClient(connection_file=cf)"
     ],
     "language": "python",
     "metadata": {},
     "outputs": [],
     "prompt_number": 20
    },
    {
     "cell_type": "code",
     "collapsed": false,
     "input": [
      "km.load_connection_file()"
     ],
     "language": "python",
     "metadata": {},
     "outputs": [],
     "prompt_number": 21
    },
    {
     "cell_type": "code",
     "collapsed": false,
     "input": [
      "km.start_channels()"
     ],
     "language": "python",
     "metadata": {},
     "outputs": [],
     "prompt_number": 22
    },
    {
     "cell_type": "code",
     "collapsed": false,
     "input": [
      "def run_cell(km, code):\n",
      "    # now we can run code.  This is done on the shell channel\n",
      "    shell = km.shell_channel\n",
      "    print\n",
      "    print \"running:\"\n",
      "    print code\n",
      "    # execution is immediate and async, returning a UUID\n",
      "    msg_id = shell.execute(code)\n",
      "    # get_msg can block for a reply\n",
      "    reply = shell.get_msg()\n",
      "\n",
      "    status = reply['content']['status']\n",
      "    if status == 'ok':\n",
      "        print 'succeeded!'\n",
      "    elif status == 'error':\n",
      "        print 'failed!'\n",
      "        for line in reply['content']['traceback']:\n",
      "            print line"
     ],
     "language": "python",
     "metadata": {},
     "outputs": [],
     "prompt_number": 23
    },
    {
     "cell_type": "code",
     "collapsed": false,
     "input": [
      "run_cell(km, 'a=5')"
     ],
     "language": "python",
     "metadata": {},
     "outputs": [
      {
       "output_type": "stream",
       "stream": "stdout",
       "text": [
        "\n",
        "running:\n",
        "a=5\n",
        "succeeded!\n"
       ]
      }
     ],
     "prompt_number": 24
    },
    {
     "cell_type": "code",
     "collapsed": false,
     "input": [],
     "language": "python",
     "metadata": {},
     "outputs": []
    }
   ],
   "metadata": {}
  }
 ]
}