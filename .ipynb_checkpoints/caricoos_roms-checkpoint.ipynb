{
 "metadata": {
  "name": "",
  "signature": "sha256:cbd7267a3232e41de40078cf756046ae13f466b0cb4f487df014d57fa9f4872c"
 },
 "nbformat": 3,
 "nbformat_minor": 0,
 "worksheets": [
  {
   "cells": [
    {
     "cell_type": "code",
     "collapsed": false,
     "input": [
      "import netCDF4"
     ],
     "language": "python",
     "metadata": {},
     "outputs": [],
     "prompt_number": 20
    },
    {
     "cell_type": "code",
     "collapsed": false,
     "input": [
      "root = 'http://dm2.caricoos.org/thredds/dodsC/roms/20131203/ocean_his_%4.4d.nc'"
     ],
     "language": "python",
     "metadata": {},
     "outputs": [],
     "prompt_number": 23
    },
    {
     "cell_type": "code",
     "collapsed": false,
     "input": [
      "files = [root % d for d in range(1,4)]\n",
      "nc = netCDF4.MFDataset(files)"
     ],
     "language": "python",
     "metadata": {},
     "outputs": [],
     "prompt_number": 24
    },
    {
     "cell_type": "code",
     "collapsed": false,
     "input": [
      "def start_stop(nc,tvar):\n",
      "    ncv = nc.variables\n",
      "    time_var = ncv[tvar]\n",
      "    first = netCDF4.num2date(time_var[0],time_var.units)\n",
      "    last = netCDF4.num2date(time_var[-1],time_var.units)\n",
      "\n",
      "    print first.strftime('%Y-%b-%d %H:%M')\n",
      "    print last.strftime('%Y-%b-%d %H:%M')"
     ],
     "language": "python",
     "metadata": {},
     "outputs": [],
     "prompt_number": 25
    },
    {
     "cell_type": "code",
     "collapsed": false,
     "input": [
      "tvar = 'ocean_time'\n",
      "start_stop(nc,tvar)"
     ],
     "language": "python",
     "metadata": {},
     "outputs": [
      {
       "output_type": "stream",
       "stream": "stdout",
       "text": [
        "1968-May-23 00:00\n",
        "1968-May-23 02:00\n"
       ]
      }
     ],
     "prompt_number": 26
    },
    {
     "cell_type": "code",
     "collapsed": false,
     "input": [],
     "language": "python",
     "metadata": {},
     "outputs": []
    }
   ],
   "metadata": {}
  }
 ]
}