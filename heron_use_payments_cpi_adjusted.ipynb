{
 "cells": [
  {
   "cell_type": "markdown",
   "metadata": {},
   "source": [
    "# Calculate the 2016 value of amount paid to McFarlands for parking lot and wharf\n",
    "\n",
    "We paid $15,000 each year from 1988 to 2007 (20 years). Using the CPI calculator at http://data.bls.gov/cgi-bin/cpicalc.pl?cost1=15000&year1=2016&year2=1988, we can calculate the total value in current dollars.\n",
    "This will not be completely accurate as we made two payments each year, not one.   But it will be very close. "
   ]
  },
  {
   "cell_type": "code",
   "execution_count": 1,
   "metadata": {
    "collapsed": true
   },
   "outputs": [],
   "source": [
    "import requests\n",
    "from lxml import html\n",
    "from re import sub+\n",
    "from decimal import Decimal"
   ]
  },
  {
   "cell_type": "code",
   "execution_count": 2,
   "metadata": {
    "collapsed": false
   },
   "outputs": [
    {
     "name": "stdout",
     "output_type": "stream",
     "text": [
      "http://data.bls.gov/cgi-bin/cpicalc.pl?cost1=15000&year1=1988&year2=2016\n",
      "$30,513.14\n",
      "http://data.bls.gov/cgi-bin/cpicalc.pl?cost1=15000&year1=1989&year2=2016\n",
      "$29,110.52\n",
      "http://data.bls.gov/cgi-bin/cpicalc.pl?cost1=15000&year1=1990&year2=2016\n",
      "$27,618.25\n",
      "http://data.bls.gov/cgi-bin/cpicalc.pl?cost1=15000&year1=1991&year2=2016\n",
      "$26,502.97\n",
      "http://data.bls.gov/cgi-bin/cpicalc.pl?cost1=15000&year1=1992&year2=2016\n",
      "$25,728.47\n",
      "http://data.bls.gov/cgi-bin/cpicalc.pl?cost1=15000&year1=1993&year2=2016\n",
      "$24,980.66\n",
      "http://data.bls.gov/cgi-bin/cpicalc.pl?cost1=15000&year1=1994&year2=2016\n",
      "$24,356.98\n",
      "http://data.bls.gov/cgi-bin/cpicalc.pl?cost1=15000&year1=1995&year2=2016\n",
      "$23,685.73\n",
      "http://data.bls.gov/cgi-bin/cpicalc.pl?cost1=15000&year1=1996&year2=2016\n",
      "$23,006.41\n",
      "http://data.bls.gov/cgi-bin/cpicalc.pl?cost1=15000&year1=1997&year2=2016\n",
      "$22,490.37\n",
      "http://data.bls.gov/cgi-bin/cpicalc.pl?cost1=15000&year1=1998&year2=2016\n",
      "$22,145.43\n",
      "http://data.bls.gov/cgi-bin/cpicalc.pl?cost1=15000&year1=1999&year2=2016\n",
      "$21,666.90\n",
      "http://data.bls.gov/cgi-bin/cpicalc.pl?cost1=15000&year1=2000&year2=2016\n",
      "$20,962.28\n",
      "http://data.bls.gov/cgi-bin/cpicalc.pl?cost1=15000&year1=2001&year2=2016\n",
      "$20,382.30\n",
      "http://data.bls.gov/cgi-bin/cpicalc.pl?cost1=15000&year1=2002&year2=2016\n",
      "$20,065.06\n",
      "http://data.bls.gov/cgi-bin/cpicalc.pl?cost1=15000&year1=2003&year2=2016\n",
      "$19,617.96\n",
      "http://data.bls.gov/cgi-bin/cpicalc.pl?cost1=15000&year1=2004&year2=2016\n",
      "$19,109.08\n",
      "http://data.bls.gov/cgi-bin/cpicalc.pl?cost1=15000&year1=2005&year2=2016\n",
      "$18,482.87\n",
      "http://data.bls.gov/cgi-bin/cpicalc.pl?cost1=15000&year1=2006&year2=2016\n",
      "$17,905.28\n",
      "http://data.bls.gov/cgi-bin/cpicalc.pl?cost1=15000&year1=2007&year2=2016\n",
      "$17,409.43\n"
     ]
    }
   ],
   "source": [
    "payment = 15000\n",
    "target_year = 2016\n",
    "dollars_2016 = 0\n",
    "for year in range(1988,2008):\n",
    "    url='http://data.bls.gov/cgi-bin/cpicalc.pl?cost1=%i&year1=%i&year2=%i' % (payment,year, target_year)\n",
    "    print(url)\n",
    "    page = requests.get(url)\n",
    "    tree = html.fromstring(page.content)\n",
    "    money = tree.xpath('//span[@id=\"answer\"]/text()')[0]\n",
    "    print(money)\n",
    "    value = Decimal(sub(r'[^\\d.]', '', money))\n",
    "    dollars_2016 += value\n"
   ]
  },
  {
   "cell_type": "code",
   "execution_count": null,
   "metadata": {
    "collapsed": true
   },
   "outputs": [],
   "source": [
    "len"
   ]
  },
  {
   "cell_type": "code",
   "execution_count": 3,
   "metadata": {
    "collapsed": false
   },
   "outputs": [
    {
     "name": "stdout",
     "output_type": "stream",
     "text": [
      "455740.09\n"
     ]
    }
   ],
   "source": [
    "print(dollars_2016)"
   ]
  },
  {
   "cell_type": "markdown",
   "metadata": {},
   "source": [
    "## So that's a total of $455,740!"
   ]
  },
  {
   "cell_type": "code",
   "execution_count": null,
   "metadata": {
    "collapsed": true
   },
   "outputs": [],
   "source": []
  }
 ],
 "metadata": {
  "gist_id": "caf1568819ba71fdc9916ff5bfb0d4ea",
  "kernelspec": {
   "display_name": "Python 2",
   "language": "python",
   "name": "python2"
  },
  "language_info": {
   "codemirror_mode": {
    "name": "ipython",
    "version": 2
   },
   "file_extension": ".py",
   "mimetype": "text/x-python",
   "name": "python",
   "nbconvert_exporter": "python",
   "pygments_lexer": "ipython2",
   "version": "2.7.12"
  }
 },
 "nbformat": 4,
 "nbformat_minor": 0
}
