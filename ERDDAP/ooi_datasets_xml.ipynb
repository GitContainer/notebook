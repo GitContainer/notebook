{
 "cells": [
  {
   "cell_type": "markdown",
   "metadata": {},
   "source": [
    "# Create ERDDAP dataset.xml from NetCDF file\n",
    "Create an ERDDAP <dataset> snippet by reading a NetCDF CF-1.6 DSG **`featureType=TimeSeries`** file"
   ]
  },
  {
   "cell_type": "code",
   "execution_count": 7,
   "metadata": {
    "ExecuteTime": {
     "end_time": "2017-02-09T12:54:13.208394",
     "start_time": "2017-02-09T12:54:13.195138"
    },
    "collapsed": false
   },
   "outputs": [],
   "source": [
    "import numpy as np\n",
    "import netCDF4\n",
    "import uuid\n",
    "import glob\n",
    "import os\n",
    "import string\n",
    "from jinja2 import Environment, FileSystemLoader\n",
    "env = Environment(loader=FileSystemLoader('templates'))"
   ]
  },
  {
   "cell_type": "code",
   "execution_count": 8,
   "metadata": {
    "ExecuteTime": {
     "end_time": "2017-02-09T12:54:13.381018",
     "start_time": "2017-02-09T12:54:13.212237"
    },
    "collapsed": false
   },
   "outputs": [],
   "source": [
    "# generate random 12 digit string for DatasetID\n",
    "def random_name():\n",
    "    rstr = uuid.uuid4().hex[0:12]\n",
    "    rstr = ('_{}_{}_{}'.format(rstr[:4],rstr[4:8],rstr[8:]))\n",
    "    return rstr"
   ]
  },
  {
   "cell_type": "code",
   "execution_count": 9,
   "metadata": {
    "ExecuteTime": {
     "end_time": "2017-02-09T12:54:13.460340",
     "start_time": "2017-02-09T12:54:13.384889"
    },
    "collapsed": false
   },
   "outputs": [
    {
     "name": "stdout",
     "output_type": "stream",
     "text": [
      "_a842_20f0_710f\n"
     ]
    }
   ],
   "source": [
    "print(random_name())"
   ]
  },
  {
   "cell_type": "markdown",
   "metadata": {},
   "source": [
    "ERDDAP Valid values are: double (64-bit floating point), float (32-bit floating point), long (64-bit signed integer), int (32-bit signed integer), short (16-bit signed integer), byte (8-bit signed integer), char (essentially: 16-bit unsigned integer), boolean, and String (any length)."
   ]
  },
  {
   "cell_type": "code",
   "execution_count": 10,
   "metadata": {
    "ExecuteTime": {
     "end_time": "2017-02-09T12:54:13.558120",
     "start_time": "2017-02-09T12:54:13.464147"
    },
    "collapsed": true
   },
   "outputs": [],
   "source": [
    "dmap = {'float64':'double',\n",
    "        'float32':'float',\n",
    "        'int64':'long',\n",
    "        'int32':'int',\n",
    "        'int16':'short',\n",
    "        'b':'byte',\n",
    "        'uint16':'char',\n",
    "        'bool':'boolean',\n",
    "        'S1':'String',\n",
    "        'bytes8':'String',\n",
    "        'string':'String'}"
   ]
  },
  {
   "cell_type": "code",
   "execution_count": 11,
   "metadata": {
    "ExecuteTime": {
     "end_time": "2017-02-09T12:54:13.695221",
     "start_time": "2017-02-09T12:54:13.561763"
    },
    "collapsed": false
   },
   "outputs": [],
   "source": [
    "def dvar_info(nc, dmap=None):\n",
    "    # Assign sourceName:[destinationName, ioos_category, dataType, colorBarMinimum, colorBarMaximum]\n",
    "    dvars = {}\n",
    "    for var in list(nc.variables):\n",
    "        # default is ioos_category \"Unknown\".  Don't calculate limits yet.\n",
    "        erddap_type = dmap[nc[var].dtype.name]\n",
    "        dvars[var]={'destin)ationName':var, \n",
    "                    'ioos_category':'Unknown', \n",
    "                    'dataType':erddap_type, \n",
    "                    'colorBarMinimum':None, \n",
    "                    'colorBarMaximum':None}\n",
    "        # calculate limits for all vars that are not strings\n",
    "        if erddap_type is not 'String':\n",
    "            dvars[var]['colorBarMinimum']= nc[var][:].min()\n",
    "            dvars[var]['colorBarMaximum']= nc[var][:].max()\n",
    "        if np.ma.is_masked(dvars[var]['colorBarMaximum']):\n",
    "             dvars[var]['colorBarMaximum'] = None\n",
    "        if np.ma.is_masked(dvars[var]['colorBarMinimum']):\n",
    "             dvars[var]['colorBarMinimum'] = None\n",
    "\n",
    "    # set destinationName, ioos_category, datatype and limits for coordinate variables\n",
    "    tvar = nc.get_variables_by_attributes(standard_name='time')[0]\n",
    "    dvars[tvar.name] = {'destinationName':'time', \n",
    "                'ioos_category':'Time', \n",
    "                'dataType':dmap[tvar.dtype.name], \n",
    "                'colorBarMinimum':None, \n",
    "                'colorBarMaximum':None}\n",
    "\n",
    "    xvar = nc.get_variables_by_attributes(standard_name='longitude')[0]\n",
    "    dvars[xvar.name] = {'destinationName':'longitude', \n",
    "                'ioos_category':'Location', \n",
    "                'dataType':dmap[xvar.dtype.name], \n",
    "                'colorBarMinimum':-180.0, \n",
    "                'colorBarMaximum':180.0}\n",
    "\n",
    "    yvar = nc.get_variables_by_attributes(standard_name='latitude')[0]\n",
    "    dvars[yvar.name] = {'destinationName':'latitude', \n",
    "                'ioos_category':'Location', \n",
    "                'dataType':dmap[yvar.dtype.name], \n",
    "                'colorBarMinimum':-90.0, \n",
    "                'colorBarMaximum':90.0}\n",
    "\n",
    "    zvar = nc.get_variables_by_attributes(axis='Z')[0]\n",
    "    dvars[zvar.name] = {'destinationName':'altitude', \n",
    "                'ioos_category':'Location', \n",
    "                'dataType':dmap[zvar.dtype.name], \n",
    "                'colorBarMinimum':-8000.0, \n",
    "                'colorBarMaximum':8000.0,\n",
    "                'units':'m'}\n",
    "    return dvars"
   ]
  },
  {
   "cell_type": "code",
   "execution_count": 12,
   "metadata": {
    "ExecuteTime": {
     "end_time": "2017-02-09T12:54:17.628955",
     "start_time": "2017-02-09T12:54:13.699271"
    },
    "collapsed": false
   },
   "outputs": [
    {
     "name": "stdout",
     "output_type": "stream",
     "text": [
      "/sand/usgs/users/rsignell/data/ooi/endurance/nc/ce02shsm_pwrsys_D00004.nc\n",
      "/sand/usgs/users/rsignell/data/ooi/endurance/nc/ce04ossm_pwrsys_D00003.nc\n",
      "/sand/usgs/users/rsignell/data/ooi/endurance/nc/ce07shsm_pwrsys_D00004.nc\n",
      "/sand/usgs/users/rsignell/data/ooi/endurance/nc/ce09ossm_pwrsys_D00004.nc\n"
     ]
    }
   ],
   "source": [
    "opath = '/usgs/data2/notebook/data/xml'\n",
    "ncpath = '/sand/usgs/users/rsignell/data/ooi/endurance/nc/*.nc'\n",
    "for ncfile in glob.glob(ncpath):\n",
    "    drive, path = os.path.splitdrive(ncfile)\n",
    "    path, filename = os.path.split(path)\n",
    "    print(ncfile)\n",
    "    fileDir = path\n",
    "    datasetID = filename.split('.')[0]+random_name()\n",
    "    reloadEveryNMinutes = '10080'\n",
    "    fileNameRegex = filename\n",
    "    subsetVariables = 'latitude, longitude'\n",
    "    infoUrl = 'https://stellwagen.er.usgs.gov/'\n",
    "    cdm_timeseries_variables = subsetVariables\n",
    "    # open a NetCDF CF-1.6+, DSG featureType=timeSeries file\n",
    "    nc = netCDF4.Dataset(ncfile)\n",
    "    keywords = ','.join(list(nc.variables))\n",
    "    dvars = dvar_info(nc, dmap=dmap)\n",
    "    if 'timeSeries' in nc.featureType:\n",
    "        template = env.get_template('timeSeries.xml')\n",
    "        ds_xml = template.render(datasetID=datasetID,\n",
    "                          reloadEveryNMinutes=reloadEveryNMinutes,\n",
    "                          fileDir=fileDir,\n",
    "                          fileNameRegex=fileNameRegex,\n",
    "                          subsetVariables=subsetVariables,\n",
    "                          infoUrl=infoUrl,\n",
    "                          cdm_timeseries_variables=cdm_timeseries_variables,\n",
    "                          keywords=keywords,\n",
    "                          dvars=dvars)   \n",
    "        ofile = os.path.join(opath,'{}.xml'.format(filename))\n",
    "\n",
    "        with open(ofile, \"w\") as text_file:\n",
    "            text_file.write(\"{}\".format(ds_xml))"
   ]
  }
 ],
 "metadata": {
  "_draft": {
   "nbviewer_url": "https://gist.github.com/12605aba841e2ca65d9a8f5afd5db286"
  },
  "anaconda-cloud": {},
  "gist": {
   "data": {
    "description": "testing/Untitled10.ipynb",
    "public": true
   },
   "id": "12605aba841e2ca65d9a8f5afd5db286"
  },
  "kernelspec": {
   "display_name": "Python [conda env:IOOS3]",
   "language": "python",
   "name": "conda-env-IOOS3-py"
  },
  "language_info": {
   "codemirror_mode": {
    "name": "ipython",
    "version": 3
   },
   "file_extension": ".py",
   "mimetype": "text/x-python",
   "name": "python",
   "nbconvert_exporter": "python",
   "pygments_lexer": "ipython3",
   "version": "3.5.2"
  }
 },
 "nbformat": 4,
 "nbformat_minor": 2
}
