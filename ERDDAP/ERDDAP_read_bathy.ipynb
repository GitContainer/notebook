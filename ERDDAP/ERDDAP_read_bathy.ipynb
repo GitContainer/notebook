{
 "cells": [
  {
   "cell_type": "markdown",
   "metadata": {},
   "source": [
    "# Read Bathy data from ERDDAP"
   ]
  },
  {
   "cell_type": "code",
   "execution_count": null,
   "metadata": {
    "collapsed": false
   },
   "outputs": [],
   "source": [
    "!conda install basemap --yes"
   ]
  },
  {
   "cell_type": "code",
   "execution_count": 1,
   "metadata": {
    "collapsed": false
   },
   "outputs": [],
   "source": [
    "import numpy as np\n",
    "import matplotlib.pyplot as plt\n",
    "import urllib\n",
    "import netCDF4\n",
    "from mpl_toolkits.basemap import Basemap"
   ]
  },
  {
   "cell_type": "code",
   "execution_count": 2,
   "metadata": {
    "collapsed": false
   },
   "outputs": [
    {
     "name": "stdout",
     "output_type": "stream",
     "text": [
      "http://coastwatch.pfeg.noaa.gov/erddap/griddap/usgsCeSrtm30v6.nc?topo[(45.000000):5:(42.000000)][(-67.000000):5:(-61.500000)]\n"
     ]
    }
   ],
   "source": [
    "# Definine the domain of interest\n",
    "minlat = 42\n",
    "maxlat = 45\n",
    "minlon = -67\n",
    "maxlon = -61.5\n",
    "isub = 5\n",
    " \n",
    "# Read data from: http://coastwatch.pfeg.noaa.gov/erddap/griddap/usgsCeSrtm30v6.html\n",
    "# using the netCDF output option\n",
    "base_url='http://coastwatch.pfeg.noaa.gov/erddap/griddap/usgsCeSrtm30v6.nc?'\n",
    "query='topo[(%f):%d:(%f)][(%f):%d:(%f)]' % (maxlat,isub,minlat,minlon,isub,maxlon)\n",
    "url = base_url+query\n",
    "print url"
   ]
  },
  {
   "cell_type": "code",
   "execution_count": 3,
   "metadata": {
    "collapsed": false
   },
   "outputs": [
    {
     "data": {
      "text/plain": [
       "('usgsCeSrtm30v6.nc', <httplib.HTTPMessage instance at 0x7f9fce663488>)"
      ]
     },
     "execution_count": 3,
     "metadata": {},
     "output_type": "execute_result"
    }
   ],
   "source": [
    "# store data in NetCDF file\n",
    "file='usgsCeSrtm30v6.nc'\n",
    "urllib.urlretrieve (url, file)"
   ]
  },
  {
   "cell_type": "code",
   "execution_count": 4,
   "metadata": {
    "collapsed": false
   },
   "outputs": [
    {
     "name": "stdout",
     "output_type": "stream",
     "text": [
      "[u'latitude', u'longitude', u'topo']\n"
     ]
    }
   ],
   "source": [
    "# open NetCDF data in \n",
    "nc = netCDF4.Dataset(file)\n",
    "ncv = nc.variables\n",
    "print ncv.keys()"
   ]
  },
  {
   "cell_type": "code",
   "execution_count": 5,
   "metadata": {
    "collapsed": false
   },
   "outputs": [],
   "source": [
    "lon = ncv['longitude'][:]\n",
    "lat = ncv['latitude'][:]\n",
    "lons, lats = np.meshgrid(lon,lat)\n",
    "topo = ncv['topo'][:,:]"
   ]
  },
  {
   "cell_type": "code",
   "execution_count": null,
   "metadata": {
    "collapsed": false
   },
   "outputs": [],
   "source": [
    "# Create map\n",
    "m = Basemap(projection='mill', llcrnrlat=minlat,urcrnrlat=maxlat,llcrnrlon=minlon, urcrnrlon=maxlon,resolution='h')\n",
    "fig1 = plt.figure(figsize=(10,8))\n",
    "cs = m.pcolormesh(lons,lats,topo,cmap=plt.cm.jet,latlon=True)\n",
    "m.drawcoastlines()\n",
    "m.drawmapboundary()\n",
    "plt.title('SMRT30 - Bathymetry/Topography')\n",
    "cbar = plt.colorbar(orientation='horizontal', extend='both')\n",
    "cbar.ax.set_xlabel('meters')\n",
    " \n",
    "# Save figure (without 'white' borders)\n",
    "plt.savefig('topo.png', bbox_inches='tight')"
   ]
  }
 ],
 "metadata": {
  "gist_id": "a4f418c3f588ca32e116",
  "kernelspec": {
   "display_name": "Python 2",
   "language": "python",
   "name": "python2"
  },
  "language_info": {
   "codemirror_mode": {
    "name": "ipython",
    "version": 2
   },
   "file_extension": ".py",
   "mimetype": "text/x-python",
   "name": "python",
   "nbconvert_exporter": "python",
   "pygments_lexer": "ipython2",
   "version": "2.7.10"
  }
 },
 "nbformat": 4,
 "nbformat_minor": 0
}
