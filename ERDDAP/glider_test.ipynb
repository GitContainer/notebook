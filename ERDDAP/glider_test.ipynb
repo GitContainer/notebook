{
 "metadata": {
  "name": "",
  "signature": "sha256:75b81b5ba22eb902cde605fde0eaac391c6262e5ddd43ef7fcc8da56eb570d13"
 },
 "nbformat": 3,
 "nbformat_minor": 0,
 "worksheets": [
  {
   "cells": [
    {
     "cell_type": "heading",
     "level": 1,
     "metadata": {},
     "source": [
      "Try search and access of glider data"
     ]
    },
    {
     "cell_type": "code",
     "collapsed": false,
     "input": [
      "import json, requests\n",
      "\n",
      "url = 'http://erddap.marine.rutgers.edu/erddap/search/advanced.json'\n",
      "\n",
      "params = dict(\n",
      "    page='1',\n",
      "    itemsPerPage='1000',\n",
      "    searchFor='',\n",
      "    protocol='(ANY)',\n",
      "    cdm_data_type='(ANY)',\n",
      "    institution='(ANY)',\n",
      "    ioos_category='(ANY)',\n",
      "    keywords='(ANY)',\n",
      "    long_name='(ANY)',\n",
      "    standard_name='sea_water_temperature',\n",
      "    variableName='(ANY)',\n",
      "    maxLat='37.78803',\n",
      "    minLon='-75.5659',\n",
      "    maxLon='-74.2846',\n",
      "    minLat='37.0371',\n",
      "    minTime='2013-09-23T00%3A00%3A00Z',\n",
      "    maxTime='2013-10-18T00%3A00%3A00Z'\n",
      ")"
     ],
     "language": "python",
     "metadata": {},
     "outputs": [],
     "prompt_number": 56
    },
    {
     "cell_type": "code",
     "collapsed": false,
     "input": [
      "resp = requests.get(url=url, params=params)\n",
      "data = json.loads(resp.text)"
     ],
     "language": "python",
     "metadata": {},
     "outputs": [],
     "prompt_number": 57
    },
    {
     "cell_type": "code",
     "collapsed": false,
     "input": [
      "data['table']['rows'][0][:]\n"
     ],
     "language": "python",
     "metadata": {},
     "outputs": [
      {
       "metadata": {},
       "output_type": "pyout",
       "prompt_number": 58,
       "text": [
        "[u'',\n",
        " u'http://erddap.marine.rutgers.edu/erddap/tabledap/ru22-20130924T2010.subset',\n",
        " u'http://erddap.marine.rutgers.edu/erddap/tabledap/ru22-20130924T2010',\n",
        " u'http://erddap.marine.rutgers.edu/erddap/tabledap/ru22-20130924T2010.graph',\n",
        " u'',\n",
        " u'ru22-20130924T2010',\n",
        " u'U.S. IOOS Mid-Atlantic Regional Consortium of Ocean Observing Systems (MARACOOS) glider deployment to survey the physical and biological properties of Mid-Atlantic Bight coastal waters.\\n\\ncdm_data_type = TrajectoryProfile\\nVARIABLES:\\ntrajectory (Trajectory Name)\\nwmo_id\\ntime (Profile Time, seconds since 1970-01-01T00:00:00Z)\\nlatitude (Profile Latitude, degrees_north)\\nlatitude_qc (latitude Variable Quality Flag)\\nlongitude (Profile Longitude, degrees_east)\\nlongitude_qc (longitude Variable Quality Flag)\\ntime_qc (profile_time Variable Quality Flag)\\ndepth (m)\\ndepth_qc (depth Variable Quality Flag)\\npressure (Sea Water Pressure, dbar)\\npressure_qc (pressure Variable Quality Flag)\\nconductivity (Sea Water Electrical Conductivity, S m-1)\\nconductivity_qc (conductivity Variable Quality Flag)\\ndensity (Sea Water Density, kg m-3)\\ndensity_qc (density Variable Quality Flag)\\nprecise_lat (Precise Latitude, degrees_north)\\nprecise_lon (Precise Longitude, degrees_east)\\nprecise_time (seconds since 1970-01-01T00:00:00Z)\\nprofile_id\\nprecise_lat_qc (lat Variable Quality Flag)\\nprecise_lon_qc (precise_lon Variable Quality Flag)\\nprecise_time_qc (precise_time Variable Quality Flag)\\nsalinity (Sea Water Practical Salinity, 1e-3)\\nsalinity_qc (salinity Variable Quality Flag)\\ntemperature (Sea Water Temperature, Celsius)\\n... (13 more variables)\\n',\n",
        " u'http://erddap.marine.rutgers.edu/erddap/metadata/fgdc/xml/ru22-20130924T2010_fgdc.xml',\n",
        " u'http://erddap.marine.rutgers.edu/erddap/metadata/iso19115/xml/ru22-20130924T2010_iso19115.xml',\n",
        " u'http://erddap.marine.rutgers.edu/erddap/info/ru22-20130924T2010/index.json',\n",
        " u'http://rucool.marine.rutgers.edu',\n",
        " u'http://erddap.marine.rutgers.edu/erddap/rss/ru22-20130924T2010.rss',\n",
        " u'Rutgers University',\n",
        " u'ru22-20130924T2010']"
       ]
      }
     ],
     "prompt_number": 58
    },
    {
     "cell_type": "markdown",
     "metadata": {},
     "source": [
      "Tell ERDDAP to save as NetCDF CF-1.6 multidimensional array"
     ]
    },
    {
     "cell_type": "code",
     "collapsed": false,
     "input": [
      "url='http://erddap.marine.rutgers.edu/erddap/tabledap/ru22-20130924T2010.ncCF?time,latitude,longitude,depth,temperature&trajectory=%22ru22-20130924T2010%22'"
     ],
     "language": "python",
     "metadata": {},
     "outputs": [],
     "prompt_number": 88
    },
    {
     "cell_type": "code",
     "collapsed": false,
     "input": [
      "import urllib"
     ],
     "language": "python",
     "metadata": {},
     "outputs": [],
     "prompt_number": 89
    },
    {
     "cell_type": "code",
     "collapsed": false,
     "input": [
      "urllib.urlretrieve(url,'glider.nc')"
     ],
     "language": "python",
     "metadata": {},
     "outputs": [
      {
       "metadata": {},
       "output_type": "pyout",
       "prompt_number": 90,
       "text": [
        "('glider.nc', <httplib.HTTPMessage instance at 0x7fbaab3ed4d0>)"
       ]
      }
     ],
     "prompt_number": 90
    },
    {
     "cell_type": "code",
     "collapsed": false,
     "input": [
      "import netCDF4"
     ],
     "language": "python",
     "metadata": {},
     "outputs": [],
     "prompt_number": 91
    },
    {
     "cell_type": "code",
     "collapsed": false,
     "input": [
      "nc = netCDF4.Dataset('glider.nc')\n",
      "ncv = nc.variables\n",
      "print ncv.keys()"
     ],
     "language": "python",
     "metadata": {},
     "outputs": [
      {
       "output_type": "stream",
       "stream": "stdout",
       "text": [
        "[u'trajectory', u'profile_id', u'time', u'latitude', u'longitude', u'trajectoryIndex', u'rowSize', u'depth', u'temperature']\n"
       ]
      }
     ],
     "prompt_number": 92
    },
    {
     "cell_type": "code",
     "collapsed": false,
     "input": [
      "print unique(ncv['profile_id'][:])\n",
      "print unique(ncv['trajectoryIndex'][:])"
     ],
     "language": "python",
     "metadata": {},
     "outputs": [
      {
       "output_type": "stream",
       "stream": "stdout",
       "text": [
        "[   1    2    3 ..., 3292 3293 3294]\n",
        "[0]\n"
       ]
      }
     ],
     "prompt_number": 97
    },
    {
     "cell_type": "code",
     "collapsed": false,
     "input": [
      "import pandas as pd"
     ],
     "language": "python",
     "metadata": {},
     "outputs": []
    },
    {
     "cell_type": "code",
     "collapsed": false,
     "input": [
      "print shape(ncv['latitude'])\n",
      "print shape(ncv['temperature'])\n",
      "print shape(ncv['depth'])"
     ],
     "language": "python",
     "metadata": {},
     "outputs": [
      {
       "output_type": "stream",
       "stream": "stdout",
       "text": [
        "(3294,)\n",
        "(777280,)\n",
        "(777280,)\n"
       ]
      }
     ],
     "prompt_number": 96
    },
    {
     "cell_type": "code",
     "collapsed": false,
     "input": [
      "t = np.squeeze(ncv['temperature'][:,:,:])\n",
      "d = np.squeeze(ncv['depth'][:,:,:])\n",
      "lon = np.squeeze(ncv['longitude'][:,:])\n",
      "lat = np.squeeze(ncv['latitude'][:,:])"
     ],
     "language": "python",
     "metadata": {},
     "outputs": [],
     "prompt_number": 80
    },
    {
     "cell_type": "code",
     "collapsed": false,
     "input": [
      "shape(t)"
     ],
     "language": "python",
     "metadata": {},
     "outputs": [
      {
       "metadata": {},
       "output_type": "pyout",
       "prompt_number": 81,
       "text": [
        "(3294, 680)"
       ]
      }
     ],
     "prompt_number": 81
    },
    {
     "cell_type": "code",
     "collapsed": false,
     "input": [
      "pcolormesh(lon.T,d.T,t.T);"
     ],
     "language": "python",
     "metadata": {},
     "outputs": [
      {
       "metadata": {},
       "output_type": "pyout",
       "prompt_number": 87,
       "text": [
        "<matplotlib.collections.QuadMesh at 0x7fbaab31d0d0>"
       ]
      },
      {
       "metadata": {},
       "output_type": "display_data",
       "png": "[encoded data removed]",
       "text": [
        "<matplotlib.figure.Figure at 0x7fbaef3b5c90>"
       ]
      }
     ],
     "prompt_number": 87
    },
    {
     "cell_type": "code",
     "collapsed": false,
     "input": [],
     "language": "python",
     "metadata": {},
     "outputs": []
    }
   ],
   "metadata": {}
  }
 ]
}