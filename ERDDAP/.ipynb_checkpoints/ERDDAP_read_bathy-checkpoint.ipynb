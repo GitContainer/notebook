{
 "cells": [
  {
   "cell_type": "markdown",
   "metadata": {},
   "source": [
    "# Read Bathy data from ERDDAP"
   ]
  },
  {
   "cell_type": "code",
   "execution_count": 3,
   "metadata": {
    "collapsed": false
   },
   "outputs": [
    {
     "name": "stdout",
     "output_type": "stream",
     "text": [
      "Fetching package metadata: ......\n",
      "Solving package specifications: ......................\n",
      "Package plan for installation in environment /home/usgs/miniconda/envs/ioos:\n",
      "\n",
      "The following packages will be downloaded:\n",
      "\n",
      "    package                    |            build\n",
      "    ---------------------------|-----------------\n",
      "    cycler-0.9.0               |           py27_0           6 KB  defaults\n",
      "    matplotlib-1.5.0           |      np110py27_0         8.2 MB  defaults\n",
      "    basemap-1.0.7              |      np110py27_0       119.0 MB  defaults\n",
      "    ------------------------------------------------------------\n",
      "                                           Total:       127.1 MB\n",
      "\n",
      "The following NEW packages will be INSTALLED:\n",
      "\n",
      "    cycler:     0.9.0-py27_0      defaults\n",
      "\n",
      "The following packages will be UPDATED:\n",
      "\n",
      "    basemap:    1.0.7-np19py27_0  defaults --> 1.0.7-np110py27_0 defaults\n",
      "    matplotlib: 1.4.3-np110py27_2 defaults --> 1.5.0-np110py27_0 defaults\n",
      "\n",
      "The following packages will be DOWNGRADED:\n",
      "\n",
      "    geos:       3.4.2-1           ioos     --> 3.3.3-0           defaults\n",
      "\n",
      "Fetching packages ...\n",
      "cycler-0.9.0-p 100% |################################| Time: 0:00:00   4.46 MB/s\n",
      "matplotlib-1.5 100% |################################| Time: 0:00:00  11.46 MB/s\n",
      "basemap-1.0.7- 100% |################################| Time: 0:00:04  26.89 MB/s\n",
      "Extracting packages ...\n",
      "[      COMPLETE      ]|###################################################| 100%\n",
      "Unlinking packages ...\n",
      "[      COMPLETE      ]|###################################################| 100%\n",
      "Linking packages ...\n",
      "[      COMPLETE      ]|###################################################| 100%\n"
     ]
    }
   ],
   "source": [
    "!conda install basemap --yes"
   ]
  },
  {
   "cell_type": "code",
   "execution_count": 1,
   "metadata": {
    "collapsed": false
   },
   "outputs": [
    {
     "ename": "ImportError",
     "evalue": "libgeos-3.3.3.so: cannot open shared object file: No such file or directory",
     "output_type": "error",
     "traceback": [
      "\u001b[1;31m---------------------------------------------------------------------------\u001b[0m",
      "\u001b[1;31mImportError\u001b[0m                               Traceback (most recent call last)",
      "\u001b[1;32m<ipython-input-1-a083b115749a>\u001b[0m in \u001b[0;36m<module>\u001b[1;34m()\u001b[0m\n\u001b[0;32m      3\u001b[0m \u001b[1;32mimport\u001b[0m \u001b[0murllib\u001b[0m\u001b[1;33m\u001b[0m\u001b[0m\n\u001b[0;32m      4\u001b[0m \u001b[1;32mimport\u001b[0m \u001b[0mnetCDF4\u001b[0m\u001b[1;33m\u001b[0m\u001b[0m\n\u001b[1;32m----> 5\u001b[1;33m \u001b[1;32mfrom\u001b[0m \u001b[0mmpl_toolkits\u001b[0m\u001b[1;33m.\u001b[0m\u001b[0mbasemap\u001b[0m \u001b[1;32mimport\u001b[0m \u001b[0mBasemap\u001b[0m\u001b[1;33m\u001b[0m\u001b[0m\n\u001b[0m",
      "\u001b[1;32m/home/usgs/miniconda/envs/ioos/lib/python2.7/site-packages/mpl_toolkits/basemap/__init__.py\u001b[0m in \u001b[0;36m<module>\u001b[1;34m()\u001b[0m\n\u001b[0;32m     35\u001b[0m \u001b[1;32mimport\u001b[0m \u001b[0mnumpy\u001b[0m \u001b[1;32mas\u001b[0m \u001b[0mnp\u001b[0m\u001b[1;33m\u001b[0m\u001b[0m\n\u001b[0;32m     36\u001b[0m \u001b[1;32mimport\u001b[0m \u001b[0mnumpy\u001b[0m\u001b[1;33m.\u001b[0m\u001b[0mma\u001b[0m \u001b[1;32mas\u001b[0m \u001b[0mma\u001b[0m\u001b[1;33m\u001b[0m\u001b[0m\n\u001b[1;32m---> 37\u001b[1;33m \u001b[1;32mimport\u001b[0m \u001b[0m_geoslib\u001b[0m\u001b[1;33m\u001b[0m\u001b[0m\n\u001b[0m\u001b[0;32m     38\u001b[0m \u001b[1;32mimport\u001b[0m \u001b[0mfunctools\u001b[0m\u001b[1;33m\u001b[0m\u001b[0m\n\u001b[0;32m     39\u001b[0m \u001b[1;33m\u001b[0m\u001b[0m\n",
      "\u001b[1;31mImportError\u001b[0m: libgeos-3.3.3.so: cannot open shared object file: No such file or directory"
     ]
    }
   ],
   "source": [
    "import numpy as np\n",
    "import matplotlib.pyplot as plt\n",
    "import urllib\n",
    "import netCDF4\n",
    "from mpl_toolkits.basemap import Basemap"
   ]
  },
  {
   "cell_type": "code",
   "execution_count": null,
   "metadata": {
    "collapsed": false
   },
   "outputs": [],
   "source": [
    "# Definine the domain of interest\n",
    "minlat = 42\n",
    "maxlat = 45\n",
    "minlon = -67\n",
    "maxlon = -61.5\n",
    "isub = 5\n",
    " \n",
    "# Read data from: http://coastwatch.pfeg.noaa.gov/erddap/griddap/usgsCeSrtm30v6.html\n",
    "# using the netCDF output option\n",
    "base_url='http://coastwatch.pfeg.noaa.gov/erddap/griddap/usgsCeSrtm30v6.nc?'\n",
    "query='topo[(%f):%d:(%f)][(%f):%d:(%f)]' % (maxlat,isub,minlat,minlon,isub,maxlon)\n",
    "url = base_url+query\n",
    "print url"
   ]
  },
  {
   "cell_type": "code",
   "execution_count": null,
   "metadata": {
    "collapsed": false
   },
   "outputs": [],
   "source": [
    "# store data in NetCDF file\n",
    "file='usgsCeSrtm30v6.nc'\n",
    "urllib.urlretrieve (url, file)"
   ]
  },
  {
   "cell_type": "code",
   "execution_count": null,
   "metadata": {
    "collapsed": false
   },
   "outputs": [],
   "source": [
    "# open NetCDF data in \n",
    "nc = netCDF4.Dataset(file)\n",
    "ncv = nc.variables\n",
    "print ncv.keys()"
   ]
  },
  {
   "cell_type": "code",
   "execution_count": null,
   "metadata": {
    "collapsed": false
   },
   "outputs": [],
   "source": [
    "lon = ncv['longitude'][:]\n",
    "lat = ncv['latitude'][:]\n",
    "lons, lats = np.meshgrid(lon,lat)\n",
    "topo = ncv['topo'][:,:]"
   ]
  },
  {
   "cell_type": "code",
   "execution_count": null,
   "metadata": {
    "collapsed": false
   },
   "outputs": [],
   "source": [
    "# Create map\n",
    "m = Basemap(projection='mill', llcrnrlat=minlat,urcrnrlat=maxlat,llcrnrlon=minlon, urcrnrlon=maxlon,resolution='h')\n",
    "fig1 = plt.figure(figsize=(10,8))\n",
    "cs = m.pcolormesh(lons,lats,topo,cmap=plt.cm.jet,latlon=True)\n",
    "m.drawcoastlines()\n",
    "m.drawmapboundary()\n",
    "plt.title('SMRT30 - Bathymetry/Topography')\n",
    "cbar = plt.colorbar(orientation='horizontal', extend='both')\n",
    "cbar.ax.set_xlabel('meters')\n",
    " \n",
    "# Save figure (without 'white' borders)\n",
    "plt.savefig('topo.png', bbox_inches='tight')"
   ]
  }
 ],
 "metadata": {
  "gist_id": "a4f418c3f588ca32e116",
  "kernelspec": {
   "display_name": "Python 2",
   "language": "python",
   "name": "python2"
  },
  "language_info": {
   "codemirror_mode": {
    "name": "ipython",
    "version": 2
   },
   "file_extension": ".py",
   "mimetype": "text/x-python",
   "name": "python",
   "nbconvert_exporter": "python",
   "pygments_lexer": "ipython2",
   "version": "2.7.10"
  }
 },
 "nbformat": 4,
 "nbformat_minor": 0
}
