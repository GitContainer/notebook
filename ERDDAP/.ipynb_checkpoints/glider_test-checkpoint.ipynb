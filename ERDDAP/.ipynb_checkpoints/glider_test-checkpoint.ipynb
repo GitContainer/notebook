{
 "metadata": {
  "name": "",
  "signature": "sha256:b8fa4d5abbf3af3329d257a7333061042e97ca37244dd58fc82d6a6c264ca115"
 },
 "nbformat": 3,
 "nbformat_minor": 0,
 "worksheets": [
  {
   "cells": [
    {
     "cell_type": "heading",
     "level": 1,
     "metadata": {},
     "source": [
      "Try search and access of glider data"
     ]
    },
    {
     "cell_type": "code",
     "collapsed": false,
     "input": [
      "import json, requests\n",
      "\n",
      "url = 'http://erddap.marine.rutgers.edu/erddap/search/advanced.json'\n",
      "\n",
      "params = dict(\n",
      "    origin='Chicago,IL',\n",
      "    destination='Los+Angeles,CA',\n",
      "    waypoints='Joplin,MO|Oklahoma+City,OK',\n",
      "    sensor='false'\n",
      ")\n",
      "\n",
      "resp = requests.get(url=url, params=params)\n",
      "data = json.loads(resp.text)"
     ],
     "language": "python",
     "metadata": {},
     "outputs": [
      {
       "ename": "ValueError",
       "evalue": "No JSON object could be decoded",
       "output_type": "pyerr",
       "traceback": [
        "\u001b[1;31m---------------------------------------------------------------------------\u001b[0m\n\u001b[1;31mValueError\u001b[0m                                Traceback (most recent call last)",
        "\u001b[1;32m<ipython-input-45-27ab9485975c>\u001b[0m in \u001b[0;36m<module>\u001b[1;34m()\u001b[0m\n\u001b[0;32m     11\u001b[0m \u001b[1;33m\u001b[0m\u001b[0m\n\u001b[0;32m     12\u001b[0m \u001b[0mresp\u001b[0m \u001b[1;33m=\u001b[0m \u001b[0mrequests\u001b[0m\u001b[1;33m.\u001b[0m\u001b[0mget\u001b[0m\u001b[1;33m(\u001b[0m\u001b[0murl\u001b[0m\u001b[1;33m=\u001b[0m\u001b[0murl\u001b[0m\u001b[1;33m,\u001b[0m \u001b[0mparams\u001b[0m\u001b[1;33m=\u001b[0m\u001b[0mparams\u001b[0m\u001b[1;33m)\u001b[0m\u001b[1;33m\u001b[0m\u001b[0m\n\u001b[1;32m---> 13\u001b[1;33m \u001b[0mdata\u001b[0m \u001b[1;33m=\u001b[0m \u001b[0mjson\u001b[0m\u001b[1;33m.\u001b[0m\u001b[0mloads\u001b[0m\u001b[1;33m(\u001b[0m\u001b[0mresp\u001b[0m\u001b[1;33m.\u001b[0m\u001b[0mtext\u001b[0m\u001b[1;33m)\u001b[0m\u001b[1;33m\u001b[0m\u001b[0m\n\u001b[0m",
        "\u001b[1;32m/home/usgs/anaconda/lib/python2.7/json/__init__.pyc\u001b[0m in \u001b[0;36mloads\u001b[1;34m(s, encoding, cls, object_hook, parse_float, parse_int, parse_constant, object_pairs_hook, **kw)\u001b[0m\n\u001b[0;32m    336\u001b[0m             \u001b[0mparse_int\u001b[0m \u001b[1;32mis\u001b[0m \u001b[0mNone\u001b[0m \u001b[1;32mand\u001b[0m \u001b[0mparse_float\u001b[0m \u001b[1;32mis\u001b[0m \u001b[0mNone\u001b[0m \u001b[1;32mand\u001b[0m\u001b[1;33m\u001b[0m\u001b[0m\n\u001b[0;32m    337\u001b[0m             parse_constant is None and object_pairs_hook is None and not kw):\n\u001b[1;32m--> 338\u001b[1;33m         \u001b[1;32mreturn\u001b[0m \u001b[0m_default_decoder\u001b[0m\u001b[1;33m.\u001b[0m\u001b[0mdecode\u001b[0m\u001b[1;33m(\u001b[0m\u001b[0ms\u001b[0m\u001b[1;33m)\u001b[0m\u001b[1;33m\u001b[0m\u001b[0m\n\u001b[0m\u001b[0;32m    339\u001b[0m     \u001b[1;32mif\u001b[0m \u001b[0mcls\u001b[0m \u001b[1;32mis\u001b[0m \u001b[0mNone\u001b[0m\u001b[1;33m:\u001b[0m\u001b[1;33m\u001b[0m\u001b[0m\n\u001b[0;32m    340\u001b[0m         \u001b[0mcls\u001b[0m \u001b[1;33m=\u001b[0m \u001b[0mJSONDecoder\u001b[0m\u001b[1;33m\u001b[0m\u001b[0m\n",
        "\u001b[1;32m/home/usgs/anaconda/lib/python2.7/json/decoder.pyc\u001b[0m in \u001b[0;36mdecode\u001b[1;34m(self, s, _w)\u001b[0m\n\u001b[0;32m    364\u001b[0m \u001b[1;33m\u001b[0m\u001b[0m\n\u001b[0;32m    365\u001b[0m         \"\"\"\n\u001b[1;32m--> 366\u001b[1;33m         \u001b[0mobj\u001b[0m\u001b[1;33m,\u001b[0m \u001b[0mend\u001b[0m \u001b[1;33m=\u001b[0m \u001b[0mself\u001b[0m\u001b[1;33m.\u001b[0m\u001b[0mraw_decode\u001b[0m\u001b[1;33m(\u001b[0m\u001b[0ms\u001b[0m\u001b[1;33m,\u001b[0m \u001b[0midx\u001b[0m\u001b[1;33m=\u001b[0m\u001b[0m_w\u001b[0m\u001b[1;33m(\u001b[0m\u001b[0ms\u001b[0m\u001b[1;33m,\u001b[0m \u001b[1;36m0\u001b[0m\u001b[1;33m)\u001b[0m\u001b[1;33m.\u001b[0m\u001b[0mend\u001b[0m\u001b[1;33m(\u001b[0m\u001b[1;33m)\u001b[0m\u001b[1;33m)\u001b[0m\u001b[1;33m\u001b[0m\u001b[0m\n\u001b[0m\u001b[0;32m    367\u001b[0m         \u001b[0mend\u001b[0m \u001b[1;33m=\u001b[0m \u001b[0m_w\u001b[0m\u001b[1;33m(\u001b[0m\u001b[0ms\u001b[0m\u001b[1;33m,\u001b[0m \u001b[0mend\u001b[0m\u001b[1;33m)\u001b[0m\u001b[1;33m.\u001b[0m\u001b[0mend\u001b[0m\u001b[1;33m(\u001b[0m\u001b[1;33m)\u001b[0m\u001b[1;33m\u001b[0m\u001b[0m\n\u001b[0;32m    368\u001b[0m         \u001b[1;32mif\u001b[0m \u001b[0mend\u001b[0m \u001b[1;33m!=\u001b[0m \u001b[0mlen\u001b[0m\u001b[1;33m(\u001b[0m\u001b[0ms\u001b[0m\u001b[1;33m)\u001b[0m\u001b[1;33m:\u001b[0m\u001b[1;33m\u001b[0m\u001b[0m\n",
        "\u001b[1;32m/home/usgs/anaconda/lib/python2.7/json/decoder.pyc\u001b[0m in \u001b[0;36mraw_decode\u001b[1;34m(self, s, idx)\u001b[0m\n\u001b[0;32m    382\u001b[0m             \u001b[0mobj\u001b[0m\u001b[1;33m,\u001b[0m \u001b[0mend\u001b[0m \u001b[1;33m=\u001b[0m \u001b[0mself\u001b[0m\u001b[1;33m.\u001b[0m\u001b[0mscan_once\u001b[0m\u001b[1;33m(\u001b[0m\u001b[0ms\u001b[0m\u001b[1;33m,\u001b[0m \u001b[0midx\u001b[0m\u001b[1;33m)\u001b[0m\u001b[1;33m\u001b[0m\u001b[0m\n\u001b[0;32m    383\u001b[0m         \u001b[1;32mexcept\u001b[0m \u001b[0mStopIteration\u001b[0m\u001b[1;33m:\u001b[0m\u001b[1;33m\u001b[0m\u001b[0m\n\u001b[1;32m--> 384\u001b[1;33m             \u001b[1;32mraise\u001b[0m \u001b[0mValueError\u001b[0m\u001b[1;33m(\u001b[0m\u001b[1;34m\"No JSON object could be decoded\"\u001b[0m\u001b[1;33m)\u001b[0m\u001b[1;33m\u001b[0m\u001b[0m\n\u001b[0m\u001b[0;32m    385\u001b[0m         \u001b[1;32mreturn\u001b[0m \u001b[0mobj\u001b[0m\u001b[1;33m,\u001b[0m \u001b[0mend\u001b[0m\u001b[1;33m\u001b[0m\u001b[0m\n",
        "\u001b[1;31mValueError\u001b[0m: No JSON object could be decoded"
       ]
      }
     ],
     "prompt_number": 45
    },
    {
     "cell_type": "code",
     "collapsed": false,
     "input": [
      "import json, requests\n",
      "\n",
      "url = 'http://erddap.marine.rutgers.edu/erddap/search/advanced.json'\n",
      "\n",
      "params = dict(\n",
      "    page='1',\n",
      "    itemsPerPage='1000',\n",
      "    searchFor='',\n",
      "    protocol='(ANY)',\n",
      "    cdm_data_type='(ANY)',\n",
      "    institution='(ANY)',\n",
      "    ioos_category='(ANY)',\n",
      "    keywords='(ANY)',\n",
      "    long_name='(ANY)',\n",
      "    standard_name='sea_water_temperature',\n",
      "    variableName='(ANY)',\n",
      "    maxLat='37.78803',\n",
      "    minLon='-75.5659',\n",
      "    maxLon='-74.2846',\n",
      "    minLat='37.0371',\n",
      "    minTime='2013-09-23T00%3A00%3A00Z',\n",
      "    maxTime='2013-10-18T00%3A00%3A00Z'\n",
      ")"
     ],
     "language": "python",
     "metadata": {},
     "outputs": [],
     "prompt_number": 46
    },
    {
     "cell_type": "code",
     "collapsed": false,
     "input": [
      "resp = requests.get(url=url, params=params)\n",
      "data = json.loads(resp.text)"
     ],
     "language": "python",
     "metadata": {},
     "outputs": [],
     "prompt_number": 47
    },
    {
     "cell_type": "code",
     "collapsed": false,
     "input": [
      "data['table']['rows'][0][:]\n"
     ],
     "language": "python",
     "metadata": {},
     "outputs": [
      {
       "metadata": {},
       "output_type": "pyout",
       "prompt_number": 48,
       "text": [
        "[u'',\n",
        " u'http://erddap.marine.rutgers.edu/erddap/tabledap/ru22-20130924T2010.subset',\n",
        " u'http://erddap.marine.rutgers.edu/erddap/tabledap/ru22-20130924T2010',\n",
        " u'http://erddap.marine.rutgers.edu/erddap/tabledap/ru22-20130924T2010.graph',\n",
        " u'',\n",
        " u'ru22-20130924T2010',\n",
        " u'U.S. IOOS Mid-Atlantic Regional Consortium of Ocean Observing Systems (MARACOOS) glider deployment to survey the physical and biological properties of Mid-Atlantic Bight coastal waters.\\n\\ncdm_data_type = TrajectoryProfile\\nVARIABLES:\\ntrajectory (Trajectory Name)\\nwmo_id\\ntime (Profile Time, seconds since 1970-01-01T00:00:00Z)\\nlatitude (Profile Latitude, degrees_north)\\nlatitude_qc (latitude Variable Quality Flag)\\nlongitude (Profile Longitude, degrees_east)\\nlongitude_qc (longitude Variable Quality Flag)\\ntime_qc (profile_time Variable Quality Flag)\\ndepth (m)\\ndepth_qc (depth Variable Quality Flag)\\npressure (Sea Water Pressure, dbar)\\npressure_qc (pressure Variable Quality Flag)\\nconductivity (Sea Water Electrical Conductivity, S m-1)\\nconductivity_qc (conductivity Variable Quality Flag)\\ndensity (Sea Water Density, kg m-3)\\ndensity_qc (density Variable Quality Flag)\\nprecise_lat (Precise Latitude, degrees_north)\\nprecise_lon (Precise Longitude, degrees_east)\\nprecise_time (seconds since 1970-01-01T00:00:00Z)\\nprofile_id\\nprecise_lat_qc (lat Variable Quality Flag)\\nprecise_lon_qc (precise_lon Variable Quality Flag)\\nprecise_time_qc (precise_time Variable Quality Flag)\\nsalinity (Sea Water Practical Salinity, 1e-3)\\nsalinity_qc (salinity Variable Quality Flag)\\ntemperature (Sea Water Temperature, Celsius)\\n... (13 more variables)\\n',\n",
        " u'http://erddap.marine.rutgers.edu/erddap/metadata/fgdc/xml/ru22-20130924T2010_fgdc.xml',\n",
        " u'http://erddap.marine.rutgers.edu/erddap/metadata/iso19115/xml/ru22-20130924T2010_iso19115.xml',\n",
        " u'http://erddap.marine.rutgers.edu/erddap/info/ru22-20130924T2010/index.json',\n",
        " u'http://rucool.marine.rutgers.edu',\n",
        " u'http://erddap.marine.rutgers.edu/erddap/rss/ru22-20130924T2010.rss',\n",
        " u'Rutgers University',\n",
        " u'ru22-20130924T2010']"
       ]
      }
     ],
     "prompt_number": 48
    },
    {
     "cell_type": "code",
     "collapsed": false,
     "input": [
      "a[0][2]"
     ],
     "language": "python",
     "metadata": {},
     "outputs": [
      {
       "ename": "IndexError",
       "evalue": "string index out of range",
       "output_type": "pyerr",
       "traceback": [
        "\u001b[1;31m---------------------------------------------------------------------------\u001b[0m\n\u001b[1;31mIndexError\u001b[0m                                Traceback (most recent call last)",
        "\u001b[1;32m<ipython-input-49-b42dc5b0a63a>\u001b[0m in \u001b[0;36m<module>\u001b[1;34m()\u001b[0m\n\u001b[1;32m----> 1\u001b[1;33m \u001b[0ma\u001b[0m\u001b[1;33m[\u001b[0m\u001b[1;36m0\u001b[0m\u001b[1;33m]\u001b[0m\u001b[1;33m[\u001b[0m\u001b[1;36m2\u001b[0m\u001b[1;33m]\u001b[0m\u001b[1;33m\u001b[0m\u001b[0m\n\u001b[0m",
        "\u001b[1;31mIndexError\u001b[0m: string index out of range"
       ]
      }
     ],
     "prompt_number": 49
    },
    {
     "cell_type": "code",
     "collapsed": false,
     "input": [
      "url='http://erddap.marine.rutgers.edu/erddap/tabledap/ru22-20130924T2010.ncCFMA?time,latitude,longitude,depth,temperature&trajectory=%22ru22-20130924T2010%22'"
     ],
     "language": "python",
     "metadata": {},
     "outputs": [],
     "prompt_number": 54
    },
    {
     "cell_type": "code",
     "collapsed": false,
     "input": [
      "import urllib"
     ],
     "language": "python",
     "metadata": {},
     "outputs": []
    },
    {
     "cell_type": "code",
     "collapsed": false,
     "input": [
      "urllib.ur``"
     ],
     "language": "python",
     "metadata": {},
     "outputs": []
    },
    {
     "cell_type": "code",
     "collapsed": false,
     "input": [
      "import pandas as pd"
     ],
     "language": "python",
     "metadata": {},
     "outputs": []
    },
    {
     "cell_type": "code",
     "collapsed": false,
     "input": [
      "!ls -sail *.nc"
     ],
     "language": "python",
     "metadata": {},
     "outputs": [
      {
       "output_type": "stream",
       "stream": "stdout",
       "text": [
        "ls: cannot access *.nc: No such file or directory\r\n"
       ]
      }
     ],
     "prompt_number": 53
    },
    {
     "cell_type": "code",
     "collapsed": false,
     "input": [],
     "language": "python",
     "metadata": {},
     "outputs": []
    }
   ],
   "metadata": {}
  }
 ]
}