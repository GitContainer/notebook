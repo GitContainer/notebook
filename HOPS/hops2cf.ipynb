{
 "cells": [
  {
   "cell_type": "markdown",
   "metadata": {},
   "source": [
    "The problem: CF compliant readers cannot read  HOPS dataset directly.\n",
    "The solution: read with the `netCDF4-python` raw interface and create a CF object from the data.\n",
    "\n",
    "NOTE: Ideally this should be a `nco` script that could be run as a CLI script and fix the files.\n",
    "Here I am using `Python`+`iris`. That works and could be written as a CLI script too.\n",
    "The main advantage is that it takes care of the CF boilerplate.\n",
    "However, this approach is to \"heavy-weight\" to be applied in many variables and files."
   ]
  },
  {
   "cell_type": "code",
   "execution_count": 1,
   "metadata": {
    "collapsed": true
   },
   "outputs": [],
   "source": [
    "from netCDF4 import Dataset\n",
    "\n",
    "url = ('http://geoport.whoi.edu/thredds/dodsC/usgs/data2/rsignell/gdrive/'\n",
    "       'nsf-alpha/Data/MIT_MSEAS/MSEAS_Tides_20160317/mseas_tides_2015071612_2015081612_01h.nc')\n",
    "\n",
    "nc = Dataset(url)"
   ]
  },
  {
   "cell_type": "markdown",
   "metadata": {},
   "source": [
    "Extract `lon`, `lat` variables from `vgrid2` and `u`, `v` variables from `vbaro`.\n",
    "The goal is to split the joint variables into individual CF compliant phenomena."
   ]
  },
  {
   "cell_type": "code",
   "execution_count": 2,
   "metadata": {
    "collapsed": false
   },
   "outputs": [],
   "source": [
    "vtime = nc['time']\n",
    "coords = nc['vgrid2']\n",
    "vbaro = nc['vbaro']"
   ]
  },
  {
   "cell_type": "markdown",
   "metadata": {},
   "source": [
    "Using iris to create the CF object.\n",
    "\n",
    "NOTE: ideally `lon`, `lat` should be `DimCoord` like time and not `AuxCoord`,\n",
    "but iris refuses to create 2D `DimCoord`. Not sure if CF enforces that though."
   ]
  },
  {
   "cell_type": "markdown",
   "metadata": {},
   "source": [
    "First the Coordinates.\n",
    "\n",
    "FIXME: change to a full time slice later!"
   ]
  },
  {
   "cell_type": "code",
   "execution_count": 3,
   "metadata": {
    "collapsed": true
   },
   "outputs": [],
   "source": [
    "itime = -1"
   ]
  },
  {
   "cell_type": "code",
   "execution_count": 4,
   "metadata": {
    "collapsed": false
   },
   "outputs": [],
   "source": [
    "import iris\n",
    "iris.FUTURE.netcdf_no_unlimited = True\n",
    "\n",
    "time = iris.coords.DimCoord(vtime[itime],\n",
    "                            var_name='time',\n",
    "                            long_name=vtime.long_name,\n",
    "                            standard_name='longitude',\n",
    "                            units=vtime.units)\n",
    "\n",
    "longitude = iris.coords.AuxCoord(coords[:, :, 0],\n",
    "                                 var_name='vlat',\n",
    "                                 standard_name='longitude',\n",
    "                                 units='degrees')\n",
    "\n",
    "latitude = iris.coords.AuxCoord(coords[:, :, 1],\n",
    "                                var_name='vlon',\n",
    "                                standard_name='latitude',\n",
    "                                units='degrees')"
   ]
  },
  {
   "cell_type": "markdown",
   "metadata": {},
   "source": [
    "Now the phenomena.\n",
    "\n",
    "NOTE: You don't need the `broadcast_to` trick if saving more than 1 time step.\n",
    "Here I just wanted the single time snapshot to have the time dimension to create a full example."
   ]
  },
  {
   "cell_type": "code",
   "execution_count": 5,
   "metadata": {
    "collapsed": true
   },
   "outputs": [],
   "source": [
    "import numpy as np\n",
    "\n",
    "u = vbaro[itime, :, :, 0]\n",
    "u_cube = iris.cube.Cube(np.broadcast_to(u, (1,) + u.shape),\n",
    "                        units=vbaro.units,\n",
    "                        long_name=vbaro.long_name,\n",
    "                        var_name='u',\n",
    "                        standard_name='barotropic_eastward_sea_water_velocity',\n",
    "                        dim_coords_and_dims=[(time, 0)],\n",
    "                        aux_coords_and_dims=[(latitude, (1, 2)),\n",
    "                                             (longitude, (1, 2))])\n",
    "\n",
    "v = vbaro[itime, :, :, 1]\n",
    "v_cube = iris.cube.Cube(np.broadcast_to(v, (1,) + v.shape),\n",
    "                        units=vbaro.units,\n",
    "                        long_name=vbaro.long_name,\n",
    "                        var_name='v',\n",
    "                        standard_name='barotropic_northward_sea_water_velocity',\n",
    "                        dim_coords_and_dims=[(time, 0)],\n",
    "                        aux_coords_and_dims=[(latitude, (1, 2)),\n",
    "                                             (longitude, (1, 2))])"
   ]
  },
  {
   "cell_type": "markdown",
   "metadata": {},
   "source": [
    "Join the individual CF phenomena into one dataset."
   ]
  },
  {
   "cell_type": "code",
   "execution_count": 6,
   "metadata": {
    "collapsed": true
   },
   "outputs": [],
   "source": [
    "cubes = iris.cube.CubeList([u_cube, v_cube])"
   ]
  },
  {
   "cell_type": "markdown",
   "metadata": {},
   "source": [
    "Save the CF-compliant file!"
   ]
  },
  {
   "cell_type": "code",
   "execution_count": 7,
   "metadata": {
    "collapsed": false
   },
   "outputs": [],
   "source": [
    "iris.save(cubes, 'hops.nc')"
   ]
  },
  {
   "cell_type": "code",
   "execution_count": 8,
   "metadata": {
    "collapsed": false
   },
   "outputs": [
    {
     "name": "stdout",
     "output_type": "stream",
     "text": [
      "ncdump: /home/usgs/miniconda/envs/ioos/bin/../lib/./libssl.so.1.0.0: no version information available (required by /usr/lib/x86_64-linux-gnu/libcurl.so.4)\r\n",
      "ncdump: /home/usgs/miniconda/envs/ioos/bin/../lib/./libssl.so.1.0.0: no version information available (required by /usr/lib/x86_64-linux-gnu/libcurl.so.4)\r\n",
      "ncdump: /home/usgs/miniconda/envs/ioos/bin/../lib/./libcrypto.so.1.0.0: no version information available (required by /usr/lib/x86_64-linux-gnu/libcurl.so.4)\r\n",
      "netcdf hops {\r\n",
      "dimensions:\r\n",
      "\ttime = 1 ;\r\n",
      "\tdim1 = 866 ;\r\n",
      "\tdim2 = 1032 ;\r\n",
      "variables:\r\n",
      "\tfloat u(time, dim1, dim2) ;\r\n",
      "\t\tu:standard_name = \"barotropic_eastward_sea_water_velocity\" ;\r\n",
      "\t\tstring u:long_name = \"barotropic velocity\" ;\r\n",
      "\t\tu:units = \"centimeter second-1\" ;\r\n",
      "\t\tu:coordinates = \"vlat vlon\" ;\r\n",
      "\tfloat time(time) ;\r\n",
      "\t\ttime:axis = \"X\" ;\r\n",
      "\t\ttime:units = \"seconds since 2015-07-16 12:00:00 0:00\" ;\r\n",
      "\t\ttime:standard_name = \"longitude\" ;\r\n",
      "\t\tstring time:long_name = \"time since initialization\" ;\r\n",
      "\t\ttime:calendar = \"gregorian\" ;\r\n",
      "\tfloat vlon(dim1, dim2) ;\r\n",
      "\t\tvlon:units = \"degrees\" ;\r\n",
      "\t\tvlon:standard_name = \"latitude\" ;\r\n",
      "\tfloat vlat(dim1, dim2) ;\r\n",
      "\t\tvlat:units = \"degrees\" ;\r\n",
      "\t\tvlat:standard_name = \"longitude\" ;\r\n",
      "\tfloat v(time, dim1, dim2) ;\r\n",
      "\t\tv:standard_name = \"barotropic_northward_sea_water_velocity\" ;\r\n",
      "\t\tstring v:long_name = \"barotropic velocity\" ;\r\n",
      "\t\tv:units = \"centimeter second-1\" ;\r\n",
      "\t\tv:coordinates = \"vlat vlon\" ;\r\n",
      "\r\n",
      "// global attributes:\r\n",
      "\t\t:Conventions = \"CF-1.5\" ;\r\n",
      "}\r\n"
     ]
    }
   ],
   "source": [
    "nc2 = netCDF4.Dataset('hops.nc','r+')\n",
    "nc2"
   ]
  }
 ],
 "metadata": {
  "kernelspec": {
   "display_name": "Python 2",
   "language": "python",
   "name": "python2"
  },
  "language_info": {
   "codemirror_mode": {
    "name": "ipython",
    "version": 2
   },
   "file_extension": ".py",
   "mimetype": "text/x-python",
   "name": "python",
   "nbconvert_exporter": "python",
   "pygments_lexer": "ipython2",
   "version": "2.7.11"
  }
 },
 "nbformat": 4,
 "nbformat_minor": 0
}
