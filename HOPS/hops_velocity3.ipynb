{
 "cells": [
  {
   "cell_type": "markdown",
   "metadata": {},
   "source": [
    "The problem: CF compliant readers cannot read  HOPS dataset directly.\n",
    "The solution: read with the `netCDF4-python` raw interface and create a CF object from the data.\n",
    "\n",
    "NOTE: Ideally this should be a `nco` script that could be run as a CLI script and fix the files.\n",
    "Here I am using `Python`+`iris`. That works and could be written as a CLI script too.\n",
    "The main advantage is that it takes care of the CF boilerplate.\n",
    "However, this approach is to \"heavy-weight\" to be applied in many variables and files."
   ]
  },
  {
   "cell_type": "code",
   "execution_count": 1,
   "metadata": {
    "collapsed": true
   },
   "outputs": [],
   "source": [
    "from netCDF4 import Dataset\n",
    "\n",
    "#url = ('http://geoport.whoi.edu/thredds/dodsC/usgs/data2/rsignell/gdrive/'\n",
    "#       'nsf-alpha/Data/MIT_MSEAS/MSEAS_Tides_20160317/mseas_tides_2015071612_2015081612_01h.nc')\n",
    "url = ('/usgs/data2/rsignell/gdrive/'\n",
    "       'nsf-alpha/Data/MIT_MSEAS/MSEAS_Tides_20160317/mseas_tides_2015071612_2015081612_01h.nc')\n",
    "nc = Dataset(url)"
   ]
  },
  {
   "cell_type": "markdown",
   "metadata": {},
   "source": [
    "Extract `lon`, `lat` variables from `vgrid2` and `u`, `v` variables from `vbaro`.\n",
    "The goal is to split the joint variables into individual CF compliant phenomena."
   ]
  },
  {
   "cell_type": "code",
   "execution_count": 2,
   "metadata": {
    "collapsed": false
   },
   "outputs": [],
   "source": [
    "vtime = nc['time']\n",
    "coords = nc['vgrid2']\n",
    "vbaro = nc['vbaro']"
   ]
  },
  {
   "cell_type": "markdown",
   "metadata": {},
   "source": [
    "Using iris to create the CF object.\n",
    "\n",
    "NOTE: ideally `lon`, `lat` should be `DimCoord` like time and not `AuxCoord`,\n",
    "but iris refuses to create 2D `DimCoord`. Not sure if CF enforces that though."
   ]
  },
  {
   "cell_type": "markdown",
   "metadata": {},
   "source": [
    "First the Coordinates.\n",
    "\n",
    "FIXME: change to a full time slice later!"
   ]
  },
  {
   "cell_type": "code",
   "execution_count": 3,
   "metadata": {
    "collapsed": false
   },
   "outputs": [],
   "source": [
    "import iris\n",
    "iris.FUTURE.netcdf_no_unlimited = True\n",
    "\n",
    "longitude = iris.coords.AuxCoord(coords[:, :, 0],\n",
    "                                 var_name='vlat',\n",
    "                                 long_name='lon values',\n",
    "                                 units='degrees')\n",
    "\n",
    "latitude = iris.coords.AuxCoord(coords[:, :, 1],\n",
    "                                var_name='vlon',\n",
    "                                long_name='lat values',\n",
    "                                units='degrees')\n",
    "\n",
    "# Dummy Dimension coordinate to avoid default names.\n",
    "# (This is either a bug in CF or in iris. We should not need to do this!)\n",
    "lon = iris.coords.DimCoord(range(866),\n",
    "                           var_name='x',\n",
    "                           long_name='lon_range',\n",
    "                           standard_name='longitude')\n",
    "\n",
    "lat = iris.coords.DimCoord(range(1032),\n",
    "                           var_name='y',\n",
    "                           long_name='lat_range',\n",
    "                           standard_name='latitude')"
   ]
  },
  {
   "cell_type": "markdown",
   "metadata": {},
   "source": [
    "Now the phenomena.\n",
    "\n",
    "NOTE: You don't need the `broadcast_to` trick if saving more than 1 time step.\n",
    "Here I just wanted the single time snapshot to have the time dimension to create a full example."
   ]
  },
  {
   "cell_type": "code",
   "execution_count": 4,
   "metadata": {
    "collapsed": false
   },
   "outputs": [
    {
     "data": {
      "text/plain": [
       "(745, 866, 1032, 2)"
      ]
     },
     "execution_count": 4,
     "metadata": {},
     "output_type": "execute_result"
    }
   ],
   "source": [
    "vbaro.shape"
   ]
  },
  {
   "cell_type": "code",
   "execution_count": 5,
   "metadata": {
    "collapsed": false
   },
   "outputs": [],
   "source": [
    "import numpy as np\n",
    "\n",
    "u_cubes = iris.cube.CubeList()\n",
    "v_cubes = iris.cube.CubeList()\n",
    "\n",
    "\n",
    "for k in range(vbaro.shape[0]):  # vbaro.shape[0]\n",
    "    time = iris.coords.DimCoord(vtime[k],\n",
    "                                var_name='time',\n",
    "                                long_name=vtime.long_name,\n",
    "                                standard_name='time',\n",
    "                                units=vtime.units)\n",
    "    \n",
    "    u = vbaro[k, :, :, 0]\n",
    "    u_cubes.append(iris.cube.Cube(np.broadcast_to(u, (1,) + u.shape),\n",
    "                                  units=vbaro.units,\n",
    "                                  long_name=vbaro.long_name,\n",
    "                                  var_name='u',\n",
    "                                  standard_name='barotropic_eastward_sea_water_velocity',\n",
    "                                  dim_coords_and_dims=[(time, 0), (lon, 1), (lat, 2)],\n",
    "                                  aux_coords_and_dims=[(latitude, (1, 2)),\n",
    "                                                       (longitude, (1, 2))]))\n",
    "\n",
    "    v = vbaro[k, :, :, 1]\n",
    "    v_cubes.append(iris.cube.Cube(np.broadcast_to(v, (1,) + v.shape),\n",
    "                                  units=vbaro.units,\n",
    "                                  long_name=vbaro.long_name,\n",
    "                                  var_name='v',\n",
    "                                  standard_name='barotropic_northward_sea_water_velocity',\n",
    "                                  dim_coords_and_dims=[(time, 0), (lon, 1), (lat, 2)],\n",
    "                                  aux_coords_and_dims=[(longitude, (1, 2)),\n",
    "                                                       (latitude, (1, 2))]))"
   ]
  },
  {
   "cell_type": "markdown",
   "metadata": {},
   "source": [
    "Join the individual CF phenomena into one dataset."
   ]
  },
  {
   "cell_type": "code",
   "execution_count": 6,
   "metadata": {
    "collapsed": true
   },
   "outputs": [],
   "source": [
    "u_cube = u_cubes.concatenate_cube()\n",
    "v_cube = v_cubes.concatenate_cube()\n",
    "\n",
    "cubes = iris.cube.CubeList([u_cube, v_cube])"
   ]
  },
  {
   "cell_type": "markdown",
   "metadata": {},
   "source": [
    "Save the CF-compliant file!"
   ]
  },
  {
   "cell_type": "code",
   "execution_count": 7,
   "metadata": {
    "collapsed": false
   },
   "outputs": [],
   "source": [
    "iris.save(cubes, 'hops.nc')"
   ]
  },
  {
   "cell_type": "code",
   "execution_count": 8,
   "metadata": {
    "collapsed": false
   },
   "outputs": [
    {
     "name": "stdout",
     "output_type": "stream",
     "text": [
      "ncdump: /home/usgs/miniconda/envs/ioos/bin/../lib/./libssl.so.1.0.0: no version information available (required by /usr/lib/x86_64-linux-gnu/libcurl.so.4)\n",
      "ncdump: /home/usgs/miniconda/envs/ioos/bin/../lib/./libssl.so.1.0.0: no version information available (required by /usr/lib/x86_64-linux-gnu/libcurl.so.4)\n",
      "ncdump: /home/usgs/miniconda/envs/ioos/bin/../lib/./libcrypto.so.1.0.0: no version information available (required by /usr/lib/x86_64-linux-gnu/libcurl.so.4)\n",
      "netcdf hops {\n",
      "dimensions:\n",
      "\ttime = 745 ;\n",
      "\tx = 866 ;\n",
      "\ty = 1032 ;\n",
      "variables:\n",
      "\tfloat u(time, x, y) ;\n",
      "\t\tu:_FillValue = 1.e+20f ;\n",
      "\t\tu:standard_name = \"barotropic_eastward_sea_water_velocity\" ;\n",
      "\t\tstring u:long_name = \"barotropic velocity\" ;\n",
      "\t\tu:units = \"centimeter second-1\" ;\n",
      "\t\tu:coordinates = \"vlat vlon\" ;\n",
      "\tfloat time(time) ;\n",
      "\t\ttime:axis = \"T\" ;\n",
      "\t\ttime:units = \"seconds since 2015-07-16 12:00:00 0:00\" ;\n",
      "\t\ttime:standard_name = \"time\" ;\n",
      "\t\tstring time:long_name = \"time since initialization\" ;\n",
      "\t\ttime:calendar = \"gregorian\" ;\n",
      "\tint64 x(x) ;\n",
      "\t\tx:axis = \"X\" ;\n",
      "\t\tx:units = \"1\" ;\n",
      "\t\tx:standard_name = \"longitude\" ;\n",
      "\t\tx:long_name = \"lon_range\" ;\n",
      "\tint64 y(y) ;\n",
      "\t\ty:axis = \"Y\" ;\n",
      "\t\ty:units = \"1\" ;\n",
      "\t\ty:standard_name = \"latitude\" ;\n",
      "\t\ty:long_name = \"lat_range\" ;\n",
      "\tfloat vlon(x, y) ;\n",
      "\t\tvlon:units = \"degrees\" ;\n",
      "\t\tvlon:long_name = \"lat values\" ;\n",
      "\tfloat vlat(x, y) ;\n",
      "\t\tvlat:units = \"degrees\" ;\n",
      "\t\tvlat:long_name = \"lon values\" ;\n",
      "\tfloat v(time, x, y) ;\n",
      "\t\tv:_FillValue = 1.e+20f ;\n",
      "\t\tv:standard_name = \"barotropic_northward_sea_water_velocity\" ;\n",
      "\t\tstring v:long_name = \"barotropic velocity\" ;\n",
      "\t\tv:units = \"centimeter second-1\" ;\n",
      "\t\tv:coordinates = \"vlat vlon\" ;\n",
      "\n",
      "// global attributes:\n",
      "\t\t:Conventions = \"CF-1.5\" ;\n",
      "}\n"
     ]
    }
   ],
   "source": [
    "!ncdump -h hops.nc"
   ]
  },
  {
   "cell_type": "code",
   "execution_count": null,
   "metadata": {
    "collapsed": true
   },
   "outputs": [],
   "source": []
  }
 ],
 "metadata": {
  "gist_id": "22697a6cc4484250a2c9",
  "kernelspec": {
   "display_name": "Python 2",
   "language": "python",
   "name": "python2"
  },
  "language_info": {
   "codemirror_mode": {
    "name": "ipython",
    "version": 2
   },
   "file_extension": ".py",
   "mimetype": "text/x-python",
   "name": "python",
   "nbconvert_exporter": "python",
   "pygments_lexer": "ipython2",
   "version": "2.7.11"
  }
 },
 "nbformat": 4,
 "nbformat_minor": 0
}
