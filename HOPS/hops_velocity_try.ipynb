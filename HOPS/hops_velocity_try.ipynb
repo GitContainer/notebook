{
 "cells": [
  {
   "metadata": {},
   "cell_type": "markdown",
   "source": "The problem: CF compliant readers cannot read  HOPS dataset directly.\nThe solution: read with the `netCDF4-python` raw interface and create a CF object from the data.\n\nNOTE: Ideally this should be a `nco` script that could be run as a CLI script and fix the files.\nHere I am using `Python`+`iris`. That works and could be written as a CLI script too.\nThe main advantage is that it takes care of the CF boilerplate.\nHowever, this approach is to \"heavy-weight\" to be applied in many variables and files."
  },
  {
   "metadata": {
    "collapsed": true,
    "trusted": true
   },
   "cell_type": "code",
   "source": "from netCDF4 import Dataset\n\nurl = ('http://geoport.whoi.edu/thredds/dodsC/usgs/data2/rsignell/gdrive/'\n       'nsf-alpha/Data/MIT_MSEAS/MSEAS_Tides_20160317/mseas_tides_2015071612_2015081612_01h.nc')\n\nnc = Dataset(url)",
   "execution_count": 1,
   "outputs": []
  },
  {
   "metadata": {},
   "cell_type": "markdown",
   "source": "Extract `lon`, `lat` variables from `vgrid2` and `u`, `v` variables from `vbaro`.\nThe goal is to split the joint variables into individual CF compliant phenomena."
  },
  {
   "metadata": {
    "collapsed": false,
    "trusted": true
   },
   "cell_type": "code",
   "source": "vtime = nc['time']\ncoords = nc['vgrid2']\nvbaro = nc['vbaro']",
   "execution_count": 2,
   "outputs": []
  },
  {
   "metadata": {},
   "cell_type": "markdown",
   "source": "Using iris to create the CF object.\n\nNOTE: ideally `lon`, `lat` should be `DimCoord` like time and not `AuxCoord`,\nbut iris refuses to create 2D `DimCoord`. Not sure if CF enforces that though."
  },
  {
   "metadata": {},
   "cell_type": "markdown",
   "source": "First the Coordinates.\n\nFIXME: change to a full time slice later!"
  },
  {
   "metadata": {
    "collapsed": false,
    "trusted": true
   },
   "cell_type": "code",
   "source": "import iris\niris.FUTURE.netcdf_no_unlimited = True\n\nlongitude = iris.coords.AuxCoord(coords[:, :, 0],\n                                 var_name='vlat',\n                                 long_name='lon values',\n                                 units='degrees')\n\nlatitude = iris.coords.AuxCoord(coords[:, :, 1],\n                                var_name='vlon',\n                                long_name='lat values',\n                                units='degrees')\n\n# Dummy Dimension coordinate to avoid default names.\n# (This is either a bug in CF or in iris. We should not need to do this!)\nlon = iris.coords.DimCoord(range(866),\n                           var_name='x',\n                           long_name='lon_range',\n                           standard_name='longitude')\n\nlat = iris.coords.DimCoord(range(1032),\n                           var_name='y',\n                           long_name='lat_range',\n                           standard_name='latitude')",
   "execution_count": 3,
   "outputs": []
  },
  {
   "metadata": {},
   "cell_type": "markdown",
   "source": "Now the phenomena.\n\nNOTE: You don't need the `broadcast_to` trick if saving more than 1 time step.\nHere I just wanted the single time snapshot to have the time dimension to create a full example."
  },
  {
   "metadata": {
    "collapsed": false,
    "trusted": true
   },
   "cell_type": "code",
   "source": "import numpy as np\n\nu_cubes = iris.cube.CubeList()\nv_cubes = iris.cube.CubeList()\n\n\nfor k in range(2):  # vbaro.shape[0]\n    time = iris.coords.DimCoord(vtime[k],\n                                var_name='time',\n                                long_name=vtime.long_name,\n                                standard_name='time',\n                                units=vtime.units)\n    \n    u = vbaro[k, :, :, 0]\n    u_cubes.append(iris.cube.Cube(np.broadcast_to(u, (1,) + u.shape),\n                                  units=vbaro.units,\n                                  long_name=vbaro.long_name,\n                                  var_name='u',\n                                  standard_name='barotropic_eastward_sea_water_velocity',\n                                  dim_coords_and_dims=[(time, 0), (lon, 1), (lat, 2)],\n                                  aux_coords_and_dims=[(latitude, (1, 2)),\n                                                       (longitude, (1, 2))]))\n\n    v = vbaro[k, :, :, 1]\n    v_cubes.append(iris.cube.Cube(np.broadcast_to(v, (1,) + v.shape),\n                                  units=vbaro.units,\n                                  long_name=vbaro.long_name,\n                                  var_name='v',\n                                  standard_name='barotropic_northward_sea_water_velocity',\n                                  dim_coords_and_dims=[(time, 0), (lon, 1), (lat, 2)],\n                                  aux_coords_and_dims=[(longitude, (1, 2)),\n                                                       (latitude, (1, 2))]))",
   "execution_count": 4,
   "outputs": []
  },
  {
   "metadata": {},
   "cell_type": "markdown",
   "source": "Join the individual CF phenomena into one dataset."
  },
  {
   "metadata": {
    "collapsed": true,
    "trusted": true
   },
   "cell_type": "code",
   "source": "u_cube = u_cubes.concatenate_cube()\nv_cube = v_cubes.concatenate_cube()\n\ncubes = iris.cube.CubeList([u_cube, v_cube])",
   "execution_count": 5,
   "outputs": []
  },
  {
   "metadata": {},
   "cell_type": "markdown",
   "source": "Save the CF-compliant file!"
  },
  {
   "metadata": {
    "collapsed": false,
    "trusted": true
   },
   "cell_type": "code",
   "source": "iris.save(cubes, 'hops.nc')",
   "execution_count": 6,
   "outputs": []
  },
  {
   "metadata": {
    "collapsed": false,
    "trusted": true
   },
   "cell_type": "code",
   "source": "!ncdump -h hops.nc",
   "execution_count": 7,
   "outputs": [
    {
     "output_type": "stream",
     "text": "netcdf hops {\r\ndimensions:\r\n\ttime = 2 ;\r\n\tx = 866 ;\r\n\ty = 1032 ;\r\nvariables:\r\n\tfloat u(time, x, y) ;\r\n\t\tu:_FillValue = 1.e+20f ;\r\n\t\tu:standard_name = \"barotropic_eastward_sea_water_velocity\" ;\r\n\t\tu:long_name = \"barotropic velocity\" ;\r\n\t\tu:units = \"centimeter second-1\" ;\r\n\t\tu:coordinates = \"vlat vlon\" ;\r\n\tfloat time(time) ;\r\n\t\ttime:axis = \"T\" ;\r\n\t\ttime:units = \"seconds since 2015-07-16 12:00:00 0:00\" ;\r\n\t\ttime:standard_name = \"time\" ;\r\n\t\ttime:long_name = \"time since initialization\" ;\r\n\t\ttime:calendar = \"gregorian\" ;\r\n\tint64 x(x) ;\r\n\t\tx:axis = \"X\" ;\r\n\t\tx:units = \"1\" ;\r\n\t\tx:standard_name = \"longitude\" ;\r\n\t\tx:long_name = \"lon_range\" ;\r\n\tint64 y(y) ;\r\n\t\ty:axis = \"Y\" ;\r\n\t\ty:units = \"1\" ;\r\n\t\ty:standard_name = \"latitude\" ;\r\n\t\ty:long_name = \"lat_range\" ;\r\n\tfloat vlon(x, y) ;\r\n\t\tvlon:units = \"degrees\" ;\r\n\t\tvlon:long_name = \"lat values\" ;\r\n\tfloat vlat(x, y) ;\r\n\t\tvlat:units = \"degrees\" ;\r\n\t\tvlat:long_name = \"lon values\" ;\r\n\tfloat v(time, x, y) ;\r\n\t\tv:_FillValue = 1.e+20f ;\r\n\t\tv:standard_name = \"barotropic_northward_sea_water_velocity\" ;\r\n\t\tv:long_name = \"barotropic velocity\" ;\r\n\t\tv:units = \"centimeter second-1\" ;\r\n\t\tv:coordinates = \"vlat vlon\" ;\r\n\r\n// global attributes:\r\n\t\t:Conventions = \"CF-1.5\" ;\r\n}\r\n",
     "name": "stdout"
    }
   ]
  }
 ],
 "metadata": {
  "kernelspec": {
   "name": "python2",
   "display_name": "Python 2",
   "language": "python"
  },
  "language_info": {
   "mimetype": "text/x-python",
   "nbconvert_exporter": "python",
   "name": "python",
   "pygments_lexer": "ipython2",
   "version": "2.7.11",
   "file_extension": ".py",
   "codemirror_mode": {
    "version": 2,
    "name": "ipython"
   }
  },
  "gist_id": "22697a6cc4484250a2c9"
 },
 "nbformat": 4,
 "nbformat_minor": 0
}