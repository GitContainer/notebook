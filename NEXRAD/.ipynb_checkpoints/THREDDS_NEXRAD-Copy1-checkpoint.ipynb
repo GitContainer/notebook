{
 "cells": [
  {
   "cell_type": "markdown",
   "metadata": {},
   "source": [
    "# Using Python to Access NEXRAD Level 2 Data from Unidata THREDDS Server"
   ]
  },
  {
   "cell_type": "markdown",
   "metadata": {},
   "source": [
    "This is a modified version of Ryan May's notebook here:\n",
    "http://nbviewer.jupyter.org/gist/dopplershift/356f2e14832e9b676207\n",
    "\n",
    "The TDS provides a mechanism to query for available data files, as well as provides access to the data as native volume files, through OPeNDAP, and using its own CDMRemote protocol. Since we're using Python, we can take advantage of Unidata's Siphon package, which provides an easy API for talking to THREDDS servers.\n",
    "\n",
    "Bookmark these resources for when you want to use Siphon later!\n",
    "+ [latest Siphon documentation](http://siphon.readthedocs.org/en/latest/)\n",
    "+ [Siphon github repo](https://github.com/Unidata/siphon)\n",
    "+ [TDS documentation](http://www.unidata.ucar.edu/software/thredds/current/tds/TDS.html)"
   ]
  },
  {
   "cell_type": "markdown",
   "metadata": {},
   "source": [
    "## Downloading the single latest volume\n"
   ]
  },
  {
   "cell_type": "markdown",
   "metadata": {},
   "source": [
    "Just a bit of initial set-up to use inline figures and quiet some warnings."
   ]
  },
  {
   "cell_type": "code",
   "execution_count": 2,
   "metadata": {
    "collapsed": false
   },
   "outputs": [],
   "source": [
    "import matplotlib\n",
    "import warnings\n",
    "warnings.filterwarnings(\"ignore\", category=matplotlib.cbook.MatplotlibDeprecationWarning)\n",
    "%matplotlib inline"
   ]
  },
  {
   "cell_type": "markdown",
   "metadata": {},
   "source": [
    "First we'll create an instance of RadarServer to point to the appropriate radar server access URL."
   ]
  },
  {
   "cell_type": "code",
   "execution_count": 3,
   "metadata": {
    "collapsed": false
   },
   "outputs": [],
   "source": [
    "# The archive of data on S3 URL did not work for me, despite .edu domain\n",
    "#url = 'http://thredds-aws.unidata.ucar.edu/thredds/radarServer/nexrad/level2/S3/'\n",
    "\n",
    "#Trying motherlode URL\n",
    "url = 'http://thredds.ucar.edu/thredds/radarServer/nexrad/level2/IDD/'\n",
    "from siphon.radarserver import RadarServer\n",
    "rs = RadarServer(url)"
   ]
  },
  {
   "cell_type": "markdown",
   "metadata": {},
   "source": [
    "Next, we'll create a new query object to help request the data. Using the chaining methods, let's ask for the latest data at the radar KLVX (Louisville, KY). We see that when the query is represented as a string, it shows the encoded URL."
   ]
  },
  {
   "cell_type": "code",
   "execution_count": 4,
   "metadata": {
    "collapsed": false
   },
   "outputs": [
    {
     "data": {
      "text/plain": [
       "time=2016-06-27T17%3A53%3A04.767289&stn=KLVX"
      ]
     },
     "execution_count": 4,
     "metadata": {},
     "output_type": "execute_result"
    }
   ],
   "source": [
    "from datetime import datetime, timedelta\n",
    "query = rs.query()\n",
    "query.stations('KLVX').time(datetime.utcnow())"
   ]
  },
  {
   "cell_type": "markdown",
   "metadata": {},
   "source": [
    "We can use the RadarServer instance to check our query, to make sure we have required parameters and that we have chosen valid station(s) and variable(s)\n"
   ]
  },
  {
   "cell_type": "code",
   "execution_count": 5,
   "metadata": {
    "collapsed": false
   },
   "outputs": [
    {
     "data": {
      "text/plain": [
       "True"
      ]
     },
     "execution_count": 5,
     "metadata": {},
     "output_type": "execute_result"
    }
   ],
   "source": [
    "rs.validate_query(query)"
   ]
  },
  {
   "cell_type": "markdown",
   "metadata": {},
   "source": [
    "Make the request, which returns an instance of TDSCatalog; this handles parsing the returned XML information."
   ]
  },
  {
   "cell_type": "code",
   "execution_count": 6,
   "metadata": {
    "collapsed": true
   },
   "outputs": [],
   "source": [
    "catalog = rs.get_catalog(query)"
   ]
  },
  {
   "cell_type": "markdown",
   "metadata": {},
   "source": [
    "We can look at the datasets on the catalog to see what data we found by the query. We find one volume in the return, since we asked for the volume nearest to a single time."
   ]
  },
  {
   "cell_type": "code",
   "execution_count": 7,
   "metadata": {
    "collapsed": false
   },
   "outputs": [
    {
     "data": {
      "text/plain": [
       "OrderedDict([('Level2_KLVX_20160627_1747.ar2v',\n",
       "              <siphon.catalog.Dataset at 0x7f44848e7410>)])"
      ]
     },
     "execution_count": 7,
     "metadata": {},
     "output_type": "execute_result"
    }
   ],
   "source": [
    "catalog.datasets"
   ]
  },
  {
   "cell_type": "markdown",
   "metadata": {},
   "source": [
    "We can pull that dataset out of the dictionary and look at the available access URLs. We see URLs for OPeNDAP, CDMRemote, and HTTPServer (direct download)."
   ]
  },
  {
   "cell_type": "code",
   "execution_count": null,
   "metadata": {
    "collapsed": false
   },
   "outputs": [
    {
     "data": {
      "text/plain": [
       "{'CdmRemote': 'http://thredds.ucar.edu/thredds/cdmremote/nexrad/level2/IDD/KLVX/20160627/Level2_KLVX_20160627_1747.ar2v',\n",
       " 'HTTPServer': 'http://thredds.ucar.edu/thredds/fileServer/nexrad/level2/IDD/KLVX/20160627/Level2_KLVX_20160627_1747.ar2v',\n",
       " 'OPENDAP': 'http://thredds.ucar.edu/thredds/dodsC/nexrad/level2/IDD/KLVX/20160627/Level2_KLVX_20160627_1747.ar2v'}"
      ]
     },
     "execution_count": 8,
     "metadata": {},
     "output_type": "execute_result"
    }
   ],
   "source": [
    "ds = list(catalog.datasets.values())[0]\n",
    "ds.access_urls"
   ]
  },
  {
   "cell_type": "markdown",
   "metadata": {},
   "source": [
    "We'll use the CDMRemote reader in Siphon and pass it the appropriate access URL."
   ]
  },
  {
   "cell_type": "code",
   "execution_count": null,
   "metadata": {
    "collapsed": false
   },
   "outputs": [],
   "source": [
    "from siphon.cdmr import Dataset\n",
    "data = Dataset(ds.access_urls['CdmRemote'])"
   ]
  },
  {
   "cell_type": "markdown",
   "metadata": {},
   "source": [
    "We define some helper functions to make working with the data easier. One takes the raw data and converts it to floating point values with the missing data points appropriately marked. The other helps with converting the polar coordinates (azimuth and range) to Cartesian (x and y)."
   ]
  },
  {
   "cell_type": "code",
   "execution_count": null,
   "metadata": {
    "collapsed": false,
    "run_control": {
     "marked": false
    }
   },
   "outputs": [],
   "source": [
    "import numpy as np\n",
    "def raw_to_masked_float(var, data):\n",
    "    # Values come back signed. If the _Unsigned attribute is set, we need to convert\n",
    "    # from the range [-127, 128] to [0, 255].\n",
    "    if var._Unsigned:\n",
    "        data = data & 255\n",
    "\n",
    "    # Mask missing points\n",
    "    data = np.ma.array(data, mask=data==0)\n",
    "\n",
    "    # Convert to float using the scale and offset\n",
    "    return data * var.scale_factor + var.add_offset\n",
    "\n",
    "def polar_to_cartesian(az, rng):\n",
    "    az_rad = np.deg2rad(az)[:, None]\n",
    "    x = rng * np.sin(az_rad)\n",
    "    y = rng * np.cos(az_rad)\n",
    "    return x, y"
   ]
  },
  {
   "cell_type": "markdown",
   "metadata": {},
   "source": [
    "The CDMRemote reader provides an interface that is almost identical to the usual python NetCDF interface. We pull out the variables we need for azimuth and range, as well as the data itself."
   ]
  },
  {
   "cell_type": "code",
   "execution_count": null,
   "metadata": {
    "collapsed": false
   },
   "outputs": [],
   "source": [
    "sweep = 0\n",
    "ref_var = data.variables['Reflectivity_HI']\n",
    "ref_data = ref_var[sweep]\n",
    "rng = data.variables['distanceR_HI'][:]\n",
    "az = data.variables['azimuthR_HI'][sweep]"
   ]
  },
  {
   "cell_type": "markdown",
   "metadata": {},
   "source": [
    "Then convert the raw data to floating point values and the polar coordinates to Cartesian."
   ]
  },
  {
   "cell_type": "code",
   "execution_count": null,
   "metadata": {
    "collapsed": false
   },
   "outputs": [],
   "source": [
    "ref = raw_to_masked_float(ref_var, ref_data)\n",
    "x, y = polar_to_cartesian(az, rng)"
   ]
  },
  {
   "cell_type": "markdown",
   "metadata": {},
   "source": [
    "MetPy is a Python package for meteorology (Documentation: http://metpy.readthedocs.org and GitHub: http://github.com/MetPy/MetPy). We import MetPy and use it to get the colortable and value mapping information for the NWS Reflectivity data."
   ]
  },
  {
   "cell_type": "code",
   "execution_count": null,
   "metadata": {
    "collapsed": false
   },
   "outputs": [],
   "source": [
    "from metpy.plots import ctables  # For NWS colortable\n",
    "ref_norm, ref_cmap = ctables.registry.get_with_steps('NWSReflectivity', 5, 5)"
   ]
  },
  {
   "cell_type": "markdown",
   "metadata": {},
   "source": [
    "Finally, we plot them up using matplotlib and cartopy. We create a helper function for making a map to keep things simpler later."
   ]
  },
  {
   "cell_type": "code",
   "execution_count": null,
   "metadata": {
    "collapsed": true
   },
   "outputs": [],
   "source": [
    "import matplotlib.pyplot as plt\n",
    "import cartopy\n",
    "\n",
    "def new_map(fig, lon, lat):\n",
    "    # Create projection centered on the radar. This allows us to use x\n",
    "    # and y relative to the radar.\n",
    "    proj = cartopy.crs.LambertConformal(central_longitude=lon, central_latitude=lat)\n",
    "\n",
    "    # New axes with the specified projection\n",
    "    ax = fig.add_subplot(1, 1, 1, projection=proj)\n",
    "\n",
    "    # Add coastlines\n",
    "    ax.coastlines('50m', 'black', linewidth=2, zorder=2)\n",
    "\n",
    "    # Grab state borders\n",
    "    state_borders = cartopy.feature.NaturalEarthFeature(\n",
    "        category='cultural', name='admin_1_states_provinces_lines',\n",
    "        scale='50m', facecolor='none')\n",
    "    ax.add_feature(state_borders, edgecolor='black', linewidth=1, zorder=3)\n",
    "    \n",
    "    return ax"
   ]
  },
  {
   "cell_type": "markdown",
   "metadata": {},
   "source": [
    "## Download a collection of historical data"
   ]
  },
  {
   "cell_type": "markdown",
   "metadata": {},
   "source": [
    "This time we'll make a query based on a longitude, latitude point and using a time range."
   ]
  },
  {
   "cell_type": "code",
   "execution_count": null,
   "metadata": {
    "collapsed": false
   },
   "outputs": [],
   "source": [
    "# Our specified time\n",
    "#dt = datetime(2012, 10, 29, 15) # Superstorm Sandy\n",
    "#dt = datetime(2016, 6, 18, 1)\n",
    "dt = datetime(2016, 6, 8, 18) \n",
    "query = rs.query()\n",
    "query.lonlat_point(-73.687, 41.175).time_range(dt, dt + timedelta(hours=1))"
   ]
  },
  {
   "cell_type": "markdown",
   "metadata": {},
   "source": [
    "The specified longitude, latitude are in NY and the TDS helpfully finds the closest station to that point.  We can see that for this time range we obtained multiple datasets."
   ]
  },
  {
   "cell_type": "code",
   "execution_count": null,
   "metadata": {
    "collapsed": false
   },
   "outputs": [],
   "source": [
    "cat = rs.get_catalog(query)\n",
    "cat.datasets"
   ]
  },
  {
   "cell_type": "markdown",
   "metadata": {},
   "source": [
    "Grab the first dataset so that we can get the longitude and latitude of the station and make a map for plotting. We'll go ahead and specify some longitude and latitude bounds for the map."
   ]
  },
  {
   "cell_type": "code",
   "execution_count": null,
   "metadata": {
    "collapsed": false
   },
   "outputs": [],
   "source": [
    "ds = list(cat.datasets.values())[0]\n",
    "data = Dataset(ds.access_urls['CdmRemote'])\n",
    "# Pull out the data of interest\n",
    "sweep = 0\n",
    "rng = data.variables['distanceR_HI'][:]\n",
    "az = data.variables['azimuthR_HI'][sweep]\n",
    "ref_var = data.variables['Reflectivity_HI']\n",
    "\n",
    "# Convert data to float and coordinates to Cartesian\n",
    "ref = raw_to_masked_float(ref_var, ref_var[sweep])\n",
    "x, y = polar_to_cartesian(az, rng)"
   ]
  },
  {
   "cell_type": "markdown",
   "metadata": {},
   "source": [
    "Use the function to make a new map and plot a colormapped view of the data"
   ]
  },
  {
   "cell_type": "code",
   "execution_count": null,
   "metadata": {
    "collapsed": false
   },
   "outputs": [],
   "source": [
    "fig = plt.figure(figsize=(10, 10))\n",
    "ax = new_map(fig, data.StationLongitude, data.StationLatitude)\n",
    "\n",
    "# Set limits in lat/lon space\n",
    "ax.set_extent([-77, -70, 38, 43])\n",
    "\n",
    "# Add ocean and land background\n",
    "ocean = cartopy.feature.NaturalEarthFeature('physical', 'ocean', scale='50m',\n",
    "                                            edgecolor='face',\n",
    "                                            facecolor=cartopy.feature.COLORS['water'])\n",
    "land = cartopy.feature.NaturalEarthFeature('physical', 'land', scale='50m',\n",
    "                                           edgecolor='face',\n",
    "                                           facecolor=cartopy.feature.COLORS['land'])\n",
    "\n",
    "ax.add_feature(ocean, zorder=-1)\n",
    "ax.add_feature(land, zorder=-1)\n",
    "ax.pcolormesh(x, y, ref, cmap=ref_cmap, norm=ref_norm, zorder=0);"
   ]
  },
  {
   "cell_type": "code",
   "execution_count": null,
   "metadata": {
    "collapsed": false
   },
   "outputs": [],
   "source": [
    "meshes = []\n",
    "for item in sorted(cat.datasets.items()):\n",
    "    # After looping over the list of sorted datasets, pull the actual Dataset object out\n",
    "    # of our list of items and access over CDMRemote\n",
    "    ds = item[1]\n",
    "    data = Dataset(ds.access_urls['CdmRemote'])\n",
    "\n",
    "    # Pull out the data of interest\n",
    "    sweep = 0\n",
    "    rng = data.variables['distanceR_HI'][:]\n",
    "    az = data.variables['azimuthR_HI'][sweep]\n",
    "    ref_var = data.variables['Reflectivity_HI']\n",
    "\n",
    "    # Convert data to float and coordinates to Cartesian\n",
    "    ref = raw_to_masked_float(ref_var, ref_var[sweep])\n",
    "    x, y = polar_to_cartesian(az, rng)\n",
    "\n",
    "    # Plot the data and the timestamp\n",
    "    mesh = ax.pcolormesh(x, y, ref, cmap=ref_cmap, norm=ref_norm, zorder=0)\n",
    "    text = ax.text(0.65, 0.03, data.time_coverage_start, transform=ax.transAxes,\n",
    "                   fontdict={'size':16})\n",
    "    \n",
    "    # Collect the things we've plotted so we can animate\n",
    "    meshes.append((mesh, text))"
   ]
  },
  {
   "cell_type": "code",
   "execution_count": null,
   "metadata": {
    "collapsed": true
   },
   "outputs": [],
   "source": [
    "# Set up matplotlib to do the conversion to HTML5 video\n",
    "import matplotlib\n",
    "matplotlib.rcParams['animation.html'] = 'html5'\n",
    "\n",
    "# Create an animation\n",
    "from matplotlib.animation import ArtistAnimation\n",
    "ArtistAnimation(fig, meshes)"
   ]
  }
 ],
 "metadata": {
  "gist_id": "f617cca4278708f2d338a95479dc3b3d",
  "kernelspec": {
   "display_name": "Python 2",
   "language": "python",
   "name": "python2"
  },
  "language_info": {
   "codemirror_mode": {
    "name": "ipython",
    "version": 2
   },
   "file_extension": ".py",
   "mimetype": "text/x-python",
   "name": "python",
   "nbconvert_exporter": "python",
   "pygments_lexer": "ipython2",
   "version": "2.7.11"
  },
  "widgets": {
   "state": {},
   "version": "1.1.2"
  }
 },
 "nbformat": 4,
 "nbformat_minor": 0
}
