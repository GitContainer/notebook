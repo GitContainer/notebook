{
 "metadata": {
  "name": "",
  "signature": "sha256:e51ce7a5175994c8f43162ac3dde7d6477d098e415609dacaeb0fead701f86b5"
 },
 "nbformat": 3,
 "nbformat_minor": 0,
 "worksheets": [
  {
   "cells": [
    {
     "cell_type": "heading",
     "level": 1,
     "metadata": {},
     "source": [
      "Time extracting points from triangular grid ocean model"
     ]
    },
    {
     "cell_type": "markdown",
     "metadata": {},
     "source": [
      "Exploring the answer to this stackoverflow question:\n",
      "    http://stackoverflow.com/questions/26788112/easy-scriptable-way-to-sub-sample-unstructured-thredds-data"
     ]
    },
    {
     "cell_type": "code",
     "collapsed": false,
     "input": [
      "import netCDF4\n",
      "import time\n",
      "import numpy as np\n",
      "\n",
      "url='http://fvcom.smast.umassd.edu:8080/thredds/dodsC/FVCOM/NECOFS/Forecasts/NECOFS_GOM3_FORECAST.nc'\n",
      "nc = netCDF4.Dataset(url)\n",
      "ncv = nc.variables\n",
      "lon = ncv['lon'][:]\n",
      "lat = ncv['lat'][:]\n",
      "tim = ncv['time'][:]\n",
      "\n",
      "# find indices inside box\n",
      "box = [-71.4,41,-70.2,41.5]\n",
      "ii = (lon>=box[0])&(lon<=box[2])&(lat>=box[1])&(lat<=box[3])\n",
      "jj = where(ii)[0]"
     ],
     "language": "python",
     "metadata": {},
     "outputs": [],
     "prompt_number": 1
    },
    {
     "cell_type": "code",
     "collapsed": false,
     "input": [
      "# loop over indices, extracting time series\n",
      "time0=time.time()\n",
      "zi = np.zeros((len(tim),len(jj)))\n",
      "k=0\n",
      "for j in jj:\n",
      "    zi[:,k]=ncv['zeta'][:,j]\n",
      "    k +=1\n",
      "print('elapsed time: %d seconds' % (time.time()-time0))\n",
      "    "
     ],
     "language": "python",
     "metadata": {},
     "outputs": [
      {
       "output_type": "stream",
       "stream": "stdout",
       "text": [
        "elapsed time: 56 seconds\n"
       ]
      }
     ],
     "prompt_number": 2
    },
    {
     "cell_type": "code",
     "collapsed": false,
     "input": [
      "# loop over time, extracting range and then indices\n",
      "time0=time.time()\n",
      "zi2 = np.zeros((len(tim),len(jj)))\n",
      "jmin=jj.min()\n",
      "jmax=jj.max()\n",
      "\n",
      "for i in range(len(tim)):\n",
      "    ztmp = ncv['zeta'][i,jmin:jmax+1]\n",
      "    zi2[i,:] = ztmp[jj-jmin]\n",
      "print('elapsed time: %d seconds' % (time.time()-time0))\n",
      "    "
     ],
     "language": "python",
     "metadata": {},
     "outputs": [
      {
       "output_type": "stream",
       "stream": "stdout",
       "text": [
        "elapsed time: 6 seconds\n"
       ]
      }
     ],
     "prompt_number": 3
    }
   ],
   "metadata": {}
  }
 ]
}