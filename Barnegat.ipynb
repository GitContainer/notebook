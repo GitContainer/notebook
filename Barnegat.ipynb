{
 "metadata": {
  "name": "",
  "signature": "sha256:e4c65fabe7b193bcef5a140ec947d853dfbd30b4febd41e6aca3112aedb02967"
 },
 "nbformat": 3,
 "nbformat_minor": 0,
 "worksheets": [
  {
   "cells": [
    {
     "cell_type": "code",
     "collapsed": false,
     "input": [
      "import numpy as np\n",
      "import pandas as pd\n",
      "from ulmo.usgs import nwis\n",
      "%matplotlib inline"
     ],
     "language": "python",
     "metadata": {},
     "outputs": [],
     "prompt_number": 13
    },
    {
     "cell_type": "code",
     "collapsed": false,
     "input": [
      "#barnegat\n",
      "sta_id='394540074062901'"
     ],
     "language": "python",
     "metadata": {},
     "outputs": [],
     "prompt_number": 15
    },
    {
     "cell_type": "code",
     "collapsed": false,
     "input": [
      "# download and cache site data (this will take a long time the first time)\n",
      "# currently downloads all available parameters\n",
      "nwis.hdf5.update_site_data(sta_id)"
     ],
     "language": "python",
     "metadata": {},
     "outputs": [
      {
       "output_type": "stream",
       "stream": "stderr",
       "text": [
        "INFO:ulmo.usgs.nwis.core:processing data from request: http://waterservices.usgs.gov/nwis/dv/?startDT=2015-05-18&site=394540074062901&format=waterml\n"
       ]
      },
      {
       "output_type": "stream",
       "stream": "stderr",
       "text": [
        "INFO:ulmo.usgs.nwis.core:processing data from request: http://waterservices.usgs.gov/nwis/iv/?startDT=2015-05-18T10%3A49%3A13&site=394540074062901&format=waterml\n"
       ]
      }
     ],
     "prompt_number": 16
    },
    {
     "cell_type": "code",
     "collapsed": false,
     "input": [
      "sit = nwis.hdf5.get_site_data(sta_id, parameter_code='00035')"
     ],
     "language": "python",
     "metadata": {},
     "outputs": [],
     "prompt_number": 17
    },
    {
     "cell_type": "code",
     "collapsed": false,
     "input": [],
     "language": "python",
     "metadata": {},
     "outputs": [
      {
       "metadata": {},
       "output_type": "pyout",
       "prompt_number": 18,
       "text": [
        "{}"
       ]
      }
     ],
     "prompt_number": 18
    },
    {
     "cell_type": "code",
     "collapsed": false,
     "input": [
      "\n",
      "# wind speed and direction\n",
      "vars=['00035','00036']"
     ],
     "language": "python",
     "metadata": {},
     "outputs": []
    },
    {
     "cell_type": "code",
     "collapsed": false,
     "input": [
      "sit"
     ],
     "language": "python",
     "metadata": {},
     "outputs": [
      {
       "metadata": {},
       "output_type": "pyout",
       "prompt_number": 8,
       "text": [
        "{}"
       ]
      }
     ],
     "prompt_number": 8
    },
    {
     "cell_type": "code",
     "collapsed": false,
     "input": [
      "#Try reading discharge data from another site"
     ],
     "language": "python",
     "metadata": {},
     "outputs": []
    },
    {
     "cell_type": "code",
     "collapsed": false,
     "input": [
      "sta_id='06043500'\n",
      "nwis.hdf5.update_site_data(sta_id)\n",
      "# read daily mean discharge data from cache (statistics code 00003)"
     ],
     "language": "python",
     "metadata": {},
     "outputs": [
      {
       "output_type": "stream",
       "stream": "stderr",
       "text": [
        "INFO:ulmo.usgs.nwis.core:processing data from request: http://waterservices.usgs.gov/nwis/dv/?startDT=1851-01-01&site=06043500&format=waterml\n"
       ]
      },
      {
       "output_type": "stream",
       "stream": "stderr",
       "text": [
        "INFO:ulmo.usgs.nwis.core:processing data from request: http://nwis.waterservices.usgs.gov/nwis/iv/?startDT=2007-10-01T00%3A00%3A00&site=06043500&format=waterml\n"
       ]
      }
     ],
     "prompt_number": 9
    },
    {
     "cell_type": "code",
     "collapsed": false,
     "input": [
      "data = nwis.hdf5.get_site_data(sta_id, parameter_code='00060:00003')['00060:00003']\n",
      " \n",
      "# convert data to a pandas dataframe\n",
      "df = pd.DataFrame(data['values']).drop(['last_checked','last_modified','qualifiers'], axis=1).set_index('datetime')\n",
      "df.value = df.value.apply(np.float)\n",
      "df.index = pd.to_datetime(df.index).to_period('D')\n",
      " \n",
      "# mark bad data as NaN\n",
      "df[df.values == -999999] = np.nan"
     ],
     "language": "python",
     "metadata": {},
     "outputs": [],
     "prompt_number": 10
    },
    {
     "cell_type": "code",
     "collapsed": false,
     "input": [
      "# group the data by month, day & calculate means\n",
      "daily_groups = df.groupby((lambda d: d.month, lambda d: d.day))\n",
      "means = daily_groups.mean()\n",
      " \n",
      "print 'historic daily mean on March 23rd is %s' % means.ix[3,23].value"
     ],
     "language": "python",
     "metadata": {},
     "outputs": [
      {
       "output_type": "stream",
       "stream": "stdout",
       "text": [
        "historic daily mean on March 23rd is 318.717647059\n"
       ]
      }
     ],
     "prompt_number": 11
    },
    {
     "cell_type": "code",
     "collapsed": false,
     "input": [
      "df.plot()"
     ],
     "language": "python",
     "metadata": {},
     "outputs": [
      {
       "metadata": {},
       "output_type": "pyout",
       "prompt_number": 14,
       "text": [
        "<matplotlib.axes._subplots.AxesSubplot at 0x7f692aa67950>"
       ]
      },
      {
       "metadata": {},
       "output_type": "display_data",
       "png": "[encoded data removed]",
       "text": [
        "<matplotlib.figure.Figure at 0x7f692aa6e1d0>"
       ]
      }
     ],
     "prompt_number": 14
    },
    {
     "cell_type": "code",
     "collapsed": false,
     "input": [],
     "language": "python",
     "metadata": {},
     "outputs": []
    }
   ],
   "metadata": {}
  }
 ]
}