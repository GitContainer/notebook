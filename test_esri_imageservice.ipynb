{
 "metadata": {
  "name": "",
  "signature": "sha256:44116a418fa70aa1ed0160ba1271010dfda90c6537296dc33d1616b0dfd76df0"
 },
 "nbformat": 3,
 "nbformat_minor": 0,
 "worksheets": [
  {
   "cells": [
    {
     "cell_type": "heading",
     "level": 2,
     "metadata": {},
     "source": [
      "Extract DEM data from USACE LIDAR Test via ESRI Rest Service"
     ]
    },
    {
     "cell_type": "code",
     "collapsed": false,
     "input": [
      "import json\n",
      "import urllib2"
     ],
     "language": "python",
     "metadata": {},
     "outputs": [],
     "prompt_number": 1
    },
    {
     "cell_type": "code",
     "collapsed": false,
     "input": [
      "serviceURL='http://gis.sam.usace.army.mil/server/rest/services/JALBTCX/NCMP_BareEarth_1m/ImageServer'"
     ],
     "language": "python",
     "metadata": {},
     "outputs": [],
     "prompt_number": 2
    },
    {
     "cell_type": "code",
     "collapsed": false,
     "input": [
      "# Get general image service info: Spatial reference, Pixel Type, etc\n",
      "def getISinfo(serviceURL):\n",
      "    \n",
      "    try:\n",
      "        # Sending request for general service info\n",
      "        post_data = \"\"\n",
      "        \n",
      "        headers = {}\n",
      "        headers[\"Content-Type\"] = \"application/x-www-form-urlencoded\"\n",
      "        \n",
      "        serviceURL = serviceURL.replace(\"arcgis/services\", \"arcgis/rest/services\")+\"?f=json\"                \n",
      "        \n",
      "        # Send general server request\n",
      "        req = urllib2.Request(serviceURL, post_data, headers)\n",
      "        response_stream = urllib2.urlopen(req)\n",
      "        response = response_stream.read()    \n",
      "        \n",
      "        jsondict = json.loads(response)    \n",
      "        isprj = jsondict[\"extent\"][\"spatialReference\"]\n",
      "        pixtype = jsondict[\"pixelType\"]\n",
      "        defaultrr = jsondict[\"rasterFunctionInfos\"][0][\"name\"]\n",
      "        \n",
      "        return isprj, pixtype, defaultrr\n",
      "    except Exception,e: \n",
      "        print str(e)"
     ],
     "language": "python",
     "metadata": {},
     "outputs": [],
     "prompt_number": 13
    },
    {
     "cell_type": "code",
     "collapsed": false,
     "input": [
      "isprj, pixtype, defaultrr = getISinfo(serviceURL)"
     ],
     "language": "python",
     "metadata": {},
     "outputs": [
      {
       "output_type": "stream",
       "stream": "stdout",
       "text": [
        "'extent'\n"
       ]
      },
      {
       "ename": "TypeError",
       "evalue": "'NoneType' object is not iterable",
       "output_type": "pyerr",
       "traceback": [
        "\u001b[1;31m---------------------------------------------------------------------------\u001b[0m\n\u001b[1;31mTypeError\u001b[0m                                 Traceback (most recent call last)",
        "\u001b[1;32m<ipython-input-14-358beef29d91>\u001b[0m in \u001b[0;36m<module>\u001b[1;34m()\u001b[0m\n\u001b[1;32m----> 1\u001b[1;33m \u001b[0misprj\u001b[0m\u001b[1;33m,\u001b[0m \u001b[0mpixtype\u001b[0m\u001b[1;33m,\u001b[0m \u001b[0mdefaultrr\u001b[0m \u001b[1;33m=\u001b[0m \u001b[0mgetISinfo\u001b[0m\u001b[1;33m(\u001b[0m\u001b[0mserviceURL\u001b[0m\u001b[1;33m)\u001b[0m\u001b[1;33m\u001b[0m\u001b[0m\n\u001b[0m",
        "\u001b[1;31mTypeError\u001b[0m: 'NoneType' object is not iterable"
       ]
      }
     ],
     "prompt_number": 14
    },
    {
     "cell_type": "code",
     "collapsed": false,
     "input": [
      "print isprj\n",
      "print pixtype\n",
      "print defaultrr"
     ],
     "language": "python",
     "metadata": {},
     "outputs": []
    },
    {
     "cell_type": "code",
     "collapsed": false,
     "input": [
      "serviceURL"
     ],
     "language": "python",
     "metadata": {},
     "outputs": [
      {
       "metadata": {},
       "output_type": "pyout",
       "prompt_number": 5,
       "text": [
        "'http://gis.sam.usace.army.mil/server/rest/services/JALBTCX/NCMP_BareEarth_1m/ImageServer'"
       ]
      }
     ],
     "prompt_number": 5
    },
    {
     "cell_type": "code",
     "collapsed": false,
     "input": [],
     "language": "python",
     "metadata": {},
     "outputs": []
    }
   ],
   "metadata": {}
  }
 ]
}