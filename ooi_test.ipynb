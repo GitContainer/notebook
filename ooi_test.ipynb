{
 "cells": [
  {
   "cell_type": "code",
   "execution_count": 1,
   "metadata": {
    "collapsed": true
   },
   "outputs": [],
   "source": [
    "%matplotlib inline"
   ]
  },
  {
   "cell_type": "code",
   "execution_count": 2,
   "metadata": {
    "collapsed": false
   },
   "outputs": [],
   "source": [
    "import pandas as pd"
   ]
  },
  {
   "cell_type": "code",
   "execution_count": 3,
   "metadata": {
    "collapsed": true
   },
   "outputs": [],
   "source": [
    "import xray"
   ]
  },
  {
   "cell_type": "code",
   "execution_count": 4,
   "metadata": {
    "collapsed": true
   },
   "outputs": [],
   "source": [
    "url = 'http://opendap-devel.ooi.rutgers.edu:8090/thredds/dodsC/eov-1/Coastal_Pioneer/CP05MOAS/02-FLORTM000/recovered_host/CP05MOAS-GL388-02-FLORTM000-flort_m_glider_recovered-recovered_host/CP05MOAS-GL388-02-FLORTM000-recovered_host-flort_m_glider_recovered-20141207T213258-20141208T190652.nc'"
   ]
  },
  {
   "cell_type": "code",
   "execution_count": 5,
   "metadata": {
    "collapsed": false
   },
   "outputs": [],
   "source": [
    "ds = xray.open_dataset(url)"
   ]
  },
  {
   "cell_type": "code",
   "execution_count": 6,
   "metadata": {
    "collapsed": false
   },
   "outputs": [
    {
     "data": {
      "text/plain": [
       "<xray.Dataset>\n",
       "Dimensions:                          (computed_provenance_dim: 1, instrument_provenance_dim: 1, l0_provenance: 41, obs: 34612, query_parameter_provenance_dim: 1)\n",
       "Coordinates:\n",
       "    time                             (obs) datetime64[ns] ...\n",
       "    int_ctd_pressure                 (obs) float64 ...\n",
       "    lon                              (obs) float64 ...\n",
       "    lat                              (obs) float64 ...\n",
       "  * computed_provenance_dim          (computed_provenance_dim) int64 0\n",
       "  * instrument_provenance_dim        (instrument_provenance_dim) int64 0\n",
       "  * l0_provenance                    (l0_provenance) int64 0 1 2 3 4 5 6 7 8 ...\n",
       "  * obs                              (obs) int64 0 1 2 3 4 5 6 7 8 9 10 11 ...\n",
       "  * query_parameter_provenance_dim   (query_parameter_provenance_dim) int64 0\n",
       "Data variables:\n",
       "    query_parameter_provenance       (query_parameter_provenance_dim) |S64 ...\n",
       "    computed_provenance              (computed_provenance_dim) |S64 ...\n",
       "    l0_provenance_keys               (l0_provenance) |S64 ...\n",
       "    l0_provenance_data               (l0_provenance) |S64 ...\n",
       "    instrument_provenance            (instrument_provenance_dim) |S64 ...\n",
       "    port_timestamp                   (obs) datetime64[ns] ...\n",
       "    driver_timestamp                 (obs) datetime64[ns] ...\n",
       "    internal_timestamp               (obs) datetime64[ns] ...\n",
       "    preferred_timestamp              (obs) object ...\n",
       "    deployment                       (obs) int32 ...\n",
       "    flort_m_bback_total              (obs) float32 ...\n",
       "    flort_m_scat_seawater            (obs) float32 ...\n",
       "    provenance                       (obs) |S64 ...\n",
       "    ingestion_timestamp              (obs) datetime64[ns] ...\n",
       "    m_present_secs_into_mission      (obs) float64 ...\n",
       "    m_present_time                   (obs) datetime64[ns] ...\n",
       "    id                               (obs) |S64 ...\n",
       "    sci_flbbcd_bb_ref                (obs) float64 ...\n",
       "    sci_flbbcd_bb_sig                (obs) float64 ...\n",
       "    sci_flbbcd_bb_units              (obs) float64 ...\n",
       "    sci_flbbcd_cdom_ref              (obs) float64 ...\n",
       "    sci_flbbcd_cdom_sig              (obs) float64 ...\n",
       "    sci_flbbcd_cdom_units            (obs) float64 ...\n",
       "    sci_flbbcd_chlor_ref             (obs) float64 ...\n",
       "    sci_flbbcd_chlor_sig             (obs) float64 ...\n",
       "    sci_flbbcd_chlor_units           (obs) float64 ...\n",
       "    sci_flbbcd_therm                 (obs) float64 ...\n",
       "    sci_flbbcd_timestamp             (obs) datetime64[ns] ...\n",
       "    sci_m_present_secs_into_mission  (obs) float64 ...\n",
       "    sci_m_present_time               (obs) datetime64[ns] ...\n",
       "    l0_provenance_information        (obs) |S64 ...\n",
       "Attributes:\n",
       "    node: GL388\n",
       "    comment: \n",
       "    publisher_email: \n",
       "    sourceUrl: http://oceanobservatories.org/\n",
       "    collection_method: recovered_host\n",
       "    stream: flort_m_glider_recovered\n",
       "    featureType: point\n",
       "    creator_email: \n",
       "    publisher_name: Ocean Observatories Initiative\n",
       "    date_modified: 2015-12-28T20:04:06.185702\n",
       "    date_created: 2015-12-28T20:04:06.185694\n",
       "    keywords: \n",
       "    cdm_data_type: Point\n",
       "    references: More information can be found at http://oceanobservatories.org/\n",
       "    Metadata_Conventions: Unidata Dataset Discovery v1.0\n",
       "    deployment: 1\n",
       "    id: CP05MOAS-GL388-02-FLORTM000-recovered_host-flort_m_glider_recovered\n",
       "    requestUUID: 3b34d6d1-3d1d-4f60-955d-8579d147392c\n",
       "    contributor_role: \n",
       "    summary: Dataset Generated by Stream Engine from Ocean Observatories Initiative\n",
       "    keywords_vocabulary: \n",
       "    institution: Ocean Observatories Initiative\n",
       "    naming_authority: org.oceanobservatories\n",
       "    feature_Type: point\n",
       "    infoUrl: http://oceanobservatories.org/\n",
       "    license: \n",
       "    contributor_name: \n",
       "    uuid: 3b34d6d1-3d1d-4f60-955d-8579d147392c\n",
       "    creator_name: Ocean Observatories Initiative\n",
       "    title: Data produced by Stream Engine version 0.8.4 for CP05MOAS-GL388-02-FLORTM000-recovered_host-flort_m_glider_recovered\n",
       "    sensor: 02-FLORTM000\n",
       "    standard_name_vocabulary: NetCDF Climate and Forecast (CF) Metadata Convention Standard Name Table 29\n",
       "    acknowledgement: \n",
       "    Conventions: CF-1.6\n",
       "    project: Ocean Observatories Initiative\n",
       "    source: CP05MOAS-GL388-02-FLORTM000-recovered_host-flort_m_glider_recovered\n",
       "    publisher_url: http://oceanobservatories.org/\n",
       "    creator_url: http://oceanobservatories.org/\n",
       "    nodc_template_version: NODC_NetCDF_TimeSeries_Orthogonal_Template_v1.1\n",
       "    subsite: CP05MOAS\n",
       "    processing_level: L2\n",
       "    history: 2015-12-28T20:04:06.185586 generated from Stream Engine\n",
       "    time_coverage_start: 2014-12-07T21:32:58.344210\n",
       "    time_coverage_end: 2014-12-08T19:06:52.651550\n",
       "    time_coverage_resolution: P2.24S\n",
       "    location_name: None\n",
       "    geospatial_lat_min: -88.0465462022\n",
       "    geospatial_lat_max: 39.8952888751\n",
       "    geospatial_lon_min: -198.801452897\n",
       "    geospatial_lon_max: -70.8965500002\n",
       "    geospatial_lat_units: degrees_north\n",
       "    geospatial_lat_resolution: 0.1\n",
       "    geospatial_lon_units: degrees_east\n",
       "    geospatial_lon_resolution: 0.1\n",
       "    geospatial_vertical_units: m\n",
       "    geospatial_vertical_resolution: 0.1\n",
       "    geospatial_vertical_positive: down\n",
       "    DODS.strlen: 151\n",
       "    DODS.dimName: string151"
      ]
     },
     "execution_count": 6,
     "metadata": {},
     "output_type": "execute_result"
    }
   ],
   "source": [
    "ds"
   ]
  },
  {
   "cell_type": "code",
   "execution_count": 7,
   "metadata": {
    "collapsed": true
   },
   "outputs": [],
   "source": [
    "#Create a Pandas time series"
   ]
  },
  {
   "cell_type": "code",
   "execution_count": 8,
   "metadata": {
    "collapsed": false
   },
   "outputs": [],
   "source": [
    "vts = pd.Series(ds['flort_m_bback_total'].values,index=ds['time'])"
   ]
  },
  {
   "cell_type": "code",
   "execution_count": 9,
   "metadata": {
    "collapsed": false
   },
   "outputs": [
    {
     "data": {
      "text/plain": [
       "<matplotlib.axes._subplots.AxesSubplot at 0x7f9dea84bd90>"
      ]
     },
     "execution_count": 9,
     "metadata": {},
     "output_type": "execute_result"
    },
    {
     "data": {
      "image/png": "[encoded data removed]",
      "text/plain": [
       "<matplotlib.figure.Figure at 0x7f9deb16e750>"
      ]
     },
     "metadata": {},
     "output_type": "display_data"
    }
   ],
   "source": [
    "vts_1h = vts.resample('1min', how='mean')\n",
    "vts_1h.plot(figsize=(12,4))"
   ]
  },
  {
   "cell_type": "code",
   "execution_count": null,
   "metadata": {
    "collapsed": true
   },
   "outputs": [],
   "source": []
  },
  {
   "cell_type": "code",
   "execution_count": null,
   "metadata": {
    "collapsed": true
   },
   "outputs": [],
   "source": []
  }
 ],
 "metadata": {
  "kernelspec": {
   "display_name": "Python 2",
   "language": "python",
   "name": "python2"
  },
  "language_info": {
   "codemirror_mode": {
    "name": "ipython",
    "version": 2
   },
   "file_extension": ".py",
   "mimetype": "text/x-python",
   "name": "python",
   "nbconvert_exporter": "python",
   "pygments_lexer": "ipython2",
   "version": "2.7.10"
  }
 },
 "nbformat": 4,
 "nbformat_minor": 0
}
