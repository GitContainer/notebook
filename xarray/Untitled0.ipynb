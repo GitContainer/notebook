{
 "metadata": {
  "name": "",
  "signature": "sha256:785835b826752a7c5071c9ae80d33d32446bff74e81cb6ceef2429126886ca49"
 },
 "nbformat": 3,
 "nbformat_minor": 0,
 "worksheets": [
  {
   "cells": [
    {
     "cell_type": "code",
     "collapsed": false,
     "input": [
      "import netCDF4\n",
      "import pandas as pd\n",
      "import numpy as np\n",
      "import datetime as dt"
     ],
     "language": "python",
     "metadata": {},
     "outputs": [],
     "prompt_number": 4
    },
    {
     "cell_type": "code",
     "collapsed": false,
     "input": [
      "url='http://geoport.whoi.edu/thredds/dodsC/usgs/data2/emontgomery/stellwagen/Data/FI14/10001whr-cal.nc'"
     ],
     "language": "python",
     "metadata": {},
     "outputs": [],
     "prompt_number": 2
    },
    {
     "cell_type": "code",
     "collapsed": false,
     "input": [
      "nc = netCDF4.Dataset(url)\n",
      "ncv = nc.variables"
     ],
     "language": "python",
     "metadata": {},
     "outputs": [],
     "prompt_number": 3
    },
    {
     "cell_type": "code",
     "collapsed": false,
     "input": [
      "t1 = np.array(ncv['time'][:] - 2440000,dtype='int64')*3600*24*1000\n",
      "t2 = np.array(ncv['time2'][:], dtype='int64')\n",
      "dt = dt.datetime('1968-05-23T00:00:00Z'"
     ],
     "language": "python",
     "metadata": {},
     "outputs": []
    }
   ],
   "metadata": {}
  }
 ]
}