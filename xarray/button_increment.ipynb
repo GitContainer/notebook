{
 "metadata": {
  "name": "",
  "signature": "sha256:d26a7fab706ccbe366e9cab54debd843936fd17057a9625c3cbfa10e0dd6eaf7"
 },
 "nbformat": 3,
 "nbformat_minor": 0,
 "worksheets": [
  {
   "cells": [
    {
     "cell_type": "code",
     "collapsed": false,
     "input": [
      "import ipywidgets as widgets\n",
      "from IPython.display import display"
     ],
     "language": "python",
     "metadata": {},
     "outputs": []
    }
   ],
   "metadata": {}
  }
 ]
}