{
 "metadata": {
  "name": "",
  "signature": "sha256:1089d65d34f64f4d657c54db3331212dd3a1d79297aedaf5e9914a24269f0d27"
 },
 "nbformat": 3,
 "nbformat_minor": 0,
 "worksheets": [
  {
   "cells": [
    {
     "cell_type": "markdown",
     "metadata": {},
     "source": [
      "# Using Xray like NCO"
     ]
    },
    {
     "cell_type": "markdown",
     "metadata": {},
     "source": [
      "Select a specific OPeNDAP variable to subset and stride, then write the result to a NetCDF file"
     ]
    },
    {
     "cell_type": "code",
     "collapsed": false,
     "input": [
      "import xray"
     ],
     "language": "python",
     "metadata": {},
     "outputs": [],
     "prompt_number": 1
    },
    {
     "cell_type": "code",
     "collapsed": false,
     "input": [
      "xray.__version__"
     ],
     "language": "python",
     "metadata": {},
     "outputs": [
      {
       "metadata": {},
       "output_type": "pyout",
       "prompt_number": 2,
       "text": [
        "'0.6.0'"
       ]
      }
     ],
     "prompt_number": 2
    },
    {
     "cell_type": "markdown",
     "metadata": {},
     "source": [
      "specify the opendap data url endpoint"
     ]
    },
    {
     "cell_type": "code",
     "collapsed": false,
     "input": [
      "url ='http://ecowatch.ncddc.noaa.gov/thredds/dodsC/hycom_sfc/20151007/hycom_glb_sfc_2015100700_t000.nc'"
     ],
     "language": "python",
     "metadata": {},
     "outputs": [],
     "prompt_number": 3
    },
    {
     "cell_type": "markdown",
     "metadata": {},
     "source": [
      "create the xray dataset from an opendap endpoint, but drop the 'tau' variable because it's units are invalid:"
     ]
    },
    {
     "cell_type": "code",
     "collapsed": false,
     "input": [
      "ds = xray.open_dataset(url,drop_variables=['tau'])"
     ],
     "language": "python",
     "metadata": {},
     "outputs": [],
     "prompt_number": 4
    },
    {
     "cell_type": "code",
     "collapsed": false,
     "input": [
      "ds['water_temp']"
     ],
     "language": "python",
     "metadata": {},
     "outputs": [
      {
       "metadata": {},
       "output_type": "pyout",
       "prompt_number": 5,
       "text": [
        "<xray.DataArray 'water_temp' (time: 1, depth: 1, lat: 2001, lon: 4499)>\n",
        "[9002499 values with dtype=float64]\n",
        "Coordinates:\n",
        "  * lat      (lat) float64 -80.0 -79.92 -79.84 -79.76 -79.68 -79.6 -79.52 ...\n",
        "  * depth    (depth) float64 0.0\n",
        "  * lon      (lon) float64 0.0 0.08 0.16 0.24 0.32 0.4 0.48 0.56 0.64 0.72 ...\n",
        "  * time     (time) datetime64[ns] 2015-10-07\n",
        "Attributes:\n",
        "    long_name: Water Temperature\n",
        "    standard_name: sea_water_temperature\n",
        "    units: degC\n",
        "    NAVO_code: 15"
       ]
      }
     ],
     "prompt_number": 5
    },
    {
     "cell_type": "markdown",
     "metadata": {},
     "source": [
      "subsample the xray dataarray object and promote to a dataset"
     ]
    },
    {
     "cell_type": "code",
     "collapsed": false,
     "input": [
      "ds_wt = ds['water_temp'][0,0,::12,::12].to_dataset()"
     ],
     "language": "python",
     "metadata": {},
     "outputs": [],
     "prompt_number": 6
    },
    {
     "cell_type": "markdown",
     "metadata": {},
     "source": [
      "save subsetted data to netcdf, includes coordinate values as well"
     ]
    },
    {
     "cell_type": "code",
     "collapsed": false,
     "input": [
      "ds_wt.to_netcdf('water_temp.nc')"
     ],
     "language": "python",
     "metadata": {},
     "outputs": [],
     "prompt_number": 7
    }
   ],
   "metadata": {}
  }
 ]
}