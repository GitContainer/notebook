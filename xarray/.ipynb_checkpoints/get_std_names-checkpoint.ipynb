{
 "metadata": {
  "name": "",
  "signature": "sha256:cd78f4d0ac0107ebe9570ea870f53cd7ef32cce2a39b8cfe1bd24e4083a07bf3"
 },
 "nbformat": 3,
 "nbformat_minor": 0,
 "worksheets": [
  {
   "cells": [
    {
     "cell_type": "code",
     "collapsed": false,
     "input": [
      "import xray"
     ],
     "language": "python",
     "metadata": {},
     "outputs": [],
     "prompt_number": 1
    },
    {
     "cell_type": "code",
     "collapsed": false,
     "input": [
      "url = 'http://geoport.whoi.edu/thredds/dodsC/usgs/data2/emontgomery/stellwagen/CF-1.6/RCNWR/9541aqd-cal.nc'"
     ],
     "language": "python",
     "metadata": {},
     "outputs": [],
     "prompt_number": 2
    },
    {
     "cell_type": "code",
     "collapsed": false,
     "input": [
      "ds = xray.open_dataset(url)"
     ],
     "language": "python",
     "metadata": {},
     "outputs": [],
     "prompt_number": 3
    },
    {
     "cell_type": "code",
     "collapsed": false,
     "input": [
      "def get_std_name_vars(ds,std_name):\n",
      "    return {k: v for k, v in ds.data_vars.iteritems() if 'standard_name' in v.attrs.keys() and std_name in v.standard_name}"
     ],
     "language": "python",
     "metadata": {},
     "outputs": [],
     "prompt_number": 4
    },
    {
     "cell_type": "code",
     "collapsed": false,
     "input": [
      "std_name = 'eastward_sea_water_velocity'\n",
      "get_std_name_vars(ds,std_name)"
     ],
     "language": "python",
     "metadata": {},
     "outputs": [
      {
       "metadata": {},
       "output_type": "pyout",
       "prompt_number": 5,
       "text": [
        "{u'u_1205': <xray.DataArray u'u_1205' (time: 17425, z: 8)>\n",
        " [139400 values with dtype=float64]\n",
        " Coordinates:\n",
        "   * time       (time) datetime64[ns] 2013-03-27T01:31:00 2013-03-27T01:41:00 ...\n",
        "     latitude   float64 ...\n",
        "   * z          (z) float64 -2.16 -1.66 -1.16 -0.6596 -0.1596 0.3404 0.8404 1.34\n",
        "     longitude  float64 ...\n",
        " Attributes:\n",
        "     epic_code: 1205\n",
        "     feneric_name: u\n",
        "     name: u_1205\n",
        "     standard_name: eastward_sea_water_velocity\n",
        "     sensor_depth: -2.57962687162\n",
        "     actual_max: 168.253\n",
        "     initial_sensor_height: 0.25\n",
        "     FORTRAN_format:  \n",
        "     long_name: Eastward (u) velocity\n",
        "     sensor_type: Nortek Aquadopp Profiler\n",
        "     actual_min: -63.2215\n",
        "     units: m/s\n",
        "     serial_number: AQD 5379\n",
        "     height_depth_units: m\n",
        "     grid_mapping: crs\n",
        "     _ChunkSize: [1000    8]}"
       ]
      }
     ],
     "prompt_number": 5
    },
    {
     "cell_type": "code",
     "collapsed": false,
     "input": [],
     "language": "python",
     "metadata": {},
     "outputs": [],
     "prompt_number": 5
    }
   ],
   "metadata": {}
  }
 ]
}