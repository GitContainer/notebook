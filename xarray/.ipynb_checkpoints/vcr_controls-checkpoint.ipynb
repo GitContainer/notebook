{
 "cells": [
  {
   "cell_type": "code",
   "execution_count": null,
   "metadata": {
    "collapsed": false
   },
   "outputs": [],
   "source": [
    "%reset -f\n",
    "import ipywidgets as widgets\n",
    "from IPython.display import display\n",
    "from traitlets import CInt, link"
   ]
  },
  {
   "cell_type": "code",
   "execution_count": null,
   "metadata": {
    "collapsed": false
   },
   "outputs": [],
   "source": [
    "class Counter(widgets.DOMWidget):\n",
    "    value = CInt(0, sync=True)\n",
    "    "
   ]
  },
  {
   "cell_type": "code",
   "execution_count": null,
   "metadata": {
    "collapsed": true
   },
   "outputs": [],
   "source": [
    "def button_plus(counter, w):\n",
    "    counter.increment(+1)  \n",
    "\n",
    "def button_minus(counter, w):\n",
    "    counter.increment(-1) "
   ]
  },
  {
   "cell_type": "code",
   "execution_count": 4,
   "metadata": {
    "collapsed": true
   },
   "outputs": [],
   "source": [
    "counter = Counter()\n",
    "def button_plus(dummy_arg):\n",
    "    print name\n",
    "    counter.value += 1 if counter.value < 10 else 0\n",
    "def button_minus(dummy_arg):\n",
    "    counter.value -= 1 if counter.value > 0 else 0\n",
    "    "
   ]
  },
  {
   "cell_type": "code",
   "execution_count": 5,
   "metadata": {
    "collapsed": true
   },
   "outputs": [],
   "source": [
    "# 1 step forward button\n",
    "wplus = widgets.Button(description='>')\n",
    "\n",
    "# 1 step backward button\n",
    "wminus = widgets.Button(description='<')\n",
    "\n",
    "# integer slider\n",
    "wpick = widgets.IntSlider(value=0,min=0,max=10,step=1,description=\"time step\")\n",
    "wplus.on_click(button_plus)\n",
    "wminus.on_click(button_minus)"
   ]
  },
  {
   "cell_type": "code",
   "execution_count": 6,
   "metadata": {
    "collapsed": false
   },
   "outputs": [],
   "source": [
    "link((wpick, 'value'), (counter, 'value'));"
   ]
  },
  {
   "cell_type": "code",
   "execution_count": 7,
   "metadata": {
    "collapsed": false
   },
   "outputs": [],
   "source": [
    "display(wminus, wpick, wplus)"
   ]
  }
 ],
 "metadata": {
  "kernelspec": {
   "display_name": "Python 2",
   "language": "python",
   "name": "python2"
  },
  "language_info": {
   "codemirror_mode": {
    "name": "ipython",
    "version": 2
   },
   "file_extension": ".py",
   "mimetype": "text/x-python",
   "name": "python",
   "nbconvert_exporter": "python",
   "pygments_lexer": "ipython2",
   "version": "2.7.10"
  }
 },
 "nbformat": 4,
 "nbformat_minor": 0
}
