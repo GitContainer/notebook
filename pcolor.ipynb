{
 "metadata": {
  "name": "",
  "signature": "sha256:a8430ae423c0394c49fe56a5d71aab837198985db9e883ff037c76e3c9734454"
 },
 "nbformat": 3,
 "nbformat_minor": 0,
 "worksheets": [
  {
   "cells": [
    {
     "cell_type": "code",
     "collapsed": false,
     "input": [
      "import numpy as np\n",
      "from iris.cube import Cube\n",
      "from iris.coords import DimCoord"
     ],
     "language": "python",
     "metadata": {},
     "outputs": [],
     "prompt_number": 1
    },
    {
     "cell_type": "code",
     "collapsed": false,
     "input": [
      "def create_cube():\n",
      "    lon1d = np.arange(5)\n",
      "    lat1d = np.arange(4)\n",
      "    data = np.random.random((len(lat1d),len(lon1d)))\n",
      "    cube = Cube(data)   \n",
      "    lon = DimCoord(lon1d, standard_name='longitude',\n",
      "                   units='degrees', circular=False)\n",
      "    lat = DimCoord(lat1d, standard_name='latitude',\n",
      "                   units='degrees')\n",
      "    cube.add_dim_coord(lon, 1)\n",
      "    cube.add_dim_coord(lat, 0)\n",
      "    return cube"
     ],
     "language": "python",
     "metadata": {},
     "outputs": [],
     "prompt_number": 19
    },
    {
     "cell_type": "code",
     "collapsed": false,
     "input": [
      "cube = create_cube()"
     ],
     "language": "python",
     "metadata": {},
     "outputs": [],
     "prompt_number": 20
    },
    {
     "cell_type": "code",
     "collapsed": false,
     "input": [
      "x = cube.coord(axis='X')\n",
      "x.guess_bounds()\n",
      "x"
     ],
     "language": "python",
     "metadata": {},
     "outputs": [
      {
       "metadata": {},
       "output_type": "pyout",
       "prompt_number": 21,
       "text": [
        "DimCoord(array([0, 1, 2, 3, 4]), bounds=array([[-0.5,  0.5],\n",
        "       [ 0.5,  1.5],\n",
        "       [ 1.5,  2.5],\n",
        "       [ 2.5,  3.5],\n",
        "       [ 3.5,  4.5]]), standard_name='longitude', units=Unit('degrees'))"
       ]
      }
     ],
     "prompt_number": 21
    },
    {
     "cell_type": "code",
     "collapsed": false,
     "input": [
      "y = cube.coord(axis='Y')\n",
      "y.guess_bounds()\n",
      "y"
     ],
     "language": "python",
     "metadata": {},
     "outputs": [
      {
       "metadata": {},
       "output_type": "pyout",
       "prompt_number": 22,
       "text": [
        "DimCoord(array([0, 1, 2, 3]), bounds=array([[-0.5,  0.5],\n",
        "       [ 0.5,  1.5],\n",
        "       [ 1.5,  2.5],\n",
        "       [ 2.5,  3.5]]), standard_name='latitude', units=Unit('degrees'))"
       ]
      }
     ],
     "prompt_number": 22
    },
    {
     "cell_type": "code",
     "collapsed": false,
     "input": [
      "%matplotlib inline\n",
      "\n",
      "import matplotlib.pyplot as plt\n",
      "plt.pcolormesh(x.points, y.points, cube.data)"
     ],
     "language": "python",
     "metadata": {},
     "outputs": [
      {
       "metadata": {},
       "output_type": "pyout",
       "prompt_number": 23,
       "text": [
        "<matplotlib.collections.QuadMesh at 0x7ff7a1fd5650>"
       ]
      },
      {
       "metadata": {},
       "output_type": "display_data",
       "png": "[encoded data removed]",
       "text": [
        "<matplotlib.figure.Figure at 0x7ff7a2530710>"
       ]
      }
     ],
     "prompt_number": 23
    },
    {
     "cell_type": "code",
     "collapsed": false,
     "input": [
      "import iris.quickplot as qplt\n",
      "\n",
      "cs = qplt.pcolormesh(cube)"
     ],
     "language": "python",
     "metadata": {},
     "outputs": [
      {
       "metadata": {},
       "output_type": "display_data",
       "png": "[encoded data removed]",
       "text": [
        "<matplotlib.figure.Figure at 0x7ff7a1fed650>"
       ]
      }
     ],
     "prompt_number": 24
    },
    {
     "cell_type": "code",
     "collapsed": false,
     "input": [
      "import cartopy.crs as ccrs\n",
      "from cartopy.mpl.ticker import LongitudeFormatter, LatitudeFormatter\n",
      "\n",
      "fig, ax = plt.subplots(subplot_kw=dict(projection=ccrs.PlateCarree()))\n",
      "cs = qplt.pcolormesh(cube)\n",
      "ax.set_xticks(x.points, crs=ccrs.PlateCarree())\n",
      "ax.set_yticks(y.points, crs=ccrs.PlateCarree())\n",
      "lon_formatter = LongitudeFormatter(zero_direction_label=True)\n",
      "lat_formatter = LatitudeFormatter()\n",
      "ax.xaxis.set_major_formatter(lon_formatter)\n",
      "ax.yaxis.set_major_formatter(lat_formatter)"
     ],
     "language": "python",
     "metadata": {},
     "outputs": [
      {
       "metadata": {},
       "output_type": "display_data",
       "png": "[encoded data removed]",
       "text": [
        "<matplotlib.figure.Figure at 0x7ff7a1fede50>"
       ]
      }
     ],
     "prompt_number": 25
    },
    {
     "cell_type": "code",
     "collapsed": false,
     "input": [],
     "language": "python",
     "metadata": {},
     "outputs": [],
     "prompt_number": 25
    },
    {
     "cell_type": "code",
     "collapsed": false,
     "input": [],
     "language": "python",
     "metadata": {},
     "outputs": []
    }
   ],
   "metadata": {}
  }
 ]
}