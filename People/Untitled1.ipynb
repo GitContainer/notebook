{
 "metadata": {
  "name": "",
  "signature": "sha256:ad4e71004a4a2ebbf038a7e9a32d5c06c55dc421cc399ffbeb8f82be29b69415"
 },
 "nbformat": 3,
 "nbformat_minor": 0,
 "worksheets": [
  {
   "cells": [
    {
     "cell_type": "code",
     "collapsed": false,
     "input": [
      "matplotlib bug"
     ],
     "language": "python",
     "metadata": {},
     "outputs": []
    }
   ],
   "metadata": {}
  }
 ]
}