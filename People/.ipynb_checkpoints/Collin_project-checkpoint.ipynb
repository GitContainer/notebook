{
 "metadata": {
  "gist_id": "afbd2ba3695a5b89bb3c",
  "name": "",
  "signature": "sha256:ec7217a4c78e52a8b5bce0aa77aaf877613313a785742066316c6325be2e0a6d"
 },
 "nbformat": 3,
 "nbformat_minor": 0,
 "worksheets": [
  {
   "cells": [
    {
     "cell_type": "code",
     "collapsed": false,
     "input": [
      "import pandas as pd\n",
      "import datetime as dt\n",
      "import numpy as np\n",
      "import matplotlib.pyplot as plt\n",
      "%matplotlib inline"
     ],
     "language": "python",
     "metadata": {},
     "outputs": [],
     "prompt_number": 1
    },
    {
     "cell_type": "code",
     "collapsed": false,
     "input": [
      "dataset_url = 'http://www.neracoos.org/erddap/tabledap/cwwcNDBCMet.csv?time,atmp,wtmp,wspu,wspv&station=\\\n",
      "%2244013%22&time>=2014-06-01T00:00:00Z&time<=2014-09-01T16:00:00Z'"
     ],
     "language": "python",
     "metadata": {},
     "outputs": [],
     "prompt_number": 2
    },
    {
     "cell_type": "code",
     "collapsed": false,
     "input": [
      "#dataset_file = 'Dataset.csv'"
     ],
     "language": "python",
     "metadata": {},
     "outputs": [],
     "prompt_number": 3
    },
    {
     "cell_type": "code",
     "collapsed": false,
     "input": [
      "#df = pd.read_csv(dataset_file, parse_dates=True, index_col='time', skiprows=[1])\n",
      "df = pd.read_csv(dataset_url, parse_dates=True, index_col='time', skiprows=[1])\n",
      "#df.to_csv('Dataset.csv')\n",
      "df_daily = df.resample(rule='D', how='mean')"
     ],
     "language": "python",
     "metadata": {},
     "outputs": [],
     "prompt_number": 4
    },
    {
     "cell_type": "code",
     "collapsed": false,
     "input": [
      "df.head()\n",
      "#plt.savefig('table.png')"
     ],
     "language": "python",
     "metadata": {},
     "outputs": [
      {
       "html": [
        "<div style=\"max-height:1000px;max-width:1500px;overflow:auto;\">\n",
        "<table border=\"1\" class=\"dataframe\">\n",
        "  <thead>\n",
        "    <tr style=\"text-align: right;\">\n",
        "      <th></th>\n",
        "      <th>atmp</th>\n",
        "      <th>wtmp</th>\n",
        "      <th>wspu</th>\n",
        "      <th>wspv</th>\n",
        "    </tr>\n",
        "    <tr>\n",
        "      <th>time</th>\n",
        "      <th></th>\n",
        "      <th></th>\n",
        "      <th></th>\n",
        "      <th></th>\n",
        "    </tr>\n",
        "  </thead>\n",
        "  <tbody>\n",
        "    <tr>\n",
        "      <th>2014-06-01 00:00:00</th>\n",
        "      <td> 11.3</td>\n",
        "      <td> 12.2</td>\n",
        "      <td> 0.0</td>\n",
        "      <td>-3.7</td>\n",
        "    </tr>\n",
        "    <tr>\n",
        "      <th>2014-06-01 01:00:00</th>\n",
        "      <td> 10.8</td>\n",
        "      <td> 12.2</td>\n",
        "      <td> 1.2</td>\n",
        "      <td>-3.5</td>\n",
        "    </tr>\n",
        "    <tr>\n",
        "      <th>2014-06-01 02:00:00</th>\n",
        "      <td> 11.3</td>\n",
        "      <td> 12.2</td>\n",
        "      <td> 1.3</td>\n",
        "      <td>-2.5</td>\n",
        "    </tr>\n",
        "    <tr>\n",
        "      <th>2014-06-01 03:00:00</th>\n",
        "      <td> 11.5</td>\n",
        "      <td> 12.1</td>\n",
        "      <td> 2.8</td>\n",
        "      <td>-3.8</td>\n",
        "    </tr>\n",
        "    <tr>\n",
        "      <th>2014-06-01 04:00:00</th>\n",
        "      <td> 11.6</td>\n",
        "      <td> 11.9</td>\n",
        "      <td> 2.2</td>\n",
        "      <td>-3.4</td>\n",
        "    </tr>\n",
        "  </tbody>\n",
        "</table>\n",
        "</div>"
       ],
       "metadata": {},
       "output_type": "pyout",
       "prompt_number": 5,
       "text": [
        "                     atmp  wtmp  wspu  wspv\n",
        "time                                       \n",
        "2014-06-01 00:00:00  11.3  12.2   0.0  -3.7\n",
        "2014-06-01 01:00:00  10.8  12.2   1.2  -3.5\n",
        "2014-06-01 02:00:00  11.3  12.2   1.3  -2.5\n",
        "2014-06-01 03:00:00  11.5  12.1   2.8  -3.8\n",
        "2014-06-01 04:00:00  11.6  11.9   2.2  -3.4"
       ]
      }
     ],
     "prompt_number": 5
    },
    {
     "cell_type": "code",
     "collapsed": false,
     "input": [
      "df_daily['wtmp'].plot(figsize=(10,4))\n",
      "#plt.savefig('General_watertemp.png')"
     ],
     "language": "python",
     "metadata": {},
     "outputs": [
      {
       "metadata": {},
       "output_type": "pyout",
       "prompt_number": 6,
       "text": [
        "<matplotlib.axes._subplots.AxesSubplot at 0x7fa919a48590>"
       ]
      },
      {
       "metadata": {},
       "output_type": "display_data",
       "png": "[encoded data removed]",
       "text": [
        "<matplotlib.figure.Figure at 0x7fa919a48a50>"
       ]
      }
     ],
     "prompt_number": 6
    },
    {
     "cell_type": "code",
     "collapsed": false,
     "input": [
      "st = dt.datetime(2014, 7, 4, 18, 0)\n",
      "en = dt.datetime(2014, 7, 5, 18, 0)\n",
      "df[['wtmp']][st:en].plot(figsize=(10,4))\n",
      "#plt.savefig('Watertemp1.png')"
     ],
     "language": "python",
     "metadata": {},
     "outputs": [
      {
       "metadata": {},
       "output_type": "pyout",
       "prompt_number": 7,
       "text": [
        "<matplotlib.axes._subplots.AxesSubplot at 0x7fa919a48b50>"
       ]
      },
      {
       "metadata": {},
       "output_type": "display_data",
       "png": "[encoded data removed]",
       "text": [
        "<matplotlib.figure.Figure at 0x7fa918fcf850>"
       ]
      }
     ],
     "prompt_number": 7
    },
    {
     "cell_type": "code",
     "collapsed": false,
     "input": [
      "st = dt.datetime(2014, 7, 2, 18, 0)      #48 hours before temperature drop\n",
      "en = dt.datetime(2014, 7, 4, 18, 0)\n",
      "avg_wspu = df['wspu'][st:en].mean(axis=1)\n",
      "avg_wspv = df['wspv'][st:en].mean(axis=1)"
     ],
     "language": "python",
     "metadata": {},
     "outputs": [],
     "prompt_number": 8
    },
    {
     "cell_type": "code",
     "collapsed": false,
     "input": [
      "print avg_wspu,avg_wspv"
     ],
     "language": "python",
     "metadata": {},
     "outputs": [
      {
       "output_type": "stream",
       "stream": "stdout",
       "text": [
        "-0.3 3.23265306122\n"
       ]
      }
     ],
     "prompt_number": 9
    },
    {
     "cell_type": "code",
     "collapsed": false,
     "input": [
      "plt.quiver(avg_wspu,avg_wspv)"
     ],
     "language": "python",
     "metadata": {},
     "outputs": [
      {
       "metadata": {},
       "output_type": "pyout",
       "prompt_number": 10,
       "text": [
        "<matplotlib.quiver.Quiver at 0x7fa918cd6fd0>"
       ]
      },
      {
       "metadata": {},
       "output_type": "display_data",
       "png": "[encoded data removed]",
       "text": [
        "<matplotlib.figure.Figure at 0x7fa918ed9d10>"
       ]
      }
     ],
     "prompt_number": 10
    },
    {
     "cell_type": "code",
     "collapsed": false,
     "input": [
      "plt.figure(figsize=(5,5))\n",
      "ax = plt.gca()\n",
      "lim=5\n",
      "ax.quiver(0,0,avg_wspu,avg_wspv,angles='xy',scale_units='xy',scale=1)\n",
      "ax.set_xlim([-lim,lim])\n",
      "ax.set_ylim([-lim,lim])\n",
      "ax.grid()\n",
      "#plt.savefig('Wind1.png')"
     ],
     "language": "python",
     "metadata": {},
     "outputs": [
      {
       "metadata": {},
       "output_type": "display_data",
       "png": "[encoded data removed]",
       "text": [
        "<matplotlib.figure.Figure at 0x7fa918d64e10>"
       ]
      }
     ]
    },
    {
     "cell_type": "code",
     "collapsed": false,
     "input": [
      "#Written by Dr. Signell\n",
      "\n",
      "import netCDF4\n",
      "import matplotlib.tri as Tri\n",
      "\n",
      "# swim route\n",
      "lon_track=[-70.890150,  -70.927933,  -70.951417,  -70.976217,  -70.999150,  -71.034850]\n",
      "lat_track=[ 42.327400,   42.316150,   42.314800,   42.309300,   42.322633,   42.328700]\n",
      "\n",
      "# DAP Data URL\n",
      "# MassBay GRID\n",
      "url = 'http://www.smast.umassd.edu:8080/thredds/dodsC/FVCOM/NECOFS/Forecasts/NECOFS_FVCOM_OCEAN_MASSBAY_FORECAST.nc'\n",
      "# GOM3 GRID\n",
      "#url='http://www.smast.umassd.edu:8080/thredds/dodsC/FVCOM/NECOFS/Forecasts/NECOFS_GOM3_FORECAST.nc'\n",
      "# Open DAP\n",
      "url= 'http://www.smast.umassd.edu:8080/thredds/dodsC/fvcom/archives/necofs_mb'\n",
      "nc = netCDF4.Dataset(url).variables\n",
      "nc.keys()\n",
      "\n",
      "# Desired time for snapshot in UTC \n",
      "# ....right now (or some number of hours from now) ...\n",
      "#start = dt.datetime.utcnow() + dt.timedelta(hours=48)\n",
      "# ... or specific time (UTC)    \n",
      "start = dt.datetime(2014, 7, 3, 13, 0)  #Note: EDT = UTC - 4 hours , EST = UTC -5 hours\n",
      "\n",
      "# Get desired time step  \n",
      "time_var = nc['time']\n",
      "itime = netCDF4.date2index(start,time_var,select='nearest')\n",
      "\n",
      "# Get lon,lat coordinates for nodes (depth)\n",
      "lat = nc['lat'][:]\n",
      "lon = nc['lon'][:]\n",
      "# Get lon,lat coordinates for cell centers (depth)\n",
      "latc = nc['latc'][:]\n",
      "lonc = nc['lonc'][:]\n",
      "# Get Connectivity array\n",
      "nv = nc['nv'][:].T - 1 \n",
      "# Get depth\n",
      "h = nc['h'][:]  # depth \n",
      "\n",
      "dtime = netCDF4.num2date(time_var[itime],time_var.units)\n",
      "daystr = dtime.strftime('%Y-%b-%d %H:%M')\n",
      "\n",
      "tri = Tri.Triangulation(lon,lat, triangles=nv)\n",
      "\n",
      "# get current at layer [0 = surface, -1 = bottom]\n",
      "ilayer = 0\n",
      "u = nc['u'][itime, ilayer, :]\n",
      "v = nc['v'][itime, ilayer, :]\n",
      "t = nc['temp'][itime,ilayer,:]\n",
      "t = 32. + t*9./5.    #convert from C to F\n",
      "u = u*1.94  # convert m/s to knots\n",
      "v = v*1.94  # convert m/s to knots\n",
      "\n",
      "#boston light swim\n",
      "levels=np.arange(52.,61.,1.)   # temperature contours to plot [48 to 65 in intervals of 1]\n",
      "ax= [-71.10, -70.10, 41.00, 43.00] # region to plot\n",
      "maxvel = 1.0 # velocity arrow scale\n",
      "subsample = 9  # subsampling of velocity vectors\n",
      "\n",
      "# find velocity points in bounding box\n",
      "ind = np.argwhere((lonc >= ax[0]) & (lonc <= ax[1]) & (latc >= ax[2]) & (latc <= ax[3]))\n",
      "\n",
      "np.random.shuffle(ind)\n",
      "Nvec = int(len(ind) / subsample)\n",
      "idv = ind[:Nvec]\n",
      "\n",
      "# tricontourf plot of water depth with vectors on top\n",
      "plt.figure(figsize=(20,10))\n",
      "plt.subplot(111,aspect=(1.0/np.cos(lat[:].mean()*np.pi/180.0)))\n",
      "#tricontourf(tri, t,levels=levels,shading='faceted',cmap=plt.cm.gist_earth)\n",
      "plt.tricontourf(tri, t,levels=levels,shading='faceted')\n",
      "plt.axis(ax)\n",
      "plt.gca().patch.set_facecolor('0.5')\n",
      "cbar=plt.colorbar()\n",
      "cbar.set_label('Forecast Surface Temperature (F)', rotation=-90)\n",
      "Q = plt.quiver(lonc[idv],latc[idv],u[idv],v[idv],scale=40)\n",
      "maxstr='%3.1f knots' % maxvel\n",
      "qk = plt.quiverkey(Q,0.92,0.08,maxvel,maxstr,labelpos='W')\n",
      "plt.title('NECOFS Surface Velocity, Layer %d, %s UTC' % (ilayer, daystr))\n",
      "plt.plot(lon_track,lat_track,'m-o');\n",
      "plt.savefig('Fig1.png')"
     ],
     "language": "python",
     "metadata": {},
     "outputs": []
    },
    {
     "cell_type": "code",
     "collapsed": false,
     "input": [
      "print lonc.min()\n",
      "print lonc.max()\n",
      "print latc.min()\n",
      "print latc.max()"
     ],
     "language": "python",
     "metadata": {},
     "outputs": []
    },
    {
     "cell_type": "code",
     "collapsed": false,
     "input": [
      "st = dt.datetime(2014, 7, 13, 6, 0)\n",
      "en = dt.datetime(2014, 7, 14, 6, 0)\n",
      "df[['wtmp']][st:en].plot(figsize=(10,10))\n",
      "plt.savefig('Watertemp2.png')"
     ],
     "language": "python",
     "metadata": {},
     "outputs": []
    },
    {
     "cell_type": "code",
     "collapsed": false,
     "input": [
      "st = dt.datetime(2014, 7, 11, 6, 0)     #48 hours before temperature drop\n",
      "en = dt.datetime(2014, 7, 13, 6, 0)\n",
      "avg_wspu = df['wspu'][st:en].mean(axis=1)\n",
      "avg_wspv = df['wspv'][st:en].mean(axis=1)"
     ],
     "language": "python",
     "metadata": {},
     "outputs": []
    },
    {
     "cell_type": "code",
     "collapsed": false,
     "input": [
      "plt.figure(figsize=(10,10))\n",
      "ax = plt.gca()\n",
      "lim=5\n",
      "ax.quiver(0,0,avg_wspu,avg_wspv,angles='xy',scale_units='xy',scale=1)\n",
      "ax.set_xlim([-lim,lim])\n",
      "ax.set_ylim([-lim,lim])\n",
      "ax.grid()\n",
      "plt.savefig('Wind2.png')"
     ],
     "language": "python",
     "metadata": {},
     "outputs": []
    },
    {
     "cell_type": "code",
     "collapsed": false,
     "input": [
      "#Written by Dr. Signell\n",
      "\n",
      "import netCDF4\n",
      "import matplotlib.tri as Tri\n",
      "\n",
      "# swim route\n",
      "lon_track=[-70.890150,  -70.927933,  -70.951417,  -70.976217,  -70.999150,  -71.034850]\n",
      "lat_track=[ 42.327400,   42.316150,   42.314800,   42.309300,   42.322633,   42.328700]\n",
      "\n",
      "# DAP Data URL\n",
      "# MassBay GRID\n",
      "url = 'http://www.smast.umassd.edu:8080/thredds/dodsC/FVCOM/NECOFS/Forecasts/NECOFS_FVCOM_OCEAN_MASSBAY_FORECAST.nc'\n",
      "# GOM3 GRID\n",
      "#url='http://www.smast.umassd.edu:8080/thredds/dodsC/FVCOM/NECOFS/Forecasts/NECOFS_GOM3_FORECAST.nc'\n",
      "# Open DAP\n",
      "url= 'http://www.smast.umassd.edu:8080/thredds/dodsC/fvcom/archives/necofs_mb'\n",
      "nc = netCDF4.Dataset(url).variables\n",
      "nc.keys()\n",
      "\n",
      "# Desired time for snapshot in UTC \n",
      "# ....right now (or some number of hours from now) ...\n",
      "#start = dt.datetime.utcnow() + dt.timedelta(hours=48)\n",
      "# ... or specific time (UTC)    \n",
      "start = dt.datetime(2014, 7, 11, 1, 0)  #Note: EDT = UTC - 4 hours , EST = UTC -5 hours\n",
      "\n",
      "# Get desired time step  \n",
      "time_var = nc['time']\n",
      "itime = netCDF4.date2index(start,time_var,select='nearest')\n",
      "\n",
      "# Get lon,lat coordinates for nodes (depth)\n",
      "lat = nc['lat'][:]\n",
      "lon = nc['lon'][:]\n",
      "# Get lon,lat coordinates for cell centers (depth)\n",
      "latc = nc['latc'][:]\n",
      "lonc = nc['lonc'][:]\n",
      "# Get Connectivity array\n",
      "nv = nc['nv'][:].T - 1 \n",
      "# Get depth\n",
      "h = nc['h'][:]  # depth \n",
      "\n",
      "dtime = netCDF4.num2date(time_var[itime],time_var.units)\n",
      "daystr = dtime.strftime('%Y-%b-%d %H:%M')\n",
      "\n",
      "tri = Tri.Triangulation(lon,lat, triangles=nv)\n",
      "\n",
      "# get current at layer [0 = surface, -1 = bottom]\n",
      "ilayer = 0\n",
      "u = nc['u'][itime, ilayer, :]\n",
      "v = nc['v'][itime, ilayer, :]\n",
      "t = nc['temp'][itime,ilayer,:]\n",
      "t = 32. + t*9./5.    #convert from C to F\n",
      "u = u*1.94  # convert m/s to knots\n",
      "v = v*1.94  # convert m/s to knots\n",
      "\n",
      "#boston light swim\n",
      "levels=np.arange(52.,61.,1.)   # temperature contours to plot [48 to 65 in intervals of 1]\n",
      "ax= [-71.05, -70.82, 42.28, 42.38] # region to plot\n",
      "maxvel = 1.0 # velocity arrow scale\n",
      "subsample = 9  # subsampling of velocity vectors\n",
      "\n",
      "# find velocity points in bounding box\n",
      "ind = np.argwhere((lonc >= ax[0]) & (lonc <= ax[1]) & (latc >= ax[2]) & (latc <= ax[3]))\n",
      "\n",
      "np.random.shuffle(ind)\n",
      "Nvec = int(len(ind) / subsample)\n",
      "idv = ind[:Nvec]\n",
      "\n",
      "# tricontourf plot of water depth with vectors on top\n",
      "plt.figure(figsize=(20,10))\n",
      "plt.subplot(111,aspect=(1.0/np.cos(lat[:].mean()*np.pi/180.0)))\n",
      "#tricontourf(tri, t,levels=levels,shading='faceted',cmap=plt.cm.gist_earth)\n",
      "plt.tricontourf(tri, t,levels=levels,shading='faceted')\n",
      "plt.axis(ax)\n",
      "plt.gca().patch.set_facecolor('0.5')\n",
      "cbar=plt.colorbar()\n",
      "cbar.set_label('Forecast Surface Temperature (F)', rotation=-90)\n",
      "Q = plt.quiver(lonc[idv],latc[idv],u[idv],v[idv],scale=40)\n",
      "maxstr='%3.1f knots' % maxvel\n",
      "qk = plt.quiverkey(Q,0.92,0.08,maxvel,maxstr,labelpos='W')\n",
      "plt.title('NECOFS Surface Velocity, Layer %d, %s UTC' % (ilayer, daystr))\n",
      "plt.plot(lon_track,lat_track,'m-o');\n",
      "plt.savefig('Fig2.png')"
     ],
     "language": "python",
     "metadata": {},
     "outputs": []
    },
    {
     "cell_type": "code",
     "collapsed": false,
     "input": [
      "st = dt.datetime(2014, 8, 13, 6, 0)\n",
      "en = dt.datetime(2014, 8, 14, 6, 0)\n",
      "df[['wtmp']][st:en].plot(figsize=(10,10))\n",
      "plt.savefig('Watertemp3.png')"
     ],
     "language": "python",
     "metadata": {},
     "outputs": []
    },
    {
     "cell_type": "code",
     "collapsed": false,
     "input": [
      "st = dt.datetime(2014, 8, 11, 6, 0)     #48 hours before temperature drop\n",
      "en = dt.datetime(2014, 8, 13, 6, 0)\n",
      "avg_wspu = df['wspu'][st:en].mean(axis=1)\n",
      "avg_wspv = df['wspv'][st:en].mean(axis=1)"
     ],
     "language": "python",
     "metadata": {},
     "outputs": []
    },
    {
     "cell_type": "code",
     "collapsed": false,
     "input": [
      "plt.figure(figsize=(10,10))\n",
      "ax = plt.gca()\n",
      "lim=5\n",
      "ax.quiver(0,0,avg_wspu,avg_wspv,angles='xy',scale_units='xy',scale=1)\n",
      "ax.set_xlim([-lim,lim])\n",
      "ax.set_ylim([-lim,lim])\n",
      "ax.grid()\n",
      "plt.savefig('Wind3.png')"
     ],
     "language": "python",
     "metadata": {},
     "outputs": []
    },
    {
     "cell_type": "code",
     "collapsed": false,
     "input": [
      "#Written by Dr. Signell\n",
      "\n",
      "import netCDF4\n",
      "import matplotlib.tri as Tri\n",
      "\n",
      "# swim route\n",
      "lon_track=[-70.890150,  -70.927933,  -70.951417,  -70.976217,  -70.999150,  -71.034850]\n",
      "lat_track=[ 42.327400,   42.316150,   42.314800,   42.309300,   42.322633,   42.328700]\n",
      "\n",
      "# DAP Data URL\n",
      "# MassBay GRID\n",
      "url = 'http://www.smast.umassd.edu:8080/thredds/dodsC/FVCOM/NECOFS/Forecasts/NECOFS_FVCOM_OCEAN_MASSBAY_FORECAST.nc'\n",
      "# GOM3 GRID\n",
      "#url='http://www.smast.umassd.edu:8080/thredds/dodsC/FVCOM/NECOFS/Forecasts/NECOFS_GOM3_FORECAST.nc'\n",
      "# Open DAP\n",
      "url= 'http://www.smast.umassd.edu:8080/thredds/dodsC/fvcom/archives/necofs_mb'\n",
      "nc = netCDF4.Dataset(url).variables\n",
      "nc.keys()\n",
      "\n",
      "# Desired time for snapshot in UTC \n",
      "# ....right now (or some number of hours from now) ...\n",
      "#start = dt.datetime.utcnow() + dt.timedelta(hours=48)\n",
      "# ... or specific time (UTC)    \n",
      "start = dt.datetime(2014, 8, 11, 1, 0)  #Note: EDT = UTC - 4 hours , EST = UTC -5 hours\n",
      "\n",
      "# Get desired time step  \n",
      "time_var = nc['time']\n",
      "itime = netCDF4.date2index(start,time_var,select='nearest')\n",
      "\n",
      "# Get lon,lat coordinates for nodes (depth)\n",
      "lat = nc['lat'][:]\n",
      "lon = nc['lon'][:]\n",
      "# Get lon,lat coordinates for cell centers (depth)\n",
      "latc = nc['latc'][:]\n",
      "lonc = nc['lonc'][:]\n",
      "# Get Connectivity array\n",
      "nv = nc['nv'][:].T - 1 \n",
      "# Get depth\n",
      "h = nc['h'][:]  # depth \n",
      "\n",
      "dtime = netCDF4.num2date(time_var[itime],time_var.units)\n",
      "daystr = dtime.strftime('%Y-%b-%d %H:%M')\n",
      "\n",
      "tri = Tri.Triangulation(lon,lat, triangles=nv)\n",
      "\n",
      "# get current at layer [0 = surface, -1 = bottom]\n",
      "ilayer = 0\n",
      "u = nc['u'][itime, ilayer, :]\n",
      "v = nc['v'][itime, ilayer, :]\n",
      "t = nc['temp'][itime,ilayer,:]\n",
      "t = 32. + t*9./5.    #convert from C to F\n",
      "u = u*1.94  # convert m/s to knots\n",
      "v = v*1.94  # convert m/s to knots\n",
      "\n",
      "#boston light swim\n",
      "levels=np.arange(52.,61.,1.)   # temperature contours to plot [48 to 65 in intervals of 1]\n",
      "ax= [-71.05, -70.82, 42.28, 42.38] # region to plot\n",
      "maxvel = 1.0 # velocity arrow scale\n",
      "subsample = 9  # subsampling of velocity vectors\n",
      "\n",
      "# find velocity points in bounding box\n",
      "ind = np.argwhere((lonc >= ax[0]) & (lonc <= ax[1]) & (latc >= ax[2]) & (latc <= ax[3]))\n",
      "\n",
      "np.random.shuffle(ind)\n",
      "Nvec = int(len(ind) / subsample)\n",
      "idv = ind[:Nvec]\n",
      "\n",
      "# tricontourf plot of water depth with vectors on top\n",
      "plt.figure(figsize=(20,10))\n",
      "plt.subplot(111,aspect=(1.0/np.cos(lat[:].mean()*np.pi/180.0)))\n",
      "#tricontourf(tri, t,levels=levels,shading='faceted',cmap=plt.cm.gist_earth)\n",
      "plt.tricontourf(tri, t,levels=levels,shading='faceted')\n",
      "plt.axis(ax)\n",
      "plt.gca().patch.set_facecolor('0.5')\n",
      "cbar=plt.colorbar()\n",
      "cbar.set_label('Forecast Surface Temperature (F)', rotation=-90)\n",
      "Q = plt.quiver(lonc[idv],latc[idv],u[idv],v[idv],scale=40)\n",
      "maxstr='%3.1f knots' % maxvel\n",
      "qk = plt.quiverkey(Q,0.92,0.08,maxvel,maxstr,labelpos='W')\n",
      "plt.title('NECOFS Surface Velocity, Layer %d, %s UTC' % (ilayer, daystr))\n",
      "plt.plot(lon_track,lat_track,'m-o');\n",
      "plt.savefig('Fig3.png')"
     ],
     "language": "python",
     "metadata": {},
     "outputs": []
    }
   ],
   "metadata": {}
  }
 ]
}