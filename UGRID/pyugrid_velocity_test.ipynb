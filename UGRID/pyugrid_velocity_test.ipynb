{
 "metadata": {
  "gist_id": "3a639c25f29ebdcae92a",
  "name": "",
  "signature": "sha256:6f29d6f5fe50ad8c503e4ce7c89acb9488b1f74d76bc1ead1ebbeb632b2c51e4"
 },
 "nbformat": 3,
 "nbformat_minor": 0,
 "worksheets": [
  {
   "cells": [
    {
     "cell_type": "markdown",
     "metadata": {},
     "source": [
      "##Test out UGRID-0.9 compliant unstructured grid model datasets with PYUGRID"
     ]
    },
    {
     "cell_type": "code",
     "collapsed": false,
     "input": [
      "import matplotlib.tri as tri\n",
      "import datetime as dt\n",
      "import matplotlib.pyplot as plt\n",
      "import numpy as np\n",
      "%matplotlib inline"
     ],
     "language": "python",
     "metadata": {},
     "outputs": [],
     "prompt_number": 1
    },
    {
     "cell_type": "code",
     "collapsed": false,
     "input": [
      "import iris\n",
      "iris.FUTURE.netcdf_promote = True\n",
      "from iris.fileformats.cf import reference_terms\n"
     ],
     "language": "python",
     "metadata": {},
     "outputs": [],
     "prompt_number": 2
    },
    {
     "cell_type": "code",
     "collapsed": false,
     "input": [
      "import cartopy.crs as ccrs\n",
      "import pyugrid\n",
      "%matplotlib inline"
     ],
     "language": "python",
     "metadata": {},
     "outputs": [],
     "prompt_number": 3
    },
    {
     "cell_type": "code",
     "collapsed": false,
     "input": [
      "#ADCIRC\n",
      "#url =  'http://comt.sura.org/thredds/dodsC/data/comt_1_archive/inundation_tropical/UND_ADCIRC/Hurricane_Ike_3D_final_run_with_waves'\n",
      "\n",
      "#FVCOM\n",
      "#url = 'http://www.smast.umassd.edu:8080/thredds/dodsC/FVCOM/NECOFS/Forecasts/NECOFS_GOM3_FORECAST.nc'\n",
      "\n",
      "#SELFE\n",
      "url = 'http://comt.sura.org/thredds/dodsC/data/comt_1_archive/inundation_tropical/VIMS_SELFE/Hurricane_Ike_3D_final_run_with_waves'\n"
     ],
     "language": "python",
     "metadata": {},
     "outputs": [],
     "prompt_number": 4
    },
    {
     "cell_type": "code",
     "collapsed": false,
     "input": [
      "ucube = iris.load_cube(url,'eastward_sea_water_velocity')\n",
      "vcube = iris.load_cube(url,'northward_sea_water_velocity')"
     ],
     "language": "python",
     "metadata": {},
     "outputs": [
      {
       "output_type": "stream",
       "stream": "stderr",
       "text": [
        "/home/usgs/miniconda/envs/ioos/lib/python2.7/site-packages/iris/fileformats/cf.py:1040: UserWarning: Ignoring formula terms variable u'elev' referenced by data variable u'v' via variable u'sigma': Dimensions (u'time', u'node') do not span (u'time2', u'sigma', u'node')\n",
        "  warnings.warn(msg)\n",
        "/home/usgs/miniconda/envs/ioos/lib/python2.7/site-packages/iris/fileformats/cf.py:1040: UserWarning: Ignoring formula terms variable u'elev' referenced by data variable u'u' via variable u'sigma': Dimensions (u'time', u'node') do not span (u'time2', u'sigma', u'node')\n",
        "  warnings.warn(msg)\n",
        "/home/usgs/miniconda/envs/ioos/lib/python2.7/site-packages/iris/fileformats/_pyke_rules/compiled_krb/fc_rules_cf_fc.py:1300: UserWarning: Ignoring netCDF variable u'ele' invalid units u'non-dimensional'\n",
        "  warnings.warn(msg.encode('ascii', errors='backslashreplace'))\n"
       ]
      },
      {
       "output_type": "stream",
       "stream": "stderr",
       "text": [
        "/home/usgs/miniconda/envs/ioos/lib/python2.7/site-packages/iris/fileformats/netcdf.py:441: UserWarning: Unable to find coordinate for variable u'elev'\n",
        "  '{!r}'.format(name))\n",
        "/home/usgs/miniconda/envs/ioos/lib/python2.7/site-packages/iris/fileformats/netcdf.py:558: UserWarning: Unable to construct Ocean s-coordinate, generic form 1 factory due to insufficient source coordinates.\n",
        "  warnings.warn('{}'.format(e))\n"
       ]
      }
     ],
     "prompt_number": 5
    },
    {
     "cell_type": "code",
     "collapsed": false,
     "input": [
      "reference_terms['ocean_s_coordinate_g1'] = ['s', 'c', 'eta', 'depth', 'depth_c']\n",
      "zcube = iris.load_cube(url,'depth_below_geoid')\n",
      "z = zcube.data"
     ],
     "language": "python",
     "metadata": {},
     "outputs": [
      {
       "output_type": "stream",
       "stream": "stderr",
       "text": [
        "/home/usgs/miniconda/envs/ioos/lib/python2.7/site-packages/iris/fileformats/cf.py:1040: UserWarning: Ignoring formula terms variable u'depth' referenced by data variable u'Cs' via variable u'sigma': Dimensions (u'node',) do not span (u'sigma',)\n",
        "  warnings.warn(msg)\n",
        "/home/usgs/miniconda/envs/ioos/lib/python2.7/site-packages/iris/fileformats/cf.py:1040: UserWarning: Ignoring formula terms variable u'elev' referenced by data variable u'Cs' via variable u'sigma': Dimensions (u'time', u'node') do not span (u'sigma',)\n",
        "  warnings.warn(msg)\n",
        "/home/usgs/miniconda/envs/ioos/lib/python2.7/site-packages/iris/fileformats/cf.py:1040: UserWarning: Ignoring formula terms variable u'depth' referenced by data variable u'sigma' via variable u'sigma': Dimensions (u'node',) do not span (u'sigma',)\n",
        "  warnings.warn(msg)\n",
        "/home/usgs/miniconda/envs/ioos/lib/python2.7/site-packages/iris/fileformats/cf.py:1040: UserWarning: Ignoring formula terms variable u'elev' referenced by data variable u'sigma' via variable u'sigma': Dimensions (u'time', u'node') do not span (u'sigma',)\n",
        "  warnings.warn(msg)\n",
        "/home/usgs/miniconda/envs/ioos/lib/python2.7/site-packages/iris/fileformats/netcdf.py:441: UserWarning: Unable to find coordinate for variable u'depth'\n",
        "  '{!r}'.format(name))\n"
       ]
      }
     ],
     "prompt_number": 6
    },
    {
     "cell_type": "code",
     "collapsed": false,
     "input": [
      "# Desired time for snapshot\n",
      "# ....right now (or some number of hours from now) ...\n",
      "start = dt.datetime.utcnow() + dt.timedelta(hours=6)\n",
      "# ... or specific time (UTC)\n",
      "#start = dt.datetime(2013,3,2,15,0,0)"
     ],
     "language": "python",
     "metadata": {},
     "outputs": [],
     "prompt_number": 7
    },
    {
     "cell_type": "code",
     "collapsed": false,
     "input": [
      "ug = pyugrid.UGrid.from_ncfile(url)\n",
      "\n",
      "# What's in there?\n",
      "print \"There are %i nodes\"%ug.nodes.shape[0]\n",
      "#print \"There are %i edges\"%ug.edges.shape[0]\n",
      "#print \"There are %i faces\"%ug.faces.shape[0]"
     ],
     "language": "python",
     "metadata": {},
     "outputs": [
      {
       "output_type": "stream",
       "stream": "stdout",
       "text": [
        "There are 592761 nodes\n"
       ]
      }
     ],
     "prompt_number": 13
    },
    {
     "cell_type": "code",
     "collapsed": false,
     "input": [
      "ug.data"
     ],
     "language": "python",
     "metadata": {},
     "outputs": [
      {
       "metadata": {},
       "output_type": "pyout",
       "prompt_number": 9,
       "text": [
        "{}"
       ]
      }
     ],
     "prompt_number": 9
    },
    {
     "cell_type": "code",
     "collapsed": false,
     "input": [
      "lon = ug.nodes[:,0]\n",
      "lat = ug.nodes[:,1]\n",
      "nv = ug.faces[:]"
     ],
     "language": "python",
     "metadata": {},
     "outputs": [],
     "prompt_number": 10
    },
    {
     "cell_type": "code",
     "collapsed": false,
     "input": [
      "triang = tri.Triangulation(lon,lat,triangles=nv)"
     ],
     "language": "python",
     "metadata": {},
     "outputs": [],
     "prompt_number": 11
    },
    {
     "cell_type": "code",
     "collapsed": false,
     "input": [],
     "language": "python",
     "metadata": {},
     "outputs": [],
     "prompt_number": 11
    },
    {
     "cell_type": "code",
     "collapsed": false,
     "input": [
      "# skip trying to find the closest time index to requested time, because it's messy\n",
      "ind = -1 # just take the last time index for now\n",
      "zcube = cube[ind]"
     ],
     "language": "python",
     "metadata": {},
     "outputs": [
      {
       "ename": "NameError",
       "evalue": "name 'cube' is not defined",
       "output_type": "pyerr",
       "traceback": [
        "\u001b[1;31m---------------------------------------------------------------------------\u001b[0m\n\u001b[1;31mNameError\u001b[0m                                 Traceback (most recent call last)",
        "\u001b[1;32m<ipython-input-12-11d87c8b382c>\u001b[0m in \u001b[0;36m<module>\u001b[1;34m()\u001b[0m\n\u001b[0;32m      1\u001b[0m \u001b[1;31m# skip trying to find the closest time index to requested time, because it's messy\u001b[0m\u001b[1;33m\u001b[0m\u001b[1;33m\u001b[0m\u001b[0m\n\u001b[0;32m      2\u001b[0m \u001b[0mind\u001b[0m \u001b[1;33m=\u001b[0m \u001b[1;33m-\u001b[0m\u001b[1;36m1\u001b[0m \u001b[1;31m# just take the last time index for now\u001b[0m\u001b[1;33m\u001b[0m\u001b[0m\n\u001b[1;32m----> 3\u001b[1;33m \u001b[0mzcube\u001b[0m \u001b[1;33m=\u001b[0m \u001b[0mcube\u001b[0m\u001b[1;33m[\u001b[0m\u001b[0mind\u001b[0m\u001b[1;33m]\u001b[0m\u001b[1;33m\u001b[0m\u001b[0m\n\u001b[0m",
        "\u001b[1;31mNameError\u001b[0m: name 'cube' is not defined"
       ]
      }
     ],
     "prompt_number": 12
    },
    {
     "cell_type": "code",
     "collapsed": false,
     "input": [
      "plt.figure(figsize=(12,12))\n",
      "ax = plt.axes(projection=ccrs.PlateCarree())\n",
      "ax.set_extent([-90, -60, 5, 50])\n",
      "ax.coastlines()\n",
      "levs = np.arange(0,5,.2)\n",
      "plt.tricontourf(triang, z, levels=[10, 20, 50, 100, 200, 500, 1000, 2000])\n",
      "plt.colorbar()\n",
      "plt.tricontour(triang, z, colors='k',levels=levs)\n",
      "tvar = ucube.coord('time')\n",
      "tstr = tvar.units.num2date(tvar.points[ind])\n",
      "gl = ax.gridlines(draw_labels=True)\n",
      "gl.xlabels_top = False\n",
      "gl.ylabels_right = False\n",
      "plt.title('%s: Depth (m): %s' % (ucube.attributes['title'],tstr));"
     ],
     "language": "python",
     "metadata": {},
     "outputs": []
    },
    {
     "cell_type": "code",
     "collapsed": false,
     "input": [],
     "language": "python",
     "metadata": {},
     "outputs": []
    }
   ],
   "metadata": {}
  }
 ]
}