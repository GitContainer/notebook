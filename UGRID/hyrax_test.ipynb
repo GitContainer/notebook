{
 "cells": [
  {
   "cell_type": "code",
   "execution_count": 1,
   "metadata": {
    "collapsed": true
   },
   "outputs": [],
   "source": [
    "import netCDF4"
   ]
  },
  {
   "cell_type": "code",
   "execution_count": 2,
   "metadata": {
    "collapsed": true
   },
   "outputs": [],
   "source": [
    "#url = 'http://52.70.199.67:8080/opendap/ugrids/RENCI/maxele.63.nc'\n",
    "url = 'http://ingria.coas.oregonstate.edu/opendap/ACTZ/ocean_his_3990_04-Dec-2015.nc'"
   ]
  },
  {
   "cell_type": "code",
   "execution_count": 3,
   "metadata": {
    "collapsed": true
   },
   "outputs": [],
   "source": [
    "nc = netCDF4.Dataset(url)"
   ]
  },
  {
   "cell_type": "code",
   "execution_count": 4,
   "metadata": {
    "collapsed": false
   },
   "outputs": [
    {
     "data": {
      "text/plain": [
       "[u'ntimes',\n",
       " u'ndtfast',\n",
       " u'dt',\n",
       " u'dtfast',\n",
       " u'dstart',\n",
       " u'nHIS',\n",
       " u'ndefHIS',\n",
       " u'nRST',\n",
       " u'Falpha',\n",
       " u'Fbeta',\n",
       " u'Fgamma',\n",
       " u'tnu2',\n",
       " u'visc2',\n",
       " u'Akt_bak',\n",
       " u'Akv_bak',\n",
       " u'Akk_bak',\n",
       " u'Akp_bak',\n",
       " u'rdrg',\n",
       " u'rdrg2',\n",
       " u'Zob',\n",
       " u'Zos',\n",
       " u'Znudg',\n",
       " u'M2nudg',\n",
       " u'M3nudg',\n",
       " u'Tnudg',\n",
       " u'FSobc_in',\n",
       " u'FSobc_out',\n",
       " u'M2obc_in',\n",
       " u'M2obc_out',\n",
       " u'Tobc_in',\n",
       " u'Tobc_out',\n",
       " u'M3obc_in',\n",
       " u'M3obc_out',\n",
       " u'rho0',\n",
       " u'gamma2',\n",
       " u'spherical',\n",
       " u'xl',\n",
       " u'el',\n",
       " u'Vtransform',\n",
       " u'Vstretching',\n",
       " u'theta_s',\n",
       " u'theta_b',\n",
       " u'Tcline',\n",
       " u'hc',\n",
       " u's_rho',\n",
       " u's_w',\n",
       " u'h',\n",
       " u'f',\n",
       " u'pm',\n",
       " u'pn',\n",
       " u'lon_rho',\n",
       " u'lat_rho',\n",
       " u'lon_u',\n",
       " u'lat_u',\n",
       " u'lon_v',\n",
       " u'lat_v',\n",
       " u'lon_psi',\n",
       " u'lat_psi',\n",
       " u'angle',\n",
       " u'mask_rho',\n",
       " u'mask_u',\n",
       " u'mask_v',\n",
       " u'mask_psi',\n",
       " u'ocean_time',\n",
       " u'zeta',\n",
       " u'ubar',\n",
       " u'vbar',\n",
       " u'u',\n",
       " u'v',\n",
       " u'omega',\n",
       " u'temp',\n",
       " u'salt',\n",
       " u'AKv',\n",
       " u'AKt',\n",
       " u'AKs',\n",
       " u'sustr',\n",
       " u'svstr',\n",
       " u'Cs_r',\n",
       " u'Cs_w']"
      ]
     },
     "execution_count": 4,
     "metadata": {},
     "output_type": "execute_result"
    }
   ],
   "source": [
    "nc.variables.keys()"
   ]
  },
  {
   "cell_type": "code",
   "execution_count": 5,
   "metadata": {
    "collapsed": false
   },
   "outputs": [
    {
     "data": {
      "text/plain": [
       "<type 'netCDF4._netCDF4.Variable'>\n",
       "float64 lat_rho(eta_rho, xi_rho)\n",
       "    long_name: latitude of RHO-points\n",
       "    units: degree_north\n",
       "    standard_name: latitude\n",
       "    field: lat_rho, scalar\n",
       "unlimited dimensions: \n",
       "current shape = (250, 136)\n",
       "filling off"
      ]
     },
     "execution_count": 5,
     "metadata": {},
     "output_type": "execute_result"
    }
   ],
   "source": [
    "nc.variables['lat_rho']"
   ]
  },
  {
   "cell_type": "code",
   "execution_count": 6,
   "metadata": {
    "collapsed": false
   },
   "outputs": [
    {
     "ename": "RuntimeError",
     "evalue": "NetCDF: file not found",
     "output_type": "error",
     "traceback": [
      "\u001b[1;31m---------------------------------------------------------------------------\u001b[0m",
      "\u001b[1;31mRuntimeError\u001b[0m                              Traceback (most recent call last)",
      "\u001b[1;32m<ipython-input-6-4748ee9fd3b2>\u001b[0m in \u001b[0;36m<module>\u001b[1;34m()\u001b[0m\n\u001b[1;32m----> 1\u001b[1;33m \u001b[0mnc\u001b[0m\u001b[1;33m.\u001b[0m\u001b[0mvariables\u001b[0m\u001b[1;33m[\u001b[0m\u001b[1;34m'lat_rho'\u001b[0m\u001b[1;33m]\u001b[0m\u001b[1;33m[\u001b[0m\u001b[1;33m:\u001b[0m\u001b[1;36m5\u001b[0m\u001b[1;33m,\u001b[0m\u001b[1;33m:\u001b[0m\u001b[1;36m5\u001b[0m\u001b[1;33m]\u001b[0m\u001b[1;33m\u001b[0m\u001b[0m\n\u001b[0m",
      "\u001b[1;32mnetCDF4/_netCDF4.pyx\u001b[0m in \u001b[0;36mnetCDF4._netCDF4.Variable.__getitem__ (netCDF4/_netCDF4.c:36349)\u001b[1;34m()\u001b[0m\n",
      "\u001b[1;32mnetCDF4/_netCDF4.pyx\u001b[0m in \u001b[0;36mnetCDF4._netCDF4.Variable._get (netCDF4/_netCDF4.c:46119)\u001b[1;34m()\u001b[0m\n",
      "\u001b[1;31mRuntimeError\u001b[0m: NetCDF: file not found"
     ]
    }
   ],
   "source": [
    "nc.variables['lat_rho'][:5,:5]"
   ]
  },
  {
   "cell_type": "code",
   "execution_count": null,
   "metadata": {
    "collapsed": true
   },
   "outputs": [],
   "source": []
  }
 ],
 "metadata": {
  "kernelspec": {
   "display_name": "Python 2",
   "language": "python",
   "name": "python2"
  },
  "language_info": {
   "codemirror_mode": {
    "name": "ipython",
    "version": 2
   },
   "file_extension": ".py",
   "mimetype": "text/x-python",
   "name": "python",
   "nbconvert_exporter": "python",
   "pygments_lexer": "ipython2",
   "version": "2.7.10"
  }
 },
 "nbformat": 4,
 "nbformat_minor": 0
}
