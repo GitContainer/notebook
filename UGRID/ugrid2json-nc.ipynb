{
 "metadata": {
  "gist_id": "6d853e0795b46a012a5b",
  "name": "",
  "signature": "sha256:3e36e54e1746c04cdc5d21482e1dcc6b20052a0a61b8e8680e31bbea0b1682d7"
 },
 "nbformat": 3,
 "nbformat_minor": 0,
 "worksheets": [
  {
   "cells": [
    {
     "cell_type": "markdown",
     "metadata": {},
     "source": [
      "# Try to write FVCOM mesh as geojson"
     ]
    },
    {
     "cell_type": "code",
     "collapsed": false,
     "input": [
      "from shapely.geometry import MultiPolygon, mapping, polygon\n",
      "import json"
     ],
     "language": "python",
     "metadata": {},
     "outputs": [],
     "prompt_number": 1
    },
    {
     "cell_type": "code",
     "collapsed": false,
     "input": [
      "#url = 'http://www.smast.umassd.edu:8080/thredds/dodsC/FVCOM/NECOFS/Forecasts/NECOFS_GOM3_FORECAST.nc'\n",
      "#url = 'http://www.smast.umassd.edu:8080/thredds/dodsC/FVCOM/NECOFS/Forecasts/NECOFS_FVCOM_OCEAN_MASSBAY_FORECAST.nc'\n",
      "url = 'http://www.smast.umassd.edu:8080/thredds/dodsC/FVCOM/NECOFS/Forecasts/NECOFS_WAVE_FORECAST.nc'"
     ],
     "language": "python",
     "metadata": {},
     "outputs": [],
     "prompt_number": 2
    },
    {
     "cell_type": "markdown",
     "metadata": {},
     "source": [
      "use netcdf4 because UGRID takes longer"
     ]
    },
    {
     "cell_type": "raw",
     "metadata": {},
     "source": [
      "import pyugrid\n",
      "ug = pyugrid.UGrid.from_ncfile(url)\n",
      "lon = ug.nodes[:,0]\n",
      "lat = ug.nodes[:,1]\n",
      "nv = ug.faces[:]"
     ]
    },
    {
     "cell_type": "code",
     "collapsed": false,
     "input": [
      "import netCDF4\n",
      "nc = netCDF4.Dataset(url)\n",
      "ncv = nc.variables\n",
      "lon = ncv['lon'][:]\n",
      "lat = ncv['lat'][:]\n",
      "nv = ncv['nv'][:,:].T - 1"
     ],
     "language": "python",
     "metadata": {},
     "outputs": [],
     "prompt_number": 3
    },
    {
     "cell_type": "code",
     "collapsed": false,
     "input": [
      "#mp = MultiPolygon([polygon.Polygon(zip(lon[element],lat[element])) for element in nv])\n",
      "mp = MultiPolygon([polygon.Polygon(zip(lon[element],lat[element])) for element in nv[0:5]])"
     ],
     "language": "python",
     "metadata": {},
     "outputs": [],
     "prompt_number": 4
    },
    {
     "cell_type": "code",
     "collapsed": false,
     "input": [
      "type(mp)"
     ],
     "language": "python",
     "metadata": {},
     "outputs": [
      {
       "metadata": {},
       "output_type": "pyout",
       "prompt_number": 5,
       "text": [
        "shapely.geometry.multipolygon.MultiPolygon"
       ]
      }
     ],
     "prompt_number": 5
    },
    {
     "cell_type": "code",
     "collapsed": false,
     "input": [
      "mp"
     ],
     "language": "python",
     "metadata": {},
     "outputs": [
      {
       "output_type": "stream",
       "stream": "stderr",
       "text": [
        "WARNING:shapely.geos:Self-intersection at or near point -59.825973510742188 46.058303833007812\n"
       ]
      },
      {
       "metadata": {},
       "output_type": "pyout",
       "prompt_number": 6,
       "svg": [
        "<svg xmlns=\"http://www.w3.org/2000/svg\" xmlns:xlink=\"http://www.w3.org/1999/xlink\" width=\"100.0\" height=\"100.0\" viewBox=\"-59.8984260559 45.9321136475 0.205326080322 0.222061157227\" preserveAspectRatio=\"xMinYMin meet\"><g transform=\"matrix(1,0,0,-1,0,92.0862884521)\"><g><path fill-rule=\"evenodd\" fill=\"#ff3333\" stroke=\"#555555\" stroke-width=\"0.00444122314453\" opacity=\"0.6\" d=\"M -59.8902015686,46.0944137573 L -59.8106880188,46.1459503174 L -59.8259735107,46.058303833 L -59.8902015686,46.0944137573 z\" /><path fill-rule=\"evenodd\" fill=\"#ff3333\" stroke=\"#555555\" stroke-width=\"0.00444122314453\" opacity=\"0.6\" d=\"M -59.8259735107,46.058303833 L -59.8106880188,46.1459503174 L -59.7526779175,46.0901107788 L -59.8259735107,46.058303833 z\" /><path fill-rule=\"evenodd\" fill=\"#ff3333\" stroke=\"#555555\" stroke-width=\"0.00444122314453\" opacity=\"0.6\" d=\"M -59.7013244629,46.0385513306 L -59.8259735107,46.058303833 L -59.7526779175,46.0901107788 L -59.7013244629,46.0385513306 z\" /><path fill-rule=\"evenodd\" fill=\"#ff3333\" stroke=\"#555555\" stroke-width=\"0.00444122314453\" opacity=\"0.6\" d=\"M -59.8259735107,46.058303833 L -59.7013244629,46.0385513306 L -59.7887878418,46.0040283203 L -59.8259735107,46.058303833 z\" /><path fill-rule=\"evenodd\" fill=\"#ff3333\" stroke=\"#555555\" stroke-width=\"0.00444122314453\" opacity=\"0.6\" d=\"M -59.7887878418,46.0040283203 L -59.7013244629,46.0385513306 L -59.7297058105,45.9403381348 L -59.7887878418,46.0040283203 z\" /></g></g></svg>"
       ],
       "text": [
        "<shapely.geometry.multipolygon.MultiPolygon at 0x7f4953b2a610>"
       ]
      }
     ],
     "prompt_number": 6
    },
    {
     "cell_type": "code",
     "collapsed": false,
     "input": [
      "json.dumps(mapping(mp))"
     ],
     "language": "python",
     "metadata": {},
     "outputs": [
      {
       "metadata": {},
       "output_type": "pyout",
       "prompt_number": 7,
       "text": [
        "'{\"type\": \"MultiPolygon\", \"coordinates\": [[[[-59.890201568603516, 46.09441375732422], [-59.81068801879883, 46.14595031738281], [-59.82597351074219, 46.05830383300781], [-59.890201568603516, 46.09441375732422]]], [[[-59.82597351074219, 46.05830383300781], [-59.81068801879883, 46.14595031738281], [-59.75267791748047, 46.090110778808594], [-59.82597351074219, 46.05830383300781]]], [[[-59.701324462890625, 46.038551330566406], [-59.82597351074219, 46.05830383300781], [-59.75267791748047, 46.090110778808594], [-59.701324462890625, 46.038551330566406]]], [[[-59.82597351074219, 46.05830383300781], [-59.701324462890625, 46.038551330566406], [-59.788787841796875, 46.0040283203125], [-59.82597351074219, 46.05830383300781]]], [[[-59.788787841796875, 46.0040283203125], [-59.701324462890625, 46.038551330566406], [-59.729705810546875, 45.940338134765625], [-59.788787841796875, 46.0040283203125]]]]}'"
       ]
      }
     ],
     "prompt_number": 7
    },
    {
     "cell_type": "code",
     "collapsed": false,
     "input": [
      "with open('ugrid.json','w') as f:\n",
      "    json.dump(mapping(mp), f)"
     ],
     "language": "python",
     "metadata": {},
     "outputs": [],
     "prompt_number": 8
    },
    {
     "cell_type": "code",
     "collapsed": false,
     "input": [],
     "language": "python",
     "metadata": {},
     "outputs": [],
     "prompt_number": 8
    },
    {
     "cell_type": "code",
     "collapsed": false,
     "input": [],
     "language": "python",
     "metadata": {},
     "outputs": [],
     "prompt_number": 8
    }
   ],
   "metadata": {}
  }
 ]
}