{
 "metadata": {
  "name": "",
  "signature": "sha256:10bc93bb2ef0376968d7ce054664ba69296b52f671e4e5b21c0e82020ed1cdef"
 },
 "nbformat": 3,
 "nbformat_minor": 0,
 "worksheets": [
  {
   "cells": [
    {
     "cell_type": "code",
     "collapsed": false,
     "input": [
      "#\n",
      "# test_FVCOM.py\n",
      "#\n",
      "# purpose:  Test FVCOM with iris\n",
      "# author:   Filipe P. A. Fernandes\n",
      "# e-mail:   ocefpaf@gmail\n",
      "# web:      http://ocefpaf.github.io/\n",
      "# created:  14-Jan-2015\n",
      "# modified: Wed 14 Jan 2015 08:41:07 PM BRT\n",
      "#\n",
      "# obs:\n",
      "#\n",
      "\n",
      "import pytz\n",
      "from datetime import datetime, timedelta\n",
      "\n",
      "import iris\n",
      "from iris.cube import CubeList"
     ],
     "language": "python",
     "metadata": {},
     "outputs": []
    },
    {
     "cell_type": "code",
     "collapsed": false,
     "input": [
      "def time_coord(cube):\n",
      "    \"\"\"Return the variable attached to time axis and rename it to time.\"\"\"\n",
      "    try:\n",
      "        cube.coord(axis='T').rename('time')\n",
      "    except CoordinateNotFoundError:\n",
      "        pass\n",
      "    timevar = cube.coord('time')\n",
      "    return timevar"
     ],
     "language": "python",
     "metadata": {},
     "outputs": []
    },
    {
     "cell_type": "code",
     "collapsed": false,
     "input": [
      "def time_near(cube, datetime):\n",
      "    \"\"\"Return the nearest index to a `datetime`.\"\"\"\n",
      "    timevar = time_coord(cube)\n",
      "    try:\n",
      "        time = timevar.units.date2num(datetime)\n",
      "        idx = timevar.nearest_neighbour_index(time)\n",
      "    except IndexError:\n",
      "        idx = -1\n",
      "    return idx"
     ],
     "language": "python",
     "metadata": {},
     "outputs": []
    },
    {
     "cell_type": "code",
     "collapsed": false,
     "input": [
      "stop = datetime(2014, 7, 7, 12)\n",
      "stop = stop.replace(tzinfo=pytz.utc)\n",
      "start = stop - timedelta(days=7)\n",
      "\n",
      "bbox = [-87.40, 24.25, -74.70, 36.70]\n",
      "\n",
      "units = iris.unit.Unit('celsius')\n",
      "\n",
      "name_list = ['sea_water_temperature',\n",
      "             'sea_surface_temperature',\n",
      "             'sea_water_potential_temperature',\n",
      "             'equivalent_potential_temperature',\n",
      "             'sea_water_conservative_temperature',\n",
      "             'pseudo_equivalent_potential_temperature']\n",
      "\n",
      "url = \"http://crow.marine.usf.edu:8080/thredds/dodsC/FVCOM-Nowcast-Agg.nc\"\n",
      "cubes = iris.load_raw(url)\n",
      "\n",
      "in_list = lambda cube: cube.standard_name in name_list\n",
      "cubes = CubeList([cube for cube in cubes if in_list(cube)])\n",
      "cube = cubes.merge_cube()\n",
      "\n",
      "lat = iris.Constraint(latitude=lambda cell: bbox[1] <= cell < bbox[3])\n",
      "lon = iris.Constraint(longitude=lambda cell: bbox[0] <= cell <= bbox[2])\n",
      "cube = cube.extract(lon & lat)\n",
      "\n",
      "istart = time_near(cube, start)\n",
      "istop = time_near(cube, stop)\n",
      "cube = cube[istart:istop, ...]"
     ],
     "language": "python",
     "metadata": {},
     "outputs": [
      {
       "output_type": "stream",
       "stream": "stderr",
       "text": [
        "/home/usgs/anaconda/lib/python2.7/site-packages/iris/fileformats/cf.py:1004: UserWarning: Ignoring variable u'lat' referenced by variable u'hc': Dimensions (u'node',) do not span (u'nele',)\n",
        "  warnings.warn(msg)\n",
        "/home/usgs/anaconda/lib/python2.7/site-packages/iris/fileformats/cf.py:1004: UserWarning: Ignoring variable u'lon' referenced by variable u'hc': Dimensions (u'node',) do not span (u'nele',)\n",
        "  warnings.warn(msg)\n",
        "/home/usgs/anaconda/lib/python2.7/site-packages/iris/fileformats/cf.py:1004: UserWarning: Ignoring variable u'siglay' referenced by variable u'u': Dimensions (u'siglay', u'node') do not span (u'time', u'siglay', u'nele')\n",
        "  warnings.warn(msg)\n",
        "/home/usgs/anaconda/lib/python2.7/site-packages/iris/fileformats/cf.py:1004: UserWarning: Ignoring variable u'siglay' referenced by variable u'v': Dimensions (u'siglay', u'node') do not span (u'time', u'siglay', u'nele')\n",
        "  warnings.warn(msg)\n",
        "/home/usgs/anaconda/lib/python2.7/site-packages/iris/fileformats/_pyke_rules/compiled_krb/fc_rules_cf_fc.py:1359: UserWarning: Failed to create 'time' dimension coordinate: The points array must be strictly monotonic.\n",
        "Gracefully creating 'time' auxiliary coordinate instead.\n",
        "  error=e_msg))\n"
       ]
      },
      {
       "output_type": "stream",
       "stream": "stderr",
       "text": [
        "/home/usgs/anaconda/lib/python2.7/site-packages/iris/fileformats/_pyke_rules/compiled_krb/fc_rules_cf_fc.py:1196: UserWarning: Ignoring netCDF variable 'Itime2' invalid units 'msecs since 00:00:00'\n",
        "  warnings.warn(msg.format(msg_name, msg_units))\n"
       ]
      }
     ],
     "prompt_number": 1
    }
   ],
   "metadata": {}
  }
 ]
}