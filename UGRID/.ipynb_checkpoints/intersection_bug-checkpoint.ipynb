{
 "metadata": {
  "kernelspec": {
   "codemirror_mode": {
    "name": "ipython",
    "version": 3
   },
   "display_name": "IOOS (Python 2)",
   "language": "python",
   "name": "ioos_python2"
  },
  "name": "",
  "signature": "sha256:b691a7b9c52a17b8c291ee45e0cd52064b48b65638bcc6c64a10d71cec64569f"
 },
 "nbformat": 3,
 "nbformat_minor": 0,
 "worksheets": [
  {
   "cells": [
    {
     "cell_type": "code",
     "collapsed": false,
     "input": [
      "import pytz\n",
      "from datetime import datetime, timedelta\n",
      "\n",
      "import iris\n",
      "iris.FUTURE.netcdf_promote = True\n",
      "\n",
      "from iris.cube import CubeList\n",
      "\n",
      "import time"
     ],
     "language": "python",
     "metadata": {},
     "outputs": [],
     "prompt_number": 6
    },
    {
     "cell_type": "code",
     "collapsed": false,
     "input": [
      "# SECOORA region (NC, SC GA, FL).\n",
      "bbox = [-87.40, 24.25, -74.70, 36.70]\n",
      "\n",
      "url = \"http://geoport-dev.whoi.edu/thredds/dodsC/estofs/atlantic\""
     ],
     "language": "python",
     "metadata": {},
     "outputs": [],
     "prompt_number": 1
    },
    {
     "cell_type": "markdown",
     "metadata": {},
     "source": [
      "# Works fine"
     ]
    },
    {
     "cell_type": "code",
     "collapsed": false,
     "input": [
      "t0 = time.time()\n",
      "cube = iris.load_cube(url, 'sea_surface_height_above_geoid')\n",
      "\n",
      "lon = iris.Constraint(longitude=lambda l: bbox[0] <= l <= bbox[2])\n",
      "lat = iris.Constraint(latitude=lambda l: bbox[1] <= l < bbox[3])\n",
      "\n",
      "cube = cube.extract(lon & lat)\n",
      "print time.time()-t0\n",
      "print(cube)"
     ],
     "language": "python",
     "metadata": {},
     "outputs": [
      {
       "output_type": "stream",
       "stream": "stdout",
       "text": [
        "24.7964229584\n",
        "sea_surface_height_above_geoid / (m) (time: 7230; -- : 54731)\n",
        "     Dimension coordinates:\n",
        "          time                            x          -\n",
        "     Auxiliary coordinates:\n",
        "          latitude                        -          x\n",
        "          longitude                       -          x\n",
        "     Attributes:\n",
        "          Conventions: UGRID-0.9\n",
        "          NCO: 20150121\n",
        "          a00: 0.35\n",
        "          b00: 0.3\n",
        "          c00: 0.35\n",
        "          cdm_data_type: ugrid\n",
        "          cf: 0.0025\n",
        "          comments: ESTOFS ATLANTIC V1.0.0\n",
        "          contact: yuji.funakoshi@noaa.gov\n",
        "          cori: 0.0\n",
        "          coverage_content_type: modelResult\n",
        "          creation_date: 2015-01-21  4:26:49  00:00\n",
        "          description: 2015012100\n",
        "          dramp: 0.0\n",
        "          dt: 5.0\n",
        "          eslm: 5.0\n",
        "          fort.15: ==== Input File Parameters (below) ====\n",
        "          grid: ec2001_v2e.grd\n",
        "          grid_type: Triangular\n",
        "          h0: 0.25\n",
        "          history: Wed Jan 21 01:21:01 2015: ncks -O -F -d time,1,6 estofs.atl.t00z.fields.cwl.nc...\n",
        "          host: CSDL/MMAP - NCEP/EMC\n",
        "          ics: 2\n",
        "          id: estofs/atlantic/1.1.0\n",
        "          ihot: 368\n",
        "          institution: CSDL/MMAP - NCEP/EMC\n",
        "          location: node\n",
        "          mesh: adcirc_mesh\n",
        "          model: ADCIRC\n",
        "          modification_date: 2015-01-21  4:39:44  00:00\n",
        "          nbfr: 10\n",
        "          ncor: 1\n",
        "          nolibf: 2\n",
        "          nolica: 0\n",
        "          nolicat: 0\n",
        "          nolifa: 2\n",
        "          nramp: 1\n",
        "          ntif: 8\n",
        "          ntip: 1\n",
        "          nwp: 0\n",
        "          nws: -5\n",
        "          references: http://www.adcirc.org\n",
        "          reftim: 0.0\n",
        "          rnday: 770.5\n",
        "          sfea0: 35.0\n",
        "          slam0: -79.0\n",
        "          source: IBM POWER 6 CIRRUS/STRATUS\n",
        "          statim: 0.0\n",
        "          summary: NOAA Extratropical Surge and Tide Operational Forecast System (ESTOFS),...\n",
        "          tau0: -5.0\n",
        "          title: ESTOFS Storm Surge Model - Atlantic - v1.0.0 - NOAA - NCEP - ADCIRC\n",
        "          version: 49.82.10\n"
       ]
      }
     ],
     "prompt_number": 9
    },
    {
     "cell_type": "markdown",
     "metadata": {},
     "source": [
      "# Hangs and I have to hit the kernel interrupt key"
     ]
    },
    {
     "cell_type": "code",
     "collapsed": false,
     "input": [
      "t0 = time.time()\n",
      "cube = iris.load_cube(url, 'sea_surface_height_above_geoid')\n",
      "\n",
      "cube = cube.intersection(longitude=(bbox[0], bbox[2]),\n",
      "                         latitude=(bbox[1], bbox[3]))\n",
      "print time.time()-t0\n",
      "print cube"
     ],
     "language": "python",
     "metadata": {},
     "outputs": [
      {
       "output_type": "stream",
       "stream": "stdout",
       "text": [
        "173.827374935\n",
        "sea_surface_height_above_geoid / (m) (time: 7230; -- : 54731)\n",
        "     Dimension coordinates:\n",
        "          time                            x          -\n",
        "     Auxiliary coordinates:\n",
        "          latitude                        -          x\n",
        "          longitude                       -          x\n",
        "     Attributes:\n",
        "          Conventions: UGRID-0.9\n",
        "          NCO: 20150121\n",
        "          a00: 0.35\n",
        "          b00: 0.3\n",
        "          c00: 0.35\n",
        "          cdm_data_type: ugrid\n",
        "          cf: 0.0025\n",
        "          comments: ESTOFS ATLANTIC V1.0.0\n",
        "          contact: yuji.funakoshi@noaa.gov\n",
        "          cori: 0.0\n",
        "          coverage_content_type: modelResult\n",
        "          creation_date: 2015-01-21  4:26:49  00:00\n",
        "          description: 2015012100\n",
        "          dramp: 0.0\n",
        "          dt: 5.0\n",
        "          eslm: 5.0\n",
        "          fort.15: ==== Input File Parameters (below) ====\n",
        "          grid: ec2001_v2e.grd\n",
        "          grid_type: Triangular\n",
        "          h0: 0.25\n",
        "          history: Wed Jan 21 01:21:01 2015: ncks -O -F -d time,1,6 estofs.atl.t00z.fields.cwl.nc...\n",
        "          host: CSDL/MMAP - NCEP/EMC\n",
        "          ics: 2\n",
        "          id: estofs/atlantic/1.1.0\n",
        "          ihot: 368\n",
        "          institution: CSDL/MMAP - NCEP/EMC\n",
        "          location: node\n",
        "          mesh: adcirc_mesh\n",
        "          model: ADCIRC\n",
        "          modification_date: 2015-01-21  4:39:44  00:00\n",
        "          nbfr: 10\n",
        "          ncor: 1\n",
        "          nolibf: 2\n",
        "          nolica: 0\n",
        "          nolicat: 0\n",
        "          nolifa: 2\n",
        "          nramp: 1\n",
        "          ntif: 8\n",
        "          ntip: 1\n",
        "          nwp: 0\n",
        "          nws: -5\n",
        "          references: http://www.adcirc.org\n",
        "          reftim: 0.0\n",
        "          rnday: 770.5\n",
        "          sfea0: 35.0\n",
        "          slam0: -79.0\n",
        "          source: IBM POWER 6 CIRRUS/STRATUS\n",
        "          statim: 0.0\n",
        "          summary: NOAA Extratropical Surge and Tide Operational Forecast System (ESTOFS),...\n",
        "          tau0: -5.0\n",
        "          title: ESTOFS Storm Surge Model - Atlantic - v1.0.0 - NOAA - NCEP - ADCIRC\n",
        "          version: 49.82.10\n"
       ]
      }
     ],
     "prompt_number": 8
    },
    {
     "cell_type": "code",
     "collapsed": false,
     "input": [],
     "language": "python",
     "metadata": {},
     "outputs": []
    }
   ],
   "metadata": {}
  }
 ]
}