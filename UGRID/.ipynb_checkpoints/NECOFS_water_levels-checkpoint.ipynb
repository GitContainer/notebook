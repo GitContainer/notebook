{
 "cells": [
  {
   "cell_type": "markdown",
   "metadata": {},
   "source": [
    "# Extract NECOFS water levels using NetCDF4-Python and analyze/visualize with Pandas"
   ]
  },
  {
   "cell_type": "code",
   "execution_count": 14,
   "metadata": {
    "collapsed": false
   },
   "outputs": [],
   "source": [
    "# Plot forecast water levels from NECOFS model from list of lon,lat locations\n",
    "# (uses the nearest point, no interpolation)\n",
    "import netCDF4\n",
    "import datetime as dt\n",
    "import pandas as pd\n",
    "import numpy as np\n",
    "import matplotlib.pyplot as plt\n",
    "from StringIO import StringIO\n",
    "%matplotlib inline"
   ]
  },
  {
   "cell_type": "code",
   "execution_count": 15,
   "metadata": {
    "collapsed": false
   },
   "outputs": [],
   "source": [
    "#NECOFS MassBay grid\n",
    "model='Massbay'\n",
    "#url='http://www.smast.umassd.edu:8080/thredds/dodsC/FVCOM/NECOFS/Forecasts/NECOFS_FVCOM_OCEAN_MASSBAY_FORECAST.nc'\n",
    "# GOM3 Grid\n",
    "#model='GOM3'\n",
    "url='http://www.smast.umassd.edu:8080/thredds/dodsC/FVCOM/NECOFS/Forecasts/NECOFS_GOM3_FORECAST.nc'"
   ]
  },
  {
   "cell_type": "code",
   "execution_count": 16,
   "metadata": {
    "collapsed": false
   },
   "outputs": [],
   "source": [
    "# Enter desired (Station, Lat, Lon) values here:\n",
    "x = '''\n",
    "Station, Lat, Lon\n",
    "Boston,             42.368186, -71.047984\n",
    "Scituate Harbor,    42.199447, -70.720090\n",
    "Scituate Beach,     42.209973, -70.724523\n",
    "Falmouth Harbor,    41.541575, -70.608020\n",
    "Marion,             41.689008, -70.746576\n",
    "Marshfield,         42.108480, -70.648691\n",
    "Provincetown,       42.042745, -70.171180\n",
    "Sandwich,           41.767990, -70.466219\n",
    "Hampton Bay,        42.900103, -70.818510\n",
    "Gloucester,         42.610253, -70.660570\n",
    "'''"
   ]
  },
  {
   "cell_type": "code",
   "execution_count": 17,
   "metadata": {
    "collapsed": false
   },
   "outputs": [],
   "source": [
    "def dms2dd(d,m,s):\n",
    "    return d+(m+s/60.)/60.\n",
    "  "
   ]
  },
  {
   "cell_type": "code",
   "execution_count": 18,
   "metadata": {
    "collapsed": false
   },
   "outputs": [
    {
     "data": {
      "text/plain": [
       "41.55436111111111"
      ]
     },
     "execution_count": 18,
     "metadata": {},
     "output_type": "execute_result"
    }
   ],
   "source": [
    "dms2dd(41,33,15.7)"
   ]
  },
  {
   "cell_type": "code",
   "execution_count": 19,
   "metadata": {
    "collapsed": false
   },
   "outputs": [
    {
     "data": {
      "text/plain": [
       "-70.50561111111111"
      ]
     },
     "execution_count": 19,
     "metadata": {},
     "output_type": "execute_result"
    }
   ],
   "source": [
    "-dms2dd(70,30,20.2)"
   ]
  },
  {
   "cell_type": "code",
   "execution_count": 20,
   "metadata": {
    "collapsed": false
   },
   "outputs": [],
   "source": [
    "x = '''\n",
    "Station, Lat, Lon\n",
    "Falmouth Harbor,    41.541575, -70.608020\n",
    "Sage Lot Pond, 41.554361, -70.505611\n",
    "'''"
   ]
  },
  {
   "cell_type": "code",
   "execution_count": 21,
   "metadata": {
    "collapsed": false
   },
   "outputs": [],
   "source": [
    "x = '''\n",
    "Station, Lat, Lon\n",
    "Boston,             42.368186, -71.047984\n",
    "Carolyn Seep Spot,    39.8083, -69.5917\n",
    "Falmouth Harbor,  41.541575, -70.608020\n",
    "'''"
   ]
  },
  {
   "cell_type": "code",
   "execution_count": 22,
   "metadata": {
    "collapsed": false
   },
   "outputs": [
    {
     "name": "stderr",
     "output_type": "stream",
     "text": [
      "-c:2: ParserWarning: Falling back to the 'python' engine because the 'c' engine does not support regex separators (separators > 1 char and different from '\\s+' are interpreted as regex); you can avoid this warning by specifying engine='python'.\n"
     ]
    }
   ],
   "source": [
    "# Create a Pandas DataFrame\n",
    "obs=pd.read_csv(StringIO(x.strip()), sep=\",\\s*\",index_col='Station')"
   ]
  },
  {
   "cell_type": "code",
   "execution_count": 23,
   "metadata": {
    "collapsed": false
   },
   "outputs": [
    {
     "data": {
      "text/html": [
       "<div>\n",
       "<table border=\"1\" class=\"dataframe\">\n",
       "  <thead>\n",
       "    <tr style=\"text-align: right;\">\n",
       "      <th></th>\n",
       "      <th>Lat</th>\n",
       "      <th>Lon</th>\n",
       "    </tr>\n",
       "    <tr>\n",
       "      <th>Station</th>\n",
       "      <th></th>\n",
       "      <th></th>\n",
       "    </tr>\n",
       "  </thead>\n",
       "  <tbody>\n",
       "    <tr>\n",
       "      <th>Boston</th>\n",
       "      <td>42.368186</td>\n",
       "      <td>-71.047984</td>\n",
       "    </tr>\n",
       "    <tr>\n",
       "      <th>Carolyn Seep Spot</th>\n",
       "      <td>39.808300</td>\n",
       "      <td>-69.591700</td>\n",
       "    </tr>\n",
       "    <tr>\n",
       "      <th>Falmouth Harbor</th>\n",
       "      <td>41.541575</td>\n",
       "      <td>-70.608020</td>\n",
       "    </tr>\n",
       "  </tbody>\n",
       "</table>\n",
       "</div>"
      ],
      "text/plain": [
       "                         Lat        Lon\n",
       "Station                                \n",
       "Boston             42.368186 -71.047984\n",
       "Carolyn Seep Spot  39.808300 -69.591700\n",
       "Falmouth Harbor    41.541575 -70.608020"
      ]
     },
     "execution_count": 23,
     "metadata": {},
     "output_type": "execute_result"
    }
   ],
   "source": [
    "obs"
   ]
  },
  {
   "cell_type": "code",
   "execution_count": 24,
   "metadata": {
    "collapsed": false
   },
   "outputs": [],
   "source": [
    "# find the indices of the points in (x,y) closest to the points in (xi,yi)\n",
    "def nearxy(x,y,xi,yi):\n",
    "    ind = np.ones(len(xi),dtype=int)\n",
    "    for i in np.arange(len(xi)):\n",
    "        dist = np.sqrt((x-xi[i])**2+(y-yi[i])**2)\n",
    "        ind[i] = dist.argmin()\n",
    "    return ind"
   ]
  },
  {
   "cell_type": "code",
   "execution_count": 25,
   "metadata": {
    "collapsed": false
   },
   "outputs": [],
   "source": [
    "# open NECOFS remote OPeNDAP dataset \n",
    "nc=netCDF4.Dataset(url).variables"
   ]
  },
  {
   "cell_type": "code",
   "execution_count": 26,
   "metadata": {
    "collapsed": false
   },
   "outputs": [
    {
     "data": {
      "text/html": [
       "<div>\n",
       "<table border=\"1\" class=\"dataframe\">\n",
       "  <thead>\n",
       "    <tr style=\"text-align: right;\">\n",
       "      <th></th>\n",
       "      <th>Lat</th>\n",
       "      <th>Lon</th>\n",
       "      <th>0-Based Index</th>\n",
       "    </tr>\n",
       "    <tr>\n",
       "      <th>Station</th>\n",
       "      <th></th>\n",
       "      <th></th>\n",
       "      <th></th>\n",
       "    </tr>\n",
       "  </thead>\n",
       "  <tbody>\n",
       "    <tr>\n",
       "      <th>Boston</th>\n",
       "      <td>42.368186</td>\n",
       "      <td>-71.047984</td>\n",
       "      <td>51703</td>\n",
       "    </tr>\n",
       "    <tr>\n",
       "      <th>Carolyn Seep Spot</th>\n",
       "      <td>39.808300</td>\n",
       "      <td>-69.591700</td>\n",
       "      <td>5074</td>\n",
       "    </tr>\n",
       "    <tr>\n",
       "      <th>Falmouth Harbor</th>\n",
       "      <td>41.541575</td>\n",
       "      <td>-70.608020</td>\n",
       "      <td>44738</td>\n",
       "    </tr>\n",
       "  </tbody>\n",
       "</table>\n",
       "</div>"
      ],
      "text/plain": [
       "                         Lat        Lon  0-Based Index\n",
       "Station                                               \n",
       "Boston             42.368186 -71.047984          51703\n",
       "Carolyn Seep Spot  39.808300 -69.591700           5074\n",
       "Falmouth Harbor    41.541575 -70.608020          44738"
      ]
     },
     "execution_count": 26,
     "metadata": {},
     "output_type": "execute_result"
    }
   ],
   "source": [
    "# find closest NECOFS nodes to station locations\n",
    "obs['0-Based Index'] = nearxy(nc['lon'][:],nc['lat'][:],obs['Lon'],obs['Lat'])\n",
    "obs"
   ]
  },
  {
   "cell_type": "code",
   "execution_count": 27,
   "metadata": {
    "collapsed": false
   },
   "outputs": [],
   "source": [
    "# get time values and convert to datetime objects\n",
    "times = nc['time']\n",
    "jd = netCDF4.num2date(times[:],times.units)"
   ]
  },
  {
   "cell_type": "code",
   "execution_count": 31,
   "metadata": {
    "collapsed": false
   },
   "outputs": [],
   "source": [
    "# get all time steps of water level from each station\n",
    "nsta = len(obs)\n",
    "z = np.ones((len(jd),nsta))\n",
    "for i in range(nsta):\n",
    "    z[:,i] = nc['zeta'][:,obs['0-Based Index'][i]]\n",
    "    "
   ]
  },
  {
   "cell_type": "code",
   "execution_count": 32,
   "metadata": {
    "collapsed": false
   },
   "outputs": [],
   "source": [
    "# make a DataFrame out of the interpolated time series at each location\n",
    "zvals=pd.DataFrame(z,index=jd,columns=obs.index)"
   ]
  },
  {
   "cell_type": "code",
   "execution_count": 33,
   "metadata": {
    "collapsed": false
   },
   "outputs": [
    {
     "data": {
      "text/html": [
       "<div>\n",
       "<table border=\"1\" class=\"dataframe\">\n",
       "  <thead>\n",
       "    <tr style=\"text-align: right;\">\n",
       "      <th>Station</th>\n",
       "      <th>Boston</th>\n",
       "      <th>Carolyn Seep Spot</th>\n",
       "      <th>Falmouth Harbor</th>\n",
       "    </tr>\n",
       "  </thead>\n",
       "  <tbody>\n",
       "    <tr>\n",
       "      <th>2016-06-20 00:00:00.000</th>\n",
       "      <td>0.279748</td>\n",
       "      <td>0.657395</td>\n",
       "      <td>0.707420</td>\n",
       "    </tr>\n",
       "    <tr>\n",
       "      <th>2016-06-20 01:01:52.500</th>\n",
       "      <td>0.784970</td>\n",
       "      <td>0.538741</td>\n",
       "      <td>0.706830</td>\n",
       "    </tr>\n",
       "    <tr>\n",
       "      <th>2016-06-20 01:58:07.500</th>\n",
       "      <td>1.312351</td>\n",
       "      <td>0.326673</td>\n",
       "      <td>0.594273</td>\n",
       "    </tr>\n",
       "    <tr>\n",
       "      <th>2016-06-20 03:00:00.000</th>\n",
       "      <td>1.563488</td>\n",
       "      <td>0.069193</td>\n",
       "      <td>0.440999</td>\n",
       "    </tr>\n",
       "    <tr>\n",
       "      <th>2016-06-20 04:01:52.500</th>\n",
       "      <td>1.668126</td>\n",
       "      <td>-0.177511</td>\n",
       "      <td>0.368976</td>\n",
       "    </tr>\n",
       "  </tbody>\n",
       "</table>\n",
       "</div>"
      ],
      "text/plain": [
       "Station                    Boston  Carolyn Seep Spot  Falmouth Harbor\n",
       "2016-06-20 00:00:00.000  0.279748           0.657395         0.707420\n",
       "2016-06-20 01:01:52.500  0.784970           0.538741         0.706830\n",
       "2016-06-20 01:58:07.500  1.312351           0.326673         0.594273\n",
       "2016-06-20 03:00:00.000  1.563488           0.069193         0.440999\n",
       "2016-06-20 04:01:52.500  1.668126          -0.177511         0.368976"
      ]
     },
     "execution_count": 33,
     "metadata": {},
     "output_type": "execute_result"
    }
   ],
   "source": [
    "# list out a few values\n",
    "zvals.head()"
   ]
  },
  {
   "cell_type": "code",
   "execution_count": 35,
   "metadata": {
    "collapsed": false
   },
   "outputs": [
    {
     "data": {
      "image/png": "[encoded data removed]",
      "text/plain": [
       "<matplotlib.figure.Figure at 0x7f94383454d0>"
      ]
     },
     "metadata": {},
     "output_type": "display_data"
    }
   ],
   "source": [
    "# plotting at DataFrame is easy!\n",
    "ax=zvals.plot(figsize=(16,4),grid=True,title=('NECOFS Forecast Water Level from %s Forecast' % model),legend=False);\n",
    "# read units from dataset for ylabel\n",
    "plt.ylabel(nc['zeta'].units)\n",
    "# plotting the legend outside the axis is a bit tricky\n",
    "box = ax.get_position()\n",
    "ax.set_position([box.x0, box.y0, box.width * 0.8, box.height])\n",
    "ax.legend(loc='center left', bbox_to_anchor=(1, 0.5));\n"
   ]
  },
  {
   "cell_type": "code",
   "execution_count": 36,
   "metadata": {
    "collapsed": false
   },
   "outputs": [
    {
     "data": {
      "text/plain": [
       "1.8749895095825195"
      ]
     },
     "execution_count": 36,
     "metadata": {},
     "output_type": "execute_result"
    }
   ],
   "source": [
    "# what is the maximum water level at Scituate over this period?\n",
    "zvals['Boston'].max()"
   ]
  },
  {
   "cell_type": "code",
   "execution_count": 37,
   "metadata": {
    "collapsed": false
   },
   "outputs": [],
   "source": [
    "# make a new DataFrame of maximum water levels at all stations\n",
    "b=pd.DataFrame(zvals.idxmax(),columns=['time of max water level (UTC)'])\n",
    "# create heading for new column containing max water level\n",
    "zmax_heading='zmax (%s)' % nc['zeta'].units\n",
    "# Add new column to DataFrame\n",
    "b[zmax_heading]=zvals.max()"
   ]
  },
  {
   "cell_type": "code",
   "execution_count": 38,
   "metadata": {
    "collapsed": false
   },
   "outputs": [
    {
     "data": {
      "text/html": [
       "<div>\n",
       "<table border=\"1\" class=\"dataframe\">\n",
       "  <thead>\n",
       "    <tr style=\"text-align: right;\">\n",
       "      <th></th>\n",
       "      <th>time of max water level (UTC)</th>\n",
       "      <th>zmax (meters)</th>\n",
       "    </tr>\n",
       "    <tr>\n",
       "      <th>Station</th>\n",
       "      <th></th>\n",
       "      <th></th>\n",
       "    </tr>\n",
       "  </thead>\n",
       "  <tbody>\n",
       "    <tr>\n",
       "      <th>Boston</th>\n",
       "      <td>2016-06-25 07:01:52.500</td>\n",
       "      <td>1.874990</td>\n",
       "    </tr>\n",
       "    <tr>\n",
       "      <th>Carolyn Seep Spot</th>\n",
       "      <td>2016-06-22 01:01:52.500</td>\n",
       "      <td>0.690070</td>\n",
       "    </tr>\n",
       "    <tr>\n",
       "      <th>Falmouth Harbor</th>\n",
       "      <td>2016-06-21 01:01:52.500</td>\n",
       "      <td>0.734735</td>\n",
       "    </tr>\n",
       "  </tbody>\n",
       "</table>\n",
       "</div>"
      ],
      "text/plain": [
       "                  time of max water level (UTC)  zmax (meters)\n",
       "Station                                                       \n",
       "Boston                  2016-06-25 07:01:52.500       1.874990\n",
       "Carolyn Seep Spot       2016-06-22 01:01:52.500       0.690070\n",
       "Falmouth Harbor         2016-06-21 01:01:52.500       0.734735"
      ]
     },
     "execution_count": 38,
     "metadata": {},
     "output_type": "execute_result"
    }
   ],
   "source": [
    "b"
   ]
  },
  {
   "cell_type": "code",
   "execution_count": null,
   "metadata": {
    "collapsed": false
   },
   "outputs": [],
   "source": []
  },
  {
   "cell_type": "code",
   "execution_count": null,
   "metadata": {
    "collapsed": false
   },
   "outputs": [],
   "source": []
  },
  {
   "cell_type": "code",
   "execution_count": null,
   "metadata": {
    "collapsed": true
   },
   "outputs": [],
   "source": []
  }
 ],
 "metadata": {
  "gist_id": "ffe8dc6b6e8fa0a105fe",
  "kernelspec": {
   "display_name": "Python 2",
   "language": "python",
   "name": "python2"
  },
  "language_info": {
   "codemirror_mode": {
    "name": "ipython",
    "version": 2
   },
   "file_extension": ".py",
   "mimetype": "text/x-python",
   "name": "python",
   "nbconvert_exporter": "python",
   "pygments_lexer": "ipython2",
   "version": "2.7.11"
  },
  "widgets": {
   "state": {},
   "version": "1.1.2"
  }
 },
 "nbformat": 4,
 "nbformat_minor": 0
}
