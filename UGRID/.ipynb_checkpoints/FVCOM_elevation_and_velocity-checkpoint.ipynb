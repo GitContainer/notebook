{
 "metadata": {
  "name": "",
  "signature": "sha256:8106b3c23d8cb4e9d3e7d59912dfb4a1946c757fbb0f7d199b96375eca24c1c9"
 },
 "nbformat": 3,
 "nbformat_minor": 0,
 "worksheets": [
  {
   "cells": [
    {
     "cell_type": "heading",
     "level": 1,
     "metadata": {},
     "source": [
      "Access data from the NECOFS (New England Coastal Ocean Forecast System) via OPeNDAP"
     ]
    },
    {
     "cell_type": "markdown",
     "metadata": {},
     "source": [
      "Demonstration using the NetCDF4-Python library to access velocity data from a triangular grid ocean model (FVCOM) via OPeNDAP, specifying the desired URL, time, layer and lat/lon region of interest.  The resulting plot of forecast velocity vectors over color-shaded bathymetry is useful for a variety of recreational and scientific purposes. \n",
      "\n",
      "NECOFS (Northeastern Coastal Ocean Forecast System) is run by groups at the University of Massachusetts Dartmouth and the Woods Hole Oceanographic Institution, led by Drs. C. Chen, R. C. Beardsley, G. Cowles and B. Rothschild. Funding is provided to run the model by the NOAA-led Integrated Ocean Observing System and the State of Massachusetts.\n",
      "\n",
      "NECOFS is a coupled numerical model that uses nested weather models, a coastal ocean circulation model, and a wave model. The ocean model is a volume-mesh model with horizontal resolution that is finer in complicated regions. It is layered (not depth-averaged) and includes the effects of tides, winds, and varying water densities caused by temperature and salinity changes.\n",
      "\n",
      "* Model description: http://fvcom.smast.umassd.edu/research_projects/NECOFS/model_system.html\n",
      "* THREDDS server with other forecast and archive products: http://www.smast.umassd.edu:8080/thredds/catalog.html"
     ]
    },
    {
     "cell_type": "code",
     "collapsed": false,
     "input": [
      "from pylab import *\n",
      "import matplotlib.tri as Tri\n",
      "import netCDF4\n",
      "import datetime as dt"
     ],
     "language": "python",
     "metadata": {},
     "outputs": [],
     "prompt_number": 17
    },
    {
     "cell_type": "code",
     "collapsed": false,
     "input": [
      "# DAP Data URL\n",
      "# MassBay GRID\n",
      "#url = 'http://www.smast.umassd.edu:8080/thredds/dodsC/FVCOM/NECOFS/Forecasts/NECOFS_FVCOM_OCEAN_MASSBAY_FORECAST.nc'\n",
      "# GOM3 GRID\n",
      "#url='http://www.smast.umassd.edu:8080/thredds/dodsC/FVCOM/NECOFS/Forecasts/NECOFS_GOM3_FORECAST.nc'\n",
      "# GOM3 Monthly mean\n",
      "url = 'http://www.smast.umassd.edu:8080/thredds/dodsC/fvcom/hindcasts/30yr_gom3/mean'\n",
      "# Open DAP\n",
      "nc = netCDF4.Dataset(url).variables\n",
      "nc.keys()"
     ],
     "language": "python",
     "metadata": {},
     "outputs": [
      {
       "metadata": {},
       "output_type": "pyout",
       "prompt_number": 18,
       "text": [
        "[u'lat',\n",
        " u'latc',\n",
        " u'lon',\n",
        " u'lonc',\n",
        " u'z0b',\n",
        " u'nprocs',\n",
        " u'partition',\n",
        " u'x',\n",
        " u'y',\n",
        " u'xc',\n",
        " u'yc',\n",
        " u'siglay',\n",
        " u'siglev',\n",
        " u'h',\n",
        " u'nv',\n",
        " u'nbe',\n",
        " u'ntsn',\n",
        " u'nbsn',\n",
        " u'ntve',\n",
        " u'nbve',\n",
        " u'a1u',\n",
        " u'a2u',\n",
        " u'aw0',\n",
        " u'awx',\n",
        " u'awy',\n",
        " u'art2',\n",
        " u'art1',\n",
        " u'iint',\n",
        " u'time',\n",
        " u'Itime',\n",
        " u'Itime2',\n",
        " u'Times',\n",
        " u'zeta',\n",
        " u'file_date',\n",
        " u'u',\n",
        " u'v',\n",
        " u'omega',\n",
        " u'ww',\n",
        " u'ua',\n",
        " u'va',\n",
        " u'temp',\n",
        " u'salinity',\n",
        " u'km',\n",
        " u'kh',\n",
        " u'kq',\n",
        " u'q2',\n",
        " u'q2l',\n",
        " u'l',\n",
        " u'short_wave',\n",
        " u'net_heat_flux',\n",
        " u'uwind_stress',\n",
        " u'vwind_stress',\n",
        " u'fvcom_mesh']"
       ]
      }
     ],
     "prompt_number": 18
    },
    {
     "cell_type": "code",
     "collapsed": false,
     "input": [
      "# take a look at the \"metadata\" for the variable \"u\"\n",
      "print nc['u']"
     ],
     "language": "python",
     "metadata": {},
     "outputs": [
      {
       "output_type": "stream",
       "stream": "stdout",
       "text": [
        "<type 'netCDF4.Variable'>\n",
        "float32 u(time, siglay, nele)\n",
        "    long_name: Eastward Water Velocity\n",
        "    units: meters s-1\n",
        "    type: data\n",
        "    standard_name: eastward_sea_water_velocity\n",
        "    coordinates: time siglay latc lonc\n",
        "    mesh: fvcom_mesh\n",
        "    location: face\n",
        "unlimited dimensions: \n",
        "current shape = (396, 45, 90415)\n",
        "filling off\n",
        "\n"
       ]
      }
     ],
     "prompt_number": 19
    },
    {
     "cell_type": "code",
     "collapsed": false,
     "input": [
      "shape(nc['temp'])"
     ],
     "language": "python",
     "metadata": {},
     "outputs": [
      {
       "metadata": {},
       "output_type": "pyout",
       "prompt_number": 20,
       "text": [
        "(396, 45, 48451)"
       ]
      }
     ],
     "prompt_number": 20
    },
    {
     "cell_type": "code",
     "collapsed": false,
     "input": [
      "shape(nc['nv'])"
     ],
     "language": "python",
     "metadata": {},
     "outputs": [
      {
       "metadata": {},
       "output_type": "pyout",
       "prompt_number": 21,
       "text": [
        "(3, 90415)"
       ]
      }
     ],
     "prompt_number": 21
    },
    {
     "cell_type": "code",
     "collapsed": false,
     "input": [
      "# Desired time for snapshot\n",
      "# ....right now (or some number of hours from now) ...\n",
      "#start = dt.datetime.utcnow() + dt.timedelta(hours=6)\n",
      "# ... or specific time (UTC)\n",
      "start = dt.datetime(1998,4,15,0,0,0)"
     ],
     "language": "python",
     "metadata": {},
     "outputs": [],
     "prompt_number": 22
    },
    {
     "cell_type": "code",
     "collapsed": false,
     "input": [
      "# Get desired time step  \n",
      "time_var = nc['time']\n",
      "itime = netCDF4.date2index(start,time_var,select='nearest')\n",
      "\n",
      "# Get lon,lat coordinates for nodes (depth)\n",
      "lat = nc['lat'][:]\n",
      "lon = nc['lon'][:]\n",
      "# Get lon,lat coordinates for cell centers (depth)\n",
      "latc = nc['latc'][:]\n",
      "lonc = nc['lonc'][:]\n",
      "# Get Connectivity array\n",
      "nv = nc['nv'][:].T - 1 \n"
     ],
     "language": "python",
     "metadata": {},
     "outputs": [],
     "prompt_number": 23
    },
    {
     "cell_type": "code",
     "collapsed": false,
     "input": [
      "dtime = netCDF4.num2date(time_var[itime],time_var.units)\n",
      "daystr = dtime.strftime('%Y-%b-%d %H:%M')\n",
      "print daystr"
     ],
     "language": "python",
     "metadata": {},
     "outputs": [
      {
       "output_type": "stream",
       "stream": "stdout",
       "text": [
        "1998-Apr-15 22:07\n"
       ]
      }
     ],
     "prompt_number": 24
    },
    {
     "cell_type": "code",
     "collapsed": false,
     "input": [
      "tri = Tri.Triangulation(lon,lat, triangles=nv)"
     ],
     "language": "python",
     "metadata": {},
     "outputs": [],
     "prompt_number": 25
    },
    {
     "cell_type": "code",
     "collapsed": false,
     "input": [
      "# get current at layer [0 = surface, -1 = bottom]\n",
      "ilayer = 0\n",
      "u = nc['u'][itime, ilayer, :]\n",
      "v = nc['v'][itime, ilayer, :]\n",
      "# Get water level\n",
      "h = nc['zeta'][itime,:]  # water level "
     ],
     "language": "python",
     "metadata": {},
     "outputs": [],
     "prompt_number": 26
    },
    {
     "cell_type": "code",
     "collapsed": false,
     "input": [
      "#woods hole\n",
      "levels=arange(-0.3,0.3,0.01)   # water level contours to plot\n",
      "ax = [-70.7, -70.6, 41.48, 41.55]\n",
      "maxvel = 1.0\n",
      "subsample = 2"
     ],
     "language": "python",
     "metadata": {},
     "outputs": [],
     "prompt_number": 27
    },
    {
     "cell_type": "code",
     "collapsed": false,
     "input": [
      "#boston harbor\n",
      "levels=arange(-0.3,0.3,0.01)   # water level contours to plot\n",
      "ax= [-70.97, -70.82, 42.25, 42.35] # \n",
      "maxvel = 0.5\n",
      "subsample = 3"
     ],
     "language": "python",
     "metadata": {},
     "outputs": [],
     "prompt_number": 28
    },
    {
     "cell_type": "code",
     "collapsed": false,
     "input": [
      "# whole gulf\n",
      "levels=arange(-0.3,0.3,0.01)   # water level contours to plot\n",
      "ax= [-74.5, -70, 39.0, 41.0] # \n",
      "maxvel = 0.2\n",
      "subsample = 10"
     ],
     "language": "python",
     "metadata": {},
     "outputs": [],
     "prompt_number": 29
    },
    {
     "cell_type": "code",
     "collapsed": false,
     "input": [
      "# whole gom3\n",
      "levels=arange(-0.5,0.5,0.02)   # water level contours to plot\n",
      "ax= [-80, -55, 34.0, 48.0] # \n",
      "maxvel = 1.0\n",
      "subsample = 20"
     ],
     "language": "python",
     "metadata": {},
     "outputs": [],
     "prompt_number": 34
    },
    {
     "cell_type": "code",
     "collapsed": false,
     "input": [
      "# find velocity points in bounding box\n",
      "ind = argwhere((lonc >= ax[0]) & (lonc <= ax[1]) & (latc >= ax[2]) & (latc <= ax[3]))"
     ],
     "language": "python",
     "metadata": {},
     "outputs": [],
     "prompt_number": 35
    },
    {
     "cell_type": "code",
     "collapsed": false,
     "input": [
      "np.random.shuffle(ind)\n",
      "Nvec = int(len(ind) / subsample)\n",
      "idv = ind[:Nvec]"
     ],
     "language": "python",
     "metadata": {},
     "outputs": [],
     "prompt_number": 36
    },
    {
     "cell_type": "code",
     "collapsed": false,
     "input": [
      "# tricontourf plot of water depth with vectors on top\n",
      "figure(figsize=(18,10))\n",
      "subplot(111,aspect=(1.0/cos(mean(lat)*pi/180.0)))\n",
      "#tricontourf(tri, h-h.mean(),levels=levels,shading='faceted',cmap=plt.cm.gist_earth)\n",
      "tricontourf(tri, h-h.mean(),levels=levels,shading='faceted')\n",
      "#axis(ax)\n",
      "gca().patch.set_facecolor('0.5')\n",
      "cbar=colorbar()\n",
      "cbar.set_label('Water Level (m)', rotation=-90)\n",
      "#Q = quiver(lonc[idv],latc[idv],u[idv],v[idv],scale=20)\n",
      "#maxstr='%3.1f m/s' % maxvel\n",
      "#qk = quiverkey(Q,0.92,0.08,maxvel,maxstr,labelpos='W')\n",
      "title('NECOFS Velocity, Layer %d, %s UTC' % (ilayer, daystr));"
     ],
     "language": "python",
     "metadata": {},
     "outputs": [
      {
       "metadata": {},
       "output_type": "display_data",
       "png": "[encoded data removed]",
       "text": [
        "<matplotlib.figure.Figure at 0x7fe5225f7bd0>"
       ]
      }
     ],
     "prompt_number": 40
    },
    {
     "cell_type": "code",
     "collapsed": false,
     "input": [],
     "language": "python",
     "metadata": {},
     "outputs": [],
     "prompt_number": 37
    },
    {
     "cell_type": "code",
     "collapsed": false,
     "input": [],
     "language": "python",
     "metadata": {},
     "outputs": []
    }
   ],
   "metadata": {}
  }
 ]
}