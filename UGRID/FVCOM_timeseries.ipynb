{
 "cells": [
  {
   "cell_type": "markdown",
   "metadata": {},
   "source": [
    "# Extract FVCOM time series from aggregated OPeNDAP endpoints "
   ]
  },
  {
   "cell_type": "code",
   "execution_count": 1,
   "metadata": {
    "collapsed": false
   },
   "outputs": [],
   "source": [
    "# Plot time series data from FVCOM model from list of lon,lat locations\n",
    "# (uses the nearest point, no interpolation)\n",
    "%matplotlib inline\n",
    "import numpy as np\n",
    "import matplotlib.pyplot as plt\n",
    "import netCDF4\n",
    "import datetime as dt\n",
    "import pandas as pd\n",
    "from StringIO import StringIO"
   ]
  },
  {
   "cell_type": "code",
   "execution_count": 2,
   "metadata": {
    "collapsed": false
   },
   "outputs": [],
   "source": [
    "# make dictionary of various model simulation endpoints\n",
    "models={}\n",
    "models['Massbay_forecast']='http://www.smast.umassd.edu:8080/thredds/dodsC/FVCOM/NECOFS/Forecasts/NECOFS_FVCOM_OCEAN_MASSBAY_FORECAST.nc'\n",
    "models['GOM3_Forecast']='http://www.smast.umassd.edu:8080/thredds/dodsC/FVCOM/NECOFS/Forecasts/NECOFS_GOM3_FORECAST.nc'\n",
    "models['Massbay_forecast_archive']='http://www.smast.umassd.edu:8080/thredds/dodsC/fvcom/archives/necofs_mb'\n",
    "models['GOM3_30_year_hindcast']='http://www.smast.umassd.edu:8080/thredds/dodsC/fvcom/hindcasts/30yr_gom3'"
   ]
  },
  {
   "cell_type": "code",
   "execution_count": 3,
   "metadata": {
    "collapsed": true
   },
   "outputs": [],
   "source": [
    "def start_stop(url,tvar):\n",
    "    nc = netCDF4.Dataset(url)\n",
    "    ncv = nc.variables\n",
    "    time_var = ncv[tvar]\n",
    "    first = netCDF4.num2date(time_var[0],time_var.units)\n",
    "    last = netCDF4.num2date(time_var[-1],time_var.units)\n",
    "\n",
    "    print first.strftime('%Y-%b-%d %H:%M')\n",
    "    print last.strftime('%Y-%b-%d %H:%M')"
   ]
  },
  {
   "cell_type": "code",
   "execution_count": 4,
   "metadata": {
    "collapsed": false
   },
   "outputs": [
    {
     "name": "stdout",
     "output_type": "stream",
     "text": [
      "GOM3_30_year_hindcast\n",
      "1978-Jan-01 00:00\n",
      "2015-Jan-01 00:00\n",
      "Massbay_forecast_archive\n",
      "[problem accessing data]\n",
      "GOM3_Forecast\n",
      "2016-Aug-15 00:00\n",
      "2016-Aug-21 00:00\n",
      "Massbay_forecast\n",
      "2016-Aug-15 00:00\n",
      "2016-Aug-21 00:00\n"
     ]
    }
   ],
   "source": [
    "tvar = 'time'\n",
    "for model,url in models.iteritems():\n",
    "    print model\n",
    "\n",
    "    try:\n",
    "        start_stop(url,tvar)\n",
    "    except:\n",
    "        print '[problem accessing data]'"
   ]
  },
  {
   "cell_type": "code",
   "execution_count": 5,
   "metadata": {
    "collapsed": false
   },
   "outputs": [],
   "source": [
    "#model='Massbay_forecast_archive' \n",
    "model='Massbay_forecast'\n",
    "#model='GOM3_Forecast'\n",
    "#model='GOM3_30_year_hindcast'\n",
    "url=models[model]\n",
    "# Desired time for snapshot\n",
    "# ....right now (or some number of hours from now) ...\n",
    "start = dt.datetime.utcnow() - dt.timedelta(hours=72)\n",
    "stop = dt.datetime.utcnow() + dt.timedelta(hours=72)\n",
    "\n",
    "# ... or specific time (UTC)\n",
    "#start = dt.datetime(2004,9,1,0,0,0)\n",
    "#stop = dt.datetime(2004,11,1,0,0,0)"
   ]
  },
  {
   "cell_type": "code",
   "execution_count": 6,
   "metadata": {
    "collapsed": false
   },
   "outputs": [],
   "source": [
    "def dms2dd(d,m,s):\n",
    "    return d+(m+s/60.)/60.\n",
    "  "
   ]
  },
  {
   "cell_type": "code",
   "execution_count": 7,
   "metadata": {
    "collapsed": false
   },
   "outputs": [
    {
     "data": {
      "text/plain": [
       "42.85483333333333"
      ]
     },
     "execution_count": 7,
     "metadata": {},
     "output_type": "execute_result"
    }
   ],
   "source": [
    "dms2dd(41,33,15.7)\n",
    "dms2dd(42,51,17.40)"
   ]
  },
  {
   "cell_type": "code",
   "execution_count": 8,
   "metadata": {
    "collapsed": false
   },
   "outputs": [
    {
     "data": {
      "text/plain": [
       "-70.31166666666667"
      ]
     },
     "execution_count": 8,
     "metadata": {},
     "output_type": "execute_result"
    }
   ],
   "source": [
    "-dms2dd(70,30,20.2)\n",
    "-dms2dd(70,18,42.0)"
   ]
  },
  {
   "cell_type": "code",
   "execution_count": 9,
   "metadata": {
    "collapsed": false
   },
   "outputs": [],
   "source": [
    "x = '''\n",
    "Station, Lat, Lon\n",
    "Falmouth Harbor,    41.541575, -70.608020\n",
    "Sage Lot Pond, 41.554361, -70.505611\n",
    "'''"
   ]
  },
  {
   "cell_type": "code",
   "execution_count": 10,
   "metadata": {
    "collapsed": false
   },
   "outputs": [],
   "source": [
    "x = '''\n",
    "Station, Lat, Lon\n",
    "Boston,             42.368186, -71.047984\n",
    "Carolyn Seep Spot,    39.8083, -69.5917\n",
    "Falmouth Harbor,  41.541575, -70.608020\n",
    "'''"
   ]
  },
  {
   "cell_type": "code",
   "execution_count": 11,
   "metadata": {
    "collapsed": false
   },
   "outputs": [],
   "source": [
    "# Enter desired (Station, Lat, Lon) values here:\n",
    "x = '''\n",
    "Station, Lat, Lon\n",
    "Boston,             42.368186, -71.047984\n",
    "Scituate Harbor,    42.199447, -70.720090\n",
    "Scituate Beach,     42.209973, -70.724523\n",
    "Falmouth Harbor,    41.541575, -70.608020\n",
    "Marion,             41.689008, -70.746576\n",
    "Marshfield,         42.108480, -70.648691\n",
    "Provincetown,       42.042745, -70.171180\n",
    "Sandwich,           41.767990, -70.466219\n",
    "Hampton Bay,        42.900103, -70.818510\n",
    "Gloucester,         42.610253, -70.660570\n",
    "'''"
   ]
  },
  {
   "cell_type": "code",
   "execution_count": 12,
   "metadata": {
    "collapsed": false
   },
   "outputs": [],
   "source": [
    "x = '''\n",
    "Station, Lat, Lon\n",
    "Buoy A,             42.52280, -70.56535\n",
    "Buoy B,             43.18089, -70.42788\n",
    "Nets,               42.85483, -70.3116\n",
    "DITP,               42.347  , -70.960\n",
    "'''"
   ]
  },
  {
   "cell_type": "code",
   "execution_count": 13,
   "metadata": {
    "collapsed": false
   },
   "outputs": [],
   "source": [
    "# Create a Pandas DataFrame\n",
    "obs=pd.read_csv(StringIO(x.strip()), sep=\",\\s*\",index_col='Station',engine='python')"
   ]
  },
  {
   "cell_type": "code",
   "execution_count": 14,
   "metadata": {
    "collapsed": false
   },
   "outputs": [
    {
     "data": {
      "text/html": [
       "<div>\n",
       "<table border=\"1\" class=\"dataframe\">\n",
       "  <thead>\n",
       "    <tr style=\"text-align: right;\">\n",
       "      <th></th>\n",
       "      <th>Lat</th>\n",
       "      <th>Lon</th>\n",
       "    </tr>\n",
       "    <tr>\n",
       "      <th>Station</th>\n",
       "      <th></th>\n",
       "      <th></th>\n",
       "    </tr>\n",
       "  </thead>\n",
       "  <tbody>\n",
       "    <tr>\n",
       "      <th>Buoy A</th>\n",
       "      <td>42.52280</td>\n",
       "      <td>-70.56535</td>\n",
       "    </tr>\n",
       "    <tr>\n",
       "      <th>Buoy B</th>\n",
       "      <td>43.18089</td>\n",
       "      <td>-70.42788</td>\n",
       "    </tr>\n",
       "    <tr>\n",
       "      <th>Nets</th>\n",
       "      <td>42.85483</td>\n",
       "      <td>-70.31160</td>\n",
       "    </tr>\n",
       "    <tr>\n",
       "      <th>DITP</th>\n",
       "      <td>42.34700</td>\n",
       "      <td>-70.96000</td>\n",
       "    </tr>\n",
       "  </tbody>\n",
       "</table>\n",
       "</div>"
      ],
      "text/plain": [
       "              Lat       Lon\n",
       "Station                    \n",
       "Buoy A   42.52280 -70.56535\n",
       "Buoy B   43.18089 -70.42788\n",
       "Nets     42.85483 -70.31160\n",
       "DITP     42.34700 -70.96000"
      ]
     },
     "execution_count": 14,
     "metadata": {},
     "output_type": "execute_result"
    }
   ],
   "source": [
    "obs"
   ]
  },
  {
   "cell_type": "code",
   "execution_count": 15,
   "metadata": {
    "collapsed": false
   },
   "outputs": [],
   "source": [
    "# find the indices of the points in (x,y) closest to the points in (xi,yi)\n",
    "def nearxy(x,y,xi,yi):\n",
    "    ind = np.ones(len(xi),dtype=int)\n",
    "    for i in np.arange(len(xi)):\n",
    "        dist = np.sqrt((x-xi[i])**2+(y-yi[i])**2)\n",
    "        ind[i] = dist.argmin()\n",
    "    return ind"
   ]
  },
  {
   "cell_type": "code",
   "execution_count": 16,
   "metadata": {
    "collapsed": false
   },
   "outputs": [],
   "source": [
    "nc=netCDF4.Dataset(url)"
   ]
  },
  {
   "cell_type": "code",
   "execution_count": 17,
   "metadata": {
    "collapsed": false
   },
   "outputs": [],
   "source": [
    "# open NECOFS remote OPeNDAP dataset \n",
    "ncv = nc.variables"
   ]
  },
  {
   "cell_type": "code",
   "execution_count": 18,
   "metadata": {
    "collapsed": false
   },
   "outputs": [
    {
     "data": {
      "text/html": [
       "<div>\n",
       "<table border=\"1\" class=\"dataframe\">\n",
       "  <thead>\n",
       "    <tr style=\"text-align: right;\">\n",
       "      <th></th>\n",
       "      <th>Lat</th>\n",
       "      <th>Lon</th>\n",
       "      <th>0-Based Index</th>\n",
       "    </tr>\n",
       "    <tr>\n",
       "      <th>Station</th>\n",
       "      <th></th>\n",
       "      <th></th>\n",
       "      <th></th>\n",
       "    </tr>\n",
       "  </thead>\n",
       "  <tbody>\n",
       "    <tr>\n",
       "      <th>Buoy A</th>\n",
       "      <td>42.52280</td>\n",
       "      <td>-70.56535</td>\n",
       "      <td>5507</td>\n",
       "    </tr>\n",
       "    <tr>\n",
       "      <th>Buoy B</th>\n",
       "      <td>43.18089</td>\n",
       "      <td>-70.42788</td>\n",
       "      <td>256</td>\n",
       "    </tr>\n",
       "    <tr>\n",
       "      <th>Nets</th>\n",
       "      <td>42.85483</td>\n",
       "      <td>-70.31160</td>\n",
       "      <td>1008</td>\n",
       "    </tr>\n",
       "    <tr>\n",
       "      <th>DITP</th>\n",
       "      <td>42.34700</td>\n",
       "      <td>-70.96000</td>\n",
       "      <td>59458</td>\n",
       "    </tr>\n",
       "  </tbody>\n",
       "</table>\n",
       "</div>"
      ],
      "text/plain": [
       "              Lat       Lon  0-Based Index\n",
       "Station                                   \n",
       "Buoy A   42.52280 -70.56535           5507\n",
       "Buoy B   43.18089 -70.42788            256\n",
       "Nets     42.85483 -70.31160           1008\n",
       "DITP     42.34700 -70.96000          59458"
      ]
     },
     "execution_count": 18,
     "metadata": {},
     "output_type": "execute_result"
    }
   ],
   "source": [
    "# find closest NECOFS nodes to station locations\n",
    "obs['0-Based Index'] = nearxy(ncv['lon'][:],ncv['lat'][:],obs['Lon'],obs['Lat'])\n",
    "obs"
   ]
  },
  {
   "cell_type": "code",
   "execution_count": 19,
   "metadata": {
    "collapsed": false
   },
   "outputs": [
    {
     "data": {
      "text/plain": [
       "array([-70.56564331, -70.54589081, -70.52242279, -70.49489594,\n",
       "       -70.46069336, -70.42356873, -70.38311005, -70.3338089 ,\n",
       "       -70.2835083 , -70.23035431], dtype=float32)"
      ]
     },
     "execution_count": 19,
     "metadata": {},
     "output_type": "execute_result"
    }
   ],
   "source": [
    "ncv['lon'][0:10]"
   ]
  },
  {
   "cell_type": "code",
   "execution_count": 20,
   "metadata": {
    "collapsed": false
   },
   "outputs": [],
   "source": [
    "# get time values and convert to datetime objects\n",
    "time_var = ncv['time']\n",
    "istart = netCDF4.date2index(start,time_var,select='nearest')\n",
    "istop = netCDF4.date2index(stop,time_var,select='nearest')\n",
    "jd = netCDF4.num2date(time_var[istart:istop],time_var.units)"
   ]
  },
  {
   "cell_type": "code",
   "execution_count": 37,
   "metadata": {
    "collapsed": false
   },
   "outputs": [],
   "source": [
    "# get all time steps of water level from each station\n",
    "# NOTE: this takes a while....\n",
    "nsta=len(obs)\n",
    "z = np.ones((len(jd),nsta))\n",
    "layer = 0  # surface layer =0, bottom layer=-1\n",
    "for i in range(nsta):\n",
    "    z[:,i] = ncv['temp'][istart:istop,layer,obs['0-Based Index'][i]]\n",
    "    "
   ]
  },
  {
   "cell_type": "code",
   "execution_count": 38,
   "metadata": {
    "collapsed": false
   },
   "outputs": [],
   "source": [
    "# make a DataFrame out of the interpolated time series at each location\n",
    "zvals=pd.DataFrame(z*9./5.+32.,index=jd,columns=obs.index)"
   ]
  },
  {
   "cell_type": "code",
   "execution_count": 39,
   "metadata": {
    "collapsed": false
   },
   "outputs": [
    {
     "data": {
      "text/html": [
       "<div>\n",
       "<table border=\"1\" class=\"dataframe\">\n",
       "  <thead>\n",
       "    <tr style=\"text-align: right;\">\n",
       "      <th>Station</th>\n",
       "      <th>Buoy A</th>\n",
       "      <th>Buoy B</th>\n",
       "      <th>Nets</th>\n",
       "      <th>DITP</th>\n",
       "    </tr>\n",
       "  </thead>\n",
       "  <tbody>\n",
       "    <tr>\n",
       "      <th>2016-08-15 19:01:52.500</th>\n",
       "      <td>69.375790</td>\n",
       "      <td>67.246623</td>\n",
       "      <td>69.177295</td>\n",
       "      <td>71.326307</td>\n",
       "    </tr>\n",
       "    <tr>\n",
       "      <th>2016-08-15 19:58:07.500</th>\n",
       "      <td>69.398172</td>\n",
       "      <td>67.139050</td>\n",
       "      <td>69.095519</td>\n",
       "      <td>70.828001</td>\n",
       "    </tr>\n",
       "    <tr>\n",
       "      <th>2016-08-15 21:00:00.000</th>\n",
       "      <td>69.328443</td>\n",
       "      <td>66.979741</td>\n",
       "      <td>68.992168</td>\n",
       "      <td>71.621949</td>\n",
       "    </tr>\n",
       "    <tr>\n",
       "      <th>2016-08-15 22:01:52.500</th>\n",
       "      <td>69.159799</td>\n",
       "      <td>66.767914</td>\n",
       "      <td>68.858571</td>\n",
       "      <td>71.673821</td>\n",
       "    </tr>\n",
       "    <tr>\n",
       "      <th>2016-08-15 22:58:07.500</th>\n",
       "      <td>68.919734</td>\n",
       "      <td>66.518329</td>\n",
       "      <td>68.689450</td>\n",
       "      <td>71.483785</td>\n",
       "    </tr>\n",
       "  </tbody>\n",
       "</table>\n",
       "</div>"
      ],
      "text/plain": [
       "Station                     Buoy A     Buoy B       Nets       DITP\n",
       "2016-08-15 19:01:52.500  69.375790  67.246623  69.177295  71.326307\n",
       "2016-08-15 19:58:07.500  69.398172  67.139050  69.095519  70.828001\n",
       "2016-08-15 21:00:00.000  69.328443  66.979741  68.992168  71.621949\n",
       "2016-08-15 22:01:52.500  69.159799  66.767914  68.858571  71.673821\n",
       "2016-08-15 22:58:07.500  68.919734  66.518329  68.689450  71.483785"
      ]
     },
     "execution_count": 39,
     "metadata": {},
     "output_type": "execute_result"
    }
   ],
   "source": [
    "# list out a few values\n",
    "zvals.head()"
   ]
  },
  {
   "cell_type": "code",
   "execution_count": 40,
   "metadata": {
    "collapsed": false
   },
   "outputs": [
    {
     "data": {
      "image/png": "[encoded data removed]",
      "text/plain": [
       "<matplotlib.figure.Figure at 0x7f5310935d90>"
      ]
     },
     "metadata": {},
     "output_type": "display_data"
    }
   ],
   "source": [
    "# plotting at DataFrame is easy!\n",
    "ax=zvals.plot(figsize=(16,4),grid=True,\n",
    "    title=('NECOFS Forecast Bottom Water Temperature from %s Grid' % model),legend=False);\n",
    "# read units from dataset for ylabel\n",
    "plt.ylabel(ncv['temp'].units)\n",
    "# plotting the legend outside the axis is a bit tricky\n",
    "box = ax.get_position()\n",
    "ax.set_position([box.x0, box.y0, box.width * 0.8, box.height])\n",
    "ax.legend(loc='center left', bbox_to_anchor=(1, 0.5));\n"
   ]
  },
  {
   "cell_type": "code",
   "execution_count": 41,
   "metadata": {
    "collapsed": false
   },
   "outputs": [],
   "source": [
    "# make a new DataFrame of maximum water levels at all stations\n",
    "b=pd.DataFrame(zvals.idxmax(),columns=['time of max water temp (UTC)'])\n",
    "# create heading for new column containing max water level\n",
    "zmax_heading='tmax (%s)' % ncv['temp'].units\n",
    "# Add new column to DataFrame\n",
    "b[zmax_heading]=zvals.max()"
   ]
  },
  {
   "cell_type": "code",
   "execution_count": 42,
   "metadata": {
    "collapsed": false
   },
   "outputs": [
    {
     "data": {
      "text/html": [
       "<div>\n",
       "<table border=\"1\" class=\"dataframe\">\n",
       "  <thead>\n",
       "    <tr style=\"text-align: right;\">\n",
       "      <th></th>\n",
       "      <th>time of max water temp (UTC)</th>\n",
       "      <th>tmax (degrees_C)</th>\n",
       "    </tr>\n",
       "    <tr>\n",
       "      <th>Station</th>\n",
       "      <th></th>\n",
       "      <th></th>\n",
       "    </tr>\n",
       "  </thead>\n",
       "  <tbody>\n",
       "    <tr>\n",
       "      <th>Buoy A</th>\n",
       "      <td>2016-08-16 01:58:07.500</td>\n",
       "      <td>72.371106</td>\n",
       "    </tr>\n",
       "    <tr>\n",
       "      <th>Buoy B</th>\n",
       "      <td>2016-08-16 01:58:07.500</td>\n",
       "      <td>70.135093</td>\n",
       "    </tr>\n",
       "    <tr>\n",
       "      <th>Nets</th>\n",
       "      <td>2016-08-16 01:58:07.500</td>\n",
       "      <td>73.831203</td>\n",
       "    </tr>\n",
       "    <tr>\n",
       "      <th>DITP</th>\n",
       "      <td>2016-08-16 22:58:07.500</td>\n",
       "      <td>71.891186</td>\n",
       "    </tr>\n",
       "  </tbody>\n",
       "</table>\n",
       "</div>"
      ],
      "text/plain": [
       "        time of max water temp (UTC)  tmax (degrees_C)\n",
       "Station                                               \n",
       "Buoy A       2016-08-16 01:58:07.500         72.371106\n",
       "Buoy B       2016-08-16 01:58:07.500         70.135093\n",
       "Nets         2016-08-16 01:58:07.500         73.831203\n",
       "DITP         2016-08-16 22:58:07.500         71.891186"
      ]
     },
     "execution_count": 42,
     "metadata": {},
     "output_type": "execute_result"
    }
   ],
   "source": [
    "b"
   ]
  },
  {
   "cell_type": "code",
   "execution_count": null,
   "metadata": {
    "collapsed": true
   },
   "outputs": [],
   "source": []
  },
  {
   "cell_type": "code",
   "execution_count": null,
   "metadata": {
    "collapsed": true
   },
   "outputs": [],
   "source": []
  }
 ],
 "metadata": {
  "gist_id": "",
  "kernelspec": {
   "display_name": "Python 2",
   "language": "python",
   "name": "python2"
  },
  "language_info": {
   "codemirror_mode": {
    "name": "ipython",
    "version": 2
   },
   "file_extension": ".py",
   "mimetype": "text/x-python",
   "name": "python",
   "nbconvert_exporter": "python",
   "pygments_lexer": "ipython2",
   "version": "2.7.12"
  }
 },
 "nbformat": 4,
 "nbformat_minor": 0
}
