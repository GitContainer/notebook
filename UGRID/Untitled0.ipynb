{
 "metadata": {
  "name": "",
  "signature": "sha256:858c1f44f42b6ef03690f926768cd5c0fbdb71349437f34c036be6c97bd474a2"
 },
 "nbformat": 3,
 "nbformat_minor": 0,
 "worksheets": [
  {
   "cells": [
    {
     "cell_type": "code",
     "collapsed": false,
     "input": [
      "cd /usgs/data2/notebook/UGRID"
     ],
     "language": "python",
     "metadata": {},
     "outputs": [
      {
       "output_type": "stream",
       "stream": "stdout",
       "text": [
        "/usgs/data2/notebook/UGRID\n"
       ]
      }
     ],
     "prompt_number": 1
    },
    {
     "cell_type": "code",
     "collapsed": false,
     "input": [
      "!git add ugrid*"
     ],
     "language": "python",
     "metadata": {},
     "outputs": [],
     "prompt_number": 2
    },
    {
     "cell_type": "code",
     "collapsed": false,
     "input": [
      "!git commit -m 'adding json stuff'"
     ],
     "language": "python",
     "metadata": {},
     "outputs": [
      {
       "output_type": "stream",
       "stream": "stdout",
       "text": [
        "U\tUGRID/ESTOFS_water_levels.ipynb\r\n",
        "error: 'commit' is not possible because you have unmerged files.\r\n",
        "hint: Fix them up in the work tree,\r\n",
        "hint: and then use 'git add/rm <file>' as\r\n",
        "hint: appropriate to mark resolution and make a commit,\r\n",
        "hint: or use 'git commit -a'.\r\n",
        "fatal: Exiting because of an unresolved conflict.\r\n"
       ]
      }
     ],
     "prompt_number": 3
    },
    {
     "cell_type": "code",
     "collapsed": false,
     "input": [],
     "language": "python",
     "metadata": {},
     "outputs": []
    }
   ],
   "metadata": {}
  }
 ]
}