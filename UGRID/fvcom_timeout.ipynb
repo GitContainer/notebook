{
 "metadata": {
  "name": "",
  "signature": "sha256:a918ac6330d1bc482eb3c0117bd1747c97beb4c330875db0727548af7a9c3f36"
 },
 "nbformat": 3,
 "nbformat_minor": 0,
 "worksheets": [
  {
   "cells": [
    {
     "cell_type": "code",
     "collapsed": false,
     "input": [
      "#\n",
      "# test_FVCOM.py\n",
      "#\n",
      "# purpose:  Test FVCOM with iris\n",
      "# author:   Filipe P. A. Fernandes\n",
      "# e-mail:   ocefpaf@gmail\n",
      "# web:      http://ocefpaf.github.io/\n",
      "# created:  14-Jan-2015\n",
      "# modified: Wed 14 Jan 2015 08:41:07 PM BRT\n",
      "#\n",
      "# obs:\n",
      "#\n",
      "\n",
      "import pytz\n",
      "from datetime import datetime, timedelta\n",
      "\n",
      "import iris\n",
      "from iris.cube import CubeList"
     ],
     "language": "python",
     "metadata": {},
     "outputs": [],
     "prompt_number": 12
    },
    {
     "cell_type": "code",
     "collapsed": false,
     "input": [
      "!conda list iris"
     ],
     "language": "python",
     "metadata": {},
     "outputs": [
      {
       "output_type": "stream",
       "stream": "stdout",
       "text": [
        "# packages in environment at /home/usgs/anaconda:\r\n",
        "#\r\n"
       ]
      },
      {
       "output_type": "stream",
       "stream": "stdout",
       "text": [
        "iris                      1.7.2_DEV_9e1fd13      np18py27_0    rsignell\r\n"
       ]
      }
     ],
     "prompt_number": 14
    },
    {
     "cell_type": "code",
     "collapsed": false,
     "input": [
      "iris.__version__"
     ],
     "language": "python",
     "metadata": {},
     "outputs": [
      {
       "metadata": {},
       "output_type": "pyout",
       "prompt_number": 13,
       "text": [
        "'1.7.2-DEV'"
       ]
      }
     ],
     "prompt_number": 13
    },
    {
     "cell_type": "code",
     "collapsed": false,
     "input": [
      "def time_coord(cube):\n",
      "    \"\"\"Return the variable attached to time axis and rename it to time.\"\"\"\n",
      "    try:\n",
      "        cube.coord(axis='T').rename('time')\n",
      "    except CoordinateNotFoundError:\n",
      "        pass\n",
      "    timevar = cube.coord('time')\n",
      "    return timevar"
     ],
     "language": "python",
     "metadata": {},
     "outputs": [],
     "prompt_number": 8
    },
    {
     "cell_type": "code",
     "collapsed": false,
     "input": [
      "def time_near(cube, datetime):\n",
      "    \"\"\"Return the nearest index to a `datetime`.\"\"\"\n",
      "    timevar = time_coord(cube)\n",
      "    try:\n",
      "        time = timevar.units.date2num(datetime)\n",
      "        idx = timevar.nearest_neighbour_index(time)\n",
      "    except IndexError:\n",
      "        idx = -1\n",
      "    return idx"
     ],
     "language": "python",
     "metadata": {},
     "outputs": [],
     "prompt_number": 9
    },
    {
     "cell_type": "code",
     "collapsed": false,
     "input": [
      "stop = datetime(2014, 7, 7, 12)\n",
      "stop = stop.replace(tzinfo=pytz.utc)\n",
      "start = stop - timedelta(days=7)\n",
      "\n",
      "bbox = [-87.40, 24.25, -74.70, 36.70]\n",
      "\n",
      "units = iris.unit.Unit('celsius')\n",
      "\n",
      "name_list = ['sea_water_temperature',\n",
      "             'sea_surface_temperature',\n",
      "             'sea_water_potential_temperature',\n",
      "             'equivalent_potential_temperature',\n",
      "             'sea_water_conservative_temperature',\n",
      "             'pseudo_equivalent_potential_temperature']\n",
      "\n",
      "url = \"http://crow.marine.usf.edu:8080/thredds/dodsC/FVCOM-Nowcast-Agg.nc\"\n",
      "cubes = iris.load_raw(url)\n",
      "\n",
      "in_list = lambda cube: cube.standard_name in name_list\n",
      "cubes = CubeList([cube for cube in cubes if in_list(cube)])\n",
      "cube = cubes.merge_cube()\n",
      "\n",
      "lat = iris.Constraint(latitude=lambda cell: bbox[1] <= cell < bbox[3])\n",
      "lon = iris.Constraint(longitude=lambda cell: bbox[0] <= cell <= bbox[2])\n",
      "cube = cube.extract(lon & lat)\n",
      "\n",
      "istart = time_near(cube, start)\n",
      "istop = time_near(cube, stop)\n",
      "cube = cube[istart:istop, ...]"
     ],
     "language": "python",
     "metadata": {},
     "outputs": [],
     "prompt_number": 10
    },
    {
     "cell_type": "code",
     "collapsed": false,
     "input": [
      "print cube"
     ],
     "language": "python",
     "metadata": {},
     "outputs": [
      {
       "output_type": "stream",
       "stream": "stdout",
       "text": [
        "sea_water_potential_temperature / (degrees_C) (-- : 756; -- : 10; -- : 51387)\n",
        "     Auxiliary coordinates:\n",
        "          time                                    x         -        -\n",
        "          sea_surface_height_above_geoid          x         -        x\n",
        "          ocean_sigma_coordinate                  -         x        x\n",
        "          latitude                                -         -        x\n",
        "          longitude                               -         -        x\n",
        "          sea_floor_depth_below_geoid             -         -        x\n",
        "     Attributes:\n",
        "          Conventions: UGRID-0.9.0\n",
        "          CoordinateProjection: none\n",
        "          DODS.dimName: DateStrLen\n",
        "          DODS.strlen: 26\n",
        "          Metadata_Conventions: Unidata Dataset Discovery v1.0\n",
        "          cdm_data_type: any\n",
        "          contact: email: lzheng@mail.usf.edu  Tel: 727-553-1639\n",
        "          institute: USF College of Marine Science\n",
        "          location: node\n",
        "          mesh: fvcom_mesh\n",
        "          naming_authority: SECOORA\n",
        "          reference: http://fvcom.smast.umassd.edu\n",
        "          source: FVCOM v2.7 with modification by L. Zheng\n",
        "          standard_name_vocabulary: http://www.cgd.ucar.edu/cms/eaton/cf-metadata/standard_name.html\n",
        "          summary: Nowcast Aggregation for USF FVCOM\n",
        "          title: USF FVCOM - Nowcast Aggregation\n",
        "          type: data\n"
       ]
      }
     ],
     "prompt_number": 11
    },
    {
     "cell_type": "code",
     "collapsed": false,
     "input": [],
     "language": "python",
     "metadata": {},
     "outputs": [],
     "prompt_number": 11
    }
   ],
   "metadata": {}
  }
 ]
}