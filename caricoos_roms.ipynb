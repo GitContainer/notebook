{
 "metadata": {
  "gist_id": "6f6d038e2f32a873ed20",
  "name": "",
  "signature": "sha256:53d2e00a59d2b5a31b67dfd2a7c34e64e6ac42ea5a1f9d7193dbbc30694a1807"
 },
 "nbformat": 3,
 "nbformat_minor": 0,
 "worksheets": [
  {
   "cells": [
    {
     "cell_type": "code",
     "collapsed": false,
     "input": [
      "import netCDF4"
     ],
     "language": "python",
     "metadata": {},
     "outputs": [],
     "prompt_number": 20
    },
    {
     "cell_type": "code",
     "collapsed": false,
     "input": [
      "root = 'http://dm2.caricoos.org/thredds/dodsC/roms/20131203/ocean_his_%4.4d.nc'"
     ],
     "language": "python",
     "metadata": {},
     "outputs": [],
     "prompt_number": 23
    },
    {
     "cell_type": "code",
     "collapsed": false,
     "input": [
      "files = [root % d for d in range(1,3)]\n",
      "nc = netCDF4.MFDataset(files)"
     ],
     "language": "python",
     "metadata": {},
     "outputs": [],
     "prompt_number": 27
    },
    {
     "cell_type": "code",
     "collapsed": false,
     "input": [
      "def start_stop(nc,tvar):\n",
      "    ncv = nc.variables\n",
      "    time_var = ncv[tvar]\n",
      "    first = netCDF4.num2date(time_var[0],time_var.units)\n",
      "    last = netCDF4.num2date(time_var[-1],time_var.units)\n",
      "\n",
      "    print first.strftime('%Y-%b-%d %H:%M')\n",
      "    print last.strftime('%Y-%b-%d %H:%M')"
     ],
     "language": "python",
     "metadata": {},
     "outputs": [],
     "prompt_number": 28
    },
    {
     "cell_type": "code",
     "collapsed": false,
     "input": [
      "tvar = 'ocean_time'\n",
      "start_stop(nc,tvar)"
     ],
     "language": "python",
     "metadata": {},
     "outputs": [
      {
       "output_type": "stream",
       "stream": "stdout",
       "text": [
        "1968-May-23 00:00\n",
        "1968-May-23 01:00\n"
       ]
      }
     ],
     "prompt_number": 29
    },
    {
     "cell_type": "code",
     "collapsed": false,
     "input": [],
     "language": "python",
     "metadata": {},
     "outputs": []
    }
   ],
   "metadata": {}
  }
 ]
}