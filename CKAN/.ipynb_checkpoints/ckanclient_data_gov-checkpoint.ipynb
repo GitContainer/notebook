{
 "metadata": {
  "name": "",
  "signature": "sha256:0d27c8daba218ce3926d5db7695ff091b72ffa9d0fd569e94dc78750c933b8be"
 },
 "nbformat": 3,
 "nbformat_minor": 0,
 "worksheets": [
  {
   "cells": [
    {
     "cell_type": "markdown",
     "metadata": {},
     "source": [
      "# Testing data.gov using the CKAN API"
     ]
    },
    {
     "cell_type": "markdown",
     "metadata": {},
     "source": [
      "We want to find all Data.gov datasets that match a specific criteria.  Here we try using the CKAN API with the  `ckanclient` package."
     ]
    },
    {
     "cell_type": "code",
     "collapsed": false,
     "input": [
      "import ckanclient"
     ],
     "language": "python",
     "metadata": {},
     "outputs": [],
     "prompt_number": 4
    },
    {
     "cell_type": "code",
     "collapsed": false,
     "input": [
      "ckan = ckanclient.CkanClient('http://catalog.data.gov/api/3')\n",
      "#ckan = ckanclient.CkanClient('https://data.noaa.gov/api/3')"
     ],
     "language": "python",
     "metadata": {},
     "outputs": [],
     "prompt_number": 5
    },
    {
     "cell_type": "code",
     "collapsed": false,
     "input": [
      "search_params = { \n",
      "    'fq': 'res_format:WMS',\n",
      "    'rows': 10 \n",
      "}\n",
      "      \n",
      "d = ckan.action('package_search', **search_params) \n",
      "print d['count']"
     ],
     "language": "python",
     "metadata": {},
     "outputs": [
      {
       "output_type": "stream",
       "stream": "stdout",
       "text": [
        "5019\n"
       ]
      }
     ],
     "prompt_number": 6
    },
    {
     "cell_type": "code",
     "collapsed": false,
     "input": [
      "for rec in d['results']:\n",
      "    print rec['title']"
     ],
     "language": "python",
     "metadata": {},
     "outputs": [
      {
       "output_type": "stream",
       "stream": "stdout",
       "text": [
        "National Park Boundaries\n",
        "Railroad Mileposts BNSF\n",
        "USGS National Elevation Dataset (NED)\n",
        "USGS US Topo Map Collection\n",
        "Syria_IDPSites_2015Apr16_HIU_USDoS\n",
        "New Mexico Mountain Ranges\n",
        "Airport Runways\n",
        "GPS Roads\n",
        "Bathymetry of Lake Superior\n",
        "2013 FEMA Firm Panels\n"
       ]
      }
     ],
     "prompt_number": 7
    },
    {
     "cell_type": "markdown",
     "metadata": {},
     "source": [
      "Find all WMS data matching additional query criteria"
     ]
    },
    {
     "cell_type": "code",
     "collapsed": false,
     "input": [
      "search_params = { \n",
      "    'q': 'mvco', \n",
      "    'fq': 'res_format:WMS',\n",
      "    'rows': 10 \n",
      "}\n",
      "      \n",
      "d = ckan.action('package_search', **search_params) \n",
      "print d['count']"
     ],
     "language": "python",
     "metadata": {},
     "outputs": [
      {
       "output_type": "stream",
       "stream": "stdout",
       "text": [
        "1\n"
       ]
      }
     ],
     "prompt_number": 8
    },
    {
     "cell_type": "markdown",
     "metadata": {},
     "source": [
      "So what does one of these results look like? Let's take a look at the keys"
     ]
    },
    {
     "cell_type": "code",
     "collapsed": false,
     "input": [
      "print d['results'][0].keys()"
     ],
     "language": "python",
     "metadata": {},
     "outputs": [
      {
       "output_type": "stream",
       "stream": "stdout",
       "text": [
        "[u'license_title', u'maintainer', u'relationships_as_object', u'private', u'maintainer_email', u'num_tags', u'id', u'metadata_created', u'metadata_modified', u'author', u'author_email', u'state', u'version', u'license_id', u'type', u'resources', u'num_resources', u'tags', u'tracking_summary', u'groups', u'organization', u'relationships_as_subject', u'revision_timestamp', u'name', u'isopen', u'url', u'notes', u'owner_org', u'extras', u'title', u'revision_id']\n"
       ]
      }
     ],
     "prompt_number": 9
    },
    {
     "cell_type": "markdown",
     "metadata": {},
     "source": [
      "Now let's see what the urls looks like for all the resources"
     ]
    },
    {
     "cell_type": "code",
     "collapsed": false,
     "input": [
      "pprint(d['results'][0]['resources'])"
     ],
     "language": "python",
     "metadata": {},
     "outputs": [
      {
       "output_type": "stream",
       "stream": "stdout",
       "text": [
        "Pretty printing has been turned OFF\n"
       ]
      }
     ],
     "prompt_number": 10
    },
    {
     "cell_type": "markdown",
     "metadata": {},
     "source": [
      "So there are multiple resources for each record.  Let's check out a some specific resource parameters for all datasets to see how the service endpoints might be defined:"
     ]
    },
    {
     "cell_type": "code",
     "collapsed": false,
     "input": [
      "urls=[]\n",
      "for item in d['results']:\n",
      "    for member in item['resources']:\n",
      "        print 'url:',member['url']\n",
      "        print 'resource_locator_protocol:',member['resource_locator_protocol']\n",
      "        print 'resource_type:',member['resource_type']\n",
      "        print 'format:',member['format'],'\\n'\n",
      "        if member['format'] == 'NetCDF' or member['resource_locator_protocol'] == 'THREDDS':\n",
      "            urls.append(member['url'])\n",
      "        "
     ],
     "language": "python",
     "metadata": {},
     "outputs": [
      {
       "output_type": "stream",
       "stream": "stdout",
       "text": [
        "url: http://pubs.usgs.gov/of/2008/1288/GIS_catalog/Bathy/bathy_2m.zip\n",
        "resource_locator_protocol: \n",
        "resource_type: None\n",
        "format: ZIP \n",
        "\n",
        "url: http://cmgds.marine.usgs.gov/geoserver/bathy/wms?service=WMS&version=1.1.0&request=GetMap&layers=bathy:2008-1288_bathy&styles=&bbox=-70.60143471462636,41.300607371198,-70.51082222580634,41.3499367012399&srs=EPSG:4326&WIDTH=256&HEIGHT=256&FORMAT=image/png\n",
        "resource_locator_protocol: \n",
        "resource_type: None\n",
        "format: WMS \n",
        "\n",
        "url: http://pubs.usgs.gov/of/2008/1288/GIS_catalog/Bathy/bathy_2m.zip\n",
        "resource_locator_protocol: \n",
        "resource_type: None\n",
        "format: ZIP \n",
        "\n",
        "url: http://pubs.usgs.gov/of/2008/1288/html/gis.html\n",
        "resource_locator_protocol: \n",
        "resource_type: None\n",
        "format: HTML \n",
        "\n",
        "url: http://pubs.usgs.gov/of/2008/1288/\n",
        "resource_locator_protocol: \n",
        "resource_type: None\n",
        "format:  \n",
        "\n"
       ]
      }
     ],
     "prompt_number": 11
    },
    {
     "cell_type": "markdown",
     "metadata": {},
     "source": [
      "Lots of missing metadata information.  "
     ]
    },
    {
     "cell_type": "code",
     "collapsed": false,
     "input": [
      "print(urls)"
     ],
     "language": "python",
     "metadata": {},
     "outputs": [
      {
       "output_type": "stream",
       "stream": "stdout",
       "text": [
        "[]\n"
       ]
      }
     ],
     "prompt_number": 12
    },
    {
     "cell_type": "markdown",
     "metadata": {},
     "source": [
      "Hmmm... None of above URLs work. The THREDDS catalog exists, but none of the datasets here are in that catalog  <http://ecowatch.ncddc.noaa.gov/thredds/catalog/ocean_exploration_research/catalog.html> "
     ]
    },
    {
     "cell_type": "code",
     "collapsed": false,
     "input": [],
     "language": "python",
     "metadata": {},
     "outputs": [],
     "prompt_number": 12
    },
    {
     "cell_type": "markdown",
     "metadata": {},
     "source": [
      "Let's back off and see what the broader search yields:"
     ]
    },
    {
     "cell_type": "code",
     "collapsed": false,
     "input": [
      "search_params = { 'q': 'tags:\"temperature\"',\n",
      "     'extras': {\"ext_bbox\":\"-60,60,-50,70\"}\n",
      "} \n",
      "d = ckan.action('package_search', **search_params) \n",
      "print d['count']"
     ],
     "language": "python",
     "metadata": {},
     "outputs": [
      {
       "output_type": "stream",
       "stream": "stdout",
       "text": [
        "14\n"
       ]
      }
     ],
     "prompt_number": 14
    },
    {
     "cell_type": "code",
     "collapsed": false,
     "input": [
      "urls=[]\n",
      "for item in d['results']:\n",
      "    for member in item['resources']:\n",
      "        print 'url:',member['url']\n",
      "        print 'resource_locator_protocol:',member['resource_locator_protocol']\n",
      "        print 'resource_type:',member['resource_type']\n",
      "        print 'format:',member['format'],'\\n'\n",
      "        if member['format'] == 'NetCDF' or member['resource_locator_protocol'] == 'THREDDS':\n",
      "            urls.append(member['url'])\n",
      "        "
     ],
     "language": "python",
     "metadata": {},
     "outputs": [
      {
       "output_type": "stream",
       "stream": "stdout",
       "text": [
        "url: http://hurricane.ncdc.noaa.gov/pls/paleox/f?p=518:1:3874104498420267:::APP:PROXYTOSEARCH:16:\n",
        "resource_locator_protocol: HTTP\n",
        "resource_type: None\n",
        "format: ascii \n",
        "\n",
        "url: http://gis.ncdc.noaa.gov/map/viewer/#app=cdo&cfg=paleo&theme=paleo&node=gis\n",
        "resource_locator_protocol: HTTP\n",
        "resource_type: None\n",
        "format: KML \n",
        "\n",
        "url: http://www.ncdc.noaa.gov/paleo/pollen.html\n",
        "resource_locator_protocol: HTTP\n",
        "resource_type: None\n",
        "format: HTML \n",
        "\n",
        "url: http://hurricane.ncdc.noaa.gov/pls/paleox/f?p=519:1:::::P1_STUDY_ID:13988\n",
        "resource_locator_protocol: HTTP\n",
        "resource_type: None\n",
        "format:  \n",
        "\n",
        "url: http://gcmd.nasa.gov/Resources/valids/archives/keyword_list.html\n",
        "resource_locator_protocol: HTTP\n",
        "resource_type: None\n",
        "format: HTML \n",
        "\n",
        "url: http://hurricane.ncdc.noaa.gov/pls/paleox/f?p=518:1:3874104498420267:::APP:PROXYTOSEARCH:18:\n",
        "resource_locator_protocol: HTTP\n",
        "resource_type: None\n",
        "format: ascii \n",
        "\n",
        "url: http://gis.ncdc.noaa.gov/map/viewer/#app=cdo&cfg=paleo&theme=paleo&node=gis\n",
        "resource_locator_protocol: HTTP\n",
        "resource_type: None\n",
        "format: KML \n",
        "\n",
        "url: http://www.ncdc.noaa.gov/paleo/treering.html\n",
        "resource_locator_protocol: HTTP\n",
        "resource_type: None\n",
        "format: HTML \n",
        "\n",
        "url: http://hurricane.ncdc.noaa.gov/pls/paleox/f?p=519:1:::::P1_STUDY_ID:13831\n",
        "resource_locator_protocol: HTTP\n",
        "resource_type: None\n",
        "format:  \n",
        "\n",
        "url: http://gcmd.nasa.gov/Resources/valids/archives/keyword_list.html\n",
        "resource_locator_protocol: HTTP\n",
        "resource_type: None\n",
        "format: HTML \n",
        "\n",
        "url: http://spidr.ngdc.noaa.gov/spidr/querydmsp.do\n",
        "resource_locator_protocol: http\n",
        "resource_type: None\n",
        "format:  \n",
        "\n",
        "url: http://www.ngdc.noaa.gov/stp/spaceweather.html\n",
        "resource_locator_protocol: http\n",
        "resource_type: None\n",
        "format: HTML \n",
        "\n",
        "url: http://spidr.ngdc.noaa.gov/spidr/querydmsp.do\n",
        "resource_locator_protocol: \n",
        "resource_type: None\n",
        "format:  \n",
        "\n",
        "url: http://www.ngdc.noaa.gov/stp/spaceweather.html\n",
        "resource_locator_protocol: \n",
        "resource_type: None\n",
        "format: HTML \n",
        "\n",
        "url: http://www.ngdc.noaa.gov/stp/spaceweather.html\n",
        "resource_locator_protocol: http\n",
        "resource_type: None\n",
        "format: HTML \n",
        "\n",
        "url: http://spidr.ngdc.noaa.gov/spidr/querydmsp.do\n",
        "resource_locator_protocol: http\n",
        "resource_type: None\n",
        "format:  \n",
        "\n",
        "url: http://tidesandcurrents.noaa.gov/stations.html?type=Water+Levels\n",
        "resource_locator_protocol: \n",
        "resource_type: None\n",
        "format: ascii \n",
        "\n",
        "url: http://opendap.co-ops.nos.noaa.gov/ioos-dif-sos/\n",
        "resource_locator_protocol: \n",
        "resource_type: None\n",
        "format: ascii \n",
        "\n",
        "url: http://opendap.co-ops.nos.noaa.gov/axis/\n",
        "resource_locator_protocol: \n",
        "resource_type: None\n",
        "format: ascii \n",
        "\n",
        "url: http://tidesandcurrents.noaa.gov/stations.html?type=Water+Levels\n",
        "resource_locator_protocol: \n",
        "resource_type: None\n",
        "format: ascii \n",
        "\n",
        "url: http://hurricane.ncdc.noaa.gov/pls/paleox/f?p=518:1::::APP:PROXYTOSEARCH:7:\n",
        "resource_locator_protocol: HTTP\n",
        "resource_type: None\n",
        "format: ascii \n",
        "\n",
        "url: http://gis.ncdc.noaa.gov/map/viewer/#app=cdo&cfg=paleo&theme=paleo&node=gis\n",
        "resource_locator_protocol: HTTP\n",
        "resource_type: None\n",
        "format: KML \n",
        "\n",
        "url: http://www.ncdc.noaa.gov/paleo/icecore.html\n",
        "resource_locator_protocol: HTTP\n",
        "resource_type: None\n",
        "format: HTML \n",
        "\n",
        "url: http://hurricane.ncdc.noaa.gov/pls/paleox/f?p=519:1:::::P1_STUDY_ID:13943\n",
        "resource_locator_protocol: HTTP\n",
        "resource_type: None\n",
        "format:  \n",
        "\n",
        "url: http://gcmd.nasa.gov/Resources/valids/archives/keyword_list.html\n",
        "resource_locator_protocol: HTTP\n",
        "resource_type: None\n",
        "format: HTML \n",
        "\n",
        "url: http://www.pifsc.noaa.gov\n",
        "resource_locator_protocol: WWW:LINK-1.0-http--link\n",
        "resource_type: None\n",
        "format:  \n",
        "\n",
        "url: http://www.pifsc.noaa.gov\n",
        "resource_locator_protocol: WWW:LINK-1.0-http--link\n",
        "resource_type: None\n",
        "format:  \n",
        "\n",
        "url: http://gcmd.nasa.gov/learn/keyword_list.html\n",
        "resource_locator_protocol: WWW:LINK-1.0-http--link\n",
        "resource_type: None\n",
        "format: HTML \n",
        "\n",
        "url: ftp://ftp.cpc.ncep.noaa.gov/wd53rl/ssu/\n",
        "resource_locator_protocol: \n",
        "resource_type: None\n",
        "format:  \n",
        "\n",
        "url: ftp://ftp.cpc.ncep.noaa.gov/wd53rl/ssu/\n",
        "resource_locator_protocol: \n",
        "resource_type: None\n",
        "format:  \n",
        "\n",
        "url: http://www.ngdc.noaa.gov/ecosys/cdroms/Pathfinder98/pathfind.htm\n",
        "resource_locator_protocol: \n",
        "resource_type: None\n",
        "format: HTML \n",
        "\n",
        "url: http://www.ngdc.noaa.gov/ecosys/cdroms/Pathfinder98/pathfind.htm\n",
        "resource_locator_protocol: http\n",
        "resource_type: None\n",
        "format: HTML \n",
        "\n",
        "url: http://hurricane.ncdc.noaa.gov/pls/paleox/f?p=514\n",
        "resource_locator_protocol: HTTP\n",
        "resource_type: None\n",
        "format: ascii \n",
        "\n",
        "url: http://gis.ncdc.noaa.gov/map/viewer/#app=cdo&cfg=paleo&theme=paleo&node=gis\n",
        "resource_locator_protocol: HTTP\n",
        "resource_type: None\n",
        "format: KML \n",
        "\n",
        "url: http://www.ncdc.noaa.gov/paleo/recons.html\n",
        "resource_locator_protocol: HTTP\n",
        "resource_type: None\n",
        "format: HTML \n",
        "\n",
        "url: http://hurricane.ncdc.noaa.gov/pls/paleox/f?p=519:1:::::P1_STUDY_ID:13925\n",
        "resource_locator_protocol: HTTP\n",
        "resource_type: None\n",
        "format:  \n",
        "\n",
        "url: http://gcmd.nasa.gov/Resources/valids/archives/keyword_list.html\n",
        "resource_locator_protocol: HTTP\n",
        "resource_type: None\n",
        "format: HTML \n",
        "\n",
        "url: http://spidr.ngdc.noaa.gov\n",
        "resource_locator_protocol: \n",
        "resource_type: None\n",
        "format:  \n",
        "\n",
        "url: http://spidr.ngdc.noaa.gov\n",
        "resource_locator_protocol: \n",
        "resource_type: None\n",
        "format:  \n",
        "\n",
        "url: http://www.ngdc.noaa.gov/dmsp/sensors/ssmi.html\n",
        "resource_locator_protocol: http\n",
        "resource_type: None\n",
        "format: HTML \n",
        "\n"
       ]
      }
     ],
     "prompt_number": 15
    }
   ],
   "metadata": {}
  }
 ]
}