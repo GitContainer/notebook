{
 "cells": [
  {
   "cell_type": "markdown",
   "metadata": {},
   "source": [
    "# Read WFS data from USGS ScienceBase into Shapely/Cartopy"
   ]
  },
  {
   "cell_type": "code",
   "execution_count": 1,
   "metadata": {
    "collapsed": false
   },
   "outputs": [],
   "source": [
    "import numpy as np\n",
    "import matplotlib.pyplot as plt\n",
    "import geojson\n",
    "from owslib.wfs import WebFeatureService\n",
    "from shapely.geometry import Polygon, mapping, asShape, shape\n",
    "import cartopy.crs as ccrs\n",
    "from cartopy.io.img_tiles import MapQuestOpenAerial, MapQuestOSM, OSM\n",
    "%matplotlib inline"
   ]
  },
  {
   "cell_type": "code",
   "execution_count": 2,
   "metadata": {
    "collapsed": false
   },
   "outputs": [],
   "source": [
    "# Read shapefile data from USGS ScienceBase WFS 1.1 service in JSON format\n",
    "# (shapefile was previosly uploaded to ScienceBase, creating the WFS service)"
   ]
  },
  {
   "cell_type": "code",
   "execution_count": 3,
   "metadata": {
    "collapsed": false
   },
   "outputs": [],
   "source": [
    "# getCapabilities\n",
    "#https://www.sciencebase.gov/catalogMaps/mapping/ows/5342c54be4b0aa151574a8dc?service=wfs&version=1.0.0&request=GetCapabilities\n",
    "# containes LatLongBoundingBox for each feature"
   ]
  },
  {
   "cell_type": "code",
   "execution_count": 4,
   "metadata": {
    "collapsed": false
   },
   "outputs": [
    {
     "name": "stdout",
     "output_type": "stream",
     "text": [
      "1.1.0\n"
     ]
    }
   ],
   "source": [
    "# some USGS ScienceBase Geoserver WFS endpoints:\n",
    "#endpoint='https://www.sciencebase.gov/catalogMaps/mapping/ows/5342c54be4b0aa151574a8dc'\n",
    "endpoint='https://www.sciencebase.gov/catalogMaps/mapping/ows/5342c5fce4b0aa151574a8ed'\n",
    "#endpoint='https://www.sciencebase.gov/catalogMaps/mapping/ows/5342e124e4b0aa151574a969'\n",
    "wfs = WebFeatureService(endpoint, version='1.1.0')\n",
    "print wfs.version"
   ]
  },
  {
   "cell_type": "code",
   "execution_count": 5,
   "metadata": {
    "collapsed": false
   },
   "outputs": [
    {
     "name": "stdout",
     "output_type": "stream",
     "text": [
      "['sb:footprint', 'sb:Conservation_Zone_WGS84']\n"
     ]
    }
   ],
   "source": [
    "shp = wfs.contents.keys()\n",
    "print shp"
   ]
  },
  {
   "cell_type": "code",
   "execution_count": 6,
   "metadata": {
    "collapsed": false
   },
   "outputs": [],
   "source": [
    "a = wfs.contents['sb:footprint']\n",
    "b = a.boundingBoxWGS84"
   ]
  },
  {
   "cell_type": "code",
   "execution_count": 7,
   "metadata": {
    "collapsed": false
   },
   "outputs": [
    {
     "name": "stdout",
     "output_type": "stream",
     "text": [
      "['sb:Conservation_Zone_WGS84']\n"
     ]
    }
   ],
   "source": [
    "shp = filter(lambda a: a != 'sb:footprint', shp)\n",
    "print shp"
   ]
  },
  {
   "cell_type": "code",
   "execution_count": 8,
   "metadata": {
    "collapsed": false
   },
   "outputs": [],
   "source": [
    "def flip_geojson_coordinates(geo):\n",
    "    if isinstance(geo, dict):\n",
    "        for k, v in geo.iteritems():\n",
    "            if k == \"coordinates\":\n",
    "                z = np.asarray(geo[k])\n",
    "                f = z.flatten()\n",
    "                geo[k] = np.dstack((f[1::2], f[::2])).reshape(z.shape).tolist()\n",
    "            else:\n",
    "                flip_geojson_coordinates(v)\n",
    "    elif isinstance(geo, list):\n",
    "        for k in geo:\n",
    "            flip_geojson_coordinates(k)"
   ]
  },
  {
   "cell_type": "code",
   "execution_count": 9,
   "metadata": {
    "collapsed": false
   },
   "outputs": [],
   "source": [
    "#srs='EPSG:4326' # v1.0 syntax\n",
    "srs='urn:x-ogc:def:crs:EPSG:4326'  # v1.1 syntax\n",
    "json_response = wfs.getfeature(typename=[shp[0]], propertyname=None, srsname=srs, outputFormat='application/json').read()\n",
    "geo = geojson.loads(json_response)\n",
    "flip_geojson_coordinates(geo)"
   ]
  },
  {
   "cell_type": "code",
   "execution_count": 10,
   "metadata": {
    "collapsed": false
   },
   "outputs": [
    {
     "name": "stdout",
     "output_type": "stream",
     "text": [
      "['crs', 'type', 'features']\n"
     ]
    }
   ],
   "source": [
    "print geo.keys()"
   ]
  },
  {
   "cell_type": "code",
   "execution_count": 11,
   "metadata": {
    "collapsed": false
   },
   "outputs": [
    {
     "name": "stdout",
     "output_type": "stream",
     "text": [
      "FeatureCollection\n"
     ]
    }
   ],
   "source": [
    "print geo['type']"
   ]
  },
  {
   "cell_type": "code",
   "execution_count": 1,
   "metadata": {
    "collapsed": false
   },
   "outputs": [
    {
     "ename": "NameError",
     "evalue": "name 'ccrs' is not defined",
     "output_type": "error",
     "traceback": [
      "\u001b[1;31m---------------------------------------------------------------------------\u001b[0m\n\u001b[1;31mNameError\u001b[0m                                 Traceback (most recent call last)",
      "\u001b[1;32m<ipython-input-1-c07fc6f97ca2>\u001b[0m in \u001b[0;36m<module>\u001b[1;34m()\u001b[0m\n\u001b[1;32m----> 1\u001b[1;33m \u001b[0mgeodetic\u001b[0m \u001b[1;33m=\u001b[0m \u001b[0mccrs\u001b[0m\u001b[1;33m.\u001b[0m\u001b[0mGeodetic\u001b[0m\u001b[1;33m(\u001b[0m\u001b[0mglobe\u001b[0m\u001b[1;33m=\u001b[0m\u001b[0mccrs\u001b[0m\u001b[1;33m.\u001b[0m\u001b[0mGlobe\u001b[0m\u001b[1;33m(\u001b[0m\u001b[0mdatum\u001b[0m\u001b[1;33m=\u001b[0m\u001b[1;34m'WGS84'\u001b[0m\u001b[1;33m)\u001b[0m\u001b[1;33m)\u001b[0m\u001b[1;33m\u001b[0m\u001b[0m\n\u001b[0m\u001b[0;32m      2\u001b[0m \u001b[1;33m\u001b[0m\u001b[0m\n\u001b[0;32m      3\u001b[0m \u001b[0mplt\u001b[0m\u001b[1;33m.\u001b[0m\u001b[0mfigure\u001b[0m\u001b[1;33m(\u001b[0m\u001b[0mfigsize\u001b[0m\u001b[1;33m=\u001b[0m\u001b[1;33m(\u001b[0m\u001b[1;36m12\u001b[0m\u001b[1;33m,\u001b[0m\u001b[1;36m12\u001b[0m\u001b[1;33m)\u001b[0m\u001b[1;33m)\u001b[0m\u001b[1;33m\u001b[0m\u001b[0m\n\u001b[0;32m      4\u001b[0m \u001b[1;31m# Open Source Imagery from MapQuest (max zoom = 16?)\u001b[0m\u001b[1;33m\u001b[0m\u001b[1;33m\u001b[0m\u001b[0m\n\u001b[0;32m      5\u001b[0m \u001b[0mtiler\u001b[0m \u001b[1;33m=\u001b[0m \u001b[0mMapQuestOpenAerial\u001b[0m\u001b[1;33m(\u001b[0m\u001b[1;33m)\u001b[0m\u001b[1;33m\u001b[0m\u001b[0m\n",
      "\u001b[1;31mNameError\u001b[0m: name 'ccrs' is not defined"
     ]
    }
   ],
   "source": [
    "geodetic = ccrs.Geodetic(globe=ccrs.Globe(datum='WGS84'))\n",
    "\n",
    "plt.figure(figsize=(12,12))\n",
    "# Open Source Imagery from MapQuest (max zoom = 16?)\n",
    "tiler = MapQuestOpenAerial()\n",
    "# Open Street Map (max zoom = 18?)\n",
    "#tiler = OSM()\n",
    "ax = plt.axes(projection=tiler.crs)\n",
    "dx=b[2]-b[0]\n",
    "dy=b[3]-b[1]\n",
    "extent = (b[0]-0.1*dx,b[2]+0.1*dx,b[1]-0.1*dy,b[3]+0.1*dy)\n",
    "ax.set_extent(extent, geodetic)\n",
    "ax.add_image(tiler, 14)\n",
    "#ax.add_geometries([polygon],ccrs.PlateCarree(),\n",
    "#                          facecolor=BLUE, edgecolor=GRAY,alpha=0.5)\n",
    "for p in geo.get(\"features\", []):\n",
    "    multi_poly = asShape(p.get(\"geometry\"))\n",
    "    print 'bounds from Shapely: ',multi_poly.bounds\n",
    "#    name=p['properties']['NAME']\n",
    "#    print name\n",
    "    ax.add_geometries(multi_poly,ccrs.PlateCarree(),\n",
    "                edgecolor='black',facecolor='none',hatch='/')\n",
    "#title(name)\n",
    "    \n",
    "gl=ax.gridlines(draw_labels=True)\n",
    "gl.xlabels_top = False\n",
    "gl.ylabels_right = False\n",
    "#ax.add_feature(coast_10m,edgecolor='black')\n",
    "#ax.coastlines()"
   ]
  },
  {
   "cell_type": "code",
   "execution_count": null,
   "metadata": {
    "collapsed": false
   },
   "outputs": [],
   "source": []
  }
 ],
 "metadata": {
  "kernelspec": {
   "display_name": "Python 2",
   "language": "python",
   "name": "python2"
  },
  "language_info": {
   "codemirror_mode": {
    "name": "ipython",
    "version": 2
   },
   "file_extension": ".py",
   "mimetype": "text/x-python",
   "name": "python",
   "nbconvert_exporter": "python",
   "pygments_lexer": "ipython2",
   "version": "2.7.11"
  },
  "widgets": {
   "state": {},
   "version": "1.1.2"
  }
 },
 "nbformat": 4,
 "nbformat_minor": 0
}
