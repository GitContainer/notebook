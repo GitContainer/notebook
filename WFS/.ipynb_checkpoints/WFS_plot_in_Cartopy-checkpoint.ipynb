{
 "metadata": {
  "name": "",
  "signature": "sha256:943172043c8c17f9ab57aecfa41d646392ea77b1eda806d3aeb7357a85b20f8e"
 },
 "nbformat": 3,
 "nbformat_minor": 0,
 "worksheets": [
  {
   "cells": [
    {
     "cell_type": "markdown",
     "metadata": {},
     "source": [
      "# Read WFS data from USGS ScienceBase into Shapely/Cartopy"
     ]
    },
    {
     "cell_type": "code",
     "collapsed": false,
     "input": [
      "import numpy as np\n",
      "import matplotlib.pyplot as plt\n",
      "import geojson\n",
      "from owslib.wfs import WebFeatureService\n",
      "from shapely.geometry import Polygon, mapping, asShape, shape\n",
      "import cartopy.crs as ccrs\n",
      "from cartopy.io.img_tiles import MapQuestOpenAerial, MapQuestOSM, OSM\n",
      "%matplotlib inline"
     ],
     "language": "python",
     "metadata": {},
     "outputs": [],
     "prompt_number": 1
    },
    {
     "cell_type": "code",
     "collapsed": false,
     "input": [
      "# Read shapefile data from USGS ScienceBase WFS 1.1 service in JSON format\n",
      "# (shapefile was previosly uploaded to ScienceBase, creating the WFS service)"
     ],
     "language": "python",
     "metadata": {},
     "outputs": [],
     "prompt_number": 2
    },
    {
     "cell_type": "code",
     "collapsed": false,
     "input": [
      "# getCapabilities\n",
      "#https://www.sciencebase.gov/catalogMaps/mapping/ows/5342c54be4b0aa151574a8dc?service=wfs&version=1.0.0&request=GetCapabilities\n",
      "# containes LatLongBoundingBox for each feature"
     ],
     "language": "python",
     "metadata": {},
     "outputs": [],
     "prompt_number": 3
    },
    {
     "cell_type": "code",
     "collapsed": false,
     "input": [
      "# some USGS ScienceBase Geoserver WFS endpoints:\n",
      "#endpoint='https://www.sciencebase.gov/catalogMaps/mapping/ows/5342c54be4b0aa151574a8dc'\n",
      "endpoint='https://www.sciencebase.gov/catalogMaps/mapping/ows/5342c5fce4b0aa151574a8ed'\n",
      "#endpoint='https://www.sciencebase.gov/catalogMaps/mapping/ows/5342e124e4b0aa151574a969'\n",
      "wfs = WebFeatureService(endpoint, version='1.1.0')\n",
      "print wfs.version"
     ],
     "language": "python",
     "metadata": {},
     "outputs": [
      {
       "output_type": "stream",
       "stream": "stdout",
       "text": [
        "1.1.0\n"
       ]
      }
     ],
     "prompt_number": 4
    },
    {
     "cell_type": "code",
     "collapsed": false,
     "input": [
      "shp = wfs.contents.keys()\n",
      "print shp"
     ],
     "language": "python",
     "metadata": {},
     "outputs": [
      {
       "output_type": "stream",
       "stream": "stdout",
       "text": [
        "['sb:footprint', 'sb:Conservation_Zone_WGS84']\n"
       ]
      }
     ],
     "prompt_number": 5
    },
    {
     "cell_type": "code",
     "collapsed": false,
     "input": [
      "a = wfs.contents['sb:footprint']\n",
      "b = a.boundingBoxWGS84"
     ],
     "language": "python",
     "metadata": {},
     "outputs": [],
     "prompt_number": 6
    },
    {
     "cell_type": "code",
     "collapsed": false,
     "input": [
      "shp = filter(lambda a: a != 'sb:footprint', shp)\n",
      "print shp"
     ],
     "language": "python",
     "metadata": {},
     "outputs": [
      {
       "output_type": "stream",
       "stream": "stdout",
       "text": [
        "['sb:Conservation_Zone_WGS84']\n"
       ]
      }
     ],
     "prompt_number": 7
    },
    {
     "cell_type": "code",
     "collapsed": false,
     "input": [
      "def flip_geojson_coordinates(geo):\n",
      "    if isinstance(geo, dict):\n",
      "        for k, v in geo.iteritems():\n",
      "            if k == \"coordinates\":\n",
      "                z = np.asarray(geo[k])\n",
      "                f = z.flatten()\n",
      "                geo[k] = np.dstack((f[1::2], f[::2])).reshape(z.shape).tolist()\n",
      "            else:\n",
      "                flip_geojson_coordinates(v)\n",
      "    elif isinstance(geo, list):\n",
      "        for k in geo:\n",
      "            flip_geojson_coordinates(k)"
     ],
     "language": "python",
     "metadata": {},
     "outputs": [],
     "prompt_number": 8
    },
    {
     "cell_type": "code",
     "collapsed": false,
     "input": [
      "#srs='EPSG:4326' # v1.0 syntax\n",
      "srs='urn:x-ogc:def:crs:EPSG:4326'  # v1.1 syntax\n",
      "json_response = wfs.getfeature(typename=[shp[0]], propertyname=None, srsname=srs, outputFormat='application/json').read()\n",
      "geo = geojson.loads(json_response)\n",
      "flip_geojson_coordinates(geo)"
     ],
     "language": "python",
     "metadata": {},
     "outputs": [],
     "prompt_number": 9
    },
    {
     "cell_type": "code",
     "collapsed": false,
     "input": [
      "print geo.keys()"
     ],
     "language": "python",
     "metadata": {},
     "outputs": [
      {
       "output_type": "stream",
       "stream": "stdout",
       "text": [
        "['crs', 'type', 'features']\n"
       ]
      }
     ],
     "prompt_number": 10
    },
    {
     "cell_type": "code",
     "collapsed": false,
     "input": [
      "print geo['type']"
     ],
     "language": "python",
     "metadata": {},
     "outputs": [
      {
       "output_type": "stream",
       "stream": "stdout",
       "text": [
        "FeatureCollection\n"
       ]
      }
     ],
     "prompt_number": 11
    },
    {
     "cell_type": "code",
     "collapsed": false,
     "input": [
      "geodetic = ccrs.Geodetic(globe=ccrs.Globe(datum='WGS84'))\n",
      "\n",
      "plt.figure(figsize=(12,12))\n",
      "# Open Source Imagery from MapQuest (max zoom = 16?)\n",
      "tiler = MapQuestOpenAerial()\n",
      "# Open Street Map (max zoom = 18?)\n",
      "#tiler = OSM()\n",
      "ax = plt.axes(projection=tiler.crs)\n",
      "dx=b[2]-b[0]\n",
      "dy=b[3]-b[1]\n",
      "extent = (b[0]-0.1*dx,b[2]+0.1*dx,b[1]-0.1*dy,b[3]+0.1*dy)\n",
      "ax.set_extent(extent, geodetic)\n",
      "ax.add_image(tiler, 14)\n",
      "#ax.add_geometries([polygon],ccrs.PlateCarree(),\n",
      "#                          facecolor=BLUE, edgecolor=GRAY,alpha=0.5)\n",
      "for p in geo.get(\"features\", []):\n",
      "    multi_poly = asShape(p.get(\"geometry\"))\n",
      "    print 'bounds from Shapely: ',multi_poly.bounds\n",
      "#    name=p['properties']['NAME']\n",
      "#    print name\n",
      "    ax.add_geometries(multi_poly,ccrs.PlateCarree(),\n",
      "                edgecolor='black',facecolor='none',hatch='/')\n",
      "#title(name)\n",
      "    \n",
      "gl=ax.gridlines(draw_labels=True)\n",
      "gl.xlabels_top = False\n",
      "gl.ylabels_right = False\n",
      "#ax.add_feature(coast_10m,edgecolor='black')\n",
      "#ax.coastlines()"
     ],
     "language": "python",
     "metadata": {},
     "outputs": [
      {
       "ename": "NameError",
       "evalue": "name 'ccrs' is not defined",
       "output_type": "pyerr",
       "traceback": [
        "\u001b[1;31m---------------------------------------------------------------------------\u001b[0m\n\u001b[1;31mNameError\u001b[0m                                 Traceback (most recent call last)",
        "\u001b[1;32m<ipython-input-1-c07fc6f97ca2>\u001b[0m in \u001b[0;36m<module>\u001b[1;34m()\u001b[0m\n\u001b[1;32m----> 1\u001b[1;33m \u001b[0mgeodetic\u001b[0m \u001b[1;33m=\u001b[0m \u001b[0mccrs\u001b[0m\u001b[1;33m.\u001b[0m\u001b[0mGeodetic\u001b[0m\u001b[1;33m(\u001b[0m\u001b[0mglobe\u001b[0m\u001b[1;33m=\u001b[0m\u001b[0mccrs\u001b[0m\u001b[1;33m.\u001b[0m\u001b[0mGlobe\u001b[0m\u001b[1;33m(\u001b[0m\u001b[0mdatum\u001b[0m\u001b[1;33m=\u001b[0m\u001b[1;34m'WGS84'\u001b[0m\u001b[1;33m)\u001b[0m\u001b[1;33m)\u001b[0m\u001b[1;33m\u001b[0m\u001b[0m\n\u001b[0m\u001b[0;32m      2\u001b[0m \u001b[1;33m\u001b[0m\u001b[0m\n\u001b[0;32m      3\u001b[0m \u001b[0mplt\u001b[0m\u001b[1;33m.\u001b[0m\u001b[0mfigure\u001b[0m\u001b[1;33m(\u001b[0m\u001b[0mfigsize\u001b[0m\u001b[1;33m=\u001b[0m\u001b[1;33m(\u001b[0m\u001b[1;36m12\u001b[0m\u001b[1;33m,\u001b[0m\u001b[1;36m12\u001b[0m\u001b[1;33m)\u001b[0m\u001b[1;33m)\u001b[0m\u001b[1;33m\u001b[0m\u001b[0m\n\u001b[0;32m      4\u001b[0m \u001b[1;31m# Open Source Imagery from MapQuest (max zoom = 16?)\u001b[0m\u001b[1;33m\u001b[0m\u001b[1;33m\u001b[0m\u001b[0m\n\u001b[0;32m      5\u001b[0m \u001b[0mtiler\u001b[0m \u001b[1;33m=\u001b[0m \u001b[0mMapQuestOpenAerial\u001b[0m\u001b[1;33m(\u001b[0m\u001b[1;33m)\u001b[0m\u001b[1;33m\u001b[0m\u001b[0m\n",
        "\u001b[1;31mNameError\u001b[0m: name 'ccrs' is not defined"
       ]
      }
     ],
     "prompt_number": 1
    },
    {
     "cell_type": "code",
     "collapsed": false,
     "input": [],
     "language": "python",
     "metadata": {},
     "outputs": []
    }
   ],
   "metadata": {}
  }
 ]
}