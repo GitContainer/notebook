{
 "metadata": {
  "name": "",
  "signature": "sha256:a2f59eb5594523dc309d8c09da9d8923241c2f8c50c0f30167311fdc7a26cef2"
 },
 "nbformat": 3,
 "nbformat_minor": 0,
 "worksheets": [
  {
   "cells": [
    {
     "cell_type": "markdown",
     "metadata": {},
     "source": [
      "# Testing data.noaa.gov using the CKAN API"
     ]
    },
    {
     "cell_type": "markdown",
     "metadata": {},
     "source": [
      "We want to find all Data.gov datasets that match a specific type of data (e.g. `sea_water_temperature`), in a specified geospatial extent and time window, and that have a specific type of data endpoint (e.g. OPeNDAP).  Since data.gov uses CKAN, while waiting for a CSW interface, here we try using the CKAN API with the  `ckanclient` package."
     ]
    },
    {
     "cell_type": "code",
     "collapsed": false,
     "input": [
      "import ckanclient\n",
      "import pandas as pd\n",
      "from pprint import pprint"
     ],
     "language": "python",
     "metadata": {},
     "outputs": [
      {
       "ename": "ImportError",
       "evalue": "No module named ckanclient",
       "output_type": "pyerr",
       "traceback": [
        "\u001b[1;31m---------------------------------------------------------------------------\u001b[0m\n\u001b[1;31mImportError\u001b[0m                               Traceback (most recent call last)",
        "\u001b[1;32m<ipython-input-1-bb21a1f94584>\u001b[0m in \u001b[0;36m<module>\u001b[1;34m()\u001b[0m\n\u001b[1;32m----> 1\u001b[1;33m \u001b[1;32mimport\u001b[0m \u001b[0mckanclient\u001b[0m\u001b[1;33m\u001b[0m\u001b[0m\n\u001b[0m\u001b[0;32m      2\u001b[0m \u001b[1;32mimport\u001b[0m \u001b[0mpandas\u001b[0m \u001b[1;32mas\u001b[0m \u001b[0mpd\u001b[0m\u001b[1;33m\u001b[0m\u001b[0m\n\u001b[0;32m      3\u001b[0m \u001b[1;32mfrom\u001b[0m \u001b[0mpprint\u001b[0m \u001b[1;32mimport\u001b[0m \u001b[0mpprint\u001b[0m\u001b[1;33m\u001b[0m\u001b[0m\n",
        "\u001b[1;31mImportError\u001b[0m: No module named ckanclient"
       ]
      }
     ],
     "prompt_number": 1
    },
    {
     "cell_type": "code",
     "collapsed": false,
     "input": [
      "#ckan = ckanclient.CkanClient('http://catalog.data.gov/api/3')\n",
      "ckan = ckanclient.CkanClient('https://data.noaa.gov/api/3')"
     ],
     "language": "python",
     "metadata": {},
     "outputs": [],
     "prompt_number": 2
    },
    {
     "cell_type": "markdown",
     "metadata": {},
     "source": [
      "Try a keyword search: "
     ]
    },
    {
     "cell_type": "code",
     "collapsed": false,
     "input": [
      "search_params = { 'q': 'tags:\"sea_water_temperature\" '}\n",
      "d = ckan.action('package_search', **search_params) \n",
      "print d['count']"
     ],
     "language": "python",
     "metadata": {},
     "outputs": [
      {
       "output_type": "stream",
       "stream": "stdout",
       "text": [
        "62\n"
       ]
      }
     ],
     "prompt_number": 3
    },
    {
     "cell_type": "markdown",
     "metadata": {},
     "source": [
      "Let's try a more complicated search:\n"
     ]
    },
    {
     "cell_type": "code",
     "collapsed": false,
     "input": [
      "search_params = {                                           \n",
      "    'q': 'tags:\"sea_water_temperature\" AND metadata_modified:[2012-06-01T00:00:00.000Z TO NOW]',  \n",
      "    'fq': 'res_format:HTML',                                \n",
      "    'extras': {\"ext_bbox\":\"-71.5,41.,-63,46.0\"},                   \n",
      "    'rows': 3                                                     \n",
      "}\n",
      "d = ckan.action('package_search', **search_params) \n",
      "print d['count']"
     ],
     "language": "python",
     "metadata": {},
     "outputs": [
      {
       "output_type": "stream",
       "stream": "stdout",
       "text": [
        "7\n"
       ]
      }
     ],
     "prompt_number": 4
    },
    {
     "cell_type": "markdown",
     "metadata": {},
     "source": [
      "Try to find Bodega data through a restricted bounding box:"
     ]
    },
    {
     "cell_type": "code",
     "collapsed": false,
     "input": [
      "search_params = {  \n",
      "    'q': 'tags:\"sea_water_temperature\"', \n",
      "    'extras': {\"ext_bbox\":\"-125,38,-122,39\"},\n",
      "    'rows': 10  \n",
      "}\n",
      "      \n",
      "d = ckan.action('package_search', **search_params) \n",
      "print d['count']"
     ],
     "language": "python",
     "metadata": {},
     "outputs": [
      {
       "output_type": "stream",
       "stream": "stdout",
       "text": [
        "9\n"
       ]
      }
     ],
     "prompt_number": 5
    },
    {
     "cell_type": "markdown",
     "metadata": {},
     "source": [
      "Did we find it?"
     ]
    },
    {
     "cell_type": "code",
     "collapsed": false,
     "input": [
      "for rec in d['results']:\n",
      "    print rec['title']"
     ],
     "language": "python",
     "metadata": {},
     "outputs": [
      {
       "output_type": "stream",
       "stream": "stdout",
       "text": [
        "Meteorological and oceanographic data collected from the National Data Buoy Center Coastal-Marine Automated Network (C-MAN) and moored (weather) buoys during June 2011 (NODC Accession 0074384)\n",
        "Meteorological and oceanographic data collected from the National Data Buoy Center Coastal-Marine Automated Network (C-MAN) and moored (weather) buoys during May 2011 (NODC Accession 0073426)\n",
        "Meteorological and oceanographic data collected from the National Data Buoy Center Coastal-Marine Automated Network (C-MAN) and moored (weather) buoys during March 2011 (NODC Accession 0072077)\n",
        "Meteorological and oceanographic data collected from the National Data Buoy Center Coastal-Marine Automated Network (C-MAN) and moored (weather) buoys during January 2011 (NODC Accession 0070959)\n",
        "Meteorological and oceanographic data collected from the National Data Buoy Center Coastal-Marine Automated Network (C-MAN) and moored (weather) buoys during February 2011 (NODC Accession 0071368)\n",
        "Meteorological and oceanographic data collected from the National Data Buoy Center Coastal-Marine Automated Network (C-MAN) and moored (weather) buoys during April 2011 (NODC Accession 0072886)\n",
        "Physical oceanographic data collected from moorings deployed at Bodega Head by Gulf of the Farallones National Marine Sanctuary (GFNMS) and Bodega Marine Laboratory (BML) in the North Pacific Ocean from 2005-06-27 to 2011-10-27 (NODC Accession 0104152)\n",
        "Meteorological and oceanographic data collected from the National Data Buoy Center Coastal-Marine Automated Network (C-MAN) and moored (weather) buoys during July 2011 (NODC Accession 0074922)\n",
        "Physical oceanographic data collected from moorings deployed at Cordell Bank by Cordell Bank National Marine Sanctuary (CBNMS) and Bodega Marine Laboratory (BML) in the North Pacific Ocean from 2007-05-08 to 2011-12-14 (NODC Accession 0069874)\n"
       ]
      }
     ],
     "prompt_number": 6
    },
    {
     "cell_type": "markdown",
     "metadata": {},
     "source": [
      "Find all NetCDF data:"
     ]
    },
    {
     "cell_type": "code",
     "collapsed": false,
     "input": [
      "search_params = {           \n",
      "    'fq': 'res_format:NetCDF',\n",
      "    'rows': 10 \n",
      "}\n",
      "      \n",
      "d = ckan.action('package_search', **search_params) \n",
      "print d['count']"
     ],
     "language": "python",
     "metadata": {},
     "outputs": [
      {
       "output_type": "stream",
       "stream": "stdout",
       "text": [
        "3\n"
       ]
      }
     ],
     "prompt_number": 7
    },
    {
     "cell_type": "markdown",
     "metadata": {},
     "source": [
      "So what does one of these results look like? Let's take a look at the keys"
     ]
    },
    {
     "cell_type": "code",
     "collapsed": false,
     "input": [
      "print d['results'][0].keys()"
     ],
     "language": "python",
     "metadata": {},
     "outputs": [
      {
       "output_type": "stream",
       "stream": "stdout",
       "text": [
        "[u'license_title', u'maintainer', u'relationships_as_object', u'private', u'maintainer_email', u'num_tags', u'id', u'metadata_created', u'metadata_modified', u'author', u'author_email', u'state', u'version', u'license_id', u'type', u'resources', u'num_resources', u'tags', u'tracking_summary', u'groups', u'organization', u'relationships_as_subject', u'revision_timestamp', u'name', u'isopen', u'url', u'notes', u'owner_org', u'extras', u'title', u'revision_id']\n"
       ]
      }
     ],
     "prompt_number": 8
    },
    {
     "cell_type": "markdown",
     "metadata": {},
     "source": [
      "Now let's see what the urls looks like for all the resources"
     ]
    },
    {
     "cell_type": "code",
     "collapsed": false,
     "input": [
      "pprint(d['results'][0]['resources'])"
     ],
     "language": "python",
     "metadata": {},
     "outputs": [
      {
       "output_type": "stream",
       "stream": "stdout",
       "text": [
        "[{u'cache_last_updated': None,\n",
        "  u'cache_url': None,\n",
        "  u'created': u'2013-11-30T18:53:06.560173',\n",
        "  u'description': u'',\n",
        "  u'format': u'HTML',\n",
        "  u'hash': u'',\n",
        "  u'id': u'0f02f524-1b82-40ca-9962-c3bd0e92f48f',\n",
        "  u'last_modified': None,\n",
        "  u'mimetype': None,\n",
        "  u'mimetype_inner': None,\n",
        "  u'name': u'Web Page',\n",
        "  u'position': 0,\n",
        "  u'resource_group_id': u'21c6ac76-d483-44f0-bfb3-4db426ca0aee',\n",
        "  u'resource_locator_function': u'http://www.ngdc.noaa.gov/metadata/published/xsd/schema/resources/Codelist/gmxCodelists.xml#CI_OnLineFunctionCode',\n",
        "  u'resource_locator_protocol': u'',\n",
        "  u'resource_type': None,\n",
        "  u'revision_id': u'dbb02a1b-3dd1-4791-941d-45bed0eba3df',\n",
        "  u'revision_timestamp': u'2013-11-30T23:53:06.530627',\n",
        "  u'size': None,\n",
        "  u'state': u'active',\n",
        "  u'tracking_summary': {u'recent': 0, u'total': 0},\n",
        "  u'url': u'http://www.nodc.noaa.gov/cgi-bin/OAS/prd/accession/details/113335',\n",
        "  u'webstore_last_updated': None,\n",
        "  u'webstore_url': None},\n",
        " {u'cache_last_updated': None,\n",
        "  u'cache_url': None,\n",
        "  u'created': u'2013-11-30T18:53:06.560189',\n",
        "  u'description': u'',\n",
        "  u'format': u'HTML',\n",
        "  u'hash': u'',\n",
        "  u'id': u'05a94259-1480-4ee6-aa10-bac013f883f4',\n",
        "  u'last_modified': None,\n",
        "  u'mimetype': None,\n",
        "  u'mimetype_inner': None,\n",
        "  u'name': u'Web Page',\n",
        "  u'position': 1,\n",
        "  u'resource_group_id': u'21c6ac76-d483-44f0-bfb3-4db426ca0aee',\n",
        "  u'resource_locator_function': u'http://www.ngdc.noaa.gov/metadata/published/xsd/schema/resources/Codelist/gmxCodelists.xml#CI_OnLineFunctionCode',\n",
        "  u'resource_locator_protocol': u'',\n",
        "  u'resource_type': None,\n",
        "  u'revision_id': u'dbb02a1b-3dd1-4791-941d-45bed0eba3df',\n",
        "  u'revision_timestamp': u'2013-11-30T23:53:06.530627',\n",
        "  u'size': None,\n",
        "  u'state': u'active',\n",
        "  u'tracking_summary': {u'recent': 0, u'total': 0},\n",
        "  u'url': u'http://www.nodc.noaa.gov/archive/arc0040/0113335',\n",
        "  u'webstore_last_updated': None,\n",
        "  u'webstore_url': None},\n",
        " {u'cache_last_updated': None,\n",
        "  u'cache_url': None,\n",
        "  u'created': u'2013-11-30T18:53:06.560198',\n",
        "  u'description': u'',\n",
        "  u'format': u'HTML',\n",
        "  u'hash': u'',\n",
        "  u'id': u'828bb510-27e5-4371-9526-0bbdd0516b36',\n",
        "  u'last_modified': None,\n",
        "  u'mimetype': None,\n",
        "  u'mimetype_inner': None,\n",
        "  u'name': u'Web Page',\n",
        "  u'position': 2,\n",
        "  u'resource_group_id': u'21c6ac76-d483-44f0-bfb3-4db426ca0aee',\n",
        "  u'resource_locator_function': u'http://www.ngdc.noaa.gov/metadata/published/xsd/schema/resources/Codelist/gmxCodelists.xml#CI_OnLineFunctionCode',\n",
        "  u'resource_locator_protocol': u'',\n",
        "  u'resource_type': None,\n",
        "  u'revision_id': u'dbb02a1b-3dd1-4791-941d-45bed0eba3df',\n",
        "  u'revision_timestamp': u'2013-11-30T23:53:06.530627',\n",
        "  u'size': None,\n",
        "  u'state': u'active',\n",
        "  u'tracking_summary': {u'recent': 0, u'total': 0},\n",
        "  u'url': u'http://www.nodc.noaa.gov/cgi-bin/OAS/prd/accession/download/113335',\n",
        "  u'webstore_last_updated': None,\n",
        "  u'webstore_url': None},\n",
        " {u'cache_last_updated': None,\n",
        "  u'cache_url': None,\n",
        "  u'created': u'2013-11-30T18:53:06.560207',\n",
        "  u'description': u'',\n",
        "  u'format': u'NetCDF',\n",
        "  u'hash': u'',\n",
        "  u'id': u'8c24091e-5f93-4539-a557-1dafed9f9910',\n",
        "  u'last_modified': None,\n",
        "  u'mimetype': None,\n",
        "  u'mimetype_inner': None,\n",
        "  u'name': u'NetCDF File',\n",
        "  u'position': 3,\n",
        "  u'resource_group_id': u'21c6ac76-d483-44f0-bfb3-4db426ca0aee',\n",
        "  u'resource_locator_function': u'http://www.ngdc.noaa.gov/metadata/published/xsd/schema/resources/Codelist/gmxCodelists.xml#CI_OnLineFunctionCode',\n",
        "  u'resource_locator_protocol': u'',\n",
        "  u'resource_type': None,\n",
        "  u'revision_id': u'dbb02a1b-3dd1-4791-941d-45bed0eba3df',\n",
        "  u'revision_timestamp': u'2013-11-30T23:53:06.530627',\n",
        "  u'size': None,\n",
        "  u'state': u'active',\n",
        "  u'tracking_summary': {u'recent': 0, u'total': 0},\n",
        "  u'url': u'http://ecowatch.ncddc.noaa.gov/thredds/catalog/ocean_exploration_research/catalog.html?dataset=ocean_exploration_research/EX1305_SCS.nc',\n",
        "  u'webstore_last_updated': None,\n",
        "  u'webstore_url': None},\n",
        " {u'cache_last_updated': None,\n",
        "  u'cache_url': None,\n",
        "  u'created': u'2013-11-30T18:53:06.560215',\n",
        "  u'description': u'',\n",
        "  u'format': u'HTML',\n",
        "  u'hash': u'',\n",
        "  u'id': u'325e8439-2456-4a1e-b6c0-f725f2495ba1',\n",
        "  u'last_modified': None,\n",
        "  u'mimetype': None,\n",
        "  u'mimetype_inner': None,\n",
        "  u'name': u'NOAA National Oceanographic Data Center (NODC)',\n",
        "  u'position': 4,\n",
        "  u'resource_group_id': u'21c6ac76-d483-44f0-bfb3-4db426ca0aee',\n",
        "  u'resource_locator_function': u'information',\n",
        "  u'resource_locator_protocol': u'http',\n",
        "  u'resource_type': None,\n",
        "  u'revision_id': u'dbb02a1b-3dd1-4791-941d-45bed0eba3df',\n",
        "  u'revision_timestamp': u'2013-11-30T23:53:06.530627',\n",
        "  u'size': None,\n",
        "  u'state': u'active',\n",
        "  u'tracking_summary': {u'recent': 0, u'total': 0},\n",
        "  u'url': u'http://www.nodc.noaa.gov/',\n",
        "  u'webstore_last_updated': None,\n",
        "  u'webstore_url': None},\n",
        " {u'cache_last_updated': None,\n",
        "  u'cache_url': None,\n",
        "  u'created': u'2013-11-30T18:53:06.560223',\n",
        "  u'description': u'EX1305_COLLECTION_RESOLVED.xml',\n",
        "  u'format': u'XML',\n",
        "  u'hash': u'',\n",
        "  u'id': u'ab08d131-7d91-4962-8723-e4431caa0405',\n",
        "  u'last_modified': None,\n",
        "  u'mimetype': None,\n",
        "  u'mimetype_inner': None,\n",
        "  u'name': u'XML File',\n",
        "  u'position': 5,\n",
        "  u'resource_group_id': u'21c6ac76-d483-44f0-bfb3-4db426ca0aee',\n",
        "  u'resource_locator_function': u'',\n",
        "  u'resource_locator_protocol': u'',\n",
        "  u'resource_type': None,\n",
        "  u'revision_id': u'dbb02a1b-3dd1-4791-941d-45bed0eba3df',\n",
        "  u'revision_timestamp': u'2013-11-30T23:53:06.530627',\n",
        "  u'size': None,\n",
        "  u'state': u'active',\n",
        "  u'tracking_summary': {u'recent': 0, u'total': 0},\n",
        "  u'url': u'http://www.ncddc.noaa.gov/oer-waf/ISO/Resolved/2012/EX1305_COLLECTION_RESOLVED.xml',\n",
        "  u'webstore_last_updated': None,\n",
        "  u'webstore_url': None}]\n"
       ]
      }
     ],
     "prompt_number": 9
    },
    {
     "cell_type": "markdown",
     "metadata": {},
     "source": [
      "So there are multiple resources for each record.  Let's check out a some specific resource parameters for all datasets to see how the service endpoints might be defined:"
     ]
    },
    {
     "cell_type": "code",
     "collapsed": false,
     "input": [
      "urls=[]\n",
      "for item in d['results']:\n",
      "    for member in item['resources']:\n",
      "        print 'url:',member['url']\n",
      "        print 'resource_locator_protocol:',member['resource_locator_protocol']\n",
      "        print 'resource_type:',member['resource_type']\n",
      "        print 'format:',member['format'],'\\n'\n",
      "        if member['format'] == 'NetCDF' or member['resource_locator_protocol'] == 'THREDDS':\n",
      "            urls.append(member['url'])\n",
      "        "
     ],
     "language": "python",
     "metadata": {},
     "outputs": [
      {
       "output_type": "stream",
       "stream": "stdout",
       "text": [
        "url: http://www.nodc.noaa.gov/cgi-bin/OAS/prd/accession/details/113335\n",
        "resource_locator_protocol: \n",
        "resource_type: None\n",
        "format: HTML \n",
        "\n",
        "url: http://www.nodc.noaa.gov/archive/arc0040/0113335\n",
        "resource_locator_protocol: \n",
        "resource_type: None\n",
        "format: HTML \n",
        "\n",
        "url: http://www.nodc.noaa.gov/cgi-bin/OAS/prd/accession/download/113335\n",
        "resource_locator_protocol: \n",
        "resource_type: None\n",
        "format: HTML \n",
        "\n",
        "url: http://ecowatch.ncddc.noaa.gov/thredds/catalog/ocean_exploration_research/catalog.html?dataset=ocean_exploration_research/EX1305_SCS.nc\n",
        "resource_locator_protocol: \n",
        "resource_type: None\n",
        "format: NetCDF \n",
        "\n",
        "url: http://www.nodc.noaa.gov/\n",
        "resource_locator_protocol: http\n",
        "resource_type: None\n",
        "format: HTML \n",
        "\n",
        "url: http://www.ncddc.noaa.gov/oer-waf/ISO/Resolved/2012/EX1305_COLLECTION_RESOLVED.xml\n",
        "resource_locator_protocol: \n",
        "resource_type: None\n",
        "format: XML \n",
        "\n",
        "url: http://www.nodc.noaa.gov/cgi-bin/OAS/prd/accession/details/107211\n",
        "resource_locator_protocol: \n",
        "resource_type: None\n",
        "format: HTML \n",
        "\n",
        "url: http://www.nodc.noaa.gov/archive/arc0040/0107211/\n",
        "resource_locator_protocol: \n",
        "resource_type: None\n",
        "format: HTML \n",
        "\n",
        "url: http://www.nodc.noaa.gov/cgi-bin/OAS/prd/accession/download/107211\n",
        "resource_locator_protocol: \n",
        "resource_type: None\n",
        "format: HTML \n",
        "\n",
        "url: http://data.nodc.noaa.gov/thredds/catalog/testdata/ex-netcdf3/2012/SCS/catalog.html?dataset=testdata/ex-netcdf3/2012/SCS/EX1301_SCS.nc\n",
        "resource_locator_protocol: \n",
        "resource_type: None\n",
        "format: NetCDF \n",
        "\n",
        "url: http://www.nodc.noaa.gov/\n",
        "resource_locator_protocol: http\n",
        "resource_type: None\n",
        "format: HTML \n",
        "\n",
        "url: http://www.ncddc.noaa.gov/oer-waf/ISO/Resolved/2012/EX1301_COLLECTION_RESOLVED.xml\n",
        "resource_locator_protocol: \n",
        "resource_type: None\n",
        "format: XML \n",
        "\n",
        "url: http://www.nodc.noaa.gov/cgi-bin/OAS/prd/accession/details/112723\n",
        "resource_locator_protocol: \n",
        "resource_type: None\n",
        "format: HTML \n",
        "\n",
        "url: http://www.nodc.noaa.gov/archive/arc0040/0112723\n",
        "resource_locator_protocol: \n",
        "resource_type: None\n",
        "format: HTML \n",
        "\n",
        "url: http://www.nodc.noaa.gov/cgi-bin/OAS/prd/accession/download/112723\n",
        "resource_locator_protocol: \n",
        "resource_type: None\n",
        "format: HTML \n",
        "\n",
        "url: http://ecowatch.ncddc.noaa.gov/thredds/catalog/ocean_exploration_research/catalog.html?dataset=ocean_exploration_research/EX1304L2_SCS.nc\n",
        "resource_locator_protocol: \n",
        "resource_type: None\n",
        "format: NetCDF \n",
        "\n",
        "url: http://www.nodc.noaa.gov/\n",
        "resource_locator_protocol: http\n",
        "resource_type: None\n",
        "format: HTML \n",
        "\n",
        "url: http://www.ncddc.noaa.gov/oer-waf/ISO/Resolved/2012/EX1304_COLLECTION_RESOLVED.xml\n",
        "resource_locator_protocol: \n",
        "resource_type: None\n",
        "format: XML \n",
        "\n"
       ]
      }
     ],
     "prompt_number": 10
    },
    {
     "cell_type": "markdown",
     "metadata": {},
     "source": [
      "Lots of missing metadata information.  "
     ]
    },
    {
     "cell_type": "code",
     "collapsed": false,
     "input": [
      "print(urls)"
     ],
     "language": "python",
     "metadata": {},
     "outputs": [
      {
       "output_type": "stream",
       "stream": "stdout",
       "text": [
        "[u'http://ecowatch.ncddc.noaa.gov/thredds/catalog/ocean_exploration_research/catalog.html?dataset=ocean_exploration_research/EX1305_SCS.nc', u'http://data.nodc.noaa.gov/thredds/catalog/testdata/ex-netcdf3/2012/SCS/catalog.html?dataset=testdata/ex-netcdf3/2012/SCS/EX1301_SCS.nc', u'http://ecowatch.ncddc.noaa.gov/thredds/catalog/ocean_exploration_research/catalog.html?dataset=ocean_exploration_research/EX1304L2_SCS.nc']\n"
       ]
      }
     ],
     "prompt_number": 11
    },
    {
     "cell_type": "markdown",
     "metadata": {},
     "source": [
      "Hmmm... None of above URLs work. The THREDDS catalog exists, but none of the datasets here are in that catalog  <http://ecowatch.ncddc.noaa.gov/thredds/catalog/ocean_exploration_research/catalog.html> "
     ]
    },
    {
     "cell_type": "code",
     "collapsed": false,
     "input": [],
     "language": "python",
     "metadata": {},
     "outputs": [],
     "prompt_number": 11
    },
    {
     "cell_type": "markdown",
     "metadata": {},
     "source": [
      "Let's back off and see what the broader search yields:"
     ]
    },
    {
     "cell_type": "code",
     "collapsed": false,
     "input": [
      "search_params = { 'q': 'tags:\"sea_water_temperature\"',\n",
      "     'extras': {\"ext_bbox\":\"-60,60,-50,70\"}\n",
      "} \n",
      "d = ckan.action('package_search', **search_params) \n",
      "print d['count']"
     ],
     "language": "python",
     "metadata": {},
     "outputs": [
      {
       "output_type": "stream",
       "stream": "stdout",
       "text": [
        "12\n"
       ]
      }
     ],
     "prompt_number": 12
    },
    {
     "cell_type": "code",
     "collapsed": false,
     "input": [
      "urls=[]\n",
      "for item in d['results']:\n",
      "    for member in item['resources']:\n",
      "        print 'url:',member['url']\n",
      "        print 'resource_locator_protocol:',member['resource_locator_protocol']\n",
      "        print 'resource_type:',member['resource_type']\n",
      "        print 'format:',member['format'],'\\n'\n",
      "        if member['format'] == 'NetCDF' or member['resource_locator_protocol'] == 'THREDDS':\n",
      "            urls.append(member['url'])\n",
      "        "
     ],
     "language": "python",
     "metadata": {},
     "outputs": [
      {
       "output_type": "stream",
       "stream": "stdout",
       "text": [
        "url: ftp://ftp.nodc.noaa.gov/nodc/archive/arc0060/0111843/\n",
        "resource_locator_protocol: FTP\n",
        "resource_type: None\n",
        "format:  \n",
        "\n",
        "url: http://data.nodc.noaa.gov/thredds/catalog/glider/seaglider/uw/014/20040924/\n",
        "resource_locator_protocol: THREDDS\n",
        "resource_type: None\n",
        "format: HTML \n",
        "\n",
        "url: http://data.nodc.noaa.gov/opendap/glider/seaglider/uw/014/20040924/\n",
        "resource_locator_protocol: DAP\n",
        "resource_type: None\n",
        "format: HTML \n",
        "\n",
        "url: http://accession.nodc.noaa.gov/download/111843\n",
        "resource_locator_protocol: HTTP\n",
        "resource_type: None\n",
        "format: HTML \n",
        "\n",
        "url: ftp://ftp.nodc.noaa.gov/nodc/archive/arc0034/0074384/\n",
        "resource_locator_protocol: FTP\n",
        "resource_type: None\n",
        "format:  \n",
        "\n",
        "url: http://accession.nodc.noaa.gov/download/74384\n",
        "resource_locator_protocol: HTTP\n",
        "resource_type: None\n",
        "format: HTML \n",
        "\n",
        "url: http://www.ndbc.noaa.gov/\n",
        "resource_locator_protocol: \n",
        "resource_type: None\n",
        "format: HTML \n",
        "\n",
        "url: ftp://ftp.nodc.noaa.gov/nodc/archive/arc0033/0073426/\n",
        "resource_locator_protocol: FTP\n",
        "resource_type: None\n",
        "format:  \n",
        "\n",
        "url: http://accession.nodc.noaa.gov/download/73426\n",
        "resource_locator_protocol: HTTP\n",
        "resource_type: None\n",
        "format: HTML \n",
        "\n",
        "url: http://www.ndbc.noaa.gov/\n",
        "resource_locator_protocol: \n",
        "resource_type: None\n",
        "format: HTML \n",
        "\n",
        "url: ftp://ftp.nodc.noaa.gov/nodc/archive/arc0060/0111841/\n",
        "resource_locator_protocol: FTP\n",
        "resource_type: None\n",
        "format:  \n",
        "\n",
        "url: http://data.nodc.noaa.gov/thredds/catalog/glider/seaglider/uw/008/20031002/\n",
        "resource_locator_protocol: THREDDS\n",
        "resource_type: None\n",
        "format: HTML \n",
        "\n",
        "url: http://data.nodc.noaa.gov/opendap/glider/seaglider/uw/008/20031002/\n",
        "resource_locator_protocol: DAP\n",
        "resource_type: None\n",
        "format: HTML \n",
        "\n",
        "url: http://accession.nodc.noaa.gov/download/111841\n",
        "resource_locator_protocol: HTTP\n",
        "resource_type: None\n",
        "format: HTML \n",
        "\n",
        "url: ftp://ftp.nodc.noaa.gov/nodc/archive/arc0060/0111844/\n",
        "resource_locator_protocol: FTP\n",
        "resource_type: None\n",
        "format:  \n",
        "\n",
        "url: http://data.nodc.noaa.gov/thredds/catalog/glider/seaglider/uw/015/20040924/\n",
        "resource_locator_protocol: THREDDS\n",
        "resource_type: None\n",
        "format: HTML \n",
        "\n",
        "url: http://data.nodc.noaa.gov/opendap/glider/seaglider/uw/015/20040924/\n",
        "resource_locator_protocol: DAP\n",
        "resource_type: None\n",
        "format: HTML \n",
        "\n",
        "url: http://accession.nodc.noaa.gov/download/111844\n",
        "resource_locator_protocol: HTTP\n",
        "resource_type: None\n",
        "format: HTML \n",
        "\n",
        "url: ftp://ftp.nodc.noaa.gov/nodc/archive/arc0032/0072077/\n",
        "resource_locator_protocol: FTP\n",
        "resource_type: None\n",
        "format:  \n",
        "\n",
        "url: http://accession.nodc.noaa.gov/download/72077\n",
        "resource_locator_protocol: HTTP\n",
        "resource_type: None\n",
        "format: HTML \n",
        "\n",
        "url: http://www.ndbc.noaa.gov/\n",
        "resource_locator_protocol: \n",
        "resource_type: None\n",
        "format: HTML \n",
        "\n",
        "url: ftp://ftp.nodc.noaa.gov/nodc/archive/arc0032/0070959/\n",
        "resource_locator_protocol: FTP\n",
        "resource_type: None\n",
        "format:  \n",
        "\n",
        "url: http://accession.nodc.noaa.gov/download/70959\n",
        "resource_locator_protocol: HTTP\n",
        "resource_type: None\n",
        "format: HTML \n",
        "\n",
        "url: http://www.ndbc.noaa.gov/\n",
        "resource_locator_protocol: \n",
        "resource_type: None\n",
        "format: HTML \n",
        "\n",
        "url: ftp://ftp.nodc.noaa.gov/nodc/archive/arc0061/0111845/\n",
        "resource_locator_protocol: FTP\n",
        "resource_type: None\n",
        "format:  \n",
        "\n",
        "url: http://data.nodc.noaa.gov/thredds/catalog/glider/seaglider/uw/016/20050406/\n",
        "resource_locator_protocol: THREDDS\n",
        "resource_type: None\n",
        "format: HTML \n",
        "\n",
        "url: http://data.nodc.noaa.gov/opendap/glider/seaglider/uw/016/20050406/\n",
        "resource_locator_protocol: DAP\n",
        "resource_type: None\n",
        "format: HTML \n",
        "\n",
        "url: http://accession.nodc.noaa.gov/download/111845\n",
        "resource_locator_protocol: HTTP\n",
        "resource_type: None\n",
        "format: HTML \n",
        "\n",
        "url: ftp://ftp.nodc.noaa.gov/nodc/archive/arc0061/0112863/\n",
        "resource_locator_protocol: FTP\n",
        "resource_type: None\n",
        "format:  \n",
        "\n",
        "url: http://data.nodc.noaa.gov/thredds/catalog/glider/seaglider/uw/004/20031002/\n",
        "resource_locator_protocol: THREDDS\n",
        "resource_type: None\n",
        "format: HTML \n",
        "\n",
        "url: http://data.nodc.noaa.gov/opendap/glider/seaglider/uw/004/20031002/\n",
        "resource_locator_protocol: DAP\n",
        "resource_type: None\n",
        "format: HTML \n",
        "\n",
        "url: http://accession.nodc.noaa.gov/download/112863\n",
        "resource_locator_protocol: HTTP\n",
        "resource_type: None\n",
        "format: HTML \n",
        "\n",
        "url: ftp://ftp.nodc.noaa.gov/nodc/archive/arc0032/0071368/\n",
        "resource_locator_protocol: FTP\n",
        "resource_type: None\n",
        "format:  \n",
        "\n",
        "url: http://accession.nodc.noaa.gov/download/71368\n",
        "resource_locator_protocol: HTTP\n",
        "resource_type: None\n",
        "format: HTML \n",
        "\n",
        "url: http://www.ndbc.noaa.gov/\n",
        "resource_locator_protocol: \n",
        "resource_type: None\n",
        "format: HTML \n",
        "\n"
       ]
      }
     ],
     "prompt_number": 13
    },
    {
     "cell_type": "code",
     "collapsed": false,
     "input": [
      "print(urls)"
     ],
     "language": "python",
     "metadata": {},
     "outputs": [
      {
       "output_type": "stream",
       "stream": "stdout",
       "text": [
        "[u'http://data.nodc.noaa.gov/thredds/catalog/glider/seaglider/uw/014/20040924/', u'http://data.nodc.noaa.gov/thredds/catalog/glider/seaglider/uw/008/20031002/', u'http://data.nodc.noaa.gov/thredds/catalog/glider/seaglider/uw/015/20040924/', u'http://data.nodc.noaa.gov/thredds/catalog/glider/seaglider/uw/016/20050406/', u'http://data.nodc.noaa.gov/thredds/catalog/glider/seaglider/uw/004/20031002/']\n"
       ]
      }
     ],
     "prompt_number": 14
    },
    {
     "cell_type": "markdown",
     "metadata": {},
     "source": [
      "These are not DAP URLS, but collections of datasets on a THREDDS server.\n",
      "Lets try opening a DAP url (two clicks away)"
     ]
    },
    {
     "cell_type": "code",
     "collapsed": false,
     "input": [
      "url='http://data.nodc.noaa.gov/thredds/dodsC/glider/seaglider/uw/014/20040924/p0140001_20040924.nc'"
     ],
     "language": "python",
     "metadata": {},
     "outputs": [],
     "prompt_number": 15
    },
    {
     "cell_type": "code",
     "collapsed": false,
     "input": [
      "import netCDF4"
     ],
     "language": "python",
     "metadata": {},
     "outputs": [],
     "prompt_number": 16
    },
    {
     "cell_type": "code",
     "collapsed": false,
     "input": [
      "nc = netCDF4.Dataset(url)\n",
      "ncvars = nc.variables\n",
      "#pprint(ncvars.keys())"
     ],
     "language": "python",
     "metadata": {},
     "outputs": [],
     "prompt_number": 17
    },
    {
     "cell_type": "code",
     "collapsed": false,
     "input": [
      "s = ncvars['salinity'][:]\n",
      "time_var = nc.variables['time']\n",
      "dtime = netCDF4.num2date(time_var[:],time_var.units)\n",
      "# Create Pandas time series object\n",
      "ts = pd.Series(s,index=dtime)\n",
      "# Use Pandas plot() method\n",
      "ts.plot(figsize=(16,4))\n"
     ],
     "language": "python",
     "metadata": {},
     "outputs": [
      {
       "metadata": {},
       "output_type": "pyout",
       "prompt_number": 18,
       "text": [
        "<matplotlib.axes.AxesSubplot at 0x404e810>"
       ]
      },
      {
       "metadata": {},
       "output_type": "display_data",
       "png": "[encoded data removed]",
       "text": [
        "<matplotlib.figure.Figure at 0x404e410>"
       ]
      }
     ],
     "prompt_number": 18
    },
    {
     "cell_type": "code",
     "collapsed": false,
     "input": [
      "#print the last few values\n",
      "print ts[-5:]"
     ],
     "language": "python",
     "metadata": {},
     "outputs": [
      {
       "output_type": "stream",
       "stream": "stdout",
       "text": [
        "2004-09-24 18:46:50    32.837085\n",
        "2004-09-24 18:46:55    32.837255\n",
        "2004-09-24 18:47:00    32.832002\n",
        "2004-09-24 18:47:05          NaN\n",
        "2004-09-24 18:47:10          NaN\n"
       ]
      }
     ],
     "prompt_number": 23
    },
    {
     "cell_type": "code",
     "collapsed": false,
     "input": [],
     "language": "python",
     "metadata": {},
     "outputs": [],
     "prompt_number": 22
    }
   ],
   "metadata": {}
  }
 ]
}