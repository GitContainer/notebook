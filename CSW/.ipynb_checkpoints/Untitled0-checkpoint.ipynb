{
 "metadata": {
  "name": "",
  "signature": "sha256:30104a62160f4d8c6072a1c619abac4642d51e6006e5ae273f87390f726b743b"
 },
 "nbformat": 3,
 "nbformat_minor": 0,
 "worksheets": [
  {
   "cells": [
    {
     "cell_type": "code",
     "collapsed": false,
     "input": [
      "from owslib import fes\n",
      "from owslib.csw import CatalogueServiceWeb\n",
      "\n",
      "schemes = set()\n",
      "c   = CatalogueServiceWeb(\"https://data.noaa.gov/csw\", timeout=20)\n",
      "fil = fes.PropertyIsLike(propertyname='apiso:AnyText', literal=\"*sea_surface_height_above_sea_level*\", wildCard='*')\n",
      "c.getrecords2(constraints=[fil], maxrecords=1000, esn='full')"
     ],
     "language": "python",
     "metadata": {},
     "outputs": []
    },
    {
     "cell_type": "code",
     "collapsed": false,
     "input": [
      "for record, item in c.records.items():\n",
      "    for d in item.references:\n",
      "        schemes.add(d['scheme'])"
     ],
     "language": "python",
     "metadata": {},
     "outputs": [],
     "prompt_number": 3
    },
    {
     "cell_type": "code",
     "collapsed": false,
     "input": [
      "for scheme in schemes:\n",
      "    print scheme"
     ],
     "language": "python",
     "metadata": {},
     "outputs": [
      {
       "output_type": "stream",
       "stream": "stdout",
       "text": [
        "Information\n",
        "HTTP\n",
        "metadata and Readme file.\n",
        "Integrating Bathymetric and Topographic Datasets ASCII DEM\n",
        "More information about WMO's Pub 47 can be found at this link.\n",
        "the TDS can provide WMS\n",
        "For \"real-time\" Pub 47 station information\n",
        "Pressure\n",
        "location\n",
        "FTP\n",
        "None\n",
        "http\n",
        "WMS\n",
        "Download NetCDF DEM\n",
        "Integrating Bathymetric and Topographic Datasets Homepage\n",
        "format layout and definitions.\n",
        "search\n",
        "metadata and readme file.\n",
        "please see the OPeNDAP web site at http://opendap.org/.\n",
        "spatial and and other product-specific criteria. You may also create a subscription to order data on a regular basis.\n",
        "order\n",
        "preview and access DEM\n",
        ".html\n",
        "Download DEM\n",
        "LAS\n"
       ]
      }
     ],
     "prompt_number": 10
    }
   ],
   "metadata": {}
  }
 ]
}