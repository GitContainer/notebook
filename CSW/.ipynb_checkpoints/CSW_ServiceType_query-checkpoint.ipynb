{
 "metadata": {
  "gist_id": "3aa85b96160fc987f435",
  "name": "",
  "signature": "sha256:81d962c8ccf0bb20e3b450ce262c18217c19f3ae8415b166111f1d1f25bdff83"
 },
 "nbformat": 3,
 "nbformat_minor": 0,
 "worksheets": [
  {
   "cells": [
    {
     "cell_type": "markdown",
     "metadata": {},
     "source": [
      "#Query CSW to find all COAWST WMS services"
     ]
    },
    {
     "cell_type": "markdown",
     "metadata": {},
     "source": [
      "Find all the COAWST (ocean model) datasets that have WMS services by using the CSW queryables `apiso:anyText` and `apiso:ServiceType` on different CSW endpoints."
     ]
    },
    {
     "cell_type": "code",
     "collapsed": false,
     "input": [
      "from owslib.csw import CatalogueServiceWeb\n",
      "from owslib import fes\n",
      "import numpy as np"
     ],
     "language": "python",
     "metadata": {},
     "outputs": [],
     "prompt_number": 11
    },
    {
     "cell_type": "code",
     "collapsed": false,
     "input": [
      "endpoint = 'http://geoport.whoi.edu/csw'\n",
      "#endpoint = 'http://catalog.data.gov/csw-all'\n",
      "#endpoint = 'http://www.ngdc.noaa.gov/geoportal/csw'\n",
      "#endpoint = 'http://www.nodc.noaa.gov/geoportal/csw'\n",
      "csw = CatalogueServiceWeb(endpoint,timeout=60)\n",
      "print csw.version"
     ],
     "language": "python",
     "metadata": {},
     "outputs": [
      {
       "output_type": "stream",
       "stream": "stdout",
       "text": [
        "2.0.2\n"
       ]
      }
     ],
     "prompt_number": 12
    },
    {
     "cell_type": "code",
     "collapsed": false,
     "input": [
      "csw.get_operation_by_name('GetRecords').constraints"
     ],
     "language": "python",
     "metadata": {},
     "outputs": [
      {
       "metadata": {},
       "output_type": "pyout",
       "prompt_number": 13,
       "text": [
        "[Constraint: SupportedISOQueryables - ['apiso:DistanceValue', 'apiso:Abstract', 'apiso:RevisionDate', 'apiso:Subject', 'apiso:KeywordType', 'apiso:Title', 'apiso:CRS', 'apiso:PublicationDate', 'apiso:Type', 'apiso:AlternateTitle', 'apiso:BoundingBox', 'apiso:AnyText', 'apiso:ParentIdentifier', 'apiso:Modified', 'apiso:Operation', 'apiso:Format', 'apiso:TempExtent_end', 'apiso:DistanceUOM', 'apiso:OrganisationName', 'apiso:ServiceType', 'apiso:TempExtent_begin', 'apiso:ResourceLanguage', 'apiso:ServiceTypeVersion', 'apiso:OperatesOn', 'apiso:Denominator', 'apiso:HasSecurityConstraints', 'apiso:OperatesOnIdentifier', 'apiso:GeographicDescriptionCode', 'apiso:Language', 'apiso:Identifier', 'apiso:OperatesOnName', 'apiso:TopicCategory', 'apiso:CreationDate', 'apiso:CouplingType'],\n",
        " Constraint: AdditionalQueryables - ['apiso:Lineage', 'apiso:Classification', 'apiso:Creator', 'apiso:Relation', 'apiso:OtherConstraints', 'apiso:SpecificationTitle', 'apiso:ResponsiblePartyRole', 'apiso:SpecificationDateType', 'apiso:Degree', 'apiso:Contributor', 'apiso:ConditionApplyingToAccessAndUse', 'apiso:SpecificationDate', 'apiso:AccessConstraints', 'apiso:Publisher'],\n",
        " Constraint: SupportedDublinCoreQueryables - ['dc:contributor', 'dc:source', 'dc:language', 'dc:title', 'dc:subject', 'dc:creator', 'dc:type', 'ows:BoundingBox', 'dct:modified', 'dct:abstract', 'dc:relation', 'dc:date', 'dc:identifier', 'dc:publisher', 'dc:format', 'csw:AnyText', 'dc:rights']]"
       ]
      }
     ],
     "prompt_number": 13
    },
    {
     "cell_type": "code",
     "collapsed": false,
     "input": [
      "try:\n",
      "    csw.get_operation_by_name('GetDomain')\n",
      "    csw.getdomain('apiso:ServiceType', 'property')\n",
      "    print(csw.results['values'])\n",
      "except:\n",
      "    print('GetDomain not supported')"
     ],
     "language": "python",
     "metadata": {},
     "outputs": [
      {
       "output_type": "stream",
       "stream": "stdout",
       "text": [
        "[]\n"
       ]
      }
     ],
     "prompt_number": 14
    },
    {
     "cell_type": "heading",
     "level": 2,
     "metadata": {},
     "source": [
      "Query for all COAWST datasets "
     ]
    },
    {
     "cell_type": "code",
     "collapsed": false,
     "input": [
      "val = 'COAWST'\n",
      "filter1 = fes.PropertyIsLike(propertyname='apiso:AnyText',literal=('*%s*' % val),\n",
      "                        escapeChar='\\\\',wildCard='*',singleChar='?')\n",
      "filter_list = [ filter1 ]"
     ],
     "language": "python",
     "metadata": {},
     "outputs": [],
     "prompt_number": 15
    },
    {
     "cell_type": "code",
     "collapsed": false,
     "input": [
      "csw.getrecords2(constraints=filter_list,maxrecords=100,esn='full')\n",
      "print len(csw.records.keys())\n",
      "for rec in list(csw.records.keys()):\n",
      "    print csw.records[rec].title \n",
      "    "
     ],
     "language": "python",
     "metadata": {},
     "outputs": [
      {
       "output_type": "stream",
       "stream": "stdout",
       "text": [
        "10\n",
        "COAWST Hindcast:Barnegat Bay:ADCIRC tides,Real rivers,Plume,Lowpass Espresso bdry,NAM,new bathy\n",
        "COAWST Forecast System : USGS : US East Coast and Gulf of Mexico (Experimental)\n",
        "USGS-CMG-COAWST Model: Hurricane Sandy, NYB05 Nest\n",
        "USGS-CMG-COAWST Model: Hurricane Sandy, SHF05 Nest\n",
        "USGS-CMG-COAWST Model: Hurricane Sandy, USE27 Nest\n",
        "ASGS NCFS Sandy Advisory 27\n",
        "USGS-CMG-COAWST Model: Hurricane Sandy, NYB05 Nest\n",
        "USGS-CMG-COAWST Model: Hurricane Sandy, SHF05 Nest\n",
        "USGS-CMG-COAWST Model: Hurricane Sandy, USE27 Nest\n",
        "COAWST Hindcast:MVCO/CBlast 2007:ripples with SWAN-40m res\n"
       ]
      }
     ],
     "prompt_number": 16
    },
    {
     "cell_type": "code",
     "collapsed": false,
     "input": [
      "choice=np.random.choice(list(csw.records.keys()))\n",
      "print(csw.records[choice].title)\n",
      "csw.records[choice].references"
     ],
     "language": "python",
     "metadata": {},
     "outputs": [
      {
       "output_type": "stream",
       "stream": "stdout",
       "text": [
        "USGS-CMG-COAWST Model: Hurricane Sandy, NYB05 Nest\n"
       ]
      },
      {
       "metadata": {},
       "output_type": "pyout",
       "prompt_number": 17,
       "text": [
        "[{'scheme': 'WWW:LINK',\n",
        "  'url': 'http://geoport-dev.whoi.edu/thredds/dodsC/clay/usgs/users/jcwarner/Projects/Sandy/triple_nest/00_dir_NYB05.ncml.html'},\n",
        " {'scheme': 'WWW:LINK',\n",
        "  'url': 'http://www.ncdc.noaa.gov/oa/wct/wct-jnlp-beta.php?singlefile=http://geoport-dev.whoi.edu/thredds/dodsC/clay/usgs/users/jcwarner/Projects/Sandy/triple_nest/00_dir_NYB05.ncml'},\n",
        " {'scheme': 'OPeNDAP:OPeNDAP',\n",
        "  'url': 'http://geoport-dev.whoi.edu/thredds/dodsC/clay/usgs/users/jcwarner/Projects/Sandy/triple_nest/00_dir_NYB05.ncml'},\n",
        " {'scheme': 'OGC:WMS',\n",
        "  'url': 'http://geoport-dev.whoi.edu/thredds/wms/clay/usgs/users/jcwarner/Projects/Sandy/triple_nest/00_dir_NYB05.ncml?service=WMS&version=1.3.0&request=GetCapabilities'},\n",
        " {'scheme': 'UNIDATA:NCSS',\n",
        "  'url': 'http://geoport-dev.whoi.edu/thredds/ncss/grid/clay/usgs/users/jcwarner/Projects/Sandy/triple_nest/00_dir_NYB05.ncml/dataset.html'},\n",
        " {'scheme': 'file',\n",
        "  'url': 'http://geoport-dev.whoi.edu/thredds/fileServer/clay/usgs/users/jcwarner/Projects/Sandy/triple_nest/00_dir_NYB05.ncml'}]"
       ]
      }
     ],
     "prompt_number": 17
    },
    {
     "cell_type": "heading",
     "level": 2,
     "metadata": {},
     "source": [
      "Query for all COAWST datsets that also contain WMS endpoints"
     ]
    },
    {
     "cell_type": "markdown",
     "metadata": {},
     "source": [
      "Since all COAWST datasets contain WMS endpoints, this should return the same number of dataset records"
     ]
    },
    {
     "cell_type": "code",
     "collapsed": false,
     "input": [
      "val = 'COAWST'\n",
      "filter1 = fes.PropertyIsLike(propertyname='apiso:AnyText',literal=('*%s*' % val),\n",
      "                        escapeChar='\\\\',wildCard='*',singleChar='?',matchCase=True)\n",
      "val = 'WMS'\n",
      "filter2 = fes.PropertyIsLike(propertyname='apiso:ServiceType',literal=('*%s*' % val),\n",
      "                        escapeChar='\\\\',wildCard='*',singleChar='?',matchCase=False)\n",
      "filter_list = [ [filter1, filter2] ]\n",
      "csw.getrecords2(constraints=filter_list, maxrecords=1000)\n",
      "print(len(csw.records.keys()))"
     ],
     "language": "python",
     "metadata": {},
     "outputs": [
      {
       "output_type": "stream",
       "stream": "stdout",
       "text": [
        "0\n"
       ]
      }
     ],
     "prompt_number": 18
    },
    {
     "cell_type": "code",
     "collapsed": false,
     "input": [
      "for rec in list(csw.records.keys()):\n",
      "    print('title:'+csw.records[rec].title) \n",
      "    print('identifier:'+csw.records[rec].identifier)\n",
      "    print('modified:'+csw.records[rec].modified)"
     ],
     "language": "python",
     "metadata": {},
     "outputs": [],
     "prompt_number": 19
    },
    {
     "cell_type": "code",
     "collapsed": false,
     "input": [
      "val = 'wms'\n",
      "filter2 = fes.PropertyIsLike(propertyname='apiso:ServiceType',literal=('*%s*' % val),\n",
      "                        escapeChar='\\\\',wildCard='*',singleChar='?',matchCase=False)\n",
      "filter_list = [  filter2 ]\n",
      "csw.getrecords2(constraints=filter_list, maxrecords=1000)\n",
      "print(len(csw.records.keys()))"
     ],
     "language": "python",
     "metadata": {},
     "outputs": [
      {
       "output_type": "stream",
       "stream": "stdout",
       "text": [
        "0\n"
       ]
      }
     ],
     "prompt_number": 20
    },
    {
     "cell_type": "code",
     "collapsed": false,
     "input": [],
     "language": "python",
     "metadata": {},
     "outputs": [],
     "prompt_number": 20
    }
   ],
   "metadata": {}
  }
 ]
}