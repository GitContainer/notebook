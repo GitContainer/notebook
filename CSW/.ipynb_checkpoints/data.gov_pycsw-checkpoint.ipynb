{
 "cells": [
  {
   "cell_type": "markdown",
   "metadata": {
    "collapsed": true
   },
   "source": [
    "# Demonstrate some CSW query capabilities "
   ]
  },
  {
   "cell_type": "markdown",
   "metadata": {},
   "source": [
    "We will use the owslib library to construct queries and parse responses from CSW"
   ]
  },
  {
   "cell_type": "code",
   "execution_count": 1,
   "metadata": {
    "collapsed": false
   },
   "outputs": [],
   "source": [
    "from owslib.csw import CatalogueServiceWeb\n",
    "from owslib import fes\n",
    "import numpy as np"
   ]
  },
  {
   "cell_type": "markdown",
   "metadata": {},
   "source": [
    "Specify a CSW endpoint.  You can test if it's working with a getCapabilities request:  \n",
    "```\n",
    "<endpoint>?request=GetCapabilities&service=CSW\n",
    "```\n",
    "for example:\n",
    "```\n",
    "http://catalog.data.gov/csw-all?service=CSW&version=2.0.2&request=GetCapabilities\n",
    "```"
   ]
  },
  {
   "cell_type": "code",
   "execution_count": 2,
   "metadata": {
    "collapsed": false
   },
   "outputs": [
    {
     "name": "stdout",
     "output_type": "stream",
     "text": [
      "2.0.2\n"
     ]
    }
   ],
   "source": [
    "#endpoint = 'http://catalog.data.gov/csw-all'  #granule level production catalog\n",
    "#endpoint = 'https://data.ioos.us/csw'\n",
    "endpoint = 'https://dev-catalog.ioos.us/csw'\n",
    "#endpoint = 'http://geoport.whoi.edu/csw'\n",
    "#endpoint = 'http://www.ngdc.noaa.gov/geoportal/csw'\n",
    "csw = CatalogueServiceWeb(endpoint,timeout=60)\n",
    "print csw.version"
   ]
  },
  {
   "cell_type": "code",
   "execution_count": 3,
   "metadata": {
    "collapsed": false,
    "scrolled": true
   },
   "outputs": [
    {
     "name": "stdout",
     "output_type": "stream",
     "text": [
      "10\n",
      "PacIOOS Water Quality Buoy 03: Kiholo Bay, Big Island, Hawaii\n",
      "UCSC294-20150430T2218\n",
      "ud_134-20150122T1955\n",
      "PacIOOS Nearshore Sensor 09: Cetti Bay, Guam\n",
      "PacIOOS Nearshore Sensor 15: Pago Bay, Guam\n",
      "PacIOOS Nearshore Sensor 10: Maunalua Bay, Oahu, Hawaii\n",
      "HRECOS Aggregated Station HRPVSC Data\n",
      "None\n",
      "None\n",
      "Alaska Regional Data Portal For US Integrated Ocean Observing System\n"
     ]
    }
   ],
   "source": [
    "val = 'sea_water_salinity'\n",
    "#val = 'NODC'\n",
    "filter1 = fes.PropertyIsLike(propertyname='apiso:AnyText',literal=('*%s*' % val),\n",
    "                        escapeChar='\\\\',wildCard='*',singleChar='?')\n",
    "filter_list = [ filter1 ]\n",
    "csw.getrecords2(constraints=filter_list,maxrecords=100,esn='full')\n",
    "print len(csw.records.keys())\n",
    "for rec in list(csw.records.keys()):\n",
    "    print csw.records[rec].title "
   ]
  },
  {
   "cell_type": "markdown",
   "metadata": {},
   "source": [
    "Hmmm..... In the query above, we only get 10 records, even though we specified maxrecords=100.  \n",
    "\n",
    "What's up with that?\n",
    "\n",
    "Turns out the CSW service specified a MaxRecordDefault that cannot be exceeded.\n",
    "For example, checking: https://dev-catalog.ioos.us/csw?request=GetCapabilities&service=CSW we find:\n",
    "```\n",
    "<ows:Constraint name=\"MaxRecordDefault\">\n",
    "    <ows:Value>10</ows:Value>\n",
    "</ows:Constraint>\n",
    "```\n",
    "So we need to loop the getrecords request, incrementing the startposition:"
   ]
  },
  {
   "cell_type": "code",
   "execution_count": 4,
   "metadata": {
    "collapsed": true
   },
   "outputs": [],
   "source": [
    "from owslib.fes import SortBy, SortProperty\n",
    "pagesize = 10\n",
    "sort_property = 'dc:title'  # a supported queryable of the CSW\n",
    "sort_order = 'ASC'  # should be 'ASC' or 'DESC' (ascending or descending)\n",
    "maxrecords = 50\n",
    "sortby = SortBy([SortProperty(sort_property, sort_order)])"
   ]
  },
  {
   "cell_type": "code",
   "execution_count": 5,
   "metadata": {
    "collapsed": false
   },
   "outputs": [
    {
     "name": "stdout",
     "output_type": "stream",
     "text": [
      "getting records 0 to 10\n",
      "Alaska Regional Data Portal For US Integrated Ocean Observing System\n",
      "AOOS/Models/High-resolution Ice/Ocean Modeling and Assimilation System (HIOMAS)\n",
      "Arctic Seas Regional Climatology : sea_water_temperature January 0.25 degree\n",
      "bass-20150706T151619Z\n",
      "bass-20150706T151619Z\n",
      "bass-20150827T1909\n",
      "bass-20150827T1909\n",
      "Bering Sea\n",
      "blue-20150627T1242\n",
      "blue-20150627T1242\n",
      "\n",
      "getting records 10 to 20\n",
      "blue-20150627T1242\n",
      "blue-20160518T1525\n",
      "blue-20160518T1525\n",
      "blue-20160818T1448\n",
      "CariCOOS Realtime Buoy Observations\n",
      "CariCOOS Realtime Buoy Observations\n",
      "CeNCOOS/Models/ROMS/California ROMS/California Coastal Regional Ocean Modeling System (ROMS) Forecast\n",
      "CeNCOOS/Models/ROMS/California ROMS/California Coastal Regional Ocean Modeling System (ROMS) Nowcast\n",
      "CeNCOOS/Models/ROMS/Monterey Bay ROMS (Oct 2010 to Jan 2013)/Monterey Bay (MB) Regional Ocean Modeling System (ROMS) Forecast\n",
      "Central California Regional Data Portal For US Integrated Ocean Observing System\n",
      "\n",
      "getting records 20 to 30\n",
      "clark-20130821T2130\n",
      "clark-20130821T2130\n",
      "clark-20150709T1803\n",
      "clark-20150709T1803\n",
      "clark-20160624T1800\n",
      "EASTCOAST-3D-NAM/Forecast Model Run Collection (2D time coordinates)\n",
      "Fort_Point/sea_water_practical_salinity.nc\n",
      "GCOOS Data Portal\n",
      "Gichigami-20110629T1821\n",
      "Gichigami-20110629T1821\n",
      "\n",
      "getting records 30 to 40\n",
      "gichigami-20110630T2049\n",
      "gichigami-20110630T2049\n",
      "gichigami-20110701T0123\n",
      "gichigami-20110701T0123\n",
      "gichigami-20110701T1556\n",
      "gichigami-20110701T1556\n",
      "gichigami-20110702T1048\n",
      "gichigami-20110702T1048\n",
      "gichigami-20110703T0859\n",
      "gichigami-20110703T0859\n",
      "\n",
      "getting records 40 to 50\n",
      "gichigami-20110704T0352\n",
      "gichigami-20110704T0352\n",
      "gichigami-20110705T1936\n",
      "gichigami-20110705T1936\n",
      "gichigami-20110706T1754\n",
      "gichigami-20110706T1754\n",
      "gichigami-20110707T0056\n",
      "gichigami-20110707T0056\n",
      "Gichigami-20111129T2109\n",
      "Gichigami-20111129T2109\n",
      "\n"
     ]
    }
   ],
   "source": [
    "startposition = 0\n",
    "while True:\n",
    "    print 'getting records %d to %d' % (startposition, startposition+pagesize)\n",
    "    csw.getrecords2(constraints=filter_list,\n",
    "                    startposition=startposition, maxrecords=pagesize, sortby=sortby)\n",
    "    for rec,item in csw.records.iteritems():\n",
    "        print(item.title)\n",
    "    print\n",
    "    if csw.results['nextrecord'] == 0:\n",
    "        break\n",
    "    startposition += pagesize\n",
    "    if startposition >= maxrecords:\n",
    "        break"
   ]
  },
  {
   "cell_type": "markdown",
   "metadata": {},
   "source": [
    "Okay, now lets add another query filter and add it to the first one"
   ]
  },
  {
   "cell_type": "code",
   "execution_count": 6,
   "metadata": {
    "collapsed": false
   },
   "outputs": [],
   "source": [
    "val = 'CariCOOS'\n",
    "#val = '0115145'\n",
    "filter2 = fes.PropertyIsLike(propertyname='apiso:AnyText',literal=('*%s*' % val),\n",
    "                        escapeChar='\\\\',wildCard='*',singleChar='?')\n",
    "filter_list = [fes.And([filter1, filter2])] "
   ]
  },
  {
   "cell_type": "code",
   "execution_count": 7,
   "metadata": {
    "collapsed": false
   },
   "outputs": [
    {
     "name": "stdout",
     "output_type": "stream",
     "text": [
      "getting records 0 to 10\n",
      "CariCOOS Realtime Buoy Observations\n",
      "CariCOOS Realtime Buoy Observations\n",
      "None\n",
      "\n"
     ]
    }
   ],
   "source": [
    "startposition = 0\n",
    "maxrecords = 50\n",
    "while True:\n",
    "    print 'getting records %d to %d' % (startposition, startposition+pagesize)\n",
    "    csw.getrecords2(constraints=filter_list,\n",
    "                    startposition=startposition, maxrecords=pagesize, sortby=sortby)\n",
    "    for rec,item in csw.records.iteritems():\n",
    "        print(item.title)\n",
    "    print\n",
    "    if csw.results['nextrecord'] == 0:\n",
    "        break\n",
    "    startposition += pagesize\n",
    "    if startposition >= maxrecords:\n",
    "        break"
   ]
  },
  {
   "cell_type": "code",
   "execution_count": 8,
   "metadata": {
    "collapsed": false
   },
   "outputs": [
    {
     "name": "stdout",
     "output_type": "stream",
     "text": [
      "CariCOOS Realtime Buoy Observations\n"
     ]
    },
    {
     "data": {
      "text/plain": [
       "[{'scheme': 'WWW:LINK',\n",
       "  'url': 'http://dm2.caricoos.org/thredds/dodsC/UMO/DSG/SOS/VIA/WQM/HistoricRealtime/Agg.ncml.html'},\n",
       " {'scheme': 'WWW:LINK',\n",
       "  'url': 'http://www.ncdc.noaa.gov/oa/wct/wct-jnlp-beta.php?singlefile=http://dm2.caricoos.org/thredds/dodsC/UMO/DSG/SOS/VIA/WQM/HistoricRealtime/Agg.ncml'},\n",
       " {'scheme': 'OPeNDAP:OPeNDAP',\n",
       "  'url': 'http://dm2.caricoos.org/thredds/dodsC/UMO/DSG/SOS/VIA/WQM/HistoricRealtime/Agg.ncml'},\n",
       " {'scheme': 'OGC:SOS',\n",
       "  'url': 'http://dm2.caricoos.org/thredds/sos/UMO/DSG/SOS/VIA/WQM/HistoricRealtime/Agg.ncml?service=SOS&version=1.0.0&request=GetCapabilities'}]"
      ]
     },
     "execution_count": 8,
     "metadata": {},
     "output_type": "execute_result"
    }
   ],
   "source": [
    "choice=np.random.choice(list(csw.records.keys()))\n",
    "print(csw.records[choice].title)\n",
    "csw.records[choice].references"
   ]
  },
  {
   "cell_type": "markdown",
   "metadata": {},
   "source": [
    "Lets see what the full XML record looks like"
   ]
  },
  {
   "cell_type": "code",
   "execution_count": 9,
   "metadata": {
    "collapsed": false
   },
   "outputs": [
    {
     "data": {
      "text/plain": [
       "'<csw:SummaryRecord xmlns:csw=\"http://www.opengis.net/cat/csw/2.0.2\" xmlns:dc=\"http://purl.org/dc/elements/1.1/\" xmlns:inspire_common=\"http://inspire.ec.europa.eu/schemas/common/1.0\" xmlns:atom=\"http://www.w3.org/2005/Atom\" xmlns:xs=\"http://www.w3.org/2001/XMLSchema\" xmlns:dct=\"http://purl.org/dc/terms/\" xmlns:ows=\"http://www.opengis.net/ows\" xmlns:apiso=\"http://www.opengis.net/cat/csw/apiso/1.0\" xmlns:gml=\"http://www.opengis.net/gml\" xmlns:dif=\"http://gcmd.gsfc.nasa.gov/Aboutus/xml/dif/\" xmlns:xlink=\"http://www.w3.org/1999/xlink\" xmlns:gco=\"http://www.isotc211.org/2005/gco\" xmlns:gmd=\"http://www.isotc211.org/2005/gmd\" xmlns:rdf=\"http://www.w3.org/1999/02/22-rdf-syntax-ns#\" xmlns:srv=\"http://www.isotc211.org/2005/srv\" xmlns:ogc=\"http://www.opengis.net/ogc\" xmlns:fgdc=\"http://www.opengis.net/cat/csw/csdgm\" xmlns:inspire_ds=\"http://inspire.ec.europa.eu/schemas/inspire_ds/1.0\" xmlns:xsi=\"http://www.w3.org/2001/XMLSchema-instance\" xmlns:os=\"http://a9.com/-/spec/opensearch/1.1/\" xmlns:soapenv=\"http://www.w3.org/2003/05/soap-envelope\" xmlns:sitemap=\"http://www.sitemaps.org/schemas/sitemap/0.9\"><dc:identifier>edu.maine:VIA</dc:identifier><dc:title>CariCOOS Realtime Buoy Observations</dc:title><dc:type>dataset</dc:type><dc:subject>Oceans &gt; Ocean Temperature &gt; Water Temperature</dc:subject><dc:subject>Oceans &gt; Ocean Pressure &gt; Sea Level Pressure</dc:subject><dc:subject>Oceans &gt; Ocean Chemistry &gt; Oxygen</dc:subject><dc:subject>Oceans &gt; Ocean Chemistry &gt; Chlorophyll</dc:subject><dc:subject>Oceans &gt; Ocean Optics &gt; Turbidity</dc:subject><dc:subject>Oceans &gt; Salinity/Density &gt; Conductivity</dc:subject><dc:subject>Oceans &gt; Salinity/Density &gt; Salinity</dc:subject><dc:subject>Oceans &gt; Salinity/Density &gt; Density</dc:subject><dc:subject>Oceans &gt; Ocean Waves &gt; Significant Wave Height</dc:subject><dc:subject>Oceans &gt; Ocean Waves &gt; Wave Period</dc:subject><dc:subject>Oceans &gt; Ocean Winds &gt; Surface Winds</dc:subject><dc:subject>Oceans &gt; Ocean Circulation &gt; Ocean Currents</dc:subject><dc:subject>The Project Name</dc:subject><dc:subject>CariCOOS</dc:subject><dc:subject>station_name</dc:subject><dc:subject>sea_water_electrical_conductivity</dc:subject><dc:subject>conductivity data_quality</dc:subject><dc:subject>sea_water_temperature data_quality</dc:subject><dc:subject>sea_water_salinity data_quality</dc:subject><dc:subject>sea_water_density</dc:subject><dc:subject>sea_water_density data_quality</dc:subject><dc:subject>dissolved_oxygen data_quality</dc:subject><dc:subject>chlorophyll_concentration_in_sea_water</dc:subject><dc:subject>chlorophyll data_quality</dc:subject><dc:subject>turbidity_of_sea_water</dc:subject><dc:subject>turbidity data_quality</dc:subject><dc:subject>offset_time</dc:subject><dc:subject>time_created</dc:subject><dc:subject>time_modified</dc:subject><dc:subject>longitude</dc:subject><dc:subject>latitude</dc:subject><dc:subject>depth</dc:subject><dc:subject>time</dc:subject><dct:references scheme=\"WWW:LINK\">http://dm2.caricoos.org/thredds/dodsC/UMO/DSG/SOS/VIA/WQM/HistoricRealtime/Agg.ncml.html</dct:references><dct:references scheme=\"WWW:LINK\">http://www.ncdc.noaa.gov/oa/wct/wct-jnlp-beta.php?singlefile=http://dm2.caricoos.org/thredds/dodsC/UMO/DSG/SOS/VIA/WQM/HistoricRealtime/Agg.ncml</dct:references><dct:references scheme=\"OPeNDAP:OPeNDAP\">http://dm2.caricoos.org/thredds/dodsC/UMO/DSG/SOS/VIA/WQM/HistoricRealtime/Agg.ncml</dct:references><dct:references scheme=\"OGC:SOS\">http://dm2.caricoos.org/thredds/sos/UMO/DSG/SOS/VIA/WQM/HistoricRealtime/Agg.ncml?service=SOS&amp;version=1.0.0&amp;request=GetCapabilities</dct:references><dc:relation/><dct:modified>2015-05-12</dct:modified><dct:abstract>Ocean observation data from (CariCOOS).</dct:abstract><ows:BoundingBox crs=\"urn:x-ogc:def:crs:EPSG:6.11:4326\" dimensions=\"2\"><ows:LowerCorner>18.26 -65.0</ows:LowerCorner><ows:UpperCorner>18.26 -65.0</ows:UpperCorner></ows:BoundingBox></csw:SummaryRecord>'"
      ]
     },
     "execution_count": 9,
     "metadata": {},
     "output_type": "execute_result"
    }
   ],
   "source": [
    "csw.records[choice].xml"
   ]
  },
  {
   "cell_type": "markdown",
   "metadata": {},
   "source": [
    "Yuk!  That's why we use OWSlib!  :-)\n",
    "\n",
    "Now add contraint to return only records that have either the OPeNDAP or SOS service.  \n",
    "\n",
    "Let's first see what services are advertised:"
   ]
  },
  {
   "cell_type": "code",
   "execution_count": 10,
   "metadata": {
    "collapsed": false
   },
   "outputs": [
    {
     "name": "stdout",
     "output_type": "stream",
     "text": [
      "[None, 'ERDDAP OPeNDAP', 'ERDDAP tabledap,OPeNDAP,ERDDAP Subset', 'OPeNDAP:OPeNDAP', 'OPeNDAP:OPeNDAP,OGC:SOS', 'OPeNDAP:OPeNDAP,OGC:WMS,file', 'Open Geospatial Consortium Web Coverage Service (WCS),Open Geospatial Consortium Web Map Service (WMS),Open Geospatial Consortium Web Map Service - Cached (WMS-C)', 'Open Geospatial Consortium Web Feature Service (WFS),Open Geospatial Consortium Web Map Service (WMS)', 'Open Geospatial Consortium Web Feature Service (WFS),Open Geospatial Consortium Web Map Service (WMS),Open Geospatial Consortium Web Map Service - Cached (WMS-C)', 'Open Geospatial Consortium Web Map Service (WMS)', 'THREDDS OPeNDAP', 'THREDDS OPeNDAP,Open Geospatial Consortium Sensor Observation Service (SOS)', 'THREDDS OPeNDAP,Open Geospatial Consortium Sensor Observation Service (SOS),THREDDS HTTP Service', 'THREDDS OPeNDAP,Open Geospatial Consortium Web Coverage Service (WCS),Open Geospatial Consortium Sensor Observation Service (SOS),THREDDS NetCDF Subset Service', 'THREDDS OPeNDAP,Open Geospatial Consortium Web Coverage Service (WCS),Open Geospatial Consortium Web Map Service (WMS),THREDDS NetCDF Subset Service', 'THREDDS OPeNDAP,Open Geospatial Consortium Web Coverage Service (WCS),THREDDS NetCDF Subset Service', 'THREDDS OPeNDAP,Open Geospatial Consortium Web Map Service (WMS)', 'THREDDS OPeNDAP,Open Geospatial Consortium Web Map Service (WMS),THREDDS HTTP Service', 'THREDDS OPeNDAP,Open Geospatial Consortium Web Map Service (WMS),THREDDS NetCDF Subset Service', 'THREDDS OPeNDAP,THREDDS HTTP Service']\n"
     ]
    }
   ],
   "source": [
    "try:\n",
    "    csw.get_operation_by_name('GetDomain')\n",
    "    csw.getdomain('apiso:ServiceType', 'property')\n",
    "    print(csw.results['values'])\n",
    "except:\n",
    "    print('GetDomain not supported')"
   ]
  },
  {
   "cell_type": "code",
   "execution_count": 11,
   "metadata": {
    "collapsed": false
   },
   "outputs": [],
   "source": [
    "#val = 'OPeNDAP'\n",
    "val = 'SOS'\n",
    "filter3 = fes.PropertyIsLike(propertyname='apiso:ServiceType',literal=('*%s*' % val),\n",
    "                        escapeChar='\\\\',wildCard='*',singleChar='?')\n",
    "\n",
    "services = ['OPeNDAP','SOS'] \n",
    "service_filt = fes.Or([fes.PropertyIsLike(propertyname='apiso:ServiceType',literal=('*%s*' % val),\n",
    "                    escapeChar='\\\\',wildCard='*',singleChar='?') for val in services])\n",
    "    \n",
    "filter_list = [fes.And([filter1, filter2, filter3])]\n",
    "#filter_list = [fes.And([filter1,  filter3])]\n",
    "#filter_list = [fes.And([filter1, filter2, service_filt])]"
   ]
  },
  {
   "cell_type": "code",
   "execution_count": 12,
   "metadata": {
    "collapsed": false
   },
   "outputs": [
    {
     "name": "stdout",
     "output_type": "stream",
     "text": [
      "getting records 0 to 10\n",
      "CariCOOS Realtime Buoy Observations\n",
      "CariCOOS Realtime Buoy Observations\n",
      "\n"
     ]
    }
   ],
   "source": [
    "startposition = 0\n",
    "while True:\n",
    "    print 'getting records %d to %d' % (startposition, startposition+pagesize)\n",
    "    csw.getrecords2(constraints=filter_list,\n",
    "                    startposition=startposition, maxrecords=pagesize, sortby=sortby)\n",
    "    for rec,item in csw.records.iteritems():\n",
    "        print(item.title)\n",
    "    print\n",
    "    if csw.results['nextrecord'] == 0:\n",
    "        break\n",
    "    startposition += pagesize\n",
    "    if startposition >= maxrecords:\n",
    "        break  "
   ]
  },
  {
   "cell_type": "markdown",
   "metadata": {},
   "source": [
    "Let's try adding a search for a non-existant service, which should result in no records back:"
   ]
  },
  {
   "cell_type": "code",
   "execution_count": 13,
   "metadata": {
    "collapsed": false
   },
   "outputs": [
    {
     "name": "stdout",
     "output_type": "stream",
     "text": [
      "0\n"
     ]
    }
   ],
   "source": [
    "val = 'not_a_real_service'\n",
    "filter3 = fes.PropertyIsLike(propertyname='apiso:ServiceType',literal=('*%s*' % val),\n",
    "                        escapeChar='\\\\',wildCard='*',singleChar='?')\n",
    "filter_list = [fes.And([filter1, filter2, filter3])]\n",
    "\n",
    "csw.getrecords2(constraints=filter_list,maxrecords=100,esn='full')\n",
    "print len(csw.records.keys())\n",
    "for rec in list(csw.records.keys()):\n",
    "    print csw.records[rec].title "
   ]
  },
  {
   "cell_type": "markdown",
   "metadata": {
    "collapsed": true
   },
   "source": [
    "Good!"
   ]
  },
  {
   "cell_type": "markdown",
   "metadata": {},
   "source": [
    "Now add bounding box constraint. To specify lon,lat order for bbox (which we want to do so that we can use the same bbox with either geoportal server or pycsw requests), we need to request the bounding box specifying the CRS84 coordinate reference system.   The CRS84 option is available in `pycsw 1.1.10`+. The ability to specify the `crs` in the bounding box request is available in `owslib 0.8.12`+.  For more info on the bounding box problem and how it was solved, see this [pycsw issue](https://github.com/geopython/pycsw/issues/287), this [geoportal server issue](https://github.com/Esri/geoportal-server/issues/124), and this [owslib issue](https://github.com/geopython/OWSLib/issues/201)"
   ]
  },
  {
   "cell_type": "code",
   "execution_count": 14,
   "metadata": {
    "collapsed": false
   },
   "outputs": [
    {
     "name": "stdout",
     "output_type": "stream",
     "text": [
      "getting records 0 to 10\n",
      "\n"
     ]
    }
   ],
   "source": [
    "bbox = [-158.4, 21.24, -157.5, 21.77]    # [lon_min, lat_min, lon_max, lat_max]\n",
    "bbox_filter = fes.BBox(bbox,crs='urn:ogc:def:crs:OGC:1.3:CRS84')\n",
    "filter_list = [fes.And([filter1, filter2, service_filt, bbox_filter])]\n",
    "\n",
    "startposition = 0\n",
    "while True:\n",
    "    print 'getting records %d to %d' % (startposition, startposition+pagesize)\n",
    "    csw.getrecords2(constraints=filter_list,\n",
    "                    startposition=startposition, maxrecords=pagesize, sortby=sortby)\n",
    "    for rec,item in csw.records.iteritems():\n",
    "        print(item.title)\n",
    "    print\n",
    "    if csw.results['nextrecord'] == 0:\n",
    "        break\n",
    "    startposition += pagesize\n",
    "    if startposition >= maxrecords:\n",
    "        break  "
   ]
  },
  {
   "cell_type": "markdown",
   "metadata": {},
   "source": [
    "Now add time contraints.  Here we first define a function that will return records if any data in the records overlaps the specified time period"
   ]
  },
  {
   "cell_type": "code",
   "execution_count": 15,
   "metadata": {
    "collapsed": true
   },
   "outputs": [],
   "source": [
    "def dateRange(start_date='1900-01-01',stop_date='2100-01-01',constraint='overlaps'):\n",
    "    if constraint == 'overlaps':\n",
    "        start = fes.PropertyIsLessThanOrEqualTo(propertyname='apiso:TempExtent_begin', literal=stop_date)\n",
    "        stop = fes.PropertyIsGreaterThanOrEqualTo(propertyname='apiso:TempExtent_end', literal=start_date)\n",
    "    elif constraint == 'within':\n",
    "        start = fes.PropertyIsGreaterThanOrEqualTo(propertyname='apiso:TempExtent_begin', literal=start_date)\n",
    "        stop = fes.PropertyIsLessThanOrEqualTo(propertyname='apiso:TempExtent_end', literal=stop_date)\n",
    "    return start,stop"
   ]
  },
  {
   "cell_type": "code",
   "execution_count": 16,
   "metadata": {
    "collapsed": false
   },
   "outputs": [
    {
     "name": "stdout",
     "output_type": "stream",
     "text": [
      "('2016-08-30 16:00', 'to', '2016-09-05 16:00')\n"
     ]
    }
   ],
   "source": [
    "import datetime as dt\n",
    "# 2014 recent\n",
    "jd_start = dt.datetime(1988,1,1)\n",
    "jd_stop = dt.datetime(1988,3,1)\n",
    "\n",
    "# 2011 \n",
    "#jd_start = dt.datetime(2013,4,20)\n",
    "#jd_stop = dt.datetime(2013,4,24)\n",
    "\n",
    "# ... or relative to now\n",
    "jd_now = dt.datetime.utcnow()\n",
    "jd_start = jd_now - dt.timedelta(days=3)\n",
    "jd_stop = jd_now + dt.timedelta(days=3)\n",
    "\n",
    "start_date = jd_start.strftime('%Y-%m-%d %H:00')\n",
    "stop_date  = jd_stop.strftime('%Y-%m-%d %H:00')\n",
    "\n",
    "jd_start = dt.datetime.strptime(start_date,'%Y-%m-%d %H:%M')\n",
    "jd_stop = dt.datetime.strptime(stop_date,'%Y-%m-%d %H:%M')\n",
    "\n",
    "print(start_date,'to',stop_date)\n",
    "start,stop = dateRange(start_date,stop_date)"
   ]
  },
  {
   "cell_type": "code",
   "execution_count": 17,
   "metadata": {
    "collapsed": false
   },
   "outputs": [
    {
     "name": "stdout",
     "output_type": "stream",
     "text": [
      "getting records 0 to 10\n",
      "\n"
     ]
    }
   ],
   "source": [
    "filter_list = [fes.And([filter1, filter2, service_filt, bbox_filter, start, stop])]\n",
    "\n",
    "startposition = 0\n",
    "while True:\n",
    "    print 'getting records %d to %d' % (startposition, startposition+pagesize)\n",
    "    csw.getrecords2(constraints=filter_list,\n",
    "                    startposition=startposition, maxrecords=pagesize, sortby=sortby)\n",
    "    for rec,item in csw.records.iteritems():\n",
    "        print(item.title)\n",
    "    print\n",
    "    if csw.results['nextrecord'] == 0:\n",
    "        break\n",
    "    startposition += pagesize\n",
    "    if startposition >= maxrecords:\n",
    "        break  "
   ]
  },
  {
   "cell_type": "markdown",
   "metadata": {},
   "source": [
    "Now add a NOT filter to eliminate some entries"
   ]
  },
  {
   "cell_type": "code",
   "execution_count": 18,
   "metadata": {
    "collapsed": false
   },
   "outputs": [],
   "source": [
    "kw = dict(wildCard='*', escapeChar='\\\\',\n",
    "          singleChar='?', propertyname='apiso:AnyText')\n",
    "\n",
    "not_filt = fes.Not([fes.PropertyIsLike(literal='*Waikiki*', **kw)])"
   ]
  },
  {
   "cell_type": "code",
   "execution_count": 19,
   "metadata": {
    "collapsed": false
   },
   "outputs": [
    {
     "name": "stdout",
     "output_type": "stream",
     "text": [
      "getting records 0 to 10\n",
      "\n"
     ]
    }
   ],
   "source": [
    "filter_list = [fes.And([filter1, filter2, service_filt, bbox_filter, start, stop, not_filt])]\n",
    "\n",
    "startposition = 0\n",
    "while True:\n",
    "    print 'getting records %d to %d' % (startposition, startposition+pagesize)\n",
    "    csw.getrecords2(constraints=filter_list,\n",
    "                    startposition=startposition, maxrecords=pagesize, sortby=sortby)\n",
    "    for rec,item in csw.records.iteritems():\n",
    "        print(item.title)\n",
    "    print\n",
    "    if csw.results['nextrecord'] == 0:\n",
    "        break\n",
    "    startposition += pagesize\n",
    "    if startposition >= maxrecords:\n",
    "        break  "
   ]
  },
  {
   "cell_type": "markdown",
   "metadata": {},
   "source": [
    "Hopefully this notebook demonstrated some of the power (and complexity) of CSW!  ;-)"
   ]
  },
  {
   "cell_type": "code",
   "execution_count": null,
   "metadata": {
    "collapsed": true
   },
   "outputs": [],
   "source": []
  }
 ],
 "metadata": {
  "gist_id": "",
  "kernelspec": {
   "display_name": "Python 2",
   "language": "python",
   "name": "python2"
  },
  "language_info": {
   "codemirror_mode": {
    "name": "ipython",
    "version": 2
   },
   "file_extension": ".py",
   "mimetype": "text/x-python",
   "name": "python",
   "nbconvert_exporter": "python",
   "pygments_lexer": "ipython2",
   "version": "2.7.12"
  }
 },
 "nbformat": 4,
 "nbformat_minor": 0
}
