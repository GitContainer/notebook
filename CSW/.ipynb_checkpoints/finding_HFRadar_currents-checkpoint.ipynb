{
 "cells": [
  {
   "cell_type": "markdown",
   "metadata": {
    "collapsed": false
   },
   "source": [
    "# Finding Near real-time current data"
   ]
  },
  {
   "cell_type": "code",
   "execution_count": 4,
   "metadata": {
    "collapsed": true
   },
   "outputs": [],
   "source": [
    "import os\n",
    "import sys\n",
    "import time\n",
    "import warnings\n",
    "\n",
    "ioos_tools = os.path.join(os.path.pardir)\n",
    "sys.path.append(ioos_tools)"
   ]
  },
  {
   "cell_type": "code",
   "execution_count": 5,
   "metadata": {
    "collapsed": true
   },
   "outputs": [],
   "source": [
    "from datetime import datetime, timedelta\n",
    "\n",
    "# Region.\n",
    "bbox = [-123, 36, -121, 40]\n",
    "crs = 'urn:ogc:def:crs:OGC:1.3:CRS84'\n",
    "    \n",
    "# Temporal range.\n",
    "now = datetime.utcnow()\n",
    "start,  stop = now - timedelta(days=(7)), now\n",
    "\n",
    "# Names.\n",
    "cf_names = ['*surface_northward_sea_water_velocity*',\n",
    "            '*surface_eastward_sea_water_velocity*']"
   ]
  },
  {
   "cell_type": "code",
   "execution_count": 17,
   "metadata": {
    "collapsed": false
   },
   "outputs": [],
   "source": [
    "from owslib import fes\n",
    "from ioos_tools.ioos import fes_date_filter\n",
    "\n",
    "kw = dict(wildCard='*', escapeChar='\\\\',\n",
    "          singleChar='?', propertyname='apiso:AnyText')\n",
    "\n",
    "or_filt = fes.Or([fes.PropertyIsLike(literal=('*%s*' % val), **kw)\n",
    "                  for val in cf_names])\n",
    "\n",
    "# Exclude ROMS Averages and History files.\n",
    "not_filt = fes.Not([fes.PropertyIsLike(literal='*GNOME*', **kw)])\n",
    "\n",
    "begin, end = fes_date_filter(start, stop)\n",
    "bbox_crs = fes.BBox(bbox, crs=crs)\n",
    "filter_list = [fes.And([bbox_crs, begin, end, or_filt, not_filt])]\n",
    "filter_list = [fes.And([or_filt, not_filt])]"
   ]
  },
  {
   "cell_type": "code",
   "execution_count": 20,
   "metadata": {
    "collapsed": false
   },
   "outputs": [
    {
     "name": "stdout",
     "output_type": "stream",
     "text": [
      "http://www.ngdc.noaa.gov/geoportal/csw\n",
      "['USEGC/RTV/6km/HFRADAR,_US_East_and_Gulf_Coast,_6km_Resolution,_Hourly_RTV_best.ncd', 'USHI/RTV/2km/HFRADAR,_US_Hawaii,_2km_Resolution,_Hourly_RTV_best.ncd', 'HFRNet/AKNS/6km/hourly/RTV', 'HFRNet/PRVI/2km/hourly/RTV', 'HFRNet/PRVI/6km/hourly/RTV', 'HFRNet/USEGC/1km/hourly/RTV', 'HFRNet/USEGC/2km/hourly/RTV', 'HFRNet/USEGC/6km/hourly/RTV', 'HFRNet/USHI/1km/hourly/RTV', 'HFRNet/USHI/2km/hourly/RTV', 'HFRNet/USHI/6km/hourly/RTV', 'HFRNet/USWC/1km/hourly/RTV', 'HFRNet/USWC/2km/hourly/RTV', 'HFRNet/USWC/6km/hourly/RTV', 'HFRNet/USWC/500m/hourly/RTV', 'HFR/AKNS/6km/hourly/RTV/HFRADAR,_Alaska_-_North_Slope,_6km_Resolution,_Hourly_RTV_best.ncd', 'HFR/PRVI/2km/hourly/RTV/HFRADAR,_Puerto_Rico_and_the_US_Virgin_Islands,_2km_Resolution,_Hourly_RTV_best.ncd', 'HFR/PRVI/6km/hourly/RTV/HFRADAR,_Puerto_Rico_and_the_US_Virgin_Islands,_6km_Resolution,_Hourly_RTV_best.ncd', 'HFR/USEGC/1km/hourly/RTV/HFRADAR,_US_East_and_Gulf_Coast,_1km_Resolution,_Hourly_RTV_best.ncd', 'HFR/USEGC/2km/hourly/RTV/HFRADAR,_US_East_and_Gulf_Coast,_2km_Resolution,_Hourly_RTV_best.ncd', 'HFR/USEGC/6km/hourly/RTV/HFRADAR,_US_East_and_Gulf_Coast,_6km_Resolution,_Hourly_RTV_best.ncd', 'HFR/USHI/1km/hourly/RTV/HFRADAR,_US_Hawaii,_1km_Resolution,_Hourly_RTV_best.ncd', 'HFR/USHI/2km/hourly/RTV/HFRADAR,_US_Hawaii,_2km_Resolution,_Hourly_RTV_best.ncd', 'HFR/USHI/6km/hourly/RTV/HFRADAR,_US_Hawaii,_6km_Resolution,_Hourly_RTV_best.ncd', 'HFR/USWC/1km/hourly/RTV/HFRADAR,_US_West_Coast,_1km_Resolution,_Hourly_RTV_best.ncd', 'HFR/USWC/2km/hourly/RTV/HFRADAR,_US_West_Coast,_2km_Resolution,_Hourly_RTV_best.ncd', 'HFRADAR_USHI_hourly_RTV_1km', 'HFRADAR_USHI_hourly_RTV_2km', 'HFRADAR_USHI_hourly_RTV_6km']\n",
      "https://dev-catalog.ioos.us/csw\n",
      "['ud_134-20150122T1955', 'deployments/rutgers/unit_191-20150105T1443/unit_191-20150105T1443.nc3.nc', 'deployments/rutgers/ru23-20121025T1944/ru23-20121025T1944.nc3.nc', 'deployments/rutgers/ud_134-20150122T1955/ud_134-20150122T1955.nc3.nc', 'ncep_global', 'roms_hiog_forecast', 'FVCOM-Nowcast-Agg', 'deployments/rutgers/ud_134-20150105T1601/ud_134-20150105T1601.nc3.nc', 'UCSC', 'HYCOM']\n",
      "http://geoport.whoi.edu/csw\n",
      "[]\n"
     ]
    }
   ],
   "source": [
    "from owslib.csw import CatalogueServiceWeb\n",
    "\n",
    "\n",
    "catalogs = ['http://www.ngdc.noaa.gov/geoportal/csw',\n",
    "            'https://dev-catalog.ioos.us/csw',\n",
    "            'http://geoport.whoi.edu/csw']\n",
    "\n",
    "for endpoint in catalogs:\n",
    "    csw = CatalogueServiceWeb(endpoint, timeout=60)\n",
    "    csw.getrecords2(constraints=filter_list, maxrecords=1000, esn='full')\n",
    "    print(endpoint)\n",
    "    print(csw.records.keys())"
   ]
  },
  {
   "cell_type": "code",
   "execution_count": null,
   "metadata": {
    "collapsed": true
   },
   "outputs": [],
   "source": []
  },
  {
   "cell_type": "code",
   "execution_count": null,
   "metadata": {
    "collapsed": true
   },
   "outputs": [],
   "source": []
  }
 ],
 "metadata": {
  "kernelspec": {
   "display_name": "Python 2",
   "language": "python",
   "name": "python2"
  },
  "language_info": {
   "codemirror_mode": {
    "name": "ipython",
    "version": 2
   },
   "file_extension": ".py",
   "mimetype": "text/x-python",
   "name": "python",
   "nbconvert_exporter": "python",
   "pygments_lexer": "ipython2",
   "version": "2.7.12"
  }
 },
 "nbformat": 4,
 "nbformat_minor": 0
}
