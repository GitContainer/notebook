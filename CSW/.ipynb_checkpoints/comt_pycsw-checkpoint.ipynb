{
 "metadata": {
  "gist_id": "58f80172a77b8182843f",
  "name": "",
  "signature": "sha256:ca6f12109b316b09d7347e8f8d9aefffeaef426aedf4fc438c4e17dcf6c98c83"
 },
 "nbformat": 3,
 "nbformat_minor": 0,
 "worksheets": [
  {
   "cells": [
    {
     "cell_type": "markdown",
     "metadata": {},
     "source": [
      "#Use CSW to find ROMS data at COMT pycsw"
     ]
    },
    {
     "cell_type": "code",
     "collapsed": false,
     "input": [
      "from owslib.csw import CatalogueServiceWeb\n",
      "from owslib import fes"
     ],
     "language": "python",
     "metadata": {},
     "outputs": [],
     "prompt_number": 12
    },
    {
     "cell_type": "markdown",
     "metadata": {},
     "source": [
      "##Find model results at COMT pycsw"
     ]
    },
    {
     "cell_type": "code",
     "collapsed": false,
     "input": [
      "endpoint = 'http://comt.sura.org:8000/pycsw'   # NODC/UAF Geoportal: granule level\n",
      "csw = CatalogueServiceWeb(endpoint,timeout=60)\n",
      "print csw.version"
     ],
     "language": "python",
     "metadata": {},
     "outputs": [
      {
       "output_type": "stream",
       "stream": "stdout",
       "text": [
        "2.0.2\n"
       ]
      }
     ],
     "prompt_number": 13
    },
    {
     "cell_type": "code",
     "collapsed": false,
     "input": [
      "csw.get_operation_by_name('GetRecords').constraints"
     ],
     "language": "python",
     "metadata": {},
     "outputs": [
      {
       "metadata": {},
       "output_type": "pyout",
       "prompt_number": 14,
       "text": [
        "[Constraint: SupportedISOQueryables - ['apiso:DistanceValue', 'apiso:Abstract', 'apiso:RevisionDate', 'apiso:Subject', 'apiso:KeywordType', 'apiso:Title', 'apiso:CRS', 'apiso:PublicationDate', 'apiso:Type', 'apiso:AlternateTitle', 'apiso:BoundingBox', 'apiso:AnyText', 'apiso:ParentIdentifier', 'apiso:Modified', 'apiso:Operation', 'apiso:Format', 'apiso:TempExtent_end', 'apiso:DistanceUOM', 'apiso:OrganisationName', 'apiso:ServiceType', 'apiso:TempExtent_begin', 'apiso:ResourceLanguage', 'apiso:ServiceTypeVersion', 'apiso:OperatesOn', 'apiso:Denominator', 'apiso:HasSecurityConstraints', 'apiso:OperatesOnIdentifier', 'apiso:GeographicDescriptionCode', 'apiso:Language', 'apiso:Identifier', 'apiso:OperatesOnName', 'apiso:TopicCategory', 'apiso:CreationDate', 'apiso:CouplingType'],\n",
        " Constraint: AdditionalQueryables - ['apiso:Lineage', 'apiso:Classification', 'apiso:Creator', 'apiso:Relation', 'apiso:OtherConstraints', 'apiso:SpecificationTitle', 'apiso:ResponsiblePartyRole', 'apiso:SpecificationDateType', 'apiso:Degree', 'apiso:Contributor', 'apiso:ConditionApplyingToAccessAndUse', 'apiso:SpecificationDate', 'apiso:AccessConstraints', 'apiso:Publisher'],\n",
        " Constraint: SupportedDublinCoreQueryables - ['dc:contributor', 'dc:source', 'dc:language', 'dc:title', 'dc:subject', 'dc:creator', 'dc:type', 'ows:BoundingBox', 'dct:modified', 'dct:abstract', 'dc:relation', 'dc:date', 'dc:identifier', 'dc:publisher', 'dc:format', 'csw:AnyText', 'dc:rights']]"
       ]
      }
     ],
     "prompt_number": 14
    },
    {
     "cell_type": "code",
     "collapsed": false,
     "input": [
      "val = 'ROMS'\n",
      "filter1 = fes.PropertyIsLike(propertyname='apiso:AnyText',literal=('*%s*' % val),\n",
      "                        escapeChar='\\\\',wildCard='*',singleChar='?')\n",
      "filter_list = [ filter1 ]"
     ],
     "language": "python",
     "metadata": {},
     "outputs": [],
     "prompt_number": 15
    },
    {
     "cell_type": "code",
     "collapsed": false,
     "input": [
      "csw.getrecords2(constraints=filter_list,maxrecords=100,esn='full')\n",
      "print len(csw.records.keys())\n",
      "for rec in list(csw.records.keys()):\n",
      "    print csw.records[rec].title \n",
      "    "
     ],
     "language": "python",
     "metadata": {},
     "outputs": [
      {
       "output_type": "stream",
       "stream": "stdout",
       "text": [
        "15\n",
        "UCSC California Current System, version wc12.0_coamps_hycom_gls_v736_tave24_01 with npzd\n",
        "Estuarine Hypoxia : VIMS : CBOFS : 2004-2005\n",
        "Estuarine Hypoxia : VIMS : ChesROMS : 1term constR\n",
        "Estuarine Hypoxia : VIMS : ChesROMS : 1term ddR\n",
        "Estuarine Hypoxia : WHOI : ChesROMS-1term : 1991-2005 1termDO\n",
        "Shelf Hypoxia : DAL : ROMS : 2004-2009 climatology obc with oxygen hnd soc 20layers\n",
        "Shelf Hypoxia : DAL : ROMS : 2004-2009 climatology obc with oxygen inst rem 20layers\n",
        "Shelf Hypoxia : DAL : ROMS : 2004-2009 hycom obc with oxygen hnd soc 30layers\n",
        "Shelf Hypoxia : DAL : ROMS : 2004-2009 hycom obc with oxygen inst rem 30layers\n",
        "Shelf Hypoxia : DAL : ROMS : 2004-2009 ias obc with oxygen hnd soc 30layers\n",
        "Shelf Hypoxia : DAL : ROMS : 2004-2009 ias obc with oxygen inst rem 30layers\n",
        "Shelf Hypoxia : TAMU : ROMS : 2004-2009 hycom obc 24h\n",
        "Shelf Hypoxia : TAMU : ROMS : 2004-2009 iasnfs obc 24h\n",
        "Shelf Hypoxia : TAMU : ROMS : 2004-2009 hycom obc 24h\n",
        "ROMS/TOMS 3.0 - New Floria Shelf Application\n"
       ]
      }
     ],
     "prompt_number": 16
    },
    {
     "cell_type": "code",
     "collapsed": false,
     "input": [
      "choice=np.random.choice(list(csw.records.keys()))\n",
      "print(csw.records[choice].title)\n",
      "csw.records[choice].references"
     ],
     "language": "python",
     "metadata": {},
     "outputs": [
      {
       "output_type": "stream",
       "stream": "stdout",
       "text": [
        "Estuarine Hypoxia : VIMS : ChesROMS : 1term constR\n"
       ]
      },
      {
       "metadata": {},
       "output_type": "pyout",
       "prompt_number": 17,
       "text": [
        "[{'scheme': 'WWW:LINK',\n",
        "  'url': 'http://comt.sura.org/thredds/dodsC/data/comt_1_archive/estuarine_hypoxia/VIMS_ChesROMS/1term_constR.html'},\n",
        " {'scheme': 'WWW:LINK',\n",
        "  'url': 'http://www.ncdc.noaa.gov/oa/wct/wct-jnlp-beta.php?singlefile=http://comt.sura.org/thredds/dodsC/data/comt_1_archive/estuarine_hypoxia/VIMS_ChesROMS/1term_constR'},\n",
        " {'scheme': 'OPeNDAP:OPeNDAP',\n",
        "  'url': 'http://comt.sura.org/thredds/dodsC/data/comt_1_archive/estuarine_hypoxia/VIMS_ChesROMS/1term_constR'},\n",
        " {'scheme': 'OGC:WCS',\n",
        "  'url': 'http://comt.sura.org/thredds/wcs/data/comt_1_archive/estuarine_hypoxia/VIMS_ChesROMS/1term_constR?service=WCS&version=1.0.0&request=GetCapabilities'},\n",
        " {'scheme': 'OGC:WMS',\n",
        "  'url': 'http://comt.sura.org/thredds/wms/data/comt_1_archive/estuarine_hypoxia/VIMS_ChesROMS/1term_constR?service=WMS&version=1.3.0&request=GetCapabilities'},\n",
        " {'scheme': 'UNIDATA:NCSS',\n",
        "  'url': 'http://comt.sura.org/thredds/ncss/data/comt_1_archive/estuarine_hypoxia/VIMS_ChesROMS/1term_constR/dataset.html'}]"
       ]
      }
     ],
     "prompt_number": 17
    },
    {
     "cell_type": "markdown",
     "metadata": {},
     "source": [
      "Add bounding box constraint. To specify lon,lat order for bbox (which we want to do so that we can use the same bbox with either geoportal server or pycsw requests), we need to request the bounding box specifying the CRS84 coordinate reference system.   The CRS84 option is available in `pycsw 1.1.10`+. The ability to specify the `crs` in the bounding box request is available in `owslib 0.8.12`+.  For more info on the bounding box problem and how it was solved, see this [pycsw issue](https://github.com/geopython/pycsw/issues/287), this [geoportal server issue](https://github.com/Esri/geoportal-server/issues/124), and this [owslib issue](https://github.com/geopython/OWSLib/issues/201)"
     ]
    },
    {
     "cell_type": "code",
     "collapsed": false,
     "input": [
      "bbox = [-87.40, 24.25, -74.70, 36.70]\n",
      "bbox_filter = fes.BBox(bbox,crs='urn:ogc:def:crs:OGC:1.3:CRS84')\n",
      "filter_list = [filter1, bbox_filter]\n",
      "csw.getrecords2(constraints=filter_list, maxrecords=1000)"
     ],
     "language": "python",
     "metadata": {},
     "outputs": [],
     "prompt_number": 18
    },
    {
     "cell_type": "code",
     "collapsed": false,
     "input": [
      "print len(csw.records.keys())\n",
      "for rec in list(csw.records.keys()):\n",
      "    print csw.records[rec].title "
     ],
     "language": "python",
     "metadata": {},
     "outputs": [
      {
       "output_type": "stream",
       "stream": "stdout",
       "text": [
        "84\n",
        "NCOM Region 1 Aggregation/Best Time Series\n",
        "UCSC California Current System, version wc12.0_coamps_hycom_gls_v736_tave24_01 with npzd\n",
        "Estuarine Hypoxia : VIMS : CBOFS : 2004-2005\n",
        "Estuarine Hypoxia : VIMS : ChesROMS : 1term constR\n",
        "Estuarine Hypoxia : VIMS : ChesROMS : 1term ddR\n",
        "Estuarine Hypoxia : VIMS : EFDC : 2004_DO\n",
        "Estuarine Hypoxia : WHOI : ChesROMS-1term : 1991-2005 1termDO\n",
        "Inundation Tropical : MDL : SLOSH : Hurricane Ike final run egm3\n",
        "Inundation Tropical : MDL : SLOSH : Hurricane Rita final run egm3\n",
        "Inundation Tropical : UND : ADCIRC : Hurricane Ike 2D final run with waves\n",
        "Inundation Tropical : UND : ADCIRC : Hurricane Ike 2D final run without waves\n",
        "Inundation Tropical : UND : ADCIRC : Hurricane Ike 2D preliminary run 1 spinup\n",
        "Inundation Tropical : UND : ADCIRC : Hurricane Ike 2D preliminary run 2 spinup without advection implicit 1s\n",
        "Inundation Tropical : UND : ADCIRC : Hurricane Ike 2D preliminary run 3 spinup with levees\n",
        "Inundation Tropical : UND : ADCIRC : Hurricane Ike 2D preliminary run 4 spinup with levees and river flow\n",
        "Inundation Tropical : UND : ADCIRC : Hurricane Ike 2D preliminary run 5 tides only\n",
        "Inundation Tropical : UND : ADCIRC : Hurricane Ike 3D final run with waves\n",
        "Inundation Tropical : UND : ADCIRC : Hurricane Ike 3D final run without waves\n",
        "Inundation Tropical : UND : ADCIRC : Hurricane Ike 3D preliminary run 1 spinup\n",
        "Inundation Tropical : UND : ADCIRC : Hurricane Ike Timing with waves\n",
        "Inundation Tropical : UND : ADCIRC : Hurricane Ike Timing without waves\n",
        "Inundation Tropical : UND : ADCIRC : Hurricane Rita 2D final run with waves\n",
        "Inundation Tropical : UND : ADCIRC : Hurricane Rita 2D final run without waves\n",
        "Inundation Tropical : UND : ADCIRC : Hurricane Rita 2D preliminary run 1 spinup\n",
        "Inundation Tropical : UND : ADCIRC : Hurricane Rita 2D preliminary run 2 spinup without advection implicit 1s\n",
        "Inundation Tropical : UND : ADCIRC : Hurricane Rita 2D preliminary run 3 tides only\n",
        "Inundation Tropical : UND : ADCIRC : Hurricane Rita 2D preliminary run 4 with waves without advection implicit 1s\n",
        "Inundation Tropical : UND : ADCIRC : Hurricane Rita 2D preliminary run 5 without waves and advection implicit 1s\n",
        "Inundation Tropical : UND : ADCIRC : Hurricane Rita 3D final run with waves\n",
        "Inundation Tropical : UND : ADCIRC : Hurricane Rita 3D final run without waves\n",
        "Inundation Tropical : UND : ADCIRC : Hurricane Rita 3D preliminary run 1 spinup\n",
        "Inundation Tropical : UND : ADCIRC : Tides only 2D final run\n",
        "Inundation Tropical : UND : ADCIRC : Tides only 2D preliminary run 1 without advection implicit 1s\n",
        "Inundation Tropical : UND : ADCIRC : Tides only 3D final run\n",
        "Inundation Tropical : UND : SLOSH : Hurricane Ike final run egm3\n",
        "Inundation Tropical : UND : SLOSH : Hurricane Ike preliminary run 4 egm3 without tides\n",
        "Inundation Tropical : UND : SLOSH : Hurricane Ike preliminary run 5 egm3 with SLOSH winds\n",
        "Inundation Tropical : UND : SLOSH : Hurricane Ike preliminary run 6 egm3 with SLOSH winds without tides\n",
        "Inundation Tropical : UND : SLOSH : Hurricane Rita final run egm3\n",
        "Inundation Tropical : UND : SLOSH : Hurricane Rita preliminary run 4 egm3 without tides\n",
        "Inundation Tropical : UND : SLOSH : Hurricane Rita preliminary run 5 egm3 with SLOSH winds\n",
        "Inundation Tropical : UND : SLOSH : Hurricane Rita preliminary run 6 egm3 with SLOSH winds without tides\n",
        "Inundation Tropical : USF : FVCOM : Hurricane Ike 2D final run with waves\n",
        "Inundation Tropical : USF : FVCOM : Hurricane Ike 2D final run without waves\n",
        "Inundation Tropical : USF : FVCOM : Hurricane Ike 3D final run with waves\n",
        "Inundation Tropical : USF : FVCOM : Hurricane Ike 3D final run without waves\n",
        "Inundation Tropical : USF : FVCOM : Hurricane Rita 2D final run with waves\n",
        "Inundation Tropical : USF : FVCOM : Hurricane Rita 2D final run without waves\n",
        "Inundation Tropical : USF : FVCOM : Hurricane Rita 3D final run with waves\n",
        "Inundation Tropical : USF : FVCOM : Hurricane Rita 3D final run without waves\n",
        "Inundation Tropical : USF : FVCOM : SWAN Ike final run with 2DSurge\n",
        "Inundation Tropical : USF : FVCOM : SWAN Ike final run without Surge\n",
        "Inundation Tropical : USF : FVCOM : SWAN Rita final run with 2DSurge\n",
        "Inundation Tropical : USF : FVCOM : SWAN Rita final run without Surge\n",
        "Inundation Tropical : VIMS : SELFE : Hurricane Ike 2D final run wave only\n",
        "Inundation Tropical : VIMS : SELFE : Hurricane Ike 2D final run with waves\n",
        "Inundation Tropical : VIMS : SELFE : Hurricane Ike 2D final run without waves\n",
        "Inundation Tropical : VIMS : SELFE : Hurricane Ike 3D final run with waves\n",
        "Inundation Tropical : VIMS : SELFE : Hurricane Ike 3D final run without waves\n",
        "Inundation Tropical : VIMS : SELFE : Hurricane Rita 2D final run waves only\n",
        "Inundation Tropical : VIMS : SELFE : Hurricane Rita 2D final run with waves\n",
        "Inundation Tropical : VIMS : SELFE : Hurricane Rita 2D final run without waves\n",
        "Inundation Tropical : VIMS : SELFE : Hurricane Rita 3D final run with waves\n",
        "Inundation Tropical : VIMS : SELFE : Hurricane Rita 3D final run without waves\n",
        "Shelf Hypoxia : DAL : ROMS : 2004-2009 climatology obc with oxygen hnd soc 20layers\n",
        "Shelf Hypoxia : DAL : ROMS : 2004-2009 climatology obc with oxygen inst rem 20layers\n",
        "Shelf Hypoxia : DAL : ROMS : 2004-2009 hycom obc with oxygen hnd soc 30layers\n",
        "Shelf Hypoxia : DAL : ROMS : 2004-2009 hycom obc with oxygen inst rem 30layers\n",
        "Shelf Hypoxia : DAL : ROMS : 2004-2009 ias obc with oxygen hnd soc 30layers\n",
        "Shelf Hypoxia : DAL : ROMS : 2004-2009 ias obc with oxygen inst rem 30layers\n",
        "Shelf Hypoxia : NOAA : NGOM : 2005-2011 NGOM\n",
        "Shelf Hypoxia : TAMU : ROMS : 2004-2009 hycom obc 24h\n",
        "Shelf Hypoxia : TAMU : ROMS : 2004-2009 iasnfs obc 24h\n",
        "Shelf Hypoxia : TAMU : ROMS : 2004-2009 hycom obc 24h\n",
        "Pr Inundation Tropical : EMC : ADCIRC-WW3 : Dec2013Storm 2D preliminary run 1 waves only\n",
        "Pr Inundation Tropical : NRL : DELFT3D : Hurricane Ike 2D preliminary run 1 without waves\n",
        "GOM3 Nesting by yf.sun@umassd.edu\n",
        "GOM3 Nesting by yf.sun@umassd.edu\n",
        "GOM3 Wave Nesting\n",
        "NECOFS GOM3v11 (FVCOM) - Northeast US - Forecast Archive\n",
        "NECOFS GOM3v12 (FVCOM) - Northeast US - Forecast Archive\n",
        "NECOFS GOM3v13 (FVCOM) - Northeast US - Forecast Archive\n",
        "ROMS/TOMS 3.0 - New Floria Shelf Application\n",
        "USF Wave Forecast Products\n"
       ]
      }
     ],
     "prompt_number": 19
    },
    {
     "cell_type": "code",
     "collapsed": false,
     "input": [],
     "language": "python",
     "metadata": {},
     "outputs": [],
     "prompt_number": 19
    },
    {
     "cell_type": "code",
     "collapsed": false,
     "input": [],
     "language": "python",
     "metadata": {},
     "outputs": [],
     "prompt_number": 19
    },
    {
     "cell_type": "code",
     "collapsed": false,
     "input": [],
     "language": "python",
     "metadata": {},
     "outputs": []
    }
   ],
   "metadata": {}
  }
 ]
}