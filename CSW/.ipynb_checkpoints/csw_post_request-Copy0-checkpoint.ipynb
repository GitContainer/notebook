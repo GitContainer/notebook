{
 "metadata": {
  "name": "",
  "signature": "sha256:53e7254fe8da6628b2afed79a27023e3c809852e6e11637d78b7de578da83f14"
 },
 "nbformat": 3,
 "nbformat_minor": 0,
 "worksheets": [
  {
   "cells": [
    {
     "cell_type": "code",
     "collapsed": false,
     "input": [
      "import requests, json"
     ],
     "language": "python",
     "metadata": {},
     "outputs": [],
     "prompt_number": 1
    },
    {
     "cell_type": "code",
     "collapsed": false,
     "input": [
      "headers = {'Content-Type': 'application/xml'}"
     ],
     "language": "python",
     "metadata": {},
     "outputs": [],
     "prompt_number": 2
    },
    {
     "cell_type": "heading",
     "level": 2,
     "metadata": {},
     "source": [
      "BBOX query on NGDC Geoportal Server CSW"
     ]
    },
    {
     "cell_type": "code",
     "collapsed": false,
     "input": [
      "endpoint = 'http://www.ngdc.noaa.gov/geoportal/csw'"
     ],
     "language": "python",
     "metadata": {},
     "outputs": [],
     "prompt_number": 3
    },
    {
     "cell_type": "code",
     "collapsed": false,
     "input": [
      "input='''\n",
      "<csw:GetRecords xmlns:csw=\"http://www.opengis.net/cat/csw/2.0.2\"\n",
      "    xmlns:xsi=\"http://www.w3.org/2001/XMLSchema-instance\" xmlns:ogc=\"http://www.opengis.net/ogc\"\n",
      "    xmlns:gml=\"http://www.opengis.net/gml\" outputSchema=\"http://www.opengis.net/cat/csw/2.0.2\"\n",
      "    outputFormat=\"application/xml\" version=\"2.0.2\" service=\"CSW\" resultType=\"results\"\n",
      "    maxRecords=\"1000\"\n",
      "    xsi:schemaLocation=\"http://www.opengis.net/cat/csw/2.0.2 http://schemas.opengis.net/csw/2.0.2/CSW-discovery.xsd\">\n",
      "    <csw:Query typeNames=\"csw:Record\">\n",
      "        <csw:ElementSetName>full</csw:ElementSetName>\n",
      "        <csw:Constraint version=\"1.1.0\">\n",
      "            <ogc:Filter>\n",
      "                <ogc:And>\n",
      "                    <ogc:BBOX>\n",
      "                        <ogc:PropertyName>ows:BoundingBox</ogc:PropertyName>\n",
      "                        <gml:Envelope srsName=\"urn:ogc:def:crs:OGC:1.3:CRS84\">\n",
      "                            <gml:lowerCorner> -158.4 20.7</gml:lowerCorner>\n",
      "                            <gml:upperCorner> -157.2 21.6</gml:upperCorner>\n",
      "                        </gml:Envelope>\n",
      "                    </ogc:BBOX>\n",
      "                    <ogc:PropertyIsLessThanOrEqualTo>\n",
      "                        <ogc:PropertyName>apiso:TempExtent_begin</ogc:PropertyName>\n",
      "                        <ogc:Literal>2014-12-01T16:43:00Z</ogc:Literal>\n",
      "                    </ogc:PropertyIsLessThanOrEqualTo>\n",
      "                    <ogc:PropertyIsGreaterThanOrEqualTo>\n",
      "                        <ogc:PropertyName>apiso:TempExtent_end</ogc:PropertyName>\n",
      "                        <ogc:Literal>2014-12-01T16:43:00Z</ogc:Literal>\n",
      "                    </ogc:PropertyIsGreaterThanOrEqualTo>\n",
      "                    <ogc:PropertyIsLike wildCard=\"*\" singleChar=\"?\" escapeChar=\"\\\\\">\n",
      "                        <ogc:PropertyName>apiso:AnyText</ogc:PropertyName>\n",
      "                        <ogc:Literal>*sea_water_salinity*</ogc:Literal>\n",
      "                    </ogc:PropertyIsLike>\n",
      "                </ogc:And>\n",
      "            </ogc:Filter>\n",
      "        </csw:Constraint>\n",
      "    </csw:Query>\n",
      "</csw:GetRecords>\n",
      "''';"
     ],
     "language": "python",
     "metadata": {},
     "outputs": [],
     "prompt_number": 4
    },
    {
     "cell_type": "code",
     "collapsed": false,
     "input": [
      "xml_string=requests.post(endpoint, data=input, headers=headers).text\n",
      "print xml_string[:2000]"
     ],
     "language": "python",
     "metadata": {},
     "outputs": [
      {
       "output_type": "stream",
       "stream": "stdout",
       "text": [
        "<?xml version=\"1.0\" encoding=\"UTF-8\" standalone=\"no\"?>\n",
        "<csw:GetRecordsResponse xmlns:csw=\"http://www.opengis.net/cat/csw/2.0.2\" xmlns:dc=\"http://purl.org/dc/elements/1.1/\" xmlns:dcmiBox=\"http://dublincore.org/documents/2000/07/11/dcmi-box/\" xmlns:dct=\"http://purl.org/dc/terms/\" xmlns:gml=\"http://www.opengis.net/gml\" xmlns:ows=\"http://www.opengis.net/ows\" xmlns:xsd=\"http://www.w3.org/2001/XMLSchema\">\n",
        "<csw:SearchStatus timestamp=\"2015-02-16T13:08:14-07:00\"/>\n",
        "<csw:SearchResults elementSet=\"full\" nextRecord=\"0\" numberOfRecordsMatched=\"14\" numberOfRecordsReturned=\"14\" recordSchema=\"http://www.opengis.net/cat/csw/2.0.2\">\n",
        "<csw:Record>\n",
        "<dc:identifier scheme=\"urn:x-esri:specification:ServiceType:ArcIMS:Metadata:FileID\">roms_hiog_assimilation</dc:identifier>\n",
        "<dc:identifier scheme=\"urn:x-esri:specification:ServiceType:ArcIMS:Metadata:DocID\">{2522106D-3917-4A3E-83B9-DE0CCA0B02F2}</dc:identifier>\n",
        "<dc:title>Regional Ocean Modeling System (ROMS): Oahu: Data Assimilating</dc:title>\n",
        "<dc:type scheme=\"urn:x-esri:specification:ServiceType:ArcIMS:Metadata:ContentType\">downloadableData</dc:type>\n",
        "<dc:type scheme=\"urn:x-esri:specification:ServiceType:ArcIMS:Metadata:ContentType\">liveData</dc:type>\n",
        "<dc:subject>Earth Science Services &gt; Models &gt; Ocean General Circulation Models (OGCM)/Regional Ocean Models</dc:subject>\n",
        "<dc:subject>Earth Science Services &gt; Models &gt; Weather Research/Forecast Models</dc:subject>\n",
        "<dc:subject>Earth Science &gt; Oceans &gt; Ocean Temperature &gt; Potential Temperature</dc:subject>\n",
        "<dc:subject>Earth Science &gt; Oceans &gt; Salinity/Density &gt; Salinity</dc:subject>\n",
        "<dc:subject>Earth Science &gt; Oceans &gt; Sea Surface Topography &gt; Sea Surface Height</dc:subject>\n",
        "<dc:subject>Earth Science &gt; Oceans &gt; Ocean Circulation &gt; Ocean Currents</dc:subject>\n",
        "<dc:subject>Continent &gt; North America &gt; United States Of America &gt; Hawaii</dc:subject>\n",
        "<dc:subject>Ocean &gt; Pacific Ocean &gt; Central Pacific Ocean &gt; Hawaiian Islands &gt; Oahu</dc:s\n"
       ]
      }
     ],
     "prompt_number": 5
    },
    {
     "cell_type": "heading",
     "level": 2,
     "metadata": {},
     "source": [
      "BBOX query on PACIOOS pyCSW"
     ]
    },
    {
     "cell_type": "code",
     "collapsed": false,
     "input": [
      "endpoint='http://oos.soest.hawaii.edu/pacioos/ogc/csw.py'"
     ],
     "language": "python",
     "metadata": {},
     "outputs": [],
     "prompt_number": 6
    },
    {
     "cell_type": "code",
     "collapsed": false,
     "input": [
      "input='''\n",
      "<csw:GetRecords xmlns:csw=\"http://www.opengis.net/cat/csw/2.0.2\"\n",
      "    xmlns:xsi=\"http://www.w3.org/2001/XMLSchema-instance\" xmlns:ogc=\"http://www.opengis.net/ogc\"\n",
      "    xmlns:gml=\"http://www.opengis.net/gml\" outputSchema=\"http://www.opengis.net/cat/csw/2.0.2\"\n",
      "    outputFormat=\"application/xml\" version=\"2.0.2\" service=\"CSW\" resultType=\"results\"\n",
      "    maxRecords=\"1000\"\n",
      "    xsi:schemaLocation=\"http://www.opengis.net/cat/csw/2.0.2 http://schemas.opengis.net/csw/2.0.2/CSW-discovery.xsd\">\n",
      "    <csw:Query typeNames=\"csw:Record\">\n",
      "        <csw:ElementSetName>full</csw:ElementSetName>\n",
      "        <csw:Constraint version=\"1.1.0\">\n",
      "            <ogc:Filter>\n",
      "                <ogc:And>\n",
      "                    <ogc:BBOX>\n",
      "                        <ogc:PropertyName>ows:BoundingBox</ogc:PropertyName>\n",
      "                        <gml:Envelope srsName=\"urn:x-ogc:def:crs:EPSG:6.11:4326\">\n",
      "                            <gml:lowerCorner> 20.7 -158.4</gml:lowerCorner>\n",
      "                            <gml:upperCorner> 21.6 -157.2</gml:upperCorner>\n",
      "                        </gml:Envelope>\n",
      "                    </ogc:BBOX>\n",
      "                    <ogc:PropertyIsLessThanOrEqualTo>\n",
      "                        <ogc:PropertyName>apiso:TempExtent_begin</ogc:PropertyName>\n",
      "                        <ogc:Literal>2014-12-01T16:43:00Z</ogc:Literal>\n",
      "                    </ogc:PropertyIsLessThanOrEqualTo>\n",
      "                    <ogc:PropertyIsGreaterThanOrEqualTo>\n",
      "                        <ogc:PropertyName>apiso:TempExtent_end</ogc:PropertyName>\n",
      "                        <ogc:Literal>2014-12-01T16:43:00Z</ogc:Literal>\n",
      "                    </ogc:PropertyIsGreaterThanOrEqualTo>\n",
      "                    <ogc:PropertyIsLike wildCard=\"*\" singleChar=\"?\" escapeChar=\"\\\\\">\n",
      "                        <ogc:PropertyName>apiso:AnyText</ogc:PropertyName>\n",
      "                        <ogc:Literal>*sea_water_salinity*</ogc:Literal>\n",
      "                    </ogc:PropertyIsLike>\n",
      "                </ogc:And>\n",
      "            </ogc:Filter>\n",
      "        </csw:Constraint>\n",
      "    </csw:Query>\n",
      "</csw:GetRecords>\n",
      "''';"
     ],
     "language": "python",
     "metadata": {},
     "outputs": [],
     "prompt_number": 7
    },
    {
     "cell_type": "code",
     "collapsed": false,
     "input": [
      "xml_string=requests.post(endpoint, data=input, headers=headers).text"
     ],
     "language": "python",
     "metadata": {},
     "outputs": [],
     "prompt_number": 8
    },
    {
     "cell_type": "code",
     "collapsed": false,
     "input": [
      "print xml_string[:2000]"
     ],
     "language": "python",
     "metadata": {},
     "outputs": [
      {
       "output_type": "stream",
       "stream": "stdout",
       "text": [
        "<?xml version=\"1.0\" encoding=\"UTF-8\" standalone=\"no\"?>\n",
        "<!-- pycsw 1.10.0 -->\n",
        "<csw:GetRecordsResponse xmlns:dc=\"http://purl.org/dc/elements/1.1/\" xmlns:inspire_common=\"http://inspire.ec.europa.eu/schemas/common/1.0\" xmlns:atom=\"http://www.w3.org/2005/Atom\" xmlns:xs=\"http://www.w3.org/2001/XMLSchema\" xmlns:dct=\"http://purl.org/dc/terms/\" xmlns:ows=\"http://www.opengis.net/ows\" xmlns:apiso=\"http://www.opengis.net/cat/csw/apiso/1.0\" xmlns:gml=\"http://www.opengis.net/gml\" xmlns:dif=\"http://gcmd.gsfc.nasa.gov/Aboutus/xml/dif/\" xmlns:xlink=\"http://www.w3.org/1999/xlink\" xmlns:gco=\"http://www.isotc211.org/2005/gco\" xmlns:gmd=\"http://www.isotc211.org/2005/gmd\" xmlns:rdf=\"http://www.w3.org/1999/02/22-rdf-syntax-ns#\" xmlns:srv=\"http://www.isotc211.org/2005/srv\" xmlns:ogc=\"http://www.opengis.net/ogc\" xmlns:fgdc=\"http://www.opengis.net/cat/csw/csdgm\" xmlns:inspire_ds=\"http://inspire.ec.europa.eu/schemas/inspire_ds/1.0\" xmlns:csw=\"http://www.opengis.net/cat/csw/2.0.2\" xmlns:xsi=\"http://www.w3.org/2001/XMLSchema-instance\" xmlns:os=\"http://a9.com/-/spec/opensearch/1.1/\" xmlns:soapenv=\"http://www.w3.org/2003/05/soap-envelope\" xmlns:sitemap=\"http://www.sitemaps.org/schemas/sitemap/0.9\" version=\"2.0.2\" xsi:schemaLocation=\"http://www.opengis.net/cat/csw/2.0.2 http://schemas.opengis.net/csw/2.0.2/CSW-discovery.xsd\"><csw:SearchStatus timestamp=\"2015-02-16T10:08:15Z\"/><csw:SearchResults nextRecord=\"0\" numberOfRecordsMatched=\"14\" numberOfRecordsReturned=\"14\" recordSchema=\"http://www.opengis.net/cat/csw/2.0.2\" elementSet=\"full\"><csw:Record><dc:identifier>NS02agg</dc:identifier><dc:title>PacIOOS Nearshore Sensor 02: Hawaii Yacht Club, Oahu, Hawaii</dc:title><dc:type>dataset</dc:type><dc:subject>Earth Science &gt; Oceans &gt; Ocean Chemistry &gt; Chlorophyll</dc:subject><dc:subject>Earth Science &gt; Oceans &gt; Ocean Optics &gt; Turbidity</dc:subject><dc:subject>Earth Science &gt; Oceans &gt; Ocean Temperature &gt; Water Temperature</dc:subject><dc:subject>Earth Science &gt; Oceans &gt; Salin\n"
       ]
      }
     ],
     "prompt_number": 9
    },
    {
     "cell_type": "heading",
     "level": 2,
     "metadata": {},
     "source": [
      "Query COMT pycsw"
     ]
    },
    {
     "cell_type": "code",
     "collapsed": false,
     "input": [
      "endpoint='http://comt.sura.org:8000/pycsw/csw.py'"
     ],
     "language": "python",
     "metadata": {},
     "outputs": [],
     "prompt_number": 10
    },
    {
     "cell_type": "heading",
     "level": 3,
     "metadata": {},
     "source": [
      "Try (lat,lon) order of bounding box with `srsName=EPSG:4326`"
     ]
    },
    {
     "cell_type": "code",
     "collapsed": false,
     "input": [
      "input='''\n",
      "<csw:GetRecords xmlns:csw=\"http://www.opengis.net/cat/csw/2.0.2\"\n",
      "    xmlns:xsi=\"http://www.w3.org/2001/XMLSchema-instance\" xmlns:ogc=\"http://www.opengis.net/ogc\"\n",
      "    xmlns:gml=\"http://www.opengis.net/gml\" outputSchema=\"http://www.opengis.net/cat/csw/2.0.2\"\n",
      "    outputFormat=\"application/xml\" version=\"2.0.2\" service=\"CSW\" resultType=\"results\"\n",
      "    maxRecords=\"1000\"\n",
      "    xsi:schemaLocation=\"http://www.opengis.net/cat/csw/2.0.2 http://schemas.opengis.net/csw/2.0.2/CSW-discovery.xsd\">\n",
      "    <csw:Query typeNames=\"csw:Record\">\n",
      "        <csw:ElementSetName>full</csw:ElementSetName>\n",
      "        <csw:Constraint version=\"1.1.0\">\n",
      "            <ogc:Filter>\n",
      "                <ogc:And>\n",
      "                    <ogc:BBOX>\n",
      "                        <ogc:PropertyName>ows:BoundingBox</ogc:PropertyName>\n",
      "                        <gml:Envelope srsName=\"urn:x-ogc:def:crs:EPSG:6.11:4326\">\n",
      "                            <gml:lowerCorner> 27 -100</gml:lowerCorner>\n",
      "                            <gml:upperCorner> 30 -97</gml:upperCorner>\n",
      "                        </gml:Envelope>\n",
      "                    </ogc:BBOX>\n",
      "                    <ogc:PropertyIsLessThanOrEqualTo>\n",
      "                        <ogc:PropertyName>apiso:TempExtent_begin</ogc:PropertyName>\n",
      "                        <ogc:Literal>2008-12-01T16:43:00Z</ogc:Literal>\n",
      "                    </ogc:PropertyIsLessThanOrEqualTo>\n",
      "                    <ogc:PropertyIsGreaterThanOrEqualTo>\n",
      "                        <ogc:PropertyName>apiso:TempExtent_end</ogc:PropertyName>\n",
      "                        <ogc:Literal>2008-06-01T16:43:00Z</ogc:Literal>\n",
      "                    </ogc:PropertyIsGreaterThanOrEqualTo>\n",
      "                    <ogc:PropertyIsLike wildCard=\"*\" singleChar=\"?\" escapeChar=\"\\\\\">\n",
      "                        <ogc:PropertyName>apiso:AnyText</ogc:PropertyName>\n",
      "                        <ogc:Literal>*FVCOM*</ogc:Literal>\n",
      "                    </ogc:PropertyIsLike>\n",
      "                </ogc:And>\n",
      "            </ogc:Filter>\n",
      "        </csw:Constraint>\n",
      "    </csw:Query>\n",
      "</csw:GetRecords>\n",
      "''';"
     ],
     "language": "python",
     "metadata": {},
     "outputs": [],
     "prompt_number": 11
    },
    {
     "cell_type": "code",
     "collapsed": false,
     "input": [
      "xml_string=requests.post(endpoint, data=input, headers=headers).text\n",
      "xml_string[:2000]"
     ],
     "language": "python",
     "metadata": {},
     "outputs": [
      {
       "metadata": {},
       "output_type": "pyout",
       "prompt_number": 12,
       "text": [
        "u'<?xml version=\"1.0\" encoding=\"UTF-8\" standalone=\"no\"?>\\n<!-- pycsw 1.11-dev -->\\n<csw:GetRecordsResponse xmlns:dc=\"http://purl.org/dc/elements/1.1/\" xmlns:inspire_common=\"http://inspire.ec.europa.eu/schemas/common/1.0\" xmlns:atom=\"http://www.w3.org/2005/Atom\" xmlns:xs=\"http://www.w3.org/2001/XMLSchema\" xmlns:dct=\"http://purl.org/dc/terms/\" xmlns:ows=\"http://www.opengis.net/ows\" xmlns:apiso=\"http://www.opengis.net/cat/csw/apiso/1.0\" xmlns:gml=\"http://www.opengis.net/gml\" xmlns:dif=\"http://gcmd.gsfc.nasa.gov/Aboutus/xml/dif/\" xmlns:xlink=\"http://www.w3.org/1999/xlink\" xmlns:gco=\"http://www.isotc211.org/2005/gco\" xmlns:gmd=\"http://www.isotc211.org/2005/gmd\" xmlns:rdf=\"http://www.w3.org/1999/02/22-rdf-syntax-ns#\" xmlns:srv=\"http://www.isotc211.org/2005/srv\" xmlns:ogc=\"http://www.opengis.net/ogc\" xmlns:fgdc=\"http://www.opengis.net/cat/csw/csdgm\" xmlns:inspire_ds=\"http://inspire.ec.europa.eu/schemas/inspire_ds/1.0\" xmlns:csw=\"http://www.opengis.net/cat/csw/2.0.2\" xmlns:xsi=\"http://www.w3.org/2001/XMLSchema-instance\" xmlns:os=\"http://a9.com/-/spec/opensearch/1.1/\" xmlns:soapenv=\"http://www.w3.org/2003/05/soap-envelope\" xmlns:sitemap=\"http://www.sitemaps.org/schemas/sitemap/0.9\" version=\"2.0.2\" xsi:schemaLocation=\"http://www.opengis.net/cat/csw/2.0.2 http://schemas.opengis.net/csw/2.0.2/CSW-discovery.xsd\"><csw:SearchStatus timestamp=\"2015-02-16T14:01:06Z\"/><csw:SearchResults nextRecord=\"0\" numberOfRecordsMatched=\"4\" numberOfRecordsReturned=\"4\" recordSchema=\"http://www.opengis.net/cat/csw/2.0.2\" elementSet=\"full\"><csw:Record><dc:identifier>inundation_tropical.USF_FVCOM.Hurricane_Ike_2D_final_run_with_waves</dc:identifier><dc:title>Inundation Tropical : USF : FVCOM : Hurricane Ike 2D final run with waves</dc:title><dc:type>dataset</dc:type><dc:subject>ocean_sigma_coordinate</dc:subject><dc:subject>sea_floor_depth_below_geoid</dc:subject><dc:subject>sea_surface_height_above_geoid</dc:subject><dc:subject>barotropic_eastward_sea_water_velocity</dc:subject><dc:subject>barotropic_no'"
       ]
      }
     ],
     "prompt_number": 12
    },
    {
     "cell_type": "heading",
     "level": 3,
     "metadata": {},
     "source": [
      "Try (lon,lat) order of bounding box with `srsName=CRS84`"
     ]
    },
    {
     "cell_type": "code",
     "collapsed": false,
     "input": [
      "input='''\n",
      "<csw:GetRecords xmlns:csw=\"http://www.opengis.net/cat/csw/2.0.2\"\n",
      "    xmlns:xsi=\"http://www.w3.org/2001/XMLSchema-instance\" xmlns:ogc=\"http://www.opengis.net/ogc\"\n",
      "    xmlns:gml=\"http://www.opengis.net/gml\" outputSchema=\"http://www.opengis.net/cat/csw/2.0.2\"\n",
      "    outputFormat=\"application/xml\" version=\"2.0.2\" service=\"CSW\" resultType=\"results\"\n",
      "    maxRecords=\"1000\"\n",
      "    xsi:schemaLocation=\"http://www.opengis.net/cat/csw/2.0.2 http://schemas.opengis.net/csw/2.0.2/CSW-discovery.xsd\">\n",
      "    <csw:Query typeNames=\"csw:Record\">\n",
      "        <csw:ElementSetName>full</csw:ElementSetName>\n",
      "        <csw:Constraint version=\"1.1.0\">\n",
      "            <ogc:Filter>\n",
      "                <ogc:And>\n",
      "                    <ogc:BBOX>\n",
      "                        <ogc:PropertyName>ows:BoundingBox</ogc:PropertyName>\n",
      "                        <gml:Envelope srsName=\"urn:ogc:def:crs:OGC:1.3:CRS84\">\n",
      "                            <gml:lowerCorner>-100 27</gml:lowerCorner>\n",
      "                            <gml:upperCorner> -97 30</gml:upperCorner>\n",
      "                        </gml:Envelope>\n",
      "                    </ogc:BBOX>\n",
      "                    <ogc:PropertyIsLessThanOrEqualTo>\n",
      "                        <ogc:PropertyName>apiso:TempExtent_begin</ogc:PropertyName>\n",
      "                        <ogc:Literal>2008-12-01T16:43:00Z</ogc:Literal>\n",
      "                    </ogc:PropertyIsLessThanOrEqualTo>\n",
      "                    <ogc:PropertyIsGreaterThanOrEqualTo>\n",
      "                        <ogc:PropertyName>apiso:TempExtent_end</ogc:PropertyName>\n",
      "                        <ogc:Literal>2008-06-01T16:43:00Z</ogc:Literal>\n",
      "                    </ogc:PropertyIsGreaterThanOrEqualTo>\n",
      "                    <ogc:PropertyIsLike wildCard=\"*\" singleChar=\"?\" escapeChar=\"\\\\\">\n",
      "                        <ogc:PropertyName>apiso:AnyText</ogc:PropertyName>\n",
      "                        <ogc:Literal>*FVCOM*</ogc:Literal>\n",
      "                    </ogc:PropertyIsLike>\n",
      "                </ogc:And>\n",
      "            </ogc:Filter>\n",
      "        </csw:Constraint>\n",
      "    </csw:Query>\n",
      "</csw:GetRecords>\n",
      "''';"
     ],
     "language": "python",
     "metadata": {},
     "outputs": [],
     "prompt_number": 13
    },
    {
     "cell_type": "code",
     "collapsed": false,
     "input": [
      "xml_string=requests.post(endpoint, data=input, headers=headers).text\n",
      "xml_string[:2000]"
     ],
     "language": "python",
     "metadata": {},
     "outputs": [
      {
       "metadata": {},
       "output_type": "pyout",
       "prompt_number": 14,
       "text": [
        "u'<?xml version=\"1.0\" encoding=\"UTF-8\" standalone=\"no\"?>\\n<!-- pycsw 1.11-dev -->\\n<csw:GetRecordsResponse xmlns:dc=\"http://purl.org/dc/elements/1.1/\" xmlns:inspire_common=\"http://inspire.ec.europa.eu/schemas/common/1.0\" xmlns:atom=\"http://www.w3.org/2005/Atom\" xmlns:xs=\"http://www.w3.org/2001/XMLSchema\" xmlns:dct=\"http://purl.org/dc/terms/\" xmlns:ows=\"http://www.opengis.net/ows\" xmlns:apiso=\"http://www.opengis.net/cat/csw/apiso/1.0\" xmlns:gml=\"http://www.opengis.net/gml\" xmlns:dif=\"http://gcmd.gsfc.nasa.gov/Aboutus/xml/dif/\" xmlns:xlink=\"http://www.w3.org/1999/xlink\" xmlns:gco=\"http://www.isotc211.org/2005/gco\" xmlns:gmd=\"http://www.isotc211.org/2005/gmd\" xmlns:rdf=\"http://www.w3.org/1999/02/22-rdf-syntax-ns#\" xmlns:srv=\"http://www.isotc211.org/2005/srv\" xmlns:ogc=\"http://www.opengis.net/ogc\" xmlns:fgdc=\"http://www.opengis.net/cat/csw/csdgm\" xmlns:inspire_ds=\"http://inspire.ec.europa.eu/schemas/inspire_ds/1.0\" xmlns:csw=\"http://www.opengis.net/cat/csw/2.0.2\" xmlns:xsi=\"http://www.w3.org/2001/XMLSchema-instance\" xmlns:os=\"http://a9.com/-/spec/opensearch/1.1/\" xmlns:soapenv=\"http://www.w3.org/2003/05/soap-envelope\" xmlns:sitemap=\"http://www.sitemaps.org/schemas/sitemap/0.9\" version=\"2.0.2\" xsi:schemaLocation=\"http://www.opengis.net/cat/csw/2.0.2 http://schemas.opengis.net/csw/2.0.2/CSW-discovery.xsd\"><csw:SearchStatus timestamp=\"2015-02-16T14:01:07Z\"/><csw:SearchResults nextRecord=\"0\" numberOfRecordsMatched=\"4\" numberOfRecordsReturned=\"4\" recordSchema=\"http://www.opengis.net/cat/csw/2.0.2\" elementSet=\"full\"><csw:Record><dc:identifier>inundation_tropical.USF_FVCOM.Hurricane_Ike_2D_final_run_with_waves</dc:identifier><dc:title>Inundation Tropical : USF : FVCOM : Hurricane Ike 2D final run with waves</dc:title><dc:type>dataset</dc:type><dc:subject>ocean_sigma_coordinate</dc:subject><dc:subject>sea_floor_depth_below_geoid</dc:subject><dc:subject>sea_surface_height_above_geoid</dc:subject><dc:subject>barotropic_eastward_sea_water_velocity</dc:subject><dc:subject>barotropic_no'"
       ]
      }
     ],
     "prompt_number": 14
    },
    {
     "cell_type": "heading",
     "level": 3,
     "metadata": {},
     "source": [
      "Woo hoo!   We get 4 records returned with both (lat,lon) EPSG:4326 and (lon,lat) CRS84 queries!  Success!!"
     ]
    },
    {
     "cell_type": "code",
     "collapsed": false,
     "input": [
      "endpoint='http://geoport.whoi.edu/pycsw'"
     ],
     "language": "python",
     "metadata": {},
     "outputs": [],
     "prompt_number": 15
    },
    {
     "cell_type": "code",
     "collapsed": false,
     "input": [
      "xml_string=requests.post(endpoint, data=input, headers=headers).text\n",
      "xml_string[:2000]"
     ],
     "language": "python",
     "metadata": {},
     "outputs": [
      {
       "metadata": {},
       "output_type": "pyout",
       "prompt_number": 16,
       "text": [
        "u'<!DOCTYPE HTML PUBLIC \"-//W3C//DTD HTML 3.2 Final//EN\">\\n<html>\\n <head>\\n  <title>Index of /pycsw</title>\\n </head>\\n <body>\\n<h1>Index of /pycsw</h1>\\n<table><tr><th><img src=\"/icons/blank.gif\" alt=\"[ICO]\"></th><th><a href=\"?C=N;O=D\">Name</a></th><th><a href=\"?C=M;O=A\">Last modified</a></th><th><a href=\"?C=S;O=A\">Size</a></th><th><a href=\"?C=D;O=A\">Description</a></th></tr><tr><th colspan=\"5\"><hr></th></tr>\\n<tr><td valign=\"top\"><img src=\"/icons/back.gif\" alt=\"[DIR]\"></td><td><a href=\"/\">Parent Directory</a></td><td>&nbsp;</td><td align=\"right\">  - </td><td>&nbsp;</td></tr>\\n<tr><td valign=\"top\"><img src=\"/icons/text.gif\" alt=\"[TXT]\"></td><td><a href=\"COMMITTERS.txt\">COMMITTERS.txt</a></td><td align=\"right\">03-Dec-2014 11:45  </td><td align=\"right\">622 </td><td>&nbsp;</td></tr>\\n<tr><td valign=\"top\"><img src=\"/icons/unknown.gif\" alt=\"[   ]\"></td><td><a href=\"CONTRIBUTING.rst\">CONTRIBUTING.rst</a></td><td align=\"right\">03-Dec-2014 11:45  </td><td align=\"right\">6.0K</td><td>&nbsp;</td></tr>\\n<tr><td valign=\"top\"><img src=\"/icons/text.gif\" alt=\"[TXT]\"></td><td><a href=\"HISTORY.txt\">HISTORY.txt</a></td><td align=\"right\">03-Dec-2014 11:45  </td><td align=\"right\">122 </td><td>&nbsp;</td></tr>\\n<tr><td valign=\"top\"><img src=\"/icons/text.gif\" alt=\"[TXT]\"></td><td><a href=\"LICENSE.txt\">LICENSE.txt</a></td><td align=\"right\">03-Dec-2014 11:45  </td><td align=\"right\">1.1K</td><td>&nbsp;</td></tr>\\n<tr><td valign=\"top\"><img src=\"/icons/unknown.gif\" alt=\"[   ]\"></td><td><a href=\"MANIFEST.in\">MANIFEST.in</a></td><td align=\"right\">03-Dec-2014 11:45  </td><td align=\"right\"> 44 </td><td>&nbsp;</td></tr>\\n<tr><td valign=\"top\"><img src=\"/icons/text.gif\" alt=\"[TXT]\"></td><td><a href=\"README.txt\">README.txt</a></td><td align=\"right\">03-Dec-2014 11:45  </td><td align=\"right\">787 </td><td>&nbsp;</td></tr>\\n<tr><td valign=\"top\"><img src=\"/icons/text.gif\" alt=\"[TXT]\"></td><td><a href=\"VERSION.txt\">VERSION.txt</a></td><td align=\"right\">03-Dec-2014 11:45  </td><td align=\"right\">  9 </td><td>&nbsp;</td></tr'"
       ]
      }
     ],
     "prompt_number": 16
    },
    {
     "cell_type": "code",
     "collapsed": false,
     "input": [],
     "language": "python",
     "metadata": {},
     "outputs": [],
     "prompt_number": 16
    }
   ],
   "metadata": {}
  }
 ]
}