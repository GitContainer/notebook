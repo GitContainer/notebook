{
 "metadata": {
  "name": "",
  "signature": "sha256:6e6243a080811268929882029ebb64a59f8a710e21b236800eb5b6c42ce17e74"
 },
 "nbformat": 3,
 "nbformat_minor": 0,
 "worksheets": [
  {
   "cells": [
    {
     "cell_type": "heading",
     "level": 1,
     "metadata": {},
     "source": [
      "Exploring CSW access in Python using OWSLib with Data.gov"
     ]
    },
    {
     "cell_type": "code",
     "collapsed": false,
     "input": [
      "from owslib.csw import CatalogueServiceWeb\n",
      "from owslib import fes\n",
      "import numpy as np"
     ],
     "language": "python",
     "metadata": {},
     "outputs": [],
     "prompt_number": 1
    },
    {
     "cell_type": "code",
     "collapsed": false,
     "input": [
      "endpoint = 'http://catalog.data.gov/csw-all' #  granules\n",
      "#endpoint = 'http://catalog.data.gov/csw' #  collections\n",
      "csw = CatalogueServiceWeb(endpoint,timeout=60)\n",
      "csw.version"
     ],
     "language": "python",
     "metadata": {},
     "outputs": [
      {
       "metadata": {},
       "output_type": "pyout",
       "prompt_number": 2,
       "text": [
        "'2.0.2'"
       ]
      }
     ],
     "prompt_number": 2
    },
    {
     "cell_type": "code",
     "collapsed": false,
     "input": [
      "[op.name for op in csw.operations]"
     ],
     "language": "python",
     "metadata": {},
     "outputs": [
      {
       "metadata": {},
       "output_type": "pyout",
       "prompt_number": 3,
       "text": [
        "['GetCapabilities',\n",
        " 'GetRepositoryItem',\n",
        " 'DescribeRecord',\n",
        " 'GetDomain',\n",
        " 'GetRecordById',\n",
        " 'GetRecords']"
       ]
      }
     ],
     "prompt_number": 3
    },
    {
     "cell_type": "code",
     "collapsed": false,
     "input": [
      "csw.get_operation_by_name('GetRecords').constraints"
     ],
     "language": "python",
     "metadata": {},
     "outputs": [
      {
       "metadata": {},
       "output_type": "pyout",
       "prompt_number": 4,
       "text": [
        "[Constraint: SupportedISOQueryables - ['apiso:DistanceValue', 'apiso:Abstract', 'apiso:RevisionDate', 'apiso:Subject', 'apiso:KeywordType', 'apiso:Title', 'apiso:CRS', 'apiso:PublicationDate', 'apiso:Type', 'apiso:AlternateTitle', 'apiso:BoundingBox', 'apiso:AnyText', 'apiso:ParentIdentifier', 'apiso:Modified', 'apiso:Operation', 'apiso:Format', 'apiso:TempExtent_end', 'apiso:DistanceUOM', 'apiso:OrganisationName', 'apiso:ServiceType', 'apiso:TempExtent_begin', 'apiso:ResourceLanguage', 'apiso:ServiceTypeVersion', 'apiso:OperatesOn', 'apiso:Denominator', 'apiso:HasSecurityConstraints', 'apiso:OperatesOnIdentifier', 'apiso:GeographicDescriptionCode', 'apiso:Language', 'apiso:Identifier', 'apiso:OperatesOnName', 'apiso:TopicCategory', 'apiso:CreationDate', 'apiso:CouplingType'],\n",
        " Constraint: AdditionalQueryables - ['apiso:Lineage', 'apiso:Classification', 'apiso:Creator', 'apiso:Relation', 'apiso:OtherConstraints', 'apiso:SpecificationTitle', 'apiso:ResponsiblePartyRole', 'apiso:SpecificationDateType', 'apiso:Degree', 'apiso:Contributor', 'apiso:ConditionApplyingToAccessAndUse', 'apiso:SpecificationDate', 'apiso:AccessConstraints', 'apiso:Publisher'],\n",
        " Constraint: SupportedDublinCoreQueryables - ['dc:contributor', 'dc:source', 'dc:language', 'dc:title', 'dc:subject', 'dc:creator', 'dc:type', 'ows:BoundingBox', 'dct:modified', 'dct:abstract', 'dc:relation', 'dc:date', 'dc:identifier', 'dc:publisher', 'dc:format', 'csw:AnyText', 'dc:rights']]"
       ]
      }
     ],
     "prompt_number": 4
    },
    {
     "cell_type": "code",
     "collapsed": false,
     "input": [
      "try:\n",
      "    csw.get_operation_by_name('GetDomain')\n",
      "    csw.getdomain('apiso:ServiceType', 'property')\n",
      "    print(csw.results['values'])\n",
      "except:\n",
      "    print('GetDomain not supported')"
     ],
     "language": "python",
     "metadata": {},
     "outputs": [
      {
       "output_type": "stream",
       "stream": "stdout",
       "text": [
        "['ArcGIS REST API for 10', 'urn:ogc:serviceType:WebMapService']\n"
       ]
      }
     ],
     "prompt_number": 5
    },
    {
     "cell_type": "code",
     "collapsed": false,
     "input": [
      "val = 'salinity'\n",
      "filter1 = fes.PropertyIsLike(propertyname='apiso:AnyText',literal=('*%s*' % val),\n",
      "                        escapeChar='\\\\',wildCard='*',singleChar='?')\n",
      "filter_list = [ filter1 ]"
     ],
     "language": "python",
     "metadata": {},
     "outputs": [],
     "prompt_number": 6
    },
    {
     "cell_type": "code",
     "collapsed": false,
     "input": [
      "csw.getrecords2(constraints=filter_list,maxrecords=1000,esn='full')\n",
      "len(csw.records.keys())"
     ],
     "language": "python",
     "metadata": {},
     "outputs": [
      {
       "metadata": {},
       "output_type": "pyout",
       "prompt_number": 7,
       "text": [
        "10"
       ]
      }
     ],
     "prompt_number": 7
    },
    {
     "cell_type": "code",
     "collapsed": false,
     "input": [
      "for rec,item in csw.records.iteritems():\n",
      "    print item.title"
     ],
     "language": "python",
     "metadata": {},
     "outputs": [
      {
       "output_type": "stream",
       "stream": "stdout",
       "text": [
        "OC375L01: WHOI cruise 375 leg 01 aboard the R/V Oceanus from 2002-03-15 - 2002-04-01 (NODC Accession 0055289)\n",
        "WATER DEPTH and Other Data from KNORR from 19710505 to 19710510 (NODC Accession 7100695)\n",
        "Physical and chemical data collected using bottle and BTs casts in the TOGA Area of Atlantic Ocean from NOAA Ship RESEARCHER and other platforms from 25 June 1974 to 16 August 1974 (NODC Accession 7700649)\n",
        "WATER DEPTH and Other Data from DERWENT HUNTER from 19590204 to 19591208 (NODC Accession 7601077)\n",
        "Application of the Sea-Level Affecting Marshes Model (SLAMM 5.1) to Eastern Neck NWR\n",
        "Temperature and salinity profile data from globally distributed Argo profiling floats for the week of 2007-07-08 for the Global Argo Data Repository, date ranged from 2002-03-30 to 2007-07-14 (NODC Accession 0029182)\n",
        "Real-time current, wave, temperature, salinity, and meteorological data from Gulf of Maine Ocean Observing System (GoMOOS) buoys, 3/6/2005 - 3/12/2005 (NODC Accession 0002075)\n",
        "Wave spectra, meteorological, and other data from the FERREL from 07 September 1982 to 06 November 1982 (NODC Accession 8500005)\n",
        "Collections of data to assess the water quality of the Enchanted Lakes coastal watershed, Kailua, Oahu, Hawaii, November 2003 - April 2004 (NODC Accession 0002486)\n",
        "Climate Forecast System Reanalysis (CFSR), for 1979 to 2011\n"
       ]
      }
     ],
     "prompt_number": 8
    },
    {
     "cell_type": "code",
     "collapsed": false,
     "input": [
      "choice=np.random.choice(list(csw.records.keys()))\n",
      "print csw.records[choice].title\n",
      "csw.records[choice].references"
     ],
     "language": "python",
     "metadata": {},
     "outputs": [
      {
       "output_type": "stream",
       "stream": "stdout",
       "text": [
        "Climate Forecast System Reanalysis (CFSR), for 1979 to 2011\n"
       ]
      },
      {
       "metadata": {},
       "output_type": "pyout",
       "prompt_number": 12,
       "text": [
        "[{'scheme': 'WMS', 'url': 'http://nomads.ncdc.noaa.gov/thredds/cfsr.html'},\n",
        " {'scheme': 'FTP', 'url': 'ftp://nomads.ncdc.noaa.gov/CFSR/'},\n",
        " {'scheme': 'HTTP', 'url': 'http://nomads.ncdc.noaa.gov/data/'},\n",
        " {'scheme': 'Pressure', 'url': 'http://nomads.ncdc.noaa.gov/modeldata/'}]"
       ]
      }
     ],
     "prompt_number": 12
    },
    {
     "cell_type": "code",
     "collapsed": false,
     "input": [
      "offset = 10\n",
      "startposition = 0\n",
      "\n",
      "while True:\n",
      "    csw.getrecords2(startposition=startposition, constraints=filter_list,maxrecords=20,esn='full')\n",
      "    for record in csw.records:\n",
      "        print record.title\n",
      "    if csw.results['nextrecord'] == 0:\n",
      "        break\n",
      "    startposition += offset"
     ],
     "language": "python",
     "metadata": {},
     "outputs": []
    },
    {
     "cell_type": "code",
     "collapsed": false,
     "input": [
      "limit = 1000\n",
      "offset = 10\n",
      " \n",
      "startposition = 0\n",
      " \n",
      "while True:\n",
      "    csw.getrecords2(startposition=startposition, maxrecords=limit)\n",
      "    for record in csw.records:\n",
      "        print record\n",
      "    if csw.results['nextrecord'] == 0:\n",
      "        break\n",
      "    startposition += offset"
     ],
     "language": "python",
     "metadata": {},
     "outputs": []
    },
    {
     "cell_type": "code",
     "collapsed": false,
     "input": [
      "csw.getrecords2("
     ],
     "language": "python",
     "metadata": {},
     "outputs": []
    }
   ],
   "metadata": {}
  }
 ]
}