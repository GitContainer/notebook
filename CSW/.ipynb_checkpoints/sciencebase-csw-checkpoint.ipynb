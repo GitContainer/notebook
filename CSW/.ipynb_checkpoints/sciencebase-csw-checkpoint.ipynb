{
 "metadata": {
  "gist_id": "bc53274e7e5d3c4ffd82",
  "name": "",
  "signature": "sha256:a9a363b8039b65a59c4ab72d8d1fe24bf17c8f29f7a80ce722e39390e108e599"
 },
 "nbformat": 3,
 "nbformat_minor": 0,
 "worksheets": [
  {
   "cells": [
    {
     "cell_type": "markdown",
     "metadata": {},
     "source": [
      "#Testing ScienceBase CSW"
     ]
    },
    {
     "cell_type": "code",
     "collapsed": false,
     "input": [
      "from owslib.csw import CatalogueServiceWeb\n",
      "from owslib import fes\n",
      "import numpy as np"
     ],
     "language": "python",
     "metadata": {},
     "outputs": [],
     "prompt_number": 1
    },
    {
     "cell_type": "code",
     "collapsed": false,
     "input": [
      "endpoint = 'http://catalog.data.gov/csw-all'  #granule level catalog\n",
      "endpoint = 'https://www.sciencebase.gov/catalog/item/54dd2326e4b08de9379b2fb1/csw'\n",
      "csw = CatalogueServiceWeb(endpoint,timeout=60)\n",
      "print csw.version"
     ],
     "language": "python",
     "metadata": {},
     "outputs": [
      {
       "output_type": "stream",
       "stream": "stdout",
       "text": [
        "2.0.2\n"
       ]
      }
     ],
     "prompt_number": 2
    },
    {
     "cell_type": "code",
     "collapsed": false,
     "input": [
      "csw.get_operation_by_name('GetRecords').constraints"
     ],
     "language": "python",
     "metadata": {},
     "outputs": [
      {
       "metadata": {},
       "output_type": "pyout",
       "prompt_number": 3,
       "text": [
        "[Constraint: SupportedCommonQueryables - ['AnyText', 'Title', 'Abstract', 'Subject'],\n",
        " Constraint: AdditionalQueryables - ['sb:collection', 'sb:servicetype']]"
       ]
      }
     ],
     "prompt_number": 3
    },
    {
     "cell_type": "code",
     "collapsed": false,
     "input": [
      "val = 'prism'\n",
      "filter1 = fes.PropertyIsLike(propertyname='AnyText',literal=('*%s*' % val),\n",
      "                        escapeChar='\\\\',wildCard='*',singleChar='?')\n",
      "filter_list = [ filter1 ]"
     ],
     "language": "python",
     "metadata": {},
     "outputs": [],
     "prompt_number": 4
    },
    {
     "cell_type": "code",
     "collapsed": false,
     "input": [
      "csw.getrecords2(constraints=filter_list,maxrecords=100,esn='full')\n",
      "print len(csw.records.keys())\n",
      "for rec in list(csw.records.keys()):\n",
      "    print csw.records[rec].title "
     ],
     "language": "python",
     "metadata": {},
     "outputs": [
      {
       "output_type": "stream",
       "stream": "stdout",
       "text": [
        "3\n",
        "Parameter-elevation Regressions on Independent Slopes Model Monthly Climate Data for the Continental United States.\n",
        "University of Idaho Daily Meteorological data for continental US\n",
        "California Basin Characterization Model Downscaled Climate and Hydrology\n"
       ]
      }
     ],
     "prompt_number": 5
    },
    {
     "cell_type": "code",
     "collapsed": false,
     "input": [
      "choice = np.random.choice(list(csw.records.keys()))\n",
      "print(csw.records[choice].title)\n",
      "csw.records[choice].references"
     ],
     "language": "python",
     "metadata": {},
     "outputs": [
      {
       "output_type": "stream",
       "stream": "stdout",
       "text": [
        "Parameter-elevation Regressions on Independent Slopes Model Monthly Climate Data for the Continental United States.\n"
       ]
      },
      {
       "metadata": {},
       "output_type": "pyout",
       "prompt_number": 8,
       "text": [
        "[{'scheme': 'WWW:LINK',\n",
        "  'url': 'http://cida.usgs.gov/gdp/client/catalog/gdp/dataset/54dd5e05e4b08de9379b38e1'},\n",
        " {'scheme': 'OPeNDAP:OPeNDAP',\n",
        "  'url': 'http://cida.usgs.gov/thredds/dodsC/prism'},\n",
        " {'scheme': 'OPeNDAP:OPeNDAP',\n",
        "  'url': 'http://cida.usgs.gov/thredds/dodsC/prism_v2'}]"
       ]
      }
     ],
     "prompt_number": 8
    },
    {
     "cell_type": "code",
     "collapsed": false,
     "input": [],
     "language": "python",
     "metadata": {},
     "outputs": [],
     "prompt_number": 6
    }
   ],
   "metadata": {}
  }
 ]
}