{
 "cells": [
  {
   "cell_type": "markdown",
   "metadata": {},
   "source": [
    "# Try searching with time extent on new IOOS catalog"
   ]
  },
  {
   "cell_type": "code",
   "execution_count": 1,
   "metadata": {
    "collapsed": true
   },
   "outputs": [],
   "source": [
    "import requests, json"
   ]
  },
  {
   "cell_type": "code",
   "execution_count": 2,
   "metadata": {
    "collapsed": true
   },
   "outputs": [],
   "source": [
    "headers = {'Content-Type': 'application/xml'}"
   ]
  },
  {
   "cell_type": "code",
   "execution_count": 3,
   "metadata": {
    "collapsed": true
   },
   "outputs": [],
   "source": [
    "input='''\n",
    "<csw:GetRecords xmlns:csw=\"http://www.opengis.net/cat/csw/2.0.2\"\n",
    "    xmlns:xsi=\"http://www.w3.org/2001/XMLSchema-instance\" xmlns:ogc=\"http://www.opengis.net/ogc\"\n",
    "    xmlns:gml=\"http://www.opengis.net/gml\" outputSchema=\"http://www.opengis.net/cat/csw/2.0.2\"\n",
    "    outputFormat=\"application/xml\" version=\"2.0.2\" service=\"CSW\" resultType=\"results\"\n",
    "    maxRecords=\"1000\"\n",
    "    xsi:schemaLocation=\"http://www.opengis.net/cat/csw/2.0.2 http://schemas.opengis.net/csw/2.0.2/CSW-discovery.xsd\">\n",
    "    <csw:Query typeNames=\"csw:Record\">\n",
    "        <csw:ElementSetName>full</csw:ElementSetName>\n",
    "        <csw:Constraint version=\"1.1.0\">\n",
    "            <ogc:Filter>\n",
    "                <ogc:And>\n",
    "                    <ogc:BBOX>\n",
    "                        <ogc:PropertyName>ows:BoundingBox</ogc:PropertyName>\n",
    "                        <gml:Envelope srsName=\"urn:ogc:def:crs:OGC:1.3:CRS84\">\n",
    "                            <gml:lowerCorner> -158.4 20.7</gml:lowerCorner>\n",
    "                            <gml:upperCorner> -157.2 21.6</gml:upperCorner>\n",
    "                        </gml:Envelope>\n",
    "                    </ogc:BBOX>\n",
    "                    <ogc:PropertyIsLessThanOrEqualTo>\n",
    "                        <ogc:PropertyName>apiso:TempExtent_begin</ogc:PropertyName>\n",
    "                        <ogc:Literal>2016-12-01T16:43:00Z</ogc:Literal>\n",
    "                    </ogc:PropertyIsLessThanOrEqualTo>\n",
    "                    <ogc:PropertyIsGreaterThanOrEqualTo>\n",
    "                        <ogc:PropertyName>apiso:TempExtent_end</ogc:PropertyName>\n",
    "                        <ogc:Literal>2014-12-01T16:43:00Z</ogc:Literal>\n",
    "                    </ogc:PropertyIsGreaterThanOrEqualTo>\n",
    "                    <ogc:PropertyIsLike wildCard=\"*\" singleChar=\"?\" escapeChar=\"\\\\\">\n",
    "                        <ogc:PropertyName>apiso:AnyText</ogc:PropertyName>\n",
    "                        <ogc:Literal>*G1SST*</ogc:Literal>\n",
    "                    </ogc:PropertyIsLike>\n",
    "                </ogc:And>\n",
    "            </ogc:Filter>\n",
    "        </csw:Constraint>\n",
    "    </csw:Query>\n",
    "</csw:GetRecords>\n",
    "''';"
   ]
  },
  {
   "cell_type": "markdown",
   "metadata": {},
   "source": [
    "## First try old catalog"
   ]
  },
  {
   "cell_type": "code",
   "execution_count": 4,
   "metadata": {
    "collapsed": false
   },
   "outputs": [
    {
     "name": "stdout",
     "output_type": "stream",
     "text": [
      "<?xml version=\"1.0\" encoding=\"UTF-8\" standalone=\"no\"?>\n",
      "<csw:GetRecordsResponse xmlns:csw=\"http://www.opengis.net/cat/csw/2.0.2\" xmlns:dc=\"http://purl.org/dc/elements/1.1/\" xmlns:dcmiBox=\"http://dublincore.org/documents/2000/07/11/dcmi-box/\" xmlns:dct=\"http://purl.org/dc/terms/\" xmlns:gml=\"http://www.opengis.net/gml\" xmlns:ows=\"http://www.opengis.net/ows\" xmlns:xsd=\"http://www.w3.org/2001/XMLSchema\">\n",
      "<csw:SearchStatus timestamp=\"2016-08-29T11:40:49-06:00\"/>\n",
      "<csw:SearchResults elementSet=\"full\" nextRecord=\"0\" numberOfRecordsMatched=\"1\" numberOfRecordsReturned=\"1\" recordSchema=\"http://www.opengis.net/cat/csw/2.0.2\">\n",
      "<csw:Record>\n",
      "<dc:identifier scheme=\"urn:x-esri:specification:ServiceType:ArcIMS:Metadata:FileID\">G1_SST_GLOBAL</dc:identifier>\n",
      "<dc:identifier scheme=\"urn:x-esri:specification:ServiceType:ArcIMS:Metadata:DocID\">{5E59C0B8-15AB-4643-94D9-CCC7F6A9A7F4}</dc:identifier>\n",
      "<dc:title>G1SST, 1km blended SST</dc:title>\n",
      "<dc:type scheme=\"urn:x-esri:specification:ServiceType:ArcIMS:Metadata:ContentType\">downloadableData</dc:type>\n",
      "<dc:type scheme=\"urn:x-esri:specification:ServiceType:ArcIMS:Metadata:ContentType\">liveData</dc:type>\n",
      "<dc:subject>OCEANS &gt; OCEAN TEMPERATURE &gt; SEA SURFACE TEMPERATURE</dc:subject>\n",
      "<dc:subject>Group for High Resolution Sea Surface Temperature (GHRSST)</dc:subject>\n",
      "<dc:subject>Physical Oceanography Distributed Active Archive Center</dc:subject>\n",
      "<dc:subject>sea_surface_temperature</dc:subject>\n",
      "<dc:subject>latitude</dc:subject>\n",
      "<dc:subject>longitude</dc:subject>\n",
      "<dc:subject>time</dc:subject>\n",
      "<dc:subject>climatologyMeteorologyAtmosphere</dc:subject>\n",
      "<dct:modified>2016-08-28T08:50:16-06:00</dct:modified>\n",
      "<dct:abstract>A Group for High Resolution Sea Surface Temperature (GHRSST) Level 4 sea surface temperature analysis produced daily on an operational basis by the JPL OurOcean group using a multi-scale two-dimensional variational (MS-2DVAR) blending algorithm on a global 0.009 degree grid. This Global 1 km SST (G1SST) analysis uses satellite data \n"
     ]
    }
   ],
   "source": [
    "endpoint = 'http://www.ngdc.noaa.gov/geoportal/csw'\n",
    "xml_string=requests.post(endpoint, data=input, headers=headers).text\n",
    "print(xml_string[:2000])"
   ]
  },
  {
   "cell_type": "markdown",
   "metadata": {},
   "source": [
    "## Now try new catalog"
   ]
  },
  {
   "cell_type": "code",
   "execution_count": 5,
   "metadata": {
    "collapsed": false
   },
   "outputs": [
    {
     "name": "stdout",
     "output_type": "stream",
     "text": [
      "<?xml version=\"1.0\" encoding=\"UTF-8\" standalone=\"no\"?>\n",
      "<!-- pycsw 1.10.4 -->\n",
      "<csw:GetRecordsResponse xmlns:dc=\"http://purl.org/dc/elements/1.1/\" xmlns:inspire_common=\"http://inspire.ec.europa.eu/schemas/common/1.0\" xmlns:atom=\"http://www.w3.org/2005/Atom\" xmlns:xs=\"http://www.w3.org/2001/XMLSchema\" xmlns:dct=\"http://purl.org/dc/terms/\" xmlns:ows=\"http://www.opengis.net/ows\" xmlns:apiso=\"http://www.opengis.net/cat/csw/apiso/1.0\" xmlns:gml=\"http://www.opengis.net/gml\" xmlns:dif=\"http://gcmd.gsfc.nasa.gov/Aboutus/xml/dif/\" xmlns:xlink=\"http://www.w3.org/1999/xlink\" xmlns:gco=\"http://www.isotc211.org/2005/gco\" xmlns:gmd=\"http://www.isotc211.org/2005/gmd\" xmlns:rdf=\"http://www.w3.org/1999/02/22-rdf-syntax-ns#\" xmlns:srv=\"http://www.isotc211.org/2005/srv\" xmlns:ogc=\"http://www.opengis.net/ogc\" xmlns:fgdc=\"http://www.opengis.net/cat/csw/csdgm\" xmlns:inspire_ds=\"http://inspire.ec.europa.eu/schemas/inspire_ds/1.0\" xmlns:csw=\"http://www.opengis.net/cat/csw/2.0.2\" xmlns:xsi=\"http://www.w3.org/2001/XMLSchema-instance\" xmlns:os=\"http://a9.com/-/spec/opensearch/1.1/\" xmlns:soapenv=\"http://www.w3.org/2003/05/soap-envelope\" xmlns:sitemap=\"http://www.sitemaps.org/schemas/sitemap/0.9\" version=\"2.0.2\" xsi:schemaLocation=\"http://www.opengis.net/cat/csw/2.0.2 http://schemas.opengis.net/csw/2.0.2/CSW-discovery.xsd\"><csw:SearchStatus timestamp=\"2016-08-29T17:40:49Z\"/><csw:SearchResults nextRecord=\"0\" numberOfRecordsMatched=\"1\" numberOfRecordsReturned=\"1\" recordSchema=\"http://www.opengis.net/cat/csw/2.0.2\" elementSet=\"full\"><csw:Record><dc:identifier>G1_SST_GLOBAL</dc:identifier><dc:title>G1SST, 1km blended SST</dc:title><dc:type>dataset</dc:type><dc:subject>OCEANS &gt; OCEAN TEMPERATURE &gt; SEA SURFACE TEMPERATURE</dc:subject><dc:subject>Group for High Resolution Sea Surface Temperature (GHRSST)</dc:subject><dc:subject>Physical Oceanography Distributed Active Archive Center</dc:subject><dc:subject>sea_surface_temperature</dc:subject><dc:subject>longitude</dc:subject><dc:subject>latitude<\n"
     ]
    }
   ],
   "source": [
    "endpoint = 'https://dev-catalog.ioos.us/csw'\n",
    "xml_string=requests.post(endpoint, data=input, headers=headers).text\n",
    "print(xml_string[:2000])"
   ]
  },
  {
   "cell_type": "markdown",
   "metadata": {},
   "source": [
    "## try new catalog without time range"
   ]
  },
  {
   "cell_type": "code",
   "execution_count": 6,
   "metadata": {
    "collapsed": true
   },
   "outputs": [],
   "source": [
    "input='''\n",
    "<csw:GetRecords xmlns:csw=\"http://www.opengis.net/cat/csw/2.0.2\"\n",
    "    xmlns:xsi=\"http://www.w3.org/2001/XMLSchema-instance\" xmlns:ogc=\"http://www.opengis.net/ogc\"\n",
    "    xmlns:gml=\"http://www.opengis.net/gml\" outputSchema=\"http://www.opengis.net/cat/csw/2.0.2\"\n",
    "    outputFormat=\"application/xml\" version=\"2.0.2\" service=\"CSW\" resultType=\"results\"\n",
    "    maxRecords=\"1000\"\n",
    "    xsi:schemaLocation=\"http://www.opengis.net/cat/csw/2.0.2 http://schemas.opengis.net/csw/2.0.2/CSW-discovery.xsd\">\n",
    "    <csw:Query typeNames=\"csw:Record\">\n",
    "        <csw:ElementSetName>full</csw:ElementSetName>\n",
    "        <csw:Constraint version=\"1.1.0\">\n",
    "            <ogc:Filter>\n",
    "                <ogc:And>\n",
    "                    <ogc:BBOX>\n",
    "                        <ogc:PropertyName>ows:BoundingBox</ogc:PropertyName>\n",
    "                        <gml:Envelope srsName=\"urn:ogc:def:crs:OGC:1.3:CRS84\">\n",
    "                            <gml:lowerCorner> -158.4 20.7</gml:lowerCorner>\n",
    "                            <gml:upperCorner> -157.2 21.6</gml:upperCorner>\n",
    "                        </gml:Envelope>\n",
    "                    </ogc:BBOX>\n",
    "                    <ogc:PropertyIsLike wildCard=\"*\" singleChar=\"?\" escapeChar=\"\\\\\">\n",
    "                        <ogc:PropertyName>apiso:AnyText</ogc:PropertyName>\n",
    "                        <ogc:Literal>*G1SST*</ogc:Literal>\n",
    "                    </ogc:PropertyIsLike>\n",
    "                </ogc:And>\n",
    "            </ogc:Filter>\n",
    "        </csw:Constraint>\n",
    "    </csw:Query>\n",
    "</csw:GetRecords>\n",
    "''';"
   ]
  },
  {
   "cell_type": "code",
   "execution_count": 7,
   "metadata": {
    "collapsed": false
   },
   "outputs": [
    {
     "name": "stdout",
     "output_type": "stream",
     "text": [
      "<?xml version=\"1.0\" encoding=\"UTF-8\" standalone=\"no\"?>\n",
      "<!-- pycsw 1.10.4 -->\n",
      "<csw:GetRecordsResponse xmlns:dc=\"http://purl.org/dc/elements/1.1/\" xmlns:inspire_common=\"http://inspire.ec.europa.eu/schemas/common/1.0\" xmlns:atom=\"http://www.w3.org/2005/Atom\" xmlns:xs=\"http://www.w3.org/2001/XMLSchema\" xmlns:dct=\"http://purl.org/dc/terms/\" xmlns:ows=\"http://www.opengis.net/ows\" xmlns:apiso=\"http://www.opengis.net/cat/csw/apiso/1.0\" xmlns:gml=\"http://www.opengis.net/gml\" xmlns:dif=\"http://gcmd.gsfc.nasa.gov/Aboutus/xml/dif/\" xmlns:xlink=\"http://www.w3.org/1999/xlink\" xmlns:gco=\"http://www.isotc211.org/2005/gco\" xmlns:gmd=\"http://www.isotc211.org/2005/gmd\" xmlns:rdf=\"http://www.w3.org/1999/02/22-rdf-syntax-ns#\" xmlns:srv=\"http://www.isotc211.org/2005/srv\" xmlns:ogc=\"http://www.opengis.net/ogc\" xmlns:fgdc=\"http://www.opengis.net/cat/csw/csdgm\" xmlns:inspire_ds=\"http://inspire.ec.europa.eu/schemas/inspire_ds/1.0\" xmlns:csw=\"http://www.opengis.net/cat/csw/2.0.2\" xmlns:xsi=\"http://www.w3.org/2001/XMLSchema-instance\" xmlns:os=\"http://a9.com/-/spec/opensearch/1.1/\" xmlns:soapenv=\"http://www.w3.org/2003/05/soap-envelope\" xmlns:sitemap=\"http://www.sitemaps.org/schemas/sitemap/0.9\" version=\"2.0.2\" xsi:schemaLocation=\"http://www.opengis.net/cat/csw/2.0.2 http://schemas.opengis.net/csw/2.0.2/CSW-discovery.xsd\"><csw:SearchStatus timestamp=\"2016-08-29T17:40:49Z\"/><csw:SearchResults nextRecord=\"0\" numberOfRecordsMatched=\"1\" numberOfRecordsReturned=\"1\" recordSchema=\"http://www.opengis.net/cat/csw/2.0.2\" elementSet=\"full\"><csw:Record><dc:identifier>G1_SST_GLOBAL</dc:identifier><dc:title>G1SST, 1km blended SST</dc:title><dc:type>dataset</dc:type><dc:subject>OCEANS &gt; OCEAN TEMPERATURE &gt; SEA SURFACE TEMPERATURE</dc:subject><dc:subject>Group for High Resolution Sea Surface Temperature (GHRSST)</dc:subject><dc:subject>Physical Oceanography Distributed Active Archive Center</dc:subject><dc:subject>sea_surface_temperature</dc:subject><dc:subject>longitude</dc:subject><dc:subject>latitude<\n"
     ]
    }
   ],
   "source": [
    "endpoint = 'https://dev-catalog.ioos.us/csw'\n",
    "xml_string=requests.post(endpoint, data=input, headers=headers).text\n",
    "print(xml_string[:2000])"
   ]
  },
  {
   "cell_type": "code",
   "execution_count": null,
   "metadata": {
    "collapsed": true
   },
   "outputs": [],
   "source": []
  }
 ],
 "metadata": {
  "gist_id": "e628caf43b3705e518507134e45983c4",
  "kernelspec": {
   "display_name": "Python 2",
   "language": "python",
   "name": "python2"
  },
  "language_info": {
   "codemirror_mode": {
    "name": "ipython",
    "version": 2
   },
   "file_extension": ".py",
   "mimetype": "text/x-python",
   "name": "python",
   "nbconvert_exporter": "python",
   "pygments_lexer": "ipython2",
   "version": "2.7.12"
  }
 },
 "nbformat": 4,
 "nbformat_minor": 0
}
