{
 "cells": [
  {
   "cell_type": "markdown",
   "metadata": {},
   "source": [
    "# Query `apiso:ServiceType` on data.gov pycsw "
   ]
  },
  {
   "cell_type": "code",
   "execution_count": 31,
   "metadata": {
    "collapsed": false
   },
   "outputs": [],
   "source": [
    "from owslib.csw import CatalogueServiceWeb\n",
    "from owslib import fes\n",
    "import numpy as np"
   ]
  },
  {
   "cell_type": "code",
   "execution_count": 32,
   "metadata": {
    "collapsed": false
   },
   "outputs": [
    {
     "name": "stdout",
     "output_type": "stream",
     "text": [
      "2.0.2\n"
     ]
    }
   ],
   "source": [
    "#endpoint = 'http://geoport.whoi.edu/csw' \n",
    "#endpoint = 'http://data.nodc.noaa.gov/geoportal/csw'\n",
    "#endpoint = 'http://catalog.data.gov/csw-all'\n",
    "endpoint = 'http://geonode.wfp.org/catalogue/csw'\n",
    "endpoint = 'http://geodata.gov.gr/csw'\n",
    "csw = CatalogueServiceWeb(endpoint,timeout=60)\n",
    "print csw.version"
   ]
  },
  {
   "cell_type": "code",
   "execution_count": 33,
   "metadata": {
    "collapsed": false
   },
   "outputs": [
    {
     "data": {
      "text/plain": [
       "[Constraint: SupportedISOQueryables - ['apiso:DistanceValue', 'apiso:Abstract', 'apiso:RevisionDate', 'apiso:Subject', 'apiso:KeywordType', 'apiso:Title', 'apiso:CRS', 'apiso:PublicationDate', 'apiso:Type', 'apiso:AlternateTitle', 'apiso:BoundingBox', 'apiso:AnyText', 'apiso:ParentIdentifier', 'apiso:Modified', 'apiso:Operation', 'apiso:Format', 'apiso:TempExtent_end', 'apiso:DistanceUOM', 'apiso:OrganisationName', 'apiso:ServiceType', 'apiso:TempExtent_begin', 'apiso:ResourceLanguage', 'apiso:ServiceTypeVersion', 'apiso:OperatesOn', 'apiso:Denominator', 'apiso:HasSecurityConstraints', 'apiso:OperatesOnIdentifier', 'apiso:GeographicDescriptionCode', 'apiso:Language', 'apiso:Identifier', 'apiso:OperatesOnName', 'apiso:TopicCategory', 'apiso:CreationDate', 'apiso:CouplingType'],\n",
       " Constraint: AdditionalQueryables - ['apiso:Lineage', 'apiso:Classification', 'apiso:Creator', 'apiso:Relation', 'apiso:OtherConstraints', 'apiso:SpecificationTitle', 'apiso:ResponsiblePartyRole', 'apiso:SpecificationDateType', 'apiso:Degree', 'apiso:Contributor', 'apiso:ConditionApplyingToAccessAndUse', 'apiso:SpecificationDate', 'apiso:AccessConstraints', 'apiso:Publisher'],\n",
       " Constraint: SupportedDublinCoreQueryables - ['dc:contributor', 'dc:source', 'dc:language', 'dc:title', 'dc:subject', 'dc:creator', 'dc:type', 'ows:BoundingBox', 'dct:modified', 'dct:abstract', 'dc:relation', 'dc:date', 'dc:identifier', 'dc:publisher', 'dc:format', 'csw:AnyText', 'dc:rights']]"
      ]
     },
     "execution_count": 33,
     "metadata": {},
     "output_type": "execute_result"
    }
   ],
   "source": [
    "csw.get_operation_by_name('GetRecords').constraints"
   ]
  },
  {
   "cell_type": "code",
   "execution_count": 34,
   "metadata": {
    "collapsed": false
   },
   "outputs": [
    {
     "name": "stdout",
     "output_type": "stream",
     "text": [
      "[None]\n"
     ]
    }
   ],
   "source": [
    "try:\n",
    "    csw.get_operation_by_name('GetDomain')\n",
    "    csw.getdomain('apiso:ServiceType', 'property')\n",
    "    print(csw.results['values'])\n",
    "except:\n",
    "    print('GetDomain not supported')"
   ]
  },
  {
   "cell_type": "code",
   "execution_count": 44,
   "metadata": {
    "collapsed": false
   },
   "outputs": [],
   "source": [
    "val = u'dams'\n",
    "#val = 'COADS'\n",
    "filter1 = fes.PropertyIsLike(propertyname='apiso:AnyText',literal=('*%s*' % val),\n",
    "                        escapeChar='\\\\',wildCard='*',singleChar='?')\n",
    "filter_list = [ filter1 ]"
   ]
  },
  {
   "cell_type": "code",
   "execution_count": 45,
   "metadata": {
    "collapsed": false
   },
   "outputs": [
    {
     "name": "stdout",
     "output_type": "stream",
     "text": [
      "0\n"
     ]
    }
   ],
   "source": [
    "csw.getrecords2(constraints=filter_list,maxrecords=100,esn='full')\n",
    "print len(csw.records.keys())\n",
    "for rec in list(csw.records.keys()):\n",
    "    print csw.records[rec].title \n",
    "    "
   ]
  },
  {
   "cell_type": "code",
   "execution_count": 46,
   "metadata": {
    "collapsed": false
   },
   "outputs": [
    {
     "ename": "ValueError",
     "evalue": "a must be non-empty",
     "output_type": "error",
     "traceback": [
      "\u001b[1;31m---------------------------------------------------------------------------\u001b[0m",
      "\u001b[1;31mValueError\u001b[0m                                Traceback (most recent call last)",
      "\u001b[1;32m<ipython-input-46-867dc78a1150>\u001b[0m in \u001b[0;36m<module>\u001b[1;34m()\u001b[0m\n\u001b[1;32m----> 1\u001b[1;33m \u001b[0mchoice\u001b[0m\u001b[1;33m=\u001b[0m\u001b[0mnp\u001b[0m\u001b[1;33m.\u001b[0m\u001b[0mrandom\u001b[0m\u001b[1;33m.\u001b[0m\u001b[0mchoice\u001b[0m\u001b[1;33m(\u001b[0m\u001b[0mlist\u001b[0m\u001b[1;33m(\u001b[0m\u001b[0mcsw\u001b[0m\u001b[1;33m.\u001b[0m\u001b[0mrecords\u001b[0m\u001b[1;33m.\u001b[0m\u001b[0mkeys\u001b[0m\u001b[1;33m(\u001b[0m\u001b[1;33m)\u001b[0m\u001b[1;33m)\u001b[0m\u001b[1;33m)\u001b[0m\u001b[1;33m\u001b[0m\u001b[0m\n\u001b[0m\u001b[0;32m      2\u001b[0m \u001b[1;32mprint\u001b[0m\u001b[1;33m(\u001b[0m\u001b[0mcsw\u001b[0m\u001b[1;33m.\u001b[0m\u001b[0mrecords\u001b[0m\u001b[1;33m[\u001b[0m\u001b[0mchoice\u001b[0m\u001b[1;33m]\u001b[0m\u001b[1;33m.\u001b[0m\u001b[0mtitle\u001b[0m\u001b[1;33m)\u001b[0m\u001b[1;33m\u001b[0m\u001b[0m\n\u001b[0;32m      3\u001b[0m \u001b[0mcsw\u001b[0m\u001b[1;33m.\u001b[0m\u001b[0mrecords\u001b[0m\u001b[1;33m[\u001b[0m\u001b[0mchoice\u001b[0m\u001b[1;33m]\u001b[0m\u001b[1;33m.\u001b[0m\u001b[0mreferences\u001b[0m\u001b[1;33m\u001b[0m\u001b[0m\n",
      "\u001b[1;32mmtrand.pyx\u001b[0m in \u001b[0;36mmtrand.RandomState.choice (numpy/random/mtrand/mtrand.c:15477)\u001b[1;34m()\u001b[0m\n",
      "\u001b[1;31mValueError\u001b[0m: a must be non-empty"
     ]
    }
   ],
   "source": [
    "choice=np.random.choice(list(csw.records.keys()))\n",
    "print(csw.records[choice].title)\n",
    "csw.records[choice].references"
   ]
  },
  {
   "cell_type": "code",
   "execution_count": 27,
   "metadata": {
    "collapsed": false
   },
   "outputs": [
    {
     "data": {
      "text/plain": [
       "'<csw:GetRecords xmlns:csw=\"http://www.opengis.net/cat/csw/2.0.2\" xmlns:ogc=\"http://www.opengis.net/ogc\" xmlns:xsi=\"http://www.w3.org/2001/XMLSchema-instance\" outputSchema=\"http://www.opengis.net/cat/csw/2.0.2\" outputFormat=\"application/xml\" version=\"2.0.2\" service=\"CSW\" resultType=\"results\" maxRecords=\"100\" xsi:schemaLocation=\"http://www.opengis.net/cat/csw/2.0.2 http://schemas.opengis.net/csw/2.0.2/CSW-discovery.xsd\"><csw:Query typeNames=\"csw:Record\"><csw:ElementSetName>full</csw:ElementSetName><csw:Constraint version=\"1.1.0\"><ogc:Filter><ogc:PropertyIsLike wildCard=\"*\" singleChar=\"?\" escapeChar=\"\\\\\"><ogc:PropertyName>apiso:AnyText</ogc:PropertyName><ogc:Literal>*DATA*</ogc:Literal></ogc:PropertyIsLike></ogc:Filter></csw:Constraint></csw:Query></csw:GetRecords>'"
      ]
     },
     "execution_count": 27,
     "metadata": {},
     "output_type": "execute_result"
    }
   ],
   "source": [
    "csw.request"
   ]
  },
  {
   "cell_type": "code",
   "execution_count": 28,
   "metadata": {
    "collapsed": false
   },
   "outputs": [
    {
     "data": {
      "text/plain": [
       "'<csw:Record xmlns:csw=\"http://www.opengis.net/cat/csw/2.0.2\" xmlns:dc=\"http://purl.org/dc/elements/1.1/\" xmlns:inspire_common=\"http://inspire.ec.europa.eu/schemas/common/1.0\" xmlns:rim=\"urn:oasis:names:tc:ebxml-regrep:xsd:rim:3.0\" xmlns:atom=\"http://www.w3.org/2005/Atom\" xmlns:xs=\"http://www.w3.org/2001/XMLSchema\" xmlns:dct=\"http://purl.org/dc/terms/\" xmlns:ows=\"http://www.opengis.net/ows\" xmlns:apiso=\"http://www.opengis.net/cat/csw/apiso/1.0\" xmlns:gml=\"http://www.opengis.net/gml\" xmlns:dif=\"http://gcmd.gsfc.nasa.gov/Aboutus/xml/dif/\" xmlns:xlink=\"http://www.w3.org/1999/xlink\" xmlns:gco=\"http://www.isotc211.org/2005/gco\" xmlns:gmd=\"http://www.isotc211.org/2005/gmd\" xmlns:rdf=\"http://www.w3.org/1999/02/22-rdf-syntax-ns#\" xmlns:srv=\"http://www.isotc211.org/2005/srv\" xmlns:ogc=\"http://www.opengis.net/ogc\" xmlns:fgdc=\"http://www.opengis.net/cat/csw/csdgm\" xmlns:inspire_ds=\"http://inspire.ec.europa.eu/schemas/inspire_ds/1.0\" xmlns:xsi=\"http://www.w3.org/2001/XMLSchema-instance\" xmlns:os=\"http://a9.com/-/spec/opensearch/1.1/\" xmlns:soapenv=\"http://www.w3.org/2003/05/soap-envelope\" xmlns:sitemap=\"http://www.sitemaps.org/schemas/sitemap/0.9\" xmlns:wrs=\"http://www.opengis.net/cat/wrs/1.0\"><dc:identifier>35166d2e-e8db-11e4-a29e-005056822e38</dc:identifier><dc:title>Iran Lakes</dc:title><dc:type>dataset</dc:type><dc:subject>lakes</dc:subject><dc:subject>polygon</dc:subject><dc:subject>hydrography</dc:subject><dc:subject>seas</dc:subject><dc:subject>inlandWaters</dc:subject><dct:references scheme=\"WWW:DOWNLOAD-1.0-http--download\">http://geonode.wfp.org/geoserver/wms?layers=geonode%3Airn_hyd_lakes&amp;width=426&amp;bbox=45.009735107%2C37.024032593%2C45.9764328%2C38.269702911&amp;service=WMS&amp;format=image%2Fjpeg&amp;srs=EPSG%3A4326&amp;request=GetMap&amp;height=550</dct:references><dct:references scheme=\"WWW:DOWNLOAD-1.0-http--download\">http://geonode.wfp.org/geoserver/wms?layers=geonode%3Airn_hyd_lakes&amp;width=426&amp;bbox=45.009735107%2C37.024032593%2C45.9764328%2C38.269702911&amp;service=WMS&amp;format=application%2Fpdf&amp;srs=EPSG%3A4326&amp;request=GetMap&amp;height=550</dct:references><dct:references scheme=\"WWW:DOWNLOAD-1.0-http--download\">http://geonode.wfp.org/geoserver/wms?layers=geonode%3Airn_hyd_lakes&amp;width=426&amp;bbox=45.009735107%2C37.024032593%2C45.9764328%2C38.269702911&amp;service=WMS&amp;format=image%2Fpng&amp;srs=EPSG%3A4326&amp;request=GetMap&amp;height=550</dct:references><dct:references scheme=\"WWW:DOWNLOAD-1.0-http--download\">http://geonode.wfp.org/geoserver/wfs?format_options=charset%3AUTF-8&amp;typename=geonode%3Airn_hyd_lakes&amp;outputFormat=SHAPE-ZIP&amp;version=1.0.0&amp;service=WFS&amp;request=GetFeature</dct:references><dct:references scheme=\"WWW:DOWNLOAD-1.0-http--download\">http://geonode.wfp.org/geoserver/wfs?typename=geonode%3Airn_hyd_lakes&amp;outputFormat=gml2&amp;version=1.0.0&amp;request=GetFeature&amp;service=WFS</dct:references><dct:references scheme=\"WWW:DOWNLOAD-1.0-http--download\">http://geonode.wfp.org/geoserver/wfs?typename=geonode%3Airn_hyd_lakes&amp;outputFormat=text%2Fxml%3B+subtype%3Dgml%2F3.1.1&amp;version=1.0.0&amp;request=GetFeature&amp;service=WFS</dct:references><dct:references scheme=\"WWW:DOWNLOAD-1.0-http--download\">http://geonode.wfp.org/geoserver/wfs?typename=geonode%3Airn_hyd_lakes&amp;outputFormat=csv&amp;version=1.0.0&amp;request=GetFeature&amp;service=WFS</dct:references><dct:references scheme=\"WWW:DOWNLOAD-1.0-http--download\">http://geonode.wfp.org/geoserver/wfs?typename=geonode%3Airn_hyd_lakes&amp;outputFormat=excel&amp;version=1.0.0&amp;request=GetFeature&amp;service=WFS</dct:references><dct:references scheme=\"WWW:DOWNLOAD-1.0-http--download\">http://geonode.wfp.org/geoserver/wfs?srsName=EPSG%3A4326&amp;typename=geonode%3Airn_hyd_lakes&amp;outputFormat=json&amp;version=1.0.0&amp;service=WFS&amp;request=GetFeature</dct:references><dct:references scheme=\"WWW:DOWNLOAD-1.0-http--download\">http://geonode.wfp.org/geoserver/wms/kml?layers=geonode%3Airn_hyd_lakes&amp;mode=download</dct:references><dct:references scheme=\"WWW:DOWNLOAD-1.0-http--download\">http://geonode.wfp.org/geoserver/wms/kml?layers=geonode%3Airn_hyd_lakes&amp;mode=refresh</dct:references><dct:references scheme=\"WWW:DOWNLOAD-1.0-http--download\">http://geonode.wfp.org/geoserver/gwc/service/gmaps?layers=geonode:irn_hyd_lakes&amp;zoom={z}&amp;x={x}&amp;y={y}&amp;format=image/png8</dct:references><dct:references scheme=\"WWW:LINK-1.0-http--link\">http://geonode.wfp.org/layers/geonode%3Airn_hyd_lakes</dct:references><dct:references scheme=\"WWW:DOWNLOAD-1.0-http--download\">http://geonode.wfp.org/geoserver/wms/reflect?layers=geonode:irn_hyd_lakes&amp;width=200&amp;height=150&amp;format=image/png8</dct:references><dct:references scheme=\"WWW:DOWNLOAD-1.0-http--download\">http://geonode.wfp.org/uploaded/thumbs/layer-35166d2e-e8db-11e4-a29e-005056822e38-thumb.png</dct:references><dct:references scheme=\"WWW:DOWNLOAD-1.0-http--download\">http://geonode.wfp.org/geoserver/wms?request=GetLegendGraphic&amp;format=image/png&amp;WIDTH=20&amp;HEIGHT=20&amp;LAYER=geonode:irn_hyd_lakes&amp;legend_options=fontAntiAliasing:true;fontSize:12;forceLabels:on</dct:references><dct:references scheme=\"OGC:WMS\">http://geonode.wfp.org/geoserver/geonode/wms</dct:references><dct:references scheme=\"OGC:WFS\">http://geonode.wfp.org/geoserver/geonode/wfs</dct:references><dct:modified>2007-11-04</dct:modified><dct:abstract>World Lakes represents the major lakes and inland seas within the world.</dct:abstract><dc:date>2007-11-04</dc:date><dc:language>eng</dc:language><ows:BoundingBox crs=\"urn:x-ogc:def:crs:EPSG:6.11:4326\" dimensions=\"2\"><ows:LowerCorner>37.024032593 45.009735107</ows:LowerCorner><ows:UpperCorner>38.269702911 45.9764328</ows:UpperCorner></ows:BoundingBox></csw:Record>'"
      ]
     },
     "execution_count": 28,
     "metadata": {},
     "output_type": "execute_result"
    }
   ],
   "source": [
    "csw.records[choice].xml"
   ]
  },
  {
   "cell_type": "code",
   "execution_count": 30,
   "metadata": {
    "collapsed": false
   },
   "outputs": [
    {
     "ename": "ExceptionReport",
     "evalue": "'Invalid query: column \"servicetype\" does not exist\\nLINE 1: ...esourcebase\" WHERE (csw_anytext like \\'%DATA%\\' and servicetyp...\\n                                                             ^'",
     "output_type": "error",
     "traceback": [
      "\u001b[1;31m---------------------------------------------------------------------------\u001b[0m",
      "\u001b[1;31mExceptionReport\u001b[0m                           Traceback (most recent call last)",
      "\u001b[1;32m<ipython-input-30-1f720cf77c2a>\u001b[0m in \u001b[0;36m<module>\u001b[1;34m()\u001b[0m\n\u001b[0;32m      3\u001b[0m                         escapeChar='\\\\',wildCard='*',singleChar='?')\n\u001b[0;32m      4\u001b[0m \u001b[0mfilter_list\u001b[0m \u001b[1;33m=\u001b[0m \u001b[1;33m[\u001b[0m\u001b[0mfes\u001b[0m\u001b[1;33m.\u001b[0m\u001b[0mAnd\u001b[0m\u001b[1;33m(\u001b[0m\u001b[1;33m[\u001b[0m\u001b[0mfilter1\u001b[0m\u001b[1;33m,\u001b[0m \u001b[0mfilter2\u001b[0m\u001b[1;33m]\u001b[0m\u001b[1;33m)\u001b[0m\u001b[1;33m]\u001b[0m\u001b[1;33m\u001b[0m\u001b[0m\n\u001b[1;32m----> 5\u001b[1;33m \u001b[0mcsw\u001b[0m\u001b[1;33m.\u001b[0m\u001b[0mgetrecords2\u001b[0m\u001b[1;33m(\u001b[0m\u001b[0mconstraints\u001b[0m\u001b[1;33m=\u001b[0m\u001b[0mfilter_list\u001b[0m\u001b[1;33m,\u001b[0m \u001b[0mmaxrecords\u001b[0m\u001b[1;33m=\u001b[0m\u001b[1;36m1000\u001b[0m\u001b[1;33m)\u001b[0m\u001b[1;33m\u001b[0m\u001b[0m\n\u001b[0m",
      "\u001b[1;32m/home/usgs/miniconda/envs/ioos/lib/python2.7/site-packages/owslib/csw.pyc\u001b[0m in \u001b[0;36mgetrecords2\u001b[1;34m(self, constraints, sortby, typenames, esn, outputschema, format, startposition, maxrecords, cql, xml, resulttype)\u001b[0m\n\u001b[0;32m    366\u001b[0m             \u001b[0mself\u001b[0m\u001b[1;33m.\u001b[0m\u001b[0mrequest\u001b[0m \u001b[1;33m=\u001b[0m \u001b[0mnode0\u001b[0m\u001b[1;33m\u001b[0m\u001b[0m\n\u001b[0;32m    367\u001b[0m \u001b[1;33m\u001b[0m\u001b[0m\n\u001b[1;32m--> 368\u001b[1;33m         \u001b[0mself\u001b[0m\u001b[1;33m.\u001b[0m\u001b[0m_invoke\u001b[0m\u001b[1;33m(\u001b[0m\u001b[1;33m)\u001b[0m\u001b[1;33m\u001b[0m\u001b[0m\n\u001b[0m\u001b[0;32m    369\u001b[0m \u001b[1;33m\u001b[0m\u001b[0m\n\u001b[0;32m    370\u001b[0m         \u001b[1;32mif\u001b[0m \u001b[0mself\u001b[0m\u001b[1;33m.\u001b[0m\u001b[0mexceptionreport\u001b[0m \u001b[1;32mis\u001b[0m \u001b[0mNone\u001b[0m\u001b[1;33m:\u001b[0m\u001b[1;33m\u001b[0m\u001b[0m\n",
      "\u001b[1;32m/home/usgs/miniconda/envs/ioos/lib/python2.7/site-packages/owslib/csw.pyc\u001b[0m in \u001b[0;36m_invoke\u001b[1;34m(self)\u001b[0m\n\u001b[0;32m    686\u001b[0m         \u001b[0mval\u001b[0m \u001b[1;33m=\u001b[0m \u001b[0mself\u001b[0m\u001b[1;33m.\u001b[0m\u001b[0m_exml\u001b[0m\u001b[1;33m.\u001b[0m\u001b[0mfind\u001b[0m\u001b[1;33m(\u001b[0m\u001b[0mutil\u001b[0m\u001b[1;33m.\u001b[0m\u001b[0mnspath_eval\u001b[0m\u001b[1;33m(\u001b[0m\u001b[1;34m'ows:Exception'\u001b[0m\u001b[1;33m,\u001b[0m \u001b[0mnamespaces\u001b[0m\u001b[1;33m)\u001b[0m\u001b[1;33m)\u001b[0m\u001b[1;33m\u001b[0m\u001b[0m\n\u001b[0;32m    687\u001b[0m         \u001b[1;32mif\u001b[0m \u001b[0mval\u001b[0m \u001b[1;32mis\u001b[0m \u001b[1;32mnot\u001b[0m \u001b[0mNone\u001b[0m\u001b[1;33m:\u001b[0m\u001b[1;33m\u001b[0m\u001b[0m\n\u001b[1;32m--> 688\u001b[1;33m             \u001b[1;32mraise\u001b[0m \u001b[0mows\u001b[0m\u001b[1;33m.\u001b[0m\u001b[0mExceptionReport\u001b[0m\u001b[1;33m(\u001b[0m\u001b[0mself\u001b[0m\u001b[1;33m.\u001b[0m\u001b[0m_exml\u001b[0m\u001b[1;33m,\u001b[0m \u001b[0mself\u001b[0m\u001b[1;33m.\u001b[0m\u001b[0mowscommon\u001b[0m\u001b[1;33m.\u001b[0m\u001b[0mnamespace\u001b[0m\u001b[1;33m)\u001b[0m\u001b[1;33m\u001b[0m\u001b[0m\n\u001b[0m\u001b[0;32m    689\u001b[0m         \u001b[1;32melse\u001b[0m\u001b[1;33m:\u001b[0m\u001b[1;33m\u001b[0m\u001b[0m\n\u001b[0;32m    690\u001b[0m             \u001b[0mself\u001b[0m\u001b[1;33m.\u001b[0m\u001b[0mexceptionreport\u001b[0m \u001b[1;33m=\u001b[0m \u001b[0mNone\u001b[0m\u001b[1;33m\u001b[0m\u001b[0m\n",
      "\u001b[1;31mExceptionReport\u001b[0m: 'Invalid query: column \"servicetype\" does not exist\\nLINE 1: ...esourcebase\" WHERE (csw_anytext like \\'%DATA%\\' and servicetyp...\\n                                                             ^'"
     ]
    }
   ],
   "source": [
    "val = 'wms'\n",
    "filter2 = fes.PropertyIsLike(propertyname='apiso:ServiceType',literal=('*%s*' % val),\n",
    "                        escapeChar='\\\\',wildCard='*',singleChar='?')\n",
    "filter_list = [fes.And([filter1, filter2])]\n",
    "csw.getrecords2(constraints=filter_list, maxrecords=1000)"
   ]
  },
  {
   "cell_type": "code",
   "execution_count": 13,
   "metadata": {
    "collapsed": false
   },
   "outputs": [
    {
     "name": "stdout",
     "output_type": "stream",
     "text": [
      "0\n"
     ]
    }
   ],
   "source": [
    "print(len(csw.records.keys()))\n",
    "for rec in list(csw.records.keys()):\n",
    "    print('title:'+csw.records[rec].title) \n",
    "    print('identifier:'+csw.records[rec].identifier)\n",
    "    print('modified:'+csw.records[rec].modified)\n",
    "    print(' ')"
   ]
  },
  {
   "cell_type": "code",
   "execution_count": 50,
   "metadata": {
    "collapsed": false
   },
   "outputs": [],
   "source": [
    "val = 'wms'\n",
    "filter2 = fes.PropertyIsLike(propertyname='apiso:ServiceType',literal=('*%s*' % val),\n",
    "                        escapeChar='\\\\',wildCard='*',singleChar='?')\n",
    "filter_list = [filter2]\n",
    "csw.getrecords2(constraints=filter_list, maxrecords=1000)"
   ]
  },
  {
   "cell_type": "code",
   "execution_count": 51,
   "metadata": {
    "collapsed": false
   },
   "outputs": [
    {
     "name": "stdout",
     "output_type": "stream",
     "text": [
      "0\n"
     ]
    }
   ],
   "source": [
    "print(len(csw.records.keys()))\n",
    "for rec in list(csw.records.keys()):\n",
    "    print('title:'+csw.records[rec].title) \n",
    "    print('identifier:'+csw.records[rec].identifier)\n",
    "    print('modified:'+csw.records[rec].modified)\n",
    "    print(' ')"
   ]
  },
  {
   "cell_type": "code",
   "execution_count": null,
   "metadata": {
    "collapsed": true
   },
   "outputs": [],
   "source": []
  }
 ],
 "metadata": {
  "gist_id": "4b256b2a1d44390a10b3",
  "kernelspec": {
   "display_name": "Python 2",
   "language": "python",
   "name": "python2"
  },
  "language_info": {
   "codemirror_mode": {
    "name": "ipython",
    "version": 2
   },
   "file_extension": ".py",
   "mimetype": "text/x-python",
   "name": "python",
   "nbconvert_exporter": "python",
   "pygments_lexer": "ipython2",
   "version": "2.7.11"
  }
 },
 "nbformat": 4,
 "nbformat_minor": 0
}
