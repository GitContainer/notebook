{
 "cells": [
  {
   "cell_type": "markdown",
   "metadata": {},
   "source": [
    "## Test data.noaa.gov bbox, start, stop filters"
   ]
  },
  {
   "cell_type": "code",
   "execution_count": 1,
   "metadata": {
    "collapsed": false
   },
   "outputs": [],
   "source": [
    "from owslib.csw import CatalogueServiceWeb\n",
    "from owslib.fes import SortBy, SortProperty\n",
    "from owslib import fes\n",
    "import datetime as dt"
   ]
  },
  {
   "cell_type": "code",
   "execution_count": 2,
   "metadata": {
    "collapsed": false
   },
   "outputs": [],
   "source": [
    "#csw = CatalogueServiceWeb('http://www.ngdc.noaa.gov/geoportal/csw',timeout=60) # NGDC Geoportal\n",
    "csw = CatalogueServiceWeb('http://data.noaa.gov/csw',timeout=60)"
   ]
  },
  {
   "cell_type": "code",
   "execution_count": 3,
   "metadata": {
    "collapsed": false
   },
   "outputs": [
    {
     "data": {
      "text/plain": [
       "[Constraint: SupportedISOQueryables - ['apiso:DistanceValue', 'apiso:Abstract', 'apiso:RevisionDate', 'apiso:Subject', 'apiso:KeywordType', 'apiso:Title', 'apiso:CRS', 'apiso:PublicationDate', 'apiso:Type', 'apiso:AlternateTitle', 'apiso:BoundingBox', 'apiso:AnyText', 'apiso:ParentIdentifier', 'apiso:Modified', 'apiso:Operation', 'apiso:Format', 'apiso:TempExtent_end', 'apiso:DistanceUOM', 'apiso:OrganisationName', 'apiso:ServiceType', 'apiso:TempExtent_begin', 'apiso:ResourceLanguage', 'apiso:ServiceTypeVersion', 'apiso:OperatesOn', 'apiso:Denominator', 'apiso:HasSecurityConstraints', 'apiso:OperatesOnIdentifier', 'apiso:GeographicDescriptionCode', 'apiso:Language', 'apiso:Identifier', 'apiso:OperatesOnName', 'apiso:TopicCategory', 'apiso:CreationDate', 'apiso:CouplingType'],\n",
       " Constraint: AdditionalQueryables - ['apiso:Lineage', 'apiso:Classification', 'apiso:Creator', 'apiso:Relation', 'apiso:OtherConstraints', 'apiso:SpecificationTitle', 'apiso:ResponsiblePartyRole', 'apiso:SpecificationDateType', 'apiso:Degree', 'apiso:Contributor', 'apiso:ConditionApplyingToAccessAndUse', 'apiso:SpecificationDate', 'apiso:AccessConstraints', 'apiso:Publisher'],\n",
       " Constraint: SupportedDublinCoreQueryables - ['dc:contributor', 'dc:source', 'dc:language', 'dc:title', 'dc:subject', 'dc:creator', 'dc:type', 'ows:BoundingBox', 'dct:modified', 'dct:abstract', 'dc:relation', 'dc:date', 'dc:identifier', 'dc:publisher', 'dc:format', 'csw:AnyText', 'dc:rights']]"
      ]
     },
     "execution_count": 3,
     "metadata": {},
     "output_type": "execute_result"
    }
   ],
   "source": [
    "csw.get_operation_by_name('GetRecords').constraints"
   ]
  },
  {
   "cell_type": "code",
   "execution_count": 4,
   "metadata": {
    "collapsed": false
   },
   "outputs": [],
   "source": [
    "# adjust to match MaxRecordDefault of CSW, if would be cleaner if we pick this up Capabilities XML\n",
    "# this issue will allow for this: https://github.com/geopython/OWSLib/issues/211\n",
    "pagesize = 10\n",
    "sort_property = 'dc:title'  # a supported queryable of the CSW\n",
    "sort_order = 'ASC'  # should be 'ASC' or 'DESC'"
   ]
  },
  {
   "cell_type": "code",
   "execution_count": 5,
   "metadata": {
    "collapsed": false
   },
   "outputs": [],
   "source": [
    "sortby = SortBy([SortProperty(sort_property, sort_order)])\n",
    "foo=sortby.properties"
   ]
  },
  {
   "cell_type": "code",
   "execution_count": 6,
   "metadata": {
    "collapsed": false
   },
   "outputs": [],
   "source": [
    "# hopefully something like this will be implemented in fes soon\n",
    "def dateRange(start_date='1900-01-01',stop_date='2100-01-01',constraint='overlaps'):\n",
    "    if constraint == 'overlaps':\n",
    "        start = fes.PropertyIsLessThanOrEqualTo(propertyname='apiso:TempExtent_begin', literal=stop_date)\n",
    "        stop = fes.PropertyIsGreaterThanOrEqualTo(propertyname='apiso:TempExtent_end', literal=start_date)\n",
    "    elif constraint == 'within':\n",
    "        start = fes.PropertyIsGreaterThanOrEqualTo(propertyname='apiso:TempExtent_begin', literal=start_date)\n",
    "        stop = fes.PropertyIsLessThanOrEqualTo(propertyname='apiso:TempExtent_end', literal=stop_date)\n",
    "    return start,stop"
   ]
  },
  {
   "cell_type": "code",
   "execution_count": 7,
   "metadata": {
    "collapsed": false
   },
   "outputs": [],
   "source": [
    "val = 'salinity'\n",
    "box=[-72.0, 41.0, -69.0, 43.0]   # gulf of maine"
   ]
  },
  {
   "cell_type": "code",
   "execution_count": 8,
   "metadata": {
    "collapsed": false
   },
   "outputs": [
    {
     "name": "stdout",
     "output_type": "stream",
     "text": [
      "1988-01-01 00:00 to 1988-03-01 00:00\n"
     ]
    }
   ],
   "source": [
    "# specific specific times (UTC) ...\n",
    "\n",
    "# hurricane sandy\n",
    "jd_start = dt.datetime(2012,10,26)\n",
    "jd_stop = dt.datetime(2012,11,2)\n",
    "\n",
    "# 2014 feb 10-15 storm\n",
    "jd_start = dt.datetime(2014,2,10)\n",
    "jd_stop = dt.datetime(2014,2,15)\n",
    "\n",
    "# 2014 recent\n",
    "jd_start = dt.datetime(2014,3,8)\n",
    "jd_stop = dt.datetime(2014,3,11)\n",
    "\n",
    "# 2014 recent\n",
    "jd_start = dt.datetime(1988,1,1)\n",
    "jd_stop = dt.datetime(1988,3,1)\n",
    "\n",
    "# 2011 \n",
    "#jd_start = dt.datetime(2013,4,20)\n",
    "#jd_stop = dt.datetime(2013,4,24)\n",
    "\n",
    "# ... or relative to now\n",
    "#jd_now = dt.datetime.utcnow()\n",
    "#jd_start = jd_now - dt.timedelta(days=3)\n",
    "#jd_stop = jd_now + dt.timedelta(days=3)\n",
    "\n",
    "start_date = jd_start.strftime('%Y-%m-%d %H:00')\n",
    "stop_date  = jd_stop.strftime('%Y-%m-%d %H:00')\n",
    "\n",
    "jd_start = dt.datetime.strptime(start_date,'%Y-%m-%d %H:%M')\n",
    "jd_stop = dt.datetime.strptime(stop_date,'%Y-%m-%d %H:%M')\n",
    "\n",
    "print start_date,'to',stop_date"
   ]
  },
  {
   "cell_type": "code",
   "execution_count": 9,
   "metadata": {
    "collapsed": false
   },
   "outputs": [],
   "source": [
    "start,stop = dateRange(start_date,stop_date)\n",
    "filter1 = fes.PropertyIsLike(propertyname='apiso:AnyText',literal=('*%s*' % val),\n",
    "                        escapeChar='\\\\',wildCard='*',singleChar='?')\n",
    "bbox = fes.BBox(box,crs='urn:ogc:def:crs:OGC:1.3:CRS84')\n",
    "#filter_list = [fes.And([ bbox, filter1, start,stop]) ]\n"
   ]
  },
  {
   "cell_type": "code",
   "execution_count": 10,
   "metadata": {
    "collapsed": false
   },
   "outputs": [
    {
     "data": {
      "text/plain": [
       "2288"
      ]
     },
     "execution_count": 10,
     "metadata": {},
     "output_type": "execute_result"
    }
   ],
   "source": [
    "filter_list = [fes.And([ bbox, filter1]) ]\n",
    "csw.getrecords2(constraints=filter_list)\n",
    "csw.results['matches']"
   ]
  },
  {
   "cell_type": "code",
   "execution_count": 11,
   "metadata": {
    "collapsed": false
   },
   "outputs": [
    {
     "data": {
      "text/plain": [
       "0"
      ]
     },
     "execution_count": 11,
     "metadata": {},
     "output_type": "execute_result"
    }
   ],
   "source": [
    "filter_list = [fes.And([ bbox, filter1, start,stop]) ]\n",
    "csw.getrecords2(constraints=filter_list)\n",
    "csw.results['matches']"
   ]
  },
  {
   "cell_type": "code",
   "execution_count": 12,
   "metadata": {
    "collapsed": false
   },
   "outputs": [
    {
     "data": {
      "text/plain": [
       "12110"
      ]
     },
     "execution_count": 12,
     "metadata": {},
     "output_type": "execute_result"
    }
   ],
   "source": [
    "filter_list = [filter1]\n",
    "csw.getrecords2(constraints=filter_list)\n",
    "csw.results['matches']"
   ]
  },
  {
   "cell_type": "code",
   "execution_count": 13,
   "metadata": {
    "collapsed": false
   },
   "outputs": [
    {
     "name": "stdout",
     "output_type": "stream",
     "text": [
      "getting records 0 to 10\n",
      "1990, 1991, 1992 and 1995 CRETM/LMER Zooplankton Data Sets (NODC Accession 0000029)\n",
      "AFSC/RACE/GAP:  RACEBASE Database\n",
      "AIR PRESSURE and Other Data from MULTIPLE SHIPS and Other Platforms From NE Atlantic (limit-40 W) from 19580101 to 19740228 (NODC Accession 7400501)\n",
      "AIR PRESSURE and Other Data from UNKNOWN From North Pacific Ocean from 19750101 to 19871231 (NODC Accession 8800174)\n",
      "AIR PRESSURE and Other Data from UNKNOWN From World-Wide Distribution from 19870801 to 19870831 (NODC Accession 8700313)\n",
      "AIR PRESSURE and Other Data from UNKNOWN From World-Wide Distribution from 19880101 to 19880131 (NODC Accession 8800056)\n",
      "AIR PRESSURE and Other Data from UNKNOWN From World-Wide Distribution from 19880201 to 19880227 (NODC Accession 8800051)\n",
      "AIR PRESSURE and Other Data from UNKNOWN From World-Wide Distribution from 19880701 to 19880731 (NODC Accession 8800227)\n",
      "AIR PRESSURE and Other Data from UNKNOWN From World-Wide Distribution from 19890101 to 19890131 (NODC Accession 8900033)\n",
      "AIR PRESSURE and Other Data from UNKNOWN From World-Wide Distribution from 19890601 to 19890630 (NODC Accession 8900191)\n",
      "getting records 10 to 20\n",
      "AIR PRESSURE and Other Data from UNKNOWN From World-Wide Distribution from 19890601 to 19890630 (NODC Accession 8900191)\n",
      "AIR PRESSURE and Other Data from UNKNOWN From World-Wide Distribution from 19900201 to 19900228 (NODC Accession 9000053)\n",
      "AIR PRESSURE and Other Data from UNKNOWN From World-Wide Distribution from 19900301 to 19900331 (NODC Accession 9000079)\n",
      "AIR PRESSURE and Other Data from UNKNOWN From World-Wide Distribution from 19900401 to 19900430 (NODC Accession 9000101)\n",
      "AIR PRESSURE and Other Data from UNKNOWN From World-Wide Distribution from 19900501 to 19900531 (NODC Accession 9000131)\n",
      "AIR PRESSURE and Other Data from UNKNOWN From World-Wide Distribution from 19900801 to 19900831 (NODC Accession 9000214)\n",
      "AIR PRESSURE and Other Data from UNKNOWN From World-Wide Distribution from 19901001 to 19901031 (NODC Accession 9000274)\n",
      "AIR PRESSURE and Other Data from UNKNOWN PLATFORMS and Other Platforms from 19550301 to 19700813 (NODC Accession 7200320)\n",
      "AIR PRESSURE and Other Data (NODC Accession 9600144)\n",
      "Annual update of delayed mode profile data from DFO-MPO Canada (NODC Accession 0098794)\n"
     ]
    }
   ],
   "source": [
    "filter_list = [fes.And([ bbox, filter1]) ]\n",
    "startposition = 0\n",
    "maxrecords = 20\n",
    "while True:\n",
    "    print 'getting records %d to %d' % (startposition, startposition+pagesize)\n",
    "    csw.getrecords2(constraints=filter_list,\n",
    "                    startposition=startposition, maxrecords=pagesize, sortby=sortby)\n",
    "#    print csw.request\n",
    "    for rec,item in csw.records.iteritems():\n",
    "        print item.title\n",
    "    if csw.results['nextrecord'] == 0:\n",
    "        break\n",
    "    startposition += pagesize\n",
    "    if startposition >= maxrecords:\n",
    "        break"
   ]
  }
 ],
 "metadata": {
  "gist_id": "",
  "kernelspec": {
   "display_name": "Python 2",
   "language": "python",
   "name": "python2"
  },
  "language_info": {
   "codemirror_mode": {
    "name": "ipython",
    "version": 2
   },
   "file_extension": ".py",
   "mimetype": "text/x-python",
   "name": "python",
   "nbconvert_exporter": "python",
   "pygments_lexer": "ipython2",
   "version": "2.7.12"
  }
 },
 "nbformat": 4,
 "nbformat_minor": 0
}
