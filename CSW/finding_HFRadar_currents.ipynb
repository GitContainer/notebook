{
 "cells": [
  {
   "cell_type": "markdown",
   "metadata": {
    "collapsed": false
   },
   "source": [
    "# Finding Near real-time current data"
   ]
  },
  {
   "cell_type": "code",
   "execution_count": 1,
   "metadata": {
    "collapsed": true
   },
   "outputs": [],
   "source": [
    "import os\n",
    "import sys\n",
    "import time\n",
    "import warnings\n",
    "\n",
    "ioos_tools = os.path.join(os.path.pardir)\n",
    "sys.path.append(ioos_tools)"
   ]
  },
  {
   "cell_type": "code",
   "execution_count": 2,
   "metadata": {
    "collapsed": true
   },
   "outputs": [],
   "source": [
    "from datetime import datetime, timedelta\n",
    "\n",
    "# Region.\n",
    "bbox = [-123, 36, -121, 40]\n",
    "crs = 'urn:ogc:def:crs:OGC:1.3:CRS84'\n",
    "    \n",
    "# Temporal range.\n",
    "now = datetime.utcnow()\n",
    "start,  stop = now - timedelta(days=(7)), now\n",
    "\n",
    "# Names.\n",
    "cf_names = ['*sea_water_potential_temperature*',\n",
    "            '*sea_water_salinity*']"
   ]
  },
  {
   "cell_type": "code",
   "execution_count": 6,
   "metadata": {
    "collapsed": false
   },
   "outputs": [],
   "source": [
    "from owslib import fes\n",
    "from ioos_tools.ioos import fes_date_filter\n",
    "\n",
    "kw = dict(wildCard='*', escapeChar='\\\\',\n",
    "          singleChar='?', propertyname='apiso:AnyText')\n",
    "\n",
    "or_filt = fes.Or([fes.PropertyIsLike(literal=('*%s*' % val), **kw)\n",
    "                  for val in cf_names])\n",
    "\n",
    "# Exclude ROMS Averages and History files.\n",
    "not_filt = fes.Not([fes.PropertyIsLike(literal='*GNOME*', **kw)])\n",
    "\n",
    "services = ['OPeNDAP','SOS'] \n",
    "#services = ['asdfasfasdf','asfasdfasdfasd']\n",
    "service_filt = fes.Or([fes.PropertyIsLike(propertyname='apiso:ServiceType',literal=('*%s*' % val),\n",
    "                        escapeChar='\\\\',wildCard='*',singleChar='?') for val in services])\n",
    "\n",
    "begin, end = fes_date_filter(start, stop)\n",
    "bbox_crs = fes.BBox(bbox, crs=crs)\n",
    "filter_list = [fes.And([bbox_crs, begin, end, or_filt, not_filt])]\n",
    "filter_list = [fes.And([or_filt, not_filt])]\n",
    "filter_list = [fes.And([or_filt, not_filt, service_filt])]"
   ]
  },
  {
   "cell_type": "code",
   "execution_count": 7,
   "metadata": {
    "collapsed": false
   },
   "outputs": [
    {
     "name": "stdout",
     "output_type": "stream",
     "text": [
      "https://dev-catalog.ioos.us/csw\n",
      "10\n",
      "['deployments/mbari/UCSC294-20150430T2218/UCSC294-20150430T2218.nc3.nc', 'ud_134-20150122T1955', 'ru24-20150105T1441', 'NS15agg', 'deployments/lfiorentino/gichigami-20110706T1754/gichigami-20110706T1754.nc3.nc', 'edu.maine:A01', 'gov.noaa.nos.ioos:nanoos_regional_data_portal', 'gov.noaa.nos.ioos:caricoos_regional_data_portal', 'gov.noaa.nos.ioos:aoos_regional_data_portal', 'sp025-20140611T184300']\n",
      "http://geoport.whoi.edu/csw\n",
      "10\n",
      "['USGS_BBLEH_SANDY_076', 'COAWST.Barnegat_Bay.Spring2012', 'gov.usgs.cmg:USGS_CHINCO_SANDY', 'gov.usgs.cmg:USGS_CHINCO_EPR', 'gov.usgs.cmgp:COAWST.USEAST.Forecast', 'gov.usgs.cmg:HudJBay_Sandy', 'COAWST.MVCO.CBLAST.spatial_7_ar0fd', 'gom3_nocache', 'massbay_nocache', 'roms_hiig_assimilation']\n",
      "http://catalog.data.gov/csw-all\n",
      "10\n",
      "['35cce7bd-783b-45d6-9e1d-020f3a2ed95c', '0e9f6bbd-c5f8-454d-8309-1437c27ed6dd', '506d7521-cc62-4e72-a5b6-f9dc578db637', '9d09db91-69e2-426c-b6e3-03e726453f9b', 'gov.noaa.nodc:0084099', 'maui_water_quality', 'gov.noaa.nodc:0002357', 'gov.noaa.nodc:8100222', '39a20fc1-8979-41d0-86e9-e1d62304fe3c', 'gov.noaa.nodc:0131762']\n"
     ]
    }
   ],
   "source": [
    "from owslib.csw import CatalogueServiceWeb\n",
    "\n",
    "\n",
    "catalogs = ['http://www.ngdc.noaa.gov/geoportal/csw',\n",
    "            'https://dev-catalog.ioos.us/csw',\n",
    "            'http://geoport.whoi.edu/csw',\n",
    "            'http://catalog.data.gov/csw-all']\n",
    "\n",
    "catalogs = ['https://dev-catalog.ioos.us/csw',\n",
    "            'http://geoport.whoi.edu/csw',\n",
    "            'http://catalog.data.gov/csw-all']\n",
    "\n",
    "for endpoint in catalogs:\n",
    "    csw = CatalogueServiceWeb(endpoint, timeout=60)\n",
    "    csw.getrecords2(constraints=filter_list, maxrecords=1000, esn='full')\n",
    "    print(endpoint)\n",
    "    print(len(csw.records))\n",
    "    print(csw.records.keys())"
   ]
  },
  {
   "cell_type": "code",
   "execution_count": null,
   "metadata": {
    "collapsed": true
   },
   "outputs": [],
   "source": []
  },
  {
   "cell_type": "code",
   "execution_count": null,
   "metadata": {
    "collapsed": true
   },
   "outputs": [],
   "source": []
  }
 ],
 "metadata": {
  "kernelspec": {
   "display_name": "Python 2",
   "language": "python",
   "name": "python2"
  },
  "language_info": {
   "codemirror_mode": {
    "name": "ipython",
    "version": 2
   },
   "file_extension": ".py",
   "mimetype": "text/x-python",
   "name": "python",
   "nbconvert_exporter": "python",
   "pygments_lexer": "ipython2",
   "version": "2.7.12"
  }
 },
 "nbformat": 4,
 "nbformat_minor": 0
}
