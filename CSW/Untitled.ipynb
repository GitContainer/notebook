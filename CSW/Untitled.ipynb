{
 "cells": [
  {
   "cell_type": "code",
   "execution_count": 12,
   "metadata": {
    "collapsed": true
   },
   "outputs": [],
   "source": [
    "import netCDF4"
   ]
  },
  {
   "cell_type": "code",
   "execution_count": 13,
   "metadata": {
    "collapsed": true
   },
   "outputs": [],
   "source": [
    "url = 'http://geoport.whoi.edu/thredds/dodsC/usgs/data2/rsignell/gdrive/nsf-alpha/Data/MIT_MSEAS/MSEAS_Tides_20140701/test_nc4.nc'"
   ]
  },
  {
   "cell_type": "code",
   "execution_count": 14,
   "metadata": {
    "collapsed": true
   },
   "outputs": [],
   "source": [
    "nc = netCDF4.Dataset(url)"
   ]
  },
  {
   "cell_type": "code",
   "execution_count": 15,
   "metadata": {
    "collapsed": false
   },
   "outputs": [
    {
     "data": {
      "text/plain": [
       "[u'imt',\n",
       " u'jmt',\n",
       " u'km',\n",
       " u'nt',\n",
       " u'lseg',\n",
       " u'misle',\n",
       " u'lbc',\n",
       " u'nfirst',\n",
       " u'nlast',\n",
       " u'nnergy',\n",
       " u'ntsout',\n",
       " u'ntsi',\n",
       " u'nmix',\n",
       " u'mxscan',\n",
       " u'mixvel',\n",
       " u'mixtrc',\n",
       " u'mixztd',\n",
       " u'am',\n",
       " u'ah',\n",
       " u'fkpm',\n",
       " u'fkph',\n",
       " u'nordv',\n",
       " u'ntimv',\n",
       " u'nfrqv',\n",
       " u'nordt',\n",
       " u'ntimt',\n",
       " u'nfrqt',\n",
       " u'nordp',\n",
       " u'ntimp',\n",
       " u'nfrqp',\n",
       " u'nordpb',\n",
       " u'ntimpb',\n",
       " u'nfrqpb',\n",
       " u'nordz',\n",
       " u'ntimz',\n",
       " u'nfrqz',\n",
       " u'dtts',\n",
       " u'dtuv',\n",
       " u'dtsf',\n",
       " u'sor',\n",
       " u'crit',\n",
       " u'acor',\n",
       " u'coord',\n",
       " u'rlngd',\n",
       " u'rlatd',\n",
       " u'delx',\n",
       " u'dely',\n",
       " u'thetad',\n",
       " u'rho0',\n",
       " u'smean',\n",
       " u'zc1',\n",
       " u'zc2',\n",
       " u'zref',\n",
       " u'zslope',\n",
       " u'dvbrlx',\n",
       " u'tvbrlx',\n",
       " u'dtbrlx',\n",
       " u'ttbrlx',\n",
       " u'dcsfrc',\n",
       " u'tcsfrc',\n",
       " u'dbtfrc',\n",
       " u'tbtfrc',\n",
       " u'iflag',\n",
       " u'iopt',\n",
       " u'iout',\n",
       " u'outlev',\n",
       " u'zclima',\n",
       " u'tclima',\n",
       " u'sclima',\n",
       " u'refz',\n",
       " u'hz',\n",
       " u'dxt',\n",
       " u'dyt',\n",
       " u'tbath',\n",
       " u'landt',\n",
       " u'landv',\n",
       " u'tgrid2',\n",
       " u'vgrid2',\n",
       " u'tgrid3',\n",
       " u'vgrid3',\n",
       " u'dzt',\n",
       " u'dzv',\n",
       " u'time',\n",
       " u'srfpress',\n",
       " u'vbaro']"
      ]
     },
     "execution_count": 15,
     "metadata": {},
     "output_type": "execute_result"
    }
   ],
   "source": [
    "nc.variables.keys()"
   ]
  },
  {
   "cell_type": "code",
   "execution_count": 17,
   "metadata": {
    "collapsed": false
   },
   "outputs": [],
   "source": [
    "vel = nc['vbaro']"
   ]
  },
  {
   "cell_type": "code",
   "execution_count": 20,
   "metadata": {
    "collapsed": false
   },
   "outputs": [
    {
     "data": {
      "text/plain": [
       "<type 'netCDF4._netCDF4.Variable'>\n",
       "float32 vbaro(time, vlat, vlon, vector)\n",
       "    positions: vgrid2\n",
       "    missing_value: 1e+35\n",
       "    long_name: barotropic velocity\n",
       "    units: centimeter second-1\n",
       "    field: barotropic velocity, vector, series\n",
       "    _FillValue: 1e+35\n",
       "    least_significant_digit: 3\n",
       "    _ChunkSize: [  1 433 516   1]\n",
       "unlimited dimensions: time\n",
       "current shape = (2209, 866, 1032, 2)\n",
       "filling off"
      ]
     },
     "execution_count": 20,
     "metadata": {},
     "output_type": "execute_result"
    }
   ],
   "source": [
    "vel"
   ]
  },
  {
   "cell_type": "code",
   "execution_count": 23,
   "metadata": {
    "collapsed": false
   },
   "outputs": [],
   "source": [
    "u_subset = vel[-1,:10,:10,1]"
   ]
  },
  {
   "cell_type": "code",
   "execution_count": 24,
   "metadata": {
    "collapsed": false
   },
   "outputs": [
    {
     "data": {
      "text/plain": [
       "array([[-6.44921875, -6.6875    , -6.98144531, -6.8125    , -6.5078125 ,\n",
       "        -6.65332031, -6.93847656, -6.7890625 , -6.53027344, -6.734375  ],\n",
       "       [-6.88476562, -6.81054688, -6.76367188, -6.74707031, -6.72558594,\n",
       "        -6.71582031, -6.70800781, -6.72265625, -6.76367188, -6.81835938],\n",
       "       [-7.01855469, -6.79003906, -6.77929688, -6.74902344, -6.7265625 ,\n",
       "        -6.70703125, -6.70214844, -6.71972656, -6.765625  , -6.80957031],\n",
       "       [-6.73632812, -6.79394531, -6.78027344, -6.75878906, -6.72558594,\n",
       "        -6.70605469, -6.6953125 , -6.71582031, -6.75976562, -6.79882812],\n",
       "       [-6.59375   , -6.80859375, -6.79003906, -6.76367188, -6.73242188,\n",
       "        -6.70410156, -6.69140625, -6.7109375 , -6.75683594, -6.79003906],\n",
       "       [-6.91503906, -6.82421875, -6.80078125, -6.77539062, -6.74023438,\n",
       "        -6.70898438, -6.69042969, -6.71191406, -6.75585938, -6.7890625 ],\n",
       "       [-7.09570312, -6.84179688, -6.8203125 , -6.79296875, -6.75683594,\n",
       "        -6.71875   , -6.70117188, -6.72460938, -6.77050781, -6.796875  ],\n",
       "       [-6.81054688, -6.86230469, -6.84082031, -6.81835938, -6.78417969,\n",
       "        -6.75292969, -6.73925781, -6.76074219, -6.79492188, -6.81347656],\n",
       "       [-6.66894531, -6.88085938, -6.86425781, -6.84570312, -6.828125  ,\n",
       "        -6.8125    , -6.80664062, -6.8125    , -6.82519531, -6.83300781],\n",
       "       [-6.98925781, -6.90136719, -6.88671875, -6.87792969, -6.87304688,\n",
       "        -6.87011719, -6.8671875 , -6.86328125, -6.85839844, -6.85449219]], dtype=float32)"
      ]
     },
     "execution_count": 24,
     "metadata": {},
     "output_type": "execute_result"
    }
   ],
   "source": [
    "u_subset"
   ]
  },
  {
   "cell_type": "code",
   "execution_count": null,
   "metadata": {
    "collapsed": true
   },
   "outputs": [],
   "source": []
  }
 ],
 "metadata": {
  "kernelspec": {
   "display_name": "Python 2",
   "language": "python",
   "name": "python2"
  },
  "language_info": {
   "codemirror_mode": {
    "name": "ipython",
    "version": 2
   },
   "file_extension": ".py",
   "mimetype": "text/x-python",
   "name": "python",
   "nbconvert_exporter": "python",
   "pygments_lexer": "ipython2",
   "version": "2.7.12"
  }
 },
 "nbformat": 4,
 "nbformat_minor": 0
}
