{
 "cells": [
  {
   "cell_type": "markdown",
   "metadata": {},
   "source": [
    "# Try some \"RAW\" requests to pycsw"
   ]
  },
  {
   "cell_type": "code",
   "execution_count": 1,
   "metadata": {
    "collapsed": false
   },
   "outputs": [],
   "source": [
    "import requests, json"
   ]
  },
  {
   "cell_type": "code",
   "execution_count": 2,
   "metadata": {
    "collapsed": false
   },
   "outputs": [],
   "source": [
    "headers = {'Content-Type': 'application/xml'}"
   ]
  },
  {
   "cell_type": "markdown",
   "metadata": {},
   "source": [
    "### Try apiso:serviceType query"
   ]
  },
  {
   "cell_type": "code",
   "execution_count": 3,
   "metadata": {
    "collapsed": true
   },
   "outputs": [],
   "source": [
    "input = '''\n",
    "<csw:GetRecords xmlns:csw=\"http://www.opengis.net/cat/csw/2.0.2\"\n",
    "    xmlns:ogc=\"http://www.opengis.net/ogc\" xmlns:xsi=\"http://www.w3.org/2001/XMLSchema-instance\"\n",
    "    outputSchema=\"http://www.opengis.net/cat/csw/2.0.2\" outputFormat=\"application/xml\"\n",
    "    version=\"2.0.2\" service=\"CSW\" resultType=\"results\" maxRecords=\"1000\"\n",
    "    xsi:schemaLocation=\"http://www.opengis.net/cat/csw/2.0.2 http://schemas.opengis.net/csw/2.0.2/CSW-discovery.xsd\">\n",
    "    <csw:Query typeNames=\"csw:Record\">\n",
    "        <csw:ElementSetName>summary</csw:ElementSetName>\n",
    "        <csw:Constraint version=\"1.1.0\">\n",
    "            <ogc:Filter>\n",
    "                    <ogc:PropertyIsLike wildCard=\"*\" singleChar=\"?\" escapeChar=\"\\\">\n",
    "                        <ogc:PropertyName>apiso:ServiceType</ogc:PropertyName>\n",
    "                        <ogc:Literal>*WMS*</ogc:Literal>\n",
    "                    </ogc:PropertyIsLike>\n",
    "            </ogc:Filter>\n",
    "        </csw:Constraint>\n",
    "    </csw:Query>\n",
    "</csw:GetRecords>\n",
    "'''"
   ]
  },
  {
   "cell_type": "markdown",
   "metadata": {},
   "source": [
    "Geoport pycsw instance"
   ]
  },
  {
   "cell_type": "code",
   "execution_count": 4,
   "metadata": {
    "collapsed": false
   },
   "outputs": [
    {
     "name": "stdout",
     "output_type": "stream",
     "text": [
      "<?xml version=\"1.0\" encoding=\"UTF-8\" standalone=\"no\"?>\n",
      "<!-- pycsw 2.1-dev -->\n",
      "<csw:GetRecordsResponse xmlns:csw=\"http://www.opengis.net/cat/csw/2.0.2\" xmlns:dc=\"http://purl.org/dc/elements/1.1/\" xmlns:dct=\"http://purl.org/dc/terms/\" xmlns:gmd=\"http://www.isotc211.org/2005/gmd\" xmlns:gml=\"http://www.opengis.net/gml\" xmlns:ows=\"http://www.opengis.net/ows\" xmlns:xs=\"http://www.w3.org/2001/XMLSchema\" xmlns:xsi=\"http://www.w3.org/2001/XMLSchema-instance\" version=\"2.0.2\" xsi:schemaLocation=\"http://www.opengis.net/cat/csw/2.0.2 http://schemas.opengis.net/csw/2.0.2/CSW-discovery.xsd\"><csw:SearchStatus timestamp=\"2016-12-09T13:31:04Z\"/><csw:SearchResults nextRecord=\"11\" numberOfRecordsMatched=\"21\" numberOfRecordsReturned=\"10\" recordSchema=\"http://www.opengis.net/cat/csw/2.0.2\" elementSet=\"summary\"><csw:SummaryRecord><dc:identifier>57f2aa95e4b0bc0bec001f03</dc:identifier><dc:title>Marsh Condition Change Map (Radar and optical mapping of surge persistence and marsh dieback along the New Jersey Mid-Atlantic coast after Hurricane Sandy, April 2016)</dc:title><dc:type>dataset</dc:type><dc:subject>marsh condition</dc:subject><dc:subject>storm surge</dc:subject><dc:subject>GeoTiff</dc:subject><dc:subject>Hurricane Sandy</dc:subject><dc:subject>New Jersey Coastal Marshes</dc:subject><dc:subject>CMG_Portal</dc:subject><dct:references scheme=\"WWW:LINK-1.0-http--link\">https://www.sciencebase.gov/catalog/item/57f2aa95e4b0bc0bec001f03</dct:references><dct:references scheme=\"KML\">https://www.sciencebase.gov/catalogMaps/mapping/ows/57f2aa95e4b0bc0bec001f03?mode=download&amp;request=kml&amp;service=wms&amp;layers=SPOTMarshCondChangeMap</dct:references><dct:references scheme=\"OGC:WMS\">https://www.sciencebase.gov/catalogMaps/mapping/ows/57f2aa95e4b0bc0bec001f03?service=wms&amp;request=getcapabilities&amp;version=1.3.0</dct:references><dct:references scheme=\"OGC:WCS\">https://www.sciencebase.gov/catalogMaps/mapping/ows/57f2aa95e4b0bc0bec001f03?service=wcs&amp;request=getcapabilities&amp;version\n"
     ]
    }
   ],
   "source": [
    "endpoint = 'http://gamone.whoi.edu/csw/'  \n",
    "xml_string=requests.post(endpoint, data=input, headers=headers).text\n",
    "print xml_string[:2000]"
   ]
  },
  {
   "cell_type": "markdown",
   "metadata": {},
   "source": [
    "geodata.gov.gr pycsw instance"
   ]
  },
  {
   "cell_type": "code",
   "execution_count": 5,
   "metadata": {
    "collapsed": false
   },
   "outputs": [
    {
     "name": "stdout",
     "output_type": "stream",
     "text": [
      "<?xml version=\"1.0\" encoding=\"UTF-8\" standalone=\"no\"?>\n",
      "<!-- pycsw 1.10.5 -->\n",
      "<csw:GetRecordsResponse xmlns:dc=\"http://purl.org/dc/elements/1.1/\" xmlns:inspire_common=\"http://inspire.ec.europa.eu/schemas/common/1.0\" xmlns:rim=\"urn:oasis:names:tc:ebxml-regrep:xsd:rim:3.0\" xmlns:atom=\"http://www.w3.org/2005/Atom\" xmlns:xs=\"http://www.w3.org/2001/XMLSchema\" xmlns:dct=\"http://purl.org/dc/terms/\" xmlns:ows=\"http://www.opengis.net/ows\" xmlns:apiso=\"http://www.opengis.net/cat/csw/apiso/1.0\" xmlns:gml=\"http://www.opengis.net/gml\" xmlns:dif=\"http://gcmd.gsfc.nasa.gov/Aboutus/xml/dif/\" xmlns:xlink=\"http://www.w3.org/1999/xlink\" xmlns:gco=\"http://www.isotc211.org/2005/gco\" xmlns:gmd=\"http://www.isotc211.org/2005/gmd\" xmlns:rdf=\"http://www.w3.org/1999/02/22-rdf-syntax-ns#\" xmlns:srv=\"http://www.isotc211.org/2005/srv\" xmlns:ogc=\"http://www.opengis.net/ogc\" xmlns:fgdc=\"http://www.opengis.net/cat/csw/csdgm\" xmlns:inspire_ds=\"http://inspire.ec.europa.eu/schemas/inspire_ds/1.0\" xmlns:csw=\"http://www.opengis.net/cat/csw/2.0.2\" xmlns:xsi=\"http://www.w3.org/2001/XMLSchema-instance\" xmlns:os=\"http://a9.com/-/spec/opensearch/1.1/\" xmlns:soapenv=\"http://www.w3.org/2003/05/soap-envelope\" xmlns:sitemap=\"http://www.sitemaps.org/schemas/sitemap/0.9\" xmlns:wrs=\"http://www.opengis.net/cat/wrs/1.0\" version=\"2.0.2\" xsi:schemaLocation=\"http://www.opengis.net/cat/csw/2.0.2 http://schemas.opengis.net/csw/2.0.2/CSW-discovery.xsd\"><csw:SearchStatus timestamp=\"2016-12-09T15:36:03Z\"/><csw:SearchResults nextRecord=\"0\" numberOfRecordsMatched=\"0\" numberOfRecordsReturned=\"0\" recordSchema=\"http://www.opengis.net/cat/csw/2.0.2\" elementSet=\"summary\"/></csw:GetRecordsResponse>\n"
     ]
    }
   ],
   "source": [
    "endpoint = 'http://geodata.gov.gr/csw'\n",
    "xml_string=requests.post(endpoint, data=input, headers=headers).text\n",
    "print xml_string[:2000]"
   ]
  },
  {
   "cell_type": "markdown",
   "metadata": {},
   "source": [
    "Data.Gov pycsw instance"
   ]
  },
  {
   "cell_type": "code",
   "execution_count": 6,
   "metadata": {
    "collapsed": false
   },
   "outputs": [
    {
     "name": "stdout",
     "output_type": "stream",
     "text": [
      "<?xml version=\"1.0\" encoding=\"UTF-8\" standalone=\"no\"?>\n",
      "<!-- pycsw 1.10.5 -->\n",
      "<csw:GetRecordsResponse xmlns:dc=\"http://purl.org/dc/elements/1.1/\" xmlns:inspire_common=\"http://inspire.ec.europa.eu/schemas/common/1.0\" xmlns:atom=\"http://www.w3.org/2005/Atom\" xmlns:xs=\"http://www.w3.org/2001/XMLSchema\" xmlns:dct=\"http://purl.org/dc/terms/\" xmlns:ows=\"http://www.opengis.net/ows\" xmlns:apiso=\"http://www.opengis.net/cat/csw/apiso/1.0\" xmlns:gml=\"http://www.opengis.net/gml\" xmlns:dif=\"http://gcmd.gsfc.nasa.gov/Aboutus/xml/dif/\" xmlns:xlink=\"http://www.w3.org/1999/xlink\" xmlns:gco=\"http://www.isotc211.org/2005/gco\" xmlns:gmd=\"http://www.isotc211.org/2005/gmd\" xmlns:rdf=\"http://www.w3.org/1999/02/22-rdf-syntax-ns#\" xmlns:srv=\"http://www.isotc211.org/2005/srv\" xmlns:ogc=\"http://www.opengis.net/ogc\" xmlns:fgdc=\"http://www.opengis.net/cat/csw/csdgm\" xmlns:inspire_ds=\"http://inspire.ec.europa.eu/schemas/inspire_ds/1.0\" xmlns:csw=\"http://www.opengis.net/cat/csw/2.0.2\" xmlns:xsi=\"http://www.w3.org/2001/XMLSchema-instance\" xmlns:os=\"http://a9.com/-/spec/opensearch/1.1/\" xmlns:soapenv=\"http://www.w3.org/2003/05/soap-envelope\" xmlns:sitemap=\"http://www.sitemaps.org/schemas/sitemap/0.9\" version=\"2.0.2\" xsi:schemaLocation=\"http://www.opengis.net/cat/csw/2.0.2 http://schemas.opengis.net/csw/2.0.2/CSW-discovery.xsd\"><csw:SearchStatus timestamp=\"2016-12-09T08:35:25Z\"/><csw:SearchResults nextRecord=\"11\" numberOfRecordsMatched=\"660\" numberOfRecordsReturned=\"10\" recordSchema=\"http://www.opengis.net/cat/csw/2.0.2\" elementSet=\"summary\"><csw:SummaryRecord><dc:identifier>gov.noaa.pfel.coastwatch:LAKsstaS3day_20081114120000</dc:identifier><dc:title>SST, NOAA POES AVHRR, LAC, 0.0125 degrees, Alaska, Day and Night</dc:title><dc:type>dataset</dc:type><dc:subject>Unified Access Framework (UAF)</dc:subject><dc:subject>The Unified Access Framework: A GEO-IDE project to integrate scientific data management and access</dc:subject><dc:subject>EARTH SCIENCE &gt; Oceans &gt; Ocean Temperature &gt; Sea Surfac\n"
     ]
    }
   ],
   "source": [
    "endpoint = 'http://catalog.data.gov/csw-all'  \n",
    "xml_string=requests.post(endpoint, data=input, headers=headers).text\n",
    "print xml_string[:2000]"
   ]
  },
  {
   "cell_type": "markdown",
   "metadata": {},
   "source": [
    "PACIOOS pycsw instance"
   ]
  },
  {
   "cell_type": "code",
   "execution_count": 7,
   "metadata": {
    "collapsed": false
   },
   "outputs": [
    {
     "name": "stdout",
     "output_type": "stream",
     "text": [
      "<?xml version=\"1.0\" encoding=\"UTF-8\" standalone=\"no\"?>\n",
      "<!-- pycsw 1.8.2 -->\n",
      "<csw:GetRecordsResponse xmlns:dc=\"http://purl.org/dc/elements/1.1/\" xmlns:inspire_common=\"http://inspire.ec.europa.eu/schemas/common/1.0\" xmlns:atom=\"http://www.w3.org/2005/Atom\" xmlns:xs=\"http://www.w3.org/2001/XMLSchema\" xmlns:dct=\"http://purl.org/dc/terms/\" xmlns:ows=\"http://www.opengis.net/ows\" xmlns:apiso=\"http://www.opengis.net/cat/csw/apiso/1.0\" xmlns:gml=\"http://www.opengis.net/gml\" xmlns:dif=\"http://gcmd.gsfc.nasa.gov/Aboutus/xml/dif/\" xmlns:xlink=\"http://www.w3.org/1999/xlink\" xmlns:gco=\"http://www.isotc211.org/2005/gco\" xmlns:gmd=\"http://www.isotc211.org/2005/gmd\" xmlns:rdf=\"http://www.w3.org/1999/02/22-rdf-syntax-ns#\" xmlns:srv=\"http://www.isotc211.org/2005/srv\" xmlns:ogc=\"http://www.opengis.net/ogc\" xmlns:fgdc=\"http://www.opengis.net/cat/csw/csdgm\" xmlns:inspire_ds=\"http://inspire.ec.europa.eu/schemas/inspire_ds/1.0\" xmlns:csw=\"http://www.opengis.net/cat/csw/2.0.2\" xmlns:xsi=\"http://www.w3.org/2001/XMLSchema-instance\" xmlns:os=\"http://a9.com/-/spec/opensearch/1.1/\" xmlns:soapenv=\"http://www.w3.org/2003/05/soap-envelope\" xmlns:sitemap=\"http://www.sitemaps.org/schemas/sitemap/0.9\" version=\"2.0.2\" xsi:schemaLocation=\"http://www.opengis.net/cat/csw/2.0.2 http://schemas.opengis.net/csw/2.0.2/CSW-discovery.xsd\"><csw:SearchStatus timestamp=\"2016-12-09T03:36:43Z\"/><csw:SearchResults nextRecord=\"0\" numberOfRecordsMatched=\"0\" numberOfRecordsReturned=\"0\" recordSchema=\"http://www.opengis.net/cat/csw/2.0.2\" elementSet=\"summary\"/></csw:GetRecordsResponse>\n"
     ]
    }
   ],
   "source": [
    "endpoint = 'http://oos.soest.hawaii.edu/pacioos/ogc/csw.py' \n",
    "xml_string=requests.post(endpoint, data=input, headers=headers).text\n",
    "print xml_string[:2000]"
   ]
  },
  {
   "cell_type": "markdown",
   "metadata": {},
   "source": [
    "## Data.ioos.us endpoint"
   ]
  },
  {
   "cell_type": "code",
   "execution_count": 8,
   "metadata": {
    "collapsed": false
   },
   "outputs": [
    {
     "name": "stdout",
     "output_type": "stream",
     "text": [
      "<?xml version=\"1.0\" encoding=\"UTF-8\" standalone=\"no\"?>\n",
      "<!-- pycsw 1.10.5 -->\n",
      "<csw:GetRecordsResponse xmlns:dc=\"http://purl.org/dc/elements/1.1/\" xmlns:inspire_common=\"http://inspire.ec.europa.eu/schemas/common/1.0\" xmlns:atom=\"http://www.w3.org/2005/Atom\" xmlns:xs=\"http://www.w3.org/2001/XMLSchema\" xmlns:dct=\"http://purl.org/dc/terms/\" xmlns:ows=\"http://www.opengis.net/ows\" xmlns:apiso=\"http://www.opengis.net/cat/csw/apiso/1.0\" xmlns:gml=\"http://www.opengis.net/gml\" xmlns:dif=\"http://gcmd.gsfc.nasa.gov/Aboutus/xml/dif/\" xmlns:xlink=\"http://www.w3.org/1999/xlink\" xmlns:gco=\"http://www.isotc211.org/2005/gco\" xmlns:gmd=\"http://www.isotc211.org/2005/gmd\" xmlns:rdf=\"http://www.w3.org/1999/02/22-rdf-syntax-ns#\" xmlns:srv=\"http://www.isotc211.org/2005/srv\" xmlns:ogc=\"http://www.opengis.net/ogc\" xmlns:fgdc=\"http://www.opengis.net/cat/csw/csdgm\" xmlns:inspire_ds=\"http://inspire.ec.europa.eu/schemas/inspire_ds/1.0\" xmlns:csw=\"http://www.opengis.net/cat/csw/2.0.2\" xmlns:xsi=\"http://www.w3.org/2001/XMLSchema-instance\" xmlns:os=\"http://a9.com/-/spec/opensearch/1.1/\" xmlns:soapenv=\"http://www.w3.org/2003/05/soap-envelope\" xmlns:sitemap=\"http://www.sitemaps.org/schemas/sitemap/0.9\" version=\"2.0.2\" xsi:schemaLocation=\"http://www.opengis.net/cat/csw/2.0.2 http://schemas.opengis.net/csw/2.0.2/CSW-discovery.xsd\"><csw:SearchStatus timestamp=\"2016-12-09T13:36:44Z\"/><csw:SearchResults nextRecord=\"11\" numberOfRecordsMatched=\"1414\" numberOfRecordsReturned=\"10\" recordSchema=\"http://www.opengis.net/cat/csw/2.0.2\" elementSet=\"summary\"><csw:SummaryRecord><dc:identifier>usgs_dem_10m_tutuila</dc:identifier><dc:title>USGS 10-m Digital Elevation Model (DEM): American Samoa: Tutuila</dc:title><dc:type>dataset</dc:type><dc:subject>Earth Science &gt; Land Surface &gt; Topography &gt; Terrain Elevation &gt; Digital Elevation/Terrain Model (DEM)</dc:subject><dc:subject>Ocean &amp;gt; Pacific Ocean &amp;gt; South Pacific Ocean &amp;gt; Polynesia &amp;gt; American Samoa &amp;gt; Aunuu</dc:subject><dc:sub\n"
     ]
    }
   ],
   "source": [
    "endpoint = 'https://data.ioos.us/csw' \n",
    "xml_string=requests.post(endpoint, data=input, headers=headers).text\n",
    "print xml_string[:2000]"
   ]
  },
  {
   "cell_type": "code",
   "execution_count": 9,
   "metadata": {
    "collapsed": false
   },
   "outputs": [
    {
     "name": "stdout",
     "output_type": "stream",
     "text": [
      "<?xml version=\"1.0\" encoding=\"UTF-8\" standalone=\"no\"?>\n",
      "<!-- pycsw 1.10.5 -->\n",
      "<ows:ExceptionReport xmlns:dc=\"http://purl.org/dc/elements/1.1/\" xmlns:inspire_common=\"http://inspire.ec.europa.eu/schemas/common/1.0\" xmlns:atom=\"http://www.w3.org/2005/Atom\" xmlns:xs=\"http://www.w3.org/2001/XMLSchema\" xmlns:dct=\"http://purl.org/dc/terms/\" xmlns:ows=\"http://www.opengis.net/ows\" xmlns:apiso=\"http://www.opengis.net/cat/csw/apiso/1.0\" xmlns:gml=\"http://www.opengis.net/gml\" xmlns:dif=\"http://gcmd.gsfc.nasa.gov/Aboutus/xml/dif/\" xmlns:xlink=\"http://www.w3.org/1999/xlink\" xmlns:gco=\"http://www.isotc211.org/2005/gco\" xmlns:gmd=\"http://www.isotc211.org/2005/gmd\" xmlns:rdf=\"http://www.w3.org/1999/02/22-rdf-syntax-ns#\" xmlns:srv=\"http://www.isotc211.org/2005/srv\" xmlns:ogc=\"http://www.opengis.net/ogc\" xmlns:fgdc=\"http://www.opengis.net/cat/csw/csdgm\" xmlns:inspire_ds=\"http://inspire.ec.europa.eu/schemas/inspire_ds/1.0\" xmlns:csw=\"http://www.opengis.net/cat/csw/2.0.2\" xmlns:xsi=\"http://www.w3.org/2001/XMLSchema-instance\" xmlns:os=\"http://a9.com/-/spec/opensearch/1.1/\" xmlns:soapenv=\"http://www.w3.org/2003/05/soap-envelope\" xmlns:sitemap=\"http://www.sitemaps.org/schemas/sitemap/0.9\" language=\"en-US\" version=\"1.2.0\" xsi:schemaLocation=\"http://www.opengis.net/ows http://schemas.opengis.net/ows/1.0.0/owsExceptionReport.xsd\"><ows:Exception exceptionCode=\"MissingParameterValue\" locator=\"service\"><ows:ExceptionText>Missing keyword: service</ows:ExceptionText></ows:Exception></ows:ExceptionReport>\n"
     ]
    }
   ],
   "source": [
    "endpoint = 'http://data.ioos.us/csw' \n",
    "xml_string=requests.post(endpoint, data=input, headers=headers).text\n",
    "print xml_string[:2000]"
   ]
  },
  {
   "cell_type": "markdown",
   "metadata": {},
   "source": [
    "### Try using both apiso:AnyText and apiso:ServiceType queries "
   ]
  },
  {
   "cell_type": "code",
   "execution_count": 10,
   "metadata": {
    "collapsed": true
   },
   "outputs": [],
   "source": [
    "input = '''\n",
    "<csw:GetRecords xmlns:csw=\"http://www.opengis.net/cat/csw/2.0.2\"\n",
    "    xmlns:ogc=\"http://www.opengis.net/ogc\" xmlns:xsi=\"http://www.w3.org/2001/XMLSchema-instance\"\n",
    "    outputSchema=\"http://www.opengis.net/cat/csw/2.0.2\" outputFormat=\"application/xml\"\n",
    "    version=\"2.0.2\" service=\"CSW\" resultType=\"results\" maxRecords=\"1000\"\n",
    "    xsi:schemaLocation=\"http://www.opengis.net/cat/csw/2.0.2 http://schemas.opengis.net/csw/2.0.2/CSW-discovery.xsd\">\n",
    "    <csw:Query typeNames=\"csw:Record\">\n",
    "        <csw:ElementSetName>summary</csw:ElementSetName>\n",
    "        <csw:Constraint version=\"1.1.0\">\n",
    "            <ogc:Filter>\n",
    "                <ogc:And>\n",
    "                    <ogc:PropertyIsLike wildCard=\"*\" singleChar=\"?\" escapeChar=\"\\\">\n",
    "                        <ogc:PropertyName>apiso:AnyText</ogc:PropertyName>\n",
    "                        <ogc:Literal>*coawst*</ogc:Literal>\n",
    "                    </ogc:PropertyIsLike>\n",
    "                    <ogc:PropertyIsLike wildCard=\"*\" singleChar=\"?\" escapeChar=\"\\\">\n",
    "                        <ogc:PropertyName>apiso:ServiceType</ogc:PropertyName>\n",
    "                        <ogc:Literal>*OPeNDAP*</ogc:Literal>\n",
    "                    </ogc:PropertyIsLike>\n",
    "                </ogc:And>\n",
    "            </ogc:Filter>\n",
    "        </csw:Constraint>\n",
    "    </csw:Query>\n",
    "</csw:GetRecords>\n",
    "'''"
   ]
  },
  {
   "cell_type": "code",
   "execution_count": 11,
   "metadata": {
    "collapsed": false
   },
   "outputs": [
    {
     "name": "stdout",
     "output_type": "stream",
     "text": [
      "<?xml version=\"1.0\" encoding=\"UTF-8\" standalone=\"no\"?>\n",
      "<!-- pycsw 1.10.2 -->\n",
      "<csw:GetRecordsResponse xmlns:apiso=\"http://www.opengis.net/cat/csw/apiso/1.0\" xmlns:atom=\"http://www.w3.org/2005/Atom\" xmlns:csw=\"http://www.opengis.net/cat/csw/2.0.2\" xmlns:dc=\"http://purl.org/dc/elements/1.1/\" xmlns:dct=\"http://purl.org/dc/terms/\" xmlns:dif=\"http://gcmd.gsfc.nasa.gov/Aboutus/xml/dif/\" xmlns:fgdc=\"http://www.opengis.net/cat/csw/csdgm\" xmlns:gco=\"http://www.isotc211.org/2005/gco\" xmlns:gmd=\"http://www.isotc211.org/2005/gmd\" xmlns:gml=\"http://www.opengis.net/gml\" xmlns:inspire_common=\"http://inspire.ec.europa.eu/schemas/common/1.0\" xmlns:inspire_ds=\"http://inspire.ec.europa.eu/schemas/inspire_ds/1.0\" xmlns:ogc=\"http://www.opengis.net/ogc\" xmlns:os=\"http://a9.com/-/spec/opensearch/1.1/\" xmlns:ows=\"http://www.opengis.net/ows\" xmlns:rdf=\"http://www.w3.org/1999/02/22-rdf-syntax-ns#\" xmlns:sitemap=\"http://www.sitemaps.org/schemas/sitemap/0.9\" xmlns:soapenv=\"http://www.w3.org/2003/05/soap-envelope\" xmlns:srv=\"http://www.isotc211.org/2005/srv\" xmlns:xlink=\"http://www.w3.org/1999/xlink\" xmlns:xs=\"http://www.w3.org/2001/XMLSchema\" xmlns:xsi=\"http://www.w3.org/2001/XMLSchema-instance\" version=\"2.0.2\" xsi:schemaLocation=\"http://www.opengis.net/cat/csw/2.0.2 http://schemas.opengis.net/csw/2.0.2/CSW-discovery.xsd\"><csw:SearchStatus timestamp=\"2016-12-09T08:36:47Z\"/><csw:SearchResults nextRecord=\"0\" numberOfRecordsMatched=\"0\" numberOfRecordsReturned=\"0\" recordSchema=\"http://www.opengis.net/cat/csw/2.0.2\" elementSet=\"summary\"/></csw:GetRecordsResponse>\n"
     ]
    }
   ],
   "source": [
    "endpoint = 'http://geoport.whoi.edu/csw' \n",
    "xml_string=requests.post(endpoint, data=input, headers=headers).text\n",
    "print xml_string[:2000]"
   ]
  },
  {
   "cell_type": "code",
   "execution_count": 12,
   "metadata": {
    "collapsed": false
   },
   "outputs": [
    {
     "name": "stdout",
     "output_type": "stream",
     "text": [
      "<?xml version=\"1.0\" encoding=\"UTF-8\" standalone=\"no\"?>\n",
      "<!-- pycsw 1.10.5 -->\n",
      "<csw:GetRecordsResponse xmlns:dc=\"http://purl.org/dc/elements/1.1/\" xmlns:inspire_common=\"http://inspire.ec.europa.eu/schemas/common/1.0\" xmlns:atom=\"http://www.w3.org/2005/Atom\" xmlns:xs=\"http://www.w3.org/2001/XMLSchema\" xmlns:dct=\"http://purl.org/dc/terms/\" xmlns:ows=\"http://www.opengis.net/ows\" xmlns:apiso=\"http://www.opengis.net/cat/csw/apiso/1.0\" xmlns:gml=\"http://www.opengis.net/gml\" xmlns:dif=\"http://gcmd.gsfc.nasa.gov/Aboutus/xml/dif/\" xmlns:xlink=\"http://www.w3.org/1999/xlink\" xmlns:gco=\"http://www.isotc211.org/2005/gco\" xmlns:gmd=\"http://www.isotc211.org/2005/gmd\" xmlns:rdf=\"http://www.w3.org/1999/02/22-rdf-syntax-ns#\" xmlns:srv=\"http://www.isotc211.org/2005/srv\" xmlns:ogc=\"http://www.opengis.net/ogc\" xmlns:fgdc=\"http://www.opengis.net/cat/csw/csdgm\" xmlns:inspire_ds=\"http://inspire.ec.europa.eu/schemas/inspire_ds/1.0\" xmlns:csw=\"http://www.opengis.net/cat/csw/2.0.2\" xmlns:xsi=\"http://www.w3.org/2001/XMLSchema-instance\" xmlns:os=\"http://a9.com/-/spec/opensearch/1.1/\" xmlns:soapenv=\"http://www.w3.org/2003/05/soap-envelope\" xmlns:sitemap=\"http://www.sitemaps.org/schemas/sitemap/0.9\" version=\"2.0.2\" xsi:schemaLocation=\"http://www.opengis.net/cat/csw/2.0.2 http://schemas.opengis.net/csw/2.0.2/CSW-discovery.xsd\"><csw:SearchStatus timestamp=\"2016-12-09T08:36:08Z\"/><csw:SearchResults nextRecord=\"0\" numberOfRecordsMatched=\"0\" numberOfRecordsReturned=\"0\" recordSchema=\"http://www.opengis.net/cat/csw/2.0.2\" elementSet=\"summary\"/></csw:GetRecordsResponse>\n"
     ]
    }
   ],
   "source": [
    "endpoint = 'http://catalog.data.gov/csw-all' \n",
    "xml_string=requests.post(endpoint, data=input, headers=headers).text\n",
    "print xml_string[:2000]"
   ]
  },
  {
   "cell_type": "code",
   "execution_count": 13,
   "metadata": {
    "collapsed": false
   },
   "outputs": [
    {
     "name": "stdout",
     "output_type": "stream",
     "text": [
      "<?xml version=\"1.0\" encoding=\"UTF-8\" standalone=\"no\"?>\n",
      "<!-- pycsw 1.10.5 -->\n",
      "<ows:ExceptionReport xmlns:dc=\"http://purl.org/dc/elements/1.1/\" xmlns:inspire_common=\"http://inspire.ec.europa.eu/schemas/common/1.0\" xmlns:atom=\"http://www.w3.org/2005/Atom\" xmlns:xs=\"http://www.w3.org/2001/XMLSchema\" xmlns:dct=\"http://purl.org/dc/terms/\" xmlns:ows=\"http://www.opengis.net/ows\" xmlns:apiso=\"http://www.opengis.net/cat/csw/apiso/1.0\" xmlns:gml=\"http://www.opengis.net/gml\" xmlns:dif=\"http://gcmd.gsfc.nasa.gov/Aboutus/xml/dif/\" xmlns:xlink=\"http://www.w3.org/1999/xlink\" xmlns:gco=\"http://www.isotc211.org/2005/gco\" xmlns:gmd=\"http://www.isotc211.org/2005/gmd\" xmlns:rdf=\"http://www.w3.org/1999/02/22-rdf-syntax-ns#\" xmlns:srv=\"http://www.isotc211.org/2005/srv\" xmlns:ogc=\"http://www.opengis.net/ogc\" xmlns:fgdc=\"http://www.opengis.net/cat/csw/csdgm\" xmlns:inspire_ds=\"http://inspire.ec.europa.eu/schemas/inspire_ds/1.0\" xmlns:csw=\"http://www.opengis.net/cat/csw/2.0.2\" xmlns:xsi=\"http://www.w3.org/2001/XMLSchema-instance\" xmlns:os=\"http://a9.com/-/spec/opensearch/1.1/\" xmlns:soapenv=\"http://www.w3.org/2003/05/soap-envelope\" xmlns:sitemap=\"http://www.sitemaps.org/schemas/sitemap/0.9\" language=\"en-US\" version=\"1.2.0\" xsi:schemaLocation=\"http://www.opengis.net/ows http://schemas.opengis.net/ows/1.0.0/owsExceptionReport.xsd\"><ows:Exception exceptionCode=\"MissingParameterValue\" locator=\"service\"><ows:ExceptionText>Missing keyword: service</ows:ExceptionText></ows:Exception></ows:ExceptionReport>\n"
     ]
    }
   ],
   "source": [
    "endpoint = 'http://data.ioos.us/csw' \n",
    "xml_string=requests.post(endpoint, data=input, headers=headers).text\n",
    "print xml_string[:2000]"
   ]
  },
  {
   "cell_type": "code",
   "execution_count": 14,
   "metadata": {
    "collapsed": false
   },
   "outputs": [
    {
     "name": "stdout",
     "output_type": "stream",
     "text": [
      "<?xml version=\"1.0\" encoding=\"UTF-8\" standalone=\"no\"?>\n",
      "<!-- pycsw 1.10.5 -->\n",
      "<csw:GetRecordsResponse xmlns:dc=\"http://purl.org/dc/elements/1.1/\" xmlns:inspire_common=\"http://inspire.ec.europa.eu/schemas/common/1.0\" xmlns:atom=\"http://www.w3.org/2005/Atom\" xmlns:xs=\"http://www.w3.org/2001/XMLSchema\" xmlns:dct=\"http://purl.org/dc/terms/\" xmlns:ows=\"http://www.opengis.net/ows\" xmlns:apiso=\"http://www.opengis.net/cat/csw/apiso/1.0\" xmlns:gml=\"http://www.opengis.net/gml\" xmlns:dif=\"http://gcmd.gsfc.nasa.gov/Aboutus/xml/dif/\" xmlns:xlink=\"http://www.w3.org/1999/xlink\" xmlns:gco=\"http://www.isotc211.org/2005/gco\" xmlns:gmd=\"http://www.isotc211.org/2005/gmd\" xmlns:rdf=\"http://www.w3.org/1999/02/22-rdf-syntax-ns#\" xmlns:srv=\"http://www.isotc211.org/2005/srv\" xmlns:ogc=\"http://www.opengis.net/ogc\" xmlns:fgdc=\"http://www.opengis.net/cat/csw/csdgm\" xmlns:inspire_ds=\"http://inspire.ec.europa.eu/schemas/inspire_ds/1.0\" xmlns:csw=\"http://www.opengis.net/cat/csw/2.0.2\" xmlns:xsi=\"http://www.w3.org/2001/XMLSchema-instance\" xmlns:os=\"http://a9.com/-/spec/opensearch/1.1/\" xmlns:soapenv=\"http://www.w3.org/2003/05/soap-envelope\" xmlns:sitemap=\"http://www.sitemaps.org/schemas/sitemap/0.9\" version=\"2.0.2\" xsi:schemaLocation=\"http://www.opengis.net/cat/csw/2.0.2 http://schemas.opengis.net/csw/2.0.2/CSW-discovery.xsd\"><csw:SearchStatus timestamp=\"2016-12-09T08:36:09Z\"/><csw:SearchResults nextRecord=\"0\" numberOfRecordsMatched=\"0\" numberOfRecordsReturned=\"0\" recordSchema=\"http://www.opengis.net/cat/csw/2.0.2\" elementSet=\"summary\"/></csw:GetRecordsResponse>\n"
     ]
    }
   ],
   "source": [
    "endpoint = 'http://catalog.data.gov/csw-all' \n",
    "xml_string=requests.post(endpoint, data=input, headers=headers).text\n",
    "print xml_string[:2000]"
   ]
  },
  {
   "cell_type": "markdown",
   "metadata": {},
   "source": [
    "### BBOX query on NGDC Geoportal Server CSW"
   ]
  },
  {
   "cell_type": "code",
   "execution_count": 15,
   "metadata": {
    "collapsed": false
   },
   "outputs": [],
   "source": [
    "endpoint = 'http://www.ngdc.noaa.gov/geoportal/csw'"
   ]
  },
  {
   "cell_type": "code",
   "execution_count": 16,
   "metadata": {
    "collapsed": false
   },
   "outputs": [],
   "source": [
    "input='''\n",
    "<csw:GetRecords xmlns:csw=\"http://www.opengis.net/cat/csw/2.0.2\"\n",
    "    xmlns:xsi=\"http://www.w3.org/2001/XMLSchema-instance\" xmlns:ogc=\"http://www.opengis.net/ogc\"\n",
    "    xmlns:gml=\"http://www.opengis.net/gml\" outputSchema=\"http://www.opengis.net/cat/csw/2.0.2\"\n",
    "    outputFormat=\"application/xml\" version=\"2.0.2\" service=\"CSW\" resultType=\"results\"\n",
    "    maxRecords=\"1000\"\n",
    "    xsi:schemaLocation=\"http://www.opengis.net/cat/csw/2.0.2 http://schemas.opengis.net/csw/2.0.2/CSW-discovery.xsd\">\n",
    "    <csw:Query typeNames=\"csw:Record\">\n",
    "        <csw:ElementSetName>full</csw:ElementSetName>\n",
    "        <csw:Constraint version=\"1.1.0\">\n",
    "            <ogc:Filter>\n",
    "                <ogc:And>\n",
    "                    <ogc:BBOX>\n",
    "                        <ogc:PropertyName>ows:BoundingBox</ogc:PropertyName>\n",
    "                        <gml:Envelope srsName=\"urn:ogc:def:crs:OGC:1.3:CRS84\">\n",
    "                            <gml:lowerCorner> -158.4 20.7</gml:lowerCorner>\n",
    "                            <gml:upperCorner> -60.2 50.6</gml:upperCorner>\n",
    "                        </gml:Envelope>\n",
    "                    </ogc:BBOX>\n",
    "                    <ogc:PropertyIsLessThanOrEqualTo>\n",
    "                        <ogc:PropertyName>apiso:TempExtent_begin</ogc:PropertyName>\n",
    "                        <ogc:Literal>2018-12-01T16:43:00Z</ogc:Literal>\n",
    "                    </ogc:PropertyIsLessThanOrEqualTo>\n",
    "                    <ogc:PropertyIsGreaterThanOrEqualTo>\n",
    "                        <ogc:PropertyName>apiso:TempExtent_end</ogc:PropertyName>\n",
    "                        <ogc:Literal>2010-12-01T16:43:00Z</ogc:Literal>\n",
    "                    </ogc:PropertyIsGreaterThanOrEqualTo>\n",
    "                    <ogc:PropertyIsLike wildCard=\"*\" singleChar=\"?\" escapeChar=\"\\\\\">\n",
    "                        <ogc:PropertyName>apiso:AnyText</ogc:PropertyName>\n",
    "                        <ogc:Literal>*CMG_Portal*</ogc:Literal>\n",
    "                    </ogc:PropertyIsLike>\n",
    "                    <ogc:PropertyIsLike wildCard=\"*\" singleChar=\"?\" escapeChar=\"\\\">\n",
    "                        <ogc:PropertyName>apiso:ServiceType</ogc:PropertyName>\n",
    "                        <ogc:Literal>*WMS*</ogc:Literal>\n",
    "                    </ogc:PropertyIsLike>\n",
    "                </ogc:And>\n",
    "            </ogc:Filter>\n",
    "        </csw:Constraint>\n",
    "    </csw:Query>\n",
    "</csw:GetRecords>\n",
    "''';"
   ]
  },
  {
   "cell_type": "code",
   "execution_count": 17,
   "metadata": {
    "collapsed": false
   },
   "outputs": [
    {
     "name": "stdout",
     "output_type": "stream",
     "text": [
      "<?xml version=\"1.0\" encoding=\"UTF-8\"?>\r\n",
      "<ExceptionReport version=\"1.2.0\" xmlns=\"http://www.opengis.net/ows\">\r\n",
      "<Exception exceptionCode=\"MissingParameterValue\" locator=\"request\">\r\n",
      "<ExceptionText>\r\n",
      "Missing parameter value: locator=request\r\n",
      "</ExceptionText>\r\n",
      "<ExceptionText>\r\n",
      "The parameter value was missing.\r\n",
      "</ExceptionText>\r\n",
      "</Exception>\r\n",
      "</ExceptionReport>\n"
     ]
    }
   ],
   "source": [
    "xml_string=requests.post(endpoint, data=input, headers=headers).text\n",
    "print xml_string[:650]"
   ]
  },
  {
   "cell_type": "markdown",
   "metadata": {},
   "source": [
    "## BBOX query on PACIOOS pyCSW"
   ]
  },
  {
   "cell_type": "code",
   "execution_count": 18,
   "metadata": {
    "collapsed": false
   },
   "outputs": [],
   "source": [
    "input='''\n",
    "<csw:GetRecords xmlns:csw=\"http://www.opengis.net/cat/csw/2.0.2\"\n",
    "    xmlns:xsi=\"http://www.w3.org/2001/XMLSchema-instance\" xmlns:ogc=\"http://www.opengis.net/ogc\"\n",
    "    xmlns:gml=\"http://www.opengis.net/gml\" outputSchema=\"http://www.opengis.net/cat/csw/2.0.2\"\n",
    "    outputFormat=\"application/xml\" version=\"2.0.2\" service=\"CSW\" resultType=\"results\"\n",
    "    maxRecords=\"1000\"\n",
    "    xsi:schemaLocation=\"http://www.opengis.net/cat/csw/2.0.2 http://schemas.opengis.net/csw/2.0.2/CSW-discovery.xsd\">\n",
    "    <csw:Query typeNames=\"csw:Record\">\n",
    "        <csw:ElementSetName>full</csw:ElementSetName>\n",
    "        <csw:Constraint version=\"1.1.0\">\n",
    "            <ogc:Filter>\n",
    "                <ogc:And>\n",
    "                    <ogc:BBOX>\n",
    "                        <ogc:PropertyName>ows:BoundingBox</ogc:PropertyName>\n",
    "                        <gml:Envelope srsName=\"urn:x-ogc:def:crs:EPSG:6.11:4326\">\n",
    "                            <gml:lowerCorner> 20.7 -158.4</gml:lowerCorner>\n",
    "                            <gml:upperCorner> 21.6 -157.2</gml:upperCorner>\n",
    "                        </gml:Envelope>\n",
    "                    </ogc:BBOX>\n",
    "                    <ogc:PropertyIsLessThanOrEqualTo>\n",
    "                        <ogc:PropertyName>apiso:TempExtent_begin</ogc:PropertyName>\n",
    "                        <ogc:Literal>2014-12-01T16:43:00Z</ogc:Literal>\n",
    "                    </ogc:PropertyIsLessThanOrEqualTo>\n",
    "                    <ogc:PropertyIsGreaterThanOrEqualTo>\n",
    "                        <ogc:PropertyName>apiso:TempExtent_end</ogc:PropertyName>\n",
    "                        <ogc:Literal>2014-12-01T16:43:00Z</ogc:Literal>\n",
    "                    </ogc:PropertyIsGreaterThanOrEqualTo>\n",
    "                    <ogc:PropertyIsLike wildCard=\"*\" singleChar=\"?\" escapeChar=\"\\\\\">\n",
    "                        <ogc:PropertyName>apiso:AnyText</ogc:PropertyName>\n",
    "                        <ogc:Literal>*sea_water_salinity*</ogc:Literal>\n",
    "                    </ogc:PropertyIsLike>\n",
    "                </ogc:And>\n",
    "            </ogc:Filter>\n",
    "        </csw:Constraint>\n",
    "    </csw:Query>\n",
    "</csw:GetRecords>\n",
    "''';"
   ]
  },
  {
   "cell_type": "code",
   "execution_count": 19,
   "metadata": {
    "collapsed": false
   },
   "outputs": [],
   "source": [
    "endpoint='http://oos.soest.hawaii.edu/pacioos/ogc/csw.py'"
   ]
  },
  {
   "cell_type": "code",
   "execution_count": 20,
   "metadata": {
    "collapsed": false
   },
   "outputs": [],
   "source": [
    "xml_string=requests.post(endpoint, data=input, headers=headers).text"
   ]
  },
  {
   "cell_type": "code",
   "execution_count": 21,
   "metadata": {
    "collapsed": false
   },
   "outputs": [
    {
     "name": "stdout",
     "output_type": "stream",
     "text": [
      "<?xml version=\"1.0\" encoding=\"UTF-8\" standalone=\"no\"?>\n",
      "<!-- pycsw 1.8.2 -->\n",
      "<csw:GetRecordsResponse xmlns:dc=\"http://purl.org/dc/elements/1.1/\" xmlns:inspire_common=\"http://inspire.ec.europa.eu/schemas/common/1.0\" xmlns:atom=\"http://www.w3.org/2005/Atom\" xmlns:xs=\"http://www.w3.org/2001/XMLSchema\" xmlns:dct=\"http://purl.org/dc/terms/\" xmlns:ows=\"http://www.opengis.net/ows\" xmlns:apiso=\"http://www.opengis.net/cat/csw/apiso/1.0\" xmlns:gml=\"http://www.opengis.net/gml\" xmlns:dif=\"http://gcmd.gsfc.nasa.gov/Aboutus/xml/dif/\" xmlns:xlink=\"http://www.w3.org/1999/xlink\" xmlns:gco=\"http://www.isotc211.org/2005/gco\" xmlns:gmd=\"http://www.isotc211.org/2005/gmd\" xmlns:rdf=\"http://www.w3.org/1999/02/22-rdf-syntax-ns#\" xmlns:srv=\"http://www.isotc211.org/2005/srv\" xmlns:ogc=\"http://www.opengis.net/ogc\" xmlns:fgdc=\"http://www.opengis.net/cat/csw/csdgm\" xmlns:inspire_ds=\"http://inspire.ec.europa.eu/schemas/inspire_ds/1.0\" xmlns:csw=\"http://www.opengis.net/cat/csw/2.0.2\" xmlns:xsi=\"http://www.w3.org/2001/XMLSchema-instance\" xmlns:os=\"http://a9.com/-/spec/opensearch/1.1/\" xmlns:soapenv=\"http://www.w3.org/2003/05/soap-envelope\" xmlns:sitemap=\"http://www.sitemaps.org/schemas/sitemap/0.9\" version=\"2.0.2\" xsi:schemaLocation=\"http://www.opengis.net/cat/csw/2.0.2 http://schemas.opengis.net/csw/2.0.2/CSW-discovery.xsd\"><csw:SearchStatus timestamp=\"2016-12-09T03:36:54Z\"/><csw:SearchResults nextRecord=\"0\" numberOfRecordsMatched=\"9\" numberOfRecordsReturned=\"9\" recordSchema=\"http://www.opengis.net/cat/csw/2.0.2\" elementSet=\"full\"><csw:Record><dc:identifier>hycom_global</dc:identifier><dc:title>HYbrid Coordinate Ocean Model (HYCOM): Global</dc:title><dc:type>dataset</dc:type><dc:subject>Earth Science &gt; Atmosphere &gt; Atmospheric Radiation &gt; Heat Flux</dc:subject><dc:subject>Earth Science Services &gt; Models &gt; Ocean General Circulation Models (OGCM)/Regional Ocean Models</dc:subject><dc:subject>Earth Science Services &gt; Models &gt; Weather Research/Forecast Models</dc:subject><dc:subje\n"
     ]
    }
   ],
   "source": [
    "print xml_string[:2000]"
   ]
  },
  {
   "cell_type": "markdown",
   "metadata": {},
   "source": [
    "## Query COMT pycsw"
   ]
  },
  {
   "cell_type": "markdown",
   "metadata": {},
   "source": [
    "### Try (lat,lon) order of bounding box with `srsName=EPSG:4326`"
   ]
  },
  {
   "cell_type": "code",
   "execution_count": 22,
   "metadata": {
    "collapsed": false
   },
   "outputs": [],
   "source": [
    "input='''\n",
    "<csw:GetRecords xmlns:csw=\"http://www.opengis.net/cat/csw/2.0.2\"\n",
    "    xmlns:xsi=\"http://www.w3.org/2001/XMLSchema-instance\" xmlns:ogc=\"http://www.opengis.net/ogc\"\n",
    "    xmlns:gml=\"http://www.opengis.net/gml\" outputSchema=\"http://www.opengis.net/cat/csw/2.0.2\"\n",
    "    outputFormat=\"application/xml\" version=\"2.0.2\" service=\"CSW\" resultType=\"results\"\n",
    "    maxRecords=\"1000\"\n",
    "    xsi:schemaLocation=\"http://www.opengis.net/cat/csw/2.0.2 http://schemas.opengis.net/csw/2.0.2/CSW-discovery.xsd\">\n",
    "    <csw:Query typeNames=\"csw:Record\">\n",
    "        <csw:ElementSetName>full</csw:ElementSetName>\n",
    "        <csw:Constraint version=\"1.1.0\">\n",
    "            <ogc:Filter>\n",
    "                <ogc:And>\n",
    "                    <ogc:BBOX>\n",
    "                        <ogc:PropertyName>ows:BoundingBox</ogc:PropertyName>\n",
    "                        <gml:Envelope srsName=\"urn:x-ogc:def:crs:EPSG:6.11:4326\">\n",
    "                            <gml:lowerCorner> 27 -100</gml:lowerCorner>\n",
    "                            <gml:upperCorner> 30 -97</gml:upperCorner>\n",
    "                        </gml:Envelope>\n",
    "                    </ogc:BBOX>\n",
    "                    <ogc:PropertyIsLessThanOrEqualTo>\n",
    "                        <ogc:PropertyName>apiso:TempExtent_begin</ogc:PropertyName>\n",
    "                        <ogc:Literal>2008-12-01T16:43:00Z</ogc:Literal>\n",
    "                    </ogc:PropertyIsLessThanOrEqualTo>\n",
    "                    <ogc:PropertyIsGreaterThanOrEqualTo>\n",
    "                        <ogc:PropertyName>apiso:TempExtent_end</ogc:PropertyName>\n",
    "                        <ogc:Literal>2008-06-01T16:43:00Z</ogc:Literal>\n",
    "                    </ogc:PropertyIsGreaterThanOrEqualTo>\n",
    "                    <ogc:PropertyIsLike wildCard=\"*\" singleChar=\"?\" escapeChar=\"\\\\\">\n",
    "                        <ogc:PropertyName>apiso:AnyText</ogc:PropertyName>\n",
    "                        <ogc:Literal>*FVCOM*</ogc:Literal>\n",
    "                    </ogc:PropertyIsLike>\n",
    "                </ogc:And>\n",
    "            </ogc:Filter>\n",
    "        </csw:Constraint>\n",
    "    </csw:Query>\n",
    "</csw:GetRecords>\n",
    "''';"
   ]
  },
  {
   "cell_type": "code",
   "execution_count": 23,
   "metadata": {
    "collapsed": false
   },
   "outputs": [],
   "source": [
    "endpoint='http://comt.sura.org:8000/pycsw/csw.py'"
   ]
  },
  {
   "cell_type": "code",
   "execution_count": 24,
   "metadata": {
    "collapsed": false
   },
   "outputs": [
    {
     "ename": "ConnectionError",
     "evalue": "('Connection aborted.', error(104, 'Connection reset by peer'))",
     "output_type": "error",
     "traceback": [
      "\u001b[0;31m\u001b[0m",
      "\u001b[0;31mConnectionError\u001b[0mTraceback (most recent call last)",
      "\u001b[0;32m<ipython-input-24-86062b75e679>\u001b[0m in \u001b[0;36m<module>\u001b[0;34m()\u001b[0m\n\u001b[0;32m----> 1\u001b[0;31m \u001b[0mxml_string\u001b[0m\u001b[0;34m=\u001b[0m\u001b[0mrequests\u001b[0m\u001b[0;34m.\u001b[0m\u001b[0mpost\u001b[0m\u001b[0;34m(\u001b[0m\u001b[0mendpoint\u001b[0m\u001b[0;34m,\u001b[0m \u001b[0mdata\u001b[0m\u001b[0;34m=\u001b[0m\u001b[0minput\u001b[0m\u001b[0;34m,\u001b[0m \u001b[0mheaders\u001b[0m\u001b[0;34m=\u001b[0m\u001b[0mheaders\u001b[0m\u001b[0;34m)\u001b[0m\u001b[0;34m.\u001b[0m\u001b[0mtext\u001b[0m\u001b[0;34m\u001b[0m\u001b[0m\n\u001b[0m\u001b[1;32m      2\u001b[0m \u001b[0mxml_string\u001b[0m\u001b[0;34m[\u001b[0m\u001b[0;34m:\u001b[0m\u001b[0;36m2000\u001b[0m\u001b[0;34m]\u001b[0m\u001b[0;34m\u001b[0m\u001b[0m\n",
      "\u001b[0;32m/home/usgs/miniconda/envs/ioos/lib/python2.7/site-packages/requests/api.pyc\u001b[0m in \u001b[0;36mpost\u001b[0;34m(url, data, json, **kwargs)\u001b[0m\n\u001b[1;32m    109\u001b[0m     \"\"\"\n\u001b[1;32m    110\u001b[0m \u001b[0;34m\u001b[0m\u001b[0m\n\u001b[0;32m--> 111\u001b[0;31m     \u001b[0;32mreturn\u001b[0m \u001b[0mrequest\u001b[0m\u001b[0;34m(\u001b[0m\u001b[0;34m'post'\u001b[0m\u001b[0;34m,\u001b[0m \u001b[0murl\u001b[0m\u001b[0;34m,\u001b[0m \u001b[0mdata\u001b[0m\u001b[0;34m=\u001b[0m\u001b[0mdata\u001b[0m\u001b[0;34m,\u001b[0m \u001b[0mjson\u001b[0m\u001b[0;34m=\u001b[0m\u001b[0mjson\u001b[0m\u001b[0;34m,\u001b[0m \u001b[0;34m**\u001b[0m\u001b[0mkwargs\u001b[0m\u001b[0;34m)\u001b[0m\u001b[0;34m\u001b[0m\u001b[0m\n\u001b[0m\u001b[1;32m    112\u001b[0m \u001b[0;34m\u001b[0m\u001b[0m\n\u001b[1;32m    113\u001b[0m \u001b[0;34m\u001b[0m\u001b[0m\n",
      "\u001b[0;32m/home/usgs/miniconda/envs/ioos/lib/python2.7/site-packages/requests/api.pyc\u001b[0m in \u001b[0;36mrequest\u001b[0;34m(method, url, **kwargs)\u001b[0m\n\u001b[1;32m     55\u001b[0m     \u001b[0;31m# cases, and look like a memory leak in others.\u001b[0m\u001b[0;34m\u001b[0m\u001b[0;34m\u001b[0m\u001b[0m\n\u001b[1;32m     56\u001b[0m     \u001b[0;32mwith\u001b[0m \u001b[0msessions\u001b[0m\u001b[0;34m.\u001b[0m\u001b[0mSession\u001b[0m\u001b[0;34m(\u001b[0m\u001b[0;34m)\u001b[0m \u001b[0;32mas\u001b[0m \u001b[0msession\u001b[0m\u001b[0;34m:\u001b[0m\u001b[0;34m\u001b[0m\u001b[0m\n\u001b[0;32m---> 57\u001b[0;31m         \u001b[0;32mreturn\u001b[0m \u001b[0msession\u001b[0m\u001b[0;34m.\u001b[0m\u001b[0mrequest\u001b[0m\u001b[0;34m(\u001b[0m\u001b[0mmethod\u001b[0m\u001b[0;34m=\u001b[0m\u001b[0mmethod\u001b[0m\u001b[0;34m,\u001b[0m \u001b[0murl\u001b[0m\u001b[0;34m=\u001b[0m\u001b[0murl\u001b[0m\u001b[0;34m,\u001b[0m \u001b[0;34m**\u001b[0m\u001b[0mkwargs\u001b[0m\u001b[0;34m)\u001b[0m\u001b[0;34m\u001b[0m\u001b[0m\n\u001b[0m\u001b[1;32m     58\u001b[0m \u001b[0;34m\u001b[0m\u001b[0m\n\u001b[1;32m     59\u001b[0m \u001b[0;34m\u001b[0m\u001b[0m\n",
      "\u001b[0;32m/home/usgs/miniconda/envs/ioos/lib/python2.7/site-packages/requests/sessions.pyc\u001b[0m in \u001b[0;36mrequest\u001b[0;34m(self, method, url, params, data, headers, cookies, files, auth, timeout, allow_redirects, proxies, hooks, stream, verify, cert, json)\u001b[0m\n\u001b[1;32m    473\u001b[0m         }\n\u001b[1;32m    474\u001b[0m         \u001b[0msend_kwargs\u001b[0m\u001b[0;34m.\u001b[0m\u001b[0mupdate\u001b[0m\u001b[0;34m(\u001b[0m\u001b[0msettings\u001b[0m\u001b[0;34m)\u001b[0m\u001b[0;34m\u001b[0m\u001b[0m\n\u001b[0;32m--> 475\u001b[0;31m         \u001b[0mresp\u001b[0m \u001b[0;34m=\u001b[0m \u001b[0mself\u001b[0m\u001b[0;34m.\u001b[0m\u001b[0msend\u001b[0m\u001b[0;34m(\u001b[0m\u001b[0mprep\u001b[0m\u001b[0;34m,\u001b[0m \u001b[0;34m**\u001b[0m\u001b[0msend_kwargs\u001b[0m\u001b[0;34m)\u001b[0m\u001b[0;34m\u001b[0m\u001b[0m\n\u001b[0m\u001b[1;32m    476\u001b[0m \u001b[0;34m\u001b[0m\u001b[0m\n\u001b[1;32m    477\u001b[0m         \u001b[0;32mreturn\u001b[0m \u001b[0mresp\u001b[0m\u001b[0;34m\u001b[0m\u001b[0m\n",
      "\u001b[0;32m/home/usgs/miniconda/envs/ioos/lib/python2.7/site-packages/requests/sessions.pyc\u001b[0m in \u001b[0;36msend\u001b[0;34m(self, request, **kwargs)\u001b[0m\n\u001b[1;32m    583\u001b[0m \u001b[0;34m\u001b[0m\u001b[0m\n\u001b[1;32m    584\u001b[0m         \u001b[0;31m# Send the request\u001b[0m\u001b[0;34m\u001b[0m\u001b[0;34m\u001b[0m\u001b[0m\n\u001b[0;32m--> 585\u001b[0;31m         \u001b[0mr\u001b[0m \u001b[0;34m=\u001b[0m \u001b[0madapter\u001b[0m\u001b[0;34m.\u001b[0m\u001b[0msend\u001b[0m\u001b[0;34m(\u001b[0m\u001b[0mrequest\u001b[0m\u001b[0;34m,\u001b[0m \u001b[0;34m**\u001b[0m\u001b[0mkwargs\u001b[0m\u001b[0;34m)\u001b[0m\u001b[0;34m\u001b[0m\u001b[0m\n\u001b[0m\u001b[1;32m    586\u001b[0m \u001b[0;34m\u001b[0m\u001b[0m\n\u001b[1;32m    587\u001b[0m         \u001b[0;31m# Total elapsed time of the request (approximately)\u001b[0m\u001b[0;34m\u001b[0m\u001b[0;34m\u001b[0m\u001b[0m\n",
      "\u001b[0;32m/home/usgs/miniconda/envs/ioos/lib/python2.7/site-packages/requests/adapters.pyc\u001b[0m in \u001b[0;36msend\u001b[0;34m(self, request, stream, timeout, verify, cert, proxies)\u001b[0m\n\u001b[1;32m    451\u001b[0m \u001b[0;34m\u001b[0m\u001b[0m\n\u001b[1;32m    452\u001b[0m         \u001b[0;32mexcept\u001b[0m \u001b[0;34m(\u001b[0m\u001b[0mProtocolError\u001b[0m\u001b[0;34m,\u001b[0m \u001b[0msocket\u001b[0m\u001b[0;34m.\u001b[0m\u001b[0merror\u001b[0m\u001b[0;34m)\u001b[0m \u001b[0;32mas\u001b[0m \u001b[0merr\u001b[0m\u001b[0;34m:\u001b[0m\u001b[0;34m\u001b[0m\u001b[0m\n\u001b[0;32m--> 453\u001b[0;31m             \u001b[0;32mraise\u001b[0m \u001b[0mConnectionError\u001b[0m\u001b[0;34m(\u001b[0m\u001b[0merr\u001b[0m\u001b[0;34m,\u001b[0m \u001b[0mrequest\u001b[0m\u001b[0;34m=\u001b[0m\u001b[0mrequest\u001b[0m\u001b[0;34m)\u001b[0m\u001b[0;34m\u001b[0m\u001b[0m\n\u001b[0m\u001b[1;32m    454\u001b[0m \u001b[0;34m\u001b[0m\u001b[0m\n\u001b[1;32m    455\u001b[0m         \u001b[0;32mexcept\u001b[0m \u001b[0mMaxRetryError\u001b[0m \u001b[0;32mas\u001b[0m \u001b[0me\u001b[0m\u001b[0;34m:\u001b[0m\u001b[0;34m\u001b[0m\u001b[0m\n",
      "\u001b[0;31mConnectionError\u001b[0m: ('Connection aborted.', error(104, 'Connection reset by peer'))"
     ]
    }
   ],
   "source": [
    "xml_string=requests.post(endpoint, data=input, headers=headers).text\n",
    "xml_string[:2000]"
   ]
  },
  {
   "cell_type": "markdown",
   "metadata": {},
   "source": [
    "### Try (lon,lat) order of bounding box with `srsName=CRS84`"
   ]
  },
  {
   "cell_type": "code",
   "execution_count": null,
   "metadata": {
    "collapsed": false
   },
   "outputs": [],
   "source": [
    "input='''\n",
    "<csw:GetRecords xmlns:csw=\"http://www.opengis.net/cat/csw/2.0.2\"\n",
    "    xmlns:xsi=\"http://www.w3.org/2001/XMLSchema-instance\" xmlns:ogc=\"http://www.opengis.net/ogc\"\n",
    "    xmlns:gml=\"http://www.opengis.net/gml\" outputSchema=\"http://www.opengis.net/cat/csw/2.0.2\"\n",
    "    outputFormat=\"application/xml\" version=\"2.0.2\" service=\"CSW\" resultType=\"results\"\n",
    "    maxRecords=\"1000\"\n",
    "    xsi:schemaLocation=\"http://www.opengis.net/cat/csw/2.0.2 http://schemas.opengis.net/csw/2.0.2/CSW-discovery.xsd\">\n",
    "    <csw:Query typeNames=\"csw:Record\">\n",
    "        <csw:ElementSetName>full</csw:ElementSetName>\n",
    "        <csw:Constraint version=\"1.1.0\">\n",
    "            <ogc:Filter>\n",
    "                <ogc:And>\n",
    "                    <ogc:BBOX>\n",
    "                        <ogc:PropertyName>ows:BoundingBox</ogc:PropertyName>\n",
    "                        <gml:Envelope srsName=\"urn:ogc:def:crs:OGC:1.3:CRS84\">\n",
    "                            <gml:lowerCorner>-100 27</gml:lowerCorner>\n",
    "                            <gml:upperCorner> -97 30</gml:upperCorner>\n",
    "                        </gml:Envelope>\n",
    "                    </ogc:BBOX>\n",
    "                    <ogc:PropertyIsLessThanOrEqualTo>\n",
    "                        <ogc:PropertyName>apiso:TempExtent_begin</ogc:PropertyName>\n",
    "                        <ogc:Literal>2008-12-01T16:43:00Z</ogc:Literal>\n",
    "                    </ogc:PropertyIsLessThanOrEqualTo>\n",
    "                    <ogc:PropertyIsGreaterThanOrEqualTo>\n",
    "                        <ogc:PropertyName>apiso:TempExtent_end</ogc:PropertyName>\n",
    "                        <ogc:Literal>2008-06-01T16:43:00Z</ogc:Literal>\n",
    "                    </ogc:PropertyIsGreaterThanOrEqualTo>\n",
    "                    <ogc:PropertyIsLike wildCard=\"*\" singleChar=\"?\" escapeChar=\"\\\\\">\n",
    "                        <ogc:PropertyName>apiso:AnyText</ogc:PropertyName>\n",
    "                        <ogc:Literal>*FVCOM*</ogc:Literal>\n",
    "                    </ogc:PropertyIsLike>\n",
    "                </ogc:And>\n",
    "            </ogc:Filter>\n",
    "        </csw:Constraint>\n",
    "    </csw:Query>\n",
    "</csw:GetRecords>\n",
    "''';"
   ]
  },
  {
   "cell_type": "code",
   "execution_count": null,
   "metadata": {
    "collapsed": false
   },
   "outputs": [],
   "source": [
    "xml_string=requests.post(endpoint, data=input, headers=headers).text\n",
    "xml_string[:2000]"
   ]
  },
  {
   "cell_type": "markdown",
   "metadata": {},
   "source": [
    "### Woo hoo!   We get 4 records returned with both (lat,lon) EPSG:4326 and (lon,lat) CRS84 queries!  Success!!"
   ]
  },
  {
   "cell_type": "code",
   "execution_count": null,
   "metadata": {
    "collapsed": false
   },
   "outputs": [],
   "source": [
    "endpoint='http://geoport.whoi.edu/pycsw'"
   ]
  },
  {
   "cell_type": "code",
   "execution_count": null,
   "metadata": {
    "collapsed": false
   },
   "outputs": [],
   "source": [
    "xml_string=requests.post(endpoint, data=input, headers=headers).text\n",
    "xml_string[:2000]"
   ]
  },
  {
   "cell_type": "code",
   "execution_count": null,
   "metadata": {
    "collapsed": false
   },
   "outputs": [],
   "source": [
    "a=\"<csw:GetRecords xmlns:csw=\\\"http://www.opengis.net/cat/csw/2.0.2\\\" xmlns:xsi=\\\"http://www.w3.org/2001/XMLSchema-instance\\\" xmlns:ogc=\\\"http://www.opengis.net/ogc\\\" outputSchema=\\\"http://www.opengis.net/cat/csw/2.0.2\\\" outputFormat=\\\"application/xml\\\" version=\\\"2.0.2\\\" service=\\\"CSW\\\" resultType=\\\"results\\\" startPosition=\\\"{startPosition}\\\" maxRecords=\\\"100\\\" xsi:schemaLocation=\\\"http://www.opengis.net/cat/csw/2.0.2 http://schemas.opengis.net/csw/2.0.2/CSW-discovery.xsd\\\"><csw:Query typeNames=\\\"csw:Record\\\"><csw:ElementSetName>full</csw:ElementSetName><csw:Constraint version=\\\"1.1.0\\\"><ogc:Filter><ogc:PropertyIsLike wildCard=\\\"*\\\" singleChar=\\\"?\\\" escapeChar=\\\"\\\\\\\\\\\"><ogc:PropertyName>apiso:AnyText</ogc:PropertyName><ogc:Literal>*CMG_Portal*</ogc:Literal></ogc:PropertyIsLike></ogc:Filter></csw:Constraint></csw:Query></csw:GetRecords>\""
   ]
  },
  {
   "cell_type": "code",
   "execution_count": null,
   "metadata": {
    "collapsed": false
   },
   "outputs": [],
   "source": [
    "print(a)"
   ]
  },
  {
   "cell_type": "code",
   "execution_count": null,
   "metadata": {
    "collapsed": true
   },
   "outputs": [],
   "source": [
    "endpoint = 'http://gamone.whoi.edu/csw'"
   ]
  },
  {
   "cell_type": "code",
   "execution_count": null,
   "metadata": {
    "collapsed": true
   },
   "outputs": [],
   "source": [
    "input='''\n",
    "<csw:GetRecords xmlns:csw=\"http://www.opengis.net/cat/csw/2.0.2\"\n",
    "    xmlns:xsi=\"http://www.w3.org/2001/XMLSchema-instance\" xmlns:ogc=\"http://www.opengis.net/ogc\"\n",
    "    outputSchema=\"http://www.opengis.net/cat/csw/2.0.2\" outputFormat=\"application/xml\"\n",
    "    version=\"2.0.2\" service=\"CSW\" resultType=\"results\" startPosition=\"{startPosition}\"\n",
    "    maxRecords=\"100\"\n",
    "    xsi:schemaLocation=\"http://www.opengis.net/cat/csw/2.0.2 http://schemas.opengis.net/csw/2.0.2/CSW-discovery.xsd\">\n",
    "    <csw:Query typeNames=\"csw:Record\">\n",
    "        <csw:ElementSetName>full</csw:ElementSetName>\n",
    "        <csw:Constraint version=\"1.1.0\">\n",
    "            <ogc:Filter>\n",
    "                        <ogc:And>\n",
    "                    <ogc:BBOX>\n",
    "                        <ogc:PropertyName>ows:BoundingBox</ogc:PropertyName>\n",
    "                        <gml:Envelope srsName=\"urn:ogc:def:crs:OGC:1.3:CRS84\">\n",
    "                            <gml:lowerCorner>-100 27</gml:lowerCorner>\n",
    "                            <gml:upperCorner> -97 30</gml:upperCorner>\n",
    "                        </gml:Envelope>\n",
    "                    </ogc:BBOX>\n",
    "                    <ogc:PropertyIsLessThanOrEqualTo>\n",
    "                        <ogc:PropertyName>apiso:TempExtent_begin</ogc:PropertyName>\n",
    "                        <ogc:Literal>2008-12-01T16:43:00Z</ogc:Literal>\n",
    "                    </ogc:PropertyIsLessThanOrEqualTo>\n",
    "                    <ogc:PropertyIsGreaterThanOrEqualTo>\n",
    "                        <ogc:PropertyName>apiso:TempExtent_end</ogc:PropertyName>\n",
    "                        <ogc:Literal>2008-06-01T16:43:00Z</ogc:Literal>\n",
    "                    </ogc:PropertyIsGreaterThanOrEqualTo>\n",
    "                    <ogc:PropertyIsLike wildCard=\"*\" singleChar=\"?\" escapeChar=\"\\\\\">\n",
    "                        <ogc:PropertyName>apiso:AnyText</ogc:PropertyName>\n",
    "                        <ogc:Literal>*FVCOM*</ogc:Literal>\n",
    "                    </ogc:PropertyIsLike>\n",
    "                </ogc:And>\n",
    "                <ogc:PropertyIsLike wildCard=\"*\" singleChar=\"?\" escapeChar=\"\\\\\">\n",
    "                    <ogc:PropertyName>apiso:AnyText</ogc:PropertyName>\n",
    "                    <ogc:Literal>*CMG_Portal*</ogc:Literal>\n",
    "                </ogc:PropertyIsLike>\n",
    "            </ogc:Filter>\n",
    "        </csw:Constraint>\n",
    "    </csw:Query>\n",
    "</csw:GetRecords>\n",
    "''';"
   ]
  },
  {
   "cell_type": "code",
   "execution_count": null,
   "metadata": {
    "collapsed": false
   },
   "outputs": [],
   "source": [
    "xml_string=requests.post(endpoint, data=input, headers=headers).text\n",
    "xml_string[:2000]"
   ]
  },
  {
   "cell_type": "code",
   "execution_count": null,
   "metadata": {
    "collapsed": true
   },
   "outputs": [],
   "source": [
    "input='''\n",
    "<csw:GetRecords xmlns:csw=\"http://www.opengis.net/cat/csw/2.0.2\"\n",
    "    xmlns:xsi=\"http://www.w3.org/2001/XMLSchema-instance\" xmlns:ogc=\"http://www.opengis.net/ogc\"\n",
    "    xmlns:gml=\"http://www.opengis.net/gml\" outputSchema=\"http://www.opengis.net/cat/csw/2.0.2\"\n",
    "    outputFormat=\"application/xml\" version=\"2.0.2\" service=\"CSW\" resultType=\"results\"\n",
    "    maxRecords=\"1000\"\n",
    "    xsi:schemaLocation=\"http://www.opengis.net/cat/csw/2.0.2 http://schemas.opengis.net/csw/2.0.2/CSW-discovery.xsd\">\n",
    "    <csw:Query typeNames=\"csw:Record\">\n",
    "        <csw:ElementSetName>full</csw:ElementSetName>\n",
    "        <csw:Constraint version=\"1.1.0\">\n",
    "            <ogc:Filter>\n",
    "                <ogc:And>\n",
    "                    <ogc:BBOX>\n",
    "                        <ogc:PropertyName>ows:BoundingBox</ogc:PropertyName>\n",
    "                        <gml:Envelope srsName=\"urn:ogc:def:crs:OGC:1.3:CRS84\">\n",
    "                            <gml:lowerCorner> -158.4 20.7</gml:lowerCorner>\n",
    "                            <gml:upperCorner> -60.2 50.6</gml:upperCorner>\n",
    "                        </gml:Envelope>\n",
    "                    </ogc:BBOX>\n",
    "                    <ogc:PropertyIsLessThanOrEqualTo>\n",
    "                        <ogc:PropertyName>apiso:TempExtent_begin</ogc:PropertyName>\n",
    "                        <ogc:Literal>2018-12-01T16:43:00Z</ogc:Literal>\n",
    "                    </ogc:PropertyIsLessThanOrEqualTo>\n",
    "                    <ogc:PropertyIsGreaterThanOrEqualTo>\n",
    "                        <ogc:PropertyName>apiso:TempExtent_end</ogc:PropertyName>\n",
    "                        <ogc:Literal>2010-12-01T16:43:00Z</ogc:Literal>\n",
    "                    </ogc:PropertyIsGreaterThanOrEqualTo>\n",
    "                    <ogc:PropertyIsLike wildCard=\"*\" singleChar=\"?\" escapeChar=\"\\\\\">\n",
    "                        <ogc:PropertyName>apiso:AnyText</ogc:PropertyName>\n",
    "                        <ogc:Literal>*CMG_Portal*</ogc:Literal>\n",
    "                    </ogc:PropertyIsLike>\n",
    "                    <ogc:PropertyIsLike wildCard=\"*\" singleChar=\"?\" escapeChar=\"\\\">\n",
    "                        <ogc:PropertyName>apiso:ServiceType</ogc:PropertyName>\n",
    "                        <ogc:Literal>*WMS*</ogc:Literal>\n",
    "                    </ogc:PropertyIsLike>\n",
    "                </ogc:And>\n",
    "            </ogc:Filter>\n",
    "        </csw:Constraint>\n",
    "    </csw:Query>\n",
    "</csw:GetRecords>\n",
    "''';"
   ]
  },
  {
   "cell_type": "code",
   "execution_count": null,
   "metadata": {
    "collapsed": true
   },
   "outputs": [],
   "source": [
    "input='''\n",
    "<csw:GetRecords xmlns:csw=\"http://www.opengis.net/cat/csw/2.0.2\"\n",
    "    xmlns:xsi=\"http://www.w3.org/2001/XMLSchema-instance\" xmlns:ogc=\"http://www.opengis.net/ogc\"\n",
    "    xmlns:gml=\"http://www.opengis.net/gml\" outputSchema=\"http://www.opengis.net/cat/csw/2.0.2\"\n",
    "    outputFormat=\"application/xml\" version=\"2.0.2\" service=\"CSW\" resultType=\"results\"\n",
    "    maxRecords=\"1000\"\n",
    "    xsi:schemaLocation=\"http://www.opengis.net/cat/csw/2.0.2 http://schemas.opengis.net/csw/2.0.2/CSW-discovery.xsd\">\n",
    "    <csw:Query typeNames=\"csw:Record\">\n",
    "        <csw:ElementSetName>full</csw:ElementSetName>\n",
    "        <csw:Constraint version=\"1.1.0\">\n",
    "            <ogc:Filter>\n",
    "                <ogc:And>\n",
    "                    <ogc:BBOX>\n",
    "                        <ogc:PropertyName>ows:BoundingBox</ogc:PropertyName>\n",
    "                        <gml:Envelope srsName=\"urn:ogc:def:crs:OGC:1.3:CRS84\">\n",
    "                            <gml:lowerCorner> -158.4 20.7</gml:lowerCorner>\n",
    "                            <gml:upperCorner> -60.2 50.6</gml:upperCorner>\n",
    "                        </gml:Envelope>\n",
    "                    </ogc:BBOX>\n",
    "                    <ogc:PropertyIsLike wildCard=\"*\" singleChar=\"?\" escapeChar=\"\\\\\">\n",
    "                        <ogc:PropertyName>apiso:AnyText</ogc:PropertyName>\n",
    "                        <ogc:Literal>*CMG_Portal*</ogc:Literal>\n",
    "                    </ogc:PropertyIsLike>\n",
    "                    <ogc:PropertyIsLike wildCard=\"*\" singleChar=\"?\" escapeChar=\"\\\">\n",
    "                        <ogc:PropertyName>apiso:ServiceType</ogc:PropertyName>\n",
    "                        <ogc:Literal>*WMS*</ogc:Literal>\n",
    "                    </ogc:PropertyIsLike>\n",
    "                </ogc:And>\n",
    "            </ogc:Filter>\n",
    "        </csw:Constraint>\n",
    "    </csw:Query>\n",
    "</csw:GetRecords>\n",
    "''';"
   ]
  },
  {
   "cell_type": "code",
   "execution_count": null,
   "metadata": {
    "collapsed": false
   },
   "outputs": [],
   "source": [
    "xml_string=requests.post(endpoint, data=input, headers=headers).text\n",
    "xml_string[:2000]"
   ]
  },
  {
   "cell_type": "code",
   "execution_count": null,
   "metadata": {
    "collapsed": true
   },
   "outputs": [],
   "source": [
    "input = '''\n",
    "<csw:GetRecords xmlns:csw=\"http://www.opengis.net/cat/csw/2.0.2\" xmlns:xsi=\"http://www.w3.org/2001/XMLSchema-instance\" xmlns:ogc=\"http://www.opengis.net/ogc\" xmlns:gml=\"http://www.opengis.net/gml\" outputSchema=\"http://www.opengis.net/cat/csw/2.0.2\" outputFormat=\"application/xml\" version=\"2.0.2\" service=\"CSW\" resultType=\"results\" maxRecords=\"1000\" xsi:schemaLocation=\"http://www.opengis.net/cat/csw/2.0.2 http://schemas.opengis.net/csw/2.0.2/CSW-discovery.xsd\"> <csw:Query typeNames=\"csw:Record\"> <csw:ElementSetName>full</csw:ElementSetName> <csw:Constraint version=\"1.1.0\"> <ogc:Filter>  <ogc:PropertyName>apiso:ServiceType</ogc:PropertyName> <ogc:Literal>*WMS*</ogc:Literal> </ogc:PropertyIsLike>  </ogc:Filter> </csw:Constraint> </csw:Query> </csw:GetRecords>\n",
    "'''"
   ]
  },
  {
   "cell_type": "code",
   "execution_count": null,
   "metadata": {
    "collapsed": false
   },
   "outputs": [],
   "source": [
    "endpoint = 'http://gamone.whoi.edu/csw' \n",
    "xml_string=requests.post(endpoint, data=input, headers=headers).text\n",
    "xml_string[:2000]"
   ]
  },
  {
   "cell_type": "code",
   "execution_count": null,
   "metadata": {
    "collapsed": true
   },
   "outputs": [],
   "source": []
  }
 ],
 "metadata": {
  "gist_id": "1c30e0905b919013694e92950fd8fe01",
  "kernelspec": {
   "display_name": "Python 2",
   "language": "python",
   "name": "python2"
  },
  "language_info": {
   "codemirror_mode": {
    "name": "ipython",
    "version": 2
   },
   "file_extension": ".py",
   "mimetype": "text/x-python",
   "name": "python",
   "nbconvert_exporter": "python",
   "pygments_lexer": "ipython2",
   "version": "2.7.12"
  }
 },
 "nbformat": 4,
 "nbformat_minor": 0
}
