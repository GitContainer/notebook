{
 "cells": [
  {
   "cell_type": "code",
   "execution_count": 1,
   "metadata": {
    "collapsed": true
   },
   "outputs": [],
   "source": [
    "import requests, json"
   ]
  },
  {
   "cell_type": "code",
   "execution_count": 2,
   "metadata": {
    "collapsed": true
   },
   "outputs": [],
   "source": [
    "headers = {'Content-Type': 'application/xml'}"
   ]
  },
  {
   "cell_type": "code",
   "execution_count": 3,
   "metadata": {
    "collapsed": false
   },
   "outputs": [],
   "source": [
    "input='''\n",
    "<csw:GetRecords xmlns:csw=\"http://www.opengis.net/cat/csw/2.0.2\"\n",
    "    xmlns:xsi=\"http://www.w3.org/2001/XMLSchema-instance\" xmlns:ogc=\"http://www.opengis.net/ogc\"\n",
    "    xmlns:gml=\"http://www.opengis.net/gml\" outputSchema=\"http://www.opengis.net/cat/csw/2.0.2\"\n",
    "    outputFormat=\"application/xml\" version=\"2.0.2\" service=\"CSW\" resultType=\"results\"\n",
    "    maxRecords=\"1000\"\n",
    "    xsi:schemaLocation=\"http://www.opengis.net/cat/csw/2.0.2 http://schemas.opengis.net/csw/2.0.2/CSW-discovery.xsd\">\n",
    "    <csw:Query typeNames=\"csw:Record\">\n",
    "        <csw:ElementSetName>full</csw:ElementSetName>\n",
    "        <csw:Constraint version=\"1.1.0\">\n",
    "            <ogc:Filter>\n",
    "                   <ogc:PropertyIsLike wildCard=\"*\" singleChar=\"?\" escapeChar=\"\\\">\n",
    "                        <ogc:PropertyName>apiso:AnyText</ogc:PropertyName>\n",
    "                        <ogc:Literal>*temp*</ogc:Literal>\n",
    "                    </ogc:PropertyIsLike>\n",
    "            </ogc:Filter>\n",
    "        </csw:Constraint>\n",
    "    </csw:Query>\n",
    "</csw:GetRecords>\n",
    "''';"
   ]
  },
  {
   "cell_type": "code",
   "execution_count": 4,
   "metadata": {
    "collapsed": false
   },
   "outputs": [
    {
     "name": "stdout",
     "output_type": "stream",
     "text": [
      "<?xml version=\"1.0\" encoding=\"UTF-8\" standalone=\"no\"?>\n",
      "<csw:GetRecordsResponse xmlns:csw=\"http://www.opengis.net/cat/csw/2.0.2\" xmlns:dc=\"http://purl.org/dc/elements/1.1/\" xmlns:dcmiBox=\"http://dublincore.org/documents/2000/07/11/dcmi-box/\" xmlns:dct=\"http://purl.org/dc/terms/\" xmlns:gml=\"http://www.opengis.net/gml\" xmlns:ows=\"http://www.opengis.net/ows\" xmlns:xsd=\"http://www.w3.org/2001/XMLSchema\">\n",
      "<csw:SearchStatus timestamp=\"2016-12-09T15:09:31+00:00\"/>\n",
      "<csw:SearchResults elementSet=\"full\" nextRecord=\"1001\" numberOfRecordsMatched=\"27793\" numberOfRecordsReturned=\"1000\" recordSchema=\"http://www.opengis.net/cat/csw/2.0.2\">\n",
      "<csw:Record>\n",
      "<dc:identifier scheme=\"urn:x-esri:specification:ServiceType:ArcIMS:Metadata:FileID\">gov.noaa.nodc:0001122</dc:identifier>\n",
      "<dc:identifier scheme=\"urn:x-esri:specification:ServiceType:ArcIMS:Metadata:DocID\">{B3826B28-52DC-4529-A385-D76C073643EE}</dc:identifier>\n",
      "<dc:title>Oceanographic profile temperature, salinity and other measurements collected using bottle from the TEMP in the Arctic from 1947 to 1949 (NODC Accession 0001122)</dc:title>\n",
      "<dc:type scheme=\"urn:x-esri:specification:ServiceType:ArcIMS:Metadata:ContentType\">application</dc:type>\n",
      "<dc:type scheme=\"urn:x-esri:specification:ServiceType:ArcIMS:Metadata:ContentType\">application</dc:type>\n",
      "<dc:type scheme=\"urn:x-esri:specification:ServiceType:ArcIMS:Metadata:ContentType\">downloadableData</dc:type>\n",
      "<dc:type scheme=\"urn:x-esri:specification:ServiceType:ArcIMS:Metadata:ContentType\">downloadableData</dc:type>\n",
      "<dc:subject>DOC/NOAA/NESDIS/NODC &gt; National Oceanographic Data Center, NESDIS, NOAA, U.S. Department of Commerce</dc:subject>\n",
      "<dc:subject>DOC/NOAA/NESDIS/NCEI &gt; National Centers for Environmental Information, NESDIS, NOAA, U.S. Department of Commerce</dc:subject>\n",
      "<dc:subject>oceanography</dc:subject>\n",
      "<dc:subject>GODAR &gt; Global Oceanographic Data Archaeology and Rescue Project</dc:subject>\n",
      "<dc:subject>EARTH SCIENCE &gt; OCEANS &gt; OCEAN TEMPERATURE &gt; WATER TEMPERATURE\n"
     ]
    }
   ],
   "source": [
    "endpoint = 'http://data.nodc.noaa.gov/geoportal/csw'  \n",
    "xml_string=requests.post(endpoint, data=input, headers=headers).text\n",
    "print(xml_string[:2000])"
   ]
  },
  {
   "cell_type": "code",
   "execution_count": 5,
   "metadata": {
    "collapsed": false
   },
   "outputs": [
    {
     "name": "stdout",
     "output_type": "stream",
     "text": [
      "<?xml version=\"1.0\" encoding=\"UTF-8\"?>\r\n",
      "<ExceptionReport version=\"1.2.0\" xmlns=\"http://www.opengis.net/ows\">\r\n",
      "<Exception exceptionCode=\"MissingParameterValue\" locator=\"request\">\r\n",
      "<ExceptionText>\r\n",
      "Missing parameter value: locator=request\r\n",
      "</ExceptionText>\r\n",
      "<ExceptionText>\r\n",
      "The parameter value was missing.\r\n",
      "</ExceptionText>\r\n",
      "</Exception>\r\n",
      "</ExceptionReport>\n"
     ]
    }
   ],
   "source": [
    "endpoint = 'http://www.ngdc.noaa.gov/geoportal/csw'\n",
    "xml_string=requests.post(endpoint, data=input, headers=headers).text\n",
    "print(xml_string[:2000])"
   ]
  },
  {
   "cell_type": "code",
   "execution_count": null,
   "metadata": {
    "collapsed": true
   },
   "outputs": [],
   "source": []
  }
 ],
 "metadata": {
  "gist_id": "02d04e6a2f46047d0bae4720740c6074",
  "kernelspec": {
   "display_name": "Python 2",
   "language": "python",
   "name": "python2"
  },
  "language_info": {
   "codemirror_mode": {
    "name": "ipython",
    "version": 2
   },
   "file_extension": ".py",
   "mimetype": "text/x-python",
   "name": "python",
   "nbconvert_exporter": "python",
   "pygments_lexer": "ipython2",
   "version": "2.7.12"
  }
 },
 "nbformat": 4,
 "nbformat_minor": 0
}
