{
 "metadata": {
  "gist_id": "64f3ccd39ecb7c69cd18",
  "name": "",
  "signature": "sha256:a2fc89871e6d85867ff85ab0bcd57e7f6d1103d7d8203b88c319465c8817472a"
 },
 "nbformat": 3,
 "nbformat_minor": 0,
 "worksheets": [
  {
   "cells": [
    {
     "cell_type": "heading",
     "level": 2,
     "metadata": {},
     "source": [
      "Test Data.gov bbox, start, stop filters"
     ]
    },
    {
     "cell_type": "code",
     "collapsed": false,
     "input": [
      "from owslib.csw import CatalogueServiceWeb\n",
      "from owslib.fes import SortBy, SortProperty\n",
      "from owslib import fes\n",
      "import datetime as dt"
     ],
     "language": "python",
     "metadata": {},
     "outputs": [],
     "prompt_number": 1
    },
    {
     "cell_type": "code",
     "collapsed": false,
     "input": [
      "#csw = CatalogueServiceWeb('http://www.ngdc.noaa.gov/geoportal/csw',timeout=60) # NGDC Geoportal\n",
      "csw = CatalogueServiceWeb('http://catalog.data.gov/csw-all',timeout=60)"
     ],
     "language": "python",
     "metadata": {},
     "outputs": [],
     "prompt_number": 2
    },
    {
     "cell_type": "code",
     "collapsed": false,
     "input": [
      "csw.get_operation_by_name('GetRecords').constraints"
     ],
     "language": "python",
     "metadata": {},
     "outputs": [
      {
       "metadata": {},
       "output_type": "pyout",
       "prompt_number": 3,
       "text": [
        "[Constraint: SupportedISOQueryables - ['apiso:DistanceValue', 'apiso:Abstract', 'apiso:RevisionDate', 'apiso:Subject', 'apiso:KeywordType', 'apiso:Title', 'apiso:CRS', 'apiso:PublicationDate', 'apiso:Type', 'apiso:AlternateTitle', 'apiso:BoundingBox', 'apiso:AnyText', 'apiso:ParentIdentifier', 'apiso:Modified', 'apiso:Operation', 'apiso:Format', 'apiso:TempExtent_end', 'apiso:DistanceUOM', 'apiso:OrganisationName', 'apiso:ServiceType', 'apiso:TempExtent_begin', 'apiso:ResourceLanguage', 'apiso:ServiceTypeVersion', 'apiso:OperatesOn', 'apiso:Denominator', 'apiso:HasSecurityConstraints', 'apiso:OperatesOnIdentifier', 'apiso:GeographicDescriptionCode', 'apiso:Language', 'apiso:Identifier', 'apiso:OperatesOnName', 'apiso:TopicCategory', 'apiso:CreationDate', 'apiso:CouplingType'],\n",
        " Constraint: AdditionalQueryables - ['apiso:Lineage', 'apiso:Classification', 'apiso:Creator', 'apiso:Relation', 'apiso:OtherConstraints', 'apiso:SpecificationTitle', 'apiso:ResponsiblePartyRole', 'apiso:SpecificationDateType', 'apiso:Degree', 'apiso:Contributor', 'apiso:ConditionApplyingToAccessAndUse', 'apiso:SpecificationDate', 'apiso:AccessConstraints', 'apiso:Publisher'],\n",
        " Constraint: SupportedDublinCoreQueryables - ['dc:contributor', 'dc:source', 'dc:language', 'dc:title', 'dc:subject', 'dc:creator', 'dc:type', 'ows:BoundingBox', 'dct:modified', 'dct:abstract', 'dc:relation', 'dc:date', 'dc:identifier', 'dc:publisher', 'dc:format', 'csw:AnyText', 'dc:rights']]"
       ]
      }
     ],
     "prompt_number": 3
    },
    {
     "cell_type": "code",
     "collapsed": false,
     "input": [
      "# adjust to match MaxRecordDefault of CSW, if would be cleaner if we pick this up Capabilities XML\n",
      "# this issue will allow for this: https://github.com/geopython/OWSLib/issues/211\n",
      "pagesize = 10\n",
      "sort_property = 'dc:title'  # a supported queryable of the CSW\n",
      "sort_order = 'ASC'  # should be 'ASC' or 'DESC'"
     ],
     "language": "python",
     "metadata": {},
     "outputs": [],
     "prompt_number": 4
    },
    {
     "cell_type": "code",
     "collapsed": false,
     "input": [
      "sortby = SortBy([SortProperty(sort_property, sort_order)])\n",
      "foo=sortby.properties"
     ],
     "language": "python",
     "metadata": {},
     "outputs": [],
     "prompt_number": 5
    },
    {
     "cell_type": "code",
     "collapsed": false,
     "input": [
      "# hopefully something like this will be implemented in fes soon\n",
      "def dateRange(start_date='1900-01-01',stop_date='2100-01-01',constraint='overlaps'):\n",
      "    if constraint == 'overlaps':\n",
      "        start = fes.PropertyIsLessThanOrEqualTo(propertyname='apiso:TempExtent_begin', literal=stop_date)\n",
      "        stop = fes.PropertyIsGreaterThanOrEqualTo(propertyname='apiso:TempExtent_end', literal=start_date)\n",
      "    elif constraint == 'within':\n",
      "        start = fes.PropertyIsGreaterThanOrEqualTo(propertyname='apiso:TempExtent_begin', literal=start_date)\n",
      "        stop = fes.PropertyIsLessThanOrEqualTo(propertyname='apiso:TempExtent_end', literal=stop_date)\n",
      "    return start,stop"
     ],
     "language": "python",
     "metadata": {},
     "outputs": [],
     "prompt_number": 6
    },
    {
     "cell_type": "code",
     "collapsed": false,
     "input": [
      "val = 'salinity'\n",
      "box=[-72.0, 41.0, -69.0, 43.0]   # gulf of maine"
     ],
     "language": "python",
     "metadata": {},
     "outputs": [],
     "prompt_number": 7
    },
    {
     "cell_type": "code",
     "collapsed": false,
     "input": [
      "# specific specific times (UTC) ...\n",
      "\n",
      "# hurricane sandy\n",
      "jd_start = dt.datetime(2012,10,26)\n",
      "jd_stop = dt.datetime(2012,11,2)\n",
      "\n",
      "# 2014 feb 10-15 storm\n",
      "jd_start = dt.datetime(2014,2,10)\n",
      "jd_stop = dt.datetime(2014,2,15)\n",
      "\n",
      "# 2014 recent\n",
      "jd_start = dt.datetime(2014,3,8)\n",
      "jd_stop = dt.datetime(2014,3,11)\n",
      "\n",
      "# 2014 recent\n",
      "jd_start = dt.datetime(1988,1,1)\n",
      "jd_stop = dt.datetime(1988,3,1)\n",
      "\n",
      "# 2011 \n",
      "#jd_start = dt.datetime(2013,4,20)\n",
      "#jd_stop = dt.datetime(2013,4,24)\n",
      "\n",
      "# ... or relative to now\n",
      "#jd_now = dt.datetime.utcnow()\n",
      "#jd_start = jd_now - dt.timedelta(days=3)\n",
      "#jd_stop = jd_now + dt.timedelta(days=3)\n",
      "\n",
      "start_date = jd_start.strftime('%Y-%m-%d %H:00')\n",
      "stop_date  = jd_stop.strftime('%Y-%m-%d %H:00')\n",
      "\n",
      "jd_start = dt.datetime.strptime(start_date,'%Y-%m-%d %H:%M')\n",
      "jd_stop = dt.datetime.strptime(stop_date,'%Y-%m-%d %H:%M')\n",
      "\n",
      "print start_date,'to',stop_date"
     ],
     "language": "python",
     "metadata": {},
     "outputs": [
      {
       "output_type": "stream",
       "stream": "stdout",
       "text": [
        "1988-01-01 00:00 to 1988-03-01 00:00\n"
       ]
      }
     ],
     "prompt_number": 8
    },
    {
     "cell_type": "code",
     "collapsed": false,
     "input": [
      "start,stop = dateRange(start_date,stop_date)\n",
      "filter1 = fes.PropertyIsLike(propertyname='apiso:AnyText',literal=('*%s*' % val),\n",
      "                        escapeChar='\\\\',wildCard='*',singleChar='?')\n",
      "bbox = fes.BBox(box,crs='urn:ogc:def:crs:OGC:1.3:CRS84')"
     ],
     "language": "python",
     "metadata": {},
     "outputs": [],
     "prompt_number": 9
    },
    {
     "cell_type": "code",
     "collapsed": false,
     "input": [
      "filter_list = [fes.And([ bbox, filter1]) ]\n",
      "csw.getrecords2(constraints=filter_list)\n",
      "csw.results['matches']"
     ],
     "language": "python",
     "metadata": {},
     "outputs": [
      {
       "metadata": {},
       "output_type": "pyout",
       "prompt_number": 10,
       "text": [
        "2257"
       ]
      }
     ],
     "prompt_number": 10
    },
    {
     "cell_type": "code",
     "collapsed": false,
     "input": [
      "filter_list = [fes.And([ bbox, filter1, start,stop]) ]\n",
      "csw.getrecords2(constraints=filter_list)\n",
      "csw.results['matches']"
     ],
     "language": "python",
     "metadata": {},
     "outputs": [
      {
       "metadata": {},
       "output_type": "pyout",
       "prompt_number": 11,
       "text": [
        "151"
       ]
      }
     ],
     "prompt_number": 11
    },
    {
     "cell_type": "code",
     "collapsed": false,
     "input": [
      "startposition = 0\n",
      "maxrecords = 20\n",
      "while True:\n",
      "    \n",
      "    print 'getting records %d to %d' % (startposition, startposition+pagesize)\n",
      "    csw.getrecords2(constraints=filter_list,\n",
      "                    startposition=startposition, maxrecords=pagesize, sortby=sortby)\n",
      "#    print csw.request\n",
      "    for rec,item in csw.records.iteritems():\n",
      "        print item.title\n",
      "    if csw.results['nextrecord'] == 0:\n",
      "        break\n",
      "    startposition += pagesize\n",
      "    if startposition >= maxrecords:\n",
      "        break"
     ],
     "language": "python",
     "metadata": {},
     "outputs": [
      {
       "output_type": "stream",
       "stream": "stdout",
       "text": [
        "getting records 0 to 10\n",
        "AIR PRESSURE and Other Data from UNKNOWN From World-Wide Distribution from 19880101 to 19880131 (NODC Accession 8800056)"
       ]
      },
      {
       "output_type": "stream",
       "stream": "stdout",
       "text": [
        "\n",
        "AIR PRESSURE and Other Data from UNKNOWN From World-Wide Distribution from 19880201 to 19880227 (NODC Accession 8800051)\n",
        "Annual update of delayed mode profile data from DFO-MPO Canada (NODC Accession 0098794)\n",
        "CARBON DIOXIDE - PARTIAL PRESSURE (pCO2) - SEA and Other Data from DISCOVERER and Other Platforms from 19870519 to 19940107 (NODC Accession 9900015)\n",
        "Carbon dioxide, temperature, salinity, and other variables collected via surface underway survey from Volunteer Observing Ship Hakuho Maru in the North Pacific Ocean, South Pacific Ocean and others from 1968-11-16 to 1988-03-23 (NODC Accession 0080981)\n",
        "Carbon dioxide, temperature, salinity collected via surface underway in the Indian and North/South Pacific Ocean as part of the EPOCS project from 23 May 1986 to 20 April 1989 (NODC Accession 0000071)\n",
        "Chemical, physical, and salinity data from bottle and CTD casts in a world-wide distribution from 14 May 1957 to 18 December 1999 (NODC Accession 0000266)\n",
        "Chemical, temperature, and other data from bottle casts in a world-wide distribution from 04 October 1961 to 24 August 1990 (NODC Accession 0000231)\n",
        "Climate Forecast System Reanalysis (CFSR), for 1979 to 2011\n",
        "Climate Forecast System Reforecast, for 1981 to 2011\n",
        "getting records 10 to 20\n",
        "Climate Forecast System Reforecast, for 1981 to 2011"
       ]
      },
      {
       "output_type": "stream",
       "stream": "stdout",
       "text": [
        "\n",
        "Current meter components and other data from FIXED PLATFORMS from 20 September 1987 to 09 October 1991 (NODC Accession 9100216)\n",
        "DEPTH - OBSERVATION and Other Data from 19020101 to 19951231 (NODC Accession 9700202)\n",
        "DEPTH - OBSERVATION and Other Data from CUXHAVEN and Other Platforms from 19200118 to 19891219 (NODC Accession 9800177)\n",
        "DEPTH - OBSERVATION and Other Data from KNORR and Other Platforms From South Atlantic Ocean and Others from 19720724 to 19890113 (NODC Accession 9500080)\n",
        "DEPTH - OBSERVATION and Other Data from METEOR and Other Platforms From North Atlantic Ocean and Others from 19670111 to 19910422 (NODC Accession 9500038)\n",
        "DEPTH - OBSERVATION and Other Data from MORSKOY GEOFIZIK and Other Platforms from 19690305 to 19981124 (NODC Accession 9900007)\n",
        "DEPTH - OBSERVATION and Other Data from MULTIPLE SHIPS from 19560816 to 19910610 (NODC Accession 9700233)\n",
        "DEPTH - OBSERVATION and Other Data from MUSSON and Other Platforms From North Atlantic Ocean from 19780705 to 19891204 (NODC Accession 9900127)\n",
        "DEPTH - OBSERVATION and Other Data from POLARSTERN and Other Platforms from 19240804 to 19991124 (NODC Accession 9900244)\n"
       ]
      }
     ],
     "prompt_number": 12
    },
    {
     "cell_type": "code",
     "collapsed": false,
     "input": [],
     "language": "python",
     "metadata": {},
     "outputs": [],
     "prompt_number": 12
    }
   ],
   "metadata": {}
  }
 ]
}