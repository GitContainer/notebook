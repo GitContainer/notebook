{
 "cells": [
  {
   "cell_type": "markdown",
   "metadata": {},
   "source": [
    "## Test NGDC Geoportal bbox, start, stop filters"
   ]
  },
  {
   "cell_type": "code",
   "execution_count": 1,
   "metadata": {
    "collapsed": false
   },
   "outputs": [],
   "source": [
    "from owslib.csw import CatalogueServiceWeb\n",
    "from owslib.fes import SortBy, SortProperty\n",
    "from owslib import fes\n",
    "import datetime as dt"
   ]
  },
  {
   "cell_type": "code",
   "execution_count": 2,
   "metadata": {
    "collapsed": false
   },
   "outputs": [],
   "source": [
    "csw = CatalogueServiceWeb('http://www.ngdc.noaa.gov/geoportal/csw',timeout=60) # NGDC Geoportal\n",
    "#csw = CatalogueServiceWeb('http://catalog.data.gov/csw-all',timeout=60)"
   ]
  },
  {
   "cell_type": "code",
   "execution_count": 3,
   "metadata": {
    "collapsed": false
   },
   "outputs": [
    {
     "data": {
      "text/plain": [
       "[Constraint: SupportedCommonQueryables - ['Subject', 'Title', 'Abstract', 'AnyText', 'Format', 'Identifier', 'Modified', 'Type', 'BoundingBox'],\n",
       " Constraint: SupportedISOQueryables - ['apiso:Subject', 'apiso:Title', 'apiso:Abstract', 'apiso:AnyText', 'apiso:Format', 'apiso:Identifier', 'apiso:Modified', 'apiso:Type', 'apiso:BoundingBox', 'apiso:CRS.Authority', 'apiso:CRS.ID', 'apiso:CRS.Version', 'apiso:RevisionDate', 'apiso:AlternateTitle', 'apiso:CreationDate', 'apiso:PublicationDate', 'apiso:OrganizationName', 'apiso:HasSecurityConstraints', 'apiso:Language', 'apiso:ResourceIdentifier', 'apiso:ParentIdentifier', 'apiso:KeywordType', 'apiso:TopicCategory', 'apiso:ResourceLanguage', 'apiso:GeographicDescriptionCode', 'apiso:Denominator', 'apiso:DistanceValue', 'apiso:DistanceUOM', 'apiso:TempExtent_begin', 'apiso:TempExtent_end', 'apiso:ServiceType', 'apiso:ServiceTypeVersion', 'apiso:Operation', 'apiso:OperatesOn', 'apiso:OperatesOnIdentifier', 'apiso:OperatesOnName', 'apiso:CouplingType'],\n",
       " Constraint: AdditionalQueryables - ['apiso:Degree', 'apiso:AccessConstraints', 'apiso:OtherConstraints', 'apiso:Classification', 'apiso:ConditionApplyingToAccessAndUse', 'apiso:Lineage', 'apiso:ResponsiblePartyRole', 'apiso:ResponsiblePartyName', 'apiso:SpecificationTitle', 'apiso:SpecificationDate', 'apiso:SpecificationDateType']]"
      ]
     },
     "execution_count": 3,
     "metadata": {},
     "output_type": "execute_result"
    }
   ],
   "source": [
    "csw.get_operation_by_name('GetRecords').constraints"
   ]
  },
  {
   "cell_type": "code",
   "execution_count": 4,
   "metadata": {
    "collapsed": false
   },
   "outputs": [],
   "source": [
    "# adjust to match MaxRecordDefault of CSW, if would be cleaner if we pick this up Capabilities XML\n",
    "# this issue will allow for this: https://github.com/geopython/OWSLib/issues/211\n",
    "pagesize = 10\n",
    "sort_property = 'dc:title'  # a supported queryable of the CSW\n",
    "sort_order = 'ASC'  # should be 'ASC' or 'DESC'"
   ]
  },
  {
   "cell_type": "code",
   "execution_count": 5,
   "metadata": {
    "collapsed": false
   },
   "outputs": [],
   "source": [
    "sortby = SortBy([SortProperty(sort_property, sort_order)])\n",
    "foo=sortby.properties"
   ]
  },
  {
   "cell_type": "code",
   "execution_count": 6,
   "metadata": {
    "collapsed": false
   },
   "outputs": [],
   "source": [
    "# hopefully something like this will be implemented in fes soon\n",
    "def dateRange(start_date='1900-01-01',stop_date='2100-01-01',constraint='overlaps'):\n",
    "    if constraint == 'overlaps':\n",
    "        start = fes.PropertyIsLessThanOrEqualTo(propertyname='apiso:TempExtent_begin', literal=stop_date)\n",
    "        stop = fes.PropertyIsGreaterThanOrEqualTo(propertyname='apiso:TempExtent_end', literal=start_date)\n",
    "    elif constraint == 'within':\n",
    "        start = fes.PropertyIsGreaterThanOrEqualTo(propertyname='apiso:TempExtent_begin', literal=start_date)\n",
    "        stop = fes.PropertyIsLessThanOrEqualTo(propertyname='apiso:TempExtent_end', literal=stop_date)\n",
    "    return start,stop"
   ]
  },
  {
   "cell_type": "code",
   "execution_count": 7,
   "metadata": {
    "collapsed": false
   },
   "outputs": [],
   "source": [
    "val = 'salinity'\n",
    "box=[-72.0, 41.0, -69.0, 43.0]   # gulf of maine"
   ]
  },
  {
   "cell_type": "code",
   "execution_count": 8,
   "metadata": {
    "collapsed": false
   },
   "outputs": [
    {
     "name": "stdout",
     "output_type": "stream",
     "text": [
      "1988-01-01 00:00 to 2012-03-01 00:00\n"
     ]
    }
   ],
   "source": [
    "# specific specific times (UTC) ...\n",
    "\n",
    "# hurricane sandy\n",
    "jd_start = dt.datetime(2012,10,26)\n",
    "jd_stop = dt.datetime(2012,11,2)\n",
    "\n",
    "# 2014 feb 10-15 storm\n",
    "jd_start = dt.datetime(2014,2,10)\n",
    "jd_stop = dt.datetime(2014,2,15)\n",
    "\n",
    "# 2014 recent\n",
    "jd_start = dt.datetime(2014,3,8)\n",
    "jd_stop = dt.datetime(2014,3,11)\n",
    "\n",
    "# 2014 recent\n",
    "jd_start = dt.datetime(1988,1,1)\n",
    "jd_stop = dt.datetime(2012,3,1)\n",
    "\n",
    "# 2011 \n",
    "#jd_start = dt.datetime(2013,4,20)\n",
    "#jd_stop = dt.datetime(2013,4,24)\n",
    "\n",
    "# ... or relative to now\n",
    "#jd_now = dt.datetime.utcnow()\n",
    "#jd_start = jd_now - dt.timedelta(days=3)\n",
    "#jd_stop = jd_now + dt.timedelta(days=3)\n",
    "\n",
    "start_date = jd_start.strftime('%Y-%m-%d %H:00')\n",
    "stop_date  = jd_stop.strftime('%Y-%m-%d %H:00')\n",
    "\n",
    "jd_start = dt.datetime.strptime(start_date,'%Y-%m-%d %H:%M')\n",
    "jd_stop = dt.datetime.strptime(stop_date,'%Y-%m-%d %H:%M')\n",
    "\n",
    "print start_date,'to',stop_date"
   ]
  },
  {
   "cell_type": "code",
   "execution_count": 9,
   "metadata": {
    "collapsed": false
   },
   "outputs": [],
   "source": [
    "start,stop = dateRange(start_date,stop_date)\n",
    "filter1 = fes.PropertyIsLike(propertyname='apiso:AnyText',literal=('*%s*' % val),\n",
    "                        escapeChar='\\\\',wildCard='*',singleChar='?')\n",
    "bbox = fes.BBox(box,crs='urn:ogc:def:crs:OGC:1.3:CRS84')\n",
    "#filter_list = [fes.And([ bbox, filter1, start,stop]) ]\n",
    "filter_list = [fes.And([ bbox, filter1]) ]"
   ]
  },
  {
   "cell_type": "code",
   "execution_count": 10,
   "metadata": {
    "collapsed": false
   },
   "outputs": [
    {
     "name": "stdout",
     "output_type": "stream",
     "text": [
      "getting records 0 to 10\n",
      "A01 Aanderaa - Historic Surface Currents\n",
      "A01 Accelerometer - Waves\n",
      "A01 Directional Waves (waves.mstrain Experimental)\n",
      "A01 Met - Meteorology\n",
      "A01 Optics - Chlorophyll / Turbidity\n",
      "A01 Optode - Oxygen\n",
      "A01 SBE16 - CTD Transmissivity\n",
      "A01 Sbe16 Oxygen\n",
      "A01 SBE16 Oxygen\n",
      "A01 Sbe37 - CTD\n",
      "getting records 10 to 20\n",
      "A01 Sbe37 - CTD\n",
      "Aquarius Level 3 Sea Surface Salinity Standard Mapped Image Daily Data V3.0\n",
      "Aquarius Level 3 Sea Surface Salinity Standard Mapped Image Daily Data V4.0\n",
      "Aquarius Level 3 Sea Surface Salinity Standard Mapped Image Monthly Data V3.0\n",
      "Aquarius Level 3 Sea Surface Salinity Standard Mapped Image Monthly Data V4.0\n",
      "Aquarius Level 3 Sea Surface Salinity Standard Mapped Image Weekly Data V3.0\n",
      "Aquarius Level 3 Sea Surface Salinity Standard Mapped Image Weekly Data V4.0\n",
      "Aquarius Level 3 Wind Speed Standard Mapped Image 7-Day Data V3.0\n",
      "Aquarius Level 3 Wind Speed Standard Mapped Image Daily Data V3.0\n",
      "Aquarius Level 3 Wind Speed Standard Mapped Image Daily Data V3.0\n"
     ]
    }
   ],
   "source": [
    "# you should be okay from here\n",
    "startposition = 0\n",
    "maxrecords = 20\n",
    "while True:\n",
    "    print 'getting records %d to %d' % (startposition, startposition+pagesize)\n",
    "    csw.getrecords2(constraints=filter_list,\n",
    "                    startposition=startposition, maxrecords=pagesize, sortby=sortby)\n",
    "#    print csw.request\n",
    "    for rec,item in csw.records.iteritems():\n",
    "        print item.title\n",
    "    if csw.results['nextrecord'] == 0:\n",
    "        break\n",
    "    startposition += pagesize\n",
    "    if startposition >= maxrecords:\n",
    "        break"
   ]
  },
  {
   "cell_type": "code",
   "execution_count": 11,
   "metadata": {
    "collapsed": false
   },
   "outputs": [
    {
     "data": {
      "text/plain": [
       "63"
      ]
     },
     "execution_count": 11,
     "metadata": {},
     "output_type": "execute_result"
    }
   ],
   "source": [
    "filter_list = [fes.And([ bbox, filter1]) ]\n",
    "csw.getrecords2(constraints=filter_list)\n",
    "csw.results['matches']"
   ]
  },
  {
   "cell_type": "code",
   "execution_count": 12,
   "metadata": {
    "collapsed": false
   },
   "outputs": [
    {
     "data": {
      "text/plain": [
       "37"
      ]
     },
     "execution_count": 12,
     "metadata": {},
     "output_type": "execute_result"
    }
   ],
   "source": [
    "filter_list = [fes.And([ bbox, filter1, start,stop]) ]\n",
    "csw.getrecords2(constraints=filter_list)\n",
    "csw.results['matches']"
   ]
  },
  {
   "cell_type": "code",
   "execution_count": 13,
   "metadata": {
    "collapsed": false
   },
   "outputs": [
    {
     "data": {
      "text/plain": [
       "570"
      ]
     },
     "execution_count": 13,
     "metadata": {},
     "output_type": "execute_result"
    }
   ],
   "source": [
    "filter_list = [filter1]\n",
    "csw.getrecords2(constraints=filter_list)\n",
    "csw.results['matches']"
   ]
  }
 ],
 "metadata": {
  "gist_id": "",
  "kernelspec": {
   "display_name": "Python 2",
   "language": "python",
   "name": "python2"
  },
  "language_info": {
   "codemirror_mode": {
    "name": "ipython",
    "version": 2
   },
   "file_extension": ".py",
   "mimetype": "text/x-python",
   "name": "python",
   "nbconvert_exporter": "python",
   "pygments_lexer": "ipython2",
   "version": "2.7.11"
  }
 },
 "nbformat": 4,
 "nbformat_minor": 0
}
