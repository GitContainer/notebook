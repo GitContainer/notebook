{
 "cells": [
  {
   "cell_type": "markdown",
   "metadata": {},
   "source": [
    "#Query CSW to find all COAWST WMS services"
   ]
  },
  {
   "cell_type": "markdown",
   "metadata": {},
   "source": [
    "Find all the COAWST (ocean model) datasets that have WMS services by using the CSW queryables `apiso:anyText` and `apiso:ServiceType` on different CSW endpoints."
   ]
  },
  {
   "cell_type": "code",
   "execution_count": 1,
   "metadata": {
    "collapsed": false
   },
   "outputs": [],
   "source": [
    "from owslib.csw import CatalogueServiceWeb\n",
    "from owslib import fes\n",
    "import numpy as np"
   ]
  },
  {
   "cell_type": "code",
   "execution_count": 2,
   "metadata": {
    "collapsed": false
   },
   "outputs": [
    {
     "name": "stdout",
     "output_type": "stream",
     "text": [
      "2.0.2\n"
     ]
    }
   ],
   "source": [
    "endpoint = 'http://geoport.whoi.edu/csw'\n",
    "#endpoint = 'http://catalog.data.gov/csw-all'\n",
    "#endpoint = 'http://www.ngdc.noaa.gov/geoportal/csw'\n",
    "#endpoint = 'http://www.nodc.noaa.gov/geoportal/csw'\n",
    "csw = CatalogueServiceWeb(endpoint,timeout=60)\n",
    "print csw.version"
   ]
  },
  {
   "cell_type": "code",
   "execution_count": 3,
   "metadata": {
    "collapsed": false
   },
   "outputs": [
    {
     "data": {
      "text/plain": [
       "[Constraint: SupportedISOQueryables - ['apiso:DistanceValue', 'apiso:Abstract', 'apiso:RevisionDate', 'apiso:Subject', 'apiso:KeywordType', 'apiso:Title', 'apiso:CRS', 'apiso:PublicationDate', 'apiso:Type', 'apiso:AlternateTitle', 'apiso:BoundingBox', 'apiso:AnyText', 'apiso:ParentIdentifier', 'apiso:Modified', 'apiso:Operation', 'apiso:Format', 'apiso:TempExtent_end', 'apiso:DistanceUOM', 'apiso:OrganisationName', 'apiso:ServiceType', 'apiso:TempExtent_begin', 'apiso:ResourceLanguage', 'apiso:ServiceTypeVersion', 'apiso:OperatesOn', 'apiso:Denominator', 'apiso:HasSecurityConstraints', 'apiso:OperatesOnIdentifier', 'apiso:GeographicDescriptionCode', 'apiso:Language', 'apiso:Identifier', 'apiso:OperatesOnName', 'apiso:TopicCategory', 'apiso:CreationDate', 'apiso:CouplingType'],\n",
       " Constraint: AdditionalQueryables - ['apiso:Lineage', 'apiso:Classification', 'apiso:Creator', 'apiso:Relation', 'apiso:OtherConstraints', 'apiso:SpecificationTitle', 'apiso:ResponsiblePartyRole', 'apiso:SpecificationDateType', 'apiso:Degree', 'apiso:Contributor', 'apiso:ConditionApplyingToAccessAndUse', 'apiso:SpecificationDate', 'apiso:AccessConstraints', 'apiso:Publisher'],\n",
       " Constraint: SupportedDublinCoreQueryables - ['dc:contributor', 'dc:source', 'dc:language', 'dc:title', 'dc:subject', 'dc:creator', 'dc:type', 'ows:BoundingBox', 'dct:modified', 'dct:abstract', 'dc:relation', 'dc:date', 'dc:identifier', 'dc:publisher', 'dc:format', 'csw:AnyText', 'dc:rights']]"
      ]
     },
     "execution_count": 3,
     "metadata": {},
     "output_type": "execute_result"
    }
   ],
   "source": [
    "csw.get_operation_by_name('GetRecords').constraints"
   ]
  },
  {
   "cell_type": "code",
   "execution_count": 4,
   "metadata": {
    "collapsed": false
   },
   "outputs": [
    {
     "name": "stdout",
     "output_type": "stream",
     "text": [
      "['THREDDS OPeNDAP,Open Geospatial Consortium Web Map Service (WMS),THREDDS HTTP Service', 'THREDDS OPeNDAP,Open Geospatial Consortium Web Map Service (WMS),THREDDS NetCDF Subset Service', 'THREDDS OPeNDAP,Open Geospatial Consortium Web Map Service (WMS),THREDDS NetCDF Subset Service,THREDDS HTTP Service']\n"
     ]
    }
   ],
   "source": [
    "try:\n",
    "    csw.get_operation_by_name('GetDomain')\n",
    "    csw.getdomain('apiso:ServiceType', 'property')\n",
    "    print(csw.results['values'])\n",
    "except:\n",
    "    print('GetDomain not supported')"
   ]
  },
  {
   "cell_type": "markdown",
   "metadata": {},
   "source": [
    "## Query for all COAWST datasets "
   ]
  },
  {
   "cell_type": "code",
   "execution_count": 5,
   "metadata": {
    "collapsed": false
   },
   "outputs": [],
   "source": [
    "val = 'COAWST'\n",
    "filter1 = fes.PropertyIsLike(propertyname='apiso:AnyText',literal=('*%s*' % val),\n",
    "                        escapeChar='\\\\',wildCard='*',singleChar='?')\n",
    "filter_list = [ filter1 ]"
   ]
  },
  {
   "cell_type": "code",
   "execution_count": 6,
   "metadata": {
    "collapsed": false
   },
   "outputs": [
    {
     "name": "stdout",
     "output_type": "stream",
     "text": [
      "7\n",
      "COAWST Hindcast:Barnegat Bay:ADCIRC tides,Real rivers,Plume,Lowpass Espresso bdry,NAM,new bathy\n",
      "COAWST Forecast System : USGS : US East Coast and Gulf of Mexico (Experimental)\n",
      "COAWST Hindcast:MVCO/CBlast 2007:ripples with SWAN-40m res\n",
      "USGS-CMG-COAWST Model: Hurricane Sandy, NYB05 700m Nest\n",
      "USGS-CMG-COAWST Model: Hurricane Sandy, SHF05 2km Nest\n",
      "USGS-CMG-COAWST Model: Hurricane Sandy, USE27 6km Nest\n",
      "ASGS NCFS Sandy Advisory 27\n"
     ]
    }
   ],
   "source": [
    "csw.getrecords2(constraints=filter_list,maxrecords=100,esn='full')\n",
    "print len(csw.records.keys())\n",
    "for rec in list(csw.records.keys()):\n",
    "    print csw.records[rec].title \n",
    "    "
   ]
  },
  {
   "cell_type": "code",
   "execution_count": 7,
   "metadata": {
    "collapsed": false
   },
   "outputs": [
    {
     "name": "stdout",
     "output_type": "stream",
     "text": [
      "USGS-CMG-COAWST Model: Hurricane Sandy, USE27 6km Nest\n"
     ]
    },
    {
     "data": {
      "text/plain": [
       "[{'scheme': 'WWW:LINK',\n",
       "  'url': 'http://geoport-dev.whoi.edu/thredds/dodsC/clay/usgs/users/jcwarner/Projects/Sandy/triple_nest/00_dir_USE27.ncml.html'},\n",
       " {'scheme': 'WWW:LINK',\n",
       "  'url': 'http://www.ncdc.noaa.gov/oa/wct/wct-jnlp-beta.php?singlefile=http://geoport-dev.whoi.edu/thredds/dodsC/clay/usgs/users/jcwarner/Projects/Sandy/triple_nest/00_dir_USE27.ncml'},\n",
       " {'scheme': 'OPeNDAP:OPeNDAP',\n",
       "  'url': 'http://geoport-dev.whoi.edu/thredds/dodsC/clay/usgs/users/jcwarner/Projects/Sandy/triple_nest/00_dir_USE27.ncml'},\n",
       " {'scheme': 'OGC:WMS',\n",
       "  'url': 'http://sci-wms.whoi.edu/wms/datasets/Sandy_triple_nest_00_dir_USE27?REQUEST=GetCapabilities'},\n",
       " {'scheme': 'UNIDATA:NCSS',\n",
       "  'url': 'http://geoport-dev.whoi.edu/thredds/ncss/grid/clay/usgs/users/jcwarner/Projects/Sandy/triple_nest/00_dir_USE27.ncml/dataset.html'},\n",
       " {'scheme': 'file',\n",
       "  'url': 'http://geoport-dev.whoi.edu/thredds/fileServer/clay/usgs/users/jcwarner/Projects/Sandy/triple_nest/00_dir_USE27.ncml'}]"
      ]
     },
     "execution_count": 7,
     "metadata": {},
     "output_type": "execute_result"
    }
   ],
   "source": [
    "choice=np.random.choice(list(csw.records.keys()))\n",
    "print(csw.records[choice].title)\n",
    "csw.records[choice].references"
   ]
  },
  {
   "cell_type": "markdown",
   "metadata": {},
   "source": [
    "## Query for all COAWST datsets that also contain WMS endpoints"
   ]
  },
  {
   "cell_type": "markdown",
   "metadata": {},
   "source": [
    "Since all COAWST datasets contain WMS endpoints, this should return the same number of dataset records"
   ]
  },
  {
   "cell_type": "code",
   "execution_count": 8,
   "metadata": {
    "collapsed": false
   },
   "outputs": [
    {
     "name": "stdout",
     "output_type": "stream",
     "text": [
      "7\n"
     ]
    }
   ],
   "source": [
    "val = 'COAWST'\n",
    "filter1 = fes.PropertyIsLike(propertyname='apiso:AnyText',literal=('*%s*' % val),\n",
    "                        escapeChar='\\\\',wildCard='*',singleChar='?',matchCase=True)\n",
    "val = 'WMS'\n",
    "filter2 = fes.PropertyIsLike(propertyname='apiso:ServiceType',literal=('*%s*' % val),\n",
    "                        escapeChar='\\\\',wildCard='*',singleChar='?',matchCase=False)\n",
    "filter_list = [ [filter1, filter2] ]\n",
    "csw.getrecords2(constraints=filter_list, maxrecords=1000)\n",
    "print(len(csw.records.keys()))"
   ]
  },
  {
   "cell_type": "code",
   "execution_count": 9,
   "metadata": {
    "collapsed": false
   },
   "outputs": [
    {
     "name": "stdout",
     "output_type": "stream",
     "text": [
      "title:COAWST Hindcast:Barnegat Bay:ADCIRC tides,Real rivers,Plume,Lowpass Espresso bdry,NAM,new bathy\n",
      "identifier:gov.usgs.cmgp:COAWST.Barnegat_Bay.spring2012\n",
      "modified:2015-08-25\n",
      "title:COAWST Forecast System : USGS : US East Coast and Gulf of Mexico (Experimental)\n",
      "identifier:gov.usgs.cmgp:COAWST.USEAST.Forecast\n",
      "modified:2015-08-25\n",
      "title:COAWST Hindcast:MVCO/CBlast 2007:ripples with SWAN-40m res\n",
      "identifier:gov.usgs.cmgp:COAWST.MVCO.CBLAST.spatial_7_ar0fd\n",
      "modified:2015-08-25\n",
      "title:USGS-CMG-COAWST Model: Hurricane Sandy, NYB05 700m Nest\n",
      "identifier:gov.usgs.cmg:USGS_COAWST_Sandy_NYB05_sim6\n",
      "modified:2015-08-25\n",
      "title:USGS-CMG-COAWST Model: Hurricane Sandy, SHF05 2km Nest\n",
      "identifier:gov.usgs.cmg:USGS_COAWST_Sandy_SHF05_sim6\n",
      "modified:2015-08-25\n",
      "title:USGS-CMG-COAWST Model: Hurricane Sandy, USE27 6km Nest\n",
      "identifier:gov.usgs.cmg:USGS_COAWST_Sandy_USE27_sim6\n",
      "modified:2015-08-25\n",
      "title:ASGS NCFS Sandy Advisory 27\n",
      "identifier:RENCI_ADCIRC.ASGS.NCFS.Sandy.27\n",
      "modified:2015-05-05\n"
     ]
    }
   ],
   "source": [
    "for rec in list(csw.records.keys()):\n",
    "    print('title:'+csw.records[rec].title) \n",
    "    print('identifier:'+csw.records[rec].identifier)\n",
    "    print('modified:'+csw.records[rec].modified)"
   ]
  },
  {
   "cell_type": "code",
   "execution_count": 11,
   "metadata": {
    "collapsed": false
   },
   "outputs": [
    {
     "name": "stdout",
     "output_type": "stream",
     "text": [
      "7\n"
     ]
    }
   ],
   "source": [
    "val = 'wms'\n",
    "filter2 = fes.PropertyIsLike(propertyname='apiso:ServiceType',literal=('*%s*' % val),\n",
    "                        escapeChar='\\\\',wildCard='*',singleChar='?',matchCase=True)\n",
    "filter_list = [  filter2 ]\n",
    "csw.getrecords2(constraints=filter_list, maxrecords=1000)\n",
    "print(len(csw.records.keys()))"
   ]
  },
  {
   "cell_type": "code",
   "execution_count": 10,
   "metadata": {
    "collapsed": false
   },
   "outputs": [],
   "source": []
  }
 ],
 "metadata": {
  "gist_id": "3aa85b96160fc987f435",
  "kernelspec": {
   "display_name": "Python 2",
   "language": "python",
   "name": "python2"
  },
  "language_info": {
   "codemirror_mode": {
    "name": "ipython",
    "version": 2
   },
   "file_extension": ".py",
   "mimetype": "text/x-python",
   "name": "python",
   "nbconvert_exporter": "python",
   "pygments_lexer": "ipython2",
   "version": "2.7.11"
  }
 },
 "nbformat": 4,
 "nbformat_minor": 0
}
