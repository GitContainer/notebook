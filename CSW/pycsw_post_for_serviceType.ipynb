{
 "metadata": {
  "gist_id": "be762c1dd4f673b38ceb",
  "name": "",
  "signature": "sha256:2acf2169d5266fe3d1f97a7bcaa68512da01782e064c61940c338573d5d3257b"
 },
 "nbformat": 3,
 "nbformat_minor": 0,
 "worksheets": [
  {
   "cells": [
    {
     "cell_type": "code",
     "collapsed": false,
     "input": [
      "import requests, json"
     ],
     "language": "python",
     "metadata": {},
     "outputs": [],
     "prompt_number": 11
    },
    {
     "cell_type": "code",
     "collapsed": false,
     "input": [
      "endpoint = 'http://geoport.whoi.edu/csw'\n",
      "#endpoint = 'http://www.ngdc.noaa.gov/geoportal/csw'\n",
      "#endpoint = 'http://www.nodc.noaa.gov/geoportal/csw'\n",
      "headers = {'Content-Type': 'application/xml'}"
     ],
     "language": "python",
     "metadata": {},
     "outputs": [],
     "prompt_number": 12
    },
    {
     "cell_type": "code",
     "collapsed": false,
     "input": [
      "input = '''\n",
      "<csw:GetRecords xmlns:csw=\"http://www.opengis.net/cat/csw/2.0.2\" version=\"2.0.2\" service=\"CSW\"\n",
      "    resultType=\"results\" startPosition=\"1\" maxRecords=\"100\">\n",
      "    <csw:Query typeNames=\"csw:Record\" xmlns:ogc=\"http://www.opengis.net/ogc\"\n",
      "        xmlns:gml=\"http://www.opengis.net/gml\">\n",
      "        <csw:ElementSetName>full</csw:ElementSetName>\n",
      "        <csw:Constraint version=\"1.1.0\">\n",
      "            <ogc:Filter>\n",
      "                <ogc:PropertyIsLike wildCard=\"*\" singleChar=\"#\" escapeChar=\"!\">\n",
      "                    <ogc:PropertyName>apiso:ServiceType</ogc:PropertyName>\n",
      "                    <ogc:Literal>*WMS*</ogc:Literal>\n",
      "                </ogc:PropertyIsLike>\n",
      "            </ogc:Filter>\n",
      "        </csw:Constraint>\n",
      "    </csw:Query>\n",
      "</csw:GetRecords>\n",
      "'''"
     ],
     "language": "python",
     "metadata": {},
     "outputs": [],
     "prompt_number": 13
    },
    {
     "cell_type": "code",
     "collapsed": false,
     "input": [
      "xml_string=requests.post(endpoint, data=input, headers=headers).text\n",
      "print xml_string[:2000]"
     ],
     "language": "python",
     "metadata": {},
     "outputs": [
      {
       "output_type": "stream",
       "stream": "stdout",
       "text": [
        "<?xml version=\"1.0\" encoding=\"UTF-8\" standalone=\"no\"?>\n",
        "<!-- pycsw 1.10.2 -->\n",
        "<csw:GetRecordsResponse xmlns:dc=\"http://purl.org/dc/elements/1.1/\" xmlns:inspire_common=\"http://inspire.ec.europa.eu/schemas/common/1.0\" xmlns:atom=\"http://www.w3.org/2005/Atom\" xmlns:xs=\"http://www.w3.org/2001/XMLSchema\" xmlns:dct=\"http://purl.org/dc/terms/\" xmlns:ows=\"http://www.opengis.net/ows\" xmlns:apiso=\"http://www.opengis.net/cat/csw/apiso/1.0\" xmlns:gml=\"http://www.opengis.net/gml\" xmlns:dif=\"http://gcmd.gsfc.nasa.gov/Aboutus/xml/dif/\" xmlns:xlink=\"http://www.w3.org/1999/xlink\" xmlns:gco=\"http://www.isotc211.org/2005/gco\" xmlns:gmd=\"http://www.isotc211.org/2005/gmd\" xmlns:rdf=\"http://www.w3.org/1999/02/22-rdf-syntax-ns#\" xmlns:srv=\"http://www.isotc211.org/2005/srv\" xmlns:ogc=\"http://www.opengis.net/ogc\" xmlns:fgdc=\"http://www.opengis.net/cat/csw/csdgm\" xmlns:inspire_ds=\"http://inspire.ec.europa.eu/schemas/inspire_ds/1.0\" xmlns:csw=\"http://www.opengis.net/cat/csw/2.0.2\" xmlns:xsi=\"http://www.w3.org/2001/XMLSchema-instance\" xmlns:os=\"http://a9.com/-/spec/opensearch/1.1/\" xmlns:soapenv=\"http://www.w3.org/2003/05/soap-envelope\" xmlns:sitemap=\"http://www.sitemaps.org/schemas/sitemap/0.9\" version=\"2.0.2\" xsi:schemaLocation=\"http://www.opengis.net/cat/csw/2.0.2 http://schemas.opengis.net/csw/2.0.2/CSW-discovery.xsd\"><csw:SearchStatus timestamp=\"2015-08-25T08:34:00Z\"/><csw:SearchResults nextRecord=\"0\" numberOfRecordsMatched=\"7\" numberOfRecordsReturned=\"7\" recordSchema=\"http://www.opengis.net/cat/csw/2.0.2\" elementSet=\"full\"><csw:Record><dc:identifier>gov.usgs.cmgp:COAWST.Barnegat_Bay.spring2012</dc:identifier><dc:title>COAWST Hindcast:Barnegat Bay:ADCIRC tides,Real rivers,Plume,Lowpass Espresso bdry,NAM,new bathy</dc:title><dc:type>dataset</dc:type><dc:subject>CMG_Portal</dc:subject><dc:subject>sea_floor_depth</dc:subject><dc:subject>water_surface_height_above_reference_datum</dc:subject><dc:subject>barotropic_x_sea_water_velocity</dc:subject><dc:subject>barotropic_y_sea_water_velocity</dc\n"
       ]
      }
     ],
     "prompt_number": 14
    },
    {
     "cell_type": "code",
     "collapsed": false,
     "input": [
      "input = '''\n",
      "<csw:GetRecords xmlns:csw=\"http://www.opengis.net/cat/csw/2.0.2\" version=\"2.0.2\" service=\"CSW\"\n",
      "    resultType=\"results\" startPosition=\"1\" maxRecords=\"100\">\n",
      "    <csw:Query typeNames=\"csw:Record\" xmlns:ogc=\"http://www.opengis.net/ogc\"\n",
      "        xmlns:gml=\"http://www.opengis.net/gml\">\n",
      "        <csw:ElementSetName>full</csw:ElementSetName>\n",
      "        <csw:Constraint version=\"1.1.0\">\n",
      "            <ogc:Filter>\n",
      "                <ogc:PropertyIsLike wildCard=\"*\" singleChar=\"#\" escapeChar=\"!\">\n",
      "                    <ogc:PropertyName>apiso:AnyText</ogc:PropertyName>\n",
      "                    <ogc:Literal>*coawst*</ogc:Literal>\n",
      "                </ogc:PropertyIsLike>\n",
      "            </ogc:Filter>\n",
      "        </csw:Constraint>\n",
      "    </csw:Query>\n",
      "</csw:GetRecords>\n",
      "'''"
     ],
     "language": "python",
     "metadata": {},
     "outputs": [],
     "prompt_number": 15
    },
    {
     "cell_type": "code",
     "collapsed": false,
     "input": [
      "xml_string=requests.post(endpoint, data=input, headers=headers).text\n",
      "print xml_string[:2000]"
     ],
     "language": "python",
     "metadata": {},
     "outputs": [
      {
       "output_type": "stream",
       "stream": "stdout",
       "text": [
        "<?xml version=\"1.0\" encoding=\"UTF-8\" standalone=\"no\"?>\n",
        "<!-- pycsw 1.10.2 -->\n",
        "<csw:GetRecordsResponse xmlns:dc=\"http://purl.org/dc/elements/1.1/\" xmlns:inspire_common=\"http://inspire.ec.europa.eu/schemas/common/1.0\" xmlns:atom=\"http://www.w3.org/2005/Atom\" xmlns:xs=\"http://www.w3.org/2001/XMLSchema\" xmlns:dct=\"http://purl.org/dc/terms/\" xmlns:ows=\"http://www.opengis.net/ows\" xmlns:apiso=\"http://www.opengis.net/cat/csw/apiso/1.0\" xmlns:gml=\"http://www.opengis.net/gml\" xmlns:dif=\"http://gcmd.gsfc.nasa.gov/Aboutus/xml/dif/\" xmlns:xlink=\"http://www.w3.org/1999/xlink\" xmlns:gco=\"http://www.isotc211.org/2005/gco\" xmlns:gmd=\"http://www.isotc211.org/2005/gmd\" xmlns:rdf=\"http://www.w3.org/1999/02/22-rdf-syntax-ns#\" xmlns:srv=\"http://www.isotc211.org/2005/srv\" xmlns:ogc=\"http://www.opengis.net/ogc\" xmlns:fgdc=\"http://www.opengis.net/cat/csw/csdgm\" xmlns:inspire_ds=\"http://inspire.ec.europa.eu/schemas/inspire_ds/1.0\" xmlns:csw=\"http://www.opengis.net/cat/csw/2.0.2\" xmlns:xsi=\"http://www.w3.org/2001/XMLSchema-instance\" xmlns:os=\"http://a9.com/-/spec/opensearch/1.1/\" xmlns:soapenv=\"http://www.w3.org/2003/05/soap-envelope\" xmlns:sitemap=\"http://www.sitemaps.org/schemas/sitemap/0.9\" version=\"2.0.2\" xsi:schemaLocation=\"http://www.opengis.net/cat/csw/2.0.2 http://schemas.opengis.net/csw/2.0.2/CSW-discovery.xsd\"><csw:SearchStatus timestamp=\"2015-08-25T08:34:00Z\"/><csw:SearchResults nextRecord=\"0\" numberOfRecordsMatched=\"7\" numberOfRecordsReturned=\"7\" recordSchema=\"http://www.opengis.net/cat/csw/2.0.2\" elementSet=\"full\"><csw:Record><dc:identifier>gov.usgs.cmgp:COAWST.Barnegat_Bay.spring2012</dc:identifier><dc:title>COAWST Hindcast:Barnegat Bay:ADCIRC tides,Real rivers,Plume,Lowpass Espresso bdry,NAM,new bathy</dc:title><dc:type>dataset</dc:type><dc:subject>CMG_Portal</dc:subject><dc:subject>sea_floor_depth</dc:subject><dc:subject>water_surface_height_above_reference_datum</dc:subject><dc:subject>barotropic_x_sea_water_velocity</dc:subject><dc:subject>barotropic_y_sea_water_velocity</dc\n"
       ]
      }
     ],
     "prompt_number": 16
    },
    {
     "cell_type": "code",
     "collapsed": false,
     "input": [],
     "language": "python",
     "metadata": {},
     "outputs": [],
     "prompt_number": 16
    }
   ],
   "metadata": {}
  }
 ]
}