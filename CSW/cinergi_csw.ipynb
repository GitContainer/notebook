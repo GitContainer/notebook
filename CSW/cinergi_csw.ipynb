{
 "cells": [
  {
   "cell_type": "markdown",
   "metadata": {},
   "source": [
    "# Query  `apiso:ServiceType` on CINERGI csw"
   ]
  },
  {
   "cell_type": "code",
   "execution_count": 1,
   "metadata": {
    "collapsed": false
   },
   "outputs": [],
   "source": [
    "from owslib.csw import CatalogueServiceWeb\n",
    "from owslib import fes\n",
    "import numpy as np"
   ]
  },
  {
   "cell_type": "code",
   "execution_count": 2,
   "metadata": {
    "collapsed": false
   },
   "outputs": [
    {
     "name": "stdout",
     "output_type": "stream",
     "text": [
      "2.0.2\n"
     ]
    }
   ],
   "source": [
    "endpoint = 'http://cinergi.cloudapp.net/geoportal/csw'   # NODC/UAF Geoportal: granule level\n",
    "csw = CatalogueServiceWeb(endpoint,timeout=60)\n",
    "print csw.version"
   ]
  },
  {
   "cell_type": "code",
   "execution_count": 3,
   "metadata": {
    "collapsed": false
   },
   "outputs": [
    {
     "data": {
      "text/plain": [
       "[Constraint: SupportedCommonQueryables - ['Subject', 'Title', 'Abstract', 'AnyText', 'Format', 'Identifier', 'Modified', 'Type', 'BoundingBox'],\n",
       " Constraint: SupportedISOQueryables - ['apiso:Subject', 'apiso:Title', 'apiso:Abstract', 'apiso:AnyText', 'apiso:Format', 'apiso:Identifier', 'apiso:Modified', 'apiso:Type', 'apiso:BoundingBox', 'apiso:CRS.Authority', 'apiso:CRS.ID', 'apiso:CRS.Version', 'apiso:RevisionDate', 'apiso:AlternateTitle', 'apiso:CreationDate', 'apiso:PublicationDate', 'apiso:OrganizationName', 'apiso:HasSecurityConstraints', 'apiso:Language', 'apiso:ResourceIdentifier', 'apiso:ParentIdentifier', 'apiso:KeywordType', 'apiso:TopicCategory', 'apiso:ResourceLanguage', 'apiso:GeographicDescriptionCode', 'apiso:Denominator', 'apiso:DistanceValue', 'apiso:DistanceUOM', 'apiso:TempExtent_begin', 'apiso:TempExtent_end', 'apiso:ServiceType', 'apiso:ServiceTypeVersion', 'apiso:Operation', 'apiso:OperatesOn', 'apiso:OperatesOnIdentifier', 'apiso:OperatesOnName', 'apiso:CouplingType'],\n",
       " Constraint: AdditionalQueryables - ['apiso:Degree', 'apiso:AccessConstraints', 'apiso:OtherConstraints', 'apiso:Classification', 'apiso:ConditionApplyingToAccessAndUse', 'apiso:Lineage', 'apiso:ResponsiblePartyRole', 'apiso:SpecificationTitle', 'apiso:SpecificationDate', 'apiso:SpecificationDateType']]"
      ]
     },
     "execution_count": 3,
     "metadata": {},
     "output_type": "execute_result"
    }
   ],
   "source": [
    "csw.get_operation_by_name('GetRecords').constraints"
   ]
  },
  {
   "cell_type": "markdown",
   "metadata": {},
   "source": [
    "## Try a simple query first using just `apiso:AnyText`"
   ]
  },
  {
   "cell_type": "code",
   "execution_count": 4,
   "metadata": {
    "collapsed": false
   },
   "outputs": [],
   "source": [
    "val = 'roms'\n",
    "#val = 'modflow'\n",
    "filter1 = fes.PropertyIsLike(propertyname='apiso:AnyText',literal=('*%s*' % val),\n",
    "                        escapeChar='\\\\',wildCard='*',singleChar='?')\n",
    "filter_list = [ filter1 ]"
   ]
  },
  {
   "cell_type": "code",
   "execution_count": 5,
   "metadata": {
    "collapsed": false
   },
   "outputs": [
    {
     "name": "stdout",
     "output_type": "stream",
     "text": [
      "25\n",
      "USGS 1:125000-scale Quadrangle for Stromsburg, NE 1896\n",
      "ROMS CNMI Regional Ocean Model Assimilation/Best Time Series\n",
      "Regional Ocean Modeling System (ROMS): Main Hawaiian Islands: Regridded\n",
      "ROMS Oahu South Shore Regional Ocean Model/Best Time Series\n",
      "Regional Ocean Modeling System (ROMS): Oahu: Data Assimilating\n",
      "ROMS Guam Regional Ocean Model/Best Time Series\n",
      "Regional Ocean Modeling System (ROMS): Main Hawaiian Islands\n",
      "Regional Ocean Modeling System (ROMS): Main Hawaiian Islands: Data Assimilating\n",
      "Regional Ocean Modeling System (ROMS): Oahu: Data Assimilating: Regridded\n",
      "ROMS CNMI Regional Ocean Model/Best Time Series\n",
      "Regional Ocean Modeling System (ROMS): Guam: Regridded\n",
      "Regional Ocean Modeling System (ROMS): Main Hawaiian Islands\n",
      "Regional Ocean Modeling System (ROMS): Oahu\n",
      "Regional Ocean Modeling System (ROMS): CNMI: Regridded\n",
      "ROMS Oahu South Shore Regional Ocean Model/Forecast Model Run Collection (2D time coordinates)\n",
      "Regional Ocean Modeling System (ROMS): Oahu: Regridded\n",
      "Sea ducks as predators on sea urchins in a northern kelp forest\n",
      "Additional Geotechnical Engineering Investigations for Arizona's Maricopa SSC Site\n",
      "FishBase\n",
      "Investigating the impact of surface wave breaking on modeling the trajectories of drifters in the northern Adriatic Sea during a wind-storm event\n",
      "Numerical modeling of an estuary: A comprehensive skill assessment\n",
      "Oceanâ??atmosphere dynamics during Hurricane Ida and Nor'Ida: An application of the coupled oceanâ??atmosphereâ??waveâ??sediment transport (COAWST) modeling system\n",
      "Cuttings Sample from WGNHS 50000803\n",
      "Cristobalitic stage in the diagenesis of diatomaceous shale\n",
      "Development of a three-dimensional, regional, coupled wave, current, and sediment-transport model\n"
     ]
    }
   ],
   "source": [
    "csw.getrecords2(constraints=filter_list,maxrecords=100,esn='full')\n",
    "print len(csw.records.keys())\n",
    "for rec in list(csw.records.keys()):\n",
    "    print csw.records[rec].title \n",
    "    "
   ]
  },
  {
   "cell_type": "markdown",
   "metadata": {},
   "source": [
    "## Add bounding box constraint. \n",
    "\n",
    "To specify lon,lat order for bbox (which we want to do so that we can use the same bbox with either geoportal server or pycsw requests), we need to request the bounding box specifying the CRS84 coordinate reference system.   The CRS84 option is available in `pycsw 1.1.10`+. The ability to specify the `crs` in the bounding box request is available in `owslib 0.8.12`+.  For more info on the bounding box problem and how it was solved, see this [pycsw issue](https://github.com/geopython/pycsw/issues/287), this [geoportal server issue](https://github.com/Esri/geoportal-server/issues/124), and this [owslib issue](https://github.com/geopython/OWSLib/issues/201)"
   ]
  },
  {
   "cell_type": "code",
   "execution_count": 6,
   "metadata": {
    "collapsed": false
   },
   "outputs": [],
   "source": [
    "#bbox = [-87.40, 34.25, -63.70, 66.70]    # [lon_min, lat_min, lon_max, lat_max]      maine\n",
    "bbox = [-162., 19.0, -154., 23.0]   # Hawaii\n",
    "bbox_filter = fes.BBox(bbox,crs='urn:ogc:def:crs:OGC:1.3:CRS84')\n",
    "filter_list = [fes.And([filter1, bbox_filter])]\n",
    "csw.getrecords2(constraints=filter_list, maxrecords=1000)"
   ]
  },
  {
   "cell_type": "code",
   "execution_count": 7,
   "metadata": {
    "collapsed": false
   },
   "outputs": [
    {
     "name": "stdout",
     "output_type": "stream",
     "text": [
      "11\n",
      "title:Regional Ocean Modeling System (ROMS): Main Hawaiian Islands\n",
      "identifier:roms_hiig_forecast/ROMS_Hawaii_Regional_Ocean_Model_fmrc.ncd\n",
      "modified:2015-12-08T21:30:26+00:00\n",
      " \n",
      "title:Regional Ocean Modeling System (ROMS): Main Hawaiian Islands: Data Assimilating\n",
      "identifier:roms_hiig_assimilation/ROMS_Hawaii_Regional_Ocean_Model_Assimilation_best.ncd\n",
      "modified:2015-12-08T21:30:22+00:00\n",
      " \n",
      "title:Regional Ocean Modeling System (ROMS): Main Hawaiian Islands\n",
      "identifier:roms_hiig_forecast/ROMS_Hawaii_Regional_Ocean_Model_best.ncd\n",
      "modified:2015-12-08T21:30:25+00:00\n",
      " \n",
      "title:Regional Ocean Modeling System (ROMS): Main Hawaiian Islands: Regridded\n",
      "identifier:roms_hiig_forecast_regridded/ROMS_Hawaii_Regional_Ocean_Model_Regridded_best.ncd\n",
      "modified:2015-12-08T21:30:28+00:00\n",
      " \n",
      "title:Regional Ocean Modeling System (ROMS): Oahu: Data Assimilating: Regridded\n",
      "identifier:roms_hiog_assimilation_regridded/ROMS_Oahu_Regional_Ocean_Model_Assimilation_Regridded_best.ncd\n",
      "modified:2015-12-08T21:30:32+00:00\n",
      " \n",
      "title:Regional Ocean Modeling System (ROMS): Oahu: Regridded\n",
      "identifier:roms_hiog_forecast_regridded/ROMS_Oahu_Regional_Ocean_Model_Regridded_best.ncd\n",
      "modified:2015-12-08T21:30:36+00:00\n",
      " \n",
      "title:Regional Ocean Modeling System (ROMS): Oahu: Data Assimilating\n",
      "identifier:roms_hiog_assimilation/ROMS_Oahu_Regional_Ocean_Model_Assimilation_best.ncd\n",
      "modified:2015-12-08T21:30:30+00:00\n",
      " \n",
      "title:Regional Ocean Modeling System (ROMS): Oahu\n",
      "identifier:roms_hiog_forecast/ROMS_Oahu_Regional_Ocean_Model_best.ncd\n",
      "modified:2015-12-08T21:30:35+00:00\n",
      " \n",
      "title:ROMS Oahu South Shore Regional Ocean Model/Best Time Series\n",
      "identifier:roms_hiomsg_forecast/ROMS_Oahu_South_Shore_Regional_Ocean_Model_best.ncd\n",
      "modified:2015-12-08T21:30:37+00:00\n",
      " \n",
      "title:ROMS Oahu South Shore Regional Ocean Model/Forecast Model Run Collection (2D time coordinates)\n",
      "identifier:roms_hiomsg_forecast/ROMS_Oahu_South_Shore_Regional_Ocean_Model_fmrc.ncd\n",
      "modified:2015-12-08T21:30:39+00:00\n",
      " \n",
      "title:FishBase\n",
      "identifier:017d6afb-9051-4f4b-8a0d-1852212ae80b\n",
      "modified:2015-12-02T15:20:00+00:00\n",
      " \n"
     ]
    }
   ],
   "source": [
    "print(len(csw.records.keys()))\n",
    "for rec in list(csw.records.keys()):\n",
    "    print('title:'+csw.records[rec].title) \n",
    "    print('identifier:'+csw.records[rec].identifier)\n",
    "    print('modified:'+csw.records[rec].modified)\n",
    "    print(' ')"
   ]
  },
  {
   "cell_type": "markdown",
   "metadata": {},
   "source": [
    "## Add ServiceType constraint. "
   ]
  },
  {
   "cell_type": "code",
   "execution_count": 11,
   "metadata": {
    "collapsed": false
   },
   "outputs": [],
   "source": [
    "val = 'opendap'\n",
    "filter2 = fes.PropertyIsLike(propertyname='apiso:ServiceType',literal=('*%s*' % val),\n",
    "                        escapeChar='\\\\',wildCard='*',singleChar='?')\n",
    "filter_list = [fes.And([filter1, filter2, bbox_filter])]\n",
    "csw.getrecords2(constraints=filter_list, maxrecords=1000, esn='full')"
   ]
  },
  {
   "cell_type": "code",
   "execution_count": 12,
   "metadata": {
    "collapsed": false
   },
   "outputs": [
    {
     "name": "stdout",
     "output_type": "stream",
     "text": [
      "10\n",
      "title:Regional Ocean Modeling System (ROMS): Main Hawaiian Islands\n",
      "identifier:roms_hiig_forecast/ROMS_Hawaii_Regional_Ocean_Model_fmrc.ncd\n",
      "modified:2015-12-08T21:30:26+00:00\n",
      " \n",
      "title:Regional Ocean Modeling System (ROMS): Main Hawaiian Islands: Data Assimilating\n",
      "identifier:roms_hiig_assimilation/ROMS_Hawaii_Regional_Ocean_Model_Assimilation_best.ncd\n",
      "modified:2015-12-08T21:30:22+00:00\n",
      " \n",
      "title:Regional Ocean Modeling System (ROMS): Main Hawaiian Islands\n",
      "identifier:roms_hiig_forecast/ROMS_Hawaii_Regional_Ocean_Model_best.ncd\n",
      "modified:2015-12-08T21:30:25+00:00\n",
      " \n",
      "title:Regional Ocean Modeling System (ROMS): Main Hawaiian Islands: Regridded\n",
      "identifier:roms_hiig_forecast_regridded/ROMS_Hawaii_Regional_Ocean_Model_Regridded_best.ncd\n",
      "modified:2015-12-08T21:30:28+00:00\n",
      " \n",
      "title:Regional Ocean Modeling System (ROMS): Oahu: Data Assimilating: Regridded\n",
      "identifier:roms_hiog_assimilation_regridded/ROMS_Oahu_Regional_Ocean_Model_Assimilation_Regridded_best.ncd\n",
      "modified:2015-12-08T21:30:32+00:00\n",
      " \n",
      "title:Regional Ocean Modeling System (ROMS): Oahu: Regridded\n",
      "identifier:roms_hiog_forecast_regridded/ROMS_Oahu_Regional_Ocean_Model_Regridded_best.ncd\n",
      "modified:2015-12-08T21:30:36+00:00\n",
      " \n",
      "title:Regional Ocean Modeling System (ROMS): Oahu: Data Assimilating\n",
      "identifier:roms_hiog_assimilation/ROMS_Oahu_Regional_Ocean_Model_Assimilation_best.ncd\n",
      "modified:2015-12-08T21:30:30+00:00\n",
      " \n",
      "title:Regional Ocean Modeling System (ROMS): Oahu\n",
      "identifier:roms_hiog_forecast/ROMS_Oahu_Regional_Ocean_Model_best.ncd\n",
      "modified:2015-12-08T21:30:35+00:00\n",
      " \n",
      "title:ROMS Oahu South Shore Regional Ocean Model/Best Time Series\n",
      "identifier:roms_hiomsg_forecast/ROMS_Oahu_South_Shore_Regional_Ocean_Model_best.ncd\n",
      "modified:2015-12-08T21:30:37+00:00\n",
      " \n",
      "title:ROMS Oahu South Shore Regional Ocean Model/Forecast Model Run Collection (2D time coordinates)\n",
      "identifier:roms_hiomsg_forecast/ROMS_Oahu_South_Shore_Regional_Ocean_Model_fmrc.ncd\n",
      "modified:2015-12-08T21:30:39+00:00\n",
      " \n"
     ]
    }
   ],
   "source": [
    "print(len(csw.records.keys()))\n",
    "for rec in list(csw.records.keys()):\n",
    "    print('title:'+csw.records[rec].title) \n",
    "    print('identifier:'+csw.records[rec].identifier)\n",
    "    print('modified:'+csw.records[rec].modified)\n",
    "    print(' ')"
   ]
  },
  {
   "cell_type": "markdown",
   "metadata": {},
   "source": [
    "## Print out the references.   Expecting to see the opendap link here:"
   ]
  },
  {
   "cell_type": "code",
   "execution_count": 13,
   "metadata": {
    "collapsed": false
   },
   "outputs": [
    {
     "name": "stdout",
     "output_type": "stream",
     "text": [
      "Regional Ocean Modeling System (ROMS): Main Hawaiian Islands: Data Assimilating\n"
     ]
    },
    {
     "data": {
      "text/plain": [
       "[{'scheme': 'urn:x-esri:specification:ServiceType:ArcIMS:Metadata:Server',\n",
       "  'url': 'http://oos.soest.hawaii.edu/thredds/wms/hioos/roms_assim/hiig/ROMS_Hawaii_Regional_Ocean_Model_Assimilation_best.ncd?service=WMS&version=1.3.0&request=GetCapabilities'},\n",
       " {'scheme': 'urn:x-esri:specification:ServiceType:ArcIMS:Metadata:Onlink',\n",
       "  'url': 'http://oos.soest.hawaii.edu/thredds/dodsC/hioos/roms_assim/hiig/ROMS_Hawaii_Regional_Ocean_Model_Assimilation_best.ncd.html'},\n",
       " {'scheme': 'urn:x-esri:specification:ServiceType:ArcIMS:Metadata:Onlink',\n",
       "  'url': 'http://www.ncdc.noaa.gov/oa/wct/wct-jnlp-beta.php?singlefile=http://oos.soest.hawaii.edu/thredds/dodsC/hioos/roms_assim/hiig/ROMS_Hawaii_Regional_Ocean_Model_Assimilation_best.ncd'},\n",
       " {'scheme': 'urn:x-esri:specification:ServiceType:ArcIMS:Metadata:Document',\n",
       "  'url': 'http://localhost:8080/geoportal/csw?getxml=%7B57A04430-E67A-41F7-92A9-B16380E5C21D%7D'}]"
      ]
     },
     "execution_count": 13,
     "metadata": {},
     "output_type": "execute_result"
    }
   ],
   "source": [
    "choice=np.random.choice(list(csw.records.keys()))\n",
    "print(csw.records[choice].title)\n",
    "csw.records[choice].references"
   ]
  },
  {
   "cell_type": "code",
   "execution_count": null,
   "metadata": {
    "collapsed": true
   },
   "outputs": [],
   "source": []
  },
  {
   "cell_type": "code",
   "execution_count": null,
   "metadata": {
    "collapsed": true
   },
   "outputs": [],
   "source": []
  }
 ],
 "metadata": {
  "gist_id": "44f876d4208dc88d1989",
  "kernelspec": {
   "display_name": "Python 2",
   "language": "python",
   "name": "python2"
  },
  "language_info": {
   "codemirror_mode": {
    "name": "ipython",
    "version": 2
   },
   "file_extension": ".py",
   "mimetype": "text/x-python",
   "name": "python",
   "nbconvert_exporter": "python",
   "pygments_lexer": "ipython2",
   "version": "2.7.10"
  }
 },
 "nbformat": 4,
 "nbformat_minor": 0
}
