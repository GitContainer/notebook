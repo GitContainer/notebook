{
 "metadata": {
  "gist_id": "e5951d30f7c315ff01cd",
  "name": "",
  "signature": "sha256:f754e3cbcc28d0e2f67aa552bae5b038f002374edbb0c96dab9b57efc5c833a9"
 },
 "nbformat": 3,
 "nbformat_minor": 0,
 "worksheets": [
  {
   "cells": [
    {
     "cell_type": "code",
     "collapsed": false,
     "input": [
      "from owslib.csw import CatalogueServiceWeb\n",
      "from owslib import fes"
     ],
     "language": "python",
     "metadata": {},
     "outputs": [],
     "prompt_number": 1
    },
    {
     "cell_type": "code",
     "collapsed": false,
     "input": [
      "endpoints = {'geoportal(nodc)':      'http://www.nodc.noaa.gov/geoportal/csw',\n",
      "             'geoportal(ngdc)':      'http://www.ngdc.noaa.gov/geoportal/csw',\n",
      "             'geoportal(epa)':       'https://edg.epa.gov/metadata/csw',\n",
      "             'geonetwork(cmg)': 'http://cmgds.marine.usgs.gov/geonetwork/srv/en/csw',\n",
      "             'geonetwork(cida-gdp)':'http://cida.usgs.gov/gdp/geonetwork/srv/en/csw',\n",
      "             'geonetwork(cida-glri)': 'http://cida.usgs.gov/glri/geonetwork/srv/en/csw',\n",
      "             'pycsw(pacioos)':       'http://oos.soest.hawaii.edu/pacioos/ogc/csw.py',\n",
      "             'pycsw(data.gov)':      'http://catalog.data.gov/csw-all',\n",
      "             'compusult(cgdi)':      'http://geodiscover.cgdi.ca/wes/serviceManagerCSW/csw', \n",
      "             'gi-cat(ispra)':        'http://193.206.192.216:8080/gi%2Dcat/services/cswiso'}"
     ],
     "language": "python",
     "metadata": {},
     "outputs": []
    },
    {
     "cell_type": "code",
     "collapsed": false,
     "input": [
      "def test_bbox(endpoints,bbox):\n",
      "    for title,url in endpoints.iteritems():\n",
      "        try:\n",
      "            csw = CatalogueServiceWeb(url, timeout=40)\n",
      "            if \"BBOX\" in csw.filters.spatial_operators:\n",
      "                filter_list = [fes.BBox(bbox)]\n",
      "                try:\n",
      "                    csw.getrecords2(constraints=filter_list, maxrecords=1000)\n",
      "                    print(\"%s : Datasets = %d\" % (title,len(csw.records.keys())))\n",
      "                except Exception:\n",
      "                    print \"%s : BBOX Query FAILS\" % title\n",
      "            else:\n",
      "                print \"%s - BBOX Query NOT supported\" % title\n",
      "        except Exception:\n",
      "            print \"%s - Timed out\" % title\n"
     ],
     "language": "python",
     "metadata": {},
     "outputs": []
    },
    {
     "cell_type": "heading",
     "level": 2,
     "metadata": {},
     "source": [
      "Search for Hawaii using (lon,lat) ordering"
     ]
    },
    {
     "cell_type": "code",
     "collapsed": false,
     "input": [
      "bbox = [-158.4, 20.7, -157.2, 21.6]   \n",
      "test_bbox(endpoints,bbox)"
     ],
     "language": "python",
     "metadata": {},
     "outputs": []
    },
    {
     "cell_type": "heading",
     "level": 2,
     "metadata": {},
     "source": [
      "Search for Hawaii using (lat,lon) ordering"
     ]
    },
    {
     "cell_type": "code",
     "collapsed": false,
     "input": [
      "bbox = [20.7, -158.4, 21.6, -157.2]   \n",
      "test_bbox(endpoints,bbox)"
     ],
     "language": "python",
     "metadata": {},
     "outputs": []
    },
    {
     "cell_type": "heading",
     "level": 2,
     "metadata": {},
     "source": [
      "What does this mean?"
     ]
    },
    {
     "cell_type": "markdown",
     "metadata": {},
     "source": [
      "* geoportal(ngdc) expects (lon,lat) order, gives 0 datasets back for (LAT,LON) order\n",
      "* geoportal(epa) expects (lon,lat) order, gives 0 datasets back for (LAT,LON) order\n",
      "* geoportal(nodc) gives 1000 datasets back regardless of order\n",
      "* geonetwork(usgs/cida) fails all bounding box queries\n",
      "* geonetwork(usgs/cmg) expects (lon,lat) order, gives 0 datasets back for (LAT,LON) order\n",
      "* compusult(cgsi) expects (LAT,LON) order, gives 0 datasets back for (lon,lat) order\n",
      "* gi-cat(ispra) expects (LAT,LON) order, gives 0 datasets back for (lon,lat) order\n",
      "* pycsw(pacioos) expects (LAT,LON) order, gives 0 datasets back for (lon,lat) order\n",
      "* pycsw(data.gov) expects (LAT,LON) order, gives 5 datasets back for (lon,lat) order"
     ]
    },
    {
     "cell_type": "code",
     "collapsed": false,
     "input": [],
     "language": "python",
     "metadata": {},
     "outputs": []
    },
    {
     "cell_type": "code",
     "collapsed": false,
     "input": [],
     "language": "python",
     "metadata": {},
     "outputs": []
    },
    {
     "cell_type": "code",
     "collapsed": false,
     "input": [],
     "language": "python",
     "metadata": {},
     "outputs": []
    },
    {
     "cell_type": "code",
     "collapsed": false,
     "input": [],
     "language": "python",
     "metadata": {},
     "outputs": []
    }
   ],
   "metadata": {}
  }
 ]
}