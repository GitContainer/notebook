{
 "cells": [
  {
   "cell_type": "markdown",
   "metadata": {
    "collapsed": true
   },
   "source": [
    "# Query `apiso:ServiceType` on geoport pycsw "
   ]
  },
  {
   "cell_type": "code",
   "execution_count": 1,
   "metadata": {
    "collapsed": false
   },
   "outputs": [],
   "source": [
    "from owslib.csw import CatalogueServiceWeb\n",
    "from owslib import fes\n",
    "import numpy as np"
   ]
  },
  {
   "cell_type": "code",
   "execution_count": 2,
   "metadata": {
    "collapsed": false
   },
   "outputs": [
    {
     "name": "stdout",
     "output_type": "stream",
     "text": [
      "2.0.2\n"
     ]
    }
   ],
   "source": [
    "#endpoint = 'http://geoport.whoi.edu/csw' \n",
    "endpoint = 'http://gamone.whoi.edu/csw'\n",
    "#endpoint = 'http://data.nodc.noaa.gov/geoportal/csw'\n",
    "#endpoint = 'http://data.ioos.us/csw' \n",
    "#endpoint = 'https://dev-catalog.ioos.us/csw'\n",
    "csw = CatalogueServiceWeb(endpoint,timeout=60)\n",
    "print csw.version"
   ]
  },
  {
   "cell_type": "code",
   "execution_count": 3,
   "metadata": {
    "collapsed": false,
    "scrolled": true
   },
   "outputs": [
    {
     "data": {
      "text/plain": [
       "[Constraint: AdditionalQueryables - ['apiso:AccessConstraints', 'apiso:Classification', 'apiso:ConditionApplyingToAccessAndUse', 'apiso:Contributor', 'apiso:Creator', 'apiso:Degree', 'apiso:Lineage', 'apiso:OtherConstraints', 'apiso:Publisher', 'apiso:Relation', 'apiso:ResponsiblePartyRole', 'apiso:SpecificationDate', 'apiso:SpecificationDateType', 'apiso:SpecificationTitle'],\n",
       " Constraint: SupportedDublinCoreQueryables - ['csw:AnyText', 'dc:contributor', 'dc:creator', 'dc:date', 'dc:format', 'dc:identifier', 'dc:language', 'dc:publisher', 'dc:relation', 'dc:rights', 'dc:source', 'dc:subject', 'dc:title', 'dc:type', 'dct:abstract', 'dct:modified', 'ows:BoundingBox'],\n",
       " Constraint: SupportedISOQueryables - ['apiso:Abstract', 'apiso:AlternateTitle', 'apiso:AnyText', 'apiso:BoundingBox', 'apiso:CRS', 'apiso:CouplingType', 'apiso:CreationDate', 'apiso:Denominator', 'apiso:DistanceUOM', 'apiso:DistanceValue', 'apiso:Format', 'apiso:GeographicDescriptionCode', 'apiso:HasSecurityConstraints', 'apiso:Identifier', 'apiso:KeywordType', 'apiso:Language', 'apiso:Modified', 'apiso:OperatesOn', 'apiso:OperatesOnIdentifier', 'apiso:OperatesOnName', 'apiso:Operation', 'apiso:OrganisationName', 'apiso:ParentIdentifier', 'apiso:PublicationDate', 'apiso:ResourceLanguage', 'apiso:RevisionDate', 'apiso:ServiceType', 'apiso:ServiceTypeVersion', 'apiso:Subject', 'apiso:TempExtent_begin', 'apiso:TempExtent_end', 'apiso:Title', 'apiso:TopicCategory', 'apiso:Type']]"
      ]
     },
     "execution_count": 3,
     "metadata": {},
     "output_type": "execute_result"
    }
   ],
   "source": [
    "csw.get_operation_by_name('GetRecords').constraints"
   ]
  },
  {
   "cell_type": "code",
   "execution_count": 4,
   "metadata": {
    "collapsed": false
   },
   "outputs": [
    {
     "name": "stdout",
     "output_type": "stream",
     "text": [
      "[None, 'OGC:WMS,OGC:WCS', 'OPeNDAP:OPeNDAP,file', 'THREDDS OPeNDAP', 'THREDDS OPeNDAP,Open Geospatial Consortium Web Coverage Service (WCS),Open Geospatial Consortium Web Map Service (WMS),THREDDS NetCDF Subset Service', 'THREDDS OPeNDAP,Open Geospatial Consortium Web Coverage Service (WCS),Open Geospatial Consortium Web Map Service (WMS),THREDDS NetCDF Subset Service,THREDDS HTTP Service', 'THREDDS OPeNDAP,Open Geospatial Consortium Web Map Service (WMS),THREDDS NetCDF Subset Service', 'THREDDS OPeNDAP,Open Geospatial Consortium Web Map Service (WMS),THREDDS NetCDF Subset Service,THREDDS HTTP Service']\n"
     ]
    }
   ],
   "source": [
    "try:\n",
    "    csw.get_operation_by_name('GetDomain')\n",
    "    csw.getdomain('apiso:ServiceType', 'property')\n",
    "    print(csw.results['values'])\n",
    "except:\n",
    "    print('GetDomain not supported')"
   ]
  },
  {
   "cell_type": "code",
   "execution_count": 5,
   "metadata": {
    "collapsed": false
   },
   "outputs": [],
   "source": [
    "val = 'ROMS'\n",
    "#val = 'COADS'\n",
    "#val = 'William Jones'\n",
    "filter1 = fes.PropertyIsLike(propertyname='apiso:AnyText',literal=('*%s*' % val),\n",
    "                        escapeChar='\\\\',wildCard='*',singleChar='?')\n",
    "filter_list = [ filter1 ]"
   ]
  },
  {
   "cell_type": "code",
   "execution_count": 6,
   "metadata": {
    "collapsed": true
   },
   "outputs": [],
   "source": [
    "val = 'Warner'\n",
    "#val = 'COADS'\n",
    "#val = 'William Jones'\n",
    "filter2 = fes.PropertyIsLike(propertyname='apiso:AnyText',literal=('*%s*' % val),\n",
    "                        escapeChar='\\\\',wildCard='*',singleChar='?')\n",
    "filter_list = [ filter1 ]"
   ]
  },
  {
   "cell_type": "code",
   "execution_count": 7,
   "metadata": {
    "collapsed": false
   },
   "outputs": [
    {
     "name": "stdout",
     "output_type": "stream",
     "text": [
      "10\n",
      "COAWST Hindcast:Barnegat Bay:ADCIRC tides, real rivers, plume, lowpass Espresso bdry, NAM, new bathy\n",
      "COAWST Forecast System : USGS : US East Coast and Gulf of Mexico (Experimental)\n",
      "Hudson River and Jamaica Bay Model for Hurricane Sandy\n",
      "COAWST Hindcast:MVCO/CBlast 2007:ripples with SWAN-40m res\n",
      "Regional Ocean Modeling System (ROMS): Main Hawaiian Islands: Data Assimilating\n",
      "Regional Ocean Modeling System (ROMS): Oahu: Data Assimilating\n",
      "Regional Ocean Modeling System (ROMS): Main Hawaiian Islands\n",
      "Regional Ocean Modeling System (ROMS): Oahu\n",
      "Regional Ocean Modeling System (ROMS): Waikiki\n",
      "Regional Ocean Modeling System (ROMS): Oahu South Shore\n"
     ]
    }
   ],
   "source": [
    "csw.getrecords2(constraints=filter_list,maxrecords=15,esn='full')\n",
    "print(len(csw.records.keys()))\n",
    "for rec in list(csw.records.keys()):\n",
    "    print(csw.records[rec].title)\n",
    "    "
   ]
  },
  {
   "cell_type": "code",
   "execution_count": 8,
   "metadata": {
    "collapsed": false
   },
   "outputs": [
    {
     "name": "stdout",
     "output_type": "stream",
     "text": [
      "http://geoport-dev.whoi.edu/thredds/dodsC/usgs/data0/bbleh/spring2012/00_dir_roms.ncml\n",
      "http://geoport-dev.whoi.edu/thredds/dodsC/coawst_4/use/fmrc/coawst_4_use_best.ncd\n",
      "http://clancy.whoi.edu/thredds/dodsC/data1/dralston/hudson/sandy/sandy009/00_dir_roms.ncml\n",
      "http://geoport-dev.whoi.edu/thredds/dodsC/usgs/data0/mvco_ce/mvco_output/spatial_7_ar0fd/00_dir_roms.ncml\n",
      "http://oos.soest.hawaii.edu/erddap/griddap/ROMS_HIIG_Assim_Best.graph\n",
      "http://oos.soest.hawaii.edu/thredds/dodsC/hioos/roms_assim/hiog/ROMS_Oahu_Regional_Ocean_Model_Assimilation_best.ncd\n",
      "http://pacioos.org/currents/model-hawaii/\n",
      "http://pacioos.org/currents/model-oahu/\n",
      "http://pacioos.org/currents/model-waikiki/\n",
      "http://pacioos.org/currents/model-southoahu/\n"
     ]
    }
   ],
   "source": [
    "for rec in list(csw.records.keys()):\n",
    "    print(csw.records[rec].references[2]['url'])"
   ]
  },
  {
   "cell_type": "code",
   "execution_count": 9,
   "metadata": {
    "collapsed": false
   },
   "outputs": [
    {
     "name": "stdout",
     "output_type": "stream",
     "text": [
      "Regional Ocean Modeling System (ROMS): Main Hawaiian Islands\n"
     ]
    },
    {
     "data": {
      "text/plain": [
       "[{'scheme': 'http',\n",
       "  'url': 'http://oos.soest.hawaii.edu/thredds/dodsC/hioos/roms_forec/hiig/ROMS_Hawaii_Regional_Ocean_Model_best.ncd.html'},\n",
       " {'scheme': 'http',\n",
       "  'url': 'http://pacioos.org/voyager/index.html?b=15.093339%2C-167.519531%2C25.720735%2C-148.787842&t=h&o=ofore:1:f:d2'},\n",
       " {'scheme': 'http', 'url': 'http://pacioos.org/currents/model-hawaii/'},\n",
       " {'scheme': 'http',\n",
       "  'url': 'http://oos.soest.hawaii.edu/las/UI.vm?catid=hiroms_hiig&dsid=hiroms_hiig&varid=temp-hiroms_hiig'},\n",
       " {'scheme': 'http',\n",
       "  'url': 'http://oos.soest.hawaii.edu/erddap/griddap/ROMS_HIIG_Best.graph'},\n",
       " {'scheme': 'http',\n",
       "  'url': 'http://oos.soest.hawaii.edu/erddap/griddap/ROMS_HIIG_SSH_Best.graph'},\n",
       " {'scheme': 'OPeNDAP:OPeNDAP',\n",
       "  'url': 'http://oos.soest.hawaii.edu/thredds/dodsC/hioos/roms_forec/hiig/ROMS_Hawaii_Regional_Ocean_Model_best.ncd'},\n",
       " {'scheme': 'OGC:WCS',\n",
       "  'url': 'http://oos.soest.hawaii.edu/thredds/wcs/hioos/roms_forec/hiig/ROMS_Hawaii_Regional_Ocean_Model_best.ncd?service=WCS&version=1.0.0&request=GetCapabilities'},\n",
       " {'scheme': 'OGC:WMS',\n",
       "  'url': 'http://oos.soest.hawaii.edu/thredds/wms/hioos/roms_forec/hiig/ROMS_Hawaii_Regional_Ocean_Model_best.ncd?service=WMS&version=1.3.0&request=GetCapabilities'},\n",
       " {'scheme': 'UNIDATA:NCSS',\n",
       "  'url': 'http://oos.soest.hawaii.edu/thredds/ncss/hioos/roms_forec/hiig/ROMS_Hawaii_Regional_Ocean_Model_best.ncd/dataset.html'}]"
      ]
     },
     "execution_count": 9,
     "metadata": {},
     "output_type": "execute_result"
    }
   ],
   "source": [
    "choice=np.random.choice(list(csw.records.keys()))\n",
    "print(csw.records[choice].title)\n",
    "csw.records[choice].references"
   ]
  },
  {
   "cell_type": "code",
   "execution_count": 10,
   "metadata": {
    "collapsed": false
   },
   "outputs": [
    {
     "data": {
      "text/plain": [
       "'<csw:GetRecords xmlns:csw=\"http://www.opengis.net/cat/csw/2.0.2\" xmlns:ogc=\"http://www.opengis.net/ogc\" xmlns:xsi=\"http://www.w3.org/2001/XMLSchema-instance\" outputSchema=\"http://www.opengis.net/cat/csw/2.0.2\" outputFormat=\"application/xml\" version=\"2.0.2\" service=\"CSW\" resultType=\"results\" maxRecords=\"15\" xsi:schemaLocation=\"http://www.opengis.net/cat/csw/2.0.2 http://schemas.opengis.net/csw/2.0.2/CSW-discovery.xsd\"><csw:Query typeNames=\"csw:Record\"><csw:ElementSetName>full</csw:ElementSetName><csw:Constraint version=\"1.1.0\"><ogc:Filter><ogc:PropertyIsLike wildCard=\"*\" singleChar=\"?\" escapeChar=\"\\\\\"><ogc:PropertyName>apiso:AnyText</ogc:PropertyName><ogc:Literal>*ROMS*</ogc:Literal></ogc:PropertyIsLike></ogc:Filter></csw:Constraint></csw:Query></csw:GetRecords>'"
      ]
     },
     "execution_count": 10,
     "metadata": {},
     "output_type": "execute_result"
    }
   ],
   "source": [
    "csw.request"
   ]
  },
  {
   "cell_type": "code",
   "execution_count": 11,
   "metadata": {
    "collapsed": false
   },
   "outputs": [
    {
     "data": {
      "text/plain": [
       "'<csw:Record xmlns:csw=\"http://www.opengis.net/cat/csw/2.0.2\" xmlns:dc=\"http://purl.org/dc/elements/1.1/\" xmlns:dct=\"http://purl.org/dc/terms/\" xmlns:gmd=\"http://www.isotc211.org/2005/gmd\" xmlns:gml=\"http://www.opengis.net/gml\" xmlns:ows=\"http://www.opengis.net/ows\" xmlns:xs=\"http://www.w3.org/2001/XMLSchema\" xmlns:xsi=\"http://www.w3.org/2001/XMLSchema-instance\"><dc:identifier>roms_hiig_forecast</dc:identifier><dc:title>Regional Ocean Modeling System (ROMS): Main Hawaiian Islands</dc:title><dc:type>dataset</dc:type><dc:subject>Earth Science Services &gt; Models &gt; Ocean General Circulation Models (OGCM)/Regional Ocean Models</dc:subject><dc:subject>Earth Science Services &gt; Models &gt; Weather Research/Forecast Models</dc:subject><dc:subject>Earth Science &gt; Oceans &gt; Ocean Temperature &gt; Potential Temperature</dc:subject><dc:subject>Earth Science &gt; Oceans &gt; Salinity/Density &gt; Salinity</dc:subject><dc:subject>Earth Science &gt; Oceans &gt; Sea Surface Topography &gt; Sea Surface Height</dc:subject><dc:subject>Earth Science &gt; Oceans &gt; Ocean Circulation &gt; Ocean Currents</dc:subject><dc:subject>Pacific Islands Ocean Observing System (PacIOOS)</dc:subject><dc:subject>Pacific Islands Ocean Observing System (PacIOOS)</dc:subject><dc:subject>sea_binary_mask</dc:subject><dc:subject>sea_surface_height</dc:subject><dc:subject>eastward_sea_water_velocity</dc:subject><dc:subject>northward_sea_water_velocity</dc:subject><dc:subject>sea_water_potential_temperature</dc:subject><dc:subject>sea_water_salinity</dc:subject><dc:subject>forecast_period</dc:subject><dc:subject>latitude</dc:subject><dc:subject>longitude</dc:subject><dc:subject>depth</dc:subject><dc:subject>time</dc:subject><dc:subject>forecast_reference_time</dc:subject><dc:subject scheme=\"http://www.isotc211.org/2005/resources/Codelist/gmxCodelists.xml#MD_TopicCategoryCode\">oceans</dc:subject><dct:references scheme=\"http\">http://oos.soest.hawaii.edu/thredds/dodsC/hioos/roms_forec/hiig/ROMS_Hawaii_Regional_Ocean_Model_best.ncd.html</dct:references><dct:references scheme=\"http\">http://pacioos.org/voyager/index.html?b=15.093339%2C-167.519531%2C25.720735%2C-148.787842&amp;t=h&amp;o=ofore:1:f:d2</dct:references><dct:references scheme=\"http\">http://pacioos.org/currents/model-hawaii/</dct:references><dct:references scheme=\"http\">http://oos.soest.hawaii.edu/las/UI.vm?catid=hiroms_hiig&amp;dsid=hiroms_hiig&amp;varid=temp-hiroms_hiig</dct:references><dct:references scheme=\"http\">http://oos.soest.hawaii.edu/erddap/griddap/ROMS_HIIG_Best.graph</dct:references><dct:references scheme=\"http\">http://oos.soest.hawaii.edu/erddap/griddap/ROMS_HIIG_SSH_Best.graph</dct:references><dct:references scheme=\"OPeNDAP:OPeNDAP\">http://oos.soest.hawaii.edu/thredds/dodsC/hioos/roms_forec/hiig/ROMS_Hawaii_Regional_Ocean_Model_best.ncd</dct:references><dct:references scheme=\"OGC:WCS\">http://oos.soest.hawaii.edu/thredds/wcs/hioos/roms_forec/hiig/ROMS_Hawaii_Regional_Ocean_Model_best.ncd?service=WCS&amp;version=1.0.0&amp;request=GetCapabilities</dct:references><dct:references scheme=\"OGC:WMS\">http://oos.soest.hawaii.edu/thredds/wms/hioos/roms_forec/hiig/ROMS_Hawaii_Regional_Ocean_Model_best.ncd?service=WMS&amp;version=1.3.0&amp;request=GetCapabilities</dct:references><dct:references scheme=\"UNIDATA:NCSS\">http://oos.soest.hawaii.edu/thredds/ncss/hioos/roms_forec/hiig/ROMS_Hawaii_Regional_Ocean_Model_best.ncd/dataset.html</dct:references><dc:relation/><dct:modified>2016-11-21</dct:modified><dct:abstract>Regional Ocean Modeling System (ROMS) 7-day, 3-hourly forecast for the region surrounding the main Hawaiian Islands at approximately 4-km resolution. Boundary conditions provided by the global, 1/12-degree (~9-km) HYbrid Coordinate Ocean Model (HYCOM). Atmospheric forcing generated by the Weather Research and Forecasting (WRF) model for the region surrounding the main Hawaiian Islands (WRF_HI) at approximately 6-km resolution. Tide forcing uses the Oregon State University (OSU) Tidal Prediction Software (OTPS) TOPEX/Poseidon global inverse solution (TPXO) to derive barotropic tidal elevation and velocity. Data are assimilated over the previous 3 days using all available observations to improve the model estimate of current ocean state (its nowcast) before forecasts are run. Assimilated observations may include satellite-based sea surface temperatures from MODIS, AVHRR, or OSTIA; satellite-based sea surface height from AVISO; surface currents from PacIOOS high-frequency radios (HFR); and in-situ water temperature and salinity profiles from ARGO floats and ocean glider autonomous underwater vehicles (AUV). While considerable effort has been made to implement all model components in a thorough, correct, and accurate manner, numerous sources of error are possible. As such, please use these data with the caution appropriate for any ocean related activity.</dct:abstract><dc:date>2016-11-21</dc:date><ows:BoundingBox crs=\"urn:x-ogc:def:crs:EPSG:6.11:4326\" dimensions=\"2\"><ows:LowerCorner>17.02 -163.83</ows:LowerCorner><ows:UpperCorner>23.98 -152.52</ows:UpperCorner></ows:BoundingBox></csw:Record>'"
      ]
     },
     "execution_count": 11,
     "metadata": {},
     "output_type": "execute_result"
    }
   ],
   "source": [
    "csw.records[choice].xml"
   ]
  },
  {
   "cell_type": "markdown",
   "metadata": {},
   "source": [
    "Add bounding box constraint. To specify lon,lat order for bbox (which we want to do so that we can use the same bbox with either geoportal server or pycsw requests), we need to request the bounding box specifying the CRS84 coordinate reference system.   The CRS84 option is available in `pycsw 1.1.10`+. The ability to specify the `crs` in the bounding box request is available in `owslib 0.8.12`+.  For more info on the bounding box problem and how it was solved, see this [pycsw issue](https://github.com/geopython/pycsw/issues/287), this [geoportal server issue](https://github.com/Esri/geoportal-server/issues/124), and this [owslib issue](https://github.com/geopython/OWSLib/issues/201)"
   ]
  },
  {
   "cell_type": "code",
   "execution_count": 12,
   "metadata": {
    "collapsed": false
   },
   "outputs": [],
   "source": [
    "bbox = [-87.40, 34.25, -63.70, 66.70]    # [lon_min, lat_min, lon_max, lat_max]\n",
    "bbox_filter = fes.BBox(bbox,crs='urn:ogc:def:crs:OGC:1.3:CRS84')\n",
    "filter_list = [fes.And([filter1, bbox_filter])]\n",
    "csw.getrecords2(constraints=filter_list, maxrecords=1000)"
   ]
  },
  {
   "cell_type": "code",
   "execution_count": 13,
   "metadata": {
    "collapsed": false
   },
   "outputs": [
    {
     "name": "stdout",
     "output_type": "stream",
     "text": [
      "5\n",
      "title:COAWST Hindcast:Barnegat Bay:ADCIRC tides, real rivers, plume, lowpass Espresso bdry, NAM, new bathy\n",
      "identifier:COAWST.Barnegat_Bay.Spring2012\n",
      "modified:2016-11-21\n",
      " \n",
      "title:COAWST Forecast System : USGS : US East Coast and Gulf of Mexico (Experimental)\n",
      "identifier:gov.usgs.cmgp:COAWST.USEAST.Forecast\n",
      "modified:2016-11-21\n",
      " \n",
      "title:Hudson River and Jamaica Bay Model for Hurricane Sandy\n",
      "identifier:gov.usgs.cmg:HudJBay_Sandy\n",
      "modified:2016-11-21\n",
      " \n",
      "title:COAWST Hindcast:MVCO/CBlast 2007:ripples with SWAN-40m res\n",
      "identifier:COAWST.MVCO.CBLAST.spatial_7_ar0fd\n",
      "modified:2016-11-21\n",
      " \n",
      "title:BBLEH Hurricane Sandy simulation\n",
      "identifier:clay/usgs/users/zdefne/run076/his/00_dir_roms_his.ncml\n",
      "modified:2016-11-21\n",
      " \n"
     ]
    }
   ],
   "source": [
    "print(len(csw.records.keys()))\n",
    "for rec in list(csw.records.keys()):\n",
    "    print('title:'+csw.records[rec].title) \n",
    "    print('identifier:'+csw.records[rec].identifier)\n",
    "    print('modified:'+csw.records[rec].modified)\n",
    "    print(' ')"
   ]
  },
  {
   "cell_type": "code",
   "execution_count": 14,
   "metadata": {
    "collapsed": false
   },
   "outputs": [
    {
     "name": "stdout",
     "output_type": "stream",
     "text": [
      "5\n",
      "title:COAWST Hindcast:Barnegat Bay:ADCIRC tides, real rivers, plume, lowpass Espresso bdry, NAM, new bathy\n",
      "identifier:COAWST.Barnegat_Bay.Spring2012\n",
      "modified:2016-11-21\n",
      "[{'scheme': 'WWW:LINK',\n",
      "  'url': 'http://geoport-dev.whoi.edu/thredds/dodsC/usgs/data0/bbleh/spring2012/00_dir_roms.ncml.html'},\n",
      " {'scheme': 'WWW:LINK',\n",
      "  'url': 'http://www.ncdc.noaa.gov/oa/wct/wct-jnlp-beta.php?singlefile=http://geoport-dev.whoi.edu/thredds/dodsC/usgs/data0/bbleh/spring2012/00_dir_roms.ncml'},\n",
      " {'scheme': 'OPeNDAP:OPeNDAP',\n",
      "  'url': 'http://geoport-dev.whoi.edu/thredds/dodsC/usgs/data0/bbleh/spring2012/00_dir_roms.ncml'},\n",
      " {'scheme': 'OGC:WMS',\n",
      "  'url': 'http://geoport-dev.whoi.edu/thredds/wms/usgs/data0/bbleh/spring2012/00_dir_roms.ncml?service=WMS&version=1.3.0&request=GetCapabilities'},\n",
      " {'scheme': 'UNIDATA:NCSS',\n",
      "  'url': 'http://geoport-dev.whoi.edu/thredds/ncss/usgs/data0/bbleh/spring2012/00_dir_roms.ncml/dataset.html'},\n",
      " {'scheme': 'file',\n",
      "  'url': 'http://geoport-dev.whoi.edu/thredds/fileServer/usgs/data0/bbleh/spring2012/00_dir_roms.ncml'}]\n",
      " \n",
      "title:COAWST Forecast System : USGS : US East Coast and Gulf of Mexico (Experimental)\n",
      "identifier:gov.usgs.cmgp:COAWST.USEAST.Forecast\n",
      "modified:2016-11-21\n",
      "[{'scheme': 'WWW:LINK',\n",
      "  'url': 'http://geoport-dev.whoi.edu/thredds/dodsC/coawst_4/use/fmrc/coawst_4_use_best.ncd.html'},\n",
      " {'scheme': 'WWW:LINK',\n",
      "  'url': 'http://www.ncdc.noaa.gov/oa/wct/wct-jnlp-beta.php?singlefile=http://geoport-dev.whoi.edu/thredds/dodsC/coawst_4/use/fmrc/coawst_4_use_best.ncd'},\n",
      " {'scheme': 'OPeNDAP:OPeNDAP',\n",
      "  'url': 'http://geoport-dev.whoi.edu/thredds/dodsC/coawst_4/use/fmrc/coawst_4_use_best.ncd'},\n",
      " {'scheme': 'OGC:WMS',\n",
      "  'url': 'http://geoport-dev.whoi.edu/thredds/wms/coawst_4/use/fmrc/coawst_4_use_best.ncd?service=WMS&version=1.3.0&request=GetCapabilities'},\n",
      " {'scheme': 'UNIDATA:NCSS',\n",
      "  'url': 'http://geoport-dev.whoi.edu/thredds/ncss/grid/coawst_4/use/fmrc/coawst_4_use_best.ncd/dataset.html'}]\n",
      " \n",
      "title:Hudson River and Jamaica Bay Model for Hurricane Sandy\n",
      "identifier:gov.usgs.cmg:HudJBay_Sandy\n",
      "modified:2016-11-21\n",
      "[{'scheme': 'WWW:LINK',\n",
      "  'url': 'http://clancy.whoi.edu/thredds/dodsC/data1/dralston/hudson/sandy/sandy009/00_dir_roms.ncml.html'},\n",
      " {'scheme': 'WWW:LINK',\n",
      "  'url': 'http://www.ncdc.noaa.gov/oa/wct/wct-jnlp-beta.php?singlefile=http://clancy.whoi.edu/thredds/dodsC/data1/dralston/hudson/sandy/sandy009/00_dir_roms.ncml'},\n",
      " {'scheme': 'OPeNDAP:OPeNDAP',\n",
      "  'url': 'http://clancy.whoi.edu/thredds/dodsC/data1/dralston/hudson/sandy/sandy009/00_dir_roms.ncml'},\n",
      " {'scheme': 'OGC:WCS',\n",
      "  'url': 'http://clancy.whoi.edu/thredds/wcs/data1/dralston/hudson/sandy/sandy009/00_dir_roms.ncml?service=WCS&version=1.0.0&request=GetCapabilities'},\n",
      " {'scheme': 'OGC:WMS',\n",
      "  'url': 'http://clancy.whoi.edu/thredds/wms/data1/dralston/hudson/sandy/sandy009/00_dir_roms.ncml?service=WMS&version=1.3.0&request=GetCapabilities'},\n",
      " {'scheme': 'UNIDATA:NCSS',\n",
      "  'url': 'http://clancy.whoi.edu/thredds/ncss/grid/data1/dralston/hudson/sandy/sandy009/00_dir_roms.ncml/dataset.html'},\n",
      " {'scheme': 'file',\n",
      "  'url': 'http://clancy.whoi.edu/thredds/fileServer/data1/dralston/hudson/sandy/sandy009/00_dir_roms.ncml'}]\n",
      " \n",
      "title:COAWST Hindcast:MVCO/CBlast 2007:ripples with SWAN-40m res\n",
      "identifier:COAWST.MVCO.CBLAST.spatial_7_ar0fd\n",
      "modified:2016-11-21\n",
      "[{'scheme': 'WWW:LINK',\n",
      "  'url': 'http://geoport-dev.whoi.edu/thredds/dodsC/usgs/data0/mvco_ce/mvco_output/spatial_7_ar0fd/00_dir_roms.ncml.html'},\n",
      " {'scheme': 'WWW:LINK',\n",
      "  'url': 'http://www.ncdc.noaa.gov/oa/wct/wct-jnlp-beta.php?singlefile=http://geoport-dev.whoi.edu/thredds/dodsC/usgs/data0/mvco_ce/mvco_output/spatial_7_ar0fd/00_dir_roms.ncml'},\n",
      " {'scheme': 'OPeNDAP:OPeNDAP',\n",
      "  'url': 'http://geoport-dev.whoi.edu/thredds/dodsC/usgs/data0/mvco_ce/mvco_output/spatial_7_ar0fd/00_dir_roms.ncml'},\n",
      " {'scheme': 'OGC:WMS',\n",
      "  'url': 'http://geoport-dev.whoi.edu/thredds/wms/usgs/data0/mvco_ce/mvco_output/spatial_7_ar0fd/00_dir_roms.ncml?service=WMS&version=1.3.0&request=GetCapabilities'},\n",
      " {'scheme': 'UNIDATA:NCSS',\n",
      "  'url': 'http://geoport-dev.whoi.edu/thredds/ncss/usgs/data0/mvco_ce/mvco_output/spatial_7_ar0fd/00_dir_roms.ncml/dataset.html'},\n",
      " {'scheme': 'file',\n",
      "  'url': 'http://geoport-dev.whoi.edu/thredds/fileServer/usgs/data0/mvco_ce/mvco_output/spatial_7_ar0fd/00_dir_roms.ncml'}]\n",
      " \n",
      "title:BBLEH Hurricane Sandy simulation\n",
      "identifier:clay/usgs/users/zdefne/run076/his/00_dir_roms_his.ncml\n",
      "modified:2016-11-21\n",
      "[{'scheme': 'WWW:LINK',\n",
      "  'url': 'http://geoport-dev.whoi.edu/thredds/dodsC/clay/usgs/users/zdefne/run076/his/00_dir_roms_his.ncml.html'},\n",
      " {'scheme': 'WWW:LINK',\n",
      "  'url': 'http://www.ncdc.noaa.gov/oa/wct/wct-jnlp-beta.php?singlefile=http://geoport-dev.whoi.edu/thredds/dodsC/clay/usgs/users/zdefne/run076/his/00_dir_roms_his.ncml'},\n",
      " {'scheme': 'OPeNDAP:OPeNDAP',\n",
      "  'url': 'http://geoport-dev.whoi.edu/thredds/dodsC/clay/usgs/users/zdefne/run076/his/00_dir_roms_his.ncml'},\n",
      " {'scheme': 'OGC:WMS',\n",
      "  'url': 'http://geoport-dev.whoi.edu/thredds/wms/clay/usgs/users/zdefne/run076/his/00_dir_roms_his.ncml?service=WMS&version=1.3.0&request=GetCapabilities'},\n",
      " {'scheme': 'UNIDATA:NCSS',\n",
      "  'url': 'http://geoport-dev.whoi.edu/thredds/ncss/grid/clay/usgs/users/zdefne/run076/his/00_dir_roms_his.ncml/dataset.html'},\n",
      " {'scheme': 'file',\n",
      "  'url': 'http://geoport-dev.whoi.edu/thredds/fileServer/clay/usgs/users/zdefne/run076/his/00_dir_roms_his.ncml'}]\n",
      " \n"
     ]
    }
   ],
   "source": [
    "from pprint import pprint\n",
    "val = 'opendap'\n",
    "filter2 = fes.PropertyIsLike(propertyname='apiso:ServiceType',literal=('*%s*' % val),\n",
    "                        escapeChar='\\\\',wildCard='*',singleChar='?')\n",
    "filter_list = [fes.And([filter1, filter2, bbox_filter])]\n",
    "csw.getrecords2(constraints=filter_list, maxrecords=1000)\n",
    "\n",
    "print(len(csw.records.keys()))\n",
    "for rec in list(csw.records.keys()):\n",
    "    print('title:'+csw.records[rec].title) \n",
    "    print('identifier:'+csw.records[rec].identifier)\n",
    "    print('modified:'+csw.records[rec].modified)\n",
    "    pprint(csw.records[rec].references)\n",
    "    print(' ')"
   ]
  },
  {
   "cell_type": "code",
   "execution_count": 15,
   "metadata": {
    "collapsed": false
   },
   "outputs": [],
   "source": [
    "val = 'Warner'\n",
    "#val = 'COADS'\n",
    "filter1 = fes.PropertyIsLike(propertyname='apiso:AnyText',literal=('*%s*' % val),\n",
    "                        escapeChar='\\\\',wildCard='*',singleChar='?')\n",
    "filter_list = [ filter1 ]\n",
    "csw.getrecords2(constraints=filter_list, maxrecords=1000)\n",
    "\n"
   ]
  },
  {
   "cell_type": "code",
   "execution_count": 16,
   "metadata": {
    "collapsed": false
   },
   "outputs": [
    {
     "name": "stdout",
     "output_type": "stream",
     "text": [
      "1\n",
      "title:COAWST Forecast System : USGS : US East Coast and Gulf of Mexico (Experimental)\n",
      "identifier:gov.usgs.cmgp:COAWST.USEAST.Forecast\n",
      "modified:2016-11-21\n",
      " \n"
     ]
    }
   ],
   "source": [
    "print(len(csw.records.keys()))\n",
    "for rec in list(csw.records.keys()):\n",
    "    print('title:'+csw.records[rec].title) \n",
    "    print('identifier:'+csw.records[rec].identifier)\n",
    "    print('modified:'+csw.records[rec].modified)\n",
    "    print(' ')"
   ]
  },
  {
   "cell_type": "code",
   "execution_count": 17,
   "metadata": {
    "collapsed": false
   },
   "outputs": [
    {
     "name": "stdout",
     "output_type": "stream",
     "text": [
      "3\n",
      "title:NECOFS GOM3 (FVCOM) - Northeast US - Latest Forecast\n",
      "identifier:gom3_nocache\n",
      "modified:2016-11-21\n",
      " \n",
      "title:NECOFS Massachusetts (FVCOM) - Massachusetts Coastal - Latest Forecast\n",
      "identifier:massbay_nocache\n",
      "modified:2016-11-21\n",
      " \n",
      "title:NECOFS GOM3 Wave - Northeast US - Latest Forecast\n",
      "identifier:necofs_gom3_wave\n",
      "modified:2016-11-21\n",
      " \n"
     ]
    }
   ],
   "source": [
    "val = 'necofs'\n",
    "filter1 = fes.PropertyIsLike(propertyname='apiso:AnyText',literal=('*%s*' % val),\n",
    "                        escapeChar='\\\\',wildCard='*',singleChar='?')\n",
    "\n",
    "val = 'opendap'\n",
    "filter2 = fes.PropertyIsLike(propertyname='apiso:ServiceType',literal=('*%s*' % val),\n",
    "                        escapeChar='\\\\',wildCard='*',singleChar='?')\n",
    "filter_list = [fes.And([filter1, filter2, bbox_filter])]\n",
    "csw.getrecords2(constraints=filter_list, maxrecords=1000)\n",
    "\n",
    "print(len(csw.records.keys()))\n",
    "for rec in list(csw.records.keys()):\n",
    "    print('title:'+csw.records[rec].title) \n",
    "    print('identifier:'+csw.records[rec].identifier)\n",
    "    print('modified:'+csw.records[rec].modified)\n",
    "    print(' ')"
   ]
  },
  {
   "cell_type": "code",
   "execution_count": 4,
   "metadata": {
    "collapsed": false
   },
   "outputs": [
    {
     "name": "stdout",
     "output_type": "stream",
     "text": [
      "2\n",
      "title:USGS Chincoteague Bay Model for Hurricane Sandy\n",
      "identifier:gov.usgs.cmg:USGS_COAWST_CHINCO_SANDY\n",
      "modified:2016-12-14\n",
      " \n",
      "title:USGS-CMG-COAWST Model: CHINCO Bed Elevation\n",
      "identifier:gov.usgs.cmg:USGS_COAWST_CHINCO_bedelevation\n",
      "modified:2016-12-14\n",
      " \n"
     ]
    }
   ],
   "source": [
    "val = 'CMG_Portal'\n",
    "val = 'Chinco'\n",
    "filter1 = fes.PropertyIsLike(propertyname='apiso:AnyText',literal=('*%s*' % val),\n",
    "                        escapeChar='\\\\',wildCard='*',singleChar='?')\n",
    "filter_list = [ filter1 ]\n",
    "csw.getrecords2(constraints=filter_list, maxrecords=1000)\n",
    "print(len(csw.records.keys()))\n",
    "for rec in list(csw.records.keys()):\n",
    "    print('title:'+csw.records[rec].title) \n",
    "    print('identifier:'+csw.records[rec].identifier)\n",
    "    print('modified:'+csw.records[rec].modified)\n",
    "    print(' ')"
   ]
  },
  {
   "cell_type": "code",
   "execution_count": null,
   "metadata": {
    "collapsed": true
   },
   "outputs": [],
   "source": []
  },
  {
   "cell_type": "code",
   "execution_count": null,
   "metadata": {
    "collapsed": true
   },
   "outputs": [],
   "source": []
  }
 ],
 "metadata": {
  "gist_id": "0fc4f5cd1f85ec411458",
  "kernelspec": {
   "display_name": "Python 2",
   "language": "python",
   "name": "python2"
  },
  "language_info": {
   "codemirror_mode": {
    "name": "ipython",
    "version": 2
   },
   "file_extension": ".py",
   "mimetype": "text/x-python",
   "name": "python",
   "nbconvert_exporter": "python",
   "pygments_lexer": "ipython2",
   "version": "2.7.12"
  }
 },
 "nbformat": 4,
 "nbformat_minor": 0
}
