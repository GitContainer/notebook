{
 "cells": [
  {
   "cell_type": "code",
   "execution_count": 25,
   "metadata": {
    "collapsed": true
   },
   "outputs": [],
   "source": [
    "from osgeo import gdal,ogr,osr"
   ]
  },
  {
   "cell_type": "code",
   "execution_count": null,
   "metadata": {
    "collapsed": true
   },
   "outputs": [],
   "source": [
    "raster = r'/usgs/data0/bathy/sandy/zip3/big.tif'\n",
    "ofile =  r'/usgs/data2/notebook/data/big.ncml'"
   ]
  },
  {
   "cell_type": "code",
   "execution_count": null,
   "metadata": {
    "collapsed": true
   },
   "outputs": [],
   "source": [
    "def GetExtent(gt,cols,rows):\n",
    "    ''' Return list of corner coordinates from a geotransform\n",
    "\n",
    "        @type gt:   C{tuple/list}\n",
    "        @param gt: geotransform\n",
    "        @type cols:   C{int}\n",
    "        @param cols: number of columns in the dataset\n",
    "        @type rows:   C{int}\n",
    "        @param rows: number of rows in the dataset\n",
    "        @rtype:    C{[float,...,float]}\n",
    "        @return:   coordinates of each corner\n",
    "    '''\n",
    "    ext=[]\n",
    "    xarr=[0,cols]\n",
    "    yarr=[0,rows]\n",
    "\n",
    "    for px in xarr:\n",
    "        for py in yarr:\n",
    "            x=gt[0]+(px*gt[1])+(py*gt[2])\n",
    "            y=gt[3]+(px*gt[4])+(py*gt[5])\n",
    "            ext.append([x,y])\n",
    "            print x,y\n",
    "        yarr.reverse()\n",
    "    return ext"
   ]
  },
  {
   "cell_type": "code",
   "execution_count": null,
   "metadata": {
    "collapsed": true
   },
   "outputs": [],
   "source": [
    "def ReprojectCoords(coords,src_srs,tgt_srs):\n",
    "    ''' Reproject a list of x,y coordinates.\n",
    "\n",
    "        @type geom:     C{tuple/list}\n",
    "        @param geom:    List of [[x,y],...[x,y]] coordinates\n",
    "        @type src_srs:  C{osr.SpatialReference}\n",
    "        @param src_srs: OSR SpatialReference object\n",
    "        @type tgt_srs:  C{osr.SpatialReference}\n",
    "        @param tgt_srs: OSR SpatialReference object\n",
    "        @rtype:         C{tuple/list}\n",
    "        @return:        List of transformed [[x,y],...[x,y]] coordinates\n",
    "    '''\n",
    "    trans_coords=[]\n",
    "    transform = osr.CoordinateTransformation( src_srs, tgt_srs)\n",
    "    for x,y in coords:\n",
    "        x,y,z = transform.TransformPoint(x,y)\n",
    "        trans_coords.append([x,y])\n",
    "    return trans_coords"
   ]
  },
  {
   "cell_type": "code",
   "execution_count": 3,
   "metadata": {
    "collapsed": false
   },
   "outputs": [
    {
     "name": "stdout",
     "output_type": "stream",
     "text": [
      "-73.755 39.755\n",
      "-73.755 36.495\n",
      "-70.245 36.495\n",
      "-70.245 39.755\n"
     ]
    }
   ],
   "source": [
    "ds=gdal.Open(raster)\n",
    "\n",
    "gt=ds.GetGeoTransform()\n",
    "cols = ds.RasterXSize\n",
    "rows = ds.RasterYSize\n",
    "ext=GetExtent(gt,cols,rows)\n",
    "\n",
    "src_srs=osr.SpatialReference()\n",
    "src_srs.ImportFromWkt(ds.GetProjection())\n",
    "#tgt_srs=osr.SpatialReference()\n",
    "#tgt_srs.ImportFromEPSG(4326)\n",
    "tgt_srs = src_srs.CloneGeogCS()\n",
    "\n",
    "geo_ext=ReprojectCoords(ext,src_srs,tgt_srs)"
   ]
  },
  {
   "cell_type": "code",
   "execution_count": 5,
   "metadata": {
    "collapsed": false
   },
   "outputs": [
    {
     "data": {
      "text/plain": [
       "[[-73.755, 39.754999999999995],\n",
       " [-73.755, 36.49500000000011],\n",
       " [-70.24500000000012, 36.49500000000011],\n",
       " [-70.24500000000012, 39.754999999999995]]"
      ]
     },
     "execution_count": 5,
     "metadata": {},
     "output_type": "execute_result"
    }
   ],
   "source": [
    "ext"
   ]
  },
  {
   "cell_type": "code",
   "execution_count": 14,
   "metadata": {
    "collapsed": true
   },
   "outputs": [],
   "source": [
    "ncml = '''<netcdf xmlns=\"http://www.unidata.ucar.edu/namespaces/netcdf/ncml-2.2\"\n",
    "    location=\"/usgs/data0/bathy/srtm30plus_v1.nc\">\n",
    "    <variable name=\"lon\" shape=\"lon\" type=\"double\">\n",
    "     <attribute name=\"units\" value=\"degrees_east\"/>\n",
    "     <values start=\"-180.00\" increment=\"+0.008333333333333333\"/>\n",
    "    </variable>\n",
    "    <variable name=\"lat\" shape=\"lat\" type=\"double\">\n",
    "     <attribute name=\"units\" value=\"degrees_north\"/>\n",
    "     <values start=\"90.00\" increment=\"-0.008333333333333333\"/>\n",
    "    </variable>\n",
    "    <variable name=\"topo\">\n",
    "     <attribute name=\"units\" value=\"meters\"/>\n",
    "     <attribute name=\"long_name\" value=\"Topography\"/>\n",
    "    </variable>\n",
    "    <attribute name=\"Conventions\" value=\"CF-1.0\"/>\n",
    "    <attribute name=\"title\" value=\"SRTM30_v1\"/>\n",
    "   </netcdf>'''\n"
   ]
  },
  {
   "cell_type": "code",
   "execution_count": 15,
   "metadata": {
    "collapsed": false
   },
   "outputs": [
    {
     "name": "stdout",
     "output_type": "stream",
     "text": [
      "<netcdf xmlns=\"http://www.unidata.ucar.edu/namespaces/netcdf/ncml-2.2\"\n",
      "    location=\"/usgs/data0/bathy/srtm30plus_v1.nc\">\n",
      "    <variable name=\"lon\" shape=\"lon\" type=\"double\">\n",
      "     <attribute name=\"units\" value=\"degrees_east\"/>\n",
      "     <values start=\"-180.00\" increment=\"+0.008333333333333333\"/>\n",
      "    </variable>\n",
      "    <variable name=\"lat\" shape=\"lat\" type=\"double\">\n",
      "     <attribute name=\"units\" value=\"degrees_north\"/>\n",
      "     <values start=\"90.00\" increment=\"-0.008333333333333333\"/>\n",
      "    </variable>\n",
      "    <variable name=\"topo\">\n",
      "     <attribute name=\"units\" value=\"meters\"/>\n",
      "     <attribute name=\"long_name\" value=\"Topography\"/>\n",
      "    </variable>\n",
      "    <attribute name=\"Conventions\" value=\"CF-1.0\"/>\n",
      "    <attribute name=\"title\" value=\"SRTM30_v1\"/>\n",
      "   </netcdf>\n"
     ]
    }
   ],
   "source": [
    "print(ncml)"
   ]
  },
  {
   "cell_type": "code",
   "execution_count": 16,
   "metadata": {
    "collapsed": false
   },
   "outputs": [
    {
     "data": {
      "text/plain": [
       "(-73.755,\n",
       " 0.0008333333333333042,\n",
       " 0.0,\n",
       " 39.754999999999995,\n",
       " 0.0,\n",
       " -0.0008333333333333042)"
      ]
     },
     "execution_count": 16,
     "metadata": {},
     "output_type": "execute_result"
    }
   ],
   "source": [
    "gt"
   ]
  },
  {
   "cell_type": "code",
   "execution_count": 22,
   "metadata": {
    "collapsed": false
   },
   "outputs": [
    {
     "name": "stdout",
     "output_type": "stream",
     "text": [
      "<netcdf xmlns=\"http://www.unidata.ucar.edu/namespaces/netcdf/ncml-2.2\"\n",
      "    location=\"/usgs/data0/bathy/sandy/zip3/big.tif\">\n",
      "    <variable name=\"lon\" shape=\"lon\" type=\"double\">\n",
      "     <attribute name=\"units\" value=\"degrees_east\"/>\n",
      "     <values start=\"-73.755\" increment=\"0.000833333333333\"/>\n",
      "    </variable>\n",
      "    <variable name=\"lat\" shape=\"lat\" type=\"double\">\n",
      "     <attribute name=\"units\" value=\"degrees_north\"/>\n",
      "     <values start=\"39.755\" increment=\"-0.000833333333333\"/>\n",
      "    </variable>\n",
      "    <variable name=\"topo\">\n",
      "     <attribute name=\"units\" value=\"meters\"/>\n",
      "     <attribute name=\"long_name\" value=\"Topography\"/>\n",
      "    </variable>\n",
      "    <attribute name=\"Conventions\" value=\"CF-1.0\"/>\n",
      "    <attribute name=\"title\" value=\"SRTM30_v1\"/>\n",
      "   </netcdf>\n"
     ]
    }
   ],
   "source": [
    "#replace lon_min\n",
    "ncml = ncml.replace('-180.00',str(gt[0]))\n",
    "\n",
    "#replace lon_increment\n",
    "ncml = ncml.replace('+0.008333333333333333',str(gt[1]))\n",
    "\n",
    "#replace lat_max\n",
    "ncml = ncml.replace('90.00',str(gt[3]))\n",
    "\n",
    "#replace lat_increment\n",
    "ncml = ncml.replace('-0.008333333333333333',str(gt[5]))\n",
    "\n",
    "#replace file location\n",
    "ncml = ncml.replace(r'/usgs/data0/bathy/srtm30plus_v1.nc',raster)\n",
    "\n",
    "print(ncml)"
   ]
  },
  {
   "cell_type": "code",
   "execution_count": null,
   "metadata": {
    "collapsed": true
   },
   "outputs": [],
   "source": []
  },
  {
   "cell_type": "code",
   "execution_count": null,
   "metadata": {
    "collapsed": true
   },
   "outputs": [],
   "source": []
  }
 ],
 "metadata": {
  "kernelspec": {
   "display_name": "Python 2",
   "language": "python",
   "name": "python2"
  },
  "language_info": {
   "codemirror_mode": {
    "name": "ipython",
    "version": 2
   },
   "file_extension": ".py",
   "mimetype": "text/x-python",
   "name": "python",
   "nbconvert_exporter": "python",
   "pygments_lexer": "ipython2",
   "version": "2.7.11"
  }
 },
 "nbformat": 4,
 "nbformat_minor": 0
}
