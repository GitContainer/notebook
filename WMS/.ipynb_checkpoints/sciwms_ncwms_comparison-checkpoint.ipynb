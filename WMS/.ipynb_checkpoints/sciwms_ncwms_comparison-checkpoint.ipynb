{
 "metadata": {
  "gist_id": "c2d112d050c42914f9b7",
  "name": "",
  "signature": "sha256:ff4394daaa40365825cd9f5d3b7fc2481c4275acc01b1279562652d5b3274b10"
 },
 "nbformat": 3,
 "nbformat_minor": 0,
 "worksheets": [
  {
   "cells": [
    {
     "cell_type": "heading",
     "level": 1,
     "metadata": {},
     "source": [
      "Performance of sci-wms and ncwms for curvilinear grid data"
     ]
    },
    {
     "cell_type": "code",
     "collapsed": false,
     "input": [
      "%matplotlib inline\n",
      "from IPython.core.display import Image"
     ],
     "language": "python",
     "metadata": {},
     "outputs": [],
     "prompt_number": 1
    },
    {
     "cell_type": "heading",
     "level": 3,
     "metadata": {},
     "source": [
      "Let's see if we can get ncwms and sci-wms maps that look the same from COAWST output"
     ]
    },
    {
     "cell_type": "code",
     "collapsed": false,
     "input": [
      "url='http://sci-wms.whoi.edu/wms/datasets/coawst?service=WMS&request=GetMap&version=1.1.1&layers=temp&styles=pcolor_jet&format=image/png&transparent=true&height=256&width=256&colorscalerange=10,30&srs=EPSG%3A4326&BBOX=-89.8606,21.882,-67.887973988643,40.890&elevation=15'\n",
      "from IPython.core.display import Image\n",
      "Image(url=url)"
     ],
     "language": "python",
     "metadata": {},
     "outputs": [
      {
       "html": [
        "<img src=\"http://sci-wms.whoi.edu/wms/datasets/coawst?service=WMS&request=GetMap&version=1.1.1&layers=temp&styles=pcolor_jet&format=image/png&transparent=true&height=256&width=256&colorscalerange=10,30&srs=EPSG%3A4326&BBOX=-89.8606,21.882,-67.887973988643,40.890&elevation=15\"/>"
       ],
       "metadata": {},
       "output_type": "pyout",
       "prompt_number": 2,
       "text": [
        "<IPython.core.display.Image at 0x7fd5999b6410>"
       ]
      }
     ],
     "prompt_number": 2
    },
    {
     "cell_type": "code",
     "collapsed": false,
     "input": [
      "url='http://geoport-dev.whoi.edu/thredds/wms/coawst_4/use/fmrc/coawst_4_use_best.ncd?LAYERS=temp&ELEVATION=-0.03125&TRANSPARENT=true&STYLES=boxfill%2Frainbow&COLORSCALERANGE=10.0%2C30.00&LOGSCALE=false&SERVICE=WMS&VERSION=1.1.1&REQUEST=GetMap&EXCEPTIONS=application%2Fvnd.ogc.se_inimage&FORMAT=image%2Fpng&SRS=EPSG%3A4326&BBOX=-89.8606,21.882,-67.887973988643,40.890&WIDTH=256&HEIGHT=256'\n",
      "Image(url=url)"
     ],
     "language": "python",
     "metadata": {},
     "outputs": [
      {
       "html": [
        "<img src=\"http://geoport-dev.whoi.edu/thredds/wms/coawst_4/use/fmrc/coawst_4_use_best.ncd?LAYERS=temp&ELEVATION=-0.03125&TRANSPARENT=true&STYLES=boxfill%2Frainbow&COLORSCALERANGE=10.0%2C30.00&LOGSCALE=false&SERVICE=WMS&VERSION=1.1.1&REQUEST=GetMap&EXCEPTIONS=application%2Fvnd.ogc.se_inimage&FORMAT=image%2Fpng&SRS=EPSG%3A4326&BBOX=-89.8606,21.882,-67.887973988643,40.890&WIDTH=256&HEIGHT=256\"/>"
       ],
       "metadata": {},
       "output_type": "pyout",
       "prompt_number": 3,
       "text": [
        "<IPython.core.display.Image at 0x7fd5999b6310>"
       ]
      }
     ],
     "prompt_number": 3
    },
    {
     "cell_type": "heading",
     "level": 3,
     "metadata": {},
     "source": [
      "How long does the sci-wms getmap query take?"
     ]
    },
    {
     "cell_type": "code",
     "collapsed": false,
     "input": [
      "!curl -o /tmp/foo.png \"http://sci-wms.whoi.edu/wms/datasets/coawst?service=WMS&request=GetMap&version=1.1.1&layers=temp&styles=pcolor_jet&format=image/png&transparent=true&height=256&width=256&colorscalerange=10,30&srs=EPSG%3A4326&BBOX=-89.8606,21.882,-67.887973988643,40.890&elevation=15\""
     ],
     "language": "python",
     "metadata": {},
     "outputs": [
      {
       "output_type": "stream",
       "stream": "stdout",
       "text": [
        "  % Total    % Received % Xferd  Average Speed   Time    Time     Time  Current\r\n",
        "                                 Dload  Upload   Total   Spent    Left  Speed\r\n",
        "\r",
        "  0     0    0     0    0     0      0      0 --:--:-- --:--:-- --:--:--     0"
       ]
      },
      {
       "output_type": "stream",
       "stream": "stdout",
       "text": [
        "\r",
        "  0     0    0     0    0     0      0      0 --:--:-- --:--:-- --:--:--     0"
       ]
      },
      {
       "output_type": "stream",
       "stream": "stdout",
       "text": [
        "\r",
        "  0     0    0     0    0     0      0      0 --:--:--  0:00:01 --:--:--     0"
       ]
      },
      {
       "output_type": "stream",
       "stream": "stdout",
       "text": [
        "\r",
        "  0     0    0     0    0     0      0      0 --:--:--  0:00:02 --:--:--     0"
       ]
      },
      {
       "output_type": "stream",
       "stream": "stdout",
       "text": [
        "\r",
        "  0     0    0     0    0     0      0      0 --:--:--  0:00:03 --:--:--     0"
       ]
      },
      {
       "output_type": "stream",
       "stream": "stdout",
       "text": [
        "\r",
        "  0     0    0     0    0     0      0      0 --:--:--  0:00:04 --:--:--     0"
       ]
      },
      {
       "output_type": "stream",
       "stream": "stdout",
       "text": [
        "\r",
        "100 33489  100 33489    0     0   7508      0  0:00:04  0:00:04 --:--:--  7866\r\n"
       ]
      }
     ],
     "prompt_number": 4
    },
    {
     "cell_type": "heading",
     "level": 3,
     "metadata": {},
     "source": [
      "How long does the ncWMS getmap query take?"
     ]
    },
    {
     "cell_type": "code",
     "collapsed": false,
     "input": [
      "!curl -o /tmp/foo2.png \"http://geoport-dev.whoi.edu/thredds/wms/coawst_4/use/fmrc/coawst_4_use_best.ncd?LAYERS=temp&ELEVATION=-0.03125&TRANSPARENT=true&STYLES=boxfill%2Frainbow&COLORSCALERANGE=10.0%2C30.00&LOGSCALE=false&SERVICE=WMS&VERSION=1.1.1&REQUEST=GetMap&EXCEPTIONS=application%2Fvnd.ogc.se_inimage&FORMAT=image%2Fpng&SRS=EPSG%3A4326&BBOX=-89.8606,21.882,-67.887973988643,40.890&WIDTH=256&HEIGHT=256\""
     ],
     "language": "python",
     "metadata": {},
     "outputs": [
      {
       "output_type": "stream",
       "stream": "stdout",
       "text": [
        "  % Total    % Received % Xferd  Average Speed   Time    Time     Time  Current\r\n",
        "                                 Dload  Upload   Total   Spent    Left  Speed\r\n",
        "\r",
        "  0     0    0     0    0     0      0      0 --:--:-- --:--:-- --:--:--     0"
       ]
      },
      {
       "output_type": "stream",
       "stream": "stdout",
       "text": [
        "\r",
        "  0     0    0     0    0     0      0      0 --:--:--  0:00:01 --:--:--     0"
       ]
      },
      {
       "output_type": "stream",
       "stream": "stdout",
       "text": [
        "\r",
        "100 18386    0 18386    0     0  14263      0 --:--:--  0:00:01 --:--:-- 14285\r\n"
       ]
      }
     ],
     "prompt_number": 5
    },
    {
     "cell_type": "heading",
     "level": 3,
     "metadata": {},
     "source": [
      "So on this test, sci-wms is much slower"
     ]
    },
    {
     "cell_type": "markdown",
     "metadata": {},
     "source": [
      "Kyle points out [here](https://github.com/sci-wms/sci-wms/issues/96#issuecomment-152262018) that the slowness in sci-wms might come from OPeNDAP rather than local file access.   Let's check that out."
     ]
    },
    {
     "cell_type": "heading",
     "level": 3,
     "metadata": {},
     "source": [
      "Try NetCDF4 with OPeNDAP"
     ]
    },
    {
     "cell_type": "code",
     "collapsed": false,
     "input": [
      "%%timeit\n",
      "from netCDF4 import Dataset\n",
      "url = 'http://geoport-dev.whoi.edu/thredds/dodsC/coawst_4/use/fmrc/coawst_4_use_best.ncd'\n",
      "nc = Dataset(url)\n",
      "ncv = nc.variables\n",
      "t = ncv['temp'][-1,-1,:,:]\n",
      "lon = ncv['lon_rho'][:,:]\n",
      "lat = ncv['lat_rho'][:,:]"
     ],
     "language": "python",
     "metadata": {},
     "outputs": [
      {
       "output_type": "stream",
       "stream": "stdout",
       "text": [
        "1 loops, best of 3: 4.75 s per loop\n"
       ]
      }
     ],
     "prompt_number": 6
    },
    {
     "cell_type": "heading",
     "level": 3,
     "metadata": {},
     "source": [
      "Try NetCDF4 with local file"
     ]
    },
    {
     "cell_type": "code",
     "collapsed": false,
     "input": [
      "%%timeit\n",
      "from netCDF4 import Dataset\n",
      "url = '/usgs/vault0/coawst/coawst_4/Output/use/coawst_us_20151029_13.nc'\n",
      "nc = Dataset(url)\n",
      "ncv = nc.variables\n",
      "t = ncv['temp'][-1,-1,:,:]\n",
      "lon = ncv['lon_rho'][:,:]\n",
      "lat = ncv['lat_rho'][:,:]"
     ],
     "language": "python",
     "metadata": {},
     "outputs": [
      {
       "output_type": "stream",
       "stream": "stdout",
       "text": [
        "10 loops, best of 3: 85.8 ms per loop\n"
       ]
      }
     ],
     "prompt_number": 7
    },
    {
     "cell_type": "heading",
     "level": 3,
     "metadata": {},
     "source": [
      "Try Siphon with CDMRemote"
     ]
    },
    {
     "cell_type": "code",
     "collapsed": false,
     "input": [
      "%%timeit\n",
      "from siphon.cdmr import Dataset\n",
      "url='http://geoport-dev.whoi.edu/thredds/cdmremote/coawst_4/use/fmrc/coawst_4_use_best.ncd'\n",
      "ds = Dataset(url)\n",
      "ncv = ds.variables\n",
      "t = ncv['temp'][-1,-1,:,:]\n",
      "lon = ncv['lon_rho'][:,:]\n",
      "lat = ncv['lat_rho'][:,:]"
     ],
     "language": "python",
     "metadata": {},
     "outputs": [
      {
       "output_type": "stream",
       "stream": "stdout",
       "text": [
        "1 loops, best of 3: 2.77 s per loop\n"
       ]
      }
     ],
     "prompt_number": 8
    },
    {
     "cell_type": "markdown",
     "metadata": {},
     "source": [
      "Conclusion: Since sci-wms uses OPeNDAP, it can't compete with ncWMS local file reads.  However, CDMRemote is faster than OPeNDAP on this test.  We could check for CDMRemote and use it if is exists. "
     ]
    },
    {
     "cell_type": "code",
     "collapsed": false,
     "input": [],
     "language": "python",
     "metadata": {},
     "outputs": [],
     "prompt_number": 8
    }
   ],
   "metadata": {}
  }
 ]
}