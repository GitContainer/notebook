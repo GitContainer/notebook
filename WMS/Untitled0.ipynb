{
 "metadata": {
  "name": "",
  "signature": "sha256:75ecf56b38fbe908bd5386d0137ff783bc453e1d5eb9490d2b4371f43ba2fcb5"
 },
 "nbformat": 3,
 "nbformat_minor": 0,
 "worksheets": [
  {
   "cells": [
    {
     "cell_type": "code",
     "collapsed": false,
     "input": [
      "%matplotlib inline"
     ],
     "language": "python",
     "metadata": {},
     "outputs": [],
     "prompt_number": 1
    },
    {
     "cell_type": "code",
     "collapsed": false,
     "input": [
      "http://sci-wms.whoi.edu/wms/datasets/coawst?service=WMS&request=GetMap&version=1.1.1&layers=temp&styles=filledcontours_jet&NUMCONTOURS=64&format=image/png&transparent=true&height=256&width=256&colorscalerange=0,1&srs=EPSG:3857&bbox=-10018754.171394622,2504688.5428486555,-7514065.628545966,5009377.085697313&elevation=15"
     ],
     "language": "python",
     "metadata": {},
     "outputs": []
    }
   ],
   "metadata": {}
  }
 ]
}