{
 "cells": [
  {
   "cell_type": "markdown",
   "metadata": {},
   "source": [
    "# Test out standardized ADCIRC, SELFE and FVCOM  datasets with pyugrid, IRIS and Cartopy"
   ]
  },
  {
   "cell_type": "markdown",
   "metadata": {},
   "source": [
    "The datasets being accessed here are NetCDF files from ADCIRC, SELFE and FVCOM, with attributes added or modified virtually using NcML to meet the [UGRID conevntions standard for unstructured grid models](https://github.com/ugrid-conventions/ugrid-conventions/blob/v0.9.0/ugrid-conventions.md). \n",
    "\n",
    "This example was developed for the Integrated Ocean Observing System (IOOS) Coastal and Ocean Modeling Testbed. \n",
    "\n",
    "You can quickly and easily [set up the IOOS Anaconda python environment that can run this notebook](https://github.com/ioos/conda-recipes/wiki)."
   ]
  },
  {
   "cell_type": "code",
   "execution_count": 1,
   "metadata": {
    "collapsed": false
   },
   "outputs": [],
   "source": [
    "%matplotlib inline\n",
    "from __future__ import (absolute_import, division, print_function)\n",
    "import numpy as np\n",
    "import matplotlib.tri as tri\n",
    "import datetime as dt\n",
    "import matplotlib.pyplot as plt"
   ]
  },
  {
   "cell_type": "code",
   "execution_count": 2,
   "metadata": {
    "collapsed": false
   },
   "outputs": [],
   "source": [
    "import cartopy.crs as ccrs\n",
    "import iris\n",
    "iris.FUTURE.netcdf_promote = True\n",
    "import pyugrid"
   ]
  },
  {
   "cell_type": "code",
   "execution_count": 3,
   "metadata": {
    "collapsed": false
   },
   "outputs": [],
   "source": [
    "# specify UGRID compliant OPeNDAP Data URL\n",
    "\n",
    "#ADCIRC\n",
    "url = 'http://comt.sura.org/thredds/dodsC/data/comt_1_archive/inundation_tropical/UND_ADCIRC/Hurricane_Rita_2D_final_run_without_waves'\n",
    "\n",
    "#FVCOM\n",
    "#url = 'http://comt.sura.org/thredds/dodsC/data/comt_1_archive/inundation_tropical/USF_FVCOM/Hurricane_Rita_2D_final_run_without_waves'\n",
    "\n",
    "#SELFE\n",
    "#url = 'http://comt.sura.org/thredds/dodsC/data/comt_1_archive/inundation_tropical/VIMS_SELFE/Hurricane_Rita_2D_final_run_without_waves'\n",
    "\n",
    "# set parameters\n",
    "bbox = [-95, -85, 27, 32]                  # set the bounding box [lon_min, lon_max, lat_min, lat_max]\n",
    "var = 'sea_surface_height_above_geoid'     # standard_name (or long_name, if no standard_name)\n",
    "levs = np.arange(-1,5.0,.2)                # set the contour levels\n",
    "start = dt.datetime(2005, 9, 24, 5, 0, 0)  # time in UTC\n",
    "#start = dt.datetime.utcnow() + dt.timedelta(hours=6)"
   ]
  },
  {
   "cell_type": "code",
   "execution_count": 4,
   "metadata": {
    "collapsed": false,
    "scrolled": true
   },
   "outputs": [
    {
     "name": "stderr",
     "output_type": "stream",
     "text": [
      "C:\\Users\\rsignell\\AppData\\Local\\Continuum\\Miniconda2\\envs\\IOOS\\lib\\site-packages\\iris\\fileformats\\_pyke_rules\\compiled_krb\\fc_rules_cf_fc.py:1304: UserWarning: Ignoring netCDF variable u'wind_max' invalid units u'metric'\n",
      "  warnings.warn(msg.encode('ascii', errors='backslashreplace'))\n",
      "C:\\Users\\rsignell\\AppData\\Local\\Continuum\\Miniconda2\\envs\\IOOS\\lib\\site-packages\\iris\\fileformats\\_pyke_rules\\compiled_krb\\fc_rules_cf_fc.py:1304: UserWarning: Ignoring netCDF variable u'radstress_max' invalid units u'metric'\n",
      "  warnings.warn(msg.encode('ascii', errors='backslashreplace'))\n",
      "C:\\Users\\rsignell\\AppData\\Local\\Continuum\\Miniconda2\\envs\\IOOS\\lib\\site-packages\\iris\\fileformats\\_pyke_rules\\compiled_krb\\fc_rules_cf_fc.py:1304: UserWarning: Ignoring netCDF variable u'zeta_max' invalid units u'metric'\n",
      "  warnings.warn(msg.encode('ascii', errors='backslashreplace'))\n",
      "C:\\Users\\rsignell\\AppData\\Local\\Continuum\\Miniconda2\\envs\\IOOS\\lib\\site-packages\\iris\\fileformats\\_pyke_rules\\compiled_krb\\fc_rules_cf_fc.py:1304: UserWarning: Ignoring netCDF variable u'nbdv' invalid units u'nondimensional'\n",
      "  warnings.warn(msg.encode('ascii', errors='backslashreplace'))\n",
      "C:\\Users\\rsignell\\AppData\\Local\\Continuum\\Miniconda2\\envs\\IOOS\\lib\\site-packages\\iris\\fileformats\\_pyke_rules\\compiled_krb\\fc_rules_cf_fc.py:1304: UserWarning: Ignoring netCDF variable u'pressure' invalid units u'meters of water'\n",
      "  warnings.warn(msg.encode('ascii', errors='backslashreplace'))\n",
      "C:\\Users\\rsignell\\AppData\\Local\\Continuum\\Miniconda2\\envs\\IOOS\\lib\\site-packages\\iris\\fileformats\\_pyke_rules\\compiled_krb\\fc_rules_cf_fc.py:1304: UserWarning: Ignoring netCDF variable u'ibtype' invalid units u'nondimensional'\n",
      "  warnings.warn(msg.encode('ascii', errors='backslashreplace'))\n",
      "C:\\Users\\rsignell\\AppData\\Local\\Continuum\\Miniconda2\\envs\\IOOS\\lib\\site-packages\\iris\\fileformats\\_pyke_rules\\compiled_krb\\fc_rules_cf_fc.py:1304: UserWarning: Ignoring netCDF variable u'pressure_min' invalid units u'meters of water'\n",
      "  warnings.warn(msg.encode('ascii', errors='backslashreplace'))\n",
      "C:\\Users\\rsignell\\AppData\\Local\\Continuum\\Miniconda2\\envs\\IOOS\\lib\\site-packages\\iris\\fileformats\\_pyke_rules\\compiled_krb\\fc_rules_cf_fc.py:1304: UserWarning: Ignoring netCDF variable u'u-vel' invalid units u'metric'\n",
      "  warnings.warn(msg.encode('ascii', errors='backslashreplace'))\n",
      "C:\\Users\\rsignell\\AppData\\Local\\Continuum\\Miniconda2\\envs\\IOOS\\lib\\site-packages\\iris\\fileformats\\_pyke_rules\\compiled_krb\\fc_rules_cf_fc.py:1304: UserWarning: Ignoring netCDF variable u'element' invalid units u'nondimensional'\n",
      "  warnings.warn(msg.encode('ascii', errors='backslashreplace'))\n",
      "C:\\Users\\rsignell\\AppData\\Local\\Continuum\\Miniconda2\\envs\\IOOS\\lib\\site-packages\\iris\\fileformats\\_pyke_rules\\compiled_krb\\fc_rules_cf_fc.py:1304: UserWarning: Ignoring netCDF variable u'ibtypee' invalid units u'nondimensional'\n",
      "  warnings.warn(msg.encode('ascii', errors='backslashreplace'))\n",
      "C:\\Users\\rsignell\\AppData\\Local\\Continuum\\Miniconda2\\envs\\IOOS\\lib\\site-packages\\iris\\fileformats\\_pyke_rules\\compiled_krb\\fc_rules_cf_fc.py:1304: UserWarning: Ignoring netCDF variable u'windy' invalid units u'metric'\n",
      "  warnings.warn(msg.encode('ascii', errors='backslashreplace'))\n",
      "C:\\Users\\rsignell\\AppData\\Local\\Continuum\\Miniconda2\\envs\\IOOS\\lib\\site-packages\\iris\\fileformats\\_pyke_rules\\compiled_krb\\fc_rules_cf_fc.py:1304: UserWarning: Ignoring netCDF variable u'windx' invalid units u'metric'\n",
      "  warnings.warn(msg.encode('ascii', errors='backslashreplace'))\n",
      "C:\\Users\\rsignell\\AppData\\Local\\Continuum\\Miniconda2\\envs\\IOOS\\lib\\site-packages\\iris\\fileformats\\_pyke_rules\\compiled_krb\\fc_rules_cf_fc.py:1304: UserWarning: Ignoring netCDF variable u'nvell' invalid units u'nondimensional'\n",
      "  warnings.warn(msg.encode('ascii', errors='backslashreplace'))\n",
      "C:\\Users\\rsignell\\AppData\\Local\\Continuum\\Miniconda2\\envs\\IOOS\\lib\\site-packages\\iris\\fileformats\\_pyke_rules\\compiled_krb\\fc_rules_cf_fc.py:1304: UserWarning: Ignoring netCDF variable u'v-vel' invalid units u'metric'\n",
      "  warnings.warn(msg.encode('ascii', errors='backslashreplace'))\n",
      "C:\\Users\\rsignell\\AppData\\Local\\Continuum\\Miniconda2\\envs\\IOOS\\lib\\site-packages\\iris\\fileformats\\_pyke_rules\\compiled_krb\\fc_rules_cf_fc.py:1304: UserWarning: Ignoring netCDF variable u'vel_max' invalid units u'metric'\n",
      "  warnings.warn(msg.encode('ascii', errors='backslashreplace'))\n",
      "C:\\Users\\rsignell\\AppData\\Local\\Continuum\\Miniconda2\\envs\\IOOS\\lib\\site-packages\\iris\\fileformats\\_pyke_rules\\compiled_krb\\fc_rules_cf_fc.py:1304: UserWarning: Ignoring netCDF variable u'nbvv' invalid units u'nondimensional'\n",
      "  warnings.warn(msg.encode('ascii', errors='backslashreplace'))\n",
      "C:\\Users\\rsignell\\AppData\\Local\\Continuum\\Miniconda2\\envs\\IOOS\\lib\\site-packages\\iris\\fileformats\\_pyke_rules\\compiled_krb\\fc_rules_cf_fc.py:1304: UserWarning: Ignoring netCDF variable u'zeta' invalid units u'metric'\n",
      "  warnings.warn(msg.encode('ascii', errors='backslashreplace'))\n",
      "C:\\Users\\rsignell\\AppData\\Local\\Continuum\\Miniconda2\\envs\\IOOS\\lib\\site-packages\\iris\\fileformats\\_pyke_rules\\compiled_krb\\fc_rules_cf_fc.py:1304: UserWarning: Ignoring netCDF variable u'nvdll' invalid units u'nondimensional'\n",
      "  warnings.warn(msg.encode('ascii', errors='backslashreplace'))\n"
     ]
    }
   ],
   "source": [
    "cube = iris.load_cube(url,var)"
   ]
  },
  {
   "cell_type": "code",
   "execution_count": 5,
   "metadata": {
    "collapsed": false
   },
   "outputs": [
    {
     "name": "stdout",
     "output_type": "stream",
     "text": [
      "sea_surface_height_above_geoid / (unknown) (time: 1728; -- : 417642)\n",
      "     Dimension coordinates:\n",
      "          time                                  x          -\n",
      "     Auxiliary coordinates:\n",
      "          latitude                              -          x\n",
      "          longitude                             -          x\n",
      "     Attributes:\n",
      "          Conventions: CF-1.6, UGRID-0.9\n",
      "          DODS_EXTRA.Unlimited_Dimension: time\n",
      "          a00: 0.35\n",
      "          agrid: grid\n",
      "          b00: 0.3\n",
      "          c00: 0.35\n",
      "          cdm_data_type: ugrid\n",
      "          cf: 0.0\n",
      "          comments: None\n",
      "          contact: Rick Leuttich, UNC\n",
      "          convention: None\n",
      "          cori: 0.0\n",
      "          creation_date: 2013-01-26 15:35:41 -05:00\n",
      "          description: TropUL_SURA_Rita_Tides_Winds      ! 32 CHARACTER ALPHANUMERIC RUN DESC...\n",
      "          dramp: 12.0\n",
      "          dt: 4.0\n",
      "          eslm: 50.0\n",
      "          fort.15: ==== Input File Parameters (below) ====\n",
      "          grid_type: Triangular\n",
      "          h0: 0.1\n",
      "          history: Version 1\n",
      "          host: SURA\n",
      "          ics: 2\n",
      "          id: inundation_tropical.UND_ADCIRC.Hurricane_Rita_2D_final_run_without_wav...\n",
      "          ihot: 68\n",
      "          institution: University of Notre Dame\n",
      "          invalid_units: metric\n",
      "          location: node\n",
      "          mesh: adcirc_mesh\n",
      "          model: ADCIRC\n",
      "          modification_date: 2013-01-26 21:31:25 -05:00\n",
      "          nbfr: 8\n",
      "          ncmlFile: /data/comt_1_archive/inundation_tropical/UND_ADCIRC/Hurricane_Rita_2D_...\n",
      "          ncor: 1\n",
      "          nolibf: 1\n",
      "          nolica: 1\n",
      "          nolicat: 1\n",
      "          nolifa: 2\n",
      "          nramp: 2\n",
      "          ntif: 8\n",
      "          ntip: 1\n",
      "          nwp: 8\n",
      "          nws: -12\n",
      "          references: None\n",
      "          reftim: 0.0\n",
      "          rnday: 48.0\n",
      "          sfea0: 29.0\n",
      "          slam0: 265.5\n",
      "          source: ADCIRC on ZAS\n",
      "          statim: 0.0\n",
      "          summary: A 2D hindcast of Hurricane Rita (2005) using ADCIRC on the ULLR mesh (does...\n",
      "          tau0: -3.0\n",
      "          title: Inundation Tropical : UND : ADCIRC : Hurricane Rita 2D final run without...\n",
      "          version: 51.03\n"
     ]
    }
   ],
   "source": [
    "print(cube)"
   ]
  },
  {
   "cell_type": "code",
   "execution_count": null,
   "metadata": {
    "collapsed": false
   },
   "outputs": [],
   "source": [
    "ug = pyugrid.UGrid.from_ncfile(url)\n",
    "\n",
    "# What's in there?\n",
    "#print(\"There are %i nodes\"%ug.nodes.shape[0])\n",
    "#print(\"There are %i edges\"%ug.edges.shape[0])\n",
    "#print(\"There are %i faces\"%ug.faces.shape[0])"
   ]
  },
  {
   "cell_type": "code",
   "execution_count": null,
   "metadata": {
    "collapsed": false
   },
   "outputs": [],
   "source": [
    "cube.mesh = ug\n",
    "cube.mesh_dimension = 1  # (0:time,1:node)"
   ]
  },
  {
   "cell_type": "code",
   "execution_count": null,
   "metadata": {
    "collapsed": false
   },
   "outputs": [],
   "source": [
    "lon = cube.mesh.nodes[:,0]\n",
    "lat = cube.mesh.nodes[:,1]\n",
    "nv = cube.mesh.faces"
   ]
  },
  {
   "cell_type": "code",
   "execution_count": null,
   "metadata": {
    "collapsed": false
   },
   "outputs": [],
   "source": [
    "triang = tri.Triangulation(lon,lat,triangles=nv)"
   ]
  },
  {
   "cell_type": "code",
   "execution_count": null,
   "metadata": {
    "collapsed": true
   },
   "outputs": [],
   "source": [
    "tvar = cube.coord('time')\n",
    "itime = tvar.nearest_neighbour_index(tvar.units.date2num(start))"
   ]
  },
  {
   "cell_type": "code",
   "execution_count": null,
   "metadata": {
    "collapsed": false
   },
   "outputs": [],
   "source": [
    "zcube = cube[itime]"
   ]
  },
  {
   "cell_type": "code",
   "execution_count": null,
   "metadata": {
    "collapsed": false
   },
   "outputs": [],
   "source": [
    "plt.figure(figsize=(16,6))\n",
    "ax = plt.axes(projection=ccrs.PlateCarree())\n",
    "ax.set_extent(bbox)\n",
    "ax.coastlines()\n",
    "plt.tricontourf(triang, zcube.data, levels=levs)\n",
    "plt.colorbar(fraction=0.046, pad=0.04)\n",
    "plt.tricontour(triang, zcube.data, colors='k',levels=levs)\n",
    "tstr = tvar.units.num2date(tvar.points[itime])\n",
    "gl = ax.gridlines(draw_labels=True)\n",
    "gl.xlabels_top = False\n",
    "gl.ylabels_right = False\n",
    "plt.title('%s: %s: %s' % (var,tstr,zcube.attributes['title']));"
   ]
  },
  {
   "cell_type": "code",
   "execution_count": null,
   "metadata": {
    "collapsed": false
   },
   "outputs": [],
   "source": []
  }
 ],
 "metadata": {
  "gist_id": "",
  "kernelspec": {
   "display_name": "Python 2",
   "language": "python",
   "name": "python2"
  },
  "language_info": {
   "codemirror_mode": {
    "name": "ipython",
    "version": 2
   },
   "file_extension": ".py",
   "mimetype": "text/x-python",
   "name": "python",
   "nbconvert_exporter": "python",
   "pygments_lexer": "ipython2",
   "version": "2.7.11"
  }
 },
 "nbformat": 4,
 "nbformat_minor": 0
}
