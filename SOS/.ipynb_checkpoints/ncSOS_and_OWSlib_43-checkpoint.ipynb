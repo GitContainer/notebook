{
 "metadata": {
  "gist_id": "8d9c1ffcc51aeda69276",
  "name": "",
  "signature": "sha256:4b2eaa525b05fd1a4431e85441815d661597720c4426489e8c9d4c1978d2a917"
 },
 "nbformat": 3,
 "nbformat_minor": 0,
 "worksheets": [
  {
   "cells": [
    {
     "cell_type": "heading",
     "level": 1,
     "metadata": {},
     "source": [
      "Accessing ncSOS 1.0 on TDS 4.3 with OWSLib"
     ]
    },
    {
     "cell_type": "code",
     "collapsed": false,
     "input": [
      "from owslib.sos import SensorObservationService\n",
      "from owslib.etree import etree\n",
      "import pandas as pd\n",
      "import datetime as dt\n",
      "import matplotlib.pyplot as plt\n",
      "import numpy as np\n",
      "%matplotlib inline"
     ],
     "language": "python",
     "metadata": {},
     "outputs": [],
     "prompt_number": 13
    },
    {
     "cell_type": "code",
     "collapsed": false,
     "input": [
      "# usgs woods hole\n",
      "# regular time series data \n",
      "url='http://geoport.whoi.edu/thredds/sos/usgs/data2/emontgomery/stellwagen/CF-1.6/BUZZ_BAY/2651-A.cdf'\n",
      "usgs = SensorObservationService(url)\n",
      "contents = usgs.contents"
     ],
     "language": "python",
     "metadata": {},
     "outputs": [],
     "prompt_number": 14
    },
    {
     "cell_type": "code",
     "collapsed": false,
     "input": [
      "usgs.contents"
     ],
     "language": "python",
     "metadata": {},
     "outputs": [
      {
       "metadata": {},
       "output_type": "pyout",
       "prompt_number": 15,
       "text": [
        "{'network-all': <owslib.swe.observation.sos100.SosObservationOffering at 0x7f71a05f7d50>,\n",
        " 'urn_ioos_station_gov.usgs.cmgp_2651-A': <owslib.swe.observation.sos100.SosObservationOffering at 0x7f71a05f7e50>}"
       ]
      }
     ],
     "prompt_number": 15
    },
    {
     "cell_type": "code",
     "collapsed": false,
     "input": [
      "off = usgs.offerings[1]\n",
      "off.name"
     ],
     "language": "python",
     "metadata": {},
     "outputs": [
      {
       "metadata": {},
       "output_type": "pyout",
       "prompt_number": 16,
       "text": [
        "'urn:ioos:station:gov.usgs.cmgp:2651-A'"
       ]
      }
     ],
     "prompt_number": 16
    },
    {
     "cell_type": "code",
     "collapsed": false,
     "input": [
      "off.response_formats"
     ],
     "language": "python",
     "metadata": {},
     "outputs": [
      {
       "metadata": {},
       "output_type": "pyout",
       "prompt_number": 17,
       "text": [
        "['text/xml;schema=\"om/1.0.0\"',\n",
        " 'text/xml;schema=\"om/1.0.0/profiles/ioos_sos/1.0\"']"
       ]
      }
     ],
     "prompt_number": 17
    },
    {
     "cell_type": "code",
     "collapsed": false,
     "input": [
      "off.observed_properties"
     ],
     "language": "python",
     "metadata": {},
     "outputs": [
      {
       "metadata": {},
       "output_type": "pyout",
       "prompt_number": 18,
       "text": [
        "['urn:ioos:sensor:gov.usgs.cmgp:2651-A:NEP_56',\n",
        " 'urn:ioos:sensor:gov.usgs.cmgp:2651-A:P',\n",
        " 'urn:ioos:sensor:gov.usgs.cmgp:2651-A:SDP_850',\n",
        " 'urn:ioos:sensor:gov.usgs.cmgp:2651-A:T_20',\n",
        " 'urn:ioos:sensor:gov.usgs.cmgp:2651-A:V00_1900',\n",
        " 'urn:ioos:sensor:gov.usgs.cmgp:2651-A:V01_1901',\n",
        " 'urn:ioos:sensor:gov.usgs.cmgp:2651-A:V02_1902',\n",
        " 'urn:ioos:sensor:gov.usgs.cmgp:2651-A:rtrn_4012']"
       ]
      }
     ],
     "prompt_number": 18
    },
    {
     "cell_type": "code",
     "collapsed": false,
     "input": [
      "#pdb.set_trace()\n",
      "response = usgs.get_observation(offerings=['2651-A'],\n",
      "                                 responseFormat='text/xml;schema=\"om/1.0.0\"',\n",
      "                                 observedProperties=['T_20'],\n",
      "                                 procedure='urn:ioos:sensor:gov.usgs.cmgp:2651-A')"
     ],
     "language": "python",
     "metadata": {},
     "outputs": [],
     "prompt_number": 19
    },
    {
     "cell_type": "code",
     "collapsed": false,
     "input": [
      "print response[0:2000]"
     ],
     "language": "python",
     "metadata": {},
     "outputs": [
      {
       "output_type": "stream",
       "stream": "stdout",
       "text": [
        "<?xml version=\"1.0\" encoding=\"UTF-8\"?>\r\n",
        "<om:ObservationCollection xmlns:om=\"http://www.opengis.net/om/1.0\" xmlns:xsi=\"http://www.w3.org/2001/XMLSchema-instance\" xmlns:xlink=\"http://www.w3.org/1999/xlink\" xmlns:gml=\"http://www.opengis.net/gml\" xmlns:swe=\"http://www.opengis.net/swe/1.0\" xsi:schemaLocation=\"http://www.opengis.net/om/1.0 http://schemas.opengis.net/om/1.0.0/observation.xsd\">\r\n",
        "  <gml:description>2651-A         start time = 20 Aug 1982  11:31:52  cycles = 27617\r\n",
        "               stop  time = 31 Oct 1982  09:31:52  # days = 71\r\n",
        "Expt. = 'USGS'  sampling interval = 3.75 minutes\r\n",
        "Lat =  41.650890\r\n",
        "Lon = -70.687553  File created:  10:01 SEP  1,'87\r\n",
        "depth = 14m  Mag.var = -15.000000\r\n",
        "#  Variable     Units        Codes Depth   Inst.   Minimum   Maximum\r\n",
        "-- ------------ ------------ ----- ------- ------ --------- ---------\r\n",
        " 1 TIME         SECONDS      T     \r\n",
        " 2 TEMPERATURE  DEG.CELC     R       13.00           12.436    21.954\r\n",
        " 3 PRESSURE-I   MILLIBARS    R       13.00         2018.077  2204.906\r\n",
        " 4 PRESSURE-B   MILLIBARS    R       13.00         2017.956  2204.963\r\n",
        " 5 PSDEV                     R       13.00            0.000    10.370\r\n",
        " 6 TRANSON      VOLTS        R       13.00           -0.001     4.996\r\n",
        " 7 EXT_COEF                  R       13.00            0.003    24.858\r\n",
        " 8 TRANSOFF     VOLTS        R       13.00           -0.203     4.996\r\n",
        " 9 NEPHON       VOLTS        R       13.00            0.277     4.996\r\n",
        "10 NEPHOFF      VOLTS        R       13.00            0.241     4.996\r\n",
        "---------------------------------------------------------------------\r\n",
        " Comments:                                                      MATHOP\r\n",
        " BUZZARDS BAY VARIABLES LISTED IN ORDER SHOWN ABOVE</gml:description>\r\n",
        "  <gml:name>BUZZ_BAY (265)</gml:name>\r\n",
        "  <gml:boundedBy>\r\n",
        "    <gml:Envelope srsName=\"EPSG:4326\">\r\n",
        "      <!-- overwrite these with your actual offering ROI -->\r\n",
        "      <gml:lowerCorner>41.6508903503418 -70.68755340576172</gml:lowerCorner>\r\n",
        "      <gml:upperCorner>41.6508903503\n"
       ]
      }
     ],
     "prompt_number": 20
    },
    {
     "cell_type": "code",
     "collapsed": false,
     "input": [
      "def parse_om_xml(response):\n",
      "    # extract data and time from OM-XML response\n",
      "    root = etree.fromstring(response)\n",
      "    # root.findall(\".//{%(om)s}Observation\" % root.nsmap )\n",
      "    values = root.find(\".//{%(swe)s}values\" % root.nsmap )\n",
      "    date_value = np.array( [ (dt.datetime.strptime(d,\"%Y-%m-%dT%H:%M:%SZ\"),float(v))\n",
      "            for d,v in [l.split(',') for l in values.text.split()]] )\n",
      "    time = date_value[:,0]\n",
      "    data = date_value[:,1]\n",
      "    return data,time"
     ],
     "language": "python",
     "metadata": {},
     "outputs": [],
     "prompt_number": 21
    },
    {
     "cell_type": "code",
     "collapsed": false,
     "input": [
      "data, time = parse_om_xml(response)"
     ],
     "language": "python",
     "metadata": {},
     "outputs": [],
     "prompt_number": 22
    },
    {
     "cell_type": "code",
     "collapsed": false,
     "input": [
      "ts = pd.Series(data,index=time)"
     ],
     "language": "python",
     "metadata": {},
     "outputs": [],
     "prompt_number": 23
    },
    {
     "cell_type": "code",
     "collapsed": false,
     "input": [
      "ts.plot(figsize=(12,4));"
     ],
     "language": "python",
     "metadata": {},
     "outputs": [
      {
       "metadata": {},
       "output_type": "display_data",
       "png": "[encoded data removed]",
       "text": [
        "<matplotlib.figure.Figure at 0x7f71a05acb50>"
       ]
      }
     ],
     "prompt_number": 26
    },
    {
     "cell_type": "heading",
     "level": 2,
     "metadata": {},
     "source": [
      "Try adding a subset on time:"
     ]
    },
    {
     "cell_type": "code",
     "collapsed": false,
     "input": [
      "start = '1982-10-01T00:00:00Z'\n",
      "stop = '1982-10-04T00:00:00Z'\n",
      "response = usgs.get_observation(offerings=['2651-A'],\n",
      "                                 responseFormat='text/xml;schema=\"om/1.0.0\"',\n",
      "                                 observedProperties=['T_20'],\n",
      "                                 procedure='urn:ioos:sensor:gov.usgs.cmgp:2651-A',\n",
      "                                 eventTime='%s/%s' % (start,stop))"
     ],
     "language": "python",
     "metadata": {},
     "outputs": [],
     "prompt_number": 27
    },
    {
     "cell_type": "code",
     "collapsed": false,
     "input": [
      "data, time = parse_om_xml(response)\n",
      "ts = pd.Series(data,index=time)\n",
      "ts.plot(figsize=(12,4));"
     ],
     "language": "python",
     "metadata": {},
     "outputs": [
      {
       "metadata": {},
       "output_type": "display_data",
       "png": "[encoded data removed]",
       "text": [
        "<matplotlib.figure.Figure at 0x7f71a05475d0>"
       ]
      }
     ],
     "prompt_number": 28
    },
    {
     "cell_type": "code",
     "collapsed": false,
     "input": [],
     "language": "python",
     "metadata": {},
     "outputs": []
    }
   ],
   "metadata": {}
  }
 ]
}