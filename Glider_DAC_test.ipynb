{
 "metadata": {
  "name": "",
  "signature": "sha256:5ee71bf4a9ea0bdd6e593d4cb2b219dfa455cc086e2d593350920513f4697e54"
 },
 "nbformat": 3,
 "nbformat_minor": 0,
 "worksheets": [
  {
   "cells": [
    {
     "cell_type": "heading",
     "level": 1,
     "metadata": {},
     "source": [
      "Testing Glider DAC access in Python"
     ]
    },
    {
     "cell_type": "code",
     "collapsed": false,
     "input": [
      "import numpy as np\n",
      "import matplotlib.pyplot as plt\n",
      "import netCDF4\n",
      "import numpy.ma as ma\n",
      "import seawater\n",
      "%matplotlib inline"
     ],
     "language": "python",
     "metadata": {},
     "outputs": [],
     "prompt_number": 1
    },
    {
     "cell_type": "markdown",
     "metadata": {},
     "source": [
      "This is a url from Kerfooot's TDS server, using the multidimensional NetCDF datasets created by a private ERDDAP instance.  These multidimensonal datasets are also available from ERDDAP, along with a flattened NetCDF representation and a ragged NetCDF representation.\n",
      "\n",
      "The glider ERDDAP is here:\n",
      "http://erddap.marine.rutgers.edu/erddap\n",
      "\n",
      "The glider TDS is here: http://tds.marine.rutgers.edu:8080/thredds/catalog/cool/glider/all/catalog.html"
     ]
    },
    {
     "cell_type": "code",
     "collapsed": false,
     "input": [
      "url = 'http://tds.marine.rutgers.edu:8080/thredds/dodsC/cool/glider/all/ru22-20130924T2010.ncCFMA.nc3.nc'"
     ],
     "language": "python",
     "metadata": {},
     "outputs": [],
     "prompt_number": 2
    },
    {
     "cell_type": "code",
     "collapsed": false,
     "input": [
      "nc = netCDF4.Dataset(url)\n",
      "ncv = nc.variables"
     ],
     "language": "python",
     "metadata": {},
     "outputs": [],
     "prompt_number": 3
    },
    {
     "cell_type": "code",
     "collapsed": false,
     "input": [
      "ncv.keys()"
     ],
     "language": "python",
     "metadata": {},
     "outputs": [
      {
       "metadata": {},
       "output_type": "pyout",
       "prompt_number": 4,
       "text": [
        "[u'trajectory',\n",
        " u'wmo_id',\n",
        " u'profile_id',\n",
        " u'time',\n",
        " u'latitude',\n",
        " u'longitude',\n",
        " u'time_uv',\n",
        " u'lat_uv',\n",
        " u'lon_uv',\n",
        " u'u',\n",
        " u'v',\n",
        " u'precise_time',\n",
        " u'depth',\n",
        " u'pressure',\n",
        " u'temperature',\n",
        " u'conductivity',\n",
        " u'salinity',\n",
        " u'density',\n",
        " u'precise_lat',\n",
        " u'precise_lon',\n",
        " u'platform_meta',\n",
        " u'instrument_ctd',\n",
        " u'precise_time_qc',\n",
        " u'depth_qc',\n",
        " u'pressure_qc',\n",
        " u'temperature_qc',\n",
        " u'conductivity_qc',\n",
        " u'salinity_qc',\n",
        " u'density_qc',\n",
        " u'precise_lat_qc',\n",
        " u'precise_lon_qc',\n",
        " u'time_qc',\n",
        " u'latitude_qc',\n",
        " u'longitude_qc',\n",
        " u'time_uv_qc',\n",
        " u'lat_uv_qc',\n",
        " u'lon_uv_qc',\n",
        " u'u_qc',\n",
        " u'v_qc']"
       ]
      }
     ],
     "prompt_number": 4
    },
    {
     "cell_type": "code",
     "collapsed": false,
     "input": [
      "lon = ncv['longitude'][:]\n",
      "lat = ncv['latitude'][:]"
     ],
     "language": "python",
     "metadata": {},
     "outputs": [],
     "prompt_number": 5
    },
    {
     "cell_type": "code",
     "collapsed": false,
     "input": [
      "import iris"
     ],
     "language": "python",
     "metadata": {},
     "outputs": [],
     "prompt_number": 6
    },
    {
     "cell_type": "code",
     "collapsed": false,
     "input": [
      "t = iris.load_cube(url,'sea_water_temperature')"
     ],
     "language": "python",
     "metadata": {},
     "outputs": [
      {
       "output_type": "stream",
       "stream": "stderr",
       "text": [
        "/home/usgs/anaconda/lib/python2.7/site-packages/iris/fileformats/cf.py:269: UserWarning: Missing CF-netCDF ancillary data variable u'lat_qc', referenced by netCDF variable u'precise_lat'\n",
        "  warnings.warn(message % (name, nc_var_name))\n",
        "/home/usgs/anaconda/lib/python2.7/site-packages/iris/fileformats/cf.py:269: UserWarning: Missing CF-netCDF ancillary data variable u'lon_qc', referenced by netCDF variable u'precise_lon'\n",
        "  warnings.warn(message % (name, nc_var_name))\n"
       ]
      }
     ],
     "prompt_number": 7
    },
    {
     "cell_type": "code",
     "collapsed": false,
     "input": [
      "print t"
     ],
     "language": "python",
     "metadata": {},
     "outputs": [
      {
       "output_type": "stream",
       "stream": "stdout",
       "text": [
        "sea_water_temperature / (Celsius)   (-- : 1; -- : 3294; -- : 680)\n",
        "     Auxiliary coordinates:\n",
        "          latitude                      x       x          -\n",
        "          longitude                     x       x          -\n",
        "          time                          x       x          -\n",
        "          depth                         x       x          x\n",
        "     Attributes:\n",
        "          Conventions: Unidata Dataset Discovery v1.0, COARDS, CF-1.6\n",
        "          DODS.dimName: wmo_id_strlen\n",
        "          DODS.strlen: 7\n",
        "          Easternmost_Easting: -74.2846128922\n",
        "          Metadata_Conventions: Unidata Dataset Discovery v1.0, COARDS, CF-1.6\n",
        "          Northernmost_Northing: 37.7880349112\n",
        "          Southernmost_Northing: 37.0371716345\n",
        "          Westernmost_Easting: -75.5659652921\n",
        "          _ChunkSize: 1\n",
        "          acknowledgment: This deployment supported by NOAA U.S. IOOS\n",
        "          actual_range: [  9.8394  23.0101]\n",
        "          cdm_data_type: TrajectoryProfile\n",
        "          cdm_profile_variables: time_uv,lat_uv,lon_uv,u,v,profile_id,time,latitude,longitude\n",
        "          cdm_trajectory_variables: trajectory,wmo_id\n",
        "          colorBarMaximum: 32.0\n",
        "          colorBarMinimum: 0.0\n",
        "          comment: Glider operatored by the Rutgers University Coastal Ocean Observation Lab,...\n",
        "          contributor_name: Scott Glenn, Oscar Schofield, Josh Kohut, David Aragon, Tina Haskins, Chip...\n",
        "          contributor_role: Principal Investigator, Principal Investigator, Principal Investigator,...\n",
        "          creator_email: kerfoot@marine.rutgers.edu\n",
        "          creator_name: John Kerfoot\n",
        "          creator_url: http://rucool.marine.rutgers.edu\n",
        "          date_created: 2014-10-03T15:53:28Z\n",
        "          date_issued: 2014-10-03T15:53:28Z\n",
        "          defaultDataQuery: &trajectory=ru22-20130924T2010\n",
        "          defaultGraphQuery: longitude,latitude,time&.draw=linesAndMarkers&.marker=2|5&.color=0xFFF...\n",
        "          featureType: TrajectoryProfile\n",
        "          format_version: IOOS_Glider_NetCDF_v2.0.nc\n",
        "          geospatial_lat_max: 37.7880349112\n",
        "          geospatial_lat_min: 37.0371716345\n",
        "          geospatial_lat_units: degrees_north\n",
        "          geospatial_lon_max: -74.2846128922\n",
        "          geospatial_lon_min: -75.5659652921\n",
        "          geospatial_lon_units: degrees_east\n",
        "          geospatial_vertical_max: 91.53\n",
        "          geospatial_vertical_min: 1.0\n",
        "          geospatial_vertical_positive: down\n",
        "          geospatial_vertical_units: m\n",
        "          history: 2014-10-03T15:53:28Z /home/kerfoot/slocum/matlab/spt/export/nc/IOOS/DAC/writeIoosGliderFlatNc.m\n",
        "2014-10-11T14:34:46Z...\n",
        "          id: ru22-20130924T2010_f070_8f49_1646\n",
        "          infoUrl: http://rucool.marine.rutgers.edu\n",
        "          institution: Rutgers University\n",
        "          instrument: instrument_ctd\n",
        "          ioos_category: Temperature\n",
        "          keywords: AUVS > Autonomous Underwater Vehicles, Oceans > Ocean Pressure > Water...\n",
        "          keywords_vocabulary: GCMD Science Keywords\n",
        "          license: This data may be redistributed and used without restriction.  Data provided...\n",
        "          naming_authority: edu.rutgers.marine\n",
        "          observation_type: measured\n",
        "          platform: platform\n",
        "          platform_type: Slocum Glider\n",
        "          processing_level: Timestamp and gps positions checked for validity.\n",
        "          project: MARACOOS\n",
        "          publisher_email: kerfoot@marine.rutgers.edu\n",
        "          publisher_name: John Kerfoot\n",
        "          publisher_url: http://rucool.marine.rutgers.edu\n",
        "          sea_name: Mid-Atlantic Bight\n",
        "          source: Observational data from a profiling glider\n",
        "          sourceUrl: (local files)\n",
        "          standard_name_vocabulary: CF-v25\n",
        "          subsetVariables: trajectory,wmo_id,time_uv,lat_uv,lon_uv,u,v,profile_id,time,latitude,l...\n",
        "          summary: U.S. IOOS Mid-Atlantic Regional Consortium of Ocean Observing Systems (MARACOOS)...\n",
        "          time_coverage_end: 2013-10-17T00:19:33Z\n",
        "          time_coverage_start: 2013-09-24T20:18:47Z\n",
        "          title: ru22-20130924T2010\n"
       ]
      }
     ],
     "prompt_number": 8
    },
    {
     "cell_type": "code",
     "collapsed": false,
     "input": [
      "lon=t.coord(axis='X')"
     ],
     "language": "python",
     "metadata": {},
     "outputs": [],
     "prompt_number": 9
    },
    {
     "cell_type": "code",
     "collapsed": false,
     "input": [
      "lat=t.coord(axis='Y')"
     ],
     "language": "python",
     "metadata": {},
     "outputs": [],
     "prompt_number": 10
    },
    {
     "cell_type": "code",
     "collapsed": false,
     "input": [
      "z = t.coord(axis='Z')"
     ],
     "language": "python",
     "metadata": {},
     "outputs": [],
     "prompt_number": 11
    },
    {
     "cell_type": "code",
     "collapsed": false,
     "input": [
      "tvar = t.coord(axis='T')"
     ],
     "language": "python",
     "metadata": {},
     "outputs": [],
     "prompt_number": 12
    },
    {
     "cell_type": "code",
     "collapsed": false,
     "input": [
      "shape(t)"
     ],
     "language": "python",
     "metadata": {},
     "outputs": [
      {
       "metadata": {},
       "output_type": "pyout",
       "prompt_number": 13,
       "text": [
        "(1, 3294, 680)"
       ]
      }
     ],
     "prompt_number": 13
    },
    {
     "cell_type": "code",
     "collapsed": false,
     "input": [
      "tvals= t[0,::5,::2].data"
     ],
     "language": "python",
     "metadata": {},
     "outputs": [],
     "prompt_number": 14
    },
    {
     "cell_type": "code",
     "collapsed": false,
     "input": [
      "tvals=ma.masked_where(tvals==-999.,tvals)"
     ],
     "language": "python",
     "metadata": {},
     "outputs": [],
     "prompt_number": 15
    },
    {
     "cell_type": "code",
     "collapsed": false,
     "input": [
      "pcolormesh(flipud(tvals.T));colorbar()"
     ],
     "language": "python",
     "metadata": {},
     "outputs": [
      {
       "metadata": {},
       "output_type": "pyout",
       "prompt_number": 16,
       "text": [
        "<matplotlib.colorbar.Colorbar instance at 0x7f2548545e60>"
       ]
      },
      {
       "metadata": {},
       "output_type": "display_data",
       "png": "[encoded data removed]",
       "text": [
        "<matplotlib.figure.Figure at 0x7f254866f990>"
       ]
      }
     ],
     "prompt_number": 16
    },
    {
     "cell_type": "code",
     "collapsed": false,
     "input": [
      "dist, pha = seawater.extras.dist(lat.points[0],lon.points[0],units='km')"
     ],
     "language": "python",
     "metadata": {},
     "outputs": [],
     "prompt_number": 17
    },
    {
     "cell_type": "code",
     "collapsed": false,
     "input": [
      "d = np.cumsum(dist)\n",
      "d = np.insert(d,0,0)"
     ],
     "language": "python",
     "metadata": {},
     "outputs": [],
     "prompt_number": 18
    },
    {
     "cell_type": "code",
     "collapsed": false,
     "input": [
      "print shape(d)"
     ],
     "language": "python",
     "metadata": {},
     "outputs": [
      {
       "output_type": "stream",
       "stream": "stdout",
       "text": [
        "(3294,)\n"
       ]
      }
     ],
     "prompt_number": 19
    },
    {
     "cell_type": "code",
     "collapsed": false,
     "input": [
      "x = (d*np.ones([680,1])).T"
     ],
     "language": "python",
     "metadata": {},
     "outputs": [],
     "prompt_number": 20
    },
    {
     "cell_type": "code",
     "collapsed": false,
     "input": [
      "zval = z.points"
     ],
     "language": "python",
     "metadata": {},
     "outputs": [],
     "prompt_number": 21
    },
    {
     "cell_type": "code",
     "collapsed": false,
     "input": [
      "shape(zval)"
     ],
     "language": "python",
     "metadata": {},
     "outputs": [
      {
       "metadata": {},
       "output_type": "pyout",
       "prompt_number": 22,
       "text": [
        "(1, 3294, 680)"
       ]
      }
     ],
     "prompt_number": 22
    },
    {
     "cell_type": "code",
     "collapsed": false,
     "input": [
      "print shape(x[::5,::2])\n",
      "print shape(zval[0,::5,::2])\n",
      "print shape(tvals)"
     ],
     "language": "python",
     "metadata": {},
     "outputs": [
      {
       "output_type": "stream",
       "stream": "stdout",
       "text": [
        "(659, 340)\n",
        "(659, 340)\n",
        "(659, 340)\n"
       ]
      }
     ],
     "prompt_number": 23
    },
    {
     "cell_type": "code",
     "collapsed": false,
     "input": [
      "shape(x)"
     ],
     "language": "python",
     "metadata": {},
     "outputs": [
      {
       "metadata": {},
       "output_type": "pyout",
       "prompt_number": 24,
       "text": [
        "(3294, 680)"
       ]
      }
     ],
     "prompt_number": 24
    },
    {
     "cell_type": "code",
     "collapsed": false,
     "input": [
      "pcolormesh(x[::5,::2],zval[0,::5,::2],tvals)"
     ],
     "language": "python",
     "metadata": {},
     "outputs": [
      {
       "metadata": {},
       "output_type": "pyout",
       "prompt_number": 25,
       "text": [
        "<matplotlib.collections.QuadMesh at 0x7f253f9db690>"
       ]
      },
      {
       "metadata": {},
       "output_type": "display_data",
       "png": "[encoded data removed]",
       "text": [
        "<matplotlib.figure.Figure at 0x7f2548571650>"
       ]
      }
     ],
     "prompt_number": 25
    }
   ],
   "metadata": {}
  }
 ]
}