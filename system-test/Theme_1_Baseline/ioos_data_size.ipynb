{
 "metadata": {
  "gist_id": "3a340219cc62f5919059",
  "name": "",
  "signature": "sha256:7eeb7c6a707f1da31fdce4775656dda7103b1f91eb1c66f4a5c5afb05d0af38b"
 },
 "nbformat": 3,
 "nbformat_minor": 0,
 "worksheets": [
  {
   "cells": [
    {
     "cell_type": "markdown",
     "metadata": {},
     "source": [
      "#Estimate how many TB of data are served by IOOS "
     ]
    },
    {
     "cell_type": "markdown",
     "metadata": {},
     "source": [
      "Estimate dataset size from the OPeNDAP DDS. Here we use regular expressions to parse the DDS and just the variable size (32 or 64 bit Int or Float) by their shapes. This represents the size in memory, not on disk, since the data could be compressed.  But the data in memory is in some sense a more true representation of the quantity of data available by the service.\n"
     ]
    },
    {
     "cell_type": "code",
     "collapsed": false,
     "input": [
      "from owslib.csw import CatalogueServiceWeb\n",
      "from owslib import fes\n",
      "import pandas as pd\n",
      "import datetime as dt\n",
      "import requests\n",
      "import re\n",
      "import time\n",
      "from __future__ import print_function\n"
     ],
     "language": "python",
     "metadata": {},
     "outputs": [],
     "prompt_number": 47
    },
    {
     "cell_type": "code",
     "collapsed": false,
     "input": [
      "def service_urls(records,service_string='urn:x-esri:specification:ServiceType:odp:url'):\n",
      "    \"\"\"\n",
      "    Get all URLs matching a specific ServiceType \n",
      " \n",
      "    Unfortunately these seem to differ between different CSW-ISO services.\n",
      "    For example, OpenDAP is specified:\n",
      "    NODC geoportal: 'urn:x-esri:specification:ServiceType:OPeNDAP'\n",
      "    NGDC geoportal: 'urn:x-esri:specification:ServiceType:odp:url'\n",
      "    \"\"\"\n",
      "\n",
      "    urls=[]\n",
      "    for key,rec in records.iteritems():\n",
      "        #create a generator object, and iterate through it until the match is found\n",
      "        #if not found, gets the default value (here \"none\")\n",
      "        url = next((d['url'] for d in rec.references if d['scheme'] == service_string), None)\n",
      "        if url is not None:\n",
      "            urls.append(url)\n",
      "    return urls"
     ],
     "language": "python",
     "metadata": {},
     "outputs": [],
     "prompt_number": 48
    },
    {
     "cell_type": "markdown",
     "metadata": {},
     "source": [
      "## Find OpenDAP endpoints from NGDC CSW"
     ]
    },
    {
     "cell_type": "code",
     "collapsed": false,
     "input": [
      "endpoint = 'http://www.ngdc.noaa.gov/geoportal/csw' #  NGDC/IOOS Geoportal\n",
      "dap_timeout=4  # timeout for DAP response\n",
      "csw_timeout=60 # timeout for CSW response\n",
      "csw = CatalogueServiceWeb(endpoint,timeout=csw_timeout)\n",
      "csw.version"
     ],
     "language": "python",
     "metadata": {},
     "outputs": [
      {
       "metadata": {},
       "output_type": "pyout",
       "prompt_number": 49,
       "text": [
        "'2.0.2'"
       ]
      }
     ],
     "prompt_number": 49
    },
    {
     "cell_type": "code",
     "collapsed": false,
     "input": [
      "[op.name for op in csw.operations]"
     ],
     "language": "python",
     "metadata": {},
     "outputs": [
      {
       "metadata": {},
       "output_type": "pyout",
       "prompt_number": 50,
       "text": [
        "['GetCapabilities',\n",
        " 'DescribeRecord',\n",
        " 'GetRecords',\n",
        " 'GetRecordById',\n",
        " 'Transaction']"
       ]
      }
     ],
     "prompt_number": 50
    },
    {
     "cell_type": "code",
     "collapsed": false,
     "input": [
      "csw.get_operation_by_name('GetRecords').constraints"
     ],
     "language": "python",
     "metadata": {},
     "outputs": [
      {
       "metadata": {},
       "output_type": "pyout",
       "prompt_number": 51,
       "text": [
        "[Constraint: SupportedCommonQueryables - ['Subject', 'Title', 'Abstract', 'AnyText', 'Format', 'Identifier', 'Modified', 'Type', 'BoundingBox'],\n",
        " Constraint: SupportedISOQueryables - ['apiso:Subject', 'apiso:Title', 'apiso:Abstract', 'apiso:AnyText', 'apiso:Format', 'apiso:Identifier', 'apiso:Modified', 'apiso:Type', 'apiso:BoundingBox', 'apiso:CRS.Authority', 'apiso:CRS.ID', 'apiso:CRS.Version', 'apiso:RevisionDate', 'apiso:AlternateTitle', 'apiso:CreationDate', 'apiso:PublicationDate', 'apiso:OrganizationName', 'apiso:HasSecurityConstraints', 'apiso:Language', 'apiso:ResourceIdentifier', 'apiso:ParentIdentifier', 'apiso:KeywordType', 'apiso:TopicCategory', 'apiso:ResourceLanguage', 'apiso:GeographicDescriptionCode', 'apiso:Denominator', 'apiso:DistanceValue', 'apiso:DistanceUOM', 'apiso:TempExtent_begin', 'apiso:TempExtent_end', 'apiso:ServiceType', 'apiso:ServiceTypeVersion', 'apiso:Operation', 'apiso:OperatesOn', 'apiso:OperatesOnIdentifier', 'apiso:OperatesOnName', 'apiso:CouplingType'],\n",
        " Constraint: AdditionalQueryables - ['apiso:Degree', 'apiso:AccessConstraints', 'apiso:OtherConstraints', 'apiso:Classification', 'apiso:ConditionApplyingToAccessAndUse', 'apiso:Lineage', 'apiso:ResponsiblePartyRole', 'apiso:ResponsiblePartyName', 'apiso:SpecificationTitle', 'apiso:SpecificationDate', 'apiso:SpecificationDateType']]"
       ]
      }
     ],
     "prompt_number": 51
    },
    {
     "cell_type": "code",
     "collapsed": false,
     "input": [
      "for oper in csw.operations:\n",
      "    print(oper.name)"
     ],
     "language": "python",
     "metadata": {},
     "outputs": [
      {
       "output_type": "stream",
       "stream": "stdout",
       "text": [
        "GetCapabilities\n",
        "DescribeRecord\n",
        "GetRecords\n",
        "GetRecordById\n",
        "Transaction\n"
       ]
      }
     ],
     "prompt_number": 52
    },
    {
     "cell_type": "code",
     "collapsed": false,
     "input": [
      "csw.get_operation_by_name('GetRecords').constraints"
     ],
     "language": "python",
     "metadata": {},
     "outputs": [
      {
       "metadata": {},
       "output_type": "pyout",
       "prompt_number": 53,
       "text": [
        "[Constraint: SupportedCommonQueryables - ['Subject', 'Title', 'Abstract', 'AnyText', 'Format', 'Identifier', 'Modified', 'Type', 'BoundingBox'],\n",
        " Constraint: SupportedISOQueryables - ['apiso:Subject', 'apiso:Title', 'apiso:Abstract', 'apiso:AnyText', 'apiso:Format', 'apiso:Identifier', 'apiso:Modified', 'apiso:Type', 'apiso:BoundingBox', 'apiso:CRS.Authority', 'apiso:CRS.ID', 'apiso:CRS.Version', 'apiso:RevisionDate', 'apiso:AlternateTitle', 'apiso:CreationDate', 'apiso:PublicationDate', 'apiso:OrganizationName', 'apiso:HasSecurityConstraints', 'apiso:Language', 'apiso:ResourceIdentifier', 'apiso:ParentIdentifier', 'apiso:KeywordType', 'apiso:TopicCategory', 'apiso:ResourceLanguage', 'apiso:GeographicDescriptionCode', 'apiso:Denominator', 'apiso:DistanceValue', 'apiso:DistanceUOM', 'apiso:TempExtent_begin', 'apiso:TempExtent_end', 'apiso:ServiceType', 'apiso:ServiceTypeVersion', 'apiso:Operation', 'apiso:OperatesOn', 'apiso:OperatesOnIdentifier', 'apiso:OperatesOnName', 'apiso:CouplingType'],\n",
        " Constraint: AdditionalQueryables - ['apiso:Degree', 'apiso:AccessConstraints', 'apiso:OtherConstraints', 'apiso:Classification', 'apiso:ConditionApplyingToAccessAndUse', 'apiso:Lineage', 'apiso:ResponsiblePartyRole', 'apiso:ResponsiblePartyName', 'apiso:SpecificationTitle', 'apiso:SpecificationDate', 'apiso:SpecificationDateType']]"
       ]
      }
     ],
     "prompt_number": 53
    },
    {
     "cell_type": "markdown",
     "metadata": {},
     "source": [
      "Since the supported ISO queryables contain `apiso:ServiceType`, we can use CSW to find all datasets with services that contain the string \"dap\" "
     ]
    },
    {
     "cell_type": "code",
     "collapsed": false,
     "input": [
      "try:\n",
      "    csw.get_operation_by_name('GetDomain')\n",
      "    csw.getdomain('apiso:ServiceType', 'property')\n",
      "    print(csw.results['values'])\n",
      "except:\n",
      "    print('GetDomain not supported')"
     ],
     "language": "python",
     "metadata": {},
     "outputs": [
      {
       "output_type": "stream",
       "stream": "stdout",
       "text": [
        "GetDomain not supported\n"
       ]
      }
     ],
     "prompt_number": 54
    },
    {
     "cell_type": "markdown",
     "metadata": {},
     "source": [
      "Since this CSW service doesn't provide us a list of potential values for `apiso:ServiceType`, we guess `opendap`, which seems to work:\n"
     ]
    },
    {
     "cell_type": "code",
     "collapsed": false,
     "input": [
      "val = 'opendap'\n",
      "service_type = fes.PropertyIsLike(propertyname='apiso:ServiceType',literal=('*%s*' % val),\n",
      "                        escapeChar='\\\\',wildCard='*',singleChar='?')\n",
      "filter_list = [ service_type]"
     ],
     "language": "python",
     "metadata": {},
     "outputs": [],
     "prompt_number": 55
    },
    {
     "cell_type": "code",
     "collapsed": false,
     "input": [
      "csw.getrecords2(constraints=filter_list,maxrecords=10000,esn='full')\n",
      "len(csw.records.keys())"
     ],
     "language": "python",
     "metadata": {},
     "outputs": [
      {
       "metadata": {},
       "output_type": "pyout",
       "prompt_number": 56,
       "text": [
        "1995"
       ]
      }
     ],
     "prompt_number": 56
    },
    {
     "cell_type": "markdown",
     "metadata": {},
     "source": [
      "By printing out the references from a random record, we see that for this CSW the DAP URL is identified by \n",
      "`urn:x-esri:specification:ServiceType:odp:url`"
     ]
    },
    {
     "cell_type": "code",
     "collapsed": false,
     "input": [
      "choice=random.choice(list(csw.records.keys()))\n",
      "print(choice)\n",
      "csw.records[choice].references"
     ],
     "language": "python",
     "metadata": {},
     "outputs": [
      {
       "output_type": "stream",
       "stream": "stdout",
       "text": [
        "id_enp.cwaf1.met\n"
       ]
      },
      {
       "metadata": {},
       "output_type": "pyout",
       "prompt_number": 57,
       "text": [
        "[{'scheme': 'urn:x-esri:specification:ServiceType:distribution:url',\n",
        "  'url': 'http://tds.secoora.org/thredds/dodsC/enp.cwaf1.met.nc.html'},\n",
        " {'scheme': 'urn:x-esri:specification:ServiceType:distribution:url',\n",
        "  'url': 'http://www.ncdc.noaa.gov/oa/wct/wct-jnlp-beta.php?singlefile=http://tds.secoora.org/thredds/dodsC/enp.cwaf1.met.nc'},\n",
        " {'scheme': 'urn:x-esri:specification:ServiceType:sos:url',\n",
        "  'url': 'http://tds.secoora.org/thredds/sos/enp.cwaf1.met.nc?service=SOS&version=1.0.0&request=GetCapabilities'},\n",
        " {'scheme': 'urn:x-esri:specification:ServiceType:odp:url',\n",
        "  'url': 'http://tds.secoora.org/thredds/dodsC/enp.cwaf1.met.nc'},\n",
        " {'scheme': 'urn:x-esri:specification:ServiceType:download:url',\n",
        "  'url': 'http://tds.secoora.org/thredds/dodsC/enp.cwaf1.met.nc.html'}]"
       ]
      }
     ],
     "prompt_number": 57
    },
    {
     "cell_type": "markdown",
     "metadata": {},
     "source": [
      "Get all the OPeNDAP endpoints"
     ]
    },
    {
     "cell_type": "code",
     "collapsed": false,
     "input": [
      "dap_urls = service_urls(csw.records,service_string='urn:x-esri:specification:ServiceType:odp:url')\n",
      "len(dap_urls)"
     ],
     "language": "python",
     "metadata": {},
     "outputs": [
      {
       "metadata": {},
       "output_type": "pyout",
       "prompt_number": 58,
       "text": [
        "1885"
       ]
      }
     ],
     "prompt_number": 58
    },
    {
     "cell_type": "code",
     "collapsed": false,
     "input": [
      "def calc_dsize(txt):\n",
      "    ''' \n",
      "    Calculate dataset size from the OPeNDAP DDS. \n",
      "    Approx method: Multiply 32|64 bit Int|Float variables by their shape.\n",
      "    '''\n",
      "    # split the OpenDAP DDS on ';' characters\n",
      "    all = re.split(';',txt)\n",
      "    '''\n",
      "    Use regex to find numbers following Float or Int (e.g. Float32, Int64)\n",
      "    and also numbers immediately preceding a \"]\".  The idea is that in line like:\n",
      "    \n",
      "    Float32 Total_precipitation_surface_6_Hour_Accumulation[time2 = 74][y = 303][x = 491];\n",
      "           \n",
      "    we want to find only the numbers that are not part of a variable or dimension name\n",
      "    (want to return [32, 74, 303, 491], *not* [32, 6, 2, 74, 303, 491])\n",
      "    '''\n",
      "    m = re.compile('\\d+(?=])|(?<=Float)\\d+|(?<=Int)\\d+')\n",
      "    dsize=0\n",
      "    for var in all:\n",
      "        c = map(int,m.findall(var))\n",
      "        if len(c)>=2:\n",
      "            vsize = reduce(lambda x,y: x*y,c)\n",
      "            dsize += vsize\n",
      "    \n",
      "    return dsize/1.0e6/8.   # return megabytes"
     ],
     "language": "python",
     "metadata": {},
     "outputs": [],
     "prompt_number": 59
    },
    {
     "cell_type": "code",
     "collapsed": false,
     "input": [
      "def tot_dsize(url,dap_timeout=2):\n",
      "    das = url + '.dds'\n",
      "    tot = 0\n",
      "    try:\n",
      "        response = requests.get(das,verify=True, timeout=dap_timeout)\n",
      "    except:\n",
      "        return tot, -1\n",
      "    if response.status_code==200:\n",
      "        # calculate the total size for all variables:\n",
      "        tot = calc_dsize(response.text)\n",
      "        # calculate the size for MAPS variables and subtract from the total:\n",
      "        maps = re.compile('MAPS:(.*?)}',re.MULTILINE | re.DOTALL)\n",
      "        map_text = ''.join(maps.findall(response.text))\n",
      "        if map_text:\n",
      "            map_tot = calc_dsize(map_text)\n",
      "            tot -= map_tot\n",
      "    \n",
      "    return tot,response.status_code"
     ],
     "language": "python",
     "metadata": {},
     "outputs": [],
     "prompt_number": 60
    },
    {
     "cell_type": "code",
     "collapsed": false,
     "input": [
      "time0 = time.time()\n",
      "good_data=[]\n",
      "bad_data=[]\n",
      "count=0\n",
      "for url in dap_urls:\n",
      "    count += 1\n",
      "    dtot, status_code = tot_dsize(url,dap_timeout=dap_timeout)\n",
      "    if status_code==200:\n",
      "        good_data.append([url,dtot])\n",
      "        print('[{}]Good:{},{}'.format(count,url,dtot), end='\\r')\n",
      "    else:\n",
      "        bad_data.append([url,status_code])\n",
      "        print('[{}]Fail:{},{}'.format(count,url,status_code), end='\\r')\n",
      "    \n",
      "print('Elapsed time={} minutes'.format((time.time()-time0)/60.))"
     ],
     "language": "python",
     "metadata": {},
     "outputs": [
      {
       "output_type": "stream",
       "stream": "stdout",
       "text": [
        "[1]Good:http://oos.soest.hawaii.edu/thredds/dodsC/pacioos/aco/adcp_agg,161.589067\r",
        "[2]Fail:http://www.neracoos.org/thredds/dodsC/UMO/DSG/SOS/A01/Doppler/HistoricRealtime/Agg.ncml,404"
       ]
      },
      {
       "output_type": "stream",
       "stream": "stdout",
       "text": [
        "\r",
        "[3]Fail:http://www.neracoos.org/thredds/dodsC/UMO/DSG/SOS/B01/Doppler/HistoricRealtime/Agg.ncml,404\r",
        "[4]Fail:http://www.neracoos.org/thredds/dodsC/UMO/DSG/SOS/C02/Doppler/HistoricRealtime/Agg.ncml,404"
       ]
      },
      {
       "output_type": "stream",
       "stream": "stdout",
       "text": [
        "\r",
        "[5]Fail:http://www.neracoos.org/thredds/dodsC/UMO/DSG/SOS/E01/Doppler/HistoricRealtime/Agg.ncml,404\r",
        "[6]Fail:http://www.neracoos.org/thredds/dodsC/UMO/DSG/SOS/F01/Doppler/HistoricRealtime/Agg.ncml,404"
       ]
      },
      {
       "output_type": "stream",
       "stream": "stdout",
       "text": [
        "\r",
        "[7]Fail:http://www.neracoos.org/thredds/dodsC/UMO/DSG/SOS/I01/Doppler/HistoricRealtime/Agg.ncml,404"
       ]
      },
      {
       "output_type": "stream",
       "stream": "stdout",
       "text": [
        "\r",
        "[8]Fail:http://www.neracoos.org/thredds/dodsC/UMO/DSG/SOS/L01/Doppler/HistoricRealtime/Agg.ncml,404\r",
        "[9]Fail:http://www.neracoos.org/thredds/dodsC/UMO/DSG/SOS/M01/Doppler/HistoricRealtime/Agg.ncml,404"
       ]
      },
      {
       "output_type": "stream",
       "stream": "stdout",
       "text": [
        "\r",
        "[10]Fail:http://www.neracoos.org/thredds/dodsC/UMO/DSG/SOS/N01/Doppler/HistoricRealtime/Agg.ncml,404\r",
        "[11]Fail:http://sos.maracoos.org/thredds/dodsC/agg/rutgersespresso/agg.nc,503"
       ]
      },
      {
       "output_type": "stream",
       "stream": "stdout",
       "text": [
        "\r",
        "[12]Good:http://www.neracoos.org/thredds/dodsC/UMO/DSG/SOS/F01/Met/HistoricRealtime/Agg.ncml,12.899552"
       ]
      },
      {
       "output_type": "stream",
       "stream": "stdout",
       "text": [
        "\r",
        "[13]Good:http://www.neracoos.org/thredds/dodsC/UMO/DSG/SOS/I01/Met/HistoricRealtime/Agg.ncml,14.32896"
       ]
      },
      {
       "output_type": "stream",
       "stream": "stdout",
       "text": [
        "\r",
        "[14]Fail:http://thredds.axiomalaska.com/thredds/dodsC/HIRE_WEST_CONUS.nc,404"
       ]
      },
      {
       "output_type": "stream",
       "stream": "stdout",
       "text": [
        "\r",
        "[15]Fail:http://thredds.axiomalaska.com/thredds/dodsC/NAM_12_CONUS.nc,404"
       ]
      },
      {
       "output_type": "stream",
       "stream": "stdout",
       "text": [
        "\r",
        "[16]Fail:http://thredds.axiomalaska.com/thredds/dodsC/WRF_MPH.nc,-1"
       ]
      },
      {
       "output_type": "stream",
       "stream": "stdout",
       "text": [
        "\r",
        "[17]Good:http://thredds.coastal.ufl.edu:8080/thredds/dodsC/CH3D-SSMS/EastCoast/2D/NAM-FC/EASTCOAST-2D-NAM_fmrc.ncd,274.258484"
       ]
      },
      {
       "output_type": "stream",
       "stream": "stdout",
       "text": [
        "\r",
        "[18]Good:http://thredds.coastal.ufl.edu:8080/thredds/dodsC/CH3D-SSMS/EastCoast/3D/NAM-FC/EASTCOAST-3D-NAM_fmrc.ncd,721.913524"
       ]
      },
      {
       "output_type": "stream",
       "stream": "stdout",
       "text": [
        "\r",
        "[19]Good:http://thredds.coastal.ufl.edu:8080/thredds/dodsC/CH3D-SSMS/NorthernGulf/2D/NAM-FC/NORTHERNGULF-2D-NAM_fmrc.ncd,79.21408"
       ]
      },
      {
       "output_type": "stream",
       "stream": "stdout",
       "text": [
        "\r",
        "[20]Good:http://thredds.coastal.ufl.edu:8080/thredds/dodsC/CH3D-SSMS/NorthernGulf/3D/NAM-FC/NORTHERNGULF-3D-NAM_fmrc.ncd,208.505984"
       ]
      },
      {
       "output_type": "stream",
       "stream": "stdout",
       "text": [
        "\r",
        "[21]Good:http://thredds.coastal.ufl.edu:8080/thredds/dodsC/CH3D-SSMS/Southeast/2D/NAM-FC/SOUTHEAST-2D-NAM_fmrc.ncd,32.030788"
       ]
      },
      {
       "output_type": "stream",
       "stream": "stdout",
       "text": [
        "\r",
        "[22]Good:http://thredds.coastal.ufl.edu:8080/thredds/dodsC/CH3D-SSMS/Southeast/3D/NAM-FC/SOUTHEAST-3D-NAM_fmrc.ncd,156.315988"
       ]
      },
      {
       "output_type": "stream",
       "stream": "stdout",
       "text": [
        "\r",
        "[23]Good:http://thredds.coastal.ufl.edu:8080/thredds/dodsC/CH3D-SSMS/Southwest/2D/NAM-FC/SOUTHWEST-2D-NAM_fmrc.ncd,180.087156"
       ]
      },
      {
       "output_type": "stream",
       "stream": "stdout",
       "text": [
        "\r",
        "[24]Good:http://thredds.coastal.ufl.edu:8080/thredds/dodsC/CH3D-SSMS/Southwest/3D/NAM-FC/SOUTHWEST-3D-NAM_fmrc.ncd,474.03082"
       ]
      },
      {
       "output_type": "stream",
       "stream": "stdout",
       "text": [
        "\r",
        "[25]Good:http://tds.secoora.org/thredds/dodsC/carocoops.sun2.buoy.nc,0.180096"
       ]
      },
      {
       "output_type": "stream",
       "stream": "stdout",
       "text": [
        "\r",
        "[26]Good:http://tds.secoora.org/thredds/dodsC/cormp.ilm3.buoy.nc,2.28896"
       ]
      },
      {
       "output_type": "stream",
       "stream": "stdout",
       "text": [
        "\r",
        "[27]Fail:http://tds.secoora.org/thredds/dodsC/cormp.ocp1.buoy.nc,-1"
       ]
      },
      {
       "output_type": "stream",
       "stream": "stdout",
       "text": [
        "\r",
        "[28]Good:http://tds.secoora.org/thredds/dodsC/enp.bdvf1.met.nc,0.055908"
       ]
      },
      {
       "output_type": "stream",
       "stream": "stdout",
       "text": [
        "\r",
        "[29]Good:http://tds.secoora.org/thredds/dodsC/enp.bnkf1.met.nc,0.059016"
       ]
      },
      {
       "output_type": "stream",
       "stream": "stdout",
       "text": [
        "\r",
        "[30]Good:http://tds.secoora.org/thredds/dodsC/enp.bobf1.met.nc,0.058644"
       ]
      },
      {
       "output_type": "stream",
       "stream": "stdout",
       "text": [
        "\r",
        "[31]Good:http://tds.secoora.org/thredds/dodsC/enp.bwsf1.met.nc,0.059148"
       ]
      },
      {
       "output_type": "stream",
       "stream": "stdout",
       "text": [
        "\r",
        "[32]Good:http://tds.secoora.org/thredds/dodsC/enp.canf1.met.nc,0.056532"
       ]
      },
      {
       "output_type": "stream",
       "stream": "stdout",
       "text": [
        "\r",
        "[33]Good:http://tds.secoora.org/thredds/dodsC/enp.cnbf1.met.nc,0.05784"
       ]
      },
      {
       "output_type": "stream",
       "stream": "stdout",
       "text": [
        "\r",
        "[34]Good:http://tds.secoora.org/thredds/dodsC/enp.cwaf1.met.nc,0.05892"
       ]
      },
      {
       "output_type": "stream",
       "stream": "stdout",
       "text": [
        "\r",
        "[35]Good:http://tds.secoora.org/thredds/dodsC/enp.dkkf1.met.nc,0.059208"
       ]
      },
      {
       "output_type": "stream",
       "stream": "stdout",
       "text": [
        "\r",
        "[36]Good:http://tds.secoora.org/thredds/dodsC/enp.gbif1.met.nc,0.058368"
       ]
      },
      {
       "output_type": "stream",
       "stream": "stdout",
       "text": [
        "\r",
        "[37]Good:http://tds.secoora.org/thredds/dodsC/enp.gbtf1.met.nc,0.058752"
       ]
      },
      {
       "output_type": "stream",
       "stream": "stdout",
       "text": [
        "\r",
        "[38]Good:http://tds.secoora.org/thredds/dodsC/enp.hcef1.met.nc,0.058656"
       ]
      },
      {
       "output_type": "stream",
       "stream": "stdout",
       "text": [
        "\r",
        "[39]Good:http://tds.secoora.org/thredds/dodsC/enp.jkyf1.met.nc,0.059076"
       ]
      },
      {
       "output_type": "stream",
       "stream": "stdout",
       "text": [
        "\r",
        "[40]Good:http://tds.secoora.org/thredds/dodsC/enp.lbrf1.met.nc,0.059016"
       ]
      },
      {
       "output_type": "stream",
       "stream": "stdout",
       "text": [
        "\r",
        "[41]Good:http://tds.secoora.org/thredds/dodsC/enp.lbsf1.met.nc,0.05898"
       ]
      },
      {
       "output_type": "stream",
       "stream": "stdout",
       "text": [
        "\r",
        "[42]Fail:http://tds.secoora.org/thredds/dodsC/enp.lmdf1.met.nc,-1"
       ]
      },
      {
       "output_type": "stream",
       "stream": "stdout",
       "text": [
        "\r",
        "[43]Good:http://tds.secoora.org/thredds/dodsC/enp.lrif1.met.nc,0.059148"
       ]
      },
      {
       "output_type": "stream",
       "stream": "stdout",
       "text": [
        "\r",
        "[44]Good:http://tds.secoora.org/thredds/dodsC/enp.lrkf1.met.nc,0.059136"
       ]
      },
      {
       "output_type": "stream",
       "stream": "stdout",
       "text": [
        "\r",
        "[45]Good:http://tds.secoora.org/thredds/dodsC/enp.mukf1.met.nc,0.0588"
       ]
      },
      {
       "output_type": "stream",
       "stream": "stdout",
       "text": [
        "\r",
        "[46]Good:http://tds.secoora.org/thredds/dodsC/enp.pkyf1.met.nc,0.05832"
       ]
      },
      {
       "output_type": "stream",
       "stream": "stdout",
       "text": [
        "\r",
        "[47]Good:http://tds.secoora.org/thredds/dodsC/enp.ppta1.met.nc,0.322308"
       ]
      },
      {
       "output_type": "stream",
       "stream": "stdout",
       "text": [
        "\r",
        "[48]Good:http://tds.secoora.org/thredds/dodsC/enp.tcvf1.met.nc,0.058368"
       ]
      },
      {
       "output_type": "stream",
       "stream": "stdout",
       "text": [
        "\r",
        "[49]Good:http://tds.secoora.org/thredds/dodsC/enp.trrf1.met.nc,0.059076"
       ]
      },
      {
       "output_type": "stream",
       "stream": "stdout",
       "text": [
        "\r",
        "[50]Good:http://tds.secoora.org/thredds/dodsC/enp.wiwf1.met.nc,0.059124"
       ]
      },
      {
       "output_type": "stream",
       "stream": "stdout",
       "text": [
        "\r",
        "[51]Good:http://tds.secoora.org/thredds/dodsC/enp.wrbf1.met.nc,0.05796"
       ]
      },
      {
       "output_type": "stream",
       "stream": "stdout",
       "text": [
        "\r",
        "[52]Good:http://tds.secoora.org/thredds/dodsC/enp.wwef1.met.nc,0.058308"
       ]
      },
      {
       "output_type": "stream",
       "stream": "stdout",
       "text": [
        "\r",
        "[53]Good:http://tds.secoora.org/thredds/dodsC/fau.lobo.1.nc,0.31872"
       ]
      },
      {
       "output_type": "stream",
       "stream": "stdout",
       "text": [
        "\r",
        "[54]Good:http://tds.secoora.org/thredds/dodsC/fit.sispnj.met.nc,0.619136"
       ]
      },
      {
       "output_type": "stream",
       "stream": "stdout",
       "text": [
        "\r",
        "[55]Good:http://tds.secoora.org/thredds/dodsC/fldep.bingslanding..nc,2.767776"
       ]
      },
      {
       "output_type": "stream",
       "stream": "stdout",
       "text": [
        "\r",
        "[56]Good:http://tds.secoora.org/thredds/dodsC/fldep.binneydock..nc,1.15432"
       ]
      },
      {
       "output_type": "stream",
       "stream": "stdout",
       "text": [
        "\r",
        "[57]Good:http://tds.secoora.org/thredds/dodsC/fldep.gordonriverinlet..nc,1.816848"
       ]
      },
      {
       "output_type": "stream",
       "stream": "stdout",
       "text": [
        "\r",
        "[58]Good:http://tds.secoora.org/thredds/dodsC/fldep.melbourne..nc,1.817208"
       ]
      },
      {
       "output_type": "stream",
       "stream": "stdout",
       "text": [
        "\r",
        "[59]Good:http://tds.secoora.org/thredds/dodsC/fldep.naplesbay..nc,0.695784"
       ]
      },
      {
       "output_type": "stream",
       "stream": "stdout",
       "text": [
        "\r",
        "[60]Good:http://tds.secoora.org/thredds/dodsC/fldep.poncedeleonsouth..nc,1.962936"
       ]
      },
      {
       "output_type": "stream",
       "stream": "stdout",
       "text": [
        "\r",
        "[61]Good:http://tds.secoora.org/thredds/dodsC/fldep.redbaypoint..nc,0.0012"
       ]
      },
      {
       "output_type": "stream",
       "stream": "stdout",
       "text": [
        "\r",
        "[62]Good:http://tds.secoora.org/thredds/dodsC/fldep.stlucieinlet..nc,3.45756"
       ]
      },
      {
       "output_type": "stream",
       "stream": "stdout",
       "text": [
        "\r",
        "[63]Good:http://tds.secoora.org/thredds/dodsC/fldep.tolomatoriver..nc,2.724"
       ]
      },
      {
       "output_type": "stream",
       "stream": "stdout",
       "text": [
        "\r",
        "[64]Good:http://tds.secoora.org/thredds/dodsC/fldep.verobeach..nc,0.65736"
       ]
      },
      {
       "output_type": "stream",
       "stream": "stdout",
       "text": [
        "\r",
        "[65]Good:http://tds.secoora.org/thredds/dodsC/lbhmc.2ndave.pier.nc,2.894832"
       ]
      },
      {
       "output_type": "stream",
       "stream": "stdout",
       "text": [
        "\r",
        "[66]Good:http://tds.secoora.org/thredds/dodsC/lbhmc.apachepier.pier.nc,1.357824"
       ]
      },
      {
       "output_type": "stream",
       "stream": "stdout",
       "text": [
        "\r",
        "[67]Good:http://tds.secoora.org/thredds/dodsC/lbhmc.cherrygrove.pier.nc,1.173068"
       ]
      },
      {
       "output_type": "stream",
       "stream": "stdout",
       "text": [
        "\r",
        "[68]Good:http://tds.secoora.org/thredds/dodsC/sccf.fortmyers.wq.nc,0.253572"
       ]
      },
      {
       "output_type": "stream",
       "stream": "stdout",
       "text": [
        "\r",
        "[69]Good:http://tds.secoora.org/thredds/dodsC/sccf.gulfofmexico.wq.nc,0.278064"
       ]
      },
      {
       "output_type": "stream",
       "stream": "stdout",
       "text": [
        "\r",
        "[70]Good:http://tds.secoora.org/thredds/dodsC/sccf.redfishpass.wq.nc,0.256168"
       ]
      },
      {
       "output_type": "stream",
       "stream": "stdout",
       "text": [
        "\r",
        "[71]Good:http://tds.secoora.org/thredds/dodsC/sccf.shellpoint.wq.nc,0.225648"
       ]
      },
      {
       "output_type": "stream",
       "stream": "stdout",
       "text": [
        "\r",
        "[72]Good:http://tds.secoora.org/thredds/dodsC/sccf.tarponbay.wq.nc,0.24794"
       ]
      },
      {
       "output_type": "stream",
       "stream": "stdout",
       "text": [
        "\r",
        "[73]Good:http://tds.secoora.org/thredds/dodsC/usf.apk.ngwlms.nc,1.675392"
       ]
      },
      {
       "output_type": "stream",
       "stream": "stdout",
       "text": [
        "\r",
        "[74]Good:http://tds.secoora.org/thredds/dodsC/usf.bcp.ngwlms.nc,1.66624"
       ]
      },
      {
       "output_type": "stream",
       "stream": "stdout",
       "text": [
        "\r",
        "[75]Good:http://tds.secoora.org/thredds/dodsC/usf.c21.weatherpak.nc,0.516552"
       ]
      },
      {
       "output_type": "stream",
       "stream": "stdout",
       "text": [
        "\r",
        "[76]Good:http://tds.secoora.org/thredds/dodsC/usf.fhp.ngwlms.nc,1.66528"
       ]
      },
      {
       "output_type": "stream",
       "stream": "stdout",
       "text": [
        "\r",
        "[77]Good:http://tds.secoora.org/thredds/dodsC/usf.nfb.ngwlms.nc,1.53104"
       ]
      },
      {
       "output_type": "stream",
       "stream": "stdout",
       "text": [
        "\r",
        "[78]Good:http://tds.secoora.org/thredds/dodsC/usf.shp.ngwlms.nc,2.07872"
       ]
      },
      {
       "output_type": "stream",
       "stream": "stdout",
       "text": [
        "\r",
        "[79]Good:http://tds.secoora.org/thredds/dodsC/usf.tas.ngwlms.nc,1.743264"
       ]
      },
      {
       "output_type": "stream",
       "stream": "stdout",
       "text": [
        "\r",
        "[80]Fail:http://thredds.axiomalaska.com/thredds/dodsC/MASIE.nc,-1"
       ]
      },
      {
       "output_type": "stream",
       "stream": "stdout",
       "text": [
        "\r",
        "[81]Good:http://thredds.axiomalaska.com/thredds/dodsC/TAMU_SWAN_PWS.nc,755.230388"
       ]
      },
      {
       "output_type": "stream",
       "stream": "stdout",
       "text": [
        "\r",
        "[82]Fail:http://ecowatch.ncddc.noaa.gov/thredds/dodsC/onomads/rtofs/rtofs_surface_agg/best,404"
       ]
      },
      {
       "output_type": "stream",
       "stream": "stdout",
       "text": [
        "\r",
        "[83]Fail:http://ecowatch.ncddc.noaa.gov/thredds/dodsC/onomads/rtofs/rtofs_volume_agg/best,404"
       ]
      },
      {
       "output_type": "stream",
       "stream": "stdout",
       "text": [
        "\r",
        "[84]Good:http://tds.glos.us/thredds/dodsC/FVCOM/HECWFS-Latest-Forecast.nc,198.133032"
       ]
      },
      {
       "output_type": "stream",
       "stream": "stdout",
       "text": [
        "\r",
        "[85]Good:http://tds.glos.us/thredds/dodsC/FVCOM/SLRFVM-Latest-Forecast.nc,114.33816"
       ]
      },
      {
       "output_type": "stream",
       "stream": "stdout",
       "text": [
        "\r",
        "[86]Good:http://tds.glos.us/thredds/dodsC/HECWFS-Nowcast-Agg.nc,106099.284492"
       ]
      },
      {
       "output_type": "stream",
       "stream": "stdout",
       "text": [
        "\r",
        "[87]Good:http://tds.glos.us/thredds/dodsC/SLRFVM-Nowcast-Agg.nc,51671.861184"
       ]
      },
      {
       "output_type": "stream",
       "stream": "stdout",
       "text": [
        "\r",
        "[88]Good:http://comt.sura.org/thredds/dodsC/data/comt_1_archive/estuarine_hypoxia/VIMS_EFDC/2004_DO3d,74471.762864"
       ]
      },
      {
       "output_type": "stream",
       "stream": "stdout",
       "text": [
        "\r",
        "[89]Good:http://comt.sura.org/thredds/dodsC/data/comt_1_archive/inundation_extratropical/VIMS_SELFE/2005_2D_final_run_waves_only,81.222092"
       ]
      },
      {
       "output_type": "stream",
       "stream": "stdout",
       "text": [
        "\r",
        "[90]Good:http://comt.sura.org/thredds/dodsC/data/comt_1_archive/inundation_extratropical/VIMS_SELFE/2005_2D_final_run_with_waves,145.597208"
       ]
      },
      {
       "output_type": "stream",
       "stream": "stdout",
       "text": [
        "\r",
        "[91]Good:http://comt.sura.org/thredds/dodsC/data/comt_1_archive/inundation_extratropical/VIMS_SELFE/2005_2D_final_run_without_waves,80.854808"
       ]
      },
      {
       "output_type": "stream",
       "stream": "stdout",
       "text": [
        "\r",
        "[92]Good:http://comt.sura.org/thredds/dodsC/data/comt_1_archive/inundation_extratropical/VIMS_SELFE/2005_2D_preliminary_run_waves_only,64.946572"
       ]
      },
      {
       "output_type": "stream",
       "stream": "stdout",
       "text": [
        "\r",
        "[93]Good:http://comt.sura.org/thredds/dodsC/data/comt_1_archive/inundation_extratropical/VIMS_SELFE/2005_2D_preliminary_run_with_waves,97.451608"
       ]
      },
      {
       "output_type": "stream",
       "stream": "stdout",
       "text": [
        "\r",
        "[94]Good:http://comt.sura.org/thredds/dodsC/data/comt_1_archive/inundation_extratropical/VIMS_SELFE/2005_2D_preliminary_run_without_waves,32.170648"
       ]
      },
      {
       "output_type": "stream",
       "stream": "stdout",
       "text": [
        "\r",
        "[95]Good:http://comt.sura.org/thredds/dodsC/data/comt_1_archive/inundation_extratropical/VIMS_SELFE/2007_2D_final_run_waves_only,62.878316"
       ]
      },
      {
       "output_type": "stream",
       "stream": "stdout",
       "text": [
        "\r",
        "[96]Good:http://comt.sura.org/thredds/dodsC/data/comt_1_archive/inundation_extratropical/VIMS_SELFE/2007_2D_final_run_with_waves,140.758136"
       ]
      },
      {
       "output_type": "stream",
       "stream": "stdout",
       "text": [
        "\r",
        "[97]Good:http://comt.sura.org/thredds/dodsC/data/comt_1_archive/inundation_extratropical/VIMS_SELFE/2007_2D_final_run_without_waves,78.173816"
       ]
      },
      {
       "output_type": "stream",
       "stream": "stdout",
       "text": [
        "\r",
        "[98]Good:http://comt.sura.org/thredds/dodsC/data/comt_1_archive/inundation_extratropical/VIMS_SELFE/2007_2D_preliminary_run_waves_only,47.142316"
       ]
      },
      {
       "output_type": "stream",
       "stream": "stdout",
       "text": [
        "\r",
        "[99]Good:http://comt.sura.org/thredds/dodsC/data/comt_1_archive/inundation_extratropical/VIMS_SELFE/2007_2D_preliminary_run_with_waves,94.214392"
       ]
      },
      {
       "output_type": "stream",
       "stream": "stdout",
       "text": [
        "\r",
        "[100]Good:http://comt.sura.org/thredds/dodsC/data/comt_1_archive/inundation_extratropical/VIMS_SELFE/2007_2D_preliminary_run_without_waves,32.708248"
       ]
      },
      {
       "output_type": "stream",
       "stream": "stdout",
       "text": [
        "\r",
        "[101]Good:http://comt.sura.org/thredds/dodsC/data/comt_1_archive/inundation_extratropical/VIMS_SELFE/2010_2D_final_run_tide_only,99.079"
       ]
      },
      {
       "output_type": "stream",
       "stream": "stdout",
       "text": [
        "\r",
        "[102]Good:http://comt.sura.org/thredds/dodsC/data/comt_1_archive/inundation_extratropical/VIMS_SELFE/2010_2D_preliminary_run_without_waves,83.970616"
       ]
      },
      {
       "output_type": "stream",
       "stream": "stdout",
       "text": [
        "\r",
        "[103]Good:http://comt.sura.org/thredds/dodsC/data/comt_1_archive/inundation_tropical/UND_ADCIRC/Hurricane_Ike_2D_preliminary_run_1_spinup,42.182276"
       ]
      },
      {
       "output_type": "stream",
       "stream": "stdout",
       "text": [
        "\r",
        "[104]Good:http://comt.sura.org/thredds/dodsC/data/comt_1_archive/inundation_tropical/UND_ADCIRC/Hurricane_Ike_2D_preliminary_run_2_spinup_without_advection_implicit_1s,42.182276"
       ]
      },
      {
       "output_type": "stream",
       "stream": "stdout",
       "text": [
        "\r",
        "[105]Good:http://comt.sura.org/thredds/dodsC/data/comt_1_archive/inundation_tropical/UND_ADCIRC/Hurricane_Ike_2D_preliminary_run_3_spinup_with_levees,45.4678"
       ]
      },
      {
       "output_type": "stream",
       "stream": "stdout",
       "text": [
        "\r",
        "[106]Good:http://comt.sura.org/thredds/dodsC/data/comt_1_archive/inundation_tropical/UND_ADCIRC/Hurricane_Ike_2D_preliminary_run_4_spinup_with_levees_and_river_flow,45.4678"
       ]
      },
      {
       "output_type": "stream",
       "stream": "stdout",
       "text": [
        "\r",
        "[107]Good:http://comt.sura.org/thredds/dodsC/data/comt_1_archive/inundation_tropical/UND_ADCIRC/Hurricane_Ike_3D_final_run_with_waves,86652.818596"
       ]
      },
      {
       "output_type": "stream",
       "stream": "stdout",
       "text": [
        "\r",
        "[108]Good:http://comt.sura.org/thredds/dodsC/data/comt_1_archive/inundation_tropical/UND_ADCIRC/Hurricane_Ike_3D_final_run_without_waves,43819.453156"
       ]
      },
      {
       "output_type": "stream",
       "stream": "stdout",
       "text": [
        "\r",
        "[109]Good:http://comt.sura.org/thredds/dodsC/data/comt_1_archive/inundation_tropical/UND_ADCIRC/Hurricane_Ike_3D_preliminary_run_1_spinup,249.332796"
       ]
      },
      {
       "output_type": "stream",
       "stream": "stdout",
       "text": [
        "\r",
        "[110]Good:http://comt.sura.org/thredds/dodsC/data/comt_1_archive/inundation_tropical/UND_ADCIRC/Hurricane_Rita_2D_preliminary_run_1_spinup,42.182276"
       ]
      },
      {
       "output_type": "stream",
       "stream": "stdout",
       "text": [
        "\r",
        "[111]Good:http://comt.sura.org/thredds/dodsC/data/comt_1_archive/inundation_tropical/UND_ADCIRC/Hurricane_Rita_2D_preliminary_run_2_spinup_without_advection_implicit_1s,42.182276"
       ]
      },
      {
       "output_type": "stream",
       "stream": "stdout",
       "text": [
        "\r",
        "[112]Good:http://comt.sura.org/thredds/dodsC/data/comt_1_archive/inundation_tropical/UND_ADCIRC/Hurricane_Rita_3D_final_run_with_waves,259857.318052"
       ]
      },
      {
       "output_type": "stream",
       "stream": "stdout",
       "text": [
        "\r",
        "[113]Good:http://comt.sura.org/thredds/dodsC/data/comt_1_archive/inundation_tropical/UND_ADCIRC/Hurricane_Rita_3D_final_run_without_waves,225203.05546"
       ]
      },
      {
       "output_type": "stream",
       "stream": "stdout",
       "text": [
        "\r",
        "[114]Good:http://comt.sura.org/thredds/dodsC/data/comt_1_archive/inundation_tropical/UND_ADCIRC/Hurricane_Rita_3D_preliminary_run_1_spinup,249.332796"
       ]
      },
      {
       "output_type": "stream",
       "stream": "stdout",
       "text": [
        "\r",
        "[115]Good:http://comt.sura.org/thredds/dodsC/data/comt_1_archive/inundation_tropical/VIMS_SELFE/Hurricane_Ike_2D_final_run_wave_only,3663.039304"
       ]
      },
      {
       "output_type": "stream",
       "stream": "stdout",
       "text": [
        "\r",
        "[116]Good:http://comt.sura.org/thredds/dodsC/data/comt_1_archive/inundation_tropical/VIMS_SELFE/Hurricane_Ike_2D_final_run_with_waves,2019.904684"
       ]
      },
      {
       "output_type": "stream",
       "stream": "stdout",
       "text": [
        "\r",
        "[117]Good:http://comt.sura.org/thredds/dodsC/data/comt_1_archive/inundation_tropical/VIMS_SELFE/Hurricane_Ike_2D_final_run_without_waves,8563.988524"
       ]
      },
      {
       "output_type": "stream",
       "stream": "stdout",
       "text": [
        "\r",
        "[118]Good:http://comt.sura.org/thredds/dodsC/data/comt_1_archive/inundation_tropical/VIMS_SELFE/Hurricane_Ike_3D_final_run_with_waves,19141.219144"
       ]
      },
      {
       "output_type": "stream",
       "stream": "stdout",
       "text": [
        "\r",
        "[119]Good:http://comt.sura.org/thredds/dodsC/data/comt_1_archive/inundation_tropical/VIMS_SELFE/Hurricane_Ike_3D_final_run_without_waves,2752.559944"
       ]
      },
      {
       "output_type": "stream",
       "stream": "stdout",
       "text": [
        "\r",
        "[120]Good:http://comt.sura.org/thredds/dodsC/data/comt_1_archive/inundation_tropical/VIMS_SELFE/Hurricane_Rita_2D_final_run_waves_only,12312.611464"
       ]
      },
      {
       "output_type": "stream",
       "stream": "stdout",
       "text": [
        "\r",
        "[121]Good:http://comt.sura.org/thredds/dodsC/data/comt_1_archive/inundation_tropical/VIMS_SELFE/Hurricane_Rita_2D_final_run_with_waves,2816.57566"
       ]
      },
      {
       "output_type": "stream",
       "stream": "stdout",
       "text": [
        "\r",
        "[122]Good:http://comt.sura.org/thredds/dodsC/data/comt_1_archive/inundation_tropical/VIMS_SELFE/Hurricane_Rita_2D_final_run_without_waves,11978.293036"
       ]
      },
      {
       "output_type": "stream",
       "stream": "stdout",
       "text": [
        "\r",
        "[123]Good:http://comt.sura.org/thredds/dodsC/data/comt_1_archive/inundation_tropical/VIMS_SELFE/Hurricane_Rita_3D_final_run_with_waves,37919.888392"
       ]
      },
      {
       "output_type": "stream",
       "stream": "stdout",
       "text": [
        "\r",
        "[124]Good:http://comt.sura.org/thredds/dodsC/data/comt_1_archive/inundation_tropical/VIMS_SELFE/Hurricane_Rita_3D_final_run_without_waves,25628.396296"
       ]
      },
      {
       "output_type": "stream",
       "stream": "stdout",
       "text": [
        "\r",
        "[125]Good:http://comt.sura.org/thredds/dodsC/data/comt_1_archive/shelf_hypoxia/NOAA_NGOM/2005-2011_NGOM,432242.12404"
       ]
      },
      {
       "output_type": "stream",
       "stream": "stdout",
       "text": [
        "\r",
        "[126]Good:http://www.cencoos.org/thredds/dodsC/shorestations/Bodega_Head_Intertidal/OS_Bodega_Head_intertidal_2007_FL.nc,0.050028"
       ]
      },
      {
       "output_type": "stream",
       "stream": "stdout",
       "text": [
        "\r",
        "[127]Good:http://www.cencoos.org/thredds/dodsC/shorestations/Bodega_Head_Intertidal/OS_Bodega_Head_intertidal_2007_TS.nc,0.094628"
       ]
      },
      {
       "output_type": "stream",
       "stream": "stdout",
       "text": [
        "\r",
        "[128]Good:http://www.cencoos.org/thredds/dodsC/shorestations/Bodega_Head_Intertidal/OS_Bodega_Head_intertidal_2008_FL.nc,0.028152"
       ]
      },
      {
       "output_type": "stream",
       "stream": "stdout",
       "text": [
        "\r",
        "[129]Good:http://www.cencoos.org/thredds/dodsC/shorestations/Bodega_Head_Intertidal/OS_Bodega_Head_intertidal_2008_TS.nc,0.166228"
       ]
      },
      {
       "output_type": "stream",
       "stream": "stdout",
       "text": [
        "\r",
        "[130]Good:http://www.cencoos.org/thredds/dodsC/shorestations/Bodega_Head_Intertidal/OS_Bodega_Head_intertidal_2009_FL.nc,0.077088"
       ]
      },
      {
       "output_type": "stream",
       "stream": "stdout",
       "text": [
        "\r",
        "[131]Good:http://www.cencoos.org/thredds/dodsC/shorestations/Bodega_Head_Intertidal/OS_Bodega_Head_intertidal_2009_TS.nc,0.240468"
       ]
      },
      {
       "output_type": "stream",
       "stream": "stdout",
       "text": [
        "\r",
        "[132]Good:http://www.cencoos.org/thredds/dodsC/shorestations/Bodega_Head_Intertidal/OS_Bodega_Head_intertidal_2010_FL.nc,0.045276"
       ]
      },
      {
       "output_type": "stream",
       "stream": "stdout",
       "text": [
        "\r",
        "[133]Good:http://www.cencoos.org/thredds/dodsC/shorestations/Bodega_Head_Intertidal/OS_Bodega_Head_intertidal_2010_TS.nc,0.232732"
       ]
      },
      {
       "output_type": "stream",
       "stream": "stdout",
       "text": [
        "\r",
        "[134]Good:http://www.cencoos.org/thredds/dodsC/shorestations/Bodega_Head_Intertidal/OS_Bodega_Head_intertidal_2011_FL.nc,0.170052"
       ]
      },
      {
       "output_type": "stream",
       "stream": "stdout",
       "text": [
        "\r",
        "[135]Good:http://www.cencoos.org/thredds/dodsC/shorestations/Bodega_Head_Intertidal/OS_Bodega_Head_intertidal_2011_TS.nc,0.252772"
       ]
      },
      {
       "output_type": "stream",
       "stream": "stdout",
       "text": [
        "\r",
        "[136]Good:http://www.cencoos.org/thredds/dodsC/shorestations/Kibesillah_Hill_Intertidal/OS_Kibesillah_Hill_intertidal_2007_FL.nc,0.023628"
       ]
      },
      {
       "output_type": "stream",
       "stream": "stdout",
       "text": [
        "\r",
        "[137]Good:http://www.cencoos.org/thredds/dodsC/shorestations/Kibesillah_Hill_Intertidal/OS_Kibesillah_Hill_intertidal_2007_TS.nc,0.08482"
       ]
      },
      {
       "output_type": "stream",
       "stream": "stdout",
       "text": [
        "\r",
        "[138]Good:http://www.cencoos.org/thredds/dodsC/shorestations/Kibesillah_Hill_Intertidal/OS_Kibesillah_Hill_intertidal_2008_FL.nc,0.04596"
       ]
      },
      {
       "output_type": "stream",
       "stream": "stdout",
       "text": [
        "\r",
        "[139]Good:http://www.cencoos.org/thredds/dodsC/shorestations/Kibesillah_Hill_Intertidal/OS_Kibesillah_Hill_intertidal_2008_TS.nc,0.082228"
       ]
      },
      {
       "output_type": "stream",
       "stream": "stdout",
       "text": [
        "\r",
        "[140]Good:http://www.cencoos.org/thredds/dodsC/shorestations/Kibesillah_Hill_Intertidal/OS_Kibesillah_Hill_intertidal_2009_FL.nc,0.074784"
       ]
      },
      {
       "output_type": "stream",
       "stream": "stdout",
       "text": [
        "\r",
        "[141]Good:http://www.cencoos.org/thredds/dodsC/shorestations/Kibesillah_Hill_Intertidal/OS_Kibesillah_Hill_intertidal_2009_TS.nc,0.182396"
       ]
      },
      {
       "output_type": "stream",
       "stream": "stdout",
       "text": [
        "\r",
        "[142]Good:http://www.cencoos.org/thredds/dodsC/shorestations/Kibesillah_Hill_Intertidal/OS_Kibesillah_Hill_intertidal_2010_FL.nc,0.06492"
       ]
      },
      {
       "output_type": "stream",
       "stream": "stdout",
       "text": [
        "\r",
        "[143]Good:http://www.cencoos.org/thredds/dodsC/shorestations/Kibesillah_Hill_Intertidal/OS_Kibesillah_Hill_intertidal_2010_TS.nc,0.181236"
       ]
      },
      {
       "output_type": "stream",
       "stream": "stdout",
       "text": [
        "\r",
        "[144]Good:http://www.cencoos.org/thredds/dodsC/shorestations/Kibesillah_Hill_Intertidal/OS_Kibesillah_Hill_intertidal_2011_FL.nc,0.162228"
       ]
      },
      {
       "output_type": "stream",
       "stream": "stdout",
       "text": [
        "\r",
        "[145]Good:http://www.cencoos.org/thredds/dodsC/shorestations/Kibesillah_Hill_Intertidal/OS_Kibesillah_Hill_intertidal_2011_TS.nc,0.181052"
       ]
      },
      {
       "output_type": "stream",
       "stream": "stdout",
       "text": [
        "\r",
        "[146]Fail:http://comt.sura.org/thredds/dodsC/data/comt_1_archive/inundation_tropical/UND_ADCIRC/Hurricane_Ike_2D_preliminary_run_6_without_waves_and_advection_implicit_1s,500"
       ]
      },
      {
       "output_type": "stream",
       "stream": "stdout",
       "text": [
        "\r",
        "[147]Fail:http://comt.sura.org/thredds/dodsC/data/comt_1_archive/inundation_tropical/UND_ADCIRC/Hurricane_Ike_2D_preliminary_run_7_with_waves_without_advection_implicit_1s,500"
       ]
      },
      {
       "output_type": "stream",
       "stream": "stdout",
       "text": [
        "\r",
        "[148]Fail:http://comt.sura.org/thredds/dodsC/data/comt_1_archive/inundation_tropical/UND_ADCIRC/Hurricane_Ike_2D_preliminary_run_8_with_waves_and_levees,500"
       ]
      },
      {
       "output_type": "stream",
       "stream": "stdout",
       "text": [
        "\r",
        "[149]Fail:http://comt.sura.org/thredds/dodsC/data/comt_1_archive/inundation_tropical/UND_ADCIRC/Hurricane_Ike_2D_preliminary_run_9_with_waves_and_levees_and_river_flow,500"
       ]
      },
      {
       "output_type": "stream",
       "stream": "stdout",
       "text": [
        "\r",
        "[150]Good:http://www.smast.umassd.edu:8080/thredds/dodsC/FVCOM/NECOFS/Forecasts/NECOFS_WAVE_FORECAST.nc,251.48394\r",
        "[151]Good:http://colossus.dl.stevens-tech.edu/thredds/dodsC/latest/Complete_gcmplt.nc,4214.95098"
       ]
      },
      {
       "output_type": "stream",
       "stream": "stdout",
       "text": [
        "\r",
        "[152]Good:http://comt.sura.org/thredds/dodsC/data/comt_1_archive/shelf_hypoxia/DAL_ROMS/2004-2009_climatology_obc_with_oxygen_inst_rem_20layers,24038.704352"
       ]
      },
      {
       "output_type": "stream",
       "stream": "stdout",
       "text": [
        "\r",
        "[153]Fail:http://thredds.cdip.ucsd.edu/thredds/dodsC/cdip/archive/097p1/097p1_historic_T_Z.nc,404"
       ]
      },
      {
       "output_type": "stream",
       "stream": "stdout",
       "text": [
        "\r",
        "[154]Fail:http://thredds.cdip.ucsd.edu/thredds/dodsC/cdip/archive/097p1/097p1_historic_Z.nc,404"
       ]
      },
      {
       "output_type": "stream",
       "stream": "stdout",
       "text": [
        "\r",
        "[155]Good:http://sccoos-obs0.ucsd.edu/thredds/dodsC/MSS/CityofNewportBeachLifeguards/NewportPier.ncml,0.892836"
       ]
      },
      {
       "output_type": "stream",
       "stream": "stdout",
       "text": [
        "\r",
        "[156]Good:http://sccoos-obs0.ucsd.edu/thredds/dodsC/MSS/HumboldtStateMarineLab/TrinidadBay.ncml,0.24024"
       ]
      },
      {
       "output_type": "stream",
       "stream": "stdout",
       "text": [
        "\r",
        "[157]Good:http://sccoos-obs0.ucsd.edu/thredds/dodsC/MSS/HumboldtStateMarineLab/TrinidadBeach.ncml,0.386512"
       ]
      },
      {
       "output_type": "stream",
       "stream": "stdout",
       "text": [
        "\r",
        "[158]Good:http://sccoos-obs0.ucsd.edu/thredds/dodsC/MSS/UCD_MPSL/BeachGraniteCanyon.ncml,0.304752"
       ]
      },
      {
       "output_type": "stream",
       "stream": "stdout",
       "text": [
        "\r",
        "[159]Fail:http://thredds.cdip.ucsd.edu/thredds/dodsC/cdip/archive/179p1/179p1_combo_tmp.nc,404"
       ]
      },
      {
       "output_type": "stream",
       "stream": "stdout",
       "text": [
        "\r",
        "[160]Fail:http://tds.maracoos.org/thredds/dodsC/MODIS-2009-Agg.nc,500"
       ]
      },
      {
       "output_type": "stream",
       "stream": "stdout",
       "text": [
        "\r",
        "[161]Fail:http://tds.maracoos.org/thredds/dodsC/MODIS-2010-Agg.nc,500\r",
        "[162]Fail:http://tds.maracoos.org/thredds/dodsC/MODIS-2011-Agg.nc,500"
       ]
      },
      {
       "output_type": "stream",
       "stream": "stdout",
       "text": [
        "\r",
        "[163]Fail:http://tds.maracoos.org/thredds/dodsC/MODIS-2012-Agg.nc,500\r",
        "[164]Fail:http://tds.maracoos.org/thredds/dodsC/MODIS-2013-Agg.nc,500"
       ]
      },
      {
       "output_type": "stream",
       "stream": "stdout",
       "text": [
        "\r",
        "[165]Good:http://ecowatch.ncddc.noaa.gov/thredds/dodsC/hycom/hycom_reg1_agg/HYCOM_Region_1_Aggregation_best.ncd,1689489.55205"
       ]
      },
      {
       "output_type": "stream",
       "stream": "stdout",
       "text": [
        "\r",
        "[166]Good:http://ecowatch.ncddc.noaa.gov/thredds/dodsC/hycom/hycom_reg6_agg/HYCOM_Region_6_Aggregation_best.ncd,1676244.93516"
       ]
      },
      {
       "output_type": "stream",
       "stream": "stdout",
       "text": [
        "\r",
        "[167]Good:http://ecowatch.ncddc.noaa.gov/thredds/dodsC/hycom/hycom_reg7_agg/HYCOM_Region_7_Aggregation_best.ncd,1150041.75191"
       ]
      },
      {
       "output_type": "stream",
       "stream": "stdout",
       "text": [
        "\r",
        "[168]Good:http://ecowatch.ncddc.noaa.gov/thredds/dodsC/hycom/hycom_reg17_agg/HYCOM_Region_17_Aggregation_best.ncd,549917.854376"
       ]
      },
      {
       "output_type": "stream",
       "stream": "stdout",
       "text": [
        "\r",
        "[169]Good:http://ecowatch.ncddc.noaa.gov/thredds/dodsC/hycom/hycom_sfc_agg/HYCOM_Surface_Aggregation_best.ncd,696073.367472"
       ]
      },
      {
       "output_type": "stream",
       "stream": "stdout",
       "text": [
        "\r",
        "[170]Fail:http://thredds.axiomalaska.com/thredds/dodsC/MB_DAS.nc,-1"
       ]
      },
      {
       "output_type": "stream",
       "stream": "stdout",
       "text": [
        "\r",
        "[171]Fail:http://ecowatch.ncddc.noaa.gov/thredds/dodsC/ncom_amseas_agg_20091119_20130404/Amseas_May_2010_-_Apr_04_2013_best.ncd,404"
       ]
      },
      {
       "output_type": "stream",
       "stream": "stdout",
       "text": [
        "\r",
        "[172]Fail:http://ecowatch.ncddc.noaa.gov/thredds/dodsC/ncom_amseas_agg/AmSeas_Apr_05_2013_-_Current_best.ncd,404"
       ]
      },
      {
       "output_type": "stream",
       "stream": "stdout",
       "text": [
        "\r",
        "[173]Fail:http://ecowatch.ncddc.noaa.gov/thredds/dodsC/ncom_us_east_agg/US_East_Apr_05_2013_-_Current_best.ncd,404"
       ]
      },
      {
       "output_type": "stream",
       "stream": "stdout",
       "text": [
        "\r",
        "[174]Fail:http://ecowatch.ncddc.noaa.gov/thredds/dodsC/ncom_us_east_before_depth_change_agg/US_East_Feb_2009_-_November_18_2009_best.ncd,404"
       ]
      },
      {
       "output_type": "stream",
       "stream": "stdout",
       "text": [
        "\r",
        "[175]Fail:http://ecowatch.ncddc.noaa.gov/thredds/dodsC/ncom_useast_agg_20091119_20130404/US_East_Nov_19,_2009_-_Apr_04_2013_best.ncd,404"
       ]
      },
      {
       "output_type": "stream",
       "stream": "stdout",
       "text": [
        "\r",
        "[176]Good:http://crow.marine.usf.edu:8080/thredds/dodsC/WFS_FVCOM_NF_model/USF_WFCOM_NF_20140922.nc,1762.730456"
       ]
      },
      {
       "output_type": "stream",
       "stream": "stdout",
       "text": [
        "\r",
        "[177]Good:http://crow.marine.usf.edu:8080/thredds/dodsC/WFS_FVCOM_NF_model/USF_WFCOM_NF_20140923.nc,1762.730456"
       ]
      },
      {
       "output_type": "stream",
       "stream": "stdout",
       "text": [
        "\r",
        "[178]Good:http://crow.marine.usf.edu:8080/thredds/dodsC/WFS_Model_Test/USF_WFSCOM_NF_20131010.nc,1762.730456"
       ]
      },
      {
       "output_type": "stream",
       "stream": "stdout",
       "text": [
        "\r",
        "[179]Good:http://thredds.axiomalaska.com/thredds/dodsC/SCB_DAS.nc,3180.573184"
       ]
      },
      {
       "output_type": "stream",
       "stream": "stdout",
       "text": [
        "\r",
        "[180]Fail:http://ecowatch.ncddc.noaa.gov/thredds/dodsC/ncom_amseas_agg/AmSeas_Sep_23_2014_to_Current_best.ncd,404"
       ]
      },
      {
       "output_type": "stream",
       "stream": "stdout",
       "text": [
        "\r",
        "[181]Fail:http://thredds.axiomalaska.com/thredds/dodsC/COAMPS_3KM_AGG_AIR_TEMP.nc,404"
       ]
      },
      {
       "output_type": "stream",
       "stream": "stdout",
       "text": [
        "\r",
        "[182]Fail:http://thredds.axiomalaska.com/thredds/dodsC/COAMPS_3KM_AGG_WIND.nc,404"
       ]
      },
      {
       "output_type": "stream",
       "stream": "stdout",
       "text": [
        "\r",
        "[183]Fail:http://thredds.axiomalaska.com/thredds/dodsC/COAMPS_4KM_AGG_AIR_TEMP.nc,404"
       ]
      },
      {
       "output_type": "stream",
       "stream": "stdout",
       "text": [
        "\r",
        "[184]Fail:http://thredds.axiomalaska.com/thredds/dodsC/COAMPS_4KM_AGG_WIND.nc,404"
       ]
      },
      {
       "output_type": "stream",
       "stream": "stdout",
       "text": [
        "\r",
        "[185]Fail:http://sos.maracoos.org/thredds/dodsC/agg/codarstps/agg.nc,503\r",
        "[186]Fail:http://sos.maracoos.org/thredds/dodsC/agg/hfradar/agg.nc,503"
       ]
      },
      {
       "output_type": "stream",
       "stream": "stdout",
       "text": [
        "\r",
        "[187]Fail:http://sos.maracoos.org/thredds/dodsC/agg/nam/agg.nc,503\r",
        "[188]Fail:http://sos.maracoos.org/thredds/dodsC/agg/navhycom/agg.nc,503"
       ]
      },
      {
       "output_type": "stream",
       "stream": "stdout",
       "text": [
        "\r",
        "[189]Fail:http://sos.maracoos.org/thredds/dodsC/agg/stevensnyhops/agg.nc,503\r",
        "[190]Fail:http://sos.maracoos.org/thredds/dodsC/agg/umasshops/agg.nc,503"
       ]
      },
      {
       "output_type": "stream",
       "stream": "stdout",
       "text": [
        "\r",
        "[191]Fail:http://sos.maracoos.org/thredds/dodsC/agg/wwiii/agg.nc,503\r",
        "[192]Fail:http://thredds.axiomalaska.com/thredds/dodsC/PMEL_CCCMA1.nc,-1"
       ]
      },
      {
       "output_type": "stream",
       "stream": "stdout",
       "text": [
        "\r",
        "[193]Fail:http://thredds.axiomalaska.com/thredds/dodsC/PMEL_CFSR.nc,-1"
       ]
      },
      {
       "output_type": "stream",
       "stream": "stdout",
       "text": [
        "\r",
        "[194]Fail:http://thredds.axiomalaska.com/thredds/dodsC/PMEL_CORE.nc,-1"
       ]
      },
      {
       "output_type": "stream",
       "stream": "stdout",
       "text": [
        "\r",
        "[195]Fail:http://thredds.axiomalaska.com/thredds/dodsC/PMEL_ECHOG.nc,-1"
       ]
      },
      {
       "output_type": "stream",
       "stream": "stdout",
       "text": [
        "\r",
        "[196]Good:http://thredds.axiomalaska.com/thredds/dodsC/PMEL_FORECAST.nc,2488.352448"
       ]
      },
      {
       "output_type": "stream",
       "stream": "stdout",
       "text": [
        "\r",
        "[197]Fail:http://thredds.axiomalaska.com/thredds/dodsC/PMEL_MIROC.nc,-1"
       ]
      },
      {
       "output_type": "stream",
       "stream": "stdout",
       "text": [
        "\r",
        "[198]Fail:http://thredds.axiomalaska.com/thredds/dodsC/ERDATSSTA1DAY.nc,-1"
       ]
      },
      {
       "output_type": "stream",
       "stream": "stdout",
       "text": [
        "\r",
        "[199]Fail:http://thredds.axiomalaska.com/thredds/dodsC/ERDATSSTA8DAY.nc,-1"
       ]
      },
      {
       "output_type": "stream",
       "stream": "stdout",
       "text": [
        "\r",
        "[200]Good:http://thredds.axiomalaska.com/thredds/dodsC/ERDATSSTAMDAY.nc,2466.64582"
       ]
      },
      {
       "output_type": "stream",
       "stream": "stdout",
       "text": [
        "\r",
        "[201]Fail:http://thredds.axiomalaska.com/thredds/dodsC/ERDMWCHLA1DAY.nc,-1"
       ]
      },
      {
       "output_type": "stream",
       "stream": "stdout",
       "text": [
        "\r",
        "[202]Fail:http://thredds.axiomalaska.com/thredds/dodsC/ERDMWCHLA8DAY.nc,-1"
       ]
      },
      {
       "output_type": "stream",
       "stream": "stdout",
       "text": [
        "\r",
        "[203]Fail:http://thredds.axiomalaska.com/thredds/dodsC/ERDMWCHLAMDAY.nc,-1"
       ]
      },
      {
       "output_type": "stream",
       "stream": "stdout",
       "text": [
        "\r",
        "[204]Fail:http://thredds.axiomalaska.com/thredds/dodsC/MAURER.nc,-1"
       ]
      },
      {
       "output_type": "stream",
       "stream": "stdout",
       "text": [
        "\r",
        "[205]Fail:http://thredds.axiomalaska.com/thredds/dodsC/UCSC.nc,-1"
       ]
      },
      {
       "output_type": "stream",
       "stream": "stdout",
       "text": [
        "\r",
        "[206]Good:http://oos.soest.hawaii.edu/thredds/dodsC/hioos/nss/ns01agg,17.004972"
       ]
      },
      {
       "output_type": "stream",
       "stream": "stdout",
       "text": [
        "\r",
        "[207]Good:http://oos.soest.hawaii.edu/thredds/dodsC/hioos/nss/ns02agg,13.340172"
       ]
      },
      {
       "output_type": "stream",
       "stream": "stdout",
       "text": [
        "\r",
        "[208]Good:http://oos.soest.hawaii.edu/thredds/dodsC/hioos/nss/ns03agg,15.314412"
       ]
      },
      {
       "output_type": "stream",
       "stream": "stdout",
       "text": [
        "\r",
        "[209]Fail:http://oos.soest.hawaii.edu/thredds/dodsC/hioos/nss/ns04agg,-1"
       ]
      },
      {
       "output_type": "stream",
       "stream": "stdout",
       "text": [
        "\r",
        "[210]Good:http://oos.soest.hawaii.edu/thredds/dodsC/pacioos/nss/ns05agg,15.321612"
       ]
      },
      {
       "output_type": "stream",
       "stream": "stdout",
       "text": [
        "\r",
        "[211]Good:http://oos.soest.hawaii.edu/thredds/dodsC/pacioos/nss/ns06agg,15.805452"
       ]
      },
      {
       "output_type": "stream",
       "stream": "stdout",
       "text": [
        "\r",
        "[212]Good:http://oos.soest.hawaii.edu/thredds/dodsC/pacioos/nss/ns07agg,15.775212"
       ]
      },
      {
       "output_type": "stream",
       "stream": "stdout",
       "text": [
        "\r",
        "[213]Good:http://oos.soest.hawaii.edu/thredds/dodsC/pacioos/nss/ns08agg,14.521932"
       ]
      },
      {
       "output_type": "stream",
       "stream": "stdout",
       "text": [
        "\r",
        "[214]Good:http://oos.soest.hawaii.edu/thredds/dodsC/pacioos/nss/ns09agg,2.590572"
       ]
      },
      {
       "output_type": "stream",
       "stream": "stdout",
       "text": [
        "\r",
        "[215]Good:http://oos.soest.hawaii.edu/thredds/dodsC/hioos/nss/ns10agg,12.771372"
       ]
      },
      {
       "output_type": "stream",
       "stream": "stdout",
       "text": [
        "\r",
        "[216]Good:http://oos.soest.hawaii.edu/thredds/dodsC/pacioos/nss/ns11agg,7.812012"
       ]
      },
      {
       "output_type": "stream",
       "stream": "stdout",
       "text": [
        "\r",
        "[217]Good:http://oos.soest.hawaii.edu/thredds/dodsC/hioos/nss/ns13agg,0.777612"
       ]
      },
      {
       "output_type": "stream",
       "stream": "stdout",
       "text": [
        "\r",
        "[218]Good:http://oos.soest.hawaii.edu/thredds/dodsC/pacioos/nss/ns15agg,4.011852"
       ]
      },
      {
       "output_type": "stream",
       "stream": "stdout",
       "text": [
        "\r",
        "[219]Good:http://oos.soest.hawaii.edu/thredds/dodsC/hioos/nss/ns16agg,3.205452"
       ]
      },
      {
       "output_type": "stream",
       "stream": "stdout",
       "text": [
        "\r",
        "[220]Good:http://oos.soest.hawaii.edu/thredds/dodsC/hioos/wqb/wqb03agg,0.078472"
       ]
      },
      {
       "output_type": "stream",
       "stream": "stdout",
       "text": [
        "\r",
        "[221]Good:http://oos.soest.hawaii.edu/thredds/dodsC/hioos/wqb/wqb04agg,8.6592"
       ]
      },
      {
       "output_type": "stream",
       "stream": "stdout",
       "text": [
        "\r",
        "[222]Good:http://oos.soest.hawaii.edu/thredds/dodsC/hioos/wqb/wqbawagg,10.112256"
       ]
      },
      {
       "output_type": "stream",
       "stream": "stdout",
       "text": [
        "\r",
        "[223]Good:http://oos.soest.hawaii.edu/thredds/dodsC/hioos/wqb/wqbknagg,9.127296"
       ]
      },
      {
       "output_type": "stream",
       "stream": "stdout",
       "text": [
        "\r",
        "[224]Good:http://oos.soest.hawaii.edu/thredds/dodsC/hioos/model/atm/ncep_global/NCEP_Global_Atmospheric_Model_best.ncd,194684.49704"
       ]
      },
      {
       "output_type": "stream",
       "stream": "stdout",
       "text": [
        "\r",
        "[225]Good:http://oos.soest.hawaii.edu/thredds/dodsC/hioos/roms_assim/hiig/ROMS_Hawaii_Regional_Ocean_Model_Assimilation_best.ncd,78306.654982"
       ]
      },
      {
       "output_type": "stream",
       "stream": "stdout",
       "text": [
        "\r",
        "[226]Good:http://oos.soest.hawaii.edu/thredds/dodsC/hioos/roms_forec/hiig/ROMS_Hawaii_Regional_Ocean_Model_best.ncd,81176.004046"
       ]
      },
      {
       "output_type": "stream",
       "stream": "stdout",
       "text": [
        "\r",
        "[227]Good:http://oos.soest.hawaii.edu/thredds/dodsC/hioos/roms_assim/hiog/ROMS_Oahu_Regional_Ocean_Model_Assimilation_best.ncd,4675.61755"
       ]
      },
      {
       "output_type": "stream",
       "stream": "stdout",
       "text": [
        "\r",
        "[228]Good:http://oos.soest.hawaii.edu/thredds/dodsC/hioos/roms_forec/hiog/ROMS_Oahu_Regional_Ocean_Model_best.ncd,4920.64519"
       ]
      },
      {
       "output_type": "stream",
       "stream": "stdout",
       "text": [
        "\r",
        "[229]Good:http://oos.soest.hawaii.edu/thredds/dodsC/hioos/roms_forec/hiomsag/ROMS_Waikiki_Regional_Ocean_Model_best.ncd,10394.989532"
       ]
      },
      {
       "output_type": "stream",
       "stream": "stdout",
       "text": [
        "\r",
        "[230]Good:http://oos.soest.hawaii.edu/thredds/dodsC/hioos/roms_forec/hiomsg/ROMS_Oahu_South_Shore_Regional_Ocean_Model_best.ncd,5023.33436"
       ]
      },
      {
       "output_type": "stream",
       "stream": "stdout",
       "text": [
        "\r",
        "[231]Good:http://oos.soest.hawaii.edu/thredds/dodsC/pacioos/roms_assim/mari/ROMS_CNMI_Regional_Ocean_Model_Assimilation_best.ncd,141190.820312"
       ]
      },
      {
       "output_type": "stream",
       "stream": "stdout",
       "text": [
        "\r",
        "[232]Good:http://oos.soest.hawaii.edu/thredds/dodsC/pacioos/roms_forec/mari/ROMS_CNMI_Regional_Ocean_Model_best.ncd,143438.344448"
       ]
      },
      {
       "output_type": "stream",
       "stream": "stdout",
       "text": [
        "\r",
        "[233]Good:http://oos.soest.hawaii.edu/thredds/dodsC/pacioos/roms_forec/marig/ROMS_Guam_Regional_Ocean_Model_best.ncd,71322.71723"
       ]
      },
      {
       "output_type": "stream",
       "stream": "stdout",
       "text": [
        "\r",
        "[234]Good:http://oos.soest.hawaii.edu/thredds/dodsC/pacioos/roms_assim/samoa/ROMS_Samoa_Regional_Ocean_Model_Assimilation_best.ncd,28587.436744"
       ]
      },
      {
       "output_type": "stream",
       "stream": "stdout",
       "text": [
        "\r",
        "[235]Good:http://oos.soest.hawaii.edu/thredds/dodsC/pacioos/roms_forec/samoa/ROMS_Samoa_Regional_Ocean_Model_best.ncd,50130.684016"
       ]
      },
      {
       "output_type": "stream",
       "stream": "stdout",
       "text": [
        "\r",
        "[236]Good:http://oos.soest.hawaii.edu/thredds/dodsC/pacioos/scud/pac,2691.336268"
       ]
      },
      {
       "output_type": "stream",
       "stream": "stdout",
       "text": [
        "\r",
        "[237]Good:http://oos.soest.hawaii.edu/thredds/dodsC/hioos/glider/sg114_3_agg,14.164632"
       ]
      },
      {
       "output_type": "stream",
       "stream": "stdout",
       "text": [
        "\r",
        "[238]Good:http://oos.soest.hawaii.edu/thredds/dodsC/hioos/glider/sg114_4_agg,0.650448"
       ]
      },
      {
       "output_type": "stream",
       "stream": "stdout",
       "text": [
        "\r",
        "[239]Good:http://oos.soest.hawaii.edu/thredds/dodsC/hioos/glider/sg139_1_agg,5.81592"
       ]
      },
      {
       "output_type": "stream",
       "stream": "stdout",
       "text": [
        "\r",
        "[240]Fail:http://oos.soest.hawaii.edu/thredds/dodsC/hioos/glider/sg139_2_agg,-1"
       ]
      },
      {
       "output_type": "stream",
       "stream": "stdout",
       "text": [
        "\r",
        "[241]Good:http://oos.soest.hawaii.edu/thredds/dodsC/hioos/glider/sg139_3_agg,1.725732"
       ]
      },
      {
       "output_type": "stream",
       "stream": "stdout",
       "text": [
        "\r",
        "[242]Good:http://oos.soest.hawaii.edu/thredds/dodsC/hioos/glider/sg139_6_agg,5.647536"
       ]
      },
      {
       "output_type": "stream",
       "stream": "stdout",
       "text": [
        "\r",
        "[243]Good:http://oos.soest.hawaii.edu/thredds/dodsC/hioos/glider/sg139_7_agg,32.670288"
       ]
      },
      {
       "output_type": "stream",
       "stream": "stdout",
       "text": [
        "\r",
        "[244]Good:http://oos.soest.hawaii.edu/thredds/dodsC/hioos/glider/sg139_8_agg,35.929296"
       ]
      },
      {
       "output_type": "stream",
       "stream": "stdout",
       "text": [
        "\r",
        "[245]Good:http://oos.soest.hawaii.edu/thredds/dodsC/hioos/glider/sg139_9_agg,18.034776"
       ]
      },
      {
       "output_type": "stream",
       "stream": "stdout",
       "text": [
        "\r",
        "[246]Good:http://oos.soest.hawaii.edu/thredds/dodsC/hioos/glider/sg523_1_agg,16.954992"
       ]
      },
      {
       "output_type": "stream",
       "stream": "stdout",
       "text": [
        "\r",
        "[247]Good:http://oos.soest.hawaii.edu/thredds/dodsC/hioos/glider/sg523_3_agg,16.223616"
       ]
      },
      {
       "output_type": "stream",
       "stream": "stdout",
       "text": [
        "\r",
        "[248]Good:http://oos.soest.hawaii.edu/thredds/dodsC/hioos/glider/sg523_4_agg,36.903744"
       ]
      },
      {
       "output_type": "stream",
       "stream": "stdout",
       "text": [
        "\r",
        "[249]Good:http://oos.soest.hawaii.edu/thredds/dodsC/hioos/model/wav/swan/apra/SWAN_Apra_Harbor_Regional_Wave_Model_best.ncd,10093.399332"
       ]
      },
      {
       "output_type": "stream",
       "stream": "stdout",
       "text": [
        "\r",
        "[250]Good:http://oos.soest.hawaii.edu/thredds/dodsC/hioos/model/wav/swan/bigi/SWAN_Big_Island_Regional_Wave_Model_best.ncd,17461.013884"
       ]
      },
      {
       "output_type": "stream",
       "stream": "stdout",
       "text": [
        "\r",
        "[251]Good:http://oos.soest.hawaii.edu/thredds/dodsC/hioos/model/wav/swan/guam/SWAN_Guam_Regional_Wave_Model_best.ncd,5965.509596"
       ]
      },
      {
       "output_type": "stream",
       "stream": "stdout",
       "text": [
        "\r",
        "[252]Good:http://oos.soest.hawaii.edu/thredds/dodsC/hioos/model/wav/swan/kauai/SWAN_Kauai_Regional_Wave_Model_best.ncd,23173.583724"
       ]
      },
      {
       "output_type": "stream",
       "stream": "stdout",
       "text": [
        "\r",
        "[253]Good:http://oos.soest.hawaii.edu/thredds/dodsC/hioos/model/wav/swan/maui/SWAN_Maui_Regional_Wave_Model_best.ncd,10523.228044"
       ]
      },
      {
       "output_type": "stream",
       "stream": "stdout",
       "text": [
        "\r",
        "[254]Good:http://oos.soest.hawaii.edu/thredds/dodsC/hioos/model/wav/swan/oahu/SWAN_Oahu_Regional_Wave_Model_best.ncd,12908.236028"
       ]
      },
      {
       "output_type": "stream",
       "stream": "stdout",
       "text": [
        "\r",
        "[255]Good:http://oos.soest.hawaii.edu/thredds/dodsC/hioos/model/wav/swan/samoa/SWAN_Tutuila_Regional_Wave_Model_best.ncd,1929.183524"
       ]
      },
      {
       "output_type": "stream",
       "stream": "stdout",
       "text": [
        "\r",
        "[256]Good:http://oos.soest.hawaii.edu/thredds/dodsC/hioos/tide_bi,207341.36536"
       ]
      },
      {
       "output_type": "stream",
       "stream": "stdout",
       "text": [
        "\r",
        "[257]Good:http://oos.soest.hawaii.edu/thredds/dodsC/hioos/tide_mhi,433294.906904"
       ]
      },
      {
       "output_type": "stream",
       "stream": "stdout",
       "text": [
        "\r",
        "[258]Good:http://oos.soest.hawaii.edu/thredds/dodsC/hioos/tide_pac,4905.595096"
       ]
      },
      {
       "output_type": "stream",
       "stream": "stdout",
       "text": [
        "\r",
        "[259]Good:http://oos.soest.hawaii.edu/thredds/dodsC/hioos/model/atm/wrf_cnmi/WRF_CNMI_Regional_Atmospheric_Model_best.ncd,21975.595596"
       ]
      },
      {
       "output_type": "stream",
       "stream": "stdout",
       "text": [
        "\r",
        "[260]Good:http://oos.soest.hawaii.edu/thredds/dodsC/hioos/model/atm/wrf_guam/WRF_Guam_Regional_Atmospheric_Model_best.ncd,10267.945112"
       ]
      },
      {
       "output_type": "stream",
       "stream": "stdout",
       "text": [
        "\r",
        "[261]Good:http://oos.soest.hawaii.edu/thredds/dodsC/hioos/model/atm/wrf_hi/WRF_Hawaii_Regional_Atmospheric_Model_best.ncd,42314.5647"
       ]
      },
      {
       "output_type": "stream",
       "stream": "stdout",
       "text": [
        "\r",
        "[262]Good:http://oos.soest.hawaii.edu/thredds/dodsC/hioos/model/atm/wrf_mo/WRF_Maui-Oahu_Regional_Atmospheric_Model_best.ncd,23933.180268"
       ]
      },
      {
       "output_type": "stream",
       "stream": "stdout",
       "text": [
        "\r",
        "[263]Good:http://oos.soest.hawaii.edu/thredds/dodsC/hioos/model/atm/wrf_oa/WRF_Oahu_Regional_Atmospheric_Model_best.ncd,6081.526952"
       ]
      },
      {
       "output_type": "stream",
       "stream": "stdout",
       "text": [
        "\r",
        "[264]Good:http://oos.soest.hawaii.edu/thredds/dodsC/hioos/model/atm/wrf_samoa/WRF_Samoa_Regional_Atmospheric_Model_best.ncd,11222.498148"
       ]
      },
      {
       "output_type": "stream",
       "stream": "stdout",
       "text": [
        "\r",
        "[265]Good:http://oos.soest.hawaii.edu/thredds/dodsC/hioos/model/wav/ww3/WaveWatch_III_Global_Wave_Model_best.ncd,286396.32816"
       ]
      },
      {
       "output_type": "stream",
       "stream": "stdout",
       "text": [
        "\r",
        "[266]Good:http://oos.soest.hawaii.edu/thredds/dodsC/hioos/model/wav/ww3/hawaii/WaveWatch_III_Hawaii_Regional_Wave_Model_best.ncd,15434.321772"
       ]
      },
      {
       "output_type": "stream",
       "stream": "stdout",
       "text": [
        "\r",
        "[267]Good:http://oos.soest.hawaii.edu/thredds/dodsC/hioos/model/wav/ww3/mariana/WaveWatch_III_Mariana_Regional_Wave_Model_best.ncd,3462.804172"
       ]
      },
      {
       "output_type": "stream",
       "stream": "stdout",
       "text": [
        "\r",
        "[268]Good:http://oos.soest.hawaii.edu/thredds/dodsC/hioos/model/wav/ww3/nwhi/WaveWatch_III_Northwestern_Hawaiian_Islands_Regional_Wave_Model_best.ncd,1075.401892"
       ]
      },
      {
       "output_type": "stream",
       "stream": "stdout",
       "text": [
        "\r",
        "[269]Good:http://oos.soest.hawaii.edu/thredds/dodsC/hioos/model/wav/ww3/samoa/WaveWatch_III_Samoa_Regional_Wave_Model_best.ncd,2333.713772"
       ]
      },
      {
       "output_type": "stream",
       "stream": "stdout",
       "text": [
        "\r",
        "[270]Good:http://www.neracoos.org/thredds/dodsC/UMO/DSG/SOS/A01/CTD52m/HistoricRealtime/Agg.ncml,0.047268"
       ]
      },
      {
       "output_type": "stream",
       "stream": "stdout",
       "text": [
        "\r",
        "[271]Good:http://thredds.cdip.ucsd.edu/thredds/dodsC/cdip/archive/028p1/028p1_d01.nc,715.045504"
       ]
      },
      {
       "output_type": "stream",
       "stream": "stdout",
       "text": [
        "\r",
        "[272]Good:http://thredds.cdip.ucsd.edu/thredds/dodsC/cdip/archive/028p1/028p1_d02.nc,958.31104"
       ]
      },
      {
       "output_type": "stream",
       "stream": "stdout",
       "text": [
        "\r",
        "[273]Good:http://thredds.cdip.ucsd.edu/thredds/dodsC/cdip/archive/028p1/028p1_d03.nc,969.986176"
       ]
      },
      {
       "output_type": "stream",
       "stream": "stdout",
       "text": [
        "\r",
        "[274]Good:http://thredds.cdip.ucsd.edu/thredds/dodsC/cdip/archive/028p1/028p1_d04.nc,11.31288"
       ]
      },
      {
       "output_type": "stream",
       "stream": "stdout",
       "text": [
        "\r",
        "[275]Good:http://thredds.cdip.ucsd.edu/thredds/dodsC/cdip/archive/028p1/028p1_d05.nc,633.981952"
       ]
      },
      {
       "output_type": "stream",
       "stream": "stdout",
       "text": [
        "\r",
        "[276]Good:http://thredds.cdip.ucsd.edu/thredds/dodsC/cdip/archive/028p1/028p1_d06.nc,183.044976"
       ]
      },
      {
       "output_type": "stream",
       "stream": "stdout",
       "text": [
        "\r",
        "[277]Good:http://thredds.cdip.ucsd.edu/thredds/dodsC/cdip/archive/028p1/028p1_d07.nc,1245.077632"
       ]
      },
      {
       "output_type": "stream",
       "stream": "stdout",
       "text": [
        "\r",
        "[278]Good:http://thredds.cdip.ucsd.edu/thredds/dodsC/cdip/archive/028p1/028p1_d08.nc,438.474496"
       ]
      },
      {
       "output_type": "stream",
       "stream": "stdout",
       "text": [
        "\r",
        "[279]Good:http://thredds.cdip.ucsd.edu/thredds/dodsC/cdip/archive/028p1/028p1_d09.nc,1064.627968"
       ]
      },
      {
       "output_type": "stream",
       "stream": "stdout",
       "text": [
        "\r",
        "[280]Good:http://thredds.cdip.ucsd.edu/thredds/dodsC/cdip/archive/028p1/028p1_d10.nc,1113.679744"
       ]
      },
      {
       "output_type": "stream",
       "stream": "stdout",
       "text": [
        "\r",
        "[281]Good:http://thredds.cdip.ucsd.edu/thredds/dodsC/cdip/archive/028p1/028p1_d11.nc,438.993512"
       ]
      },
      {
       "output_type": "stream",
       "stream": "stdout",
       "text": [
        "\r",
        "[282]Good:http://thredds.cdip.ucsd.edu/thredds/dodsC/cdip/archive/028p1/028p1_d12.nc,520.162424"
       ]
      },
      {
       "output_type": "stream",
       "stream": "stdout",
       "text": [
        "\r",
        "[283]Good:http://thredds.cdip.ucsd.edu/thredds/dodsC/cdip/archive/028p1/028p1_d13.nc,225.628432"
       ]
      },
      {
       "output_type": "stream",
       "stream": "stdout",
       "text": [
        "\r",
        "[284]Good:http://thredds.cdip.ucsd.edu/thredds/dodsC/cdip/archive/028p1/028p1_d14.nc,885.300344"
       ]
      },
      {
       "output_type": "stream",
       "stream": "stdout",
       "text": [
        "\r",
        "[285]Good:http://thredds.cdip.ucsd.edu/thredds/dodsC/cdip/archive/028p1/028p1_d15.nc,8.38688"
       ]
      },
      {
       "output_type": "stream",
       "stream": "stdout",
       "text": [
        "\r",
        "[286]Good:http://thredds.cdip.ucsd.edu/thredds/dodsC/cdip/archive/028p1/028p1_historic.nc,637.998336"
       ]
      },
      {
       "output_type": "stream",
       "stream": "stdout",
       "text": [
        "\r",
        "[287]Good:http://thredds.cdip.ucsd.edu/thredds/dodsC/cdip/archive/029p1/029p1_d01.nc,544.363"
       ]
      },
      {
       "output_type": "stream",
       "stream": "stdout",
       "text": [
        "\r",
        "[288]Good:http://thredds.cdip.ucsd.edu/thredds/dodsC/cdip/archive/029p1/029p1_d02.nc,482.368768"
       ]
      },
      {
       "output_type": "stream",
       "stream": "stdout",
       "text": [
        "\r",
        "[289]Good:http://thredds.cdip.ucsd.edu/thredds/dodsC/cdip/archive/029p1/029p1_d03.nc,222.417264"
       ]
      },
      {
       "output_type": "stream",
       "stream": "stdout",
       "text": [
        "\r",
        "[290]Good:http://thredds.cdip.ucsd.edu/thredds/dodsC/cdip/archive/029p1/029p1_d04.nc,590.899072"
       ]
      },
      {
       "output_type": "stream",
       "stream": "stdout",
       "text": [
        "\r",
        "[291]Good:http://thredds.cdip.ucsd.edu/thredds/dodsC/cdip/archive/029p1/029p1_d05.nc,606.358912"
       ]
      },
      {
       "output_type": "stream",
       "stream": "stdout",
       "text": [
        "\r",
        "[292]Good:http://thredds.cdip.ucsd.edu/thredds/dodsC/cdip/archive/029p1/029p1_d06.nc,671.037184"
       ]
      },
      {
       "output_type": "stream",
       "stream": "stdout",
       "text": [
        "\r",
        "[293]Good:http://thredds.cdip.ucsd.edu/thredds/dodsC/cdip/archive/029p1/029p1_d07.nc,141.808752"
       ]
      },
      {
       "output_type": "stream",
       "stream": "stdout",
       "text": [
        "\r",
        "[294]Good:http://thredds.cdip.ucsd.edu/thredds/dodsC/cdip/archive/029p1/029p1_d08.nc,572.804608"
       ]
      },
      {
       "output_type": "stream",
       "stream": "stdout",
       "text": [
        "\r",
        "[295]Good:http://thredds.cdip.ucsd.edu/thredds/dodsC/cdip/archive/029p1/029p1_d09.nc,189.516144"
       ]
      },
      {
       "output_type": "stream",
       "stream": "stdout",
       "text": [
        "\r",
        "[296]Good:http://thredds.cdip.ucsd.edu/thredds/dodsC/cdip/archive/029p1/029p1_d10.nc,754.235392"
       ]
      },
      {
       "output_type": "stream",
       "stream": "stdout",
       "text": [
        "\r",
        "[297]Good:http://thredds.cdip.ucsd.edu/thredds/dodsC/cdip/archive/029p1/029p1_d11.nc,938.689408"
       ]
      },
      {
       "output_type": "stream",
       "stream": "stdout",
       "text": [
        "\r",
        "[298]Good:http://thredds.cdip.ucsd.edu/thredds/dodsC/cdip/archive/029p1/029p1_d12.nc,135.740784"
       ]
      },
      {
       "output_type": "stream",
       "stream": "stdout",
       "text": [
        "\r",
        "[299]Good:http://thredds.cdip.ucsd.edu/thredds/dodsC/cdip/archive/029p1/029p1_d13.nc,1052.603776"
       ]
      },
      {
       "output_type": "stream",
       "stream": "stdout",
       "text": [
        "\r",
        "[300]Good:http://thredds.cdip.ucsd.edu/thredds/dodsC/cdip/archive/029p1/029p1_d14.nc,1070.860288"
       ]
      },
      {
       "output_type": "stream",
       "stream": "stdout",
       "text": [
        "\r",
        "[301]Good:http://thredds.cdip.ucsd.edu/thredds/dodsC/cdip/archive/029p1/029p1_d15.nc,178.794128"
       ]
      },
      {
       "output_type": "stream",
       "stream": "stdout",
       "text": [
        "\r",
        "[302]Good:http://thredds.cdip.ucsd.edu/thredds/dodsC/cdip/archive/029p1/029p1_d16.nc,910.81748"
       ]
      },
      {
       "output_type": "stream",
       "stream": "stdout",
       "text": [
        "\r",
        "[303]Good:http://thredds.cdip.ucsd.edu/thredds/dodsC/cdip/archive/029p1/029p1_d17.nc,1051.715952"
       ]
      },
      {
       "output_type": "stream",
       "stream": "stdout",
       "text": [
        "\r",
        "[304]Good:http://thredds.cdip.ucsd.edu/thredds/dodsC/cdip/archive/029p1/029p1_d18.nc,1091.5884"
       ]
      },
      {
       "output_type": "stream",
       "stream": "stdout",
       "text": [
        "\r",
        "[305]Good:http://thredds.cdip.ucsd.edu/thredds/dodsC/cdip/archive/029p1/029p1_d19.nc,613.893224"
       ]
      },
      {
       "output_type": "stream",
       "stream": "stdout",
       "text": [
        "\r",
        "[306]Good:http://thredds.cdip.ucsd.edu/thredds/dodsC/cdip/archive/029p1/029p1_historic.nc,786.412436"
       ]
      },
      {
       "output_type": "stream",
       "stream": "stdout",
       "text": [
        "\r",
        "[307]Good:http://thredds.cdip.ucsd.edu/thredds/dodsC/cdip/archive/036p1/036p1_d15.nc,690.747568"
       ]
      },
      {
       "output_type": "stream",
       "stream": "stdout",
       "text": [
        "\r",
        "[308]Good:http://thredds.cdip.ucsd.edu/thredds/dodsC/cdip/archive/036p1/036p1_d16.nc,400.516072"
       ]
      },
      {
       "output_type": "stream",
       "stream": "stdout",
       "text": [
        "\r",
        "[309]Good:http://thredds.cdip.ucsd.edu/thredds/dodsC/cdip/archive/036p1/036p1_d17.nc,30.795984"
       ]
      },
      {
       "output_type": "stream",
       "stream": "stdout",
       "text": [
        "\r",
        "[310]Good:http://thredds.cdip.ucsd.edu/thredds/dodsC/cdip/archive/036p1/036p1_d18.nc,614.667976"
       ]
      },
      {
       "output_type": "stream",
       "stream": "stdout",
       "text": [
        "\r",
        "[311]Good:http://thredds.cdip.ucsd.edu/thredds/dodsC/cdip/archive/036p1/036p1_d19.nc,641.663728"
       ]
      },
      {
       "output_type": "stream",
       "stream": "stdout",
       "text": [
        "\r",
        "[312]Good:http://thredds.cdip.ucsd.edu/thredds/dodsC/cdip/archive/036p1/036p1_d20.nc,215.277192"
       ]
      },
      {
       "output_type": "stream",
       "stream": "stdout",
       "text": [
        "\r",
        "[313]Good:http://thredds.cdip.ucsd.edu/thredds/dodsC/cdip/archive/036p1/036p1_d21.nc,213.194088"
       ]
      },
      {
       "output_type": "stream",
       "stream": "stdout",
       "text": [
        "\r",
        "[314]Good:http://thredds.cdip.ucsd.edu/thredds/dodsC/cdip/archive/036p1/036p1_d22.nc,548.963512"
       ]
      },
      {
       "output_type": "stream",
       "stream": "stdout",
       "text": [
        "\r",
        "[315]Good:http://thredds.cdip.ucsd.edu/thredds/dodsC/cdip/archive/036p1/036p1_d23.nc,459.77344"
       ]
      },
      {
       "output_type": "stream",
       "stream": "stdout",
       "text": [
        "\r",
        "[316]Good:http://thredds.cdip.ucsd.edu/thredds/dodsC/cdip/archive/036p1/036p1_d24.nc,636.756496"
       ]
      },
      {
       "output_type": "stream",
       "stream": "stdout",
       "text": [
        "\r",
        "[317]Good:http://thredds.cdip.ucsd.edu/thredds/dodsC/cdip/archive/036p1/036p1_d25.nc,41.381064"
       ]
      },
      {
       "output_type": "stream",
       "stream": "stdout",
       "text": [
        "\r",
        "[318]Good:http://thredds.cdip.ucsd.edu/thredds/dodsC/cdip/archive/036p1/036p1_d26.nc,489.13792"
       ]
      },
      {
       "output_type": "stream",
       "stream": "stdout",
       "text": [
        "\r",
        "[319]Good:http://thredds.cdip.ucsd.edu/thredds/dodsC/cdip/archive/036p1/036p1_d27.nc,259.85988"
       ]
      },
      {
       "output_type": "stream",
       "stream": "stdout",
       "text": [
        "\r",
        "[320]Good:http://thredds.cdip.ucsd.edu/thredds/dodsC/cdip/archive/036p1/036p1_d28.nc,786.785152"
       ]
      },
      {
       "output_type": "stream",
       "stream": "stdout",
       "text": [
        "\r",
        "[321]Good:http://thredds.cdip.ucsd.edu/thredds/dodsC/cdip/archive/036p1/036p1_d29.nc,3.763056"
       ]
      },
      {
       "output_type": "stream",
       "stream": "stdout",
       "text": [
        "\r",
        "[322]Good:http://thredds.cdip.ucsd.edu/thredds/dodsC/cdip/archive/036p1/036p1_d30.nc,836.606848"
       ]
      },
      {
       "output_type": "stream",
       "stream": "stdout",
       "text": [
        "\r",
        "[323]Good:http://thredds.cdip.ucsd.edu/thredds/dodsC/cdip/archive/036p1/036p1_d31.nc,503.229568"
       ]
      },
      {
       "output_type": "stream",
       "stream": "stdout",
       "text": [
        "\r",
        "[324]Good:http://thredds.cdip.ucsd.edu/thredds/dodsC/cdip/archive/036p1/036p1_d32.nc,1065.568768"
       ]
      },
      {
       "output_type": "stream",
       "stream": "stdout",
       "text": [
        "\r",
        "[325]Good:http://thredds.cdip.ucsd.edu/thredds/dodsC/cdip/archive/036p1/036p1_d33.nc,184.094632"
       ]
      },
      {
       "output_type": "stream",
       "stream": "stdout",
       "text": [
        "\r",
        "[326]Good:http://thredds.cdip.ucsd.edu/thredds/dodsC/cdip/archive/036p1/036p1_d34.nc,1458.114296"
       ]
      },
      {
       "output_type": "stream",
       "stream": "stdout",
       "text": [
        "\r",
        "[327]Good:http://thredds.cdip.ucsd.edu/thredds/dodsC/cdip/archive/036p1/036p1_d35.nc,669.604992"
       ]
      },
      {
       "output_type": "stream",
       "stream": "stdout",
       "text": [
        "\r",
        "[328]Good:http://thredds.cdip.ucsd.edu/thredds/dodsC/cdip/archive/036p1/036p1_d36.nc,1281.773648"
       ]
      },
      {
       "output_type": "stream",
       "stream": "stdout",
       "text": [
        "\r",
        "[329]Good:http://thredds.cdip.ucsd.edu/thredds/dodsC/cdip/archive/036p1/036p1_d37.nc,16.456304"
       ]
      },
      {
       "output_type": "stream",
       "stream": "stdout",
       "text": [
        "\r",
        "[330]Good:http://thredds.cdip.ucsd.edu/thredds/dodsC/cdip/archive/036p1/036p1_d38.nc,50.078904"
       ]
      },
      {
       "output_type": "stream",
       "stream": "stdout",
       "text": [
        "\r",
        "[331]Good:http://thredds.cdip.ucsd.edu/thredds/dodsC/cdip/archive/036p1/036p1_d39.nc,951.006376"
       ]
      },
      {
       "output_type": "stream",
       "stream": "stdout",
       "text": [
        "\r",
        "[332]Good:http://thredds.cdip.ucsd.edu/thredds/dodsC/cdip/archive/036p1/036p1_historic.nc,775.121604"
       ]
      },
      {
       "output_type": "stream",
       "stream": "stdout",
       "text": [
        "\r",
        "[333]Good:http://thredds.cdip.ucsd.edu/thredds/dodsC/cdip/archive/043p1/043p1_d01.nc,465.575144"
       ]
      },
      {
       "output_type": "stream",
       "stream": "stdout",
       "text": [
        "\r",
        "[334]Good:http://thredds.cdip.ucsd.edu/thredds/dodsC/cdip/archive/043p1/043p1_d02.nc,345.562208"
       ]
      },
      {
       "output_type": "stream",
       "stream": "stdout",
       "text": [
        "\r",
        "[335]Good:http://thredds.cdip.ucsd.edu/thredds/dodsC/cdip/archive/043p1/043p1_d03.nc,544.766256"
       ]
      },
      {
       "output_type": "stream",
       "stream": "stdout",
       "text": [
        "\r",
        "[336]Good:http://thredds.cdip.ucsd.edu/thredds/dodsC/cdip/archive/043p1/043p1_d04.nc,25.603684"
       ]
      },
      {
       "output_type": "stream",
       "stream": "stdout",
       "text": [
        "\r",
        "[337]Good:http://thredds.cdip.ucsd.edu/thredds/dodsC/cdip/archive/043p1/043p1_d05.nc,207.504148"
       ]
      },
      {
       "output_type": "stream",
       "stream": "stdout",
       "text": [
        "\r",
        "[338]Good:http://thredds.cdip.ucsd.edu/thredds/dodsC/cdip/archive/043p1/043p1_d06.nc,343.505296"
       ]
      },
      {
       "output_type": "stream",
       "stream": "stdout",
       "text": [
        "\r",
        "[339]Good:http://thredds.cdip.ucsd.edu/thredds/dodsC/cdip/archive/043p1/043p1_d07.nc,211.773064"
       ]
      },
      {
       "output_type": "stream",
       "stream": "stdout",
       "text": [
        "\r",
        "[340]Good:http://thredds.cdip.ucsd.edu/thredds/dodsC/cdip/archive/043p1/043p1_d08.nc,521.665552"
       ]
      },
      {
       "output_type": "stream",
       "stream": "stdout",
       "text": [
        "\r",
        "[341]Good:http://thredds.cdip.ucsd.edu/thredds/dodsC/cdip/archive/043p1/043p1_d09.nc,527.118128"
       ]
      },
      {
       "output_type": "stream",
       "stream": "stdout",
       "text": [
        "\r",
        "[342]Good:http://thredds.cdip.ucsd.edu/thredds/dodsC/cdip/archive/043p1/043p1_d10.nc,51.67834"
       ]
      },
      {
       "output_type": "stream",
       "stream": "stdout",
       "text": [
        "\r",
        "[343]Good:http://thredds.cdip.ucsd.edu/thredds/dodsC/cdip/archive/043p1/043p1_d11.nc,65.344828"
       ]
      },
      {
       "output_type": "stream",
       "stream": "stdout",
       "text": [
        "\r",
        "[344]Good:http://thredds.cdip.ucsd.edu/thredds/dodsC/cdip/archive/043p1/043p1_d12.nc,385.41656"
       ]
      },
      {
       "output_type": "stream",
       "stream": "stdout",
       "text": [
        "\r",
        "[345]Good:http://thredds.cdip.ucsd.edu/thredds/dodsC/cdip/archive/043p1/043p1_d13.nc,39.24056"
       ]
      },
      {
       "output_type": "stream",
       "stream": "stdout",
       "text": [
        "\r",
        "[346]Good:http://thredds.cdip.ucsd.edu/thredds/dodsC/cdip/archive/043p1/043p1_d14.nc,398.658204"
       ]
      },
      {
       "output_type": "stream",
       "stream": "stdout",
       "text": [
        "\r",
        "[347]Good:http://thredds.cdip.ucsd.edu/thredds/dodsC/cdip/archive/043p1/043p1_d15.nc,134.096728"
       ]
      },
      {
       "output_type": "stream",
       "stream": "stdout",
       "text": [
        "\r",
        "[348]Good:http://thredds.cdip.ucsd.edu/thredds/dodsC/cdip/archive/043p1/043p1_d16.nc,81.227496"
       ]
      },
      {
       "output_type": "stream",
       "stream": "stdout",
       "text": [
        "\r",
        "[349]Good:http://thredds.cdip.ucsd.edu/thredds/dodsC/cdip/archive/043p1/043p1_historic.nc,292.959628"
       ]
      },
      {
       "output_type": "stream",
       "stream": "stdout",
       "text": [
        "\r",
        "[350]Good:http://thredds.cdip.ucsd.edu/thredds/dodsC/cdip/archive/045p1/045p1_d01.nc,922.872256"
       ]
      },
      {
       "output_type": "stream",
       "stream": "stdout",
       "text": [
        "\r",
        "[351]Good:http://thredds.cdip.ucsd.edu/thredds/dodsC/cdip/archive/045p1/045p1_d02.nc,130.549248"
       ]
      },
      {
       "output_type": "stream",
       "stream": "stdout",
       "text": [
        "\r",
        "[352]Good:http://thredds.cdip.ucsd.edu/thredds/dodsC/cdip/archive/045p1/045p1_d03.nc,459.771496"
       ]
      },
      {
       "output_type": "stream",
       "stream": "stdout",
       "text": [
        "\r",
        "[353]Good:http://thredds.cdip.ucsd.edu/thredds/dodsC/cdip/archive/045p1/045p1_d04.nc,686.50828"
       ]
      },
      {
       "output_type": "stream",
       "stream": "stdout",
       "text": [
        "\r",
        "[354]Good:http://thredds.cdip.ucsd.edu/thredds/dodsC/cdip/archive/045p1/045p1_d05.nc,371.761432"
       ]
      },
      {
       "output_type": "stream",
       "stream": "stdout",
       "text": [
        "\r",
        "[355]Good:http://thredds.cdip.ucsd.edu/thredds/dodsC/cdip/archive/045p1/045p1_d06.nc,118.819512"
       ]
      },
      {
       "output_type": "stream",
       "stream": "stdout",
       "text": [
        "\r",
        "[356]Good:http://thredds.cdip.ucsd.edu/thredds/dodsC/cdip/archive/045p1/045p1_d07.nc,597.441472"
       ]
      },
      {
       "output_type": "stream",
       "stream": "stdout",
       "text": [
        "\r",
        "[357]Good:http://thredds.cdip.ucsd.edu/thredds/dodsC/cdip/archive/045p1/045p1_d08.nc,812.366848"
       ]
      },
      {
       "output_type": "stream",
       "stream": "stdout",
       "text": [
        "\r",
        "[358]Good:http://thredds.cdip.ucsd.edu/thredds/dodsC/cdip/archive/045p1/045p1_d09.nc,186.388416"
       ]
      },
      {
       "output_type": "stream",
       "stream": "stdout",
       "text": [
        "\r",
        "[359]Good:http://thredds.cdip.ucsd.edu/thredds/dodsC/cdip/archive/045p1/045p1_d10.nc,407.229424"
       ]
      },
      {
       "output_type": "stream",
       "stream": "stdout",
       "text": [
        "\r",
        "[360]Good:http://thredds.cdip.ucsd.edu/thredds/dodsC/cdip/archive/045p1/045p1_d11.nc,474.290944"
       ]
      },
      {
       "output_type": "stream",
       "stream": "stdout",
       "text": [
        "\r",
        "[361]Good:http://thredds.cdip.ucsd.edu/thredds/dodsC/cdip/archive/045p1/045p1_d12.nc,1088.8"
       ]
      },
      {
       "output_type": "stream",
       "stream": "stdout",
       "text": [
        "\r",
        "[362]Good:http://thredds.cdip.ucsd.edu/thredds/dodsC/cdip/archive/045p1/045p1_d13.nc,654.352384"
       ]
      },
      {
       "output_type": "stream",
       "stream": "stdout",
       "text": [
        "\r",
        "[363]Good:http://thredds.cdip.ucsd.edu/thredds/dodsC/cdip/archive/045p1/045p1_d14.nc,1805.559092"
       ]
      },
      {
       "output_type": "stream",
       "stream": "stdout",
       "text": [
        "\r",
        "[364]Good:http://thredds.cdip.ucsd.edu/thredds/dodsC/cdip/archive/045p1/045p1_d15.nc,984.971776"
       ]
      },
      {
       "output_type": "stream",
       "stream": "stdout",
       "text": [
        "\r",
        "[365]Good:http://thredds.cdip.ucsd.edu/thredds/dodsC/cdip/archive/045p1/045p1_d16.nc,412.68352"
       ]
      },
      {
       "output_type": "stream",
       "stream": "stdout",
       "text": [
        "\r",
        "[366]Good:http://thredds.cdip.ucsd.edu/thredds/dodsC/cdip/archive/045p1/045p1_d17.nc,1110.258832"
       ]
      },
      {
       "output_type": "stream",
       "stream": "stdout",
       "text": [
        "\r",
        "[367]Good:http://thredds.cdip.ucsd.edu/thredds/dodsC/cdip/archive/045p1/045p1_d18.nc,737.950564"
       ]
      },
      {
       "output_type": "stream",
       "stream": "stdout",
       "text": [
        "\r",
        "[368]Good:http://thredds.cdip.ucsd.edu/thredds/dodsC/cdip/archive/045p1/045p1_historic.nc,801.397528"
       ]
      },
      {
       "output_type": "stream",
       "stream": "stdout",
       "text": [
        "\r",
        "[369]Good:http://thredds.cdip.ucsd.edu/thredds/dodsC/cdip/archive/067p1/067p1_d01.nc,26.457208"
       ]
      },
      {
       "output_type": "stream",
       "stream": "stdout",
       "text": [
        "\r",
        "[370]Good:http://thredds.cdip.ucsd.edu/thredds/dodsC/cdip/archive/067p1/067p1_d02.nc,26.209456"
       ]
      },
      {
       "output_type": "stream",
       "stream": "stdout",
       "text": [
        "\r",
        "[371]Good:http://thredds.cdip.ucsd.edu/thredds/dodsC/cdip/archive/067p1/067p1_d03.nc,12.316696"
       ]
      },
      {
       "output_type": "stream",
       "stream": "stdout",
       "text": [
        "\r",
        "[372]Good:http://thredds.cdip.ucsd.edu/thredds/dodsC/cdip/archive/067p1/067p1_d04.nc,4.098256"
       ]
      },
      {
       "output_type": "stream",
       "stream": "stdout",
       "text": [
        "\r",
        "[373]Good:http://thredds.cdip.ucsd.edu/thredds/dodsC/cdip/archive/067p1/067p1_d05.nc,11.131216"
       ]
      },
      {
       "output_type": "stream",
       "stream": "stdout",
       "text": [
        "\r",
        "[374]Good:http://thredds.cdip.ucsd.edu/thredds/dodsC/cdip/archive/067p1/067p1_d06.nc,10.744936"
       ]
      },
      {
       "output_type": "stream",
       "stream": "stdout",
       "text": [
        "\r",
        "[375]Good:http://thredds.cdip.ucsd.edu/thredds/dodsC/cdip/archive/067p1/067p1_d07.nc,399.374008"
       ]
      },
      {
       "output_type": "stream",
       "stream": "stdout",
       "text": [
        "\r",
        "[376]Good:http://thredds.cdip.ucsd.edu/thredds/dodsC/cdip/archive/067p1/067p1_d08.nc,742.648576"
       ]
      },
      {
       "output_type": "stream",
       "stream": "stdout",
       "text": [
        "\r",
        "[377]Good:http://thredds.cdip.ucsd.edu/thredds/dodsC/cdip/archive/067p1/067p1_d09.nc,709.717696"
       ]
      },
      {
       "output_type": "stream",
       "stream": "stdout",
       "text": [
        "\r",
        "[378]Good:http://thredds.cdip.ucsd.edu/thredds/dodsC/cdip/archive/067p1/067p1_d10.nc,85.115376"
       ]
      },
      {
       "output_type": "stream",
       "stream": "stdout",
       "text": [
        "\r",
        "[379]Good:http://thredds.cdip.ucsd.edu/thredds/dodsC/cdip/archive/067p1/067p1_d11.nc,499.4464"
       ]
      },
      {
       "output_type": "stream",
       "stream": "stdout",
       "text": [
        "\r",
        "[380]Good:http://thredds.cdip.ucsd.edu/thredds/dodsC/cdip/archive/067p1/067p1_d12.nc,607.385176"
       ]
      },
      {
       "output_type": "stream",
       "stream": "stdout",
       "text": [
        "\r",
        "[381]Good:http://thredds.cdip.ucsd.edu/thredds/dodsC/cdip/archive/067p1/067p1_d13.nc,556.170208"
       ]
      },
      {
       "output_type": "stream",
       "stream": "stdout",
       "text": [
        "\r",
        "[382]Good:http://thredds.cdip.ucsd.edu/thredds/dodsC/cdip/archive/067p1/067p1_d14.nc,231.796728"
       ]
      },
      {
       "output_type": "stream",
       "stream": "stdout",
       "text": [
        "\r",
        "[383]Good:http://thredds.cdip.ucsd.edu/thredds/dodsC/cdip/archive/067p1/067p1_d15.nc,851.976448"
       ]
      },
      {
       "output_type": "stream",
       "stream": "stdout",
       "text": [
        "\r",
        "[384]Good:http://thredds.cdip.ucsd.edu/thredds/dodsC/cdip/archive/067p1/067p1_d16.nc,134.333424"
       ]
      },
      {
       "output_type": "stream",
       "stream": "stdout",
       "text": [
        "\r",
        "[385]Good:http://thredds.cdip.ucsd.edu/thredds/dodsC/cdip/archive/067p1/067p1_d17.nc,809.363584"
       ]
      },
      {
       "output_type": "stream",
       "stream": "stdout",
       "text": [
        "\r",
        "[386]Good:http://thredds.cdip.ucsd.edu/thredds/dodsC/cdip/archive/067p1/067p1_d18.nc,318.440576"
       ]
      },
      {
       "output_type": "stream",
       "stream": "stdout",
       "text": [
        "\r",
        "[387]Good:http://thredds.cdip.ucsd.edu/thredds/dodsC/cdip/archive/067p1/067p1_d19.nc,1227.676672"
       ]
      },
      {
       "output_type": "stream",
       "stream": "stdout",
       "text": [
        "\r",
        "[388]Good:http://thredds.cdip.ucsd.edu/thredds/dodsC/cdip/archive/067p1/067p1_d20.nc,505.519672"
       ]
      },
      {
       "output_type": "stream",
       "stream": "stdout",
       "text": [
        "\r",
        "[389]Good:http://thredds.cdip.ucsd.edu/thredds/dodsC/cdip/archive/067p1/067p1_d21.nc,390.812888"
       ]
      },
      {
       "output_type": "stream",
       "stream": "stdout",
       "text": [
        "\r",
        "[390]Good:http://thredds.cdip.ucsd.edu/thredds/dodsC/cdip/archive/067p1/067p1_d22.nc,788.335952"
       ]
      },
      {
       "output_type": "stream",
       "stream": "stdout",
       "text": [
        "\r",
        "[391]Good:http://thredds.cdip.ucsd.edu/thredds/dodsC/cdip/archive/067p1/067p1_historic.nc,620.663896"
       ]
      },
      {
       "output_type": "stream",
       "stream": "stdout",
       "text": [
        "\r",
        "[392]Good:http://thredds.cdip.ucsd.edu/thredds/dodsC/cdip/archive/071p1/071p1_d01.nc,14.367976"
       ]
      },
      {
       "output_type": "stream",
       "stream": "stdout",
       "text": [
        "\r",
        "[393]Good:http://thredds.cdip.ucsd.edu/thredds/dodsC/cdip/archive/071p1/071p1_d02.nc,9.114568"
       ]
      },
      {
       "output_type": "stream",
       "stream": "stdout",
       "text": [
        "\r",
        "[394]Good:http://thredds.cdip.ucsd.edu/thredds/dodsC/cdip/archive/071p1/071p1_d03.nc,201.619152"
       ]
      },
      {
       "output_type": "stream",
       "stream": "stdout",
       "text": [
        "\r",
        "[395]Good:http://thredds.cdip.ucsd.edu/thredds/dodsC/cdip/archive/071p1/071p1_d04.nc,421.969408"
       ]
      },
      {
       "output_type": "stream",
       "stream": "stdout",
       "text": [
        "\r",
        "[396]Good:http://thredds.cdip.ucsd.edu/thredds/dodsC/cdip/archive/071p1/071p1_d05.nc,689.876224"
       ]
      },
      {
       "output_type": "stream",
       "stream": "stdout",
       "text": [
        "\r",
        "[397]Good:http://thredds.cdip.ucsd.edu/thredds/dodsC/cdip/archive/071p1/071p1_d06.nc,809.069056"
       ]
      },
      {
       "output_type": "stream",
       "stream": "stdout",
       "text": [
        "\r",
        "[398]Good:http://thredds.cdip.ucsd.edu/thredds/dodsC/cdip/archive/071p1/071p1_d07.nc,713.255296"
       ]
      },
      {
       "output_type": "stream",
       "stream": "stdout",
       "text": [
        "\r",
        "[399]Good:http://thredds.cdip.ucsd.edu/thredds/dodsC/cdip/archive/071p1/071p1_d08.nc,664.610176"
       ]
      },
      {
       "output_type": "stream",
       "stream": "stdout",
       "text": [
        "\r",
        "[400]Good:http://thredds.cdip.ucsd.edu/thredds/dodsC/cdip/archive/071p1/071p1_d09.nc,913.4176"
       ]
      },
      {
       "output_type": "stream",
       "stream": "stdout",
       "text": [
        "\r",
        "[401]Good:http://thredds.cdip.ucsd.edu/thredds/dodsC/cdip/archive/071p1/071p1_d10.nc,9.572592"
       ]
      },
      {
       "output_type": "stream",
       "stream": "stdout",
       "text": [
        "\r",
        "[402]Good:http://thredds.cdip.ucsd.edu/thredds/dodsC/cdip/archive/071p1/071p1_d11.nc,796.686592"
       ]
      },
      {
       "output_type": "stream",
       "stream": "stdout",
       "text": [
        "\r",
        "[403]Good:http://thredds.cdip.ucsd.edu/thredds/dodsC/cdip/archive/071p1/071p1_d12.nc,1632.810184"
       ]
      },
      {
       "output_type": "stream",
       "stream": "stdout",
       "text": [
        "\r",
        "[404]Good:http://thredds.cdip.ucsd.edu/thredds/dodsC/cdip/archive/071p1/071p1_d13.nc,725.774512"
       ]
      },
      {
       "output_type": "stream",
       "stream": "stdout",
       "text": [
        "\r",
        "[405]Good:http://thredds.cdip.ucsd.edu/thredds/dodsC/cdip/archive/071p1/071p1_d14.nc,1125.527448"
       ]
      },
      {
       "output_type": "stream",
       "stream": "stdout",
       "text": [
        "\r",
        "[406]Good:http://thredds.cdip.ucsd.edu/thredds/dodsC/cdip/archive/071p1/071p1_d15.nc,77.926328"
       ]
      },
      {
       "output_type": "stream",
       "stream": "stdout",
       "text": [
        "\r",
        "[407]Good:http://thredds.cdip.ucsd.edu/thredds/dodsC/cdip/archive/071p1/071p1_d16.nc,1125.603868"
       ]
      },
      {
       "output_type": "stream",
       "stream": "stdout",
       "text": [
        "\r",
        "[408]Good:http://thredds.cdip.ucsd.edu/thredds/dodsC/cdip/archive/071p1/071p1_d17.nc,894.359492"
       ]
      },
      {
       "output_type": "stream",
       "stream": "stdout",
       "text": [
        "\r",
        "[409]Good:http://thredds.cdip.ucsd.edu/thredds/dodsC/cdip/archive/071p1/071p1_historic.nc,747.588412"
       ]
      },
      {
       "output_type": "stream",
       "stream": "stdout",
       "text": [
        "\r",
        "[410]Good:http://thredds.cdip.ucsd.edu/thredds/dodsC/cdip/archive/076p1/076p1_d08.nc,535.611904"
       ]
      },
      {
       "output_type": "stream",
       "stream": "stdout",
       "text": [
        "\r",
        "[411]Good:http://thredds.cdip.ucsd.edu/thredds/dodsC/cdip/archive/076p1/076p1_d09.nc,631.285864"
       ]
      },
      {
       "output_type": "stream",
       "stream": "stdout",
       "text": [
        "\r",
        "[412]Good:http://thredds.cdip.ucsd.edu/thredds/dodsC/cdip/archive/076p1/076p1_d10.nc,305.520176"
       ]
      },
      {
       "output_type": "stream",
       "stream": "stdout",
       "text": [
        "\r",
        "[413]Good:http://thredds.cdip.ucsd.edu/thredds/dodsC/cdip/archive/076p1/076p1_d11.nc,557.231272"
       ]
      },
      {
       "output_type": "stream",
       "stream": "stdout",
       "text": [
        "\r",
        "[414]Good:http://thredds.cdip.ucsd.edu/thredds/dodsC/cdip/archive/076p1/076p1_d12.nc,489.661576"
       ]
      },
      {
       "output_type": "stream",
       "stream": "stdout",
       "text": [
        "\r",
        "[415]Good:http://thredds.cdip.ucsd.edu/thredds/dodsC/cdip/archive/076p1/076p1_d13.nc,274.169952"
       ]
      },
      {
       "output_type": "stream",
       "stream": "stdout",
       "text": [
        "\r",
        "[416]Good:http://thredds.cdip.ucsd.edu/thredds/dodsC/cdip/archive/076p1/076p1_d14.nc,745.814608"
       ]
      },
      {
       "output_type": "stream",
       "stream": "stdout",
       "text": [
        "\r",
        "[417]Good:http://thredds.cdip.ucsd.edu/thredds/dodsC/cdip/archive/076p1/076p1_d15.nc,542.405176"
       ]
      },
      {
       "output_type": "stream",
       "stream": "stdout",
       "text": [
        "\r",
        "[418]Good:http://thredds.cdip.ucsd.edu/thredds/dodsC/cdip/archive/076p1/076p1_d16.nc,1050.665992"
       ]
      },
      {
       "output_type": "stream",
       "stream": "stdout",
       "text": [
        "\r",
        "[419]Good:http://thredds.cdip.ucsd.edu/thredds/dodsC/cdip/archive/076p1/076p1_d17.nc,489.332824"
       ]
      },
      {
       "output_type": "stream",
       "stream": "stdout",
       "text": [
        "\r",
        "[420]Good:http://thredds.cdip.ucsd.edu/thredds/dodsC/cdip/archive/076p1/076p1_d18.nc,104.346936"
       ]
      },
      {
       "output_type": "stream",
       "stream": "stdout",
       "text": [
        "\r",
        "[421]Good:http://thredds.cdip.ucsd.edu/thredds/dodsC/cdip/archive/076p1/076p1_d19.nc,581.129584"
       ]
      },
      {
       "output_type": "stream",
       "stream": "stdout",
       "text": [
        "\r",
        "[422]Good:http://thredds.cdip.ucsd.edu/thredds/dodsC/cdip/archive/076p1/076p1_d20.nc,347.061296"
       ]
      },
      {
       "output_type": "stream",
       "stream": "stdout",
       "text": [
        "\r",
        "[423]Good:http://thredds.cdip.ucsd.edu/thredds/dodsC/cdip/archive/076p1/076p1_d21.nc,106.328736"
       ]
      },
      {
       "output_type": "stream",
       "stream": "stdout",
       "text": [
        "\r",
        "[424]Good:http://thredds.cdip.ucsd.edu/thredds/dodsC/cdip/archive/076p1/076p1_d22.nc,688.355944"
       ]
      },
      {
       "output_type": "stream",
       "stream": "stdout",
       "text": [
        "\r",
        "[425]Good:http://thredds.cdip.ucsd.edu/thredds/dodsC/cdip/archive/076p1/076p1_d23.nc,777.092608"
       ]
      },
      {
       "output_type": "stream",
       "stream": "stdout",
       "text": [
        "\r",
        "[426]Good:http://thredds.cdip.ucsd.edu/thredds/dodsC/cdip/archive/076p1/076p1_d24.nc,1327.404544"
       ]
      },
      {
       "output_type": "stream",
       "stream": "stdout",
       "text": [
        "\r",
        "[427]Good:http://thredds.cdip.ucsd.edu/thredds/dodsC/cdip/archive/076p1/076p1_d25.nc,1646.643712"
       ]
      },
      {
       "output_type": "stream",
       "stream": "stdout",
       "text": [
        "\r",
        "[428]Good:http://thredds.cdip.ucsd.edu/thredds/dodsC/cdip/archive/076p1/076p1_d26.nc,432.23384"
       ]
      },
      {
       "output_type": "stream",
       "stream": "stdout",
       "text": [
        "\r",
        "[429]Good:http://thredds.cdip.ucsd.edu/thredds/dodsC/cdip/archive/076p1/076p1_d27.nc,809.9727"
       ]
      },
      {
       "output_type": "stream",
       "stream": "stdout",
       "text": [
        "\r",
        "[430]Good:http://thredds.cdip.ucsd.edu/thredds/dodsC/cdip/archive/076p1/076p1_historic.nc,766.956884"
       ]
      },
      {
       "output_type": "stream",
       "stream": "stdout",
       "text": [
        "\r",
        "[431]Good:http://thredds.cdip.ucsd.edu/thredds/dodsC/cdip/archive/081p1/081p1_d01.nc,99.345672"
       ]
      },
      {
       "output_type": "stream",
       "stream": "stdout",
       "text": [
        "\r",
        "[432]Good:http://thredds.cdip.ucsd.edu/thredds/dodsC/cdip/archive/081p1/081p1_historic.nc,4.87412"
       ]
      },
      {
       "output_type": "stream",
       "stream": "stdout",
       "text": [
        "\r",
        "[433]Good:http://thredds.cdip.ucsd.edu/thredds/dodsC/cdip/archive/087p1/087p1_d01.nc,123.50916"
       ]
      },
      {
       "output_type": "stream",
       "stream": "stdout",
       "text": [
        "\r",
        "[434]Good:http://thredds.cdip.ucsd.edu/thredds/dodsC/cdip/archive/087p1/087p1_historic.nc,4.143544"
       ]
      },
      {
       "output_type": "stream",
       "stream": "stdout",
       "text": [
        "\r",
        "[435]Good:http://thredds.cdip.ucsd.edu/thredds/dodsC/cdip/archive/088p1/088p1_d01.nc,126.229608"
       ]
      },
      {
       "output_type": "stream",
       "stream": "stdout",
       "text": [
        "\r",
        "[436]Good:http://thredds.cdip.ucsd.edu/thredds/dodsC/cdip/archive/088p1/088p1_historic.nc,8.04364"
       ]
      },
      {
       "output_type": "stream",
       "stream": "stdout",
       "text": [
        "\r",
        "[437]Good:http://thredds.cdip.ucsd.edu/thredds/dodsC/cdip/archive/089p1/089p1_d03.nc,94.092048"
       ]
      },
      {
       "output_type": "stream",
       "stream": "stdout",
       "text": [
        "\r",
        "[438]Good:http://thredds.cdip.ucsd.edu/thredds/dodsC/cdip/archive/089p1/089p1_historic.nc,5.76592"
       ]
      },
      {
       "output_type": "stream",
       "stream": "stdout",
       "text": [
        "\r",
        "[439]Good:http://thredds.cdip.ucsd.edu/thredds/dodsC/cdip/archive/090p1/090p1_d01.nc,225.832176"
       ]
      },
      {
       "output_type": "stream",
       "stream": "stdout",
       "text": [
        "\r",
        "[440]Good:http://thredds.cdip.ucsd.edu/thredds/dodsC/cdip/archive/090p1/090p1_historic.nc,14.748928"
       ]
      },
      {
       "output_type": "stream",
       "stream": "stdout",
       "text": [
        "\r",
        "[441]Good:http://thredds.cdip.ucsd.edu/thredds/dodsC/cdip/archive/091p1/091p1_d01.nc,13.810248"
       ]
      },
      {
       "output_type": "stream",
       "stream": "stdout",
       "text": [
        "\r",
        "[442]Good:http://thredds.cdip.ucsd.edu/thredds/dodsC/cdip/archive/091p1/091p1_d02.nc,222.894432"
       ]
      },
      {
       "output_type": "stream",
       "stream": "stdout",
       "text": [
        "\r",
        "[443]Good:http://thredds.cdip.ucsd.edu/thredds/dodsC/cdip/archive/091p1/091p1_d03.nc,207.39456"
       ]
      },
      {
       "output_type": "stream",
       "stream": "stdout",
       "text": [
        "\r",
        "[444]Good:http://thredds.cdip.ucsd.edu/thredds/dodsC/cdip/archive/091p1/091p1_d04.nc,297.50132"
       ]
      },
      {
       "output_type": "stream",
       "stream": "stdout",
       "text": [
        "\r",
        "[445]Good:http://thredds.cdip.ucsd.edu/thredds/dodsC/cdip/archive/091p1/091p1_d05.nc,15.57912"
       ]
      },
      {
       "output_type": "stream",
       "stream": "stdout",
       "text": [
        "\r",
        "[446]Good:http://thredds.cdip.ucsd.edu/thredds/dodsC/cdip/archive/091p1/091p1_d06.nc,266.926248"
       ]
      },
      {
       "output_type": "stream",
       "stream": "stdout",
       "text": [
        "\r",
        "[447]Good:http://thredds.cdip.ucsd.edu/thredds/dodsC/cdip/archive/091p1/091p1_d07.nc,360.248528"
       ]
      },
      {
       "output_type": "stream",
       "stream": "stdout",
       "text": [
        "\r",
        "[448]Good:http://thredds.cdip.ucsd.edu/thredds/dodsC/cdip/archive/091p1/091p1_d08.nc,171.605232"
       ]
      },
      {
       "output_type": "stream",
       "stream": "stdout",
       "text": [
        "\r",
        "[449]Good:http://thredds.cdip.ucsd.edu/thredds/dodsC/cdip/archive/091p1/091p1_d09.nc,157.412592"
       ]
      },
      {
       "output_type": "stream",
       "stream": "stdout",
       "text": [
        "\r",
        "[450]Good:http://thredds.cdip.ucsd.edu/thredds/dodsC/cdip/archive/091p1/091p1_d10.nc,79.429104"
       ]
      },
      {
       "output_type": "stream",
       "stream": "stdout",
       "text": [
        "\r",
        "[451]Good:http://thredds.cdip.ucsd.edu/thredds/dodsC/cdip/archive/091p1/091p1_d11.nc,250.26456"
       ]
      },
      {
       "output_type": "stream",
       "stream": "stdout",
       "text": [
        "\r",
        "[452]Good:http://thredds.cdip.ucsd.edu/thredds/dodsC/cdip/archive/091p1/091p1_d12.nc,340.92848"
       ]
      },
      {
       "output_type": "stream",
       "stream": "stdout",
       "text": [
        "\r",
        "[453]Good:http://thredds.cdip.ucsd.edu/thredds/dodsC/cdip/archive/091p1/091p1_d13.nc,47.302512"
       ]
      },
      {
       "output_type": "stream",
       "stream": "stdout",
       "text": [
        "\r",
        "[454]Good:http://thredds.cdip.ucsd.edu/thredds/dodsC/cdip/archive/091p1/091p1_d14.nc,271.461744"
       ]
      },
      {
       "output_type": "stream",
       "stream": "stdout",
       "text": [
        "\r",
        "[455]Good:http://thredds.cdip.ucsd.edu/thredds/dodsC/cdip/archive/091p1/091p1_d15.nc,385.936"
       ]
      },
      {
       "output_type": "stream",
       "stream": "stdout",
       "text": [
        "\r",
        "[456]Good:http://thredds.cdip.ucsd.edu/thredds/dodsC/cdip/archive/091p1/091p1_historic.nc,202.81892"
       ]
      },
      {
       "output_type": "stream",
       "stream": "stdout",
       "text": [
        "\r",
        "[457]Good:http://thredds.cdip.ucsd.edu/thredds/dodsC/cdip/archive/092p1/092p1_d02.nc,589.7248"
       ]
      },
      {
       "output_type": "stream",
       "stream": "stdout",
       "text": [
        "\r",
        "[458]Good:http://thredds.cdip.ucsd.edu/thredds/dodsC/cdip/archive/092p1/092p1_d03.nc,769.347304"
       ]
      },
      {
       "output_type": "stream",
       "stream": "stdout",
       "text": [
        "\r",
        "[459]Good:http://thredds.cdip.ucsd.edu/thredds/dodsC/cdip/archive/092p1/092p1_d04.nc,390.267136"
       ]
      },
      {
       "output_type": "stream",
       "stream": "stdout",
       "text": [
        "\r",
        "[460]Good:http://thredds.cdip.ucsd.edu/thredds/dodsC/cdip/archive/092p1/092p1_d05.nc,278.00856"
       ]
      },
      {
       "output_type": "stream",
       "stream": "stdout",
       "text": [
        "\r",
        "[461]Good:http://thredds.cdip.ucsd.edu/thredds/dodsC/cdip/archive/092p1/092p1_d06.nc,652.759168"
       ]
      },
      {
       "output_type": "stream",
       "stream": "stdout",
       "text": [
        "\r",
        "[462]Good:http://thredds.cdip.ucsd.edu/thredds/dodsC/cdip/archive/092p1/092p1_d07.nc,200.58456"
       ]
      },
      {
       "output_type": "stream",
       "stream": "stdout",
       "text": [
        "\r",
        "[463]Good:http://thredds.cdip.ucsd.edu/thredds/dodsC/cdip/archive/092p1/092p1_d08.nc,785.637376"
       ]
      },
      {
       "output_type": "stream",
       "stream": "stdout",
       "text": [
        "\r",
        "[464]Good:http://thredds.cdip.ucsd.edu/thredds/dodsC/cdip/archive/092p1/092p1_d09.nc,401.448448"
       ]
      },
      {
       "output_type": "stream",
       "stream": "stdout",
       "text": [
        "\r",
        "[465]Good:http://thredds.cdip.ucsd.edu/thredds/dodsC/cdip/archive/092p1/092p1_d10.nc,797.203072"
       ]
      },
      {
       "output_type": "stream",
       "stream": "stdout",
       "text": [
        "\r",
        "[466]Good:http://thredds.cdip.ucsd.edu/thredds/dodsC/cdip/archive/092p1/092p1_d11.nc,200.50008"
       ]
      },
      {
       "output_type": "stream",
       "stream": "stdout",
       "text": [
        "\r",
        "[467]Good:http://thredds.cdip.ucsd.edu/thredds/dodsC/cdip/archive/092p1/092p1_d12.nc,1059.387136"
       ]
      },
      {
       "output_type": "stream",
       "stream": "stdout",
       "text": [
        "\r",
        "[468]Good:http://thredds.cdip.ucsd.edu/thredds/dodsC/cdip/archive/092p1/092p1_d13.nc,24.523248"
       ]
      },
      {
       "output_type": "stream",
       "stream": "stdout",
       "text": [
        "\r",
        "[469]Good:http://thredds.cdip.ucsd.edu/thredds/dodsC/cdip/archive/092p1/092p1_d14.nc,970.13248"
       ]
      },
      {
       "output_type": "stream",
       "stream": "stdout",
       "text": [
        "\r",
        "[470]Good:http://thredds.cdip.ucsd.edu/thredds/dodsC/cdip/archive/092p1/092p1_d15.nc,489.338368"
       ]
      },
      {
       "output_type": "stream",
       "stream": "stdout",
       "text": [
        "\r",
        "[471]Good:http://thredds.cdip.ucsd.edu/thredds/dodsC/cdip/archive/092p1/092p1_d16.nc,121.346544"
       ]
      },
      {
       "output_type": "stream",
       "stream": "stdout",
       "text": [
        "\r",
        "[472]Good:http://thredds.cdip.ucsd.edu/thredds/dodsC/cdip/archive/092p1/092p1_d17.nc,1247.452288"
       ]
      },
      {
       "output_type": "stream",
       "stream": "stdout",
       "text": [
        "\r",
        "[473]Good:http://thredds.cdip.ucsd.edu/thredds/dodsC/cdip/archive/092p1/092p1_d18.nc,375.6248"
       ]
      },
      {
       "output_type": "stream",
       "stream": "stdout",
       "text": [
        "\r",
        "[474]Good:http://thredds.cdip.ucsd.edu/thredds/dodsC/cdip/archive/092p1/092p1_d19.nc,1128.612816"
       ]
      },
      {
       "output_type": "stream",
       "stream": "stdout",
       "text": [
        "\r",
        "[475]Good:http://thredds.cdip.ucsd.edu/thredds/dodsC/cdip/archive/092p1/092p1_historic.nc,703.941784"
       ]
      },
      {
       "output_type": "stream",
       "stream": "stdout",
       "text": [
        "\r",
        "[476]Good:http://thredds.cdip.ucsd.edu/thredds/dodsC/cdip/archive/093p1/093p1_d16.nc,54.830376"
       ]
      },
      {
       "output_type": "stream",
       "stream": "stdout",
       "text": [
        "\r",
        "[477]Good:http://thredds.cdip.ucsd.edu/thredds/dodsC/cdip/archive/093p1/093p1_d17.nc,205.73244"
       ]
      },
      {
       "output_type": "stream",
       "stream": "stdout",
       "text": [
        "\r",
        "[478]Good:http://thredds.cdip.ucsd.edu/thredds/dodsC/cdip/archive/093p1/093p1_d19.nc,13.005288"
       ]
      },
      {
       "output_type": "stream",
       "stream": "stdout",
       "text": [
        "\r",
        "[479]Good:http://thredds.cdip.ucsd.edu/thredds/dodsC/cdip/archive/093p1/093p1_d20.nc,120.711024"
       ]
      },
      {
       "output_type": "stream",
       "stream": "stdout",
       "text": [
        "\r",
        "[480]Good:http://thredds.cdip.ucsd.edu/thredds/dodsC/cdip/archive/093p1/093p1_d21.nc,408.904912"
       ]
      },
      {
       "output_type": "stream",
       "stream": "stdout",
       "text": [
        "\r",
        "[481]Good:http://thredds.cdip.ucsd.edu/thredds/dodsC/cdip/archive/093p1/093p1_d22.nc,66.29016"
       ]
      },
      {
       "output_type": "stream",
       "stream": "stdout",
       "text": [
        "\r",
        "[482]Good:http://thredds.cdip.ucsd.edu/thredds/dodsC/cdip/archive/093p1/093p1_d23.nc,201.182824"
       ]
      },
      {
       "output_type": "stream",
       "stream": "stdout",
       "text": [
        "\r",
        "[483]Good:http://thredds.cdip.ucsd.edu/thredds/dodsC/cdip/archive/093p1/093p1_d24.nc,39.473904"
       ]
      },
      {
       "output_type": "stream",
       "stream": "stdout",
       "text": [
        "\r",
        "[484]Good:http://thredds.cdip.ucsd.edu/thredds/dodsC/cdip/archive/093p1/093p1_d25.nc,18.74328"
       ]
      },
      {
       "output_type": "stream",
       "stream": "stdout",
       "text": [
        "\r",
        "[485]Good:http://thredds.cdip.ucsd.edu/thredds/dodsC/cdip/archive/093p1/093p1_d26.nc,35.824368"
       ]
      },
      {
       "output_type": "stream",
       "stream": "stdout",
       "text": [
        "\r",
        "[486]Good:http://thredds.cdip.ucsd.edu/thredds/dodsC/cdip/archive/093p1/093p1_d27.nc,113.119728"
       ]
      },
      {
       "output_type": "stream",
       "stream": "stdout",
       "text": [
        "\r",
        "[487]Good:http://thredds.cdip.ucsd.edu/thredds/dodsC/cdip/archive/093p1/093p1_d28.nc,2022.024632"
       ]
      },
      {
       "output_type": "stream",
       "stream": "stdout",
       "text": [
        "\r",
        "[488]Good:http://thredds.cdip.ucsd.edu/thredds/dodsC/cdip/archive/093p1/093p1_d29.nc,3.481584"
       ]
      },
      {
       "output_type": "stream",
       "stream": "stdout",
       "text": [
        "\r",
        "[489]Good:http://thredds.cdip.ucsd.edu/thredds/dodsC/cdip/archive/093p1/093p1_d30.nc,237.099672"
       ]
      },
      {
       "output_type": "stream",
       "stream": "stdout",
       "text": [
        "\r",
        "[490]Good:http://thredds.cdip.ucsd.edu/thredds/dodsC/cdip/archive/093p1/093p1_d31.nc,520.001508"
       ]
      },
      {
       "output_type": "stream",
       "stream": "stdout",
       "text": [
        "\r",
        "[491]Good:http://thredds.cdip.ucsd.edu/thredds/dodsC/cdip/archive/093p1/093p1_d32.nc,33.937364"
       ]
      },
      {
       "output_type": "stream",
       "stream": "stdout",
       "text": [
        "\r",
        "[492]Good:http://thredds.cdip.ucsd.edu/thredds/dodsC/cdip/archive/093p1/093p1_d33.nc,202.053056"
       ]
      },
      {
       "output_type": "stream",
       "stream": "stdout",
       "text": [
        "\r",
        "[493]Good:http://thredds.cdip.ucsd.edu/thredds/dodsC/cdip/archive/093p1/093p1_d34.nc,132.59272"
       ]
      },
      {
       "output_type": "stream",
       "stream": "stdout",
       "text": [
        "\r",
        "[494]Good:http://thredds.cdip.ucsd.edu/thredds/dodsC/cdip/archive/093p1/093p1_d35.nc,97.506672"
       ]
      },
      {
       "output_type": "stream",
       "stream": "stdout",
       "text": [
        "\r",
        "[495]Good:http://thredds.cdip.ucsd.edu/thredds/dodsC/cdip/archive/093p1/093p1_d36.nc,192.559616"
       ]
      },
      {
       "output_type": "stream",
       "stream": "stdout",
       "text": [
        "\r",
        "[496]Good:http://thredds.cdip.ucsd.edu/thredds/dodsC/cdip/archive/093p1/093p1_d37.nc,361.305496"
       ]
      },
      {
       "output_type": "stream",
       "stream": "stdout",
       "text": [
        "\r",
        "[497]Good:http://thredds.cdip.ucsd.edu/thredds/dodsC/cdip/archive/093p1/093p1_d38.nc,250.944272"
       ]
      },
      {
       "output_type": "stream",
       "stream": "stdout",
       "text": [
        "\r",
        "[498]Good:http://thredds.cdip.ucsd.edu/thredds/dodsC/cdip/archive/093p1/093p1_d39.nc,60.679912"
       ]
      },
      {
       "output_type": "stream",
       "stream": "stdout",
       "text": [
        "\r",
        "[499]Good:http://thredds.cdip.ucsd.edu/thredds/dodsC/cdip/archive/093p1/093p1_d40.nc,107.355992"
       ]
      },
      {
       "output_type": "stream",
       "stream": "stdout",
       "text": [
        "\r",
        "[500]Good:http://thredds.cdip.ucsd.edu/thredds/dodsC/cdip/archive/093p1/093p1_d41.nc,25.633296"
       ]
      },
      {
       "output_type": "stream",
       "stream": "stdout",
       "text": [
        "\r",
        "[501]Good:http://thredds.cdip.ucsd.edu/thredds/dodsC/cdip/archive/093p1/093p1_historic.nc,370.373508"
       ]
      },
      {
       "output_type": "stream",
       "stream": "stdout",
       "text": [
        "\r",
        "[502]Good:http://thredds.cdip.ucsd.edu/thredds/dodsC/cdip/archive/094p1/094p1_d01.nc,288.007904"
       ]
      },
      {
       "output_type": "stream",
       "stream": "stdout",
       "text": [
        "\r",
        "[503]Good:http://thredds.cdip.ucsd.edu/thredds/dodsC/cdip/archive/094p1/094p1_d02.nc,172.709232"
       ]
      },
      {
       "output_type": "stream",
       "stream": "stdout",
       "text": [
        "\r",
        "[504]Good:http://thredds.cdip.ucsd.edu/thredds/dodsC/cdip/archive/094p1/094p1_d03.nc,71.24952"
       ]
      },
      {
       "output_type": "stream",
       "stream": "stdout",
       "text": [
        "\r",
        "[505]Good:http://thredds.cdip.ucsd.edu/thredds/dodsC/cdip/archive/094p1/094p1_d04.nc,978.517504"
       ]
      },
      {
       "output_type": "stream",
       "stream": "stdout",
       "text": [
        "\r",
        "[506]Good:http://thredds.cdip.ucsd.edu/thredds/dodsC/cdip/archive/094p1/094p1_d05.nc,548.779432"
       ]
      },
      {
       "output_type": "stream",
       "stream": "stdout",
       "text": [
        "\r",
        "[507]Good:http://thredds.cdip.ucsd.edu/thredds/dodsC/cdip/archive/094p1/094p1_d06.nc,884.960128"
       ]
      },
      {
       "output_type": "stream",
       "stream": "stdout",
       "text": [
        "\r",
        "[508]Good:http://thredds.cdip.ucsd.edu/thredds/dodsC/cdip/archive/094p1/094p1_d07.nc,795.323776"
       ]
      },
      {
       "output_type": "stream",
       "stream": "stdout",
       "text": [
        "\r",
        "[509]Good:http://thredds.cdip.ucsd.edu/thredds/dodsC/cdip/archive/094p1/094p1_d08.nc,777.039088"
       ]
      },
      {
       "output_type": "stream",
       "stream": "stdout",
       "text": [
        "\r",
        "[510]Good:http://thredds.cdip.ucsd.edu/thredds/dodsC/cdip/archive/094p1/094p1_d09.nc,289.808852"
       ]
      },
      {
       "output_type": "stream",
       "stream": "stdout",
       "text": [
        "\r",
        "[511]Good:http://thredds.cdip.ucsd.edu/thredds/dodsC/cdip/archive/094p1/094p1_d10.nc,815.962192"
       ]
      },
      {
       "output_type": "stream",
       "stream": "stdout",
       "text": [
        "\r",
        "[512]Good:http://thredds.cdip.ucsd.edu/thredds/dodsC/cdip/archive/094p1/094p1_d11.nc,1011.843504"
       ]
      },
      {
       "output_type": "stream",
       "stream": "stdout",
       "text": [
        "\r",
        "[513]Good:http://thredds.cdip.ucsd.edu/thredds/dodsC/cdip/archive/094p1/094p1_d12.nc,770.039932"
       ]
      },
      {
       "output_type": "stream",
       "stream": "stdout",
       "text": [
        "\r",
        "[514]Good:http://thredds.cdip.ucsd.edu/thredds/dodsC/cdip/archive/094p1/094p1_historic.nc,490.043496"
       ]
      },
      {
       "output_type": "stream",
       "stream": "stdout",
       "text": [
        "\r",
        "[515]Good:http://thredds.cdip.ucsd.edu/thredds/dodsC/cdip/archive/095p1/095p1_d01.nc,767.65624"
       ]
      },
      {
       "output_type": "stream",
       "stream": "stdout",
       "text": [
        "\r",
        "[516]Good:http://thredds.cdip.ucsd.edu/thredds/dodsC/cdip/archive/095p1/095p1_d02.nc,248.955504"
       ]
      },
      {
       "output_type": "stream",
       "stream": "stdout",
       "text": [
        "\r",
        "[517]Good:http://thredds.cdip.ucsd.edu/thredds/dodsC/cdip/archive/095p1/095p1_d03.nc,54.972912"
       ]
      },
      {
       "output_type": "stream",
       "stream": "stdout",
       "text": [
        "\r",
        "[518]Good:http://thredds.cdip.ucsd.edu/thredds/dodsC/cdip/archive/095p1/095p1_d04.nc,599.244544"
       ]
      },
      {
       "output_type": "stream",
       "stream": "stdout",
       "text": [
        "\r",
        "[519]Good:http://thredds.cdip.ucsd.edu/thredds/dodsC/cdip/archive/095p1/095p1_d05.nc,873.154816"
       ]
      },
      {
       "output_type": "stream",
       "stream": "stdout",
       "text": [
        "\r",
        "[520]Good:http://thredds.cdip.ucsd.edu/thredds/dodsC/cdip/archive/095p1/095p1_d06.nc,1036.169344"
       ]
      },
      {
       "output_type": "stream",
       "stream": "stdout",
       "text": [
        "\r",
        "[521]Good:http://thredds.cdip.ucsd.edu/thredds/dodsC/cdip/archive/095p1/095p1_d07.nc,755.269888"
       ]
      },
      {
       "output_type": "stream",
       "stream": "stdout",
       "text": [
        "\r",
        "[522]Good:http://thredds.cdip.ucsd.edu/thredds/dodsC/cdip/archive/095p1/095p1_historic.nc,286.380048"
       ]
      },
      {
       "output_type": "stream",
       "stream": "stdout",
       "text": [
        "\r",
        "[523]Good:http://thredds.cdip.ucsd.edu/thredds/dodsC/cdip/archive/096p1/096p1_d01.nc,599.4304"
       ]
      },
      {
       "output_type": "stream",
       "stream": "stdout",
       "text": [
        "\r",
        "[524]Good:http://thredds.cdip.ucsd.edu/thredds/dodsC/cdip/archive/096p1/096p1_d02.nc,673.449784"
       ]
      },
      {
       "output_type": "stream",
       "stream": "stdout",
       "text": [
        "\r",
        "[525]Good:http://thredds.cdip.ucsd.edu/thredds/dodsC/cdip/archive/096p1/096p1_d03.nc,718.99936"
       ]
      },
      {
       "output_type": "stream",
       "stream": "stdout",
       "text": [
        "\r",
        "[526]Good:http://thredds.cdip.ucsd.edu/thredds/dodsC/cdip/archive/096p1/096p1_d04.nc,210.826512"
       ]
      },
      {
       "output_type": "stream",
       "stream": "stdout",
       "text": [
        "\r",
        "[527]Good:http://thredds.cdip.ucsd.edu/thredds/dodsC/cdip/archive/096p1/096p1_d05.nc,26.76636"
       ]
      },
      {
       "output_type": "stream",
       "stream": "stdout",
       "text": [
        "\r",
        "[528]Good:http://thredds.cdip.ucsd.edu/thredds/dodsC/cdip/archive/096p1/096p1_d06.nc,855.526264"
       ]
      },
      {
       "output_type": "stream",
       "stream": "stdout",
       "text": [
        "\r",
        "[529]Good:http://thredds.cdip.ucsd.edu/thredds/dodsC/cdip/archive/096p1/096p1_d07.nc,1141.495216"
       ]
      },
      {
       "output_type": "stream",
       "stream": "stdout",
       "text": [
        "\r",
        "[530]Good:http://thredds.cdip.ucsd.edu/thredds/dodsC/cdip/archive/096p1/096p1_d08.nc,1159.44448"
       ]
      },
      {
       "output_type": "stream",
       "stream": "stdout",
       "text": [
        "\r",
        "[531]Good:http://thredds.cdip.ucsd.edu/thredds/dodsC/cdip/archive/096p1/096p1_d09.nc,1153.305856"
       ]
      },
      {
       "output_type": "stream",
       "stream": "stdout",
       "text": [
        "\r",
        "[532]Good:http://thredds.cdip.ucsd.edu/thredds/dodsC/cdip/archive/096p1/096p1_d10.nc,595.883392"
       ]
      },
      {
       "output_type": "stream",
       "stream": "stdout",
       "text": [
        "\r",
        "[533]Good:http://thredds.cdip.ucsd.edu/thredds/dodsC/cdip/archive/096p1/096p1_d11.nc,909.156128"
       ]
      },
      {
       "output_type": "stream",
       "stream": "stdout",
       "text": [
        "\r",
        "[534]Good:http://thredds.cdip.ucsd.edu/thredds/dodsC/cdip/archive/096p1/096p1_d12.nc,1446.40572"
       ]
      },
      {
       "output_type": "stream",
       "stream": "stdout",
       "text": [
        "\r",
        "[535]Good:http://thredds.cdip.ucsd.edu/thredds/dodsC/cdip/archive/096p1/096p1_historic.nc,632.289944"
       ]
      },
      {
       "output_type": "stream",
       "stream": "stdout",
       "text": [
        "\r",
        "[536]Good:http://thredds.cdip.ucsd.edu/thredds/dodsC/cdip/archive/097p1/097p1_d01.nc,16.040304"
       ]
      },
      {
       "output_type": "stream",
       "stream": "stdout",
       "text": [
        "\r",
        "[537]Good:http://thredds.cdip.ucsd.edu/thredds/dodsC/cdip/archive/097p1/097p1_historic.nc,1.073224"
       ]
      },
      {
       "output_type": "stream",
       "stream": "stdout",
       "text": [
        "\r",
        "[538]Good:http://thredds.cdip.ucsd.edu/thredds/dodsC/cdip/archive/098p1/098p1_d01.nc,542.582272"
       ]
      },
      {
       "output_type": "stream",
       "stream": "stdout",
       "text": [
        "\r",
        "[539]Good:http://thredds.cdip.ucsd.edu/thredds/dodsC/cdip/archive/098p1/098p1_d02.nc,824.266624"
       ]
      },
      {
       "output_type": "stream",
       "stream": "stdout",
       "text": [
        "\r",
        "[540]Good:http://thredds.cdip.ucsd.edu/thredds/dodsC/cdip/archive/098p1/098p1_d03.nc,1021.879936"
       ]
      },
      {
       "output_type": "stream",
       "stream": "stdout",
       "text": [
        "\r",
        "[541]Good:http://thredds.cdip.ucsd.edu/thredds/dodsC/cdip/archive/098p1/098p1_d04.nc,45.332592"
       ]
      },
      {
       "output_type": "stream",
       "stream": "stdout",
       "text": [
        "\r",
        "[542]Good:http://thredds.cdip.ucsd.edu/thredds/dodsC/cdip/archive/098p1/098p1_d05.nc,714.758272"
       ]
      },
      {
       "output_type": "stream",
       "stream": "stdout",
       "text": [
        "\r",
        "[543]Good:http://thredds.cdip.ucsd.edu/thredds/dodsC/cdip/archive/098p1/098p1_d06.nc,941.87776"
       ]
      },
      {
       "output_type": "stream",
       "stream": "stdout",
       "text": [
        "\r",
        "[544]Good:http://thredds.cdip.ucsd.edu/thredds/dodsC/cdip/archive/098p1/098p1_d07.nc,447.679744"
       ]
      },
      {
       "output_type": "stream",
       "stream": "stdout",
       "text": [
        "\r",
        "[545]Good:http://thredds.cdip.ucsd.edu/thredds/dodsC/cdip/archive/098p1/098p1_d08.nc,855.238144"
       ]
      },
      {
       "output_type": "stream",
       "stream": "stdout",
       "text": [
        "\r",
        "[546]Good:http://thredds.cdip.ucsd.edu/thredds/dodsC/cdip/archive/098p1/098p1_d09.nc,529.403392"
       ]
      },
      {
       "output_type": "stream",
       "stream": "stdout",
       "text": [
        "\r",
        "[547]Good:http://thredds.cdip.ucsd.edu/thredds/dodsC/cdip/archive/098p1/098p1_d10.nc,186.507888"
       ]
      },
      {
       "output_type": "stream",
       "stream": "stdout",
       "text": [
        "\r",
        "[548]Good:http://thredds.cdip.ucsd.edu/thredds/dodsC/cdip/archive/098p1/098p1_d11.nc,559.948672"
       ]
      },
      {
       "output_type": "stream",
       "stream": "stdout",
       "text": [
        "\r",
        "[549]Good:http://thredds.cdip.ucsd.edu/thredds/dodsC/cdip/archive/098p1/098p1_d12.nc,1015.863424"
       ]
      },
      {
       "output_type": "stream",
       "stream": "stdout",
       "text": [
        "\r",
        "[550]Good:http://thredds.cdip.ucsd.edu/thredds/dodsC/cdip/archive/098p1/098p1_d13.nc,739.283492"
       ]
      },
      {
       "output_type": "stream",
       "stream": "stdout",
       "text": [
        "\r",
        "[551]Good:http://thredds.cdip.ucsd.edu/thredds/dodsC/cdip/archive/098p1/098p1_d14.nc,561.532616"
       ]
      },
      {
       "output_type": "stream",
       "stream": "stdout",
       "text": [
        "\r",
        "[552]Good:http://thredds.cdip.ucsd.edu/thredds/dodsC/cdip/archive/098p1/098p1_historic.nc,602.59132"
       ]
      },
      {
       "output_type": "stream",
       "stream": "stdout",
       "text": [
        "\r",
        "[553]Good:http://thredds.cdip.ucsd.edu/thredds/dodsC/cdip/archive/099p1/099p1_d01.nc,34.073328"
       ]
      },
      {
       "output_type": "stream",
       "stream": "stdout",
       "text": [
        "\r",
        "[554]Good:http://thredds.cdip.ucsd.edu/thredds/dodsC/cdip/archive/099p1/099p1_historic.nc,2.2954"
       ]
      },
      {
       "output_type": "stream",
       "stream": "stdout",
       "text": [
        "\r",
        "[555]Good:http://thredds.cdip.ucsd.edu/thredds/dodsC/cdip/archive/100p1/100p1_d01.nc,825.062272"
       ]
      },
      {
       "output_type": "stream",
       "stream": "stdout",
       "text": [
        "\r",
        "[556]Good:http://thredds.cdip.ucsd.edu/thredds/dodsC/cdip/archive/100p1/100p1_d02.nc,822.55744"
       ]
      },
      {
       "output_type": "stream",
       "stream": "stdout",
       "text": [
        "\r",
        "[557]Good:http://thredds.cdip.ucsd.edu/thredds/dodsC/cdip/archive/100p1/100p1_d03.nc,806.273152"
       ]
      },
      {
       "output_type": "stream",
       "stream": "stdout",
       "text": [
        "\r",
        "[558]Good:http://thredds.cdip.ucsd.edu/thredds/dodsC/cdip/archive/100p1/100p1_d04.nc,830.359552"
       ]
      },
      {
       "output_type": "stream",
       "stream": "stdout",
       "text": [
        "\r",
        "[559]Good:http://thredds.cdip.ucsd.edu/thredds/dodsC/cdip/archive/100p1/100p1_d05.nc,1087.282432"
       ]
      },
      {
       "output_type": "stream",
       "stream": "stdout",
       "text": [
        "\r",
        "[560]Good:http://thredds.cdip.ucsd.edu/thredds/dodsC/cdip/archive/100p1/100p1_d06.nc,356.648672"
       ]
      },
      {
       "output_type": "stream",
       "stream": "stdout",
       "text": [
        "\r",
        "[561]Good:http://thredds.cdip.ucsd.edu/thredds/dodsC/cdip/archive/100p1/100p1_d07.nc,994.187776"
       ]
      },
      {
       "output_type": "stream",
       "stream": "stdout",
       "text": [
        "\r",
        "[562]Good:http://thredds.cdip.ucsd.edu/thredds/dodsC/cdip/archive/100p1/100p1_d08.nc,681.029632"
       ]
      },
      {
       "output_type": "stream",
       "stream": "stdout",
       "text": [
        "\r",
        "[563]Good:http://thredds.cdip.ucsd.edu/thredds/dodsC/cdip/archive/100p1/100p1_d09.nc,331.59152"
       ]
      },
      {
       "output_type": "stream",
       "stream": "stdout",
       "text": [
        "\r",
        "[564]Good:http://thredds.cdip.ucsd.edu/thredds/dodsC/cdip/archive/100p1/100p1_d10.nc,871.182368"
       ]
      },
      {
       "output_type": "stream",
       "stream": "stdout",
       "text": [
        "\r",
        "[565]Good:http://thredds.cdip.ucsd.edu/thredds/dodsC/cdip/archive/100p1/100p1_d11.nc,1283.51142"
       ]
      },
      {
       "output_type": "stream",
       "stream": "stdout",
       "text": [
        "\r",
        "[566]Good:http://thredds.cdip.ucsd.edu/thredds/dodsC/cdip/archive/100p1/100p1_d12.nc,335.938948"
       ]
      },
      {
       "output_type": "stream",
       "stream": "stdout",
       "text": [
        "\r",
        "[567]Good:http://thredds.cdip.ucsd.edu/thredds/dodsC/cdip/archive/100p1/100p1_d13.nc,3.402824"
       ]
      },
      {
       "output_type": "stream",
       "stream": "stdout",
       "text": [
        "\r",
        "[568]Good:http://thredds.cdip.ucsd.edu/thredds/dodsC/cdip/archive/100p1/100p1_historic.nc,616.039164"
       ]
      },
      {
       "output_type": "stream",
       "stream": "stdout",
       "text": [
        "\r",
        "[569]Good:http://thredds.cdip.ucsd.edu/thredds/dodsC/cdip/archive/101p1/101p1_d01.nc,869.23456"
       ]
      },
      {
       "output_type": "stream",
       "stream": "stdout",
       "text": [
        "\r",
        "[570]Good:http://thredds.cdip.ucsd.edu/thredds/dodsC/cdip/archive/101p1/101p1_d02.nc,397.090816"
       ]
      },
      {
       "output_type": "stream",
       "stream": "stdout",
       "text": [
        "\r",
        "[571]Good:http://thredds.cdip.ucsd.edu/thredds/dodsC/cdip/archive/101p1/101p1_d03.nc,711.807928"
       ]
      },
      {
       "output_type": "stream",
       "stream": "stdout",
       "text": [
        "\r",
        "[572]Good:http://thredds.cdip.ucsd.edu/thredds/dodsC/cdip/archive/101p1/101p1_historic.nc,133.77436"
       ]
      },
      {
       "output_type": "stream",
       "stream": "stdout",
       "text": [
        "\r",
        "[573]Good:http://thredds.cdip.ucsd.edu/thredds/dodsC/cdip/archive/102p1/102p1_d01.nc,996.867712"
       ]
      },
      {
       "output_type": "stream",
       "stream": "stdout",
       "text": [
        "\r",
        "[574]Good:http://thredds.cdip.ucsd.edu/thredds/dodsC/cdip/archive/102p1/102p1_d02.nc,142.59288"
       ]
      },
      {
       "output_type": "stream",
       "stream": "stdout",
       "text": [
        "\r",
        "[575]Good:http://thredds.cdip.ucsd.edu/thredds/dodsC/cdip/archive/102p1/102p1_d03.nc,929.753728"
       ]
      },
      {
       "output_type": "stream",
       "stream": "stdout",
       "text": [
        "\r",
        "[576]Good:http://thredds.cdip.ucsd.edu/thredds/dodsC/cdip/archive/102p1/102p1_historic.nc,138.495456"
       ]
      },
      {
       "output_type": "stream",
       "stream": "stdout",
       "text": [
        "\r",
        "[577]Good:http://thredds.cdip.ucsd.edu/thredds/dodsC/cdip/archive/103p1/103p1_d01.nc,212.513136"
       ]
      },
      {
       "output_type": "stream",
       "stream": "stdout",
       "text": [
        "\r",
        "[578]Good:http://thredds.cdip.ucsd.edu/thredds/dodsC/cdip/archive/103p1/103p1_historic.nc,14.398528"
       ]
      },
      {
       "output_type": "stream",
       "stream": "stdout",
       "text": [
        "\r",
        "[579]Good:http://thredds.cdip.ucsd.edu/thredds/dodsC/cdip/archive/104p1/104p1_d01.nc,235.29624"
       ]
      },
      {
       "output_type": "stream",
       "stream": "stdout",
       "text": [
        "\r",
        "[580]Good:http://thredds.cdip.ucsd.edu/thredds/dodsC/cdip/archive/104p1/104p1_historic.nc,15.873928"
       ]
      },
      {
       "output_type": "stream",
       "stream": "stdout",
       "text": [
        "\r",
        "[581]Good:http://thredds.cdip.ucsd.edu/thredds/dodsC/cdip/archive/105p1/105p1_d01.nc,252.038176"
       ]
      },
      {
       "output_type": "stream",
       "stream": "stdout",
       "text": [
        "\r",
        "[582]Good:http://thredds.cdip.ucsd.edu/thredds/dodsC/cdip/archive/105p1/105p1_historic.nc,16.982776"
       ]
      },
      {
       "output_type": "stream",
       "stream": "stdout",
       "text": [
        "\r",
        "[583]Good:http://thredds.cdip.ucsd.edu/thredds/dodsC/cdip/archive/106p1/106p1_d01.nc,807.415552"
       ]
      },
      {
       "output_type": "stream",
       "stream": "stdout",
       "text": [
        "\r",
        "[584]Good:http://thredds.cdip.ucsd.edu/thredds/dodsC/cdip/archive/106p1/106p1_d02.nc,433.335424"
       ]
      },
      {
       "output_type": "stream",
       "stream": "stdout",
       "text": [
        "\r",
        "[585]Good:http://thredds.cdip.ucsd.edu/thredds/dodsC/cdip/archive/106p1/106p1_d03.nc,19.682928"
       ]
      },
      {
       "output_type": "stream",
       "stream": "stdout",
       "text": [
        "\r",
        "[586]Good:http://thredds.cdip.ucsd.edu/thredds/dodsC/cdip/archive/106p1/106p1_d04.nc,602.8288"
       ]
      },
      {
       "output_type": "stream",
       "stream": "stdout",
       "text": [
        "\r",
        "[587]Good:http://thredds.cdip.ucsd.edu/thredds/dodsC/cdip/archive/106p1/106p1_d05.nc,82.365552"
       ]
      },
      {
       "output_type": "stream",
       "stream": "stdout",
       "text": [
        "\r",
        "[588]Good:http://thredds.cdip.ucsd.edu/thredds/dodsC/cdip/archive/106p1/106p1_d06.nc,754.598656"
       ]
      },
      {
       "output_type": "stream",
       "stream": "stdout",
       "text": [
        "\r",
        "[589]Good:http://thredds.cdip.ucsd.edu/thredds/dodsC/cdip/archive/106p1/106p1_d07.nc,601.257856"
       ]
      },
      {
       "output_type": "stream",
       "stream": "stdout",
       "text": [
        "\r",
        "[590]Good:http://thredds.cdip.ucsd.edu/thredds/dodsC/cdip/archive/106p1/106p1_d08.nc,967.656448"
       ]
      },
      {
       "output_type": "stream",
       "stream": "stdout",
       "text": [
        "\r",
        "[591]Good:http://thredds.cdip.ucsd.edu/thredds/dodsC/cdip/archive/106p1/106p1_d09.nc,828.986752"
       ]
      },
      {
       "output_type": "stream",
       "stream": "stdout",
       "text": [
        "\r",
        "[592]Good:http://thredds.cdip.ucsd.edu/thredds/dodsC/cdip/archive/106p1/106p1_d10.nc,1296.409368"
       ]
      },
      {
       "output_type": "stream",
       "stream": "stdout",
       "text": [
        "\r",
        "[593]Good:http://thredds.cdip.ucsd.edu/thredds/dodsC/cdip/archive/106p1/106p1_d11.nc,737.403976"
       ]
      },
      {
       "output_type": "stream",
       "stream": "stdout",
       "text": [
        "\r",
        "[594]Good:http://thredds.cdip.ucsd.edu/thredds/dodsC/cdip/archive/106p1/106p1_d12.nc,143.984848"
       ]
      },
      {
       "output_type": "stream",
       "stream": "stdout",
       "text": [
        "\r",
        "[595]Good:http://thredds.cdip.ucsd.edu/thredds/dodsC/cdip/archive/106p1/106p1_d13.nc,890.564808"
       ]
      },
      {
       "output_type": "stream",
       "stream": "stdout",
       "text": [
        "\r",
        "[596]Good:http://thredds.cdip.ucsd.edu/thredds/dodsC/cdip/archive/106p1/106p1_historic.nc,540.477684"
       ]
      },
      {
       "output_type": "stream",
       "stream": "stdout",
       "text": [
        "\r",
        "[597]Good:http://thredds.cdip.ucsd.edu/thredds/dodsC/cdip/archive/109p1/109p1_d01.nc,72.018288"
       ]
      },
      {
       "output_type": "stream",
       "stream": "stdout",
       "text": [
        "\r",
        "[598]Good:http://thredds.cdip.ucsd.edu/thredds/dodsC/cdip/archive/109p1/109p1_d02.nc,31.725552"
       ]
      },
      {
       "output_type": "stream",
       "stream": "stdout",
       "text": [
        "\r",
        "[599]Good:http://thredds.cdip.ucsd.edu/thredds/dodsC/cdip/archive/109p1/109p1_d03.nc,71.133552"
       ]
      },
      {
       "output_type": "stream",
       "stream": "stdout",
       "text": [
        "\r",
        "[600]Good:http://thredds.cdip.ucsd.edu/thredds/dodsC/cdip/archive/109p1/109p1_d04.nc,19.472496"
       ]
      },
      {
       "output_type": "stream",
       "stream": "stdout",
       "text": [
        "\r",
        "[601]Good:http://thredds.cdip.ucsd.edu/thredds/dodsC/cdip/archive/109p1/109p1_d05.nc,271.742832"
       ]
      },
      {
       "output_type": "stream",
       "stream": "stdout",
       "text": [
        "\r",
        "[602]Good:http://thredds.cdip.ucsd.edu/thredds/dodsC/cdip/archive/109p1/109p1_d06.nc,45.107568"
       ]
      },
      {
       "output_type": "stream",
       "stream": "stdout",
       "text": [
        "\r",
        "[603]Good:http://thredds.cdip.ucsd.edu/thredds/dodsC/cdip/archive/109p1/109p1_historic.nc,27.47128"
       ]
      },
      {
       "output_type": "stream",
       "stream": "stdout",
       "text": [
        "\r",
        "[604]Good:http://thredds.cdip.ucsd.edu/thredds/dodsC/cdip/archive/111p1/111p1_d01.nc,753.772672"
       ]
      },
      {
       "output_type": "stream",
       "stream": "stdout",
       "text": [
        "\r",
        "[605]Good:http://thredds.cdip.ucsd.edu/thredds/dodsC/cdip/archive/111p1/111p1_d02.nc,966.431488"
       ]
      },
      {
       "output_type": "stream",
       "stream": "stdout",
       "text": [
        "\r",
        "[606]Good:http://thredds.cdip.ucsd.edu/thredds/dodsC/cdip/archive/111p1/111p1_d03.nc,1079.736448"
       ]
      },
      {
       "output_type": "stream",
       "stream": "stdout",
       "text": [
        "\r",
        "[607]Good:http://thredds.cdip.ucsd.edu/thredds/dodsC/cdip/archive/111p1/111p1_d04.nc,299.606624"
       ]
      },
      {
       "output_type": "stream",
       "stream": "stdout",
       "text": [
        "\r",
        "[608]Good:http://thredds.cdip.ucsd.edu/thredds/dodsC/cdip/archive/111p1/111p1_d05.nc,535.018624"
       ]
      },
      {
       "output_type": "stream",
       "stream": "stdout",
       "text": [
        "\r",
        "[609]Good:http://thredds.cdip.ucsd.edu/thredds/dodsC/cdip/archive/111p1/111p1_d06.nc,52.771056"
       ]
      },
      {
       "output_type": "stream",
       "stream": "stdout",
       "text": [
        "\r",
        "[610]Good:http://thredds.cdip.ucsd.edu/thredds/dodsC/cdip/archive/111p1/111p1_d07.nc,402.532096"
       ]
      },
      {
       "output_type": "stream",
       "stream": "stdout",
       "text": [
        "\r",
        "[611]Good:http://thredds.cdip.ucsd.edu/thredds/dodsC/cdip/archive/111p1/111p1_d08.nc,954.961976"
       ]
      },
      {
       "output_type": "stream",
       "stream": "stdout",
       "text": [
        "\r",
        "[612]Good:http://thredds.cdip.ucsd.edu/thredds/dodsC/cdip/archive/111p1/111p1_d09.nc,1160.257616"
       ]
      },
      {
       "output_type": "stream",
       "stream": "stdout",
       "text": [
        "\r",
        "[613]Good:http://thredds.cdip.ucsd.edu/thredds/dodsC/cdip/archive/111p1/111p1_d10.nc,760.030008"
       ]
      },
      {
       "output_type": "stream",
       "stream": "stdout",
       "text": [
        "\r",
        "[614]Good:http://thredds.cdip.ucsd.edu/thredds/dodsC/cdip/archive/111p1/111p1_d11.nc,1068.408584"
       ]
      },
      {
       "output_type": "stream",
       "stream": "stdout",
       "text": [
        "\r",
        "[615]Good:http://thredds.cdip.ucsd.edu/thredds/dodsC/cdip/archive/111p1/111p1_historic.nc,535.588392"
       ]
      },
      {
       "output_type": "stream",
       "stream": "stdout",
       "text": [
        "\r",
        "[616]Good:http://thredds.cdip.ucsd.edu/thredds/dodsC/cdip/archive/113p1/113p1_d01.nc,137.236848"
       ]
      },
      {
       "output_type": "stream",
       "stream": "stdout",
       "text": [
        "\r",
        "[617]Good:http://thredds.cdip.ucsd.edu/thredds/dodsC/cdip/archive/113p1/113p1_d02.nc,347.15696"
       ]
      },
      {
       "output_type": "stream",
       "stream": "stdout",
       "text": [
        "\r",
        "[618]Good:http://thredds.cdip.ucsd.edu/thredds/dodsC/cdip/archive/113p1/113p1_historic.nc,32.49688"
       ]
      },
      {
       "output_type": "stream",
       "stream": "stdout",
       "text": [
        "\r",
        "[619]Good:http://thredds.cdip.ucsd.edu/thredds/dodsC/cdip/archive/114p1/114p1_d01.nc,125.064432"
       ]
      },
      {
       "output_type": "stream",
       "stream": "stdout",
       "text": [
        "\r",
        "[620]Good:http://thredds.cdip.ucsd.edu/thredds/dodsC/cdip/archive/114p1/114p1_d02.nc,30.376944"
       ]
      },
      {
       "output_type": "stream",
       "stream": "stdout",
       "text": [
        "\r",
        "[621]Good:http://thredds.cdip.ucsd.edu/thredds/dodsC/cdip/archive/114p1/114p1_d03.nc,303.443936"
       ]
      },
      {
       "output_type": "stream",
       "stream": "stdout",
       "text": [
        "\r",
        "[622]Good:http://thredds.cdip.ucsd.edu/thredds/dodsC/cdip/archive/114p1/114p1_d04.nc,128.932464"
       ]
      },
      {
       "output_type": "stream",
       "stream": "stdout",
       "text": [
        "\r",
        "[623]Good:http://thredds.cdip.ucsd.edu/thredds/dodsC/cdip/archive/114p1/114p1_historic.nc,37.710848"
       ]
      },
      {
       "output_type": "stream",
       "stream": "stdout",
       "text": [
        "\r",
        "[624]Good:http://thredds.cdip.ucsd.edu/thredds/dodsC/cdip/archive/115p1/115p1_d01.nc,155.118576"
       ]
      },
      {
       "output_type": "stream",
       "stream": "stdout",
       "text": [
        "\r",
        "[625]Good:http://thredds.cdip.ucsd.edu/thredds/dodsC/cdip/archive/115p1/115p1_d02.nc,527.105536"
       ]
      },
      {
       "output_type": "stream",
       "stream": "stdout",
       "text": [
        "\r",
        "[626]Good:http://thredds.cdip.ucsd.edu/thredds/dodsC/cdip/archive/115p1/115p1_historic.nc,46.153848"
       ]
      },
      {
       "output_type": "stream",
       "stream": "stdout",
       "text": [
        "\r",
        "[627]Good:http://thredds.cdip.ucsd.edu/thredds/dodsC/cdip/archive/116p1/116p1_d01.nc,145.942512"
       ]
      },
      {
       "output_type": "stream",
       "stream": "stdout",
       "text": [
        "\r",
        "[628]Good:http://thredds.cdip.ucsd.edu/thredds/dodsC/cdip/archive/116p1/116p1_d02.nc,677.679616"
       ]
      },
      {
       "output_type": "stream",
       "stream": "stdout",
       "text": [
        "\r",
        "[629]Good:http://thredds.cdip.ucsd.edu/thredds/dodsC/cdip/archive/116p1/116p1_historic.nc,55.937976"
       ]
      },
      {
       "output_type": "stream",
       "stream": "stdout",
       "text": [
        "\r",
        "[630]Good:http://thredds.cdip.ucsd.edu/thredds/dodsC/cdip/archive/117p1/117p1_d01.nc,289.362656"
       ]
      },
      {
       "output_type": "stream",
       "stream": "stdout",
       "text": [
        "\r",
        "[631]Good:http://thredds.cdip.ucsd.edu/thredds/dodsC/cdip/archive/117p1/117p1_historic.nc,18.823256"
       ]
      },
      {
       "output_type": "stream",
       "stream": "stdout",
       "text": [
        "\r",
        "[632]Good:http://thredds.cdip.ucsd.edu/thredds/dodsC/cdip/archive/118p1/118p1_d01.nc,648.94528"
       ]
      },
      {
       "output_type": "stream",
       "stream": "stdout",
       "text": [
        "\r",
        "[633]Good:http://thredds.cdip.ucsd.edu/thredds/dodsC/cdip/archive/118p1/118p1_historic.nc,43.627496"
       ]
      },
      {
       "output_type": "stream",
       "stream": "stdout",
       "text": [
        "\r",
        "[634]Good:http://thredds.cdip.ucsd.edu/thredds/dodsC/cdip/archive/121p1/121p1_d01.nc,640.577152"
       ]
      },
      {
       "output_type": "stream",
       "stream": "stdout",
       "text": [
        "\r",
        "[635]Good:http://thredds.cdip.ucsd.edu/thredds/dodsC/cdip/archive/121p1/121p1_d02.nc,648.762112"
       ]
      },
      {
       "output_type": "stream",
       "stream": "stdout",
       "text": [
        "\r",
        "[636]Good:http://thredds.cdip.ucsd.edu/thredds/dodsC/cdip/archive/121p1/121p1_d03.nc,532.865536"
       ]
      },
      {
       "output_type": "stream",
       "stream": "stdout",
       "text": [
        "\r",
        "[637]Good:http://thredds.cdip.ucsd.edu/thredds/dodsC/cdip/archive/121p1/121p1_d04.nc,1489.838208"
       ]
      },
      {
       "output_type": "stream",
       "stream": "stdout",
       "text": [
        "\r",
        "[638]Good:http://thredds.cdip.ucsd.edu/thredds/dodsC/cdip/archive/121p1/121p1_d05.nc,1424.333472"
       ]
      },
      {
       "output_type": "stream",
       "stream": "stdout",
       "text": [
        "\r",
        "[639]Good:http://thredds.cdip.ucsd.edu/thredds/dodsC/cdip/archive/121p1/121p1_d06.nc,793.494384"
       ]
      },
      {
       "output_type": "stream",
       "stream": "stdout",
       "text": [
        "\r",
        "[640]Good:http://thredds.cdip.ucsd.edu/thredds/dodsC/cdip/archive/121p1/121p1_d07.nc,1172.836424"
       ]
      },
      {
       "output_type": "stream",
       "stream": "stdout",
       "text": [
        "\r",
        "[641]Good:http://thredds.cdip.ucsd.edu/thredds/dodsC/cdip/archive/121p1/121p1_d08.nc,96.99232"
       ]
      },
      {
       "output_type": "stream",
       "stream": "stdout",
       "text": [
        "\r",
        "[642]Good:http://thredds.cdip.ucsd.edu/thredds/dodsC/cdip/archive/121p1/121p1_d09.nc,141.057704"
       ]
      },
      {
       "output_type": "stream",
       "stream": "stdout",
       "text": [
        "\r",
        "[643]Good:http://thredds.cdip.ucsd.edu/thredds/dodsC/cdip/archive/121p1/121p1_historic.nc,472.032388"
       ]
      },
      {
       "output_type": "stream",
       "stream": "stdout",
       "text": [
        "\r",
        "[644]Good:http://thredds.cdip.ucsd.edu/thredds/dodsC/cdip/archive/122p1/122p1_d01.nc,652.56448"
       ]
      },
      {
       "output_type": "stream",
       "stream": "stdout",
       "text": [
        "\r",
        "[645]Good:http://thredds.cdip.ucsd.edu/thredds/dodsC/cdip/archive/122p1/122p1_historic.nc,44.22064"
       ]
      },
      {
       "output_type": "stream",
       "stream": "stdout",
       "text": [
        "\r",
        "[646]Good:http://thredds.cdip.ucsd.edu/thredds/dodsC/cdip/archive/123p1/123p1_d01.nc,112.006896"
       ]
      },
      {
       "output_type": "stream",
       "stream": "stdout",
       "text": [
        "\r",
        "[647]Good:http://thredds.cdip.ucsd.edu/thredds/dodsC/cdip/archive/123p1/123p1_historic.nc,7.591664"
       ]
      },
      {
       "output_type": "stream",
       "stream": "stdout",
       "text": [
        "\r",
        "[648]Good:http://thredds.cdip.ucsd.edu/thredds/dodsC/cdip/archive/124p1/124p1_d01.nc,582.754816"
       ]
      },
      {
       "output_type": "stream",
       "stream": "stdout",
       "text": [
        "\r",
        "[649]Good:http://thredds.cdip.ucsd.edu/thredds/dodsC/cdip/archive/124p1/124p1_historic.nc,39.514408"
       ]
      },
      {
       "output_type": "stream",
       "stream": "stdout",
       "text": [
        "\r",
        "[650]Good:http://thredds.cdip.ucsd.edu/thredds/dodsC/cdip/archive/125p1/125p1_d01.nc,383.053312"
       ]
      },
      {
       "output_type": "stream",
       "stream": "stdout",
       "text": [
        "\r",
        "[651]Good:http://thredds.cdip.ucsd.edu/thredds/dodsC/cdip/archive/125p1/125p1_historic.nc,25.904344"
       ]
      },
      {
       "output_type": "stream",
       "stream": "stdout",
       "text": [
        "\r",
        "[652]Good:http://thredds.cdip.ucsd.edu/thredds/dodsC/cdip/archive/126p1/126p1_d01.nc,372.969088"
       ]
      },
      {
       "output_type": "stream",
       "stream": "stdout",
       "text": [
        "\r",
        "[653]Good:http://thredds.cdip.ucsd.edu/thredds/dodsC/cdip/archive/126p1/126p1_d02.nc,148.020336"
       ]
      },
      {
       "output_type": "stream",
       "stream": "stdout",
       "text": [
        "\r",
        "[654]Good:http://thredds.cdip.ucsd.edu/thredds/dodsC/cdip/archive/126p1/126p1_d03.nc,16.531056"
       ]
      },
      {
       "output_type": "stream",
       "stream": "stdout",
       "text": [
        "\r",
        "[655]Good:http://thredds.cdip.ucsd.edu/thredds/dodsC/cdip/archive/126p1/126p1_historic.nc,35.994544"
       ]
      },
      {
       "output_type": "stream",
       "stream": "stdout",
       "text": [
        "\r",
        "[656]Good:http://thredds.cdip.ucsd.edu/thredds/dodsC/cdip/archive/128p1/128p1_d01.nc,979.777744"
       ]
      },
      {
       "output_type": "stream",
       "stream": "stdout",
       "text": [
        "\r",
        "[657]Good:http://thredds.cdip.ucsd.edu/thredds/dodsC/cdip/archive/128p1/128p1_d02.nc,1043.324696"
       ]
      },
      {
       "output_type": "stream",
       "stream": "stdout",
       "text": [
        "\r",
        "[658]Good:http://thredds.cdip.ucsd.edu/thredds/dodsC/cdip/archive/128p1/128p1_d03.nc,180.930152"
       ]
      },
      {
       "output_type": "stream",
       "stream": "stdout",
       "text": [
        "\r",
        "[659]Good:http://thredds.cdip.ucsd.edu/thredds/dodsC/cdip/archive/128p1/128p1_d04.nc,1353.290896"
       ]
      },
      {
       "output_type": "stream",
       "stream": "stdout",
       "text": [
        "\r",
        "[660]Good:http://thredds.cdip.ucsd.edu/thredds/dodsC/cdip/archive/128p1/128p1_d05.nc,503.865352"
       ]
      },
      {
       "output_type": "stream",
       "stream": "stdout",
       "text": [
        "\r",
        "[661]Good:http://thredds.cdip.ucsd.edu/thredds/dodsC/cdip/archive/128p1/128p1_d06.nc,1171.333296"
       ]
      },
      {
       "output_type": "stream",
       "stream": "stdout",
       "text": [
        "\r",
        "[662]Good:http://thredds.cdip.ucsd.edu/thredds/dodsC/cdip/archive/128p1/128p1_d07.nc,1011.843504"
       ]
      },
      {
       "output_type": "stream",
       "stream": "stdout",
       "text": [
        "\r",
        "[663]Good:http://thredds.cdip.ucsd.edu/thredds/dodsC/cdip/archive/128p1/128p1_historic.nc,423.436248"
       ]
      },
      {
       "output_type": "stream",
       "stream": "stdout",
       "text": [
        "\r",
        "[664]Good:http://thredds.cdip.ucsd.edu/thredds/dodsC/cdip/archive/129p1/129p1_d01.nc,13.77816"
       ]
      },
      {
       "output_type": "stream",
       "stream": "stdout",
       "text": [
        "\r",
        "[665]Good:http://thredds.cdip.ucsd.edu/thredds/dodsC/cdip/archive/129p1/129p1_d02.nc,86.794224"
       ]
      },
      {
       "output_type": "stream",
       "stream": "stdout",
       "text": [
        "\r",
        "[666]Good:http://thredds.cdip.ucsd.edu/thredds/dodsC/cdip/archive/129p1/129p1_historic.nc,4.618048"
       ]
      },
      {
       "output_type": "stream",
       "stream": "stdout",
       "text": [
        "\r",
        "[667]Good:http://thredds.cdip.ucsd.edu/thredds/dodsC/cdip/archive/130p1/130p1_d01.nc,623.223808"
       ]
      },
      {
       "output_type": "stream",
       "stream": "stdout",
       "text": [
        "\r",
        "[668]Good:http://thredds.cdip.ucsd.edu/thredds/dodsC/cdip/archive/130p1/130p1_historic.nc,42.2594"
       ]
      },
      {
       "output_type": "stream",
       "stream": "stdout",
       "text": [
        "\r",
        "[669]Good:http://thredds.cdip.ucsd.edu/thredds/dodsC/cdip/archive/131p1/131p1_d01.nc,1124.564992"
       ]
      },
      {
       "output_type": "stream",
       "stream": "stdout",
       "text": [
        "\r",
        "[670]Good:http://thredds.cdip.ucsd.edu/thredds/dodsC/cdip/archive/131p1/131p1_historic.nc,75.250256"
       ]
      },
      {
       "output_type": "stream",
       "stream": "stdout",
       "text": [
        "\r",
        "[671]Good:http://thredds.cdip.ucsd.edu/thredds/dodsC/cdip/archive/132p1/132p1_d01.nc,131.564264"
       ]
      },
      {
       "output_type": "stream",
       "stream": "stdout",
       "text": [
        "\r",
        "[672]Good:http://thredds.cdip.ucsd.edu/thredds/dodsC/cdip/archive/132p1/132p1_d02.nc,1392.211308"
       ]
      },
      {
       "output_type": "stream",
       "stream": "stdout",
       "text": [
        "\r",
        "[673]Good:http://thredds.cdip.ucsd.edu/thredds/dodsC/cdip/archive/132p1/132p1_d03.nc,81.557232"
       ]
      },
      {
       "output_type": "stream",
       "stream": "stdout",
       "text": [
        "\r",
        "[674]Good:http://thredds.cdip.ucsd.edu/thredds/dodsC/cdip/archive/132p1/132p1_d04.nc,1042.589944"
       ]
      },
      {
       "output_type": "stream",
       "stream": "stdout",
       "text": [
        "\r",
        "[675]Good:http://thredds.cdip.ucsd.edu/thredds/dodsC/cdip/archive/132p1/132p1_d05.nc,548.247184"
       ]
      },
      {
       "output_type": "stream",
       "stream": "stdout",
       "text": [
        "\r",
        "[676]Good:http://thredds.cdip.ucsd.edu/thredds/dodsC/cdip/archive/132p1/132p1_d06.nc,174.363856"
       ]
      },
      {
       "output_type": "stream",
       "stream": "stdout",
       "text": [
        "\r",
        "[677]Good:http://thredds.cdip.ucsd.edu/thredds/dodsC/cdip/archive/132p1/132p1_d07.nc,7.909516"
       ]
      },
      {
       "output_type": "stream",
       "stream": "stdout",
       "text": [
        "\r",
        "[678]Good:http://thredds.cdip.ucsd.edu/thredds/dodsC/cdip/archive/132p1/132p1_d08.nc,256.165664"
       ]
      },
      {
       "output_type": "stream",
       "stream": "stdout",
       "text": [
        "\r",
        "[679]Good:http://thredds.cdip.ucsd.edu/thredds/dodsC/cdip/archive/132p1/132p1_d09.nc,760.742016"
       ]
      },
      {
       "output_type": "stream",
       "stream": "stdout",
       "text": [
        "\r",
        "[680]Good:http://thredds.cdip.ucsd.edu/thredds/dodsC/cdip/archive/132p1/132p1_d10.nc,882.811832"
       ]
      },
      {
       "output_type": "stream",
       "stream": "stdout",
       "text": [
        "\r",
        "[681]Good:http://thredds.cdip.ucsd.edu/thredds/dodsC/cdip/archive/132p1/132p1_historic.nc,358.148848"
       ]
      },
      {
       "output_type": "stream",
       "stream": "stdout",
       "text": [
        "\r",
        "[682]Good:http://thredds.cdip.ucsd.edu/thredds/dodsC/cdip/archive/133p1/133p1_d01.nc,1062.296704"
       ]
      },
      {
       "output_type": "stream",
       "stream": "stdout",
       "text": [
        "\r",
        "[683]Good:http://thredds.cdip.ucsd.edu/thredds/dodsC/cdip/archive/133p1/133p1_historic.nc,71.624368"
       ]
      },
      {
       "output_type": "stream",
       "stream": "stdout",
       "text": [
        "\r",
        "[684]Good:http://thredds.cdip.ucsd.edu/thredds/dodsC/cdip/archive/134p1/134p1_d01.nc,485.906928"
       ]
      },
      {
       "output_type": "stream",
       "stream": "stdout",
       "text": [
        "\r",
        "[685]Good:http://thredds.cdip.ucsd.edu/thredds/dodsC/cdip/archive/134p1/134p1_d02.nc,802.513152"
       ]
      },
      {
       "output_type": "stream",
       "stream": "stdout",
       "text": [
        "\r",
        "[686]Good:http://thredds.cdip.ucsd.edu/thredds/dodsC/cdip/archive/134p1/134p1_d03.nc,144.06396"
       ]
      },
      {
       "output_type": "stream",
       "stream": "stdout",
       "text": [
        "\r",
        "[687]Good:http://thredds.cdip.ucsd.edu/thredds/dodsC/cdip/archive/134p1/134p1_d04.nc,449.752744"
       ]
      },
      {
       "output_type": "stream",
       "stream": "stdout",
       "text": [
        "\r",
        "[688]Good:http://thredds.cdip.ucsd.edu/thredds/dodsC/cdip/archive/134p1/134p1_d05.nc,1038.504248"
       ]
      },
      {
       "output_type": "stream",
       "stream": "stdout",
       "text": [
        "\r",
        "[689]Good:http://thredds.cdip.ucsd.edu/thredds/dodsC/cdip/archive/134p1/134p1_d06.nc,136.864768"
       ]
      },
      {
       "output_type": "stream",
       "stream": "stdout",
       "text": [
        "\r",
        "[690]Good:http://thredds.cdip.ucsd.edu/thredds/dodsC/cdip/archive/134p1/134p1_d07.nc,869.046344"
       ]
      },
      {
       "output_type": "stream",
       "stream": "stdout",
       "text": [
        "\r",
        "[691]Good:http://thredds.cdip.ucsd.edu/thredds/dodsC/cdip/archive/134p1/134p1_d08.nc,863.983176"
       ]
      },
      {
       "output_type": "stream",
       "stream": "stdout",
       "text": [
        "\r",
        "[692]Good:http://thredds.cdip.ucsd.edu/thredds/dodsC/cdip/archive/134p1/134p1_historic.nc,325.998072"
       ]
      },
      {
       "output_type": "stream",
       "stream": "stdout",
       "text": [
        "\r",
        "[693]Good:http://thredds.cdip.ucsd.edu/thredds/dodsC/cdip/archive/135p1/135p1_d01.nc,58.273776"
       ]
      },
      {
       "output_type": "stream",
       "stream": "stdout",
       "text": [
        "\r",
        "[694]Good:http://thredds.cdip.ucsd.edu/thredds/dodsC/cdip/archive/135p1/135p1_historic.nc,3.91268"
       ]
      },
      {
       "output_type": "stream",
       "stream": "stdout",
       "text": [
        "\r",
        "[695]Good:http://thredds.cdip.ucsd.edu/thredds/dodsC/cdip/archive/136p1/136p1_d01.nc,155.42424"
       ]
      },
      {
       "output_type": "stream",
       "stream": "stdout",
       "text": [
        "\r",
        "[696]Good:http://thredds.cdip.ucsd.edu/thredds/dodsC/cdip/archive/136p1/136p1_historic.nc,10.524752"
       ]
      },
      {
       "output_type": "stream",
       "stream": "stdout",
       "text": [
        "\r",
        "[697]Good:http://thredds.cdip.ucsd.edu/thredds/dodsC/cdip/archive/139p1/139p1_d01.nc,273.942768"
       ]
      },
      {
       "output_type": "stream",
       "stream": "stdout",
       "text": [
        "\r",
        "[698]Good:http://thredds.cdip.ucsd.edu/thredds/dodsC/cdip/archive/139p1/139p1_d02.nc,851.427328"
       ]
      },
      {
       "output_type": "stream",
       "stream": "stdout",
       "text": [
        "\r",
        "[699]Good:http://thredds.cdip.ucsd.edu/thredds/dodsC/cdip/archive/139p1/139p1_d03.nc,727.27764"
       ]
      },
      {
       "output_type": "stream",
       "stream": "stdout",
       "text": [
        "\r",
        "[700]Good:http://thredds.cdip.ucsd.edu/thredds/dodsC/cdip/archive/139p1/139p1_d04.nc,1486.278168"
       ]
      },
      {
       "output_type": "stream",
       "stream": "stdout",
       "text": [
        "\r",
        "[701]Good:http://thredds.cdip.ucsd.edu/thredds/dodsC/cdip/archive/139p1/139p1_d05.nc,269.772928"
       ]
      },
      {
       "output_type": "stream",
       "stream": "stdout",
       "text": [
        "\r",
        "[702]Good:http://thredds.cdip.ucsd.edu/thredds/dodsC/cdip/archive/139p1/139p1_d06.nc,645.159384"
       ]
      },
      {
       "output_type": "stream",
       "stream": "stdout",
       "text": [
        "\r",
        "[703]Good:http://thredds.cdip.ucsd.edu/thredds/dodsC/cdip/archive/139p1/139p1_d07.nc,958.442904"
       ]
      },
      {
       "output_type": "stream",
       "stream": "stdout",
       "text": [
        "\r",
        "[704]Good:http://thredds.cdip.ucsd.edu/thredds/dodsC/cdip/archive/139p1/139p1_historic.nc,352.879608"
       ]
      },
      {
       "output_type": "stream",
       "stream": "stdout",
       "text": [
        "\r",
        "[705]Good:http://thredds.cdip.ucsd.edu/thredds/dodsC/cdip/archive/141p1/141p1_d02.nc,1010.461352"
       ]
      },
      {
       "output_type": "stream",
       "stream": "stdout",
       "text": [
        "\r",
        "[706]Good:http://thredds.cdip.ucsd.edu/thredds/dodsC/cdip/archive/141p1/141p1_d03.nc,19.002096"
       ]
      },
      {
       "output_type": "stream",
       "stream": "stdout",
       "text": [
        "\r",
        "[707]Good:http://thredds.cdip.ucsd.edu/thredds/dodsC/cdip/archive/141p1/141p1_d04.nc,241.279728"
       ]
      },
      {
       "output_type": "stream",
       "stream": "stdout",
       "text": [
        "\r",
        "[708]Good:http://thredds.cdip.ucsd.edu/thredds/dodsC/cdip/archive/141p1/141p1_historic.nc,74.303984"
       ]
      },
      {
       "output_type": "stream",
       "stream": "stdout",
       "text": [
        "\r",
        "[709]Good:http://thredds.cdip.ucsd.edu/thredds/dodsC/cdip/archive/142p1/142p1_d01.nc,293.03184"
       ]
      },
      {
       "output_type": "stream",
       "stream": "stdout",
       "text": [
        "\r",
        "[710]Good:http://thredds.cdip.ucsd.edu/thredds/dodsC/cdip/archive/142p1/142p1_d02.nc,1112.15752"
       ]
      },
      {
       "output_type": "stream",
       "stream": "stdout",
       "text": [
        "\r",
        "[711]Good:http://thredds.cdip.ucsd.edu/thredds/dodsC/cdip/archive/142p1/142p1_d03.nc,362.808624"
       ]
      },
      {
       "output_type": "stream",
       "stream": "stdout",
       "text": [
        "\r",
        "[712]Good:http://thredds.cdip.ucsd.edu/thredds/dodsC/cdip/archive/142p1/142p1_d04.nc,229.50492"
       ]
      },
      {
       "output_type": "stream",
       "stream": "stdout",
       "text": [
        "\r",
        "[713]Good:http://thredds.cdip.ucsd.edu/thredds/dodsC/cdip/archive/142p1/142p1_d05.nc,377.127928"
       ]
      },
      {
       "output_type": "stream",
       "stream": "stdout",
       "text": [
        "\r",
        "[714]Good:http://thredds.cdip.ucsd.edu/thredds/dodsC/cdip/archive/142p1/142p1_d06.nc,331.875832"
       ]
      },
      {
       "output_type": "stream",
       "stream": "stdout",
       "text": [
        "\r",
        "[715]Good:http://thredds.cdip.ucsd.edu/thredds/dodsC/cdip/archive/142p1/142p1_d07.nc,114.0014"
       ]
      },
      {
       "output_type": "stream",
       "stream": "stdout",
       "text": [
        "\r",
        "[716]Good:http://thredds.cdip.ucsd.edu/thredds/dodsC/cdip/archive/142p1/142p1_d08.nc,334.011856"
       ]
      },
      {
       "output_type": "stream",
       "stream": "stdout",
       "text": [
        "\r",
        "[717]Good:http://thredds.cdip.ucsd.edu/thredds/dodsC/cdip/archive/142p1/142p1_d09.nc,198.888576"
       ]
      },
      {
       "output_type": "stream",
       "stream": "stdout",
       "text": [
        "\r",
        "[718]Good:http://thredds.cdip.ucsd.edu/thredds/dodsC/cdip/archive/142p1/142p1_d10.nc,35.996968"
       ]
      },
      {
       "output_type": "stream",
       "stream": "stdout",
       "text": [
        "\r",
        "[719]Good:http://thredds.cdip.ucsd.edu/thredds/dodsC/cdip/archive/142p1/142p1_d11.nc,181.800384"
       ]
      },
      {
       "output_type": "stream",
       "stream": "stdout",
       "text": [
        "\r",
        "[720]Good:http://thredds.cdip.ucsd.edu/thredds/dodsC/cdip/archive/142p1/142p1_d12.nc,92.166488"
       ]
      },
      {
       "output_type": "stream",
       "stream": "stdout",
       "text": [
        "\r",
        "[721]Good:http://thredds.cdip.ucsd.edu/thredds/dodsC/cdip/archive/142p1/142p1_d13.nc,174.205632"
       ]
      },
      {
       "output_type": "stream",
       "stream": "stdout",
       "text": [
        "\r",
        "[722]Good:http://thredds.cdip.ucsd.edu/thredds/dodsC/cdip/archive/142p1/142p1_d14.nc,758.92244"
       ]
      },
      {
       "output_type": "stream",
       "stream": "stdout",
       "text": [
        "\r",
        "[723]Good:http://thredds.cdip.ucsd.edu/thredds/dodsC/cdip/archive/142p1/142p1_historic.nc,312.48872"
       ]
      },
      {
       "output_type": "stream",
       "stream": "stdout",
       "text": [
        "\r",
        "[724]Good:http://thredds.cdip.ucsd.edu/thredds/dodsC/cdip/archive/143p1/143p1_d01.nc,970.770916"
       ]
      },
      {
       "output_type": "stream",
       "stream": "stdout",
       "text": [
        "\r",
        "[725]Good:http://thredds.cdip.ucsd.edu/thredds/dodsC/cdip/archive/143p1/143p1_d02.nc,1555.896728"
       ]
      },
      {
       "output_type": "stream",
       "stream": "stdout",
       "text": [
        "\r",
        "[726]Good:http://thredds.cdip.ucsd.edu/thredds/dodsC/cdip/archive/143p1/143p1_d03.nc,9.652672"
       ]
      },
      {
       "output_type": "stream",
       "stream": "stdout",
       "text": [
        "\r",
        "[727]Good:http://thredds.cdip.ucsd.edu/thredds/dodsC/cdip/archive/143p1/143p1_d04.nc,240.105928"
       ]
      },
      {
       "output_type": "stream",
       "stream": "stdout",
       "text": [
        "\r",
        "[728]Good:http://thredds.cdip.ucsd.edu/thredds/dodsC/cdip/archive/143p1/143p1_d05.nc,18.513216"
       ]
      },
      {
       "output_type": "stream",
       "stream": "stdout",
       "text": [
        "\r",
        "[729]Good:http://thredds.cdip.ucsd.edu/thredds/dodsC/cdip/archive/143p1/143p1_d06.nc,17.168312"
       ]
      },
      {
       "output_type": "stream",
       "stream": "stdout",
       "text": [
        "\r",
        "[730]Good:http://thredds.cdip.ucsd.edu/thredds/dodsC/cdip/archive/143p1/143p1_d07.nc,734.872392"
       ]
      },
      {
       "output_type": "stream",
       "stream": "stdout",
       "text": [
        "\r",
        "[731]Good:http://thredds.cdip.ucsd.edu/thredds/dodsC/cdip/archive/143p1/143p1_d08.nc,434.800576"
       ]
      },
      {
       "output_type": "stream",
       "stream": "stdout",
       "text": [
        "\r",
        "[732]Good:http://thredds.cdip.ucsd.edu/thredds/dodsC/cdip/archive/143p1/143p1_d09.nc,933.997296"
       ]
      },
      {
       "output_type": "stream",
       "stream": "stdout",
       "text": [
        "\r",
        "[733]Good:http://thredds.cdip.ucsd.edu/thredds/dodsC/cdip/archive/143p1/143p1_d10.nc,38.43598"
       ]
      },
      {
       "output_type": "stream",
       "stream": "stdout",
       "text": [
        "\r",
        "[734]Good:http://thredds.cdip.ucsd.edu/thredds/dodsC/cdip/archive/143p1/143p1_historic.nc,337.060216"
       ]
      },
      {
       "output_type": "stream",
       "stream": "stdout",
       "text": [
        "\r",
        "[735]Good:http://thredds.cdip.ucsd.edu/thredds/dodsC/cdip/archive/144p1/144p1_d01.nc,650.918408"
       ]
      },
      {
       "output_type": "stream",
       "stream": "stdout",
       "text": [
        "\r",
        "[736]Good:http://thredds.cdip.ucsd.edu/thredds/dodsC/cdip/archive/144p1/144p1_d02.nc,184.80664"
       ]
      },
      {
       "output_type": "stream",
       "stream": "stdout",
       "text": [
        "\r",
        "[737]Good:http://thredds.cdip.ucsd.edu/thredds/dodsC/cdip/archive/144p1/144p1_d03.nc,695.63284"
       ]
      },
      {
       "output_type": "stream",
       "stream": "stdout",
       "text": [
        "\r",
        "[738]Good:http://thredds.cdip.ucsd.edu/thredds/dodsC/cdip/archive/144p1/144p1_d04.nc,1046.099"
       ]
      },
      {
       "output_type": "stream",
       "stream": "stdout",
       "text": [
        "\r",
        "[739]Good:http://thredds.cdip.ucsd.edu/thredds/dodsC/cdip/archive/144p1/144p1_d05.nc,996.416664"
       ]
      },
      {
       "output_type": "stream",
       "stream": "stdout",
       "text": [
        "\r",
        "[740]Good:http://thredds.cdip.ucsd.edu/thredds/dodsC/cdip/archive/144p1/144p1_d06.nc,761.533136"
       ]
      },
      {
       "output_type": "stream",
       "stream": "stdout",
       "text": [
        "\r",
        "[741]Good:http://thredds.cdip.ucsd.edu/thredds/dodsC/cdip/archive/144p1/144p1_historic.nc,293.8822"
       ]
      },
      {
       "output_type": "stream",
       "stream": "stdout",
       "text": [
        "\r",
        "[742]Good:http://thredds.cdip.ucsd.edu/thredds/dodsC/cdip/archive/146p1/146p1_d01.nc,501.333768"
       ]
      },
      {
       "output_type": "stream",
       "stream": "stdout",
       "text": [
        "\r",
        "[743]Good:http://thredds.cdip.ucsd.edu/thredds/dodsC/cdip/archive/146p1/146p1_d02.nc,527.836288"
       ]
      },
      {
       "output_type": "stream",
       "stream": "stdout",
       "text": [
        "\r",
        "[744]Good:http://thredds.cdip.ucsd.edu/thredds/dodsC/cdip/archive/146p1/146p1_d03.nc,471.587656"
       ]
      },
      {
       "output_type": "stream",
       "stream": "stdout",
       "text": [
        "\r",
        "[745]Good:http://thredds.cdip.ucsd.edu/thredds/dodsC/cdip/archive/146p1/146p1_d04.nc,195.724096"
       ]
      },
      {
       "output_type": "stream",
       "stream": "stdout",
       "text": [
        "\r",
        "[746]Good:http://thredds.cdip.ucsd.edu/thredds/dodsC/cdip/archive/146p1/146p1_d05.nc,596.57742"
       ]
      },
      {
       "output_type": "stream",
       "stream": "stdout",
       "text": [
        "\r",
        "[747]Good:http://thredds.cdip.ucsd.edu/thredds/dodsC/cdip/archive/146p1/146p1_d06.nc,1051.63684"
       ]
      },
      {
       "output_type": "stream",
       "stream": "stdout",
       "text": [
        "\r",
        "[748]Good:http://thredds.cdip.ucsd.edu/thredds/dodsC/cdip/archive/146p1/146p1_d07.nc,265.50088"
       ]
      },
      {
       "output_type": "stream",
       "stream": "stdout",
       "text": [
        "\r",
        "[749]Good:http://thredds.cdip.ucsd.edu/thredds/dodsC/cdip/archive/146p1/146p1_d08.nc,200.62904"
       ]
      },
      {
       "output_type": "stream",
       "stream": "stdout",
       "text": [
        "\r",
        "[750]Good:http://thredds.cdip.ucsd.edu/thredds/dodsC/cdip/archive/146p1/146p1_d09.nc,493.264344"
       ]
      },
      {
       "output_type": "stream",
       "stream": "stdout",
       "text": [
        "\r",
        "[751]Good:http://thredds.cdip.ucsd.edu/thredds/dodsC/cdip/archive/146p1/146p1_d10.nc,86.628648"
       ]
      },
      {
       "output_type": "stream",
       "stream": "stdout",
       "text": [
        "\r",
        "[752]Good:http://thredds.cdip.ucsd.edu/thredds/dodsC/cdip/archive/146p1/146p1_d11.nc,90.628364"
       ]
      },
      {
       "output_type": "stream",
       "stream": "stdout",
       "text": [
        "\r",
        "[753]Good:http://thredds.cdip.ucsd.edu/thredds/dodsC/cdip/archive/146p1/146p1_historic.nc,299.37788"
       ]
      },
      {
       "output_type": "stream",
       "stream": "stdout",
       "text": [
        "\r",
        "[754]Good:http://thredds.cdip.ucsd.edu/thredds/dodsC/cdip/archive/147p1/147p1_d01.nc,31.487584"
       ]
      },
      {
       "output_type": "stream",
       "stream": "stdout",
       "text": [
        "\r",
        "[755]Good:http://thredds.cdip.ucsd.edu/thredds/dodsC/cdip/archive/147p1/147p1_d02.nc,734.714168"
       ]
      },
      {
       "output_type": "stream",
       "stream": "stdout",
       "text": [
        "\r",
        "[756]Good:http://thredds.cdip.ucsd.edu/thredds/dodsC/cdip/archive/147p1/147p1_d03.nc,212.10028"
       ]
      },
      {
       "output_type": "stream",
       "stream": "stdout",
       "text": [
        "\r",
        "[757]Good:http://thredds.cdip.ucsd.edu/thredds/dodsC/cdip/archive/147p1/147p1_d04.nc,159.09524"
       ]
      },
      {
       "output_type": "stream",
       "stream": "stdout",
       "text": [
        "\r",
        "[758]Good:http://thredds.cdip.ucsd.edu/thredds/dodsC/cdip/archive/147p1/147p1_d05.nc,23.41816"
       ]
      },
      {
       "output_type": "stream",
       "stream": "stdout",
       "text": [
        "\r",
        "[759]Good:http://thredds.cdip.ucsd.edu/thredds/dodsC/cdip/archive/147p1/147p1_d06.nc,753.542824"
       ]
      },
      {
       "output_type": "stream",
       "stream": "stdout",
       "text": [
        "\r",
        "[760]Good:http://thredds.cdip.ucsd.edu/thredds/dodsC/cdip/archive/147p1/147p1_d07.nc,140.266584"
       ]
      },
      {
       "output_type": "stream",
       "stream": "stdout",
       "text": [
        "\r",
        "[761]Good:http://thredds.cdip.ucsd.edu/thredds/dodsC/cdip/archive/147p1/147p1_d08.nc,8.149544"
       ]
      },
      {
       "output_type": "stream",
       "stream": "stdout",
       "text": [
        "\r",
        "[762]Good:http://thredds.cdip.ucsd.edu/thredds/dodsC/cdip/archive/147p1/147p1_d09.nc,858.287112"
       ]
      },
      {
       "output_type": "stream",
       "stream": "stdout",
       "text": [
        "\r",
        "[763]Good:http://thredds.cdip.ucsd.edu/thredds/dodsC/cdip/archive/147p1/147p1_d10.nc,996.495776"
       ]
      },
      {
       "output_type": "stream",
       "stream": "stdout",
       "text": [
        "\r",
        "[764]Good:http://thredds.cdip.ucsd.edu/thredds/dodsC/cdip/archive/147p1/147p1_historic.nc,266.605976"
       ]
      },
      {
       "output_type": "stream",
       "stream": "stdout",
       "text": [
        "\r",
        "[765]Good:http://thredds.cdip.ucsd.edu/thredds/dodsC/cdip/archive/148p1/148p1_d01.nc,92.751756"
       ]
      },
      {
       "output_type": "stream",
       "stream": "stdout",
       "text": [
        "\r",
        "[766]Good:http://thredds.cdip.ucsd.edu/thredds/dodsC/cdip/archive/149p1/149p1_d01.nc,91.296256"
       ]
      },
      {
       "output_type": "stream",
       "stream": "stdout",
       "text": [
        "\r",
        "[767]Good:http://thredds.cdip.ucsd.edu/thredds/dodsC/cdip/archive/149p1/149p1_historic.nc,6.203688"
       ]
      },
      {
       "output_type": "stream",
       "stream": "stdout",
       "text": [
        "\r",
        "[768]Good:http://thredds.cdip.ucsd.edu/thredds/dodsC/cdip/archive/150p1/150p1_d01.nc,846.657648"
       ]
      },
      {
       "output_type": "stream",
       "stream": "stdout",
       "text": [
        "\r",
        "[769]Good:http://thredds.cdip.ucsd.edu/thredds/dodsC/cdip/archive/150p1/150p1_d02.nc,1151.397072"
       ]
      },
      {
       "output_type": "stream",
       "stream": "stdout",
       "text": [
        "\r",
        "[770]Good:http://thredds.cdip.ucsd.edu/thredds/dodsC/cdip/archive/150p1/150p1_d03.nc,594.211256"
       ]
      },
      {
       "output_type": "stream",
       "stream": "stdout",
       "text": [
        "\r",
        "[771]Good:http://thredds.cdip.ucsd.edu/thredds/dodsC/cdip/archive/150p1/150p1_d04.nc,442.076188"
       ]
      },
      {
       "output_type": "stream",
       "stream": "stdout",
       "text": [
        "\r",
        "[772]Good:http://thredds.cdip.ucsd.edu/thredds/dodsC/cdip/archive/150p1/150p1_d05.nc,124.997968"
       ]
      },
      {
       "output_type": "stream",
       "stream": "stdout",
       "text": [
        "\r",
        "[773]Good:http://thredds.cdip.ucsd.edu/thredds/dodsC/cdip/archive/150p1/150p1_d06.nc,523.403324"
       ]
      },
      {
       "output_type": "stream",
       "stream": "stdout",
       "text": [
        "\r",
        "[774]Good:http://thredds.cdip.ucsd.edu/thredds/dodsC/cdip/archive/150p1/150p1_historic.nc,250.315168"
       ]
      },
      {
       "output_type": "stream",
       "stream": "stdout",
       "text": [
        "\r",
        "[775]Good:http://thredds.cdip.ucsd.edu/thredds/dodsC/cdip/archive/151p1/151p1_d01.nc,112.102712"
       ]
      },
      {
       "output_type": "stream",
       "stream": "stdout",
       "text": [
        "\r",
        "[776]Good:http://thredds.cdip.ucsd.edu/thredds/dodsC/cdip/archive/151p1/151p1_historic.nc,7.630152"
       ]
      },
      {
       "output_type": "stream",
       "stream": "stdout",
       "text": [
        "\r",
        "[777]Good:http://thredds.cdip.ucsd.edu/thredds/dodsC/cdip/archive/152p1/152p1_d01.nc,10.839352"
       ]
      },
      {
       "output_type": "stream",
       "stream": "stdout",
       "text": [
        "\r",
        "[778]Good:http://thredds.cdip.ucsd.edu/thredds/dodsC/cdip/archive/152p1/152p1_d02.nc,54.983848"
       ]
      },
      {
       "output_type": "stream",
       "stream": "stdout",
       "text": [
        "\r",
        "[779]Good:http://thredds.cdip.ucsd.edu/thredds/dodsC/cdip/archive/154p1/154p1_d01.nc,4.589504"
       ]
      },
      {
       "output_type": "stream",
       "stream": "stdout",
       "text": [
        "\r",
        "[780]Good:http://thredds.cdip.ucsd.edu/thredds/dodsC/cdip/archive/154p1/154p1_d02.nc,947.209"
       ]
      },
      {
       "output_type": "stream",
       "stream": "stdout",
       "text": [
        "\r",
        "[781]Good:http://thredds.cdip.ucsd.edu/thredds/dodsC/cdip/archive/154p1/154p1_d03.nc,427.996944"
       ]
      },
      {
       "output_type": "stream",
       "stream": "stdout",
       "text": [
        "\r",
        "[782]Good:http://thredds.cdip.ucsd.edu/thredds/dodsC/cdip/archive/154p1/154p1_d04.nc,605.52158"
       ]
      },
      {
       "output_type": "stream",
       "stream": "stdout",
       "text": [
        "\r",
        "[783]Good:http://thredds.cdip.ucsd.edu/thredds/dodsC/cdip/archive/154p1/154p1_d05.nc,1161.839856"
       ]
      },
      {
       "output_type": "stream",
       "stream": "stdout",
       "text": [
        "\r",
        "[784]Good:http://thredds.cdip.ucsd.edu/thredds/dodsC/cdip/archive/154p1/154p1_historic.nc,214.13826"
       ]
      },
      {
       "output_type": "stream",
       "stream": "stdout",
       "text": [
        "\r",
        "[785]Good:http://thredds.cdip.ucsd.edu/thredds/dodsC/cdip/archive/155p1/155p1_d01.nc,603.407488"
       ]
      },
      {
       "output_type": "stream",
       "stream": "stdout",
       "text": [
        "\r",
        "[786]Good:http://thredds.cdip.ucsd.edu/thredds/dodsC/cdip/archive/155p1/155p1_d02.nc,24.437232"
       ]
      },
      {
       "output_type": "stream",
       "stream": "stdout",
       "text": [
        "\r",
        "[787]Good:http://thredds.cdip.ucsd.edu/thredds/dodsC/cdip/archive/155p1/155p1_d03.nc,590.014336"
       ]
      },
      {
       "output_type": "stream",
       "stream": "stdout",
       "text": [
        "\r",
        "[788]Good:http://thredds.cdip.ucsd.edu/thredds/dodsC/cdip/archive/155p1/155p1_d04.nc,566.173312"
       ]
      },
      {
       "output_type": "stream",
       "stream": "stdout",
       "text": [
        "\r",
        "[789]Good:http://thredds.cdip.ucsd.edu/thredds/dodsC/cdip/archive/155p1/155p1_d05.nc,320.208608"
       ]
      },
      {
       "output_type": "stream",
       "stream": "stdout",
       "text": [
        "\r",
        "[790]Good:http://thredds.cdip.ucsd.edu/thredds/dodsC/cdip/archive/155p1/155p1_historic.nc,141.535752"
       ]
      },
      {
       "output_type": "stream",
       "stream": "stdout",
       "text": [
        "\r",
        "[791]Good:http://thredds.cdip.ucsd.edu/thredds/dodsC/cdip/archive/156p1/156p1_d01.nc,23.101712"
       ]
      },
      {
       "output_type": "stream",
       "stream": "stdout",
       "text": [
        "\r",
        "[792]Good:http://thredds.cdip.ucsd.edu/thredds/dodsC/cdip/archive/156p1/156p1_d02.nc,977.632384"
       ]
      },
      {
       "output_type": "stream",
       "stream": "stdout",
       "text": [
        "\r",
        "[793]Good:http://thredds.cdip.ucsd.edu/thredds/dodsC/cdip/archive/156p1/156p1_d03.nc,1130.909056"
       ]
      },
      {
       "output_type": "stream",
       "stream": "stdout",
       "text": [
        "\r",
        "[794]Good:http://thredds.cdip.ucsd.edu/thredds/dodsC/cdip/archive/156p1/156p1_d04.nc,1078.532228"
       ]
      },
      {
       "output_type": "stream",
       "stream": "stdout",
       "text": [
        "\r",
        "[795]Good:http://thredds.cdip.ucsd.edu/thredds/dodsC/cdip/archive/156p1/156p1_d05.nc,993.014848"
       ]
      },
      {
       "output_type": "stream",
       "stream": "stdout",
       "text": [
        "\r",
        "[796]Good:http://thredds.cdip.ucsd.edu/thredds/dodsC/cdip/archive/156p1/156p1_d06.nc,16.851864"
       ]
      },
      {
       "output_type": "stream",
       "stream": "stdout",
       "text": [
        "\r",
        "[797]Good:http://thredds.cdip.ucsd.edu/thredds/dodsC/cdip/archive/156p1/156p1_d07.nc,674.351712"
       ]
      },
      {
       "output_type": "stream",
       "stream": "stdout",
       "text": [
        "\r",
        "[798]Good:http://thredds.cdip.ucsd.edu/thredds/dodsC/cdip/archive/156p1/156p1_d08.nc,141.323004"
       ]
      },
      {
       "output_type": "stream",
       "stream": "stdout",
       "text": [
        "\r",
        "[799]Good:http://thredds.cdip.ucsd.edu/thredds/dodsC/cdip/archive/156p1/156p1_historic.nc,341.760368"
       ]
      },
      {
       "output_type": "stream",
       "stream": "stdout",
       "text": [
        "\r",
        "[800]Good:http://thredds.cdip.ucsd.edu/thredds/dodsC/cdip/archive/157p1/157p1_d01.nc,1000.134928"
       ]
      },
      {
       "output_type": "stream",
       "stream": "stdout",
       "text": [
        "\r",
        "[801]Good:http://thredds.cdip.ucsd.edu/thredds/dodsC/cdip/archive/157p1/157p1_d02.nc,773.637272"
       ]
      },
      {
       "output_type": "stream",
       "stream": "stdout",
       "text": [
        "\r",
        "[802]Good:http://thredds.cdip.ucsd.edu/thredds/dodsC/cdip/archive/157p1/157p1_d03.nc,658.529312"
       ]
      },
      {
       "output_type": "stream",
       "stream": "stdout",
       "text": [
        "\r",
        "[803]Good:http://thredds.cdip.ucsd.edu/thredds/dodsC/cdip/archive/157p1/157p1_d04.nc,936.130628"
       ]
      },
      {
       "output_type": "stream",
       "stream": "stdout",
       "text": [
        "\r",
        "[804]Good:http://thredds.cdip.ucsd.edu/thredds/dodsC/cdip/archive/157p1/157p1_historic.nc,229.223492"
       ]
      },
      {
       "output_type": "stream",
       "stream": "stdout",
       "text": [
        "\r",
        "[805]Good:http://thredds.cdip.ucsd.edu/thredds/dodsC/cdip/archive/158p1/158p1_d01.nc,314.708528"
       ]
      },
      {
       "output_type": "stream",
       "stream": "stdout",
       "text": [
        "\r",
        "[806]Good:http://thredds.cdip.ucsd.edu/thredds/dodsC/cdip/archive/158p1/158p1_d02.nc,899.662688"
       ]
      },
      {
       "output_type": "stream",
       "stream": "stdout",
       "text": [
        "\r",
        "[807]Good:http://thredds.cdip.ucsd.edu/thredds/dodsC/cdip/archive/158p1/158p1_d03.nc,1172.994648"
       ]
      },
      {
       "output_type": "stream",
       "stream": "stdout",
       "text": [
        "\r",
        "[808]Good:http://thredds.cdip.ucsd.edu/thredds/dodsC/cdip/archive/158p1/158p1_d04.nc,115.662752"
       ]
      },
      {
       "output_type": "stream",
       "stream": "stdout",
       "text": [
        "\r",
        "[809]Good:http://thredds.cdip.ucsd.edu/thredds/dodsC/cdip/archive/158p1/158p1_d05.nc,1089.531488"
       ]
      },
      {
       "output_type": "stream",
       "stream": "stdout",
       "text": [
        "\r",
        "[810]Good:http://thredds.cdip.ucsd.edu/thredds/dodsC/cdip/archive/158p1/158p1_historic.nc,241.376656"
       ]
      },
      {
       "output_type": "stream",
       "stream": "stdout",
       "text": [
        "\r",
        "[811]Good:http://thredds.cdip.ucsd.edu/thredds/dodsC/cdip/archive/160p1/160p1_d01.nc,1140.824468"
       ]
      },
      {
       "output_type": "stream",
       "stream": "stdout",
       "text": [
        "\r",
        "[812]Good:http://thredds.cdip.ucsd.edu/thredds/dodsC/cdip/archive/160p1/160p1_d02.nc,1173.943992"
       ]
      },
      {
       "output_type": "stream",
       "stream": "stdout",
       "text": [
        "\r",
        "[813]Good:http://thredds.cdip.ucsd.edu/thredds/dodsC/cdip/archive/160p1/160p1_d03.nc,1074.57932"
       ]
      },
      {
       "output_type": "stream",
       "stream": "stdout",
       "text": [
        "\r",
        "[814]Good:http://thredds.cdip.ucsd.edu/thredds/dodsC/cdip/archive/160p1/160p1_historic.nc,230.341724"
       ]
      },
      {
       "output_type": "stream",
       "stream": "stdout",
       "text": [
        "\r",
        "[815]Good:http://thredds.cdip.ucsd.edu/thredds/dodsC/cdip/archive/161p1/161p1_d01.nc,882.33716"
       ]
      },
      {
       "output_type": "stream",
       "stream": "stdout",
       "text": [
        "\r",
        "[816]Good:http://thredds.cdip.ucsd.edu/thredds/dodsC/cdip/archive/161p1/161p1_d02.nc,573.077248"
       ]
      },
      {
       "output_type": "stream",
       "stream": "stdout",
       "text": [
        "\r",
        "[817]Good:http://thredds.cdip.ucsd.edu/thredds/dodsC/cdip/archive/161p1/161p1_d03.nc,817.369984"
       ]
      },
      {
       "output_type": "stream",
       "stream": "stdout",
       "text": [
        "\r",
        "[818]Good:http://thredds.cdip.ucsd.edu/thredds/dodsC/cdip/archive/161p1/161p1_historic.nc,154.2559"
       ]
      },
      {
       "output_type": "stream",
       "stream": "stdout",
       "text": [
        "\r",
        "[819]Good:http://thredds.cdip.ucsd.edu/thredds/dodsC/cdip/archive/162p1/162p1_d01.nc,977.66712"
       ]
      },
      {
       "output_type": "stream",
       "stream": "stdout",
       "text": [
        "\r",
        "[820]Good:http://thredds.cdip.ucsd.edu/thredds/dodsC/cdip/archive/162p1/162p1_d02.nc,845.866528"
       ]
      },
      {
       "output_type": "stream",
       "stream": "stdout",
       "text": [
        "\r",
        "[821]Good:http://thredds.cdip.ucsd.edu/thredds/dodsC/cdip/archive/162p1/162p1_d03.nc,708.923656"
       ]
      },
      {
       "output_type": "stream",
       "stream": "stdout",
       "text": [
        "\r",
        "[822]Good:http://thredds.cdip.ucsd.edu/thredds/dodsC/cdip/archive/162p1/162p1_historic.nc,172.307256"
       ]
      },
      {
       "output_type": "stream",
       "stream": "stdout",
       "text": [
        "\r",
        "[823]Good:http://thredds.cdip.ucsd.edu/thredds/dodsC/cdip/archive/163p1/163p1_d01.nc,738.8253"
       ]
      },
      {
       "output_type": "stream",
       "stream": "stdout",
       "text": [
        "\r",
        "[824]Good:http://thredds.cdip.ucsd.edu/thredds/dodsC/cdip/archive/163p1/163p1_d02.nc,216.688776"
       ]
      },
      {
       "output_type": "stream",
       "stream": "stdout",
       "text": [
        "\r",
        "[825]Good:http://thredds.cdip.ucsd.edu/thredds/dodsC/cdip/archive/163p1/163p1_d03.nc,300.705704"
       ]
      },
      {
       "output_type": "stream",
       "stream": "stdout",
       "text": [
        "\r",
        "[826]Good:http://thredds.cdip.ucsd.edu/thredds/dodsC/cdip/archive/163p1/163p1_historic.nc,85.376812"
       ]
      },
      {
       "output_type": "stream",
       "stream": "stdout",
       "text": [
        "\r",
        "[827]Good:http://thredds.cdip.ucsd.edu/thredds/dodsC/cdip/archive/164p1/164p1_d01.nc,395.00724"
       ]
      },
      {
       "output_type": "stream",
       "stream": "stdout",
       "text": [
        "\r",
        "[828]Good:http://thredds.cdip.ucsd.edu/thredds/dodsC/cdip/archive/164p1/164p1_d02.nc,351.495608"
       ]
      },
      {
       "output_type": "stream",
       "stream": "stdout",
       "text": [
        "\r",
        "[829]Good:http://thredds.cdip.ucsd.edu/thredds/dodsC/cdip/archive/164p1/164p1_historic.nc,49.923632"
       ]
      },
      {
       "output_type": "stream",
       "stream": "stdout",
       "text": [
        "\r",
        "[830]Good:http://thredds.cdip.ucsd.edu/thredds/dodsC/cdip/archive/165p1/165p1_d01.nc,926.165208"
       ]
      },
      {
       "output_type": "stream",
       "stream": "stdout",
       "text": [
        "\r",
        "[831]Good:http://thredds.cdip.ucsd.edu/thredds/dodsC/cdip/archive/165p1/165p1_d02.nc,1121.730072"
       ]
      },
      {
       "output_type": "stream",
       "stream": "stdout",
       "text": [
        "\r",
        "[832]Good:http://thredds.cdip.ucsd.edu/thredds/dodsC/cdip/archive/165p1/165p1_d03.nc,99.805356"
       ]
      },
      {
       "output_type": "stream",
       "stream": "stdout",
       "text": [
        "\r",
        "[833]Good:http://thredds.cdip.ucsd.edu/thredds/dodsC/cdip/archive/165p1/165p1_historic.nc,146.11538"
       ]
      },
      {
       "output_type": "stream",
       "stream": "stdout",
       "text": [
        "\r",
        "[834]Good:http://thredds.cdip.ucsd.edu/thredds/dodsC/cdip/archive/166p1/166p1_d01.nc,1572.68836"
       ]
      },
      {
       "output_type": "stream",
       "stream": "stdout",
       "text": [
        "\r",
        "[835]Good:http://thredds.cdip.ucsd.edu/thredds/dodsC/cdip/archive/166p1/166p1_historic.nc,106.963424"
       ]
      },
      {
       "output_type": "stream",
       "stream": "stdout",
       "text": [
        "\r",
        "[836]Good:http://thredds.cdip.ucsd.edu/thredds/dodsC/cdip/archive/167p1/167p1_d01.nc,951.840256"
       ]
      },
      {
       "output_type": "stream",
       "stream": "stdout",
       "text": [
        "\r",
        "[837]Good:http://thredds.cdip.ucsd.edu/thredds/dodsC/cdip/archive/167p1/167p1_d02.nc,1153.952896"
       ]
      },
      {
       "output_type": "stream",
       "stream": "stdout",
       "text": [
        "\r",
        "[838]Good:http://thredds.cdip.ucsd.edu/thredds/dodsC/cdip/archive/167p1/167p1_d03.nc,992.30284"
       ]
      },
      {
       "output_type": "stream",
       "stream": "stdout",
       "text": [
        "\r",
        "[839]Good:http://thredds.cdip.ucsd.edu/thredds/dodsC/cdip/archive/167p1/167p1_historic.nc,203.604332"
       ]
      },
      {
       "output_type": "stream",
       "stream": "stdout",
       "text": [
        "\r",
        "[840]Good:http://thredds.cdip.ucsd.edu/thredds/dodsC/cdip/archive/168p1/168p1_d01.nc,1172.836424"
       ]
      },
      {
       "output_type": "stream",
       "stream": "stdout",
       "text": [
        "\r",
        "[841]Good:http://thredds.cdip.ucsd.edu/thredds/dodsC/cdip/archive/168p1/168p1_d02.nc,218.983024"
       ]
      },
      {
       "output_type": "stream",
       "stream": "stdout",
       "text": [
        "\r",
        "[842]Good:http://thredds.cdip.ucsd.edu/thredds/dodsC/cdip/archive/168p1/168p1_d03.nc,47.94288"
       ]
      },
      {
       "output_type": "stream",
       "stream": "stdout",
       "text": [
        "\r",
        "[843]Good:http://thredds.cdip.ucsd.edu/thredds/dodsC/cdip/archive/168p1/168p1_d04.nc,849.663904"
       ]
      },
      {
       "output_type": "stream",
       "stream": "stdout",
       "text": [
        "\r",
        "[844]Good:http://thredds.cdip.ucsd.edu/thredds/dodsC/cdip/archive/168p1/168p1_d05.nc,629.17876"
       ]
      },
      {
       "output_type": "stream",
       "stream": "stdout",
       "text": [
        "\r",
        "[845]Good:http://thredds.cdip.ucsd.edu/thredds/dodsC/cdip/archive/168p1/168p1_historic.nc,198.432144"
       ]
      },
      {
       "output_type": "stream",
       "stream": "stdout",
       "text": [
        "\r",
        "[846]Good:http://thredds.cdip.ucsd.edu/thredds/dodsC/cdip/archive/169p1/169p1_d01.nc,609.479872"
       ]
      },
      {
       "output_type": "stream",
       "stream": "stdout",
       "text": [
        "\r",
        "[847]Good:http://thredds.cdip.ucsd.edu/thredds/dodsC/cdip/archive/169p1/169p1_historic.nc,41.479216"
       ]
      },
      {
       "output_type": "stream",
       "stream": "stdout",
       "text": [
        "\r",
        "[848]Good:http://thredds.cdip.ucsd.edu/thredds/dodsC/cdip/archive/170p1/170p1_d01.nc,639.302404"
       ]
      },
      {
       "output_type": "stream",
       "stream": "stdout",
       "text": [
        "\r",
        "[849]Good:http://thredds.cdip.ucsd.edu/thredds/dodsC/cdip/archive/170p1/170p1_historic.nc,43.467172"
       ]
      },
      {
       "output_type": "stream",
       "stream": "stdout",
       "text": [
        "\r",
        "[850]Good:http://thredds.cdip.ucsd.edu/thredds/dodsC/cdip/archive/172p1/172p1_d01.nc,531.379456"
       ]
      },
      {
       "output_type": "stream",
       "stream": "stdout",
       "text": [
        "\r",
        "[851]Good:http://thredds.cdip.ucsd.edu/thredds/dodsC/cdip/archive/172p1/172p1_d02.nc,451.632256"
       ]
      },
      {
       "output_type": "stream",
       "stream": "stdout",
       "text": [
        "\r",
        "[852]Good:http://thredds.cdip.ucsd.edu/thredds/dodsC/cdip/archive/172p1/172p1_historic.nc,66.202912"
       ]
      },
      {
       "output_type": "stream",
       "stream": "stdout",
       "text": [
        "\r",
        "[853]Good:http://thredds.cdip.ucsd.edu/thredds/dodsC/cdip/archive/174p1/174p1_d01.nc,799.579148"
       ]
      },
      {
       "output_type": "stream",
       "stream": "stdout",
       "text": [
        "\r",
        "[854]Good:http://thredds.cdip.ucsd.edu/thredds/dodsC/cdip/archive/174p1/174p1_historic.nc,51.074884"
       ]
      },
      {
       "output_type": "stream",
       "stream": "stdout",
       "text": [
        "\r",
        "[855]Good:http://thredds.cdip.ucsd.edu/thredds/dodsC/cdip/archive/175p1/175p1_d01.nc,219.378584"
       ]
      },
      {
       "output_type": "stream",
       "stream": "stdout",
       "text": [
        "\r",
        "[856]Good:http://thredds.cdip.ucsd.edu/thredds/dodsC/cdip/archive/175p1/175p1_d02.nc,75.63208"
       ]
      },
      {
       "output_type": "stream",
       "stream": "stdout",
       "text": [
        "\r",
        "[857]Good:http://thredds.cdip.ucsd.edu/thredds/dodsC/cdip/archive/175p1/175p1_d03.nc,156.959216"
       ]
      },
      {
       "output_type": "stream",
       "stream": "stdout",
       "text": [
        "\r",
        "[858]Good:http://thredds.cdip.ucsd.edu/thredds/dodsC/cdip/archive/175p1/175p1_d04.nc,184.964864"
       ]
      },
      {
       "output_type": "stream",
       "stream": "stdout",
       "text": [
        "\r",
        "[859]Good:http://thredds.cdip.ucsd.edu/thredds/dodsC/cdip/archive/175p1/175p1_historic.nc,43.299136"
       ]
      },
      {
       "output_type": "stream",
       "stream": "stdout",
       "text": [
        "\r",
        "[860]Good:http://thredds.cdip.ucsd.edu/thredds/dodsC/cdip/archive/176p1/176p1_d01.nc,238.99836"
       ]
      },
      {
       "output_type": "stream",
       "stream": "stdout",
       "text": [
        "\r",
        "[861]Good:http://thredds.cdip.ucsd.edu/thredds/dodsC/cdip/archive/176p1/176p1_d02.nc,449.515408"
       ]
      },
      {
       "output_type": "stream",
       "stream": "stdout",
       "text": [
        "\r",
        "[862]Good:http://thredds.cdip.ucsd.edu/thredds/dodsC/cdip/archive/176p1/176p1_historic.nc,46.834744"
       ]
      },
      {
       "output_type": "stream",
       "stream": "stdout",
       "text": [
        "\r",
        "[863]Good:http://thredds.cdip.ucsd.edu/thredds/dodsC/cdip/archive/179p1/179p1_d01.nc,950.689928"
       ]
      },
      {
       "output_type": "stream",
       "stream": "stdout",
       "text": [
        "\r",
        "[864]Good:http://thredds.cdip.ucsd.edu/thredds/dodsC/cdip/archive/179p1/179p1_d02.nc,224.283528"
       ]
      },
      {
       "output_type": "stream",
       "stream": "stdout",
       "text": [
        "\r",
        "[865]Good:http://thredds.cdip.ucsd.edu/thredds/dodsC/cdip/archive/179p1/179p1_d03.nc,531.07988"
       ]
      },
      {
       "output_type": "stream",
       "stream": "stdout",
       "text": [
        "\r",
        "[866]Good:http://thredds.cdip.ucsd.edu/thredds/dodsC/cdip/archive/179p1/179p1_d04.nc,486.302488"
       ]
      },
      {
       "output_type": "stream",
       "stream": "stdout",
       "text": [
        "\r",
        "[867]Good:http://thredds.cdip.ucsd.edu/thredds/dodsC/cdip/archive/179p1/179p1_historic.nc,149.19808"
       ]
      },
      {
       "output_type": "stream",
       "stream": "stdout",
       "text": [
        "\r",
        "[868]Good:http://thredds.cdip.ucsd.edu/thredds/dodsC/cdip/archive/180p1/180p1_d01.nc,1102.901416"
       ]
      },
      {
       "output_type": "stream",
       "stream": "stdout",
       "text": [
        "\r",
        "[869]Good:http://thredds.cdip.ucsd.edu/thredds/dodsC/cdip/archive/180p1/180p1_d02.nc,124.444184"
       ]
      },
      {
       "output_type": "stream",
       "stream": "stdout",
       "text": [
        "\r",
        "[870]Good:http://thredds.cdip.ucsd.edu/thredds/dodsC/cdip/archive/180p1/180p1_historic.nc,83.520296"
       ]
      },
      {
       "output_type": "stream",
       "stream": "stdout",
       "text": [
        "\r",
        "[871]Good:http://thredds.cdip.ucsd.edu/thredds/dodsC/cdip/archive/181p1/181p1_d01.nc,837.005984"
       ]
      },
      {
       "output_type": "stream",
       "stream": "stdout",
       "text": [
        "\r",
        "[872]Good:http://thredds.cdip.ucsd.edu/thredds/dodsC/cdip/archive/181p1/181p1_d02.nc,385.830248"
       ]
      },
      {
       "output_type": "stream",
       "stream": "stdout",
       "text": [
        "\r",
        "[873]Good:http://thredds.cdip.ucsd.edu/thredds/dodsC/cdip/archive/181p1/181p1_d03.nc,169.3798"
       ]
      },
      {
       "output_type": "stream",
       "stream": "stdout",
       "text": [
        "\r",
        "[874]Good:http://thredds.cdip.ucsd.edu/thredds/dodsC/cdip/archive/181p1/181p1_d04.nc,425.623584"
       ]
      },
      {
       "output_type": "stream",
       "stream": "stdout",
       "text": [
        "\r",
        "[875]Good:http://thredds.cdip.ucsd.edu/thredds/dodsC/cdip/archive/181p1/181p1_d05.nc,13.1336"
       ]
      },
      {
       "output_type": "stream",
       "stream": "stdout",
       "text": [
        "\r",
        "[876]Good:http://thredds.cdip.ucsd.edu/thredds/dodsC/cdip/archive/181p1/181p1_historic.nc,119.859152"
       ]
      },
      {
       "output_type": "stream",
       "stream": "stdout",
       "text": [
        "\r",
        "[877]Good:http://thredds.cdip.ucsd.edu/thredds/dodsC/cdip/archive/182p1/182p1_d01.nc,909.6308"
       ]
      },
      {
       "output_type": "stream",
       "stream": "stdout",
       "text": [
        "\r",
        "[878]Good:http://thredds.cdip.ucsd.edu/thredds/dodsC/cdip/archive/182p1/182p1_historic.nc,61.901912"
       ]
      },
      {
       "output_type": "stream",
       "stream": "stdout",
       "text": [
        "\r",
        "[879]Good:http://thredds.cdip.ucsd.edu/thredds/dodsC/cdip/archive/184p1/184p1_d01.nc,121.9126"
       ]
      },
      {
       "output_type": "stream",
       "stream": "stdout",
       "text": [
        "\r",
        "[880]Good:http://thredds.cdip.ucsd.edu/thredds/dodsC/cdip/archive/184p1/184p1_historic.nc,8.297768"
       ]
      },
      {
       "output_type": "stream",
       "stream": "stdout",
       "text": [
        "\r",
        "[881]Good:http://thredds.cdip.ucsd.edu/thredds/dodsC/cdip/archive/185p1/185p1_d01.nc,761.216688"
       ]
      },
      {
       "output_type": "stream",
       "stream": "stdout",
       "text": [
        "\r",
        "[882]Good:http://thredds.cdip.ucsd.edu/thredds/dodsC/cdip/archive/185p1/185p1_d02.nc,715.569064"
       ]
      },
      {
       "output_type": "stream",
       "stream": "stdout",
       "text": [
        "\r",
        "[883]Good:http://thredds.cdip.ucsd.edu/thredds/dodsC/cdip/archive/185p1/185p1_d03.nc,180.481192"
       ]
      },
      {
       "output_type": "stream",
       "stream": "stdout",
       "text": [
        "\r",
        "[884]Good:http://thredds.cdip.ucsd.edu/thredds/dodsC/cdip/archive/185p1/185p1_historic.nc,112.028432"
       ]
      },
      {
       "output_type": "stream",
       "stream": "stdout",
       "text": [
        "\r",
        "[885]Good:http://thredds.cdip.ucsd.edu/thredds/dodsC/cdip/archive/186p1/186p1_d01.nc,15.269624"
       ]
      },
      {
       "output_type": "stream",
       "stream": "stdout",
       "text": [
        "\r",
        "[886]Good:http://thredds.cdip.ucsd.edu/thredds/dodsC/cdip/archive/186p1/186p1_d02.nc,980.586188"
       ]
      },
      {
       "output_type": "stream",
       "stream": "stdout",
       "text": [
        "\r",
        "[887]Good:http://thredds.cdip.ucsd.edu/thredds/dodsC/cdip/archive/186p1/186p1_historic.nc,60.826796"
       ]
      },
      {
       "output_type": "stream",
       "stream": "stdout",
       "text": [
        "\r",
        "[888]Good:http://thredds.cdip.ucsd.edu/thredds/dodsC/cdip/archive/187p1/187p1_d01.nc,825.534744"
       ]
      },
      {
       "output_type": "stream",
       "stream": "stdout",
       "text": [
        "\r",
        "[889]Good:http://thredds.cdip.ucsd.edu/thredds/dodsC/cdip/archive/187p1/187p1_d02.nc,655.127496"
       ]
      },
      {
       "output_type": "stream",
       "stream": "stdout",
       "text": [
        "\r",
        "[890]Good:http://thredds.cdip.ucsd.edu/thredds/dodsC/cdip/archive/187p1/187p1_historic.nc,100.762776"
       ]
      },
      {
       "output_type": "stream",
       "stream": "stdout",
       "text": [
        "\r",
        "[891]Good:http://thredds.cdip.ucsd.edu/thredds/dodsC/cdip/archive/188p1/188p1_d01.nc,966.116768"
       ]
      },
      {
       "output_type": "stream",
       "stream": "stdout",
       "text": [
        "\r",
        "[892]Good:http://thredds.cdip.ucsd.edu/thredds/dodsC/cdip/archive/188p1/188p1_d02.nc,630.929828"
       ]
      },
      {
       "output_type": "stream",
       "stream": "stdout",
       "text": [
        "\r",
        "[893]Good:http://thredds.cdip.ucsd.edu/thredds/dodsC/cdip/archive/188p1/188p1_historic.nc,108.324932"
       ]
      },
      {
       "output_type": "stream",
       "stream": "stdout",
       "text": [
        "\r",
        "[894]Good:http://thredds.cdip.ucsd.edu/thredds/dodsC/cdip/archive/190p1/190p1_d01.nc,1071.174812"
       ]
      },
      {
       "output_type": "stream",
       "stream": "stdout",
       "text": [
        "\r",
        "[895]Good:http://thredds.cdip.ucsd.edu/thredds/dodsC/cdip/archive/190p1/190p1_d02.nc,235.809652"
       ]
      },
      {
       "output_type": "stream",
       "stream": "stdout",
       "text": [
        "\r",
        "[896]Good:http://thredds.cdip.ucsd.edu/thredds/dodsC/cdip/archive/190p1/190p1_historic.nc,88.829456"
       ]
      },
      {
       "output_type": "stream",
       "stream": "stdout",
       "text": [
        "\r",
        "[897]Good:http://thredds.cdip.ucsd.edu/thredds/dodsC/cdip/archive/191p1/191p1_d01.nc,185.914208"
       ]
      },
      {
       "output_type": "stream",
       "stream": "stdout",
       "text": [
        "\r",
        "[898]Good:http://thredds.cdip.ucsd.edu/thredds/dodsC/cdip/archive/191p1/191p1_d02.nc,26.34264"
       ]
      },
      {
       "output_type": "stream",
       "stream": "stdout",
       "text": [
        "\r",
        "[899]Good:http://thredds.cdip.ucsd.edu/thredds/dodsC/cdip/archive/191p1/191p1_d03.nc,869.631232"
       ]
      },
      {
       "output_type": "stream",
       "stream": "stdout",
       "text": [
        "\r",
        "[900]Good:http://thredds.cdip.ucsd.edu/thredds/dodsC/cdip/archive/191p1/191p1_d04.nc,910.184584"
       ]
      },
      {
       "output_type": "stream",
       "stream": "stdout",
       "text": [
        "\r",
        "[901]Good:http://thredds.cdip.ucsd.edu/thredds/dodsC/cdip/archive/191p1/191p1_d05.nc,18.592328"
       ]
      },
      {
       "output_type": "stream",
       "stream": "stdout",
       "text": [
        "\r",
        "[902]Good:http://thredds.cdip.ucsd.edu/thredds/dodsC/cdip/archive/191p1/191p1_d06.nc,275.073432"
       ]
      },
      {
       "output_type": "stream",
       "stream": "stdout",
       "text": [
        "\r",
        "[903]Good:http://thredds.cdip.ucsd.edu/thredds/dodsC/cdip/archive/191p1/191p1_d07.nc,63.607056"
       ]
      },
      {
       "output_type": "stream",
       "stream": "stdout",
       "text": [
        "\r",
        "[904]Good:http://thredds.cdip.ucsd.edu/thredds/dodsC/cdip/archive/191p1/191p1_d08.nc,561.409024"
       ]
      },
      {
       "output_type": "stream",
       "stream": "stdout",
       "text": [
        "\r",
        "[905]Good:http://thredds.cdip.ucsd.edu/thredds/dodsC/cdip/archive/191p1/191p1_d09.nc,484.4038"
       ]
      },
      {
       "output_type": "stream",
       "stream": "stdout",
       "text": [
        "\r",
        "[906]Good:http://thredds.cdip.ucsd.edu/thredds/dodsC/cdip/archive/191p1/191p1_d10.nc,43.117048"
       ]
      },
      {
       "output_type": "stream",
       "stream": "stdout",
       "text": [
        "\r",
        "[907]Good:http://thredds.cdip.ucsd.edu/thredds/dodsC/cdip/archive/191p1/191p1_d11.nc,507.107296"
       ]
      },
      {
       "output_type": "stream",
       "stream": "stdout",
       "text": [
        "\r",
        "[908]Good:http://thredds.cdip.ucsd.edu/thredds/dodsC/cdip/archive/191p1/191p1_d12.nc,747.134752"
       ]
      },
      {
       "output_type": "stream",
       "stream": "stdout",
       "text": [
        "\r",
        "[909]Good:http://thredds.cdip.ucsd.edu/thredds/dodsC/cdip/archive/191p1/191p1_historic.nc,314.071784"
       ]
      },
      {
       "output_type": "stream",
       "stream": "stdout",
       "text": [
        "\r",
        "[910]Good:http://thredds.cdip.ucsd.edu/thredds/dodsC/cdip/archive/192p1/192p1_d01.nc,757.656648"
       ]
      },
      {
       "output_type": "stream",
       "stream": "stdout",
       "text": [
        "\r",
        "[911]Good:http://thredds.cdip.ucsd.edu/thredds/dodsC/cdip/archive/192p1/192p1_historic.nc,51.559848"
       ]
      },
      {
       "output_type": "stream",
       "stream": "stdout",
       "text": [
        "\r",
        "[912]Good:http://thredds.cdip.ucsd.edu/thredds/dodsC/cdip/archive/195p1/195p1_d01.nc,690.807008"
       ]
      },
      {
       "output_type": "stream",
       "stream": "stdout",
       "text": [
        "\r",
        "[913]Good:http://thredds.cdip.ucsd.edu/thredds/dodsC/cdip/archive/195p1/195p1_historic.nc,47.013512"
       ]
      },
      {
       "output_type": "stream",
       "stream": "stdout",
       "text": [
        "\r",
        "[914]Good:http://thredds.cdip.ucsd.edu/thredds/dodsC/cdip/archive/196p1/196p1_d01.nc,907.573888"
       ]
      },
      {
       "output_type": "stream",
       "stream": "stdout",
       "text": [
        "\r",
        "[915]Good:http://thredds.cdip.ucsd.edu/thredds/dodsC/cdip/archive/196p1/196p1_historic.nc,61.765504"
       ]
      },
      {
       "output_type": "stream",
       "stream": "stdout",
       "text": [
        "\r",
        "[916]Good:http://thredds.cdip.ucsd.edu/thredds/dodsC/cdip/archive/197p1/197p1_d01.nc,851.008808"
       ]
      },
      {
       "output_type": "stream",
       "stream": "stdout",
       "text": [
        "\r",
        "[917]Good:http://thredds.cdip.ucsd.edu/thredds/dodsC/cdip/archive/197p1/197p1_d02.nc,590.4508"
       ]
      },
      {
       "output_type": "stream",
       "stream": "stdout",
       "text": [
        "\r",
        "[918]Good:http://thredds.cdip.ucsd.edu/thredds/dodsC/cdip/archive/197p1/197p1_historic.nc,97.614232"
       ]
      },
      {
       "output_type": "stream",
       "stream": "stdout",
       "text": [
        "\r",
        "[919]Good:http://thredds.cdip.ucsd.edu/thredds/dodsC/cdip/archive/198p1/198p1_d01.nc,981.306272"
       ]
      },
      {
       "output_type": "stream",
       "stream": "stdout",
       "text": [
        "\r",
        "[920]Good:http://thredds.cdip.ucsd.edu/thredds/dodsC/cdip/archive/198p1/198p1_d02.nc,316.892404"
       ]
      },
      {
       "output_type": "stream",
       "stream": "stdout",
       "text": [
        "\r",
        "[921]Good:http://thredds.cdip.ucsd.edu/thredds/dodsC/cdip/archive/198p1/198p1_historic.nc,88.247436"
       ]
      },
      {
       "output_type": "stream",
       "stream": "stdout",
       "text": [
        "\r",
        "[922]Good:http://thredds.cdip.ucsd.edu/thredds/dodsC/cdip/archive/200p1/200p1_d01.nc,838.588224"
       ]
      },
      {
       "output_type": "stream",
       "stream": "stdout",
       "text": [
        "\r",
        "[923]Good:http://thredds.cdip.ucsd.edu/thredds/dodsC/cdip/archive/200p1/200p1_historic.nc,57.0714"
       ]
      },
      {
       "output_type": "stream",
       "stream": "stdout",
       "text": [
        "\r",
        "[924]Good:http://thredds.cdip.ucsd.edu/thredds/dodsC/cdip/archive/201p1/201p1_d01.nc,196.594328"
       ]
      },
      {
       "output_type": "stream",
       "stream": "stdout",
       "text": [
        "\r",
        "[925]Good:http://thredds.cdip.ucsd.edu/thredds/dodsC/cdip/archive/201p1/201p1_historic.nc,13.378488"
       ]
      },
      {
       "output_type": "stream",
       "stream": "stdout",
       "text": [
        "\r",
        "[926]Good:http://thredds.cdip.ucsd.edu/thredds/dodsC/cdip/archive/203p1/203p1_d01.nc,702.673808"
       ]
      },
      {
       "output_type": "stream",
       "stream": "stdout",
       "text": [
        "\r",
        "[927]Good:http://thredds.cdip.ucsd.edu/thredds/dodsC/cdip/archive/203p1/203p1_historic.nc,47.817512"
       ]
      },
      {
       "output_type": "stream",
       "stream": "stdout",
       "text": [
        "\r",
        "[928]Good:http://thredds.cdip.ucsd.edu/thredds/dodsC/cdip/archive/204p1/204p1_d01.nc,256.68176"
       ]
      },
      {
       "output_type": "stream",
       "stream": "stdout",
       "text": [
        "\r",
        "[929]Good:http://thredds.cdip.ucsd.edu/thredds/dodsC/cdip/archive/204p1/204p1_historic.nc,17.283376"
       ]
      },
      {
       "output_type": "stream",
       "stream": "stdout",
       "text": [
        "\r",
        "[930]Good:http://thredds.cdip.ucsd.edu/thredds/dodsC/cdip/archive/205p1/205p1_d01.nc,50.85118"
       ]
      },
      {
       "output_type": "stream",
       "stream": "stdout",
       "text": [
        "\r",
        "[931]Good:http://thredds.cdip.ucsd.edu/thredds/dodsC/cdip/archive/205p1/205p1_d02.nc,145.92496"
       ]
      },
      {
       "output_type": "stream",
       "stream": "stdout",
       "text": [
        "\r",
        "[932]Good:http://thredds.cdip.ucsd.edu/thredds/dodsC/cdip/archive/205p1/205p1_historic.nc,13.339604"
       ]
      },
      {
       "output_type": "stream",
       "stream": "stdout",
       "text": [
        "\r",
        "[933]Good:http://thredds.cdip.ucsd.edu/thredds/dodsC/cdip/archive/207p1/207p1_d01.nc,304.028408"
       ]
      },
      {
       "output_type": "stream",
       "stream": "stdout",
       "text": [
        "\r",
        "[934]Good:http://thredds.cdip.ucsd.edu/thredds/dodsC/cdip/archive/207p1/207p1_historic.nc,20.688064"
       ]
      },
      {
       "output_type": "stream",
       "stream": "stdout",
       "text": [
        "\r",
        "[935]Good:http://thredds.cdip.ucsd.edu/thredds/dodsC/cdip/archive/430p1/430p1_d01.nc,157.951028"
       ]
      },
      {
       "output_type": "stream",
       "stream": "stdout",
       "text": [
        "\r",
        "[936]Good:http://thredds.cdip.ucsd.edu/thredds/dodsC/cdip/archive/430p1/430p1_d02.nc,319.92992"
       ]
      },
      {
       "output_type": "stream",
       "stream": "stdout",
       "text": [
        "\r",
        "[937]Good:http://thredds.cdip.ucsd.edu/thredds/dodsC/cdip/archive/430p1/430p1_d03.nc,768.33512"
       ]
      },
      {
       "output_type": "stream",
       "stream": "stdout",
       "text": [
        "\r",
        "[938]Good:http://thredds.cdip.ucsd.edu/thredds/dodsC/cdip/archive/430p1/430p1_d04.nc,1244.432784"
       ]
      },
      {
       "output_type": "stream",
       "stream": "stdout",
       "text": [
        "\r",
        "[939]Good:http://thredds.cdip.ucsd.edu/thredds/dodsC/cdip/archive/430p1/430p1_d05.nc,21.257908"
       ]
      },
      {
       "output_type": "stream",
       "stream": "stdout",
       "text": [
        "\r",
        "[940]Good:http://thredds.cdip.ucsd.edu/thredds/dodsC/cdip/archive/430p1/430p1_d06.nc,102.846608"
       ]
      },
      {
       "output_type": "stream",
       "stream": "stdout",
       "text": [
        "\r",
        "[941]Good:http://thredds.cdip.ucsd.edu/thredds/dodsC/cdip/archive/430p1/430p1_d07.nc,970.562588"
       ]
      },
      {
       "output_type": "stream",
       "stream": "stdout",
       "text": [
        "\r",
        "[942]Good:http://thredds.cdip.ucsd.edu/thredds/dodsC/cdip/archive/430p1/430p1_historic.nc,243.629548"
       ]
      },
      {
       "output_type": "stream",
       "stream": "stdout",
       "text": [
        "\r",
        "[943]Good:http://thredds.cdip.ucsd.edu/thredds/dodsC/cdip/archive/431p1/431p1_d01.nc,51.022864"
       ]
      },
      {
       "output_type": "stream",
       "stream": "stdout",
       "text": [
        "\r",
        "[944]Good:http://thredds.cdip.ucsd.edu/thredds/dodsC/cdip/archive/431p1/431p1_d02.nc,777.76126"
       ]
      },
      {
       "output_type": "stream",
       "stream": "stdout",
       "text": [
        "\r",
        "[945]Good:http://thredds.cdip.ucsd.edu/thredds/dodsC/cdip/archive/431p1/431p1_d03.nc,686.93052"
       ]
      },
      {
       "output_type": "stream",
       "stream": "stdout",
       "text": [
        "\r",
        "[946]Good:http://thredds.cdip.ucsd.edu/thredds/dodsC/cdip/archive/431p1/431p1_historic.nc,103.010236"
       ]
      },
      {
       "output_type": "stream",
       "stream": "stdout",
       "text": [
        "\r",
        "[947]Good:http://thredds.cdip.ucsd.edu/thredds/dodsC/cdip/archive/432p1/432p1_d01.nc,545.952936"
       ]
      },
      {
       "output_type": "stream",
       "stream": "stdout",
       "text": [
        "\r",
        "[948]Good:http://thredds.cdip.ucsd.edu/thredds/dodsC/cdip/archive/432p1/432p1_historic.nc,37.150784"
       ]
      },
      {
       "output_type": "stream",
       "stream": "stdout",
       "text": [
        "\r",
        "[949]Fail:http://thredds.axiomalaska.com/thredds/dodsC/CA_DAS.nc,-1"
       ]
      },
      {
       "output_type": "stream",
       "stream": "stdout",
       "text": [
        "\r",
        "[950]Fail:http://thredds.axiomalaska.com/thredds/dodsC/CA_FCST.nc,-1"
       ]
      },
      {
       "output_type": "stream",
       "stream": "stdout",
       "text": [
        "\r",
        "[951]Fail:http://thredds.axiomalaska.com/thredds/dodsC/COAMPS_4KM_2M_AIR_TEMP.nc,-1"
       ]
      },
      {
       "output_type": "stream",
       "stream": "stdout",
       "text": [
        "\r",
        "[952]Fail:http://thredds.axiomalaska.com/thredds/dodsC/COAMPS_4KM_10M_WIND.nc,-1"
       ]
      },
      {
       "output_type": "stream",
       "stream": "stdout",
       "text": [
        "\r",
        "[953]Fail:http://thredds.axiomalaska.com/thredds/dodsC/COAMPS_4KM_CLD_BASE.nc,-1"
       ]
      },
      {
       "output_type": "stream",
       "stream": "stdout",
       "text": [
        "\r",
        "[954]Fail:http://thredds.axiomalaska.com/thredds/dodsC/COAMPS_4KM_GRND_SEA_TEMP.nc,-1"
       ]
      },
      {
       "output_type": "stream",
       "stream": "stdout",
       "text": [
        "\r",
        "[955]Fail:http://thredds.axiomalaska.com/thredds/dodsC/COAMPS_4KM_IR_FLUX.nc,-1"
       ]
      },
      {
       "output_type": "stream",
       "stream": "stdout",
       "text": [
        "\r",
        "[956]Fail:http://thredds.axiomalaska.com/thredds/dodsC/COAMPS_4KM_PRES_MSL.nc,-1"
       ]
      },
      {
       "output_type": "stream",
       "stream": "stdout",
       "text": [
        "\r",
        "[957]Fail:http://thredds.axiomalaska.com/thredds/dodsC/COAMPS_4KM_RLTV_HUM.nc,-1"
       ]
      },
      {
       "output_type": "stream",
       "stream": "stdout",
       "text": [
        "\r",
        "[958]Fail:http://thredds.axiomalaska.com/thredds/dodsC/COAMPS_4KM_SOL_RAD.nc,-1"
       ]
      },
      {
       "output_type": "stream",
       "stream": "stdout",
       "text": [
        "\r",
        "[959]Fail:http://thredds.axiomalaska.com/thredds/dodsC/COAMPS_4KM_TTL_PRCP.nc,-1"
       ]
      },
      {
       "output_type": "stream",
       "stream": "stdout",
       "text": [
        "\r",
        "[960]Fail:http://thredds.axiomalaska.com/thredds/dodsC/COAMPS_4KM_VISIB.nc,-1"
       ]
      },
      {
       "output_type": "stream",
       "stream": "stdout",
       "text": [
        "\r",
        "[961]Fail:http://thredds.axiomalaska.com/thredds/dodsC/COAMPS_MBAY_3KM_AIR_TEMP.nc,-1"
       ]
      },
      {
       "output_type": "stream",
       "stream": "stdout",
       "text": [
        "\r",
        "[962]Fail:http://thredds.axiomalaska.com/thredds/dodsC/COAMPS_MBAY_3KM_GRND_SEA_TEMP.nc,-1"
       ]
      },
      {
       "output_type": "stream",
       "stream": "stdout",
       "text": [
        "\r",
        "[963]Fail:http://thredds.axiomalaska.com/thredds/dodsC/COAMPS_MBAY_3KM_WIND_10M.nc,-1"
       ]
      },
      {
       "output_type": "stream",
       "stream": "stdout",
       "text": [
        "\r",
        "[964]Good:http://thredds.axiomalaska.com/thredds/dodsC/COAMPS_MONTHLY_WINDS.nc,8.702608"
       ]
      },
      {
       "output_type": "stream",
       "stream": "stdout",
       "text": [
        "\r",
        "[965]Good:http://thredds.axiomalaska.com/thredds/dodsC/CORDC_MONTHLY.nc,8.249192"
       ]
      },
      {
       "output_type": "stream",
       "stream": "stdout",
       "text": [
        "\r",
        "[966]Fail:http://thredds.axiomalaska.com/thredds/dodsC/G1_SST_US_WEST_COAST.nc,-1"
       ]
      },
      {
       "output_type": "stream",
       "stream": "stdout",
       "text": [
        "\r",
        "[967]Fail:http://thredds.axiomalaska.com/thredds/dodsC/MB_FCST.nc,-1"
       ]
      },
      {
       "output_type": "stream",
       "stream": "stdout",
       "text": [
        "\r",
        "[968]Fail:http://thredds.axiomalaska.com/thredds/dodsC/NCOM_SOCAL.nc,-1"
       ]
      },
      {
       "output_type": "stream",
       "stream": "stdout",
       "text": [
        "\r",
        "[969]Good:http://www.cencoos.org/thredds/dodsC/NWS_Data/Angle_islang_2010.nc,0.003404"
       ]
      },
      {
       "output_type": "stream",
       "stream": "stdout",
       "text": [
        "\r",
        "[970]Good:http://www.cencoos.org/thredds/dodsC/NWS_Data/OS_angel_island_2010_R_WIND.nc,0.003404"
       ]
      },
      {
       "output_type": "stream",
       "stream": "stdout",
       "text": [
        "\r",
        "[971]Good:http://www.cencoos.org/thredds/dodsC/NWS_Data/OS_angel_island_2011_R_WIND.nc,0.139916"
       ]
      },
      {
       "output_type": "stream",
       "stream": "stdout",
       "text": [
        "\r",
        "[972]Good:http://www.cencoos.org/thredds/dodsC/NWS_Data/OS_angel_island_2012_R_WIND.nc,0.140412"
       ]
      },
      {
       "output_type": "stream",
       "stream": "stdout",
       "text": [
        "\r",
        "[973]Good:http://www.cencoos.org/thredds/dodsC/NWS_Data/OS_angel_island_2013_R_WIND.nc,0.14014"
       ]
      },
      {
       "output_type": "stream",
       "stream": "stdout",
       "text": [
        "\r",
        "[974]Good:http://www.cencoos.org/thredds/dodsC/NWS_Data/OS_angel_island_2014_R_WIND.nc,0.129084"
       ]
      },
      {
       "output_type": "stream",
       "stream": "stdout",
       "text": [
        "\r",
        "[975]Good:http://www.cencoos.org/thredds/dodsC/NWS_Data/OS_farallon_2010_R_WIND.nc,0.003404"
       ]
      },
      {
       "output_type": "stream",
       "stream": "stdout",
       "text": [
        "\r",
        "[976]Good:http://www.cencoos.org/thredds/dodsC/NWS_Data/OS_farallon_2011_R_WIND.nc,0.139916"
       ]
      },
      {
       "output_type": "stream",
       "stream": "stdout",
       "text": [
        "\r",
        "[977]Good:http://www.cencoos.org/thredds/dodsC/NWS_Data/OS_farallon_2012_R_WIND.nc,0.140412"
       ]
      },
      {
       "output_type": "stream",
       "stream": "stdout",
       "text": [
        "\r",
        "[978]Good:http://www.cencoos.org/thredds/dodsC/NWS_Data/OS_farallon_2013_R_WIND.nc,0.14014"
       ]
      },
      {
       "output_type": "stream",
       "stream": "stdout",
       "text": [
        "\r",
        "[979]Good:http://www.cencoos.org/thredds/dodsC/NWS_Data/OS_farallon_2014_R_WIND.nc,0.129084"
       ]
      },
      {
       "output_type": "stream",
       "stream": "stdout",
       "text": [
        "\r",
        "[980]Good:http://www.cencoos.org/thredds/dodsC/NWS_Data/OS_golden_gate_2010_R_WIND.nc,0.003404"
       ]
      },
      {
       "output_type": "stream",
       "stream": "stdout",
       "text": [
        "\r",
        "[981]Good:http://www.cencoos.org/thredds/dodsC/NWS_Data/OS_golden_gate_2011_R_WIND.nc,0.139916"
       ]
      },
      {
       "output_type": "stream",
       "stream": "stdout",
       "text": [
        "\r",
        "[982]Good:http://www.cencoos.org/thredds/dodsC/NWS_Data/OS_golden_gate_2012_R_WIND.nc,0.140412"
       ]
      },
      {
       "output_type": "stream",
       "stream": "stdout",
       "text": [
        "\r",
        "[983]Good:http://www.cencoos.org/thredds/dodsC/NWS_Data/OS_golden_gate_2013_R_WIND.nc,0.14014"
       ]
      },
      {
       "output_type": "stream",
       "stream": "stdout",
       "text": [
        "\r",
        "[984]Good:http://www.cencoos.org/thredds/dodsC/NWS_Data/OS_golden_gate_2014_R_WIND.nc,0.129084"
       ]
      },
      {
       "output_type": "stream",
       "stream": "stdout",
       "text": [
        "\r",
        "[985]Good:http://www.cencoos.org/thredds/dodsC/NWS_Data/OS_pigeon_point_2010_R_WIND.nc,0.003404"
       ]
      },
      {
       "output_type": "stream",
       "stream": "stdout",
       "text": [
        "\r",
        "[986]Good:http://www.cencoos.org/thredds/dodsC/NWS_Data/OS_pigeon_point_2011_R_WIND.nc,0.139916"
       ]
      },
      {
       "output_type": "stream",
       "stream": "stdout",
       "text": [
        "\r",
        "[987]Good:http://www.cencoos.org/thredds/dodsC/NWS_Data/OS_pigeon_point_2012_R_WIND.nc,0.140412"
       ]
      },
      {
       "output_type": "stream",
       "stream": "stdout",
       "text": [
        "\r",
        "[988]Good:http://www.cencoos.org/thredds/dodsC/NWS_Data/OS_pigeon_point_2013_R_WIND.nc,0.14014"
       ]
      },
      {
       "output_type": "stream",
       "stream": "stdout",
       "text": [
        "\r",
        "[989]Good:http://www.cencoos.org/thredds/dodsC/NWS_Data/OS_pigeon_point_2014_R_WIND.nc,0.129084"
       ]
      },
      {
       "output_type": "stream",
       "stream": "stdout",
       "text": [
        "\r",
        "[990]Good:http://www.cencoos.org/thredds/dodsC/NWS_Data/OS_point_reyes_2010_R_WIND.nc,0.003404"
       ]
      },
      {
       "output_type": "stream",
       "stream": "stdout",
       "text": [
        "\r",
        "[991]Good:http://www.cencoos.org/thredds/dodsC/NWS_Data/OS_point_reyes_2011_R_WIND.nc,0.139916"
       ]
      },
      {
       "output_type": "stream",
       "stream": "stdout",
       "text": [
        "\r",
        "[992]Good:http://www.cencoos.org/thredds/dodsC/NWS_Data/OS_point_reyes_2012_R_WIND.nc,0.140412"
       ]
      },
      {
       "output_type": "stream",
       "stream": "stdout",
       "text": [
        "\r",
        "[993]Good:http://www.cencoos.org/thredds/dodsC/NWS_Data/OS_point_reyes_2013_R_WIND.nc,0.14014"
       ]
      },
      {
       "output_type": "stream",
       "stream": "stdout",
       "text": [
        "\r",
        "[994]Good:http://www.cencoos.org/thredds/dodsC/NWS_Data/OS_point_reyes_2014_R_WIND.nc,0.129084"
       ]
      },
      {
       "output_type": "stream",
       "stream": "stdout",
       "text": [
        "\r",
        "[995]Good:http://www.cencoos.org/thredds/dodsC/NWS_Data/junk.nc,0.0"
       ]
      },
      {
       "output_type": "stream",
       "stream": "stdout",
       "text": [
        "\r",
        "[996]Good:http://oceanmodeling.pmc.ucsc.edu:8080/thredds/dodsC/ccsnrt/fmrc/CCSNRT_Aggregation_best.ncd,132019.006512"
       ]
      },
      {
       "output_type": "stream",
       "stream": "stdout",
       "text": [
        "\r",
        "[997]Good:http://www.cencoos.org/thredds/dodsC/gliders/Line66/OS_Glider_20070419_TS.nc,2.887308"
       ]
      },
      {
       "output_type": "stream",
       "stream": "stdout",
       "text": [
        "\r",
        "[998]Good:http://www.cencoos.org/thredds/dodsC/gliders/Line66/OS_Glider_20071016_TS.nc,4.23108"
       ]
      },
      {
       "output_type": "stream",
       "stream": "stdout",
       "text": [
        "\r",
        "[999]Good:http://www.cencoos.org/thredds/dodsC/gliders/Line66/OS_Glider_20080401_TS.nc,4.089604"
       ]
      },
      {
       "output_type": "stream",
       "stream": "stdout",
       "text": [
        "\r",
        "[1000]Good:http://www.cencoos.org/thredds/dodsC/gliders/Line66/OS_Glider_20080715_TS.nc,5.029968"
       ]
      },
      {
       "output_type": "stream",
       "stream": "stdout",
       "text": [
        "\r",
        "[1001]Good:http://www.cencoos.org/thredds/dodsC/gliders/Line66/OS_Glider_20081120_TS.nc,3.660556"
       ]
      },
      {
       "output_type": "stream",
       "stream": "stdout",
       "text": [
        "\r",
        "[1002]Good:http://www.cencoos.org/thredds/dodsC/gliders/Line66/OS_Glider_20090326_TS.nc,4.817464"
       ]
      },
      {
       "output_type": "stream",
       "stream": "stdout",
       "text": [
        "\r",
        "[1003]Good:http://www.cencoos.org/thredds/dodsC/gliders/Line66/OS_Glider_20090423_TS.nc,4.49958"
       ]
      },
      {
       "output_type": "stream",
       "stream": "stdout",
       "text": [
        "\r",
        "[1004]Good:http://www.cencoos.org/thredds/dodsC/gliders/Line66/OS_Glider_20090722_TS.nc,8.985928"
       ]
      },
      {
       "output_type": "stream",
       "stream": "stdout",
       "text": [
        "\r",
        "[1005]Good:http://www.cencoos.org/thredds/dodsC/gliders/Line66/OS_Glider_20091103_TS.nc,5.226292"
       ]
      },
      {
       "output_type": "stream",
       "stream": "stdout",
       "text": [
        "\r",
        "[1006]Good:http://www.cencoos.org/thredds/dodsC/gliders/Line66/OS_Glider_20100324_TS.nc,5.529768"
       ]
      },
      {
       "output_type": "stream",
       "stream": "stdout",
       "text": [
        "\r",
        "[1007]Good:http://www.cencoos.org/thredds/dodsC/gliders/Line66/OS_Glider_20100714_TS.nc,4.600064"
       ]
      },
      {
       "output_type": "stream",
       "stream": "stdout",
       "text": [
        "\r",
        "[1008]Good:http://www.cencoos.org/thredds/dodsC/gliders/Line66/OS_Glider_ASAP_-11221_TS.nc,0.13858"
       ]
      },
      {
       "output_type": "stream",
       "stream": "stdout",
       "text": [
        "\r",
        "[1009]Good:http://www.cencoos.org/thredds/dodsC/gliders/Line66/OS_Glider_ASAP_20100318_TS.nc,0.183324"
       ]
      },
      {
       "output_type": "stream",
       "stream": "stdout",
       "text": [
        "\r",
        "[1010]Good:http://www.cencoos.org/thredds/dodsC/gliders/Line66/OS_Glider_ASAP_20100405_TS.nc,0.207336"
       ]
      },
      {
       "output_type": "stream",
       "stream": "stdout",
       "text": [
        "\r",
        "[1011]Good:http://www.cencoos.org/thredds/dodsC/gliders/Line66/OS_Glider_BENEX_20110927_TS.nc,2.676432"
       ]
      },
      {
       "output_type": "stream",
       "stream": "stdout",
       "text": [
        "\r",
        "[1012]Good:http://www.cencoos.org/thredds/dodsC/gliders/Line66/OS_Glider_L_66_-11221_TS.nc,1.626244"
       ]
      },
      {
       "output_type": "stream",
       "stream": "stdout",
       "text": [
        "\r",
        "[1013]Good:http://www.cencoos.org/thredds/dodsC/gliders/Line66/OS_Glider_L_66_20100318_TS.nc,0.157368"
       ]
      },
      {
       "output_type": "stream",
       "stream": "stdout",
       "text": [
        "\r",
        "[1014]Good:http://www.cencoos.org/thredds/dodsC/gliders/Line66/OS_Glider_L_66_20100324_TS.nc,3.521832"
       ]
      },
      {
       "output_type": "stream",
       "stream": "stdout",
       "text": [
        "\r",
        "[1015]Good:http://www.cencoos.org/thredds/dodsC/gliders/Line66/OS_Glider_L_66_20100714_TS.nc,1.721332"
       ]
      },
      {
       "output_type": "stream",
       "stream": "stdout",
       "text": [
        "\r",
        "[1016]Good:http://www.cencoos.org/thredds/dodsC/gliders/Line66/OS_Glider_L_661_20100714_TS.nc,2.923676"
       ]
      },
      {
       "output_type": "stream",
       "stream": "stdout",
       "text": [
        "\r",
        "[1017]Good:http://www.cencoos.org/thredds/dodsC/gliders/Line66/OS_Glider_L_662_-11221_TS.nc,3.422264"
       ]
      },
      {
       "output_type": "stream",
       "stream": "stdout",
       "text": [
        "\r",
        "[1018]Good:http://www.cencoos.org/thredds/dodsC/gliders/Line66/OS_Glider_L_662_19990820_TS.nc,3.99936"
       ]
      },
      {
       "output_type": "stream",
       "stream": "stdout",
       "text": [
        "\r",
        "[1019]Good:http://www.cencoos.org/thredds/dodsC/gliders/Line66/OS_Glider_L_662_20101003_TS.nc,2.857096"
       ]
      },
      {
       "output_type": "stream",
       "stream": "stdout",
       "text": [
        "\r",
        "[1020]Good:http://www.cencoos.org/thredds/dodsC/gliders/Line66/OS_Glider_L_662_20110124_TS.nc,3.359152"
       ]
      },
      {
       "output_type": "stream",
       "stream": "stdout",
       "text": [
        "\r",
        "[1021]Good:http://www.cencoos.org/thredds/dodsC/gliders/Line66/OS_Glider_L_662_20110511_TS.nc,2.514428"
       ]
      },
      {
       "output_type": "stream",
       "stream": "stdout",
       "text": [
        "\r",
        "[1022]Good:http://www.cencoos.org/thredds/dodsC/gliders/Line66/OS_Glider_L_662_20110915_TS.nc,3.422264"
       ]
      },
      {
       "output_type": "stream",
       "stream": "stdout",
       "text": [
        "\r",
        "[1023]Good:http://www.cencoos.org/thredds/dodsC/gliders/Line66/OS_Glider_L_662_20120109_TS.nc,4.572584"
       ]
      },
      {
       "output_type": "stream",
       "stream": "stdout",
       "text": [
        "\r",
        "[1024]Good:http://www.cencoos.org/thredds/dodsC/gliders/Line66/OS_Glider_L_662_20120424_TS.nc,4.349024"
       ]
      },
      {
       "output_type": "stream",
       "stream": "stdout",
       "text": [
        "\r",
        "[1025]Good:http://www.cencoos.org/thredds/dodsC/gliders/Line66/OS_Glider_L_662_20120816_TS.nc,4.340472"
       ]
      },
      {
       "output_type": "stream",
       "stream": "stdout",
       "text": [
        "\r",
        "[1026]Good:http://www.cencoos.org/thredds/dodsC/gliders/Line66/OS_Glider_L_662_20121127_TS.nc,0.884008"
       ]
      },
      {
       "output_type": "stream",
       "stream": "stdout",
       "text": [
        "\r",
        "[1027]Good:http://www.cencoos.org/thredds/dodsC/gliders/Line66/OS_Glider_L_662_20130325_TS.nc,3.800984"
       ]
      },
      {
       "output_type": "stream",
       "stream": "stdout",
       "text": [
        "\r",
        "[1028]Good:http://www.cencoos.org/thredds/dodsC/gliders/Line66/OS_Glider_L_662_20130711_TS.nc,1.679664"
       ]
      },
      {
       "output_type": "stream",
       "stream": "stdout",
       "text": [
        "\r",
        "[1029]Good:http://www.cencoos.org/thredds/dodsC/gliders/Line66/OS_Glider_L_662_20131022_TS.nc,0.591632"
       ]
      },
      {
       "output_type": "stream",
       "stream": "stdout",
       "text": [
        "\r",
        "[1030]Good:http://www.cencoos.org/thredds/dodsC/gliders/Line66/OS_Glider_L_662_20131125_TS.nc,2.702752"
       ]
      },
      {
       "output_type": "stream",
       "stream": "stdout",
       "text": [
        "\r",
        "[1031]Good:http://www.cencoos.org/thredds/dodsC/gliders/Line66/OS_Glider_L_662_20140311_TS.nc,4.512872"
       ]
      },
      {
       "output_type": "stream",
       "stream": "stdout",
       "text": [
        "\r",
        "[1032]Good:http://www.cencoos.org/thredds/dodsC/gliders/Line66/OS_Glider_L_662_20140605_TS.nc,2.04396"
       ]
      },
      {
       "output_type": "stream",
       "stream": "stdout",
       "text": [
        "\r",
        "[1033]Good:http://www.cencoos.org/thredds/dodsC/gliders/Line66/OS_Glider_L_662_20140923_TS.nc,2.306512"
       ]
      },
      {
       "output_type": "stream",
       "stream": "stdout",
       "text": [
        "\r",
        "[1034]Good:http://www.cencoos.org/thredds/dodsC/gliders/Line66/OS_Glider_NPS_G29_20120524_TS.nc,1.732144"
       ]
      },
      {
       "output_type": "stream",
       "stream": "stdout",
       "text": [
        "\r",
        "[1035]Good:http://www.cencoos.org/thredds/dodsC/gliders/Line66/OS_Glider_NPS_G29_20130115_TS.nc,0.70048"
       ]
      },
      {
       "output_type": "stream",
       "stream": "stdout",
       "text": [
        "\r",
        "[1036]Good:http://www.cencoos.org/thredds/dodsC/gliders/Line66/OS_Glider_NPS_G29_20130829_TS.nc,4.821344"
       ]
      },
      {
       "output_type": "stream",
       "stream": "stdout",
       "text": [
        "\r",
        "[1037]Good:http://www.cencoos.org/thredds/dodsC/gliders/Line66/OS_Glider_NPS_G29_20140930_TS.nc,0.506072"
       ]
      },
      {
       "output_type": "stream",
       "stream": "stdout",
       "text": [
        "\r",
        "[1038]Good:http://www.cencoos.org/thredds/dodsC/gliders/Line66/OS_Glider_NPS_G34_20120928_TS.nc,3.837928"
       ]
      },
      {
       "output_type": "stream",
       "stream": "stdout",
       "text": [
        "\r",
        "[1039]Good:http://www.cencoos.org/thredds/dodsC/gliders/Line66/OS_Glider_NPS_G34_20130115_TS.nc,0.58644"
       ]
      },
      {
       "output_type": "stream",
       "stream": "stdout",
       "text": [
        "\r",
        "[1040]Good:http://www.cencoos.org/thredds/dodsC/gliders/Line66/OS_Glider_NPS_G34_20130829_TS.nc,5.549664"
       ]
      },
      {
       "output_type": "stream",
       "stream": "stdout",
       "text": [
        "\r",
        "[1041]Good:http://www.cencoos.org/thredds/dodsC/gliders/Line66/OS_Glider_NPS_G34_20140812_TS.nc,0.220864"
       ]
      },
      {
       "output_type": "stream",
       "stream": "stdout",
       "text": [
        "\r",
        "[1042]Good:http://www.cencoos.org/thredds/dodsC/gliders/Line66/OS_Glider_NPS_Glider_29_20120524_TS.nc,0.005752"
       ]
      },
      {
       "output_type": "stream",
       "stream": "stdout",
       "text": [
        "\r",
        "[1043]Good:http://www.cencoos.org/thredds/dodsC/gliders/Line66/glider-260_20130919T171543_rt0.nc,7.50936"
       ]
      },
      {
       "output_type": "stream",
       "stream": "stdout",
       "text": [
        "\r",
        "[1044]Good:http://www.cencoos.org/thredds/dodsC/gliders/Line66/glider-294_20130919T200855_rt0.nc,0.996708"
       ]
      },
      {
       "output_type": "stream",
       "stream": "stdout",
       "text": [
        "\r",
        "[1045]Good:http://www.cencoos.org/thredds/dodsC/gliders/Line66/glider-nemesis_20130914T022023_rt0.nc,0.402624"
       ]
      },
      {
       "output_type": "stream",
       "stream": "stdout",
       "text": [
        "\r",
        "[1046]Good:http://www.cencoos.org/thredds/dodsC/gliders/bloomex/OS_Glider_L_661_20100714_TS.nc,2.923676"
       ]
      },
      {
       "output_type": "stream",
       "stream": "stdout",
       "text": [
        "\r",
        "[1047]Good:http://www.cencoos.org/thredds/dodsC/gliders/bloomex/OS_Glider_L_662_20101003_TS.nc,2.857096"
       ]
      },
      {
       "output_type": "stream",
       "stream": "stdout",
       "text": [
        "\r",
        "[1048]Good:http://geoport.whoi.edu/thredds/dodsC/coawst_4/use/fmrc/coawst_4_use_best.ncd,7494709.53977"
       ]
      },
      {
       "output_type": "stream",
       "stream": "stdout",
       "text": [
        "\r",
        "[1049]Good:http://ona.coas.oregonstate.edu:8080/thredds/dodsC/NANOOS/OCOS,44639.89116"
       ]
      },
      {
       "output_type": "stream",
       "stream": "stdout",
       "text": [
        "\r",
        "[1050]Good:http://data.ioos.us/thredds/dodsC/aoml/SG60920140719T1700.nc3.nc.ncml,137.80429"
       ]
      },
      {
       "output_type": "stream",
       "stream": "stdout",
       "text": [
        "\r",
        "[1051]Good:http://tds.glos.us/thredds/dodsC/CHL/LakeErieCHL-Agg,282.125844"
       ]
      },
      {
       "output_type": "stream",
       "stream": "stdout",
       "text": [
        "\r",
        "[1052]Good:http://data.ioos.us/thredds/dodsC/aoml/SG61020140715T1400.nc3.nc.ncml,127.829616"
       ]
      },
      {
       "output_type": "stream",
       "stream": "stdout",
       "text": [
        "\r",
        "[1053]Good:http://tds.glos.us/thredds/dodsC/CHL/LakeHuronCHL-Agg,687.65452"
       ]
      },
      {
       "output_type": "stream",
       "stream": "stdout",
       "text": [
        "\r",
        "[1054]Good:http://data.ioos.us/thredds/dodsC/lcampbell/development.nc3.nc.ncml,0.013820375"
       ]
      },
      {
       "output_type": "stream",
       "stream": "stdout",
       "text": [
        "\r",
        "[1055]Good:http://tds.glos.us/thredds/dodsC/CHL/LakeMichiganCHL-Agg,538.468212"
       ]
      },
      {
       "output_type": "stream",
       "stream": "stdout",
       "text": [
        "\r",
        "[1056]Good:http://data.ioos.us/thredds/dodsC/rmiller/unit_236-20121005T2349.nc3.nc.ncml,46.413538125"
       ]
      },
      {
       "output_type": "stream",
       "stream": "stdout",
       "text": [
        "\r",
        "[1057]Good:http://tds.glos.us/thredds/dodsC/CHL/LakeOntarioCHL-Agg,256.798384"
       ]
      },
      {
       "output_type": "stream",
       "stream": "stdout",
       "text": [
        "\r",
        "[1058]Good:http://data.ioos.us/thredds/dodsC/rutgers/ru01-20140104T1621.nc3.nc.ncml,31.1017315"
       ]
      },
      {
       "output_type": "stream",
       "stream": "stdout",
       "text": [
        "\r",
        "[1059]Good:http://tds.glos.us/thredds/dodsC/CHL/LakeSuperiorCHL-Agg,635.785584"
       ]
      },
      {
       "output_type": "stream",
       "stream": "stdout",
       "text": [
        "\r",
        "[1060]Good:http://data.ioos.us/thredds/dodsC/rutgers/ru01-20140120T1444.nc3.nc.ncml,1.327731125"
       ]
      },
      {
       "output_type": "stream",
       "stream": "stdout",
       "text": [
        "\r",
        "[1061]Good:http://data.ioos.us/thredds/dodsC/rutgers/ru01-20140123T1250.nc3.nc.ncml,18.40974975"
       ]
      },
      {
       "output_type": "stream",
       "stream": "stdout",
       "text": [
        "\r",
        "[1062]Good:http://tds.glos.us/thredds/dodsC/NC/LakeErieNC-Agg,11.357412"
       ]
      },
      {
       "output_type": "stream",
       "stream": "stdout",
       "text": [
        "\r",
        "[1063]Good:http://data.ioos.us/thredds/dodsC/rutgers/ru01-20140217T1244.nc3.nc.ncml,20.98635"
       ]
      },
      {
       "output_type": "stream",
       "stream": "stdout",
       "text": [
        "\r",
        "[1064]Good:http://tds.glos.us/thredds/dodsC/NC/LakeHuronNC-Agg,30.799387875"
       ]
      },
      {
       "output_type": "stream",
       "stream": "stdout",
       "text": [
        "\r",
        "[1065]Good:http://tds.glos.us/thredds/dodsC/NC/LakeMichiganNC-Agg,26.5979185"
       ]
      },
      {
       "output_type": "stream",
       "stream": "stdout",
       "text": [
        "\r",
        "[1066]Good:http://data.ioos.us/thredds/dodsC/rutgers/ru22-20130924T2010.nc3.nc.ncml,113.059962"
       ]
      },
      {
       "output_type": "stream",
       "stream": "stdout",
       "text": [
        "\r",
        "[1067]Good:http://tds.glos.us/thredds/dodsC/NC/LakeOntarioNC-Agg,12.058454"
       ]
      },
      {
       "output_type": "stream",
       "stream": "stdout",
       "text": [
        "\r",
        "[1068]Good:http://data.ioos.us/thredds/dodsC/rutgers/ru22-20140804T1632.nc3.nc.ncml,6.55502"
       ]
      },
      {
       "output_type": "stream",
       "stream": "stdout",
       "text": [
        "\r",
        "[1069]Good:http://tds.glos.us/thredds/dodsC/NC/LakeSuperiorNC-Agg,29.8373565"
       ]
      },
      {
       "output_type": "stream",
       "stream": "stdout",
       "text": [
        "\r",
        "[1070]Good:http://data.ioos.us/thredds/dodsC/rutgers/ru22-20140825T1505.nc3.nc.ncml,8.612703"
       ]
      },
      {
       "output_type": "stream",
       "stream": "stdout",
       "text": [
        "\r",
        "[1071]Good:http://tds.glos.us/thredds/dodsC/SST/LakeErieSST-Agg,2203.112912"
       ]
      },
      {
       "output_type": "stream",
       "stream": "stdout",
       "text": [
        "\r",
        "[1072]Good:http://data.ioos.us/thredds/dodsC/rutgers/ru23-20130305T2004.nc3.nc.ncml,106.534555625"
       ]
      },
      {
       "output_type": "stream",
       "stream": "stdout",
       "text": [
        "\r",
        "[1073]Good:http://tds.glos.us/thredds/dodsC/SST/LakeHuronSST-Agg,4875.900096"
       ]
      },
      {
       "output_type": "stream",
       "stream": "stdout",
       "text": [
        "\r",
        "[1074]Good:http://tds.gliders.ioos.us/thredds/dodsC/Dalhousie-University_otn200-20130910T1551_Time.ncml,4.136158"
       ]
      },
      {
       "output_type": "stream",
       "stream": "stdout",
       "text": [
        "\r",
        "[1075]Good:http://tds.glos.us/thredds/dodsC/SST/LakeMichiganSST-Agg,5016.005564"
       ]
      },
      {
       "output_type": "stream",
       "stream": "stdout",
       "text": [
        "\r",
        "[1076]Good:http://tds.gliders.ioos.us/thredds/dodsC/Dalhousie-University_otn201-20130916T1448_Time.ncml,4.915842"
       ]
      },
      {
       "output_type": "stream",
       "stream": "stdout",
       "text": [
        "\r",
        "[1077]Good:http://tds.glos.us/thredds/dodsC/SST/LakeOntarioSST-Agg,2221.137844"
       ]
      },
      {
       "output_type": "stream",
       "stream": "stdout",
       "text": [
        "\r",
        "[1078]Fail:http://tds.gliders.ioos.us/thredds/dodsC/GLOS_unit_236-20121005T0023_Time.ncml,-1"
       ]
      },
      {
       "output_type": "stream",
       "stream": "stdout",
       "text": [
        "\r",
        "[1079]Good:http://tds.glos.us/thredds/dodsC/SST/LakeSuperiorSST-Agg,4450.279824"
       ]
      },
      {
       "output_type": "stream",
       "stream": "stdout",
       "text": [
        "\r",
        "[1080]Good:http://tds.gliders.ioos.us/thredds/dodsC/North-Caroline-State-University_salacia-20130916T1603_Time.ncml,6.682234"
       ]
      },
      {
       "output_type": "stream",
       "stream": "stdout",
       "text": [
        "\r",
        "[1081]Fail:http://tds.gliders.ioos.us/thredds/dodsC/Rutgers-University_ru05-20130815T1650_Time.ncml,-1"
       ]
      },
      {
       "output_type": "stream",
       "stream": "stdout",
       "text": [
        "\r",
        "[1082]Fail:http://tds.gliders.ioos.us/thredds/dodsC/Rutgers-University_ru07-20130815T1701_Time.ncml,-1"
       ]
      },
      {
       "output_type": "stream",
       "stream": "stdout",
       "text": [
        "\r",
        "[1083]Good:http://tds.gliders.ioos.us/thredds/dodsC/Rutgers-University_ru22-20130924T2010_Time.ncml,4.438334"
       ]
      },
      {
       "output_type": "stream",
       "stream": "stdout",
       "text": [
        "\r",
        "[1084]Good:http://tds.gliders.ioos.us/thredds/dodsC/Rutgers-University_ru23-20130910T1701_Time.ncml,12.37585"
       ]
      },
      {
       "output_type": "stream",
       "stream": "stdout",
       "text": [
        "\r",
        "[1085]Good:http://tds.gliders.ioos.us/thredds/dodsC/Rutgers-University_ru23-20131017T1614_Time.ncml,14.836882"
       ]
      },
      {
       "output_type": "stream",
       "stream": "stdout",
       "text": [
        "\r",
        "[1086]Good:http://tds.gliders.ioos.us/thredds/dodsC/Rutgers-University_ru28-20130912T1650_Time.ncml,26.323978"
       ]
      },
      {
       "output_type": "stream",
       "stream": "stdout",
       "text": [
        "\r",
        "[1087]Good:http://tds.gliders.ioos.us/thredds/dodsC/Rutgers-University_ru29-20130111T0724_Time.ncml,54.945046"
       ]
      },
      {
       "output_type": "stream",
       "stream": "stdout",
       "text": [
        "\r",
        "[1088]Good:http://tds.gliders.ioos.us/thredds/dodsC/Rutgers-University_ru29-20131110T1400_Time.ncml,18.828554"
       ]
      },
      {
       "output_type": "stream",
       "stream": "stdout",
       "text": [
        "\r",
        "[1089]Good:http://tds.gliders.ioos.us/thredds/dodsC/Scripps-Institution-of-Oceanography_sp031-20140405T1440_Time.ncml,7.92111"
       ]
      },
      {
       "output_type": "stream",
       "stream": "stdout",
       "text": [
        "\r",
        "[1090]Good:http://tds.gliders.ioos.us/thredds/dodsC/University-of-Delaware_ud_275-20130912T2025_Time.ncml,10.35083"
       ]
      },
      {
       "output_type": "stream",
       "stream": "stdout",
       "text": [
        "\r",
        "[1091]Good:http://tds.gliders.ioos.us/thredds/dodsC/University-of-Georgia_modena-20130911T1629_Time.ncml,6.935694"
       ]
      },
      {
       "output_type": "stream",
       "stream": "stdout",
       "text": [
        "\r",
        "[1092]Good:http://tds.gliders.ioos.us/thredds/dodsC/University-of-Maine_penobscot-20130910T1658_Time.ncml,17.15549"
       ]
      },
      {
       "output_type": "stream",
       "stream": "stdout",
       "text": [
        "\r",
        "[1093]Good:http://tds.gliders.ioos.us/thredds/dodsC/University-of-Massachusetts-Dartmouth_blue-20130906T1347_Time.ncml,29.33715"
       ]
      },
      {
       "output_type": "stream",
       "stream": "stdout",
       "text": [
        "\r",
        "[1094]Good:http://tds.gliders.ioos.us/thredds/dodsC/Woods-Hole-Oceanographic-Institution_saul-20130906T1504_Time.ncml,4.601962"
       ]
      },
      {
       "output_type": "stream",
       "stream": "stdout",
       "text": [
        "\r",
        "[1095]Good:http://sccoos-obs0.ucsd.edu/thredds/dodsC/MSS/BodegaMarineLaboratory/HorseshoeCove.ncml,0.344904"
       ]
      },
      {
       "output_type": "stream",
       "stream": "stdout",
       "text": [
        "\r",
        "[1096]Good:http://sccoos-obs0.ucsd.edu/thredds/dodsC/MSS/CitySanClemente/SanClementePier.ncml,0.48356"
       ]
      },
      {
       "output_type": "stream",
       "stream": "stdout",
       "text": [
        "\r",
        "[1097]Good:http://sccoos-obs0.ucsd.edu/thredds/dodsC/MSS/CitySantaCruz/SantaCruzPier.ncml,0.263284"
       ]
      },
      {
       "output_type": "stream",
       "stream": "stdout",
       "text": [
        "\r",
        "[1098]Good:http://sccoos-obs0.ucsd.edu/thredds/dodsC/MSS/NOAA_NOS/CoastGuardPier.ncml,0.253512"
       ]
      },
      {
       "output_type": "stream",
       "stream": "stdout",
       "text": [
        "\r",
        "[1099]Good:http://sccoos-obs0.ucsd.edu/thredds/dodsC/MSS/NOAA_NOS/NeahBay.ncml,0.42658"
       ]
      },
      {
       "output_type": "stream",
       "stream": "stdout",
       "text": [
        "\r",
        "[1100]Good:http://sccoos-obs0.ucsd.edu/thredds/dodsC/MSS/NOAA_NOS/PortSanLuisFishingPier.ncml,0.233324"
       ]
      },
      {
       "output_type": "stream",
       "stream": "stdout",
       "text": [
        "\r",
        "[1101]Good:http://sccoos-obs0.ucsd.edu/thredds/dodsC/MSS/NOAA_NOS/SantaMonicaPier.ncml,0.41342"
       ]
      },
      {
       "output_type": "stream",
       "stream": "stdout",
       "text": [
        "\r",
        "[1102]Good:http://sccoos-obs0.ucsd.edu/thredds/dodsC/MSS/OregonInstituteofMarineBiology/OIMBPier.ncml,0.221928"
       ]
      },
      {
       "output_type": "stream",
       "stream": "stdout",
       "text": [
        "\r",
        "[1103]Good:http://sccoos-obs0.ucsd.edu/thredds/dodsC/MSS/PointReyesBirdObservatory/FarallonIslandBoatDock.ncml,0.736792"
       ]
      },
      {
       "output_type": "stream",
       "stream": "stdout",
       "text": [
        "\r",
        "[1104]Good:http://sccoos-obs0.ucsd.edu/thredds/dodsC/MSS/SIO/SIO.ncml,1.822128"
       ]
      },
      {
       "output_type": "stream",
       "stream": "stdout",
       "text": [
        "\r",
        "[1105]Good:http://sccoos-obs0.ucsd.edu/thredds/dodsC/MSS/SantaBarbaraHarborPatrol/SantaBarbaraHarbor.ncml,0.466368"
       ]
      },
      {
       "output_type": "stream",
       "stream": "stdout",
       "text": [
        "\r",
        "[1106]Good:http://sccoos-obs0.ucsd.edu/thredds/dodsC/MSS/SantaCatalinaIslandConservancy/IsthmusCove.ncml,0.111748"
       ]
      },
      {
       "output_type": "stream",
       "stream": "stdout",
       "text": [
        "\r",
        "[1107]Good:http://sccoos-obs0.ucsd.edu/thredds/dodsC/MSS/Stanford_HopkinsMarineStation/BeachPacifivGrove.ncml,0.874664"
       ]
      },
      {
       "output_type": "stream",
       "stream": "stdout",
       "text": [
        "\r",
        "[1108]Good:http://sccoos-obs0.ucsd.edu/thredds/dodsC/SASS_SOS/SIO/SIOPier.ncml,35.25492"
       ]
      },
      {
       "output_type": "stream",
       "stream": "stdout",
       "text": [
        "\r",
        "[1109]Good:http://sccoos-obs0.ucsd.edu/thredds/dodsC/SASS_SOS/UCB/GoldenGateBridge.ncml,0.22604"
       ]
      },
      {
       "output_type": "stream",
       "stream": "stdout",
       "text": [
        "\r",
        "[1110]Good:http://sccoos-obs0.ucsd.edu/thredds/dodsC/SASS_SOS/UCI/NewportPier.ncml,83.3826"
       ]
      },
      {
       "output_type": "stream",
       "stream": "stdout",
       "text": [
        "\r",
        "[1111]Good:http://sccoos-obs0.ucsd.edu/thredds/dodsC/SASS_SOS/UCLA/SantaMonicaPier.ncml,38.72652"
       ]
      },
      {
       "output_type": "stream",
       "stream": "stdout",
       "text": [
        "\r",
        "[1112]Good:http://sccoos-obs0.ucsd.edu/thredds/dodsC/SASS_SOS/UCSB/StearnsWharf.ncml,30.69728"
       ]
      },
      {
       "output_type": "stream",
       "stream": "stdout",
       "text": [
        "\r",
        "[1113]Good:http://sccoos-obs0.ucsd.edu/thredds/dodsC/SASS_SOS/UCSC/SCMuniWharf.ncml,6.7054"
       ]
      },
      {
       "output_type": "stream",
       "stream": "stdout",
       "text": [
        "\r",
        "[1114]Good:http://hfrnet.ucsd.edu/thredds/dodsC/HFRNet/AKNS/6km/hourly/GNOME,2961.866996"
       ]
      },
      {
       "output_type": "stream",
       "stream": "stdout",
       "text": [
        "\r",
        "[1115]Good:http://hfrnet.ucsd.edu/thredds/dodsC/HFRNet/AKNS/6km/hourly/RTV,2961.866996"
       ]
      },
      {
       "output_type": "stream",
       "stream": "stdout",
       "text": [
        "\r",
        "[1116]Fail:http://hfrnet.ucsd.edu/thredds/dodsC/HFRNet/PRVI/2km/hourly/GNOME,-1"
       ]
      },
      {
       "output_type": "stream",
       "stream": "stdout",
       "text": [
        "\r",
        "[1117]Fail:http://hfrnet.ucsd.edu/thredds/dodsC/HFRNet/PRVI/2km/hourly/RTV,-1"
       ]
      },
      {
       "output_type": "stream",
       "stream": "stdout",
       "text": [
        "\r",
        "[1118]Fail:http://hfrnet.ucsd.edu/thredds/dodsC/HFRNet/PRVI/6km/hourly/GNOME,-1"
       ]
      },
      {
       "output_type": "stream",
       "stream": "stdout",
       "text": [
        "\r",
        "[1119]Fail:http://hfrnet.ucsd.edu/thredds/dodsC/HFRNet/PRVI/6km/hourly/RTV,-1"
       ]
      },
      {
       "output_type": "stream",
       "stream": "stdout",
       "text": [
        "\r",
        "[1120]Fail:http://hfrnet.ucsd.edu/thredds/dodsC/HFRNet/USEGC/1km/hourly/GNOME,-1"
       ]
      },
      {
       "output_type": "stream",
       "stream": "stdout",
       "text": [
        "\r",
        "[1121]Fail:http://hfrnet.ucsd.edu/thredds/dodsC/HFRNet/USEGC/1km/hourly/RTV,-1"
       ]
      },
      {
       "output_type": "stream",
       "stream": "stdout",
       "text": [
        "\r",
        "[1122]Fail:http://hfrnet.ucsd.edu/thredds/dodsC/HFRNet/USEGC/2km/hourly/GNOME,-1"
       ]
      },
      {
       "output_type": "stream",
       "stream": "stdout",
       "text": [
        "\r",
        "[1123]Fail:http://hfrnet.ucsd.edu/thredds/dodsC/HFRNet/USEGC/2km/hourly/RTV,-1"
       ]
      },
      {
       "output_type": "stream",
       "stream": "stdout",
       "text": [
        "\r",
        "[1124]Fail:http://hfrnet.ucsd.edu/thredds/dodsC/HFRNet/USEGC/6km/hourly/GNOME,-1"
       ]
      },
      {
       "output_type": "stream",
       "stream": "stdout",
       "text": [
        "\r",
        "[1125]Good:http://hfrnet.ucsd.edu/thredds/dodsC/HFRNet/USEGC/6km/hourly/RTV,65903.192116"
       ]
      },
      {
       "output_type": "stream",
       "stream": "stdout",
       "text": [
        "\r",
        "[1126]Fail:http://hfrnet.ucsd.edu/thredds/dodsC/HFRNet/USHI/1km/hourly/GNOME,-1"
       ]
      },
      {
       "output_type": "stream",
       "stream": "stdout",
       "text": [
        "\r",
        "[1127]Fail:http://hfrnet.ucsd.edu/thredds/dodsC/HFRNet/USHI/1km/hourly/RTV,-1"
       ]
      },
      {
       "output_type": "stream",
       "stream": "stdout",
       "text": [
        "\r",
        "[1128]Fail:http://hfrnet.ucsd.edu/thredds/dodsC/HFRNet/USHI/2km/hourly/GNOME,-1"
       ]
      },
      {
       "output_type": "stream",
       "stream": "stdout",
       "text": [
        "\r",
        "[1129]Fail:http://hfrnet.ucsd.edu/thredds/dodsC/HFRNet/USHI/2km/hourly/RTV,-1"
       ]
      },
      {
       "output_type": "stream",
       "stream": "stdout",
       "text": [
        "\r",
        "[1130]Fail:http://hfrnet.ucsd.edu/thredds/dodsC/HFRNet/USHI/6km/hourly/GNOME,-1"
       ]
      },
      {
       "output_type": "stream",
       "stream": "stdout",
       "text": [
        "\r",
        "[1131]Fail:http://hfrnet.ucsd.edu/thredds/dodsC/HFRNet/USHI/6km/hourly/RTV,-1"
       ]
      },
      {
       "output_type": "stream",
       "stream": "stdout",
       "text": [
        "\r",
        "[1132]Fail:http://hfrnet.ucsd.edu/thredds/dodsC/HFRNet/USWC/1km/hourly/GNOME,-1"
       ]
      },
      {
       "output_type": "stream",
       "stream": "stdout",
       "text": [
        "\r",
        "[1133]Fail:http://hfrnet.ucsd.edu/thredds/dodsC/HFRNet/USWC/1km/hourly/RTV,-1"
       ]
      },
      {
       "output_type": "stream",
       "stream": "stdout",
       "text": [
        "\r",
        "[1134]Fail:http://hfrnet.ucsd.edu/thredds/dodsC/HFRNet/USWC/2km/hourly/GNOME,-1"
       ]
      },
      {
       "output_type": "stream",
       "stream": "stdout",
       "text": [
        "\r",
        "[1135]Good:http://hfrnet.ucsd.edu/thredds/dodsC/HFRNet/USWC/2km/hourly/RTV,170729.328956"
       ]
      },
      {
       "output_type": "stream",
       "stream": "stdout",
       "text": [
        "\r",
        "[1136]Fail:http://hfrnet.ucsd.edu/thredds/dodsC/HFRNet/USWC/6km/hourly/GNOME,-1"
       ]
      },
      {
       "output_type": "stream",
       "stream": "stdout",
       "text": [
        "\r",
        "[1137]Good:http://hfrnet.ucsd.edu/thredds/dodsC/HFRNet/USWC/6km/hourly/RTV,19069.152008"
       ]
      },
      {
       "output_type": "stream",
       "stream": "stdout",
       "text": [
        "\r",
        "[1138]Fail:http://hfrnet.ucsd.edu/thredds/dodsC/HFRNet/USWC/500m/hourly/GNOME,-1"
       ]
      },
      {
       "output_type": "stream",
       "stream": "stdout",
       "text": [
        "\r",
        "[1139]Good:http://hfrnet.ucsd.edu/thredds/dodsC/HFRNet/USWC/500m/hourly/RTV,3568.071096"
       ]
      },
      {
       "output_type": "stream",
       "stream": "stdout",
       "text": [
        "\r",
        "[1140]Fail:http://barataria.tamu.edu:8080/thredds/dodsC/fmrc/roms/out/ROMS_Output_Feature_Collection_Aggregation_best.ncd,-1"
       ]
      },
      {
       "output_type": "stream",
       "stream": "stdout",
       "text": [
        "\r",
        "[1141]Good:http://barataria.tamu.edu:8080/thredds/dodsC/fmrc/roms/out/ROMS_Output_Feature_Collection_Aggregation_fmrc.ncd,2287335.05393"
       ]
      },
      {
       "output_type": "stream",
       "stream": "stdout",
       "text": [
        "\r",
        "[1142]Good:http://ecowatch.ncddc.noaa.gov/thredds/dodsC/ncom_amseas_agg_20091119_20130404/Amseas_May_2010_to_Apr_04_2013_best.ncd,8075141.97139"
       ]
      },
      {
       "output_type": "stream",
       "stream": "stdout",
       "text": [
        "\r",
        "[1143]Good:http://ecowatch.ncddc.noaa.gov/thredds/dodsC/ncom_amseas_agg/AmSeas_Apr_05_2013_to_Current_best.ncd,3432967.64078"
       ]
      },
      {
       "output_type": "stream",
       "stream": "stdout",
       "text": [
        "\r",
        "[1144]Good:http://ecowatch.ncddc.noaa.gov/thredds/dodsC/ncom/ncom_reg1_agg/NCOM_Region_1_Aggregation_best.ncd,1288517.43977"
       ]
      },
      {
       "output_type": "stream",
       "stream": "stdout",
       "text": [
        "\r",
        "[1145]Good:http://ecowatch.ncddc.noaa.gov/thredds/dodsC/ncom/ncom_reg2_agg/NCOM_Region_2_Aggregation_best.ncd,1215486.677"
       ]
      },
      {
       "output_type": "stream",
       "stream": "stdout",
       "text": [
        "\r",
        "[1146]Good:http://ecowatch.ncddc.noaa.gov/thredds/dodsC/ncom/ncom_reg5_agg/NCOM_Region_5_Aggregation_best.ncd,1200288.6208"
       ]
      },
      {
       "output_type": "stream",
       "stream": "stdout",
       "text": [
        "\r",
        "[1147]Good:http://ecowatch.ncddc.noaa.gov/thredds/dodsC/ncom/ncom_reg6_agg/NCOM_Region_6_Aggregation_best.ncd,1217152.48187"
       ]
      },
      {
       "output_type": "stream",
       "stream": "stdout",
       "text": [
        "\r",
        "[1148]Good:http://ecowatch.ncddc.noaa.gov/thredds/dodsC/ncom/ncom_reg7_agg/NCOM_Region_7_Aggregation_best.ncd,2847.147756"
       ]
      },
      {
       "output_type": "stream",
       "stream": "stdout",
       "text": [
        "\r",
        "[1149]Good:http://ecowatch.ncddc.noaa.gov/thredds/dodsC/ncom/ncom_reg10_agg/NCOM_Region_10_Aggregation_best.ncd,1350595.40671"
       ]
      },
      {
       "output_type": "stream",
       "stream": "stdout",
       "text": [
        "\r",
        "[1150]Good:http://ecowatch.ncddc.noaa.gov/thredds/dodsC/ncom/ncom_sfc8_agg/NCOM_SFC_8_Aggregation_best.ncd,434900.50096"
       ]
      },
      {
       "output_type": "stream",
       "stream": "stdout",
       "text": [
        "\r",
        "[1151]Good:http://ecowatch.ncddc.noaa.gov/thredds/dodsC/ncom/ncom_sfc8_hind_agg/NCOM_SFC8_Hindcast_Aggregation_best.ncd,248880.897904"
       ]
      },
      {
       "output_type": "stream",
       "stream": "stdout",
       "text": [
        "\r",
        "[1152]Good:http://ecowatch.ncddc.noaa.gov/thredds/dodsC/ncom_us_east_agg/US_East_Apr_05_2013_to_Current_best.ncd,1128727.87838"
       ]
      },
      {
       "output_type": "stream",
       "stream": "stdout",
       "text": [
        "\r",
        "[1153]Good:http://ecowatch.ncddc.noaa.gov/thredds/dodsC/ncom_us_east_before_depth_change_agg/US_East_Feb_2009_to_November_18_2009_best.ncd,587380.692744"
       ]
      },
      {
       "output_type": "stream",
       "stream": "stdout",
       "text": [
        "\r",
        "[1154]Good:http://ecowatch.ncddc.noaa.gov/thredds/dodsC/ncom_useast_agg_20091119_20130404/US_East_Nov_19_2009_to_Apr_04_2013_best.ncd,3077189.37579"
       ]
      },
      {
       "output_type": "stream",
       "stream": "stdout",
       "text": [
        "\r",
        "[1155]Good:http://crow.marine.usf.edu:8080/thredds/dodsC/FVCOM-Nowcast-Agg.nc,611429.47386"
       ]
      },
      {
       "output_type": "stream",
       "stream": "stdout",
       "text": [
        "\r",
        "[1156]Good:http://omgsrv1.meas.ncsu.edu:8080/thredds/dodsC/fmrc/sabgom/SABGOM_Forecast_Model_Run_Collection_best.ncd,42636.722864"
       ]
      },
      {
       "output_type": "stream",
       "stream": "stdout",
       "text": [
        "\r",
        "[1157]Good:http://omgsrv1.meas.ncsu.edu:8080/thredds/dodsC/fmrc/us_east/US_East_Forecast_Model_Run_Collection_best.ncd,35006.617368"
       ]
      },
      {
       "output_type": "stream",
       "stream": "stdout",
       "text": [
        "\r",
        "[1158]Fail:http://tds.secoora.org/thredds/dodsC/longbay.nc,-1"
       ]
      },
      {
       "output_type": "stream",
       "stream": "stdout",
       "text": [
        "\r",
        "[1159]Good:http://tds.secoora.org/thredds/dodsC/miami_wera.nc,3.985236"
       ]
      },
      {
       "output_type": "stream",
       "stream": "stdout",
       "text": [
        "\r",
        "[1160]Good:http://tds.secoora.org/thredds/dodsC/savannah.nc,511.921204"
       ]
      },
      {
       "output_type": "stream",
       "stream": "stdout",
       "text": [
        "\r",
        "[1161]Good:http://tds.secoora.org/thredds/dodsC/tampa_codar.nc,5.978644"
       ]
      },
      {
       "output_type": "stream",
       "stream": "stdout",
       "text": [
        "\r",
        "[1162]Good:http://tds.secoora.org/thredds/dodsC/tampa_wera.nc,1959.002004"
       ]
      },
      {
       "output_type": "stream",
       "stream": "stdout",
       "text": [
        "\r",
        "[1163]Good:http://crow.marine.usf.edu:8080/thredds/dodsC/WFS_ROMS_NF_model/USF_Ocean_Circulation_Group_West_Florida_Shelf_Daily_ROMS_Nowcast_Forecast_Model_Data_best.ncd,9195.768472"
       ]
      },
      {
       "output_type": "stream",
       "stream": "stdout",
       "text": [
        "\r",
        "[1164]Good:http://crow.marine.usf.edu:8080/thredds/dodsC/WFS_SWAN_NF_model/USF_Ocean_Circulation_Group_West_Florida_Shelf_Daily_SWAN_Nowcast_Forecast_Wave_Model_Data_best.ncd,201.938128"
       ]
      },
      {
       "output_type": "stream",
       "stream": "stdout",
       "text": [
        "\r",
        "[1165]Good:http://comt.sura.org/thredds/dodsC/data/comt_1_archive/estuarine_hypoxia/UMCES_ChesROMS-BGC/1991-2005_BGC,42283.515864"
       ]
      },
      {
       "output_type": "stream",
       "stream": "stdout",
       "text": [
        "\r",
        "[1166]Good:http://comt.sura.org/thredds/dodsC/data/comt_1_archive/estuarine_hypoxia/VIMS_CBOFS/2004-2005,18447.459192"
       ]
      },
      {
       "output_type": "stream",
       "stream": "stdout",
       "text": [
        "\r",
        "[1167]Good:http://comt.sura.org/thredds/dodsC/data/comt_1_archive/inundation_extratropical/UMASS_FVCOM/2005_3D_final_run_waves_only,1032.351856"
       ]
      },
      {
       "output_type": "stream",
       "stream": "stdout",
       "text": [
        "\r",
        "[1168]Good:http://comt.sura.org/thredds/dodsC/data/comt_1_archive/inundation_extratropical/UMASS_FVCOM/2005_3D_final_run_with_waves,2990.612836"
       ]
      },
      {
       "output_type": "stream",
       "stream": "stdout",
       "text": [
        "\r",
        "[1169]Good:http://comt.sura.org/thredds/dodsC/data/comt_1_archive/inundation_extratropical/UMASS_FVCOM/2005_3D_final_run_without_waves,2905.443076"
       ]
      },
      {
       "output_type": "stream",
       "stream": "stdout",
       "text": [
        "\r",
        "[1170]Good:http://comt.sura.org/thredds/dodsC/data/comt_1_archive/inundation_extratropical/UMASS_FVCOM/2007_3D_final_run_waves_only,999.126736"
       ]
      },
      {
       "output_type": "stream",
       "stream": "stdout",
       "text": [
        "\r",
        "[1171]Good:http://comt.sura.org/thredds/dodsC/data/comt_1_archive/inundation_extratropical/UMASS_FVCOM/2007_3D_final_run_with_waves,2894.347396"
       ]
      },
      {
       "output_type": "stream",
       "stream": "stdout",
       "text": [
        "\r",
        "[1172]Good:http://comt.sura.org/thredds/dodsC/data/comt_1_archive/inundation_extratropical/UMASS_FVCOM/2007_3D_final_run_without_waves,2813.306996"
       ]
      },
      {
       "output_type": "stream",
       "stream": "stdout",
       "text": [
        "\r",
        "[1173]Good:http://comt.sura.org/thredds/dodsC/data/comt_1_archive/inundation_extratropical/UND_ADCIRC/2005_2D_final_run_wave_model_only_without_circulation,95.229024"
       ]
      },
      {
       "output_type": "stream",
       "stream": "stdout",
       "text": [
        "\r",
        "[1174]Good:http://comt.sura.org/thredds/dodsC/data/comt_1_archive/inundation_extratropical/UND_ADCIRC/2005_2D_final_run_with_waves,237.707284"
       ]
      },
      {
       "output_type": "stream",
       "stream": "stdout",
       "text": [
        "\r",
        "[1175]Good:http://comt.sura.org/thredds/dodsC/data/comt_1_archive/inundation_extratropical/UND_ADCIRC/2005_2D_final_run_without_waves,142.751764"
       ]
      },
      {
       "output_type": "stream",
       "stream": "stdout",
       "text": [
        "\r",
        "[1176]Good:http://comt.sura.org/thredds/dodsC/data/comt_1_archive/inundation_extratropical/UND_ADCIRC/2007_2D_final_run_wave_model_only_without_circulation,155.657952"
       ]
      },
      {
       "output_type": "stream",
       "stream": "stdout",
       "text": [
        "\r",
        "[1177]Good:http://comt.sura.org/thredds/dodsC/data/comt_1_archive/inundation_extratropical/UND_ADCIRC/2007_2D_final_run_with_waves,388.775572"
       ]
      },
      {
       "output_type": "stream",
       "stream": "stdout",
       "text": [
        "\r",
        "[1178]Good:http://comt.sura.org/thredds/dodsC/data/comt_1_archive/inundation_extratropical/UND_ADCIRC/2007_2D_final_run_without_waves,233.393812"
       ]
      },
      {
       "output_type": "stream",
       "stream": "stdout",
       "text": [
        "\r",
        "[1179]Good:http://comt.sura.org/thredds/dodsC/data/comt_1_archive/inundation_extratropical/UND_ADCIRC/2010_2D_final_run_tides_only,100.625972"
       ]
      },
      {
       "output_type": "stream",
       "stream": "stdout",
       "text": [
        "\r",
        "[1180]Good:http://comt.sura.org/thredds/dodsC/data/comt_1_archive/inundation_tropical/MDL_SLOSH/Hurricane_Ike_final_run_egm3,1140.640256"
       ]
      },
      {
       "output_type": "stream",
       "stream": "stdout",
       "text": [
        "\r",
        "[1181]Good:http://comt.sura.org/thredds/dodsC/data/comt_1_archive/inundation_tropical/MDL_SLOSH/Hurricane_Rita_final_run_egm3,1118.391096"
       ]
      },
      {
       "output_type": "stream",
       "stream": "stdout",
       "text": [
        "\r",
        "[1182]Good:http://comt.sura.org/thredds/dodsC/data/comt_1_archive/inundation_tropical/UND_ADCIRC/Hurricane_Ike_2D_final_run_with_waves,69332.3787"
       ]
      },
      {
       "output_type": "stream",
       "stream": "stdout",
       "text": [
        "\r",
        "[1183]Good:http://comt.sura.org/thredds/dodsC/data/comt_1_archive/inundation_tropical/UND_ADCIRC/Hurricane_Ike_2D_final_run_without_waves,34678.116108"
       ]
      },
      {
       "output_type": "stream",
       "stream": "stdout",
       "text": [
        "\r",
        "[1184]Good:http://comt.sura.org/thredds/dodsC/data/comt_1_archive/inundation_tropical/UND_ADCIRC/Hurricane_Ike_2D_preliminary_run_5_tides_only,17340.961404"
       ]
      },
      {
       "output_type": "stream",
       "stream": "stdout",
       "text": [
        "\r",
        "[1185]Good:http://comt.sura.org/thredds/dodsC/data/comt_1_archive/inundation_tropical/UND_ADCIRC/Hurricane_Ike_Timing_with_waves,3899.55822"
       ]
      },
      {
       "output_type": "stream",
       "stream": "stdout",
       "text": [
        "\r",
        "[1186]Good:http://comt.sura.org/thredds/dodsC/data/comt_1_archive/inundation_tropical/UND_ADCIRC/Hurricane_Ike_Timing_without_waves,1961.69934"
       ]
      },
      {
       "output_type": "stream",
       "stream": "stdout",
       "text": [
        "\r",
        "[1187]Good:http://comt.sura.org/thredds/dodsC/data/comt_1_archive/inundation_tropical/UND_ADCIRC/Hurricane_Rita_2D_final_run_with_waves,69332.3787"
       ]
      },
      {
       "output_type": "stream",
       "stream": "stdout",
       "text": [
        "\r",
        "[1188]Good:http://comt.sura.org/thredds/dodsC/data/comt_1_archive/inundation_tropical/UND_ADCIRC/Hurricane_Rita_2D_final_run_without_waves,34678.116108"
       ]
      },
      {
       "output_type": "stream",
       "stream": "stdout",
       "text": [
        "\r",
        "[1189]Good:http://comt.sura.org/thredds/dodsC/data/comt_1_archive/inundation_tropical/UND_ADCIRC/Hurricane_Rita_2D_preliminary_run_3_tides_only,17340.961404"
       ]
      },
      {
       "output_type": "stream",
       "stream": "stdout",
       "text": [
        "\r",
        "[1190]Good:http://comt.sura.org/thredds/dodsC/data/comt_1_archive/inundation_tropical/UND_ADCIRC/Hurricane_Rita_2D_preliminary_run_4_with_waves_without_advection_implicit_1s,69332.3787"
       ]
      },
      {
       "output_type": "stream",
       "stream": "stdout",
       "text": [
        "\r",
        "[1191]Good:http://comt.sura.org/thredds/dodsC/data/comt_1_archive/inundation_tropical/UND_ADCIRC/Hurricane_Rita_2D_preliminary_run_5_without_waves_and_advection_implicit_1s,34678.116108"
       ]
      },
      {
       "output_type": "stream",
       "stream": "stdout",
       "text": [
        "\r",
        "[1192]Good:http://comt.sura.org/thredds/dodsC/data/comt_1_archive/inundation_tropical/UND_ADCIRC/Tides_only_2D_final_run,12048.616956"
       ]
      },
      {
       "output_type": "stream",
       "stream": "stdout",
       "text": [
        "\r",
        "[1193]Good:http://comt.sura.org/thredds/dodsC/data/comt_1_archive/inundation_tropical/UND_ADCIRC/Tides_only_2D_preliminary_run_1_without_advection_implicit_1s,12048.616956"
       ]
      },
      {
       "output_type": "stream",
       "stream": "stdout",
       "text": [
        "\r",
        "[1194]Good:http://comt.sura.org/thredds/dodsC/data/comt_1_archive/inundation_tropical/UND_ADCIRC/Tides_only_3D_final_run,12048.617044"
       ]
      },
      {
       "output_type": "stream",
       "stream": "stdout",
       "text": [
        "\r",
        "[1195]Good:http://comt.sura.org/thredds/dodsC/data/comt_1_archive/inundation_tropical/UND_SLOSH/Hurricane_Ike_final_run_egl3,763.035132"
       ]
      },
      {
       "output_type": "stream",
       "stream": "stdout",
       "text": [
        "\r",
        "[1196]Good:http://comt.sura.org/thredds/dodsC/data/comt_1_archive/inundation_tropical/UND_SLOSH/Hurricane_Ike_final_run_egm3,3075.508788"
       ]
      },
      {
       "output_type": "stream",
       "stream": "stdout",
       "text": [
        "\r",
        "[1197]Good:http://comt.sura.org/thredds/dodsC/data/comt_1_archive/inundation_tropical/UND_SLOSH/Hurricane_Ike_preliminary_run_1_egl3_without_tides,763.035132"
       ]
      },
      {
       "output_type": "stream",
       "stream": "stdout",
       "text": [
        "\r",
        "[1198]Good:http://comt.sura.org/thredds/dodsC/data/comt_1_archive/inundation_tropical/UND_SLOSH/Hurricane_Ike_preliminary_run_2_egl3_with_SLOSH_winds,763.035132"
       ]
      },
      {
       "output_type": "stream",
       "stream": "stdout",
       "text": [
        "\r",
        "[1199]Good:http://comt.sura.org/thredds/dodsC/data/comt_1_archive/inundation_tropical/UND_SLOSH/Hurricane_Ike_preliminary_run_3_egl3_with_SLOSH_winds_without_tides,763.035132"
       ]
      },
      {
       "output_type": "stream",
       "stream": "stdout",
       "text": [
        "\r",
        "[1200]Good:http://comt.sura.org/thredds/dodsC/data/comt_1_archive/inundation_tropical/UND_SLOSH/Hurricane_Ike_preliminary_run_4_egm3_without_tides,3075.508788"
       ]
      },
      {
       "output_type": "stream",
       "stream": "stdout",
       "text": [
        "\r",
        "[1201]Good:http://comt.sura.org/thredds/dodsC/data/comt_1_archive/inundation_tropical/UND_SLOSH/Hurricane_Ike_preliminary_run_5_egm3_with_SLOSH_winds,3075.508788"
       ]
      },
      {
       "output_type": "stream",
       "stream": "stdout",
       "text": [
        "\r",
        "[1202]Good:http://comt.sura.org/thredds/dodsC/data/comt_1_archive/inundation_tropical/UND_SLOSH/Hurricane_Ike_preliminary_run_6_egm3_with_SLOSH_winds_without_tides,3075.508788"
       ]
      },
      {
       "output_type": "stream",
       "stream": "stdout",
       "text": [
        "\r",
        "[1203]Good:http://comt.sura.org/thredds/dodsC/data/comt_1_archive/inundation_tropical/UND_SLOSH/Hurricane_Rita_final_run_ebp3,1294.229556"
       ]
      },
      {
       "output_type": "stream",
       "stream": "stdout",
       "text": [
        "\r",
        "[1204]Good:http://comt.sura.org/thredds/dodsC/data/comt_1_archive/inundation_tropical/UND_SLOSH/Hurricane_Rita_final_run_egm3,3075.508788"
       ]
      },
      {
       "output_type": "stream",
       "stream": "stdout",
       "text": [
        "\r",
        "[1205]Good:http://comt.sura.org/thredds/dodsC/data/comt_1_archive/inundation_tropical/UND_SLOSH/Hurricane_Rita_preliminary_run_1_ebp3_without_tides,1294.229556"
       ]
      },
      {
       "output_type": "stream",
       "stream": "stdout",
       "text": [
        "\r",
        "[1206]Good:http://comt.sura.org/thredds/dodsC/data/comt_1_archive/inundation_tropical/UND_SLOSH/Hurricane_Rita_preliminary_run_2_ebp3_with_SLOSH_winds,1294.229556"
       ]
      },
      {
       "output_type": "stream",
       "stream": "stdout",
       "text": [
        "\r",
        "[1207]Good:http://comt.sura.org/thredds/dodsC/data/comt_1_archive/inundation_tropical/UND_SLOSH/Hurricane_Rita_preliminary_run_3_ebp3_with_SLOSH_winds_without_tides,1294.229556"
       ]
      },
      {
       "output_type": "stream",
       "stream": "stdout",
       "text": [
        "\r",
        "[1208]Good:http://comt.sura.org/thredds/dodsC/data/comt_1_archive/inundation_tropical/UND_SLOSH/Hurricane_Rita_preliminary_run_4_egm3_without_tides,3075.508788"
       ]
      },
      {
       "output_type": "stream",
       "stream": "stdout",
       "text": [
        "\r",
        "[1209]Good:http://comt.sura.org/thredds/dodsC/data/comt_1_archive/inundation_tropical/UND_SLOSH/Hurricane_Rita_preliminary_run_5_egm3_with_SLOSH_winds,3075.508788"
       ]
      },
      {
       "output_type": "stream",
       "stream": "stdout",
       "text": [
        "\r",
        "[1210]Good:http://comt.sura.org/thredds/dodsC/data/comt_1_archive/inundation_tropical/UND_SLOSH/Hurricane_Rita_preliminary_run_6_egm3_with_SLOSH_winds_without_tides,3075.508788"
       ]
      },
      {
       "output_type": "stream",
       "stream": "stdout",
       "text": [
        "\r",
        "[1211]Good:http://comt.sura.org/thredds/dodsC/data/comt_1_archive/inundation_tropical/USF_FVCOM/Hurricane_Ike_2D_final_run_with_waves,8988.202256"
       ]
      },
      {
       "output_type": "stream",
       "stream": "stdout",
       "text": [
        "\r",
        "[1212]Good:http://comt.sura.org/thredds/dodsC/data/comt_1_archive/inundation_tropical/USF_FVCOM/Hurricane_Ike_2D_final_run_without_waves,8988.202256"
       ]
      },
      {
       "output_type": "stream",
       "stream": "stdout",
       "text": [
        "\r",
        "[1213]Good:http://comt.sura.org/thredds/dodsC/data/comt_1_archive/inundation_tropical/USF_FVCOM/Hurricane_Ike_3D_final_run_with_waves,26910.882296"
       ]
      },
      {
       "output_type": "stream",
       "stream": "stdout",
       "text": [
        "\r",
        "[1214]Good:http://comt.sura.org/thredds/dodsC/data/comt_1_archive/inundation_tropical/USF_FVCOM/Hurricane_Ike_3D_final_run_without_waves,26910.882296"
       ]
      },
      {
       "output_type": "stream",
       "stream": "stdout",
       "text": [
        "\r",
        "[1215]Good:http://comt.sura.org/thredds/dodsC/data/comt_1_archive/inundation_tropical/USF_FVCOM/Hurricane_Rita_2D_final_run_with_waves,7206.886232"
       ]
      },
      {
       "output_type": "stream",
       "stream": "stdout",
       "text": [
        "\r",
        "[1216]Good:http://comt.sura.org/thredds/dodsC/data/comt_1_archive/inundation_tropical/USF_FVCOM/Hurricane_Rita_2D_final_run_without_waves,7206.886232"
       ]
      },
      {
       "output_type": "stream",
       "stream": "stdout",
       "text": [
        "\r",
        "[1217]Good:http://comt.sura.org/thredds/dodsC/data/comt_1_archive/inundation_tropical/USF_FVCOM/Hurricane_Rita_3D_final_run_with_waves,21551.577848"
       ]
      },
      {
       "output_type": "stream",
       "stream": "stdout",
       "text": [
        "\r",
        "[1218]Good:http://comt.sura.org/thredds/dodsC/data/comt_1_archive/inundation_tropical/USF_FVCOM/Hurricane_Rita_3D_final_run_without_waves,21551.577848"
       ]
      },
      {
       "output_type": "stream",
       "stream": "stdout",
       "text": [
        "\r",
        "[1219]Good:http://comt.sura.org/thredds/dodsC/data/comt_1_archive/inundation_tropical/USF_FVCOM/SWAN_Ike_final_run_with_2DSurge,3232.38456"
       ]
      },
      {
       "output_type": "stream",
       "stream": "stdout",
       "text": [
        "\r",
        "[1220]Good:http://comt.sura.org/thredds/dodsC/data/comt_1_archive/inundation_tropical/USF_FVCOM/SWAN_Ike_final_run_without_Surge,3232.38456"
       ]
      },
      {
       "output_type": "stream",
       "stream": "stdout",
       "text": [
        "\r",
        "[1221]Good:http://comt.sura.org/thredds/dodsC/data/comt_1_archive/inundation_tropical/USF_FVCOM/SWAN_Rita_final_run_with_2DSurge,2270.13624"
       ]
      },
      {
       "output_type": "stream",
       "stream": "stdout",
       "text": [
        "\r",
        "[1222]Good:http://comt.sura.org/thredds/dodsC/data/comt_1_archive/inundation_tropical/USF_FVCOM/SWAN_Rita_final_run_without_Surge,2270.13624"
       ]
      },
      {
       "output_type": "stream",
       "stream": "stdout",
       "text": [
        "\r",
        "[1223]Good:http://comt.sura.org/thredds/dodsC/data/comt_1_archive/inundation_tropical/USF_FVCOM/Tides_only_2D_final_run,53830.926112"
       ]
      },
      {
       "output_type": "stream",
       "stream": "stdout",
       "text": [
        "\r",
        "[1224]Good:http://comt.sura.org/thredds/dodsC/data/comt_1_archive/inundation_tropical/USF_FVCOM/Tides_only_2D_preliminary_run_1_fixed_manning,53830.926112"
       ]
      },
      {
       "output_type": "stream",
       "stream": "stdout",
       "text": [
        "\r",
        "[1225]Good:http://comt.sura.org/thredds/dodsC/data/comt_1_archive/inundation_tropical/USF_FVCOM/Tides_only_2D_preliminary_run_2_varied_manning_minimum_manning_0.025,53830.926112"
       ]
      },
      {
       "output_type": "stream",
       "stream": "stdout",
       "text": [
        "\r",
        "[1226]Good:http://comt.sura.org/thredds/dodsC/data/comt_1_archive/inundation_tropical/USF_FVCOM/Tides_only_3D_preliminary_run_1_fixed_roughness,9889.67512"
       ]
      },
      {
       "output_type": "stream",
       "stream": "stdout",
       "text": [
        "\r",
        "[1227]Good:http://comt.sura.org/thredds/dodsC/data/comt_1_archive/shelf_hypoxia/DAL_ROMS/2004-2009_climatology_obc_with_oxygen_hnd_soc_20layers,24905.028152"
       ]
      },
      {
       "output_type": "stream",
       "stream": "stdout",
       "text": [
        "\r",
        "[1228]Good:http://comt.sura.org/thredds/dodsC/data/comt_1_archive/shelf_hypoxia/DAL_ROMS/2004-2009_hycom_obc_with_oxygen_hnd_soc_30layers,37531.81072"
       ]
      },
      {
       "output_type": "stream",
       "stream": "stdout",
       "text": [
        "\r",
        "[1229]Good:http://comt.sura.org/thredds/dodsC/data/comt_1_archive/shelf_hypoxia/DAL_ROMS/2004-2009_hycom_obc_with_oxygen_inst_rem_30layers,37531.81072"
       ]
      },
      {
       "output_type": "stream",
       "stream": "stdout",
       "text": [
        "\r",
        "[1230]Good:http://comt.sura.org/thredds/dodsC/data/comt_1_archive/shelf_hypoxia/DAL_ROMS/2004-2009_ias_obc_with_oxygen_hnd_soc_30layers,37531.81072"
       ]
      },
      {
       "output_type": "stream",
       "stream": "stdout",
       "text": [
        "\r",
        "[1231]Good:http://comt.sura.org/thredds/dodsC/data/comt_1_archive/shelf_hypoxia/DAL_ROMS/2004-2009_ias_obc_with_oxygen_inst_rem_30layers,37531.81072"
       ]
      },
      {
       "output_type": "stream",
       "stream": "stdout",
       "text": [
        "\r",
        "[1232]Good:http://comt.sura.org/thredds/dodsC/data/comt_1_archive/shelf_hypoxia/TAMU_ROMS/2004-2009_hycom_obc_24h,150143.04424"
       ]
      },
      {
       "output_type": "stream",
       "stream": "stdout",
       "text": [
        "\r",
        "[1233]Good:http://comt.sura.org/thredds/dodsC/data/comt_1_archive/shelf_hypoxia/TAMU_ROMS/2004-2009_iasnfs_obc_24h,150143.04424"
       ]
      },
      {
       "output_type": "stream",
       "stream": "stdout",
       "text": [
        "\r",
        "[1234]Good:http://comt.sura.org/thredds/dodsC/data/comt_1_archive/shelf_hypoxia/TAMU_ROMS/2004-2009_ngom_obc_24h,112145.42656"
       ]
      },
      {
       "output_type": "stream",
       "stream": "stdout",
       "text": [
        "\r",
        "[1235]Good:http://geoport-dev.whoi.edu/thredds/dodsC/estofs/atlantic,12961.416036\r",
        "[1236]Good:http://oos.soest.hawaii.edu/thredds/dodsC/hioos/glider/aa2_agg,0.087136"
       ]
      },
      {
       "output_type": "stream",
       "stream": "stdout",
       "text": [
        "\r",
        "[1237]Good:http://oos.soest.hawaii.edu/thredds/dodsC/hioos/glider/aa_agg,0.058968"
       ]
      },
      {
       "output_type": "stream",
       "stream": "stdout",
       "text": [
        "\r",
        "[1238]Fail:http://oos.soest.hawaii.edu/thredds/dodsC/ais/ais_hi_20112012_agg,-1"
       ]
      },
      {
       "output_type": "stream",
       "stream": "stdout",
       "text": [
        "\r",
        "[1239]Good:http://oos.soest.hawaii.edu/thredds/dodsC/hioos/satellite/dhw,2813.526566"
       ]
      },
      {
       "output_type": "stream",
       "stream": "stdout",
       "text": [
        "\r",
        "[1240]Good:http://oos.soest.hawaii.edu/thredds/dodsC/dist2coast_1deg,1296.216"
       ]
      },
      {
       "output_type": "stream",
       "stream": "stdout",
       "text": [
        "\r",
        "[1241]Good:http://oos.soest.hawaii.edu/thredds/dodsC/dist2coast_1deg_land,1296.216"
       ]
      },
      {
       "output_type": "stream",
       "stream": "stdout",
       "text": [
        "\r",
        "[1242]Good:http://oos.soest.hawaii.edu/thredds/dodsC/dist2coast_1deg_ocean,1296.216"
       ]
      },
      {
       "output_type": "stream",
       "stream": "stdout",
       "text": [
        "\r",
        "[1243]Good:http://oos.soest.hawaii.edu/thredds/dodsC/dist2coast_4deg,162.108"
       ]
      },
      {
       "output_type": "stream",
       "stream": "stdout",
       "text": [
        "\r",
        "[1244]Good:http://oos.soest.hawaii.edu/thredds/dodsC/dist2coast_4deg_land,162.108"
       ]
      },
      {
       "output_type": "stream",
       "stream": "stdout",
       "text": [
        "\r",
        "[1245]Good:http://oos.soest.hawaii.edu/thredds/dodsC/dist2coast_4deg_ocean,162.108"
       ]
      },
      {
       "output_type": "stream",
       "stream": "stdout",
       "text": [
        "\r",
        "[1246]Good:http://oos.soest.hawaii.edu/thredds/dodsC/etopo5,37.393928"
       ]
      },
      {
       "output_type": "stream",
       "stream": "stdout",
       "text": [
        "\r",
        "[1247]Good:http://oos.soest.hawaii.edu/thredds/dodsC/hmrg_bathy_50m_mhi,1152.40802"
       ]
      },
      {
       "output_type": "stream",
       "stream": "stdout",
       "text": [
        "\r",
        "[1248]Good:http://oos.soest.hawaii.edu/thredds/dodsC/hmrg_bathytopo_1km_mhi,2.90042"
       ]
      },
      {
       "output_type": "stream",
       "stream": "stdout",
       "text": [
        "\r",
        "[1249]Good:http://oos.soest.hawaii.edu/thredds/dodsC/hmrg_bathytopo_50m_mhi,1152.40802"
       ]
      },
      {
       "output_type": "stream",
       "stream": "stdout",
       "text": [
        "\r",
        "[1250]Good:http://oos.soest.hawaii.edu/thredds/dodsC/pacioos/hycom/global,4567598.3627"
       ]
      },
      {
       "output_type": "stream",
       "stream": "stdout",
       "text": [
        "\r",
        "[1251]Fail:http://oos.soest.hawaii.edu/thredds/dodsC/hioos/hfr/kakagg,-1"
       ]
      },
      {
       "output_type": "stream",
       "stream": "stdout",
       "text": [
        "\r",
        "[1252]Fail:http://oos.soest.hawaii.edu/thredds/dodsC/hioos/hfr/kalagg,-1"
       ]
      },
      {
       "output_type": "stream",
       "stream": "stdout",
       "text": [
        "\r",
        "[1253]Good:http://oos.soest.hawaii.edu/thredds/dodsC/hioos/hfr/kkhagg,1762.86686"
       ]
      },
      {
       "output_type": "stream",
       "stream": "stdout",
       "text": [
        "\r",
        "[1254]Good:http://oos.soest.hawaii.edu/thredds/dodsC/hioos/hfr/knaagg,1506.78796"
       ]
      },
      {
       "output_type": "stream",
       "stream": "stdout",
       "text": [
        "\r",
        "[1255]Fail:http://oos.soest.hawaii.edu/thredds/dodsC/hioos/hfr/kokagg,-1"
       ]
      },
      {
       "output_type": "stream",
       "stream": "stdout",
       "text": [
        "\r",
        "[1256]Good:http://oos.soest.hawaii.edu/thredds/dodsC/hioos/glider/nc2_agg,0.037716"
       ]
      },
      {
       "output_type": "stream",
       "stream": "stdout",
       "text": [
        "\r",
        "[1257]Good:http://dm2.caricoos.org/thredds/dodsC/swan/SWAN_Aggregation_best.ncd,10021.770728"
       ]
      },
      {
       "output_type": "stream",
       "stream": "stdout",
       "text": [
        "\r",
        "[1258]Good:http://thredds.ucar.edu/thredds/dodsC/grib/FNMOC/COAMPS/Equatorial_America/Best,1483.138408"
       ]
      },
      {
       "output_type": "stream",
       "stream": "stdout",
       "text": [
        "\r",
        "[1259]Good:http://thredds.ucar.edu/thredds/dodsC/grib/FNMOC/COAMPS/Europe/Best,664.222576"
       ]
      },
      {
       "output_type": "stream",
       "stream": "stdout",
       "text": [
        "\r",
        "[1260]Good:http://thredds.ucar.edu/thredds/dodsC/grib/FNMOC/COAMPS/Northeast_Pacific/Best,441.78728"
       ]
      },
      {
       "output_type": "stream",
       "stream": "stdout",
       "text": [
        "\r",
        "[1261]Good:http://thredds.ucar.edu/thredds/dodsC/grib/FNMOC/COAMPS/Southern_California/Best,190.301664"
       ]
      },
      {
       "output_type": "stream",
       "stream": "stdout",
       "text": [
        "\r",
        "[1262]Good:http://thredds.ucar.edu/thredds/dodsC/grib/FNMOC/COAMPS/Western_Atlantic/Best,349.476012"
       ]
      },
      {
       "output_type": "stream",
       "stream": "stdout",
       "text": [
        "\r",
        "[1263]Good:http://thredds.ucar.edu/thredds/dodsC/grib/FNMOC/FAROP/Global_1p0deg/Best,116.770228"
       ]
      },
      {
       "output_type": "stream",
       "stream": "stdout",
       "text": [
        "\r",
        "[1264]Good:http://thredds.ucar.edu/thredds/dodsC/grib/FNMOC/NAVGEM/Global_0p5deg/Best,52266.837572"
       ]
      },
      {
       "output_type": "stream",
       "stream": "stdout",
       "text": [
        "\r",
        "[1265]Good:http://thredds.ucar.edu/thredds/dodsC/grib/FNMOC/NCODA/Global_Ocean/Best,116.291748"
       ]
      },
      {
       "output_type": "stream",
       "stream": "stdout",
       "text": [
        "\r",
        "[1266]Good:http://thredds.ucar.edu/thredds/dodsC/grib/FNMOC/WW3/Global_1p0deg/Best,490.790236"
       ]
      },
      {
       "output_type": "stream",
       "stream": "stdout",
       "text": [
        "\r",
        "[1267]Good:http://thredds.ucar.edu/thredds/dodsC/grib/FNMOC/WW3/Mediterranean/Best,235.816308"
       ]
      },
      {
       "output_type": "stream",
       "stream": "stdout",
       "text": [
        "\r",
        "[1268]Good:http://thredds-jumbo.unidata.ucar.edu/thredds/dodsC/grib/HRRR/CONUS_3km/surface/Best,222032.810544"
       ]
      },
      {
       "output_type": "stream",
       "stream": "stdout",
       "text": [
        "\r",
        "[1269]Good:http://thredds-jumbo.unidata.ucar.edu/thredds/dodsC/grib/HRRR/CONUS_3km/wrfprs/Best,431019.112936"
       ]
      },
      {
       "output_type": "stream",
       "stream": "stdout",
       "text": [
        "\r",
        "[1270]Good:http://thredds.ucar.edu/thredds/dodsC/grib/NCEP/DGEX/Alaska_12km/Best,1451.033112"
       ]
      },
      {
       "output_type": "stream",
       "stream": "stdout",
       "text": [
        "\r",
        "[1271]Good:http://thredds.ucar.edu/thredds/dodsC/grib/NCEP/DGEX/CONUS_12km/Best,2348.834116"
       ]
      },
      {
       "output_type": "stream",
       "stream": "stdout",
       "text": [
        "\r",
        "[1272]Good:http://thredds.ucar.edu/thredds/dodsC/grib/NCEP/GEFS/Global_1p0deg_Ensemble/derived/Best,5168.502528"
       ]
      },
      {
       "output_type": "stream",
       "stream": "stdout",
       "text": [
        "\r",
        "[1273]Good:http://thredds.ucar.edu/thredds/dodsC/grib/NCEP/GEFS/Global_1p0deg_Ensemble/members/Best,54269.169012"
       ]
      },
      {
       "output_type": "stream",
       "stream": "stdout",
       "text": [
        "\r",
        "[1274]Good:http://thredds.ucar.edu/thredds/dodsC/grib/NCEP/GFS/CONUS_80km/Best,460.708964"
       ]
      },
      {
       "output_type": "stream",
       "stream": "stdout",
       "text": [
        "\r",
        "[1275]Good:http://thredds.ucar.edu/thredds/dodsC/grib/NCEP/GFS/CONUS_95km/Best,361.149392"
       ]
      },
      {
       "output_type": "stream",
       "stream": "stdout",
       "text": [
        "\r",
        "[1276]Good:http://thredds.ucar.edu/thredds/dodsC/grib/NCEP/GFS/Global_0p5deg/Best,64461.217336"
       ]
      },
      {
       "output_type": "stream",
       "stream": "stdout",
       "text": [
        "\r",
        "[1277]Good:http://thredds.ucar.edu/thredds/dodsC/grib/NCEP/GFS/Global_2p5deg/Best,1279.525224"
       ]
      },
      {
       "output_type": "stream",
       "stream": "stdout",
       "text": [
        "\r",
        "[1278]Good:http://thredds.ucar.edu/thredds/dodsC/grib/NCEP/GFS/Global_onedeg/Best,16159.956136"
       ]
      },
      {
       "output_type": "stream",
       "stream": "stdout",
       "text": [
        "\r",
        "[1279]Good:http://thredds.ucar.edu/thredds/dodsC/grib/NCEP/GFS/Pacific_40km/Best,10958.422488"
       ]
      },
      {
       "output_type": "stream",
       "stream": "stdout",
       "text": [
        "\r",
        "[1280]Good:http://thredds.ucar.edu/thredds/dodsC/grib/NCEP/GFS/Puerto_Rico_0p5deg/Best,1383.320576"
       ]
      },
      {
       "output_type": "stream",
       "stream": "stdout",
       "text": [
        "\r",
        "[1281]Good:http://thredds.ucar.edu/thredds/dodsC/grib/NCEP/NAM/Alaska_11km/Best,31291.237584"
       ]
      },
      {
       "output_type": "stream",
       "stream": "stdout",
       "text": [
        "\r",
        "[1282]Good:http://thredds.ucar.edu/thredds/dodsC/grib/NCEP/NAM/Alaska_22km/Best,760.419464"
       ]
      },
      {
       "output_type": "stream",
       "stream": "stdout",
       "text": [
        "\r",
        "[1283]Good:http://thredds.ucar.edu/thredds/dodsC/grib/NCEP/NAM/Alaska_45km/conduit/Best,6240.427404"
       ]
      },
      {
       "output_type": "stream",
       "stream": "stdout",
       "text": [
        "\r",
        "[1284]Good:http://thredds.ucar.edu/thredds/dodsC/grib/NCEP/NAM/Alaska_45km/noaaport/Best,1227.742992"
       ]
      },
      {
       "output_type": "stream",
       "stream": "stdout",
       "text": [
        "\r",
        "[1285]Good:http://thredds.ucar.edu/thredds/dodsC/grib/NCEP/NAM/Alaska_95km/Best,69.741812"
       ]
      },
      {
       "output_type": "stream",
       "stream": "stdout",
       "text": [
        "\r",
        "[1286]Good:http://thredds.ucar.edu/thredds/dodsC/grib/NCEP/NAM/CONUS_12km/Best,34988.13622"
       ]
      },
      {
       "output_type": "stream",
       "stream": "stdout",
       "text": [
        "\r",
        "[1287]Good:http://thredds.ucar.edu/thredds/dodsC/grib/NCEP/NAM/CONUS_12km/conduit/Best,29842.682672"
       ]
      },
      {
       "output_type": "stream",
       "stream": "stdout",
       "text": [
        "\r",
        "[1288]Good:http://thredds.ucar.edu/thredds/dodsC/grib/NCEP/NAM/CONUS_20km/noaaport/Best,2736.888872"
       ]
      },
      {
       "output_type": "stream",
       "stream": "stdout",
       "text": [
        "\r",
        "[1289]Good:http://thredds.ucar.edu/thredds/dodsC/grib/NCEP/NAM/CONUS_40km/conduit/Best,8699.668796"
       ]
      },
      {
       "output_type": "stream",
       "stream": "stdout",
       "text": [
        "\r",
        "[1290]Good:http://thredds.ucar.edu/thredds/dodsC/grib/NCEP/NAM/CONUS_80km/Best,264.677616"
       ]
      },
      {
       "output_type": "stream",
       "stream": "stdout",
       "text": [
        "\r",
        "[1291]Good:http://thredds.ucar.edu/thredds/dodsC/grib/NCEP/NAM/Firewxnest/Best/LambertConformal_379X572-34p01N-117p6W,185985.039664"
       ]
      },
      {
       "output_type": "stream",
       "stream": "stdout",
       "text": [
        "\r",
        "[1292]Good:http://thredds.ucar.edu/thredds/dodsC/grib/NCEP/NAM/Firewxnest/Best/LambertConformal_382X486-35p00N-104p0W,76682.45288"
       ]
      },
      {
       "output_type": "stream",
       "stream": "stdout",
       "text": [
        "\r",
        "[1293]Good:http://thredds.ucar.edu/thredds/dodsC/grib/NCEP/NAM/Firewxnest/Best/LambertConformal_396X485-35p20N-102p4W,37954.903308"
       ]
      },
      {
       "output_type": "stream",
       "stream": "stdout",
       "text": [
        "\r",
        "[1294]Good:http://thredds.ucar.edu/thredds/dodsC/grib/NCEP/NAM/Firewxnest/Best/LambertConformal_417X478-31p48N-99p94W,39510.40592"
       ]
      },
      {
       "output_type": "stream",
       "stream": "stdout",
       "text": [
        "\r",
        "[1295]Good:http://thredds.ucar.edu/thredds/dodsC/grib/NCEP/NAM/Firewxnest/Best/LambertConformal_448X486-31p59N-96p58W,48445.357508"
       ]
      },
      {
       "output_type": "stream",
       "stream": "stdout",
       "text": [
        "\r",
        "[1296]Fail:http://thredds.ucar.edu/thredds/dodsC/grib/NCEP/NAM/Firewxnest/Best/LambertConformal_561X496-31p52N-83p49W,404"
       ]
      },
      {
       "output_type": "stream",
       "stream": "stdout",
       "text": [
        "\r",
        "[1297]Good:http://thredds.ucar.edu/thredds/dodsC/grib/NCEP/NAM/Firewxnest/Best/LambertConformal_584X490-30p53N-80p53W,105374.42238"
       ]
      },
      {
       "output_type": "stream",
       "stream": "stdout",
       "text": [
        "\r",
        "[1298]Good:http://thredds.ucar.edu/thredds/dodsC/grib/NCEP/NAM/Firewxnest/Best/LambertConformal_591X519-39p03N-82p00W,45900.16104"
       ]
      },
      {
       "output_type": "stream",
       "stream": "stdout",
       "text": [
        "\r",
        "[1299]Good:http://thredds.ucar.edu/thredds/dodsC/grib/NCEP/NAM/Firewxnest/Best/LambertConformal_625X514-39p55N-78p05W,48073.14168"
       ]
      },
      {
       "output_type": "stream",
       "stream": "stdout",
       "text": [
        "\r",
        "[1300]Good:http://thredds.ucar.edu/thredds/dodsC/grib/NCEP/NAM/Firewxnest/Best/LambertConformal_635X510-39p35N-76p72W,48462.216104"
       ]
      },
      {
       "output_type": "stream",
       "stream": "stdout",
       "text": [
        "\r",
        "[1301]Good:http://thredds.ucar.edu/thredds/dodsC/grib/NCEP/NAM/Firewxnest/Best/LambertConformal_642X525-43p13N-77p63W,83182.599584"
       ]
      },
      {
       "output_type": "stream",
       "stream": "stdout",
       "text": [
        "\r",
        "[1302]Good:http://thredds.ucar.edu/thredds/dodsC/grib/NCEP/NAM/Firewxnest/Best/LambertConformal_667X506-41p06N-73p37W,50505.156104"
       ]
      },
      {
       "output_type": "stream",
       "stream": "stdout",
       "text": [
        "\r",
        "[1303]Good:http://thredds.ucar.edu/thredds/dodsC/grib/NCEP/NAM/Firewxnest/Best/LambertConformal_678X508-42p57N-72p56W,51540.991924"
       ]
      },
      {
       "output_type": "stream",
       "stream": "stdout",
       "text": [
        "\r",
        "[1304]Good:http://thredds.ucar.edu/thredds/dodsC/grib/NCEP/NAM/Firewxnest/Best/LambertConformal_710X508-45p05N-69p88W,53973.604916"
       ]
      },
      {
       "output_type": "stream",
       "stream": "stdout",
       "text": [
        "\r",
        "[1305]Good:http://thredds.ucar.edu/thredds/dodsC/grib/NCEP/NAM/Polar_90km/Best,5113.685672"
       ]
      },
      {
       "output_type": "stream",
       "stream": "stdout",
       "text": [
        "\r",
        "[1306]Good:http://thredds.ucar.edu/thredds/dodsC/grib/NCEP/NDFD/CONUS_5km/Best,4820.397776"
       ]
      },
      {
       "output_type": "stream",
       "stream": "stdout",
       "text": [
        "\r",
        "[1307]Good:http://thredds.ucar.edu/thredds/dodsC/grib/NCEP/NDFD/CONUS_5km_conduit/Best/LambertConformal_1377X2145-38p22N-95p43W-2,48180.215504"
       ]
      },
      {
       "output_type": "stream",
       "stream": "stdout",
       "text": [
        "\r",
        "[1308]Good:http://thredds.ucar.edu/thredds/dodsC/grib/NCEP/NDFD/CONUS_5km_conduit/Best/LambertConformal_1377X2145-38p22N-95p43W,1429.592356"
       ]
      },
      {
       "output_type": "stream",
       "stream": "stdout",
       "text": [
        "\r",
        "[1309]Good:http://thredds.ucar.edu/thredds/dodsC/grib/NCEP/NDFD/CONUS/Fireweather/Best,815.22962"
       ]
      },
      {
       "output_type": "stream",
       "stream": "stdout",
       "text": [
        "\r",
        "[1310]Good:http://thredds.ucar.edu/thredds/dodsC/grib/NCEP/RAP/CONUS_13km/Best,63171.383056"
       ]
      },
      {
       "output_type": "stream",
       "stream": "stdout",
       "text": [
        "\r",
        "[1311]Good:http://thredds.ucar.edu/thredds/dodsC/grib/NCEP/RAP/CONUS_20km/Best,35947.28524"
       ]
      },
      {
       "output_type": "stream",
       "stream": "stdout",
       "text": [
        "\r",
        "[1312]Good:http://thredds.ucar.edu/thredds/dodsC/grib/NCEP/RAP/CONUS_40km/Best,9056.907832"
       ]
      },
      {
       "output_type": "stream",
       "stream": "stdout",
       "text": [
        "\r",
        "[1313]Good:http://thredds.ucar.edu/thredds/dodsC/grib/NCEP/RTMA/CONUS_2p5km/Best,56875.816536"
       ]
      },
      {
       "output_type": "stream",
       "stream": "stdout",
       "text": [
        "\r",
        "[1314]Good:http://thredds.ucar.edu/thredds/dodsC/grib/NCEP/RTMA/GUAM_2p5km/Best,281.15878"
       ]
      },
      {
       "output_type": "stream",
       "stream": "stdout",
       "text": [
        "\r",
        "[1315]Good:http://thredds.ucar.edu/thredds/dodsC/grib/NCEP/SREF/Alaska_45km/ensprod/Best,710.938508"
       ]
      },
      {
       "output_type": "stream",
       "stream": "stdout",
       "text": [
        "\r",
        "[1316]Good:http://thredds.ucar.edu/thredds/dodsC/grib/NCEP/SREF/CONUS_40km/ensprod/Best,1076.802456"
       ]
      },
      {
       "output_type": "stream",
       "stream": "stdout",
       "text": [
        "\r",
        "[1317]Good:http://thredds.ucar.edu/thredds/dodsC/grib/NCEP/SREF/CONUS_40km/ensprod_biasc/Best,1177.027968"
       ]
      },
      {
       "output_type": "stream",
       "stream": "stdout",
       "text": [
        "\r",
        "[1318]Good:http://thredds.ucar.edu/thredds/dodsC/grib/NCEP/SREF/PacificNE_0p4/ensprod/Best,539.893608"
       ]
      },
      {
       "output_type": "stream",
       "stream": "stdout",
       "text": [
        "\r",
        "[1319]Good:http://thredds.ucar.edu/thredds/dodsC/grib/NCEP/WW3/Coastal_Alaska/Best/LatLon_391X548-60p96N-158p4W-2,222.84266"
       ]
      },
      {
       "output_type": "stream",
       "stream": "stdout",
       "text": [
        "\r",
        "[1320]Good:http://thredds.ucar.edu/thredds/dodsC/grib/NCEP/WW3/Coastal_Alaska/Best/LatLon_391X548-60p96N-158p4W,1811.85682"
       ]
      },
      {
       "output_type": "stream",
       "stream": "stdout",
       "text": [
        "\r",
        "[1321]Good:http://thredds.ucar.edu/thredds/dodsC/grib/NCEP/WW3/Coastal_US_East_Coast/Best,2383.464812"
       ]
      },
      {
       "output_type": "stream",
       "stream": "stdout",
       "text": [
        "\r",
        "[1322]Good:http://thredds.ucar.edu/thredds/dodsC/grib/NCEP/WW3/Coastal_US_West_Coast/Best,3273.628712"
       ]
      },
      {
       "output_type": "stream",
       "stream": "stdout",
       "text": [
        "\r",
        "[1323]Good:http://thredds.ucar.edu/thredds/dodsC/grib/NCEP/WW3/Global/Best,2044.714912"
       ]
      },
      {
       "output_type": "stream",
       "stream": "stdout",
       "text": [
        "\r",
        "[1324]Good:http://thredds.ucar.edu/thredds/dodsC/grib/NCEP/WW3/Regional_Alaska/Best,634.094072"
       ]
      },
      {
       "output_type": "stream",
       "stream": "stdout",
       "text": [
        "\r",
        "[1325]Good:http://thredds.ucar.edu/thredds/dodsC/grib/NCEP/WW3/Regional_Eastern_Pacific/Best,1300.630712"
       ]
      },
      {
       "output_type": "stream",
       "stream": "stdout",
       "text": [
        "\r",
        "[1326]Good:http://thredds.ucar.edu/thredds/dodsC/grib/NCEP/WW3/Regional_US_West_Coast/Best,307.725512"
       ]
      },
      {
       "output_type": "stream",
       "stream": "stdout",
       "text": [
        "\r",
        "[1327]Good:http://thredds.ucar.edu/thredds/dodsC/grib/NPVU/RFC/RFC-KALR/Best,417.951332"
       ]
      },
      {
       "output_type": "stream",
       "stream": "stdout",
       "text": [
        "\r",
        "[1328]Good:http://thredds.ucar.edu/thredds/dodsC/grib/NPVU/RFC/RFC-KFWR/Best,464.12522"
       ]
      },
      {
       "output_type": "stream",
       "stream": "stdout",
       "text": [
        "\r",
        "[1329]Good:http://thredds.ucar.edu/thredds/dodsC/grib/NPVU/RFC/RFC-KKRF/Best,251.585172"
       ]
      },
      {
       "output_type": "stream",
       "stream": "stdout",
       "text": [
        "\r",
        "[1330]Good:http://thredds.ucar.edu/thredds/dodsC/grib/NPVU/RFC/RFC-KMSR/Best,451.735704"
       ]
      },
      {
       "output_type": "stream",
       "stream": "stdout",
       "text": [
        "\r",
        "[1331]Good:http://thredds.ucar.edu/thredds/dodsC/grib/NPVU/RFC/RFC-KNES/Best,1303.651888"
       ]
      },
      {
       "output_type": "stream",
       "stream": "stdout",
       "text": [
        "\r",
        "[1332]Good:http://thredds.ucar.edu/thredds/dodsC/grib/NPVU/RFC/RFC-KORN/Best,504.939356"
       ]
      },
      {
       "output_type": "stream",
       "stream": "stdout",
       "text": [
        "\r",
        "[1333]Good:http://thredds.ucar.edu/thredds/dodsC/grib/NPVU/RFC/RFC-KPTR/Best,30.192348"
       ]
      },
      {
       "output_type": "stream",
       "stream": "stdout",
       "text": [
        "\r",
        "[1334]Good:http://thredds.ucar.edu/thredds/dodsC/grib/NPVU/RFC/RFC-KRHA/Best,114.103976"
       ]
      },
      {
       "output_type": "stream",
       "stream": "stdout",
       "text": [
        "\r",
        "[1335]Good:http://thredds.ucar.edu/thredds/dodsC/grib/NPVU/RFC/RFC-KSTR/Best,215.0766"
       ]
      },
      {
       "output_type": "stream",
       "stream": "stdout",
       "text": [
        "\r",
        "[1336]Good:http://thredds.ucar.edu/thredds/dodsC/grib/NPVU/RFC/RFC-KTAR/Best,122.186708"
       ]
      },
      {
       "output_type": "stream",
       "stream": "stdout",
       "text": [
        "\r",
        "[1337]Good:http://thredds.ucar.edu/thredds/dodsC/grib/NPVU/RFC/RFC-KTIR/Best,187.22464"
       ]
      },
      {
       "output_type": "stream",
       "stream": "stdout",
       "text": [
        "\r",
        "[1338]Good:http://thredds.ucar.edu/thredds/dodsC/grib/NPVU/RFC/RFC-KTUA/Best,154.493268"
       ]
      },
      {
       "output_type": "stream",
       "stream": "stdout",
       "text": [
        "\r",
        "[1339]Good:http://thredds.ucar.edu/thredds/dodsC/grib/Unidata/NMM/Primary/Best/LambertConformal_155X201-34p31N-120p1W,99.199648"
       ]
      },
      {
       "output_type": "stream",
       "stream": "stdout",
       "text": [
        "\r",
        "[1340]Good:http://thredds.ucar.edu/thredds/dodsC/grib/Unidata/NMM/Primary/Best/LambertConformal_155X201-34p57N-120p5W,99.199648"
       ]
      },
      {
       "output_type": "stream",
       "stream": "stdout",
       "text": [
        "\r",
        "[1341]Good:http://thredds.ucar.edu/thredds/dodsC/grib/Unidata/NMM/Primary/Best/LambertConformal_155X201-36p79N-90p16W,99.199648"
       ]
      },
      {
       "output_type": "stream",
       "stream": "stdout",
       "text": [
        "\r",
        "[1342]Fail:http://thredds.ucar.edu/thredds/dodsC/grib/Unidata/NMM/Primary/Best/LambertConformal_155X201-37p52N-122p6W,404"
       ]
      },
      {
       "output_type": "stream",
       "stream": "stdout",
       "text": [
        "\r",
        "[1343]Fail:http://thredds.ucar.edu/thredds/dodsC/grib/Unidata/NMM/Primary/Best/LambertConformal_155X201-37p92N-122p9W,404"
       ]
      },
      {
       "output_type": "stream",
       "stream": "stdout",
       "text": [
        "\r",
        "[1344]Fail:http://thredds.ucar.edu/thredds/dodsC/grib/Unidata/NMM/Primary/Best/LambertConformal_155X201-39p57N-122p0W,404"
       ]
      },
      {
       "output_type": "stream",
       "stream": "stdout",
       "text": [
        "\r",
        "[1345]Good:http://thredds.ucar.edu/thredds/dodsC/grib/Unidata/NMM/Primary/Best/LambertConformal_155X201-43p96N-123p4W,99.199648"
       ]
      },
      {
       "output_type": "stream",
       "stream": "stdout",
       "text": [
        "\r",
        "[1346]Good:http://thredds.ucar.edu/thredds/dodsC/grib/Unidata/NMM/Primary/Best/LambertConformal_155X201-44p02N-123p7W,99.199648"
       ]
      },
      {
       "output_type": "stream",
       "stream": "stdout",
       "text": [
        "\r",
        "[1347]Fail:http://thredds.ucar.edu/thredds/dodsC/grib/Unidata/NMM/Secondary/Best/LambertConformal_155X201-37p54N-90p13W,404"
       ]
      },
      {
       "output_type": "stream",
       "stream": "stdout",
       "text": [
        "\r",
        "[1348]Good:http://thredds.ucar.edu/thredds/dodsC/grib/Unidata/NMM/Secondary/Best/LambertConformal_155X201-37p70N-86p07W,99.199648"
       ]
      },
      {
       "output_type": "stream",
       "stream": "stdout",
       "text": [
        "\r",
        "[1349]Good:http://thredds.ucar.edu/thredds/dodsC/grib/Unidata/NMM/Secondary/Best/LambertConformal_155X201-38p14N-84p40W,99.199648"
       ]
      },
      {
       "output_type": "stream",
       "stream": "stdout",
       "text": [
        "\r",
        "[1350]Good:http://thredds.ucar.edu/thredds/dodsC/grib/Unidata/NMM/Secondary/Best/LambertConformal_155X201-40p05N-121p8W,99.199648"
       ]
      },
      {
       "output_type": "stream",
       "stream": "stdout",
       "text": [
        "\r",
        "[1351]Fail:http://thredds.ucar.edu/thredds/dodsC/grib/Unidata/NMM/Secondary/Best/LambertConformal_155X201-43p50N-110p4W,404"
       ]
      },
      {
       "output_type": "stream",
       "stream": "stdout",
       "text": [
        "\r",
        "[1352]Good:http://thredds.ucar.edu/thredds/dodsC/grib/Unidata/NMM/Secondary/Best/LambertConformal_155X201-44p25N-122p9W,99.199656"
       ]
      },
      {
       "output_type": "stream",
       "stream": "stdout",
       "text": [
        "\r",
        "[1353]Good:http://thredds.ucar.edu/thredds/dodsC/grib/Unidata/NMM/Secondary/Best/LambertConformal_155X201-44p26N-123p5W,99.199648"
       ]
      },
      {
       "output_type": "stream",
       "stream": "stdout",
       "text": [
        "\r",
        "[1354]Fail:http://thredds.ucar.edu/thredds/dodsC/grib/Unidata/NMM/Secondary/Best/LambertConformal_155X201-47p39N-69p54W,404"
       ]
      },
      {
       "output_type": "stream",
       "stream": "stdout",
       "text": [
        "\r",
        "[1355]Good:http://thredds.ucar.edu/thredds/dodsC/grib/nexrad/composite/nws/Best,315.324712"
       ]
      },
      {
       "output_type": "stream",
       "stream": "stdout",
       "text": [
        "\r",
        "[1356]Good:http://thredds.ucar.edu/thredds/dodsC/grib/nexrad/composite/unidata/Best,324795.002384"
       ]
      },
      {
       "output_type": "stream",
       "stream": "stdout",
       "text": [
        "\r",
        "[1357]Fail:http://sos.maracoos.org/stable/dodsC/sldmb/buoy38650-agg.ncml,-1"
       ]
      },
      {
       "output_type": "stream",
       "stream": "stdout",
       "text": [
        "\r",
        "[1358]Fail:http://sos.maracoos.org/stable/dodsC/sldmb/buoy38685-agg.ncml,-1"
       ]
      },
      {
       "output_type": "stream",
       "stream": "stdout",
       "text": [
        "\r",
        "[1359]Fail:http://sos.maracoos.org/stable/dodsC/sldmb/buoy38757-agg.ncml,-1"
       ]
      },
      {
       "output_type": "stream",
       "stream": "stdout",
       "text": [
        "\r",
        "[1360]Fail:http://sos.maracoos.org/stable/dodsC/sldmb/buoy38775-agg.ncml,-1"
       ]
      },
      {
       "output_type": "stream",
       "stream": "stdout",
       "text": [
        "\r",
        "[1361]Fail:http://sos.maracoos.org/stable/dodsC/sldmb/buoy38796-agg.ncml,-1"
       ]
      },
      {
       "output_type": "stream",
       "stream": "stdout",
       "text": [
        "\r",
        "[1362]Fail:http://sos.maracoos.org/stable/dodsC/sldmb/buoy38797-agg.ncml,-1"
       ]
      },
      {
       "output_type": "stream",
       "stream": "stdout",
       "text": [
        "\r",
        "[1363]Fail:http://sos.maracoos.org/stable/dodsC/sldmb/buoy38803-agg.ncml,-1"
       ]
      },
      {
       "output_type": "stream",
       "stream": "stdout",
       "text": [
        "\r",
        "[1364]Fail:http://sos.maracoos.org/stable/dodsC/sldmb/buoy38805-agg.ncml,-1"
       ]
      },
      {
       "output_type": "stream",
       "stream": "stdout",
       "text": [
        "\r",
        "[1365]Fail:http://sos.maracoos.org/stable/dodsC/sldmb/buoy38817-agg.ncml,-1"
       ]
      },
      {
       "output_type": "stream",
       "stream": "stdout",
       "text": [
        "\r",
        "[1366]Fail:http://sos.maracoos.org/stable/dodsC/sldmb/buoy38818-agg.ncml,-1"
       ]
      },
      {
       "output_type": "stream",
       "stream": "stdout",
       "text": [
        "\r",
        "[1367]Fail:http://sos.maracoos.org/stable/dodsC/sldmb/buoy38821-agg.ncml,-1"
       ]
      },
      {
       "output_type": "stream",
       "stream": "stdout",
       "text": [
        "\r",
        "[1368]Fail:http://sos.maracoos.org/stable/dodsC/sldmb/buoy38823-agg.ncml,-1"
       ]
      },
      {
       "output_type": "stream",
       "stream": "stdout",
       "text": [
        "\r",
        "[1369]Fail:http://sos.maracoos.org/stable/dodsC/sldmb/buoy38828-agg.ncml,-1"
       ]
      },
      {
       "output_type": "stream",
       "stream": "stdout",
       "text": [
        "\r",
        "[1370]Fail:http://sos.maracoos.org/stable/dodsC/sldmb/buoy38845-agg.ncml,-1"
       ]
      },
      {
       "output_type": "stream",
       "stream": "stdout",
       "text": [
        "\r",
        "[1371]Fail:http://sos.maracoos.org/stable/dodsC/sldmb/buoy38846-agg.ncml,-1"
       ]
      },
      {
       "output_type": "stream",
       "stream": "stdout",
       "text": [
        "\r",
        "[1372]Fail:http://sos.maracoos.org/stable/dodsC/sldmb/buoy38857-agg.ncml,-1"
       ]
      },
      {
       "output_type": "stream",
       "stream": "stdout",
       "text": [
        "\r",
        "[1373]Fail:http://sos.maracoos.org/stable/dodsC/sldmb/buoy38869-agg.ncml,-1"
       ]
      },
      {
       "output_type": "stream",
       "stream": "stdout",
       "text": [
        "\r",
        "[1374]Fail:http://sos.maracoos.org/stable/dodsC/sldmb/buoy38883-agg.ncml,-1"
       ]
      },
      {
       "output_type": "stream",
       "stream": "stdout",
       "text": [
        "\r",
        "[1375]Fail:http://sos.maracoos.org/stable/dodsC/sldmb/buoy38900-agg.ncml,-1"
       ]
      },
      {
       "output_type": "stream",
       "stream": "stdout",
       "text": [
        "\r",
        "[1376]Fail:http://sos.maracoos.org/stable/dodsC/sldmb/buoy38910-agg.ncml,-1"
       ]
      },
      {
       "output_type": "stream",
       "stream": "stdout",
       "text": [
        "\r",
        "[1377]Fail:http://sos.maracoos.org/stable/dodsC/sldmb/buoy38918-agg.ncml,-1"
       ]
      },
      {
       "output_type": "stream",
       "stream": "stdout",
       "text": [
        "\r",
        "[1378]Fail:http://sos.maracoos.org/stable/dodsC/sldmb/buoy38924-agg.ncml,-1"
       ]
      },
      {
       "output_type": "stream",
       "stream": "stdout",
       "text": [
        "\r",
        "[1379]Fail:http://sos.maracoos.org/stable/dodsC/sldmb/buoy38944-agg.ncml,-1"
       ]
      },
      {
       "output_type": "stream",
       "stream": "stdout",
       "text": [
        "\r",
        "[1380]Fail:http://sos.maracoos.org/stable/dodsC/sldmb/buoy38960-agg.ncml,-1"
       ]
      },
      {
       "output_type": "stream",
       "stream": "stdout",
       "text": [
        "\r",
        "[1381]Fail:http://sos.maracoos.org/stable/dodsC/sldmb/buoy38965-agg.ncml,-1"
       ]
      },
      {
       "output_type": "stream",
       "stream": "stdout",
       "text": [
        "\r",
        "[1382]Fail:http://sos.maracoos.org/stable/dodsC/sldmb/buoy38987-agg.ncml,-1"
       ]
      },
      {
       "output_type": "stream",
       "stream": "stdout",
       "text": [
        "\r",
        "[1383]Fail:http://sos.maracoos.org/stable/dodsC/sldmb/buoy38988-agg.ncml,-1"
       ]
      },
      {
       "output_type": "stream",
       "stream": "stdout",
       "text": [
        "\r",
        "[1384]Fail:http://sos.maracoos.org/stable/dodsC/sldmb/buoy39011-agg.ncml,-1"
       ]
      },
      {
       "output_type": "stream",
       "stream": "stdout",
       "text": [
        "\r",
        "[1385]Fail:http://sos.maracoos.org/stable/dodsC/sldmb/buoy39019-agg.ncml,-1"
       ]
      },
      {
       "output_type": "stream",
       "stream": "stdout",
       "text": [
        "\r",
        "[1386]Fail:http://sos.maracoos.org/stable/dodsC/sldmb/buoy39024-agg.ncml,-1"
       ]
      },
      {
       "output_type": "stream",
       "stream": "stdout",
       "text": [
        "\r",
        "[1387]Fail:http://sos.maracoos.org/stable/dodsC/sldmb/buoy39025-agg.ncml,-1"
       ]
      },
      {
       "output_type": "stream",
       "stream": "stdout",
       "text": [
        "\r",
        "[1388]Fail:http://sos.maracoos.org/stable/dodsC/sldmb/buoy39034-agg.ncml,-1"
       ]
      },
      {
       "output_type": "stream",
       "stream": "stdout",
       "text": [
        "\r",
        "[1389]Fail:http://sos.maracoos.org/stable/dodsC/sldmb/buoy39035-agg.ncml,-1"
       ]
      },
      {
       "output_type": "stream",
       "stream": "stdout",
       "text": [
        "\r",
        "[1390]Fail:http://sos.maracoos.org/stable/dodsC/sldmb/buoy43048-agg.ncml,-1"
       ]
      },
      {
       "output_type": "stream",
       "stream": "stdout",
       "text": [
        "\r",
        "[1391]Fail:http://sos.maracoos.org/stable/dodsC/sldmb/buoy43049-agg.ncml,-1"
       ]
      },
      {
       "output_type": "stream",
       "stream": "stdout",
       "text": [
        "\r",
        "[1392]Fail:http://sos.maracoos.org/stable/dodsC/sldmb/buoy43095-agg.ncml,-1"
       ]
      },
      {
       "output_type": "stream",
       "stream": "stdout",
       "text": [
        "\r",
        "[1393]Fail:http://sos.maracoos.org/stable/dodsC/sldmb/buoy43105-agg.ncml,-1"
       ]
      },
      {
       "output_type": "stream",
       "stream": "stdout",
       "text": [
        "\r",
        "[1394]Fail:http://sos.maracoos.org/stable/dodsC/sldmb/buoy43137-agg.ncml,-1"
       ]
      },
      {
       "output_type": "stream",
       "stream": "stdout",
       "text": [
        "\r",
        "[1395]Fail:http://sos.maracoos.org/stable/dodsC/sldmb/buoy43164-agg.ncml,-1"
       ]
      },
      {
       "output_type": "stream",
       "stream": "stdout",
       "text": [
        "\r",
        "[1396]Fail:http://sos.maracoos.org/stable/dodsC/sldmb/buoy43173-agg.ncml,-1"
       ]
      },
      {
       "output_type": "stream",
       "stream": "stdout",
       "text": [
        "\r",
        "[1397]Fail:http://sos.maracoos.org/stable/dodsC/sldmb/buoy43176-agg.ncml,-1"
       ]
      },
      {
       "output_type": "stream",
       "stream": "stdout",
       "text": [
        "\r",
        "[1398]Fail:http://sos.maracoos.org/stable/dodsC/sldmb/buoy43185-agg.ncml,-1"
       ]
      },
      {
       "output_type": "stream",
       "stream": "stdout",
       "text": [
        "\r",
        "[1399]Fail:http://sos.maracoos.org/stable/dodsC/sldmb/buoy43188-agg.ncml,-1"
       ]
      },
      {
       "output_type": "stream",
       "stream": "stdout",
       "text": [
        "\r",
        "[1400]Fail:http://sos.maracoos.org/stable/dodsC/sldmb/buoy43196-agg.ncml,-1"
       ]
      },
      {
       "output_type": "stream",
       "stream": "stdout",
       "text": [
        "\r",
        "[1401]Fail:http://sos.maracoos.org/stable/dodsC/sldmb/buoy43201-agg.ncml,-1"
       ]
      },
      {
       "output_type": "stream",
       "stream": "stdout",
       "text": [
        "\r",
        "[1402]Fail:http://sos.maracoos.org/stable/dodsC/sldmb/buoy43208-agg.ncml,-1"
       ]
      },
      {
       "output_type": "stream",
       "stream": "stdout",
       "text": [
        "\r",
        "[1403]Fail:http://sos.maracoos.org/stable/dodsC/sldmb/buoy43227-agg.ncml,-1"
       ]
      },
      {
       "output_type": "stream",
       "stream": "stdout",
       "text": [
        "\r",
        "[1404]Fail:http://sos.maracoos.org/stable/dodsC/sldmb/buoy43236-agg.ncml,-1"
       ]
      },
      {
       "output_type": "stream",
       "stream": "stdout",
       "text": [
        "\r",
        "[1405]Fail:http://sos.maracoos.org/stable/dodsC/sldmb/buoy43238-agg.ncml,-1"
       ]
      },
      {
       "output_type": "stream",
       "stream": "stdout",
       "text": [
        "\r",
        "[1406]Fail:http://sos.maracoos.org/stable/dodsC/sldmb/buoy43255-agg.ncml,-1"
       ]
      },
      {
       "output_type": "stream",
       "stream": "stdout",
       "text": [
        "\r",
        "[1407]Fail:http://sos.maracoos.org/stable/dodsC/sldmb/buoy43262-agg.ncml,-1"
       ]
      },
      {
       "output_type": "stream",
       "stream": "stdout",
       "text": [
        "\r",
        "[1408]Fail:http://sos.maracoos.org/stable/dodsC/sldmb/buoy43264-agg.ncml,-1"
       ]
      },
      {
       "output_type": "stream",
       "stream": "stdout",
       "text": [
        "\r",
        "[1409]Fail:http://sos.maracoos.org/stable/dodsC/sldmb/buoy43294-agg.ncml,-1"
       ]
      },
      {
       "output_type": "stream",
       "stream": "stdout",
       "text": [
        "\r",
        "[1410]Fail:http://sos.maracoos.org/stable/dodsC/sldmb/buoy43312-agg.ncml,-1"
       ]
      },
      {
       "output_type": "stream",
       "stream": "stdout",
       "text": [
        "\r",
        "[1411]Fail:http://sos.maracoos.org/stable/dodsC/sldmb/buoy43330-agg.ncml,-1"
       ]
      },
      {
       "output_type": "stream",
       "stream": "stdout",
       "text": [
        "\r",
        "[1412]Fail:http://sos.maracoos.org/stable/dodsC/sldmb/buoy43334-agg.ncml,-1"
       ]
      },
      {
       "output_type": "stream",
       "stream": "stdout",
       "text": [
        "\r",
        "[1413]Fail:http://sos.maracoos.org/stable/dodsC/sldmb/buoy43336-agg.ncml,-1"
       ]
      },
      {
       "output_type": "stream",
       "stream": "stdout",
       "text": [
        "\r",
        "[1414]Fail:http://sos.maracoos.org/stable/dodsC/sldmb/buoy43357-agg.ncml,-1"
       ]
      },
      {
       "output_type": "stream",
       "stream": "stdout",
       "text": [
        "\r",
        "[1415]Fail:http://sos.maracoos.org/stable/dodsC/sldmb/buoy43369-agg.ncml,-1"
       ]
      },
      {
       "output_type": "stream",
       "stream": "stdout",
       "text": [
        "\r",
        "[1416]Fail:http://sos.maracoos.org/stable/dodsC/sldmb/buoy43378-agg.ncml,-1"
       ]
      },
      {
       "output_type": "stream",
       "stream": "stdout",
       "text": [
        "\r",
        "[1417]Fail:http://sos.maracoos.org/stable/dodsC/sldmb/buoy43386-agg.ncml,-1"
       ]
      },
      {
       "output_type": "stream",
       "stream": "stdout",
       "text": [
        "\r",
        "[1418]Fail:http://sos.maracoos.org/stable/dodsC/sldmb/buoy43416-agg.ncml,-1"
       ]
      },
      {
       "output_type": "stream",
       "stream": "stdout",
       "text": [
        "\r",
        "[1419]Fail:http://sos.maracoos.org/stable/dodsC/sldmb/buoy43500-agg.ncml,-1"
       ]
      },
      {
       "output_type": "stream",
       "stream": "stdout",
       "text": [
        "\r",
        "[1420]Fail:http://sos.maracoos.org/stable/dodsC/stationHRALBPH-agg.ncml,-1"
       ]
      },
      {
       "output_type": "stream",
       "stream": "stdout",
       "text": [
        "\r",
        "[1421]Fail:http://sos.maracoos.org/stable/dodsC/stationHRALBPM-agg.ncml,-1"
       ]
      },
      {
       "output_type": "stream",
       "stream": "stdout",
       "text": [
        "\r",
        "[1422]Fail:http://sos.maracoos.org/stable/dodsC/stationHRLCK8H-agg.ncml,-1"
       ]
      },
      {
       "output_type": "stream",
       "stream": "stdout",
       "text": [
        "\r",
        "[1423]Fail:http://sos.maracoos.org/stable/dodsC/stationHRLCK8M-agg.ncml,-1"
       ]
      },
      {
       "output_type": "stream",
       "stream": "stdout",
       "text": [
        "\r",
        "[1424]Fail:http://sos.maracoos.org/stable/dodsC/stationHRMARPH-agg.ncml,-1"
       ]
      },
      {
       "output_type": "stream",
       "stream": "stdout",
       "text": [
        "\r",
        "[1425]Fail:http://sos.maracoos.org/stable/dodsC/stationHRPIER84-agg.ncml,-1"
       ]
      },
      {
       "output_type": "stream",
       "stream": "stdout",
       "text": [
        "\r",
        "[1426]Fail:http://sos.maracoos.org/stable/dodsC/stationHRPMNTH-agg.ncml,-1"
       ]
      },
      {
       "output_type": "stream",
       "stream": "stdout",
       "text": [
        "\r",
        "[1427]Fail:http://sos.maracoos.org/stable/dodsC/stationHRPMNTM-agg.ncml,-1"
       ]
      },
      {
       "output_type": "stream",
       "stream": "stdout",
       "text": [
        "\r",
        "[1428]Fail:http://sos.maracoos.org/stable/dodsC/stationHRTVBM-agg.ncml,-1"
       ]
      },
      {
       "output_type": "stream",
       "stream": "stdout",
       "text": [
        "\r",
        "[1429]Fail:http://sos.maracoos.org/stable/dodsC/stationHRWSTPTH-agg.ncml,-1"
       ]
      },
      {
       "output_type": "stream",
       "stream": "stdout",
       "text": [
        "\r",
        "[1430]Fail:http://sos.maracoos.org/stable/dodsC/wflow397-agg.ncml,-1"
       ]
      },
      {
       "output_type": "stream",
       "stream": "stdout",
       "text": [
        "\r",
        "[1431]Fail:http://sos.maracoos.org/stable/dodsC/wflow697-agg.ncml,-1"
       ]
      },
      {
       "output_type": "stream",
       "stream": "stdout",
       "text": [
        "\r",
        "[1432]Fail:http://sos.maracoos.org/stable/dodsC/wflow700-agg.ncml,-1"
       ]
      },
      {
       "output_type": "stream",
       "stream": "stdout",
       "text": [
        "\r",
        "[1433]Fail:http://sos.maracoos.org/stable/dodsC/wflow1127-agg.ncml,-1"
       ]
      },
      {
       "output_type": "stream",
       "stream": "stdout",
       "text": [
        "\r",
        "[1434]Fail:http://sos.maracoos.org/stable/dodsC/wflow44554-agg.ncml,-1"
       ]
      },
      {
       "output_type": "stream",
       "stream": "stdout",
       "text": [
        "\r",
        "[1435]Fail:http://sos.maracoos.org/stable/dodsC/wflow46182-agg.ncml,-1"
       ]
      },
      {
       "output_type": "stream",
       "stream": "stdout",
       "text": [
        "\r",
        "[1436]Fail:http://sos.maracoos.org/stable/dodsC/wflow47091-agg.ncml,-1"
       ]
      },
      {
       "output_type": "stream",
       "stream": "stdout",
       "text": [
        "\r",
        "[1437]Fail:http://sos.maracoos.org/stable/dodsC/wflow48242-agg.ncml,-1"
       ]
      },
      {
       "output_type": "stream",
       "stream": "stdout",
       "text": [
        "\r",
        "[1438]Fail:http://sos.maracoos.org/stable/dodsC/wflow48328-agg.ncml,-1"
       ]
      },
      {
       "output_type": "stream",
       "stream": "stdout",
       "text": [
        "\r",
        "[1439]Good:http://tds.maracoos.org/thredds/dodsC/MODIS-Agg.nc,97200.076108"
       ]
      },
      {
       "output_type": "stream",
       "stream": "stdout",
       "text": [
        "\r",
        "[1440]Good:http://tds.marine.rutgers.edu/thredds/dodsC/roms/espresso/2013_da/avg_Best/ESPRESSO_Real-Time_v2_Averages_Best_Available_best.ncd,6318.859832"
       ]
      },
      {
       "output_type": "stream",
       "stream": "stdout",
       "text": [
        "\r",
        "[1441]Good:http://tds.marine.rutgers.edu/thredds/dodsC/roms/espresso/2013_da/his_Best/ESPRESSO_Real-Time_v2_History_Best_Available_best.ncd,111220.941024"
       ]
      },
      {
       "output_type": "stream",
       "stream": "stdout",
       "text": [
        "\r",
        "[1442]Fail:http://opendap.co-ops.nos.noaa.gov/thredds/dodsC/CBOFS/fmrc/Aggregated_7_day_CBOFS_Fields_Forecast_best.ncd,503"
       ]
      },
      {
       "output_type": "stream",
       "stream": "stdout",
       "text": [
        "\r",
        "[1443]Fail:http://opendap.co-ops.nos.noaa.gov/thredds/dodsC/DBOFS/fmrc/Aggregated_7_day_DBOFS_Fields_Forecast_best.ncd,503\r",
        "[1444]Good:http://opendap.co-ops.nos.noaa.gov/thredds/dodsC/GBOFS/fmrc/Aggregated_7_day_GBOFS_Fields_Forecast_best.ncd,244.164536"
       ]
      },
      {
       "output_type": "stream",
       "stream": "stdout",
       "text": [
        "\r",
        "[1445]Fail:http://opendap.co-ops.nos.noaa.gov/thredds/dodsC/LEOFS/fmrc/Aggregated_7_day_LEOFS_Fields_Forecast_best.ncd,503\r",
        "[1446]Fail:http://opendap.co-ops.nos.noaa.gov/thredds/dodsC/LHOFS/fmrc/Aggregated_7_day_LHOFS_Fields_Forecast_best.ncd,503"
       ]
      },
      {
       "output_type": "stream",
       "stream": "stdout",
       "text": [
        "\r",
        "[1447]Fail:http://opendap.co-ops.nos.noaa.gov/thredds/dodsC/LMOFS/fmrc/Aggregated_7_day_LMOFS_Fields_Forecast_best.ncd,503\r",
        "[1448]Good:http://opendap.co-ops.nos.noaa.gov/thredds/dodsC/LOOFS/fmrc/Aggregated_7_day_LOOFS_Fields_Forecast_best.ncd,66.896856"
       ]
      },
      {
       "output_type": "stream",
       "stream": "stdout",
       "text": [
        "\r",
        "[1449]Fail:http://opendap.co-ops.nos.noaa.gov/thredds/dodsC/LSOFS/fmrc/Aggregated_7_day_LSOFS_Fields_Forecast_best.ncd,503\r",
        "[1450]Fail:http://opendap.co-ops.nos.noaa.gov/thredds/dodsC/NYOFS/fmrc/Aggregated_7_day_NYOFS_Fields_Forecast_best.ncd,503"
       ]
      },
      {
       "output_type": "stream",
       "stream": "stdout",
       "text": [
        "\r",
        "[1451]Fail:http://opendap.co-ops.nos.noaa.gov/thredds/dodsC/SJROFS/fmrc/Aggregated_7_day_SJROFS_Fields_Forecast_best.ncd,503\r",
        "[1452]Fail:http://opendap.co-ops.nos.noaa.gov/thredds/dodsC/TBOFS/fmrc/Aggregated_7_day_TBOFS_Fields_Forecast_best.ncd,-1"
       ]
      },
      {
       "output_type": "stream",
       "stream": "stdout",
       "text": [
        "\r",
        "[1453]Good:http://www.neracoos.org/thredds/dodsC/UMO/DSG/SOS/A01/Aanderaa/HistoricRealtime/Agg.ncml,2.555112"
       ]
      },
      {
       "output_type": "stream",
       "stream": "stdout",
       "text": [
        "\r",
        "[1454]Good:http://www.neracoos.org/thredds/dodsC/UMO/DSG/SOS/A01/Accelerometer/HistoricRealtime/Agg.ncml,2.872224"
       ]
      },
      {
       "output_type": "stream",
       "stream": "stdout",
       "text": [
        "\r",
        "[1455]Good:http://www.neracoos.org/thredds/dodsC/UMO/DSG/SOS/A01/CTD1m/HistoricRealtime/Agg.ncml,4.373472"
       ]
      },
      {
       "output_type": "stream",
       "stream": "stdout",
       "text": [
        "\r",
        "[1456]Good:http://www.neracoos.org/thredds/dodsC/UMO/DSG/SOS/A01/CTD20m/HistoricRealtime/Agg.ncml,3.502536\r",
        "[1457]Good:http://www.neracoos.org/thredds/dodsC/UMO/DSG/SOS/A01/Met/HistoricRealtime/Agg.ncml,14.027488"
       ]
      },
      {
       "output_type": "stream",
       "stream": "stdout",
       "text": [
        "\r",
        "[1458]Good:http://www.neracoos.org/thredds/dodsC/UMO/DSG/SOS/A01/OPTICS_S3m/HistoricRealtime/Agg.ncml,2.549088"
       ]
      },
      {
       "output_type": "stream",
       "stream": "stdout",
       "text": [
        "\r",
        "[1459]Good:http://www.neracoos.org/thredds/dodsC/UMO/DSG/SOS/A01/OPTODE51m/HistoricRealtime/Agg.ncml,1.77984"
       ]
      },
      {
       "output_type": "stream",
       "stream": "stdout",
       "text": [
        "\r",
        "[1460]Good:http://www.neracoos.org/thredds/dodsC/UMO/DSG/SOS/B01/Aanderaa/HistoricRealtime/Agg.ncml,3.151456"
       ]
      },
      {
       "output_type": "stream",
       "stream": "stdout",
       "text": [
        "\r",
        "[1461]Good:http://www.neracoos.org/thredds/dodsC/UMO/DSG/SOS/B01/Accelerometer/HistoricRealtime/Agg.ncml,2.913312"
       ]
      },
      {
       "output_type": "stream",
       "stream": "stdout",
       "text": [
        "\r",
        "[1462]Good:http://www.neracoos.org/thredds/dodsC/UMO/DSG/SOS/B01/CTD1m/HistoricRealtime/Agg.ncml,4.429896"
       ]
      },
      {
       "output_type": "stream",
       "stream": "stdout",
       "text": [
        "\r",
        "[1463]Good:http://www.neracoos.org/thredds/dodsC/UMO/DSG/SOS/B01/CTD20m/HistoricRealtime/Agg.ncml,3.896568"
       ]
      },
      {
       "output_type": "stream",
       "stream": "stdout",
       "text": [
        "\r",
        "[1464]Good:http://www.neracoos.org/thredds/dodsC/UMO/DSG/SOS/B01/CTD50m/HistoricRealtime/Agg.ncml,3.815376"
       ]
      },
      {
       "output_type": "stream",
       "stream": "stdout",
       "text": [
        "\r",
        "[1465]Good:http://www.neracoos.org/thredds/dodsC/UMO/DSG/SOS/B01/CTD52m/HistoricRealtime/Agg.ncml,0.000988"
       ]
      },
      {
       "output_type": "stream",
       "stream": "stdout",
       "text": [
        "\r",
        "[1466]Good:http://www.neracoos.org/thredds/dodsC/UMO/DSG/SOS/B01/Met/HistoricRealtime/Agg.ncml,13.99104"
       ]
      },
      {
       "output_type": "stream",
       "stream": "stdout",
       "text": [
        "\r",
        "[1467]Good:http://www.neracoos.org/thredds/dodsC/UMO/DSG/SOS/B01/Optics_a/Historic/Agg.ncml,0.687168"
       ]
      },
      {
       "output_type": "stream",
       "stream": "stdout",
       "text": [
        "\r",
        "[1468]Good:http://www.neracoos.org/thredds/dodsC/UMO/DSG/SOS/B01/Optics_d/Historic/Agg.ncml,0.169824"
       ]
      },
      {
       "output_type": "stream",
       "stream": "stdout",
       "text": [
        "\r",
        "[1469]Good:http://www.neracoos.org/thredds/dodsC/UMO/DSG/SOS/B01/Optics_s/Historic/Agg.ncml,0.72144"
       ]
      },
      {
       "output_type": "stream",
       "stream": "stdout",
       "text": [
        "\r",
        "[1470]Good:http://www.neracoos.org/thredds/dodsC/UMO/DSG/SOS/C02/Aanderaa/HistoricRealtime/Agg.ncml,1.481648"
       ]
      },
      {
       "output_type": "stream",
       "stream": "stdout",
       "text": [
        "\r",
        "[1471]Good:http://www.neracoos.org/thredds/dodsC/UMO/DSG/SOS/C02/Accelerometer/HistoricRealtime/Agg.ncml,1.331136"
       ]
      },
      {
       "output_type": "stream",
       "stream": "stdout",
       "text": [
        "\r",
        "[1472]Good:http://www.neracoos.org/thredds/dodsC/UMO/DSG/SOS/C02/CTD1m/HistoricRealtime/Agg.ncml,5.386488\r",
        "[1473]Good:http://www.neracoos.org/thredds/dodsC/UMO/DSG/SOS/C02/Met/HistoricRealtime/Agg.ncml,4.160768"
       ]
      },
      {
       "output_type": "stream",
       "stream": "stdout",
       "text": [
        "\r",
        "[1474]Good:http://www.neracoos.org/thredds/dodsC/UMO/DSG/SOS/E01/Aanderaa/HistoricRealtime/Agg.ncml,3.072972"
       ]
      },
      {
       "output_type": "stream",
       "stream": "stdout",
       "text": [
        "\r",
        "[1475]Good:http://www.neracoos.org/thredds/dodsC/UMO/DSG/SOS/E01/Accelerometer/HistoricRealtime/Agg.ncml,2.922128"
       ]
      },
      {
       "output_type": "stream",
       "stream": "stdout",
       "text": [
        "\r",
        "[1476]Good:http://www.neracoos.org/thredds/dodsC/UMO/DSG/SOS/E01/CTD1m/HistoricRealtime/Agg.ncml,4.32708"
       ]
      },
      {
       "output_type": "stream",
       "stream": "stdout",
       "text": [
        "\r",
        "[1477]Good:http://www.neracoos.org/thredds/dodsC/UMO/DSG/SOS/E01/CTD20m/HistoricRealtime/Agg.ncml,3.453384"
       ]
      },
      {
       "output_type": "stream",
       "stream": "stdout",
       "text": [
        "\r",
        "[1478]Good:http://www.neracoos.org/thredds/dodsC/UMO/DSG/SOS/E01/CTD50m/HistoricRealtime/Agg.ncml,3.452808"
       ]
      },
      {
       "output_type": "stream",
       "stream": "stdout",
       "text": [
        "\r",
        "[1479]Good:http://www.neracoos.org/thredds/dodsC/UMO/DSG/SOS/E01/CTD87m/HistoricRealtime/Agg.ncml,0.130052"
       ]
      },
      {
       "output_type": "stream",
       "stream": "stdout",
       "text": [
        "\r",
        "[1480]Good:http://www.neracoos.org/thredds/dodsC/UMO/DSG/SOS/E01/Met/HistoricRealtime/Agg.ncml,35.32352\r",
        "[1481]Good:http://www.neracoos.org/thredds/dodsC/UMO/DSG/SOS/E01/Optics_a/Historic/Agg.ncml,0.496928"
       ]
      },
      {
       "output_type": "stream",
       "stream": "stdout",
       "text": [
        "\r",
        "[1482]Good:http://www.neracoos.org/thredds/dodsC/UMO/DSG/SOS/E01/Optics_d/Historic/Agg.ncml,0.221424"
       ]
      },
      {
       "output_type": "stream",
       "stream": "stdout",
       "text": [
        "\r",
        "[1483]Good:http://www.neracoos.org/thredds/dodsC/UMO/DSG/SOS/E01/Optics_s/Historic/Agg.ncml,0.61896"
       ]
      },
      {
       "output_type": "stream",
       "stream": "stdout",
       "text": [
        "\r",
        "[1484]Good:http://www.neracoos.org/thredds/dodsC/UMO/DSG/SOS/F01/Aanderaa/HistoricRealtime/Agg.ncml,2.842392"
       ]
      },
      {
       "output_type": "stream",
       "stream": "stdout",
       "text": [
        "\r",
        "[1485]Good:http://www.neracoos.org/thredds/dodsC/UMO/DSG/SOS/F01/Accelerometer/HistoricRealtime/Agg.ncml,2.61112"
       ]
      },
      {
       "output_type": "stream",
       "stream": "stdout",
       "text": [
        "\r",
        "[1486]Good:http://www.neracoos.org/thredds/dodsC/UMO/DSG/SOS/F01/CTD1m/HistoricRealtime/Agg.ncml,3.881856\r",
        "[1487]Good:http://www.neracoos.org/thredds/dodsC/UMO/DSG/SOS/F01/CTD20m/HistoricRealtime/Agg.ncml,3.355536"
       ]
      },
      {
       "output_type": "stream",
       "stream": "stdout",
       "text": [
        "\r",
        "[1488]Good:http://www.neracoos.org/thredds/dodsC/UMO/DSG/SOS/F01/CTD50m/HistoricRealtime/Agg.ncml,3.02676"
       ]
      },
      {
       "output_type": "stream",
       "stream": "stdout",
       "text": [
        "\r",
        "[1489]Good:http://www.neracoos.org/thredds/dodsC/UMO/DSG/SOS/I01/Aanderaa/HistoricRealtime/Agg.ncml,3.165932"
       ]
      },
      {
       "output_type": "stream",
       "stream": "stdout",
       "text": [
        "\r",
        "[1490]Good:http://www.neracoos.org/thredds/dodsC/UMO/DSG/SOS/I01/Accelerometer/HistoricRealtime/Agg.ncml,2.930128"
       ]
      },
      {
       "output_type": "stream",
       "stream": "stdout",
       "text": [
        "\r",
        "[1491]Good:http://www.neracoos.org/thredds/dodsC/UMO/DSG/SOS/I01/CTD1m/HistoricRealtime/Agg.ncml,4.379112"
       ]
      },
      {
       "output_type": "stream",
       "stream": "stdout",
       "text": [
        "\r",
        "[1492]Good:http://www.neracoos.org/thredds/dodsC/UMO/DSG/SOS/I01/CTD20m/HistoricRealtime/Agg.ncml,3.349632"
       ]
      },
      {
       "output_type": "stream",
       "stream": "stdout",
       "text": [
        "\r",
        "[1493]Good:http://www.neracoos.org/thredds/dodsC/UMO/DSG/SOS/I01/CTD50m/HistoricRealtime/Agg.ncml,3.43248"
       ]
      },
      {
       "output_type": "stream",
       "stream": "stdout",
       "text": [
        "\r",
        "[1494]Good:http://www.neracoos.org/thredds/dodsC/UMO/DSG/SOS/I01/CTD87m/HistoricRealtime/Agg.ncml,0.129844"
       ]
      },
      {
       "output_type": "stream",
       "stream": "stdout",
       "text": [
        "\r",
        "[1495]Good:http://www.neracoos.org/thredds/dodsC/UMO/DSG/SOS/I01/Optics_a/Historic/Agg.ncml,0.517488"
       ]
      },
      {
       "output_type": "stream",
       "stream": "stdout",
       "text": [
        "\r",
        "[1496]Good:http://www.neracoos.org/thredds/dodsC/UMO/DSG/SOS/I01/Optics_d/Historic/Agg.ncml,0.194384"
       ]
      },
      {
       "output_type": "stream",
       "stream": "stdout",
       "text": [
        "\r",
        "[1497]Good:http://www.neracoos.org/thredds/dodsC/UMO/DSG/SOS/I01/Optics_s/Historic/Agg.ncml,0.71254"
       ]
      },
      {
       "output_type": "stream",
       "stream": "stdout",
       "text": [
        "\r",
        "[1498]Good:http://www.neracoos.org/thredds/dodsC/UMO/DSG/SOS/J02/Aanderaa/HistoricRealtime/Agg.ncml,1.18678"
       ]
      },
      {
       "output_type": "stream",
       "stream": "stdout",
       "text": [
        "\r",
        "[1499]Good:http://www.neracoos.org/thredds/dodsC/UMO/DSG/SOS/J02/Accelerometer/HistoricRealtime/Agg.ncml,0.835136"
       ]
      },
      {
       "output_type": "stream",
       "stream": "stdout",
       "text": [
        "\r",
        "[1500]Good:http://www.neracoos.org/thredds/dodsC/UMO/DSG/SOS/J02/CTD1m/HistoricRealtime/Agg.ncml,2.00592"
       ]
      },
      {
       "output_type": "stream",
       "stream": "stdout",
       "text": [
        "\r",
        "[1501]Good:http://www.neracoos.org/thredds/dodsC/UMO/DSG/SOS/J02/CTD10m/HistoricRealtime/Agg.ncml,1.252992"
       ]
      },
      {
       "output_type": "stream",
       "stream": "stdout",
       "text": [
        "\r",
        "[1502]Good:http://www.neracoos.org/thredds/dodsC/UMO/DSG/SOS/J02/Met/HistoricRealtime/Agg.ncml,3.129696"
       ]
      },
      {
       "output_type": "stream",
       "stream": "stdout",
       "text": [
        "\r",
        "[1503]Good:http://www.neracoos.org/thredds/dodsC/UMO/DSG/SOS/L01/Aanderaa/HistoricRealtime/Agg.ncml,1.259384"
       ]
      },
      {
       "output_type": "stream",
       "stream": "stdout",
       "text": [
        "\r",
        "[1504]Good:http://www.neracoos.org/thredds/dodsC/UMO/DSG/SOS/L01/Accelerometer/HistoricRealtime/Agg.ncml,1.063808"
       ]
      },
      {
       "output_type": "stream",
       "stream": "stdout",
       "text": [
        "\r",
        "[1505]Good:http://www.neracoos.org/thredds/dodsC/UMO/DSG/SOS/L01/CTD1m/HistoricRealtime/Agg.ncml,1.479984"
       ]
      },
      {
       "output_type": "stream",
       "stream": "stdout",
       "text": [
        "\r",
        "[1506]Good:http://www.neracoos.org/thredds/dodsC/UMO/DSG/SOS/L01/CTD20m/HistoricRealtime/Agg.ncml,1.28736"
       ]
      },
      {
       "output_type": "stream",
       "stream": "stdout",
       "text": [
        "\r",
        "[1507]Good:http://www.neracoos.org/thredds/dodsC/UMO/DSG/SOS/L01/CTD50m/HistoricRealtime/Agg.ncml,1.360152"
       ]
      },
      {
       "output_type": "stream",
       "stream": "stdout",
       "text": [
        "\r",
        "[1508]Fail:http://www.neracoos.org/thredds/dodsC/UMO/DSG/SOS/L01/Met/HistoricRealtime/Agg.ncml,-1"
       ]
      },
      {
       "output_type": "stream",
       "stream": "stdout",
       "text": [
        "\r",
        "[1509]Fail:http://www.neracoos.org/thredds/dodsC/UMO/DSG/SOS/M01/Aanderaa/HistoricRealtime/Agg.ncml,-1"
       ]
      },
      {
       "output_type": "stream",
       "stream": "stdout",
       "text": [
        "\r",
        "[1510]Good:http://www.neracoos.org/thredds/dodsC/UMO/DSG/SOS/M01/Accelerometer/HistoricRealtime/Agg.ncml,1.958448"
       ]
      },
      {
       "output_type": "stream",
       "stream": "stdout",
       "text": [
        "\r",
        "[1511]Good:http://www.neracoos.org/thredds/dodsC/UMO/DSG/SOS/M01/CTD1m/HistoricRealtime/Agg.ncml,6.4376"
       ]
      },
      {
       "output_type": "stream",
       "stream": "stdout",
       "text": [
        "\r",
        "[1512]Good:http://www.neracoos.org/thredds/dodsC/UMO/DSG/SOS/M01/CTD20m/HistoricRealtime/Agg.ncml,5.32236"
       ]
      },
      {
       "output_type": "stream",
       "stream": "stdout",
       "text": [
        "\r",
        "[1513]Good:http://www.neracoos.org/thredds/dodsC/UMO/DSG/SOS/M01/CTD50m/HistoricRealtime/Agg.ncml,5.40088"
       ]
      },
      {
       "output_type": "stream",
       "stream": "stdout",
       "text": [
        "\r",
        "[1514]Good:http://www.neracoos.org/thredds/dodsC/UMO/DSG/SOS/M01/CTD100m/HistoricRealtime/Agg.ncml,5.3628"
       ]
      },
      {
       "output_type": "stream",
       "stream": "stdout",
       "text": [
        "\r",
        "[1515]Good:http://www.neracoos.org/thredds/dodsC/UMO/DSG/SOS/M01/CTD150m/HistoricRealtime/Agg.ncml,5.12288"
       ]
      },
      {
       "output_type": "stream",
       "stream": "stdout",
       "text": [
        "\r",
        "[1516]Good:http://www.neracoos.org/thredds/dodsC/UMO/DSG/SOS/M01/CTD200m/HistoricRealtime/Agg.ncml,5.37856"
       ]
      },
      {
       "output_type": "stream",
       "stream": "stdout",
       "text": [
        "\r",
        "[1517]Good:http://www.neracoos.org/thredds/dodsC/UMO/DSG/SOS/M01/CTD250m/HistoricRealtime/Agg.ncml,3.01836"
       ]
      },
      {
       "output_type": "stream",
       "stream": "stdout",
       "text": [
        "\r",
        "[1518]Good:http://www.neracoos.org/thredds/dodsC/UMO/DSG/SOS/M01/Met/HistoricRealtime/Agg.ncml,13.510304\r",
        "[1519]Good:http://www.neracoos.org/thredds/dodsC/UMO/DSG/SOS/M01/Optics_a/Historic/Agg.ncml,0.107152"
       ]
      },
      {
       "output_type": "stream",
       "stream": "stdout",
       "text": [
        "\r",
        "[1520]Good:http://www.neracoos.org/thredds/dodsC/UMO/DSG/SOS/M01/Optics_d/Historic/Agg.ncml,0.150704"
       ]
      },
      {
       "output_type": "stream",
       "stream": "stdout",
       "text": [
        "\r",
        "[1521]Good:http://www.neracoos.org/thredds/dodsC/UMO/DSG/SOS/M01/Optics_s5m/Historic/Agg.ncml,0.034928"
       ]
      },
      {
       "output_type": "stream",
       "stream": "stdout",
       "text": [
        "\r",
        "[1522]Good:http://www.neracoos.org/thredds/dodsC/UMO/DSG/SOS/M01/Optics_s18m/Historic/Agg.ncml,0.034752"
       ]
      },
      {
       "output_type": "stream",
       "stream": "stdout",
       "text": [
        "\r",
        "[1523]Good:http://www.neracoos.org/thredds/dodsC/UMO/DSG/SOS/M01/Optics_s/Historic/Agg.ncml,0.506688"
       ]
      },
      {
       "output_type": "stream",
       "stream": "stdout",
       "text": [
        "\r",
        "[1524]Good:http://www.neracoos.org/thredds/dodsC/UMO/DSG/SOS/N01/Aanderaa/HistoricRealtime/Agg.ncml,2.397584"
       ]
      },
      {
       "output_type": "stream",
       "stream": "stdout",
       "text": [
        "\r",
        "[1525]Good:http://www.neracoos.org/thredds/dodsC/UMO/DSG/SOS/N01/Accelerometer/HistoricRealtime/Agg.ncml,2.476384"
       ]
      },
      {
       "output_type": "stream",
       "stream": "stdout",
       "text": [
        "\r",
        "[1526]Good:http://www.neracoos.org/thredds/dodsC/UMO/DSG/SOS/N01/CTD1m/HistoricRealtime/Agg.ncml,3.607872\r",
        "[1527]Good:http://www.neracoos.org/thredds/dodsC/UMO/DSG/SOS/N01/CTD20m/HistoricRealtime/Agg.ncml,2.380152"
       ]
      },
      {
       "output_type": "stream",
       "stream": "stdout",
       "text": [
        "\r",
        "[1528]Good:http://www.neracoos.org/thredds/dodsC/UMO/DSG/SOS/N01/CTD50m/HistoricRealtime/Agg.ncml,2.680536"
       ]
      },
      {
       "output_type": "stream",
       "stream": "stdout",
       "text": [
        "\r",
        "[1529]Good:http://www.neracoos.org/thredds/dodsC/UMO/DSG/SOS/N01/CTD100m/HistoricRealtime/Agg.ncml,2.622264"
       ]
      },
      {
       "output_type": "stream",
       "stream": "stdout",
       "text": [
        "\r",
        "[1530]Good:http://www.neracoos.org/thredds/dodsC/UMO/DSG/SOS/N01/CTD150m/HistoricRealtime/Agg.ncml,2.677368"
       ]
      },
      {
       "output_type": "stream",
       "stream": "stdout",
       "text": [
        "\r",
        "[1531]Good:http://www.neracoos.org/thredds/dodsC/UMO/DSG/SOS/N01/CTD180m/HistoricRealtime/Agg.ncml,2.677632"
       ]
      },
      {
       "output_type": "stream",
       "stream": "stdout",
       "text": [
        "\r",
        "[1532]Good:http://www.neracoos.org/thredds/dodsC/UMO/DSG/SOS/N01/Met/HistoricRealtime/Agg.ncml,12.339424\r",
        "[1533]Good:http://www.smast.umassd.edu:8080/thredds/dodsC/FVCOM/NECOFS/Forecasts/NECOFS_FVCOM_OCEAN_MASSBAY_FORECAST.nc,4281.51868"
       ]
      },
      {
       "output_type": "stream",
       "stream": "stdout",
       "text": [
        "\r",
        "[1534]Good:http://www.smast.umassd.edu:8080/thredds/dodsC/FVCOM/NECOFS/Forecasts/NECOFS_GOM3_FORECAST.nc,9255.321292\r",
        "[1535]Good:http://www.smast.umassd.edu:8080/thredds/dodsC/FVCOM/NECOFS/Forecasts/NECOFS_MET_FORECAST.nc,52.947756"
       ]
      },
      {
       "output_type": "stream",
       "stream": "stdout",
       "text": [
        "\r",
        "[1536]Good:http://www.neracoos.org/thredds/dodsC/WW3/EastCoast.nc,9.886236"
       ]
      },
      {
       "output_type": "stream",
       "stream": "stdout",
       "text": [
        "\r",
        "[1537]Good:http://www.neracoos.org/thredds/dodsC/WW3/GulfOfMaine.nc,1.633406"
       ]
      },
      {
       "output_type": "stream",
       "stream": "stdout",
       "text": [
        "\r",
        "[1538]Good:http://www.neracoos.org/thredds/dodsC/WW3/Historical/GulfOfMaine_20140627_0000.nc,1.633406"
       ]
      },
      {
       "output_type": "stream",
       "stream": "stdout",
       "text": [
        "\r",
        "[1539]Good:http://www.neracoos.org/thredds/dodsC/WW3/Historical/GulfOfMaine_20140627_1200.nc,1.633406"
       ]
      },
      {
       "output_type": "stream",
       "stream": "stdout",
       "text": [
        "\r",
        "[1540]Good:http://www.neracoos.org/thredds/dodsC/WW3/Historical/GulfOfMaine_20140628_0000.nc,1.633406"
       ]
      },
      {
       "output_type": "stream",
       "stream": "stdout",
       "text": [
        "\r",
        "[1541]Good:http://www.neracoos.org/thredds/dodsC/WW3/Historical/GulfOfMaine_20140628_1200.nc,1.633406"
       ]
      },
      {
       "output_type": "stream",
       "stream": "stdout",
       "text": [
        "\r",
        "[1542]Good:http://www.neracoos.org/thredds/dodsC/WW3/Historical/GulfOfMaine_20140629_0000.nc,1.633406"
       ]
      },
      {
       "output_type": "stream",
       "stream": "stdout",
       "text": [
        "\r",
        "[1543]Good:http://www.neracoos.org/thredds/dodsC/WW3/Historical/GulfOfMaine_20140629_1200.nc,1.633406"
       ]
      },
      {
       "output_type": "stream",
       "stream": "stdout",
       "text": [
        "\r",
        "[1544]Good:http://www.neracoos.org/thredds/dodsC/WW3/Historical/GulfOfMaine_20140630_0000.nc,1.633406"
       ]
      },
      {
       "output_type": "stream",
       "stream": "stdout",
       "text": [
        "\r",
        "[1545]Good:http://www.neracoos.org/thredds/dodsC/WW3/Historical/GulfOfMaine_20140630_1200.nc,1.633406"
       ]
      },
      {
       "output_type": "stream",
       "stream": "stdout",
       "text": [
        "\r",
        "[1546]Good:http://www.neracoos.org/thredds/dodsC/WW3/Historical/GulfOfMaine_20140701_1200.nc,1.633406"
       ]
      },
      {
       "output_type": "stream",
       "stream": "stdout",
       "text": [
        "\r",
        "[1547]Good:http://www.neracoos.org/thredds/dodsC/WW3/Historical/GulfOfMaine_20140702_0000.nc,1.633406"
       ]
      },
      {
       "output_type": "stream",
       "stream": "stdout",
       "text": [
        "\r",
        "[1548]Good:http://www.neracoos.org/thredds/dodsC/WW3/Historical/GulfOfMaine_20140703_0000.nc,1.633406"
       ]
      },
      {
       "output_type": "stream",
       "stream": "stdout",
       "text": [
        "\r",
        "[1549]Good:http://www.neracoos.org/thredds/dodsC/WW3/Historical/GulfOfMaine_20140703_1200.nc,1.633406\r",
        "[1550]Good:http://www.neracoos.org/thredds/dodsC/WW3/Historical/GulfOfMaine_20140704_0000.nc,1.633406"
       ]
      },
      {
       "output_type": "stream",
       "stream": "stdout",
       "text": [
        "\r",
        "[1551]Good:http://www.neracoos.org/thredds/dodsC/WW3/Historical/GulfOfMaine_20140704_1200.nc,1.633406"
       ]
      },
      {
       "output_type": "stream",
       "stream": "stdout",
       "text": [
        "\r",
        "[1552]Good:http://www.neracoos.org/thredds/dodsC/WW3/Historical/GulfOfMaine_20140705_0000.nc,1.633406"
       ]
      },
      {
       "output_type": "stream",
       "stream": "stdout",
       "text": [
        "\r",
        "[1553]Good:http://www.neracoos.org/thredds/dodsC/WW3/Historical/GulfOfMaine_20140705_1200.nc,1.633406"
       ]
      },
      {
       "output_type": "stream",
       "stream": "stdout",
       "text": [
        "\r",
        "[1554]Good:http://www.neracoos.org/thredds/dodsC/WW3/Historical/GulfOfMaine_20140706_0000.nc,1.633406"
       ]
      },
      {
       "output_type": "stream",
       "stream": "stdout",
       "text": [
        "\r",
        "[1555]Good:http://www.neracoos.org/thredds/dodsC/WW3/Historical/GulfOfMaine_20140706_1200.nc,1.633406\r",
        "[1556]Good:http://www.neracoos.org/thredds/dodsC/WW3/Historical/GulfOfMaine_20140707_0000.nc,1.633406"
       ]
      },
      {
       "output_type": "stream",
       "stream": "stdout",
       "text": [
        "\r",
        "[1557]Good:http://www.neracoos.org/thredds/dodsC/WW3/Historical/GulfOfMaine_20140707_1200.nc,1.633406"
       ]
      },
      {
       "output_type": "stream",
       "stream": "stdout",
       "text": [
        "\r",
        "[1558]Good:http://www.neracoos.org/thredds/dodsC/WW3/Historical/GulfOfMaine_20140708_0000.nc,1.633406"
       ]
      },
      {
       "output_type": "stream",
       "stream": "stdout",
       "text": [
        "\r",
        "[1559]Good:http://www.neracoos.org/thredds/dodsC/WW3/Historical/GulfOfMaine_20140708_1200.nc,1.633406"
       ]
      },
      {
       "output_type": "stream",
       "stream": "stdout",
       "text": [
        "\r",
        "[1560]Good:http://www.neracoos.org/thredds/dodsC/WW3/Historical/GulfOfMaine_20140709_0000.nc,1.633406"
       ]
      },
      {
       "output_type": "stream",
       "stream": "stdout",
       "text": [
        "\r",
        "[1561]Good:http://www.neracoos.org/thredds/dodsC/WW3/Historical/GulfOfMaine_20140709_1200.nc,1.633406"
       ]
      },
      {
       "output_type": "stream",
       "stream": "stdout",
       "text": [
        "\r",
        "[1562]Good:http://www.neracoos.org/thredds/dodsC/WW3/Historical/GulfOfMaine_20140710_0000.nc,1.633406"
       ]
      },
      {
       "output_type": "stream",
       "stream": "stdout",
       "text": [
        "\r",
        "[1563]Good:http://www.neracoos.org/thredds/dodsC/WW3/Historical/GulfOfMaine_20140710_1200.nc,1.633406\r",
        "[1564]Good:http://www.neracoos.org/thredds/dodsC/WW3/Historical/GulfOfMaine_20140711_0000.nc,1.633406"
       ]
      },
      {
       "output_type": "stream",
       "stream": "stdout",
       "text": [
        "\r",
        "[1565]Good:http://www.neracoos.org/thredds/dodsC/WW3/Historical/GulfOfMaine_20140711_1200.nc,1.633406"
       ]
      },
      {
       "output_type": "stream",
       "stream": "stdout",
       "text": [
        "\r",
        "[1566]Good:http://www.neracoos.org/thredds/dodsC/WW3/Historical/GulfOfMaine_20140712_0000.nc,1.633406"
       ]
      },
      {
       "output_type": "stream",
       "stream": "stdout",
       "text": [
        "\r",
        "[1567]Good:http://www.neracoos.org/thredds/dodsC/WW3/Historical/GulfOfMaine_20140712_1200.nc,1.633406\r",
        "[1568]Good:http://www.neracoos.org/thredds/dodsC/WW3/Historical/GulfOfMaine_20140713_0000.nc,1.633406"
       ]
      },
      {
       "output_type": "stream",
       "stream": "stdout",
       "text": [
        "\r",
        "[1569]Good:http://www.neracoos.org/thredds/dodsC/WW3/Historical/GulfOfMaine_20140713_1200.nc,1.633406"
       ]
      },
      {
       "output_type": "stream",
       "stream": "stdout",
       "text": [
        "\r",
        "[1570]Good:http://www.neracoos.org/thredds/dodsC/WW3/Historical/GulfOfMaine_20140714_0000.nc,1.633406"
       ]
      },
      {
       "output_type": "stream",
       "stream": "stdout",
       "text": [
        "\r",
        "[1571]Good:http://www.neracoos.org/thredds/dodsC/WW3/Historical/GulfOfMaine_20140714_1200.nc,1.633406"
       ]
      },
      {
       "output_type": "stream",
       "stream": "stdout",
       "text": [
        "\r",
        "[1572]Good:http://www.neracoos.org/thredds/dodsC/WW3/Historical/GulfOfMaine_20140715_0000.nc,1.633406"
       ]
      },
      {
       "output_type": "stream",
       "stream": "stdout",
       "text": [
        "\r",
        "[1573]Good:http://www.neracoos.org/thredds/dodsC/WW3/Historical/GulfOfMaine_20140715_1200.nc,1.633406"
       ]
      },
      {
       "output_type": "stream",
       "stream": "stdout",
       "text": [
        "\r",
        "[1574]Good:http://www.neracoos.org/thredds/dodsC/WW3/Historical/GulfOfMaine_20140716_0000.nc,1.633406\r",
        "[1575]Good:http://www.neracoos.org/thredds/dodsC/WW3/Historical/GulfOfMaine_20140716_1200.nc,1.633406"
       ]
      },
      {
       "output_type": "stream",
       "stream": "stdout",
       "text": [
        "\r",
        "[1576]Good:http://www.neracoos.org/thredds/dodsC/WW3/Historical/GulfOfMaine_20140717_1200.nc,1.633406"
       ]
      },
      {
       "output_type": "stream",
       "stream": "stdout",
       "text": [
        "\r",
        "[1577]Good:http://www.neracoos.org/thredds/dodsC/WW3/Historical/GulfOfMaine_20140718_0000.nc,1.633406"
       ]
      },
      {
       "output_type": "stream",
       "stream": "stdout",
       "text": [
        "\r",
        "[1578]Good:http://www.neracoos.org/thredds/dodsC/WW3/Historical/GulfOfMaine_20140718_1200.nc,1.633406"
       ]
      },
      {
       "output_type": "stream",
       "stream": "stdout",
       "text": [
        "\r",
        "[1579]Good:http://www.neracoos.org/thredds/dodsC/WW3/Historical/GulfOfMaine_20140719_0000.nc,1.633406"
       ]
      },
      {
       "output_type": "stream",
       "stream": "stdout",
       "text": [
        "\r",
        "[1580]Good:http://www.neracoos.org/thredds/dodsC/WW3/Historical/GulfOfMaine_20140719_1200.nc,1.633406"
       ]
      },
      {
       "output_type": "stream",
       "stream": "stdout",
       "text": [
        "\r",
        "[1581]Good:http://www.neracoos.org/thredds/dodsC/WW3/Historical/GulfOfMaine_20140720_0000.nc,1.633406\r",
        "[1582]Good:http://www.neracoos.org/thredds/dodsC/WW3/Historical/GulfOfMaine_20140720_1200.nc,1.633406"
       ]
      },
      {
       "output_type": "stream",
       "stream": "stdout",
       "text": [
        "\r",
        "[1583]Good:http://www.neracoos.org/thredds/dodsC/WW3/Historical/GulfOfMaine_20140721_0000.nc,1.633406"
       ]
      },
      {
       "output_type": "stream",
       "stream": "stdout",
       "text": [
        "\r",
        "[1584]Good:http://www.neracoos.org/thredds/dodsC/WW3/Historical/GulfOfMaine_20140721_1200.nc,1.633406\r",
        "[1585]Good:http://www.neracoos.org/thredds/dodsC/WW3/Historical/GulfOfMaine_20140722_0000.nc,1.633406"
       ]
      },
      {
       "output_type": "stream",
       "stream": "stdout",
       "text": [
        "\r",
        "[1586]Good:http://www.neracoos.org/thredds/dodsC/WW3/Historical/GulfOfMaine_20140722_1200.nc,1.633406\r",
        "[1587]Good:http://www.neracoos.org/thredds/dodsC/WW3/Historical/GulfOfMaine_20140723_0000.nc,1.633406"
       ]
      },
      {
       "output_type": "stream",
       "stream": "stdout",
       "text": [
        "\r",
        "[1588]Good:http://www.neracoos.org/thredds/dodsC/WW3/Historical/GulfOfMaine_20140723_1200.nc,1.633406\r",
        "[1589]Good:http://www.neracoos.org/thredds/dodsC/WW3/Historical/GulfOfMaine_20140724_0000.nc,1.633406"
       ]
      },
      {
       "output_type": "stream",
       "stream": "stdout",
       "text": [
        "\r",
        "[1590]Good:http://www.neracoos.org/thredds/dodsC/WW3/Historical/GulfOfMaine_20140724_1200.nc,1.633406"
       ]
      },
      {
       "output_type": "stream",
       "stream": "stdout",
       "text": [
        "\r",
        "[1591]Good:http://www.neracoos.org/thredds/dodsC/WW3/Historical/GulfOfMaine_20140725_0000.nc,1.633406"
       ]
      },
      {
       "output_type": "stream",
       "stream": "stdout",
       "text": [
        "\r",
        "[1592]Good:http://www.neracoos.org/thredds/dodsC/WW3/Historical/GulfOfMaine_20140725_1200.nc,1.633406\r",
        "[1593]Good:http://www.neracoos.org/thredds/dodsC/WW3/Historical/GulfOfMaine_20140726_0000.nc,1.633406"
       ]
      },
      {
       "output_type": "stream",
       "stream": "stdout",
       "text": [
        "\r",
        "[1594]Good:http://www.neracoos.org/thredds/dodsC/WW3/Historical/GulfOfMaine_20140726_1200.nc,1.633406"
       ]
      },
      {
       "output_type": "stream",
       "stream": "stdout",
       "text": [
        "\r",
        "[1595]Good:http://www.neracoos.org/thredds/dodsC/WW3/Historical/GulfOfMaine_20140727_0000.nc,1.633406\r",
        "[1596]Good:http://www.neracoos.org/thredds/dodsC/WW3/Historical/GulfOfMaine_20140727_1200.nc,1.633406"
       ]
      },
      {
       "output_type": "stream",
       "stream": "stdout",
       "text": [
        "\r",
        "[1597]Good:http://www.neracoos.org/thredds/dodsC/WW3/Historical/GulfOfMaine_20140728_0000.nc,1.633406"
       ]
      },
      {
       "output_type": "stream",
       "stream": "stdout",
       "text": [
        "\r",
        "[1598]Good:http://www.neracoos.org/thredds/dodsC/WW3/Historical/GulfOfMaine_20140728_1200.nc,1.633406\r",
        "[1599]Good:http://www.neracoos.org/thredds/dodsC/WW3/Historical/GulfOfMaine_20140729_0000.nc,1.633406"
       ]
      },
      {
       "output_type": "stream",
       "stream": "stdout",
       "text": [
        "\r",
        "[1600]Good:http://www.neracoos.org/thredds/dodsC/WW3/Historical/GulfOfMaine_20140729_1200.nc,1.633406"
       ]
      },
      {
       "output_type": "stream",
       "stream": "stdout",
       "text": [
        "\r",
        "[1601]Good:http://www.neracoos.org/thredds/dodsC/WW3/Historical/GulfOfMaine_20140730_0000.nc,1.633406"
       ]
      },
      {
       "output_type": "stream",
       "stream": "stdout",
       "text": [
        "\r",
        "[1602]Good:http://www.neracoos.org/thredds/dodsC/WW3/Historical/GulfOfMaine_20140730_1200.nc,1.633406"
       ]
      },
      {
       "output_type": "stream",
       "stream": "stdout",
       "text": [
        "\r",
        "[1603]Good:http://www.neracoos.org/thredds/dodsC/WW3/Historical/GulfOfMaine_20140731_0000.nc,1.633406"
       ]
      },
      {
       "output_type": "stream",
       "stream": "stdout",
       "text": [
        "\r",
        "[1604]Good:http://www.neracoos.org/thredds/dodsC/WW3/Historical/GulfOfMaine_20140731_1200.nc,1.633406"
       ]
      },
      {
       "output_type": "stream",
       "stream": "stdout",
       "text": [
        "\r",
        "[1605]Good:http://www.neracoos.org/thredds/dodsC/WW3/Historical/GulfOfMaine_20140801_0000.nc,1.633406"
       ]
      },
      {
       "output_type": "stream",
       "stream": "stdout",
       "text": [
        "\r",
        "[1606]Good:http://www.neracoos.org/thredds/dodsC/WW3/Historical/GulfOfMaine_20140801_1200.nc,1.633406"
       ]
      },
      {
       "output_type": "stream",
       "stream": "stdout",
       "text": [
        "\r",
        "[1607]Good:http://www.neracoos.org/thredds/dodsC/WW3/Historical/GulfOfMaine_20140802_0000.nc,1.633406"
       ]
      },
      {
       "output_type": "stream",
       "stream": "stdout",
       "text": [
        "\r",
        "[1608]Good:http://www.neracoos.org/thredds/dodsC/WW3/Historical/GulfOfMaine_20140802_1200.nc,1.633406\r",
        "[1609]Good:http://www.neracoos.org/thredds/dodsC/WW3/Historical/GulfOfMaine_20140803_0000.nc,1.633406"
       ]
      },
      {
       "output_type": "stream",
       "stream": "stdout",
       "text": [
        "\r",
        "[1610]Good:http://www.neracoos.org/thredds/dodsC/WW3/Historical/GulfOfMaine_20140803_1200.nc,1.633406"
       ]
      },
      {
       "output_type": "stream",
       "stream": "stdout",
       "text": [
        "\r",
        "[1611]Good:http://www.neracoos.org/thredds/dodsC/WW3/Historical/GulfOfMaine_20140804_0000.nc,1.633406"
       ]
      },
      {
       "output_type": "stream",
       "stream": "stdout",
       "text": [
        "\r",
        "[1612]Good:http://www.neracoos.org/thredds/dodsC/WW3/Historical/GulfOfMaine_20140804_1200.nc,1.633406"
       ]
      },
      {
       "output_type": "stream",
       "stream": "stdout",
       "text": [
        "\r",
        "[1613]Good:http://www.neracoos.org/thredds/dodsC/WW3/Historical/GulfOfMaine_20140805_0000.nc,1.633406"
       ]
      },
      {
       "output_type": "stream",
       "stream": "stdout",
       "text": [
        "\r",
        "[1614]Good:http://www.neracoos.org/thredds/dodsC/WW3/Historical/GulfOfMaine_20140805_1200.nc,1.633406\r",
        "[1615]Good:http://www.neracoos.org/thredds/dodsC/WW3/Historical/GulfOfMaine_20140806_0000.nc,1.633406"
       ]
      },
      {
       "output_type": "stream",
       "stream": "stdout",
       "text": [
        "\r",
        "[1616]Good:http://www.neracoos.org/thredds/dodsC/WW3/Historical/GulfOfMaine_20140806_1200.nc,1.633406\r",
        "[1617]Good:http://www.neracoos.org/thredds/dodsC/WW3/Historical/GulfOfMaine_20140807_0000.nc,1.633406"
       ]
      },
      {
       "output_type": "stream",
       "stream": "stdout",
       "text": [
        "\r",
        "[1618]Good:http://www.neracoos.org/thredds/dodsC/WW3/Historical/GulfOfMaine_20140807_1200.nc,1.633406"
       ]
      },
      {
       "output_type": "stream",
       "stream": "stdout",
       "text": [
        "\r",
        "[1619]Good:http://www.neracoos.org/thredds/dodsC/WW3/Historical/GulfOfMaine_20140808_0000.nc,1.633406"
       ]
      },
      {
       "output_type": "stream",
       "stream": "stdout",
       "text": [
        "\r",
        "[1620]Good:http://www.neracoos.org/thredds/dodsC/WW3/Historical/GulfOfMaine_20140808_1200.nc,1.633406"
       ]
      },
      {
       "output_type": "stream",
       "stream": "stdout",
       "text": [
        "\r",
        "[1621]Good:http://www.neracoos.org/thredds/dodsC/WW3/Historical/GulfOfMaine_20140809_0000.nc,1.633406\r",
        "[1622]Good:http://www.neracoos.org/thredds/dodsC/WW3/Historical/GulfOfMaine_20140809_1200.nc,1.633406"
       ]
      },
      {
       "output_type": "stream",
       "stream": "stdout",
       "text": [
        "\r",
        "[1623]Good:http://www.neracoos.org/thredds/dodsC/WW3/Historical/GulfOfMaine_20140810_0000.nc,1.633406"
       ]
      },
      {
       "output_type": "stream",
       "stream": "stdout",
       "text": [
        "\r",
        "[1624]Good:http://www.neracoos.org/thredds/dodsC/WW3/Historical/GulfOfMaine_20140810_1200.nc,1.633406\r",
        "[1625]Good:http://www.neracoos.org/thredds/dodsC/WW3/Historical/GulfOfMaine_20140811_0000.nc,1.633406"
       ]
      },
      {
       "output_type": "stream",
       "stream": "stdout",
       "text": [
        "\r",
        "[1626]Good:http://www.neracoos.org/thredds/dodsC/WW3/Historical/GulfOfMaine_20140811_1200.nc,1.633406"
       ]
      },
      {
       "output_type": "stream",
       "stream": "stdout",
       "text": [
        "\r",
        "[1627]Good:http://www.neracoos.org/thredds/dodsC/WW3/Historical/GulfOfMaine_20140812_0000.nc,1.633406\r",
        "[1628]Good:http://www.neracoos.org/thredds/dodsC/WW3/Historical/GulfOfMaine_20140812_1200.nc,1.633406"
       ]
      },
      {
       "output_type": "stream",
       "stream": "stdout",
       "text": [
        "\r",
        "[1629]Good:http://www.neracoos.org/thredds/dodsC/WW3/Historical/GulfOfMaine_20140813_0000.nc,1.633406"
       ]
      },
      {
       "output_type": "stream",
       "stream": "stdout",
       "text": [
        "\r",
        "[1630]Good:http://www.neracoos.org/thredds/dodsC/WW3/Historical/GulfOfMaine_20140813_1200.nc,1.633406\r",
        "[1631]Good:http://www.neracoos.org/thredds/dodsC/WW3/Historical/GulfOfMaine_20140814_0000.nc,1.633406"
       ]
      },
      {
       "output_type": "stream",
       "stream": "stdout",
       "text": [
        "\r",
        "[1632]Good:http://www.neracoos.org/thredds/dodsC/WW3/Historical/GulfOfMaine_20140814_1200.nc,1.633406"
       ]
      },
      {
       "output_type": "stream",
       "stream": "stdout",
       "text": [
        "\r",
        "[1633]Good:http://www.neracoos.org/thredds/dodsC/WW3/Historical/GulfOfMaine_20140815_0000.nc,1.633406"
       ]
      },
      {
       "output_type": "stream",
       "stream": "stdout",
       "text": [
        "\r",
        "[1634]Good:http://www.neracoos.org/thredds/dodsC/WW3/Historical/GulfOfMaine_20140815_1200.nc,1.633406"
       ]
      },
      {
       "output_type": "stream",
       "stream": "stdout",
       "text": [
        "\r",
        "[1635]Good:http://www.neracoos.org/thredds/dodsC/WW3/Historical/GulfOfMaine_20140816_0000.nc,1.633406"
       ]
      },
      {
       "output_type": "stream",
       "stream": "stdout",
       "text": [
        "\r",
        "[1636]Good:http://www.neracoos.org/thredds/dodsC/WW3/Historical/GulfOfMaine_20140816_1200.nc,1.633406\r",
        "[1637]Good:http://www.neracoos.org/thredds/dodsC/WW3/Historical/GulfOfMaine_20140817_0000.nc,1.633406"
       ]
      },
      {
       "output_type": "stream",
       "stream": "stdout",
       "text": [
        "\r",
        "[1638]Good:http://www.neracoos.org/thredds/dodsC/WW3/Historical/GulfOfMaine_20140817_1200.nc,1.633406"
       ]
      },
      {
       "output_type": "stream",
       "stream": "stdout",
       "text": [
        "\r",
        "[1639]Good:http://www.neracoos.org/thredds/dodsC/WW3/Historical/GulfOfMaine_20140818_0000.nc,1.633406"
       ]
      },
      {
       "output_type": "stream",
       "stream": "stdout",
       "text": [
        "\r",
        "[1640]Good:http://www.neracoos.org/thredds/dodsC/WW3/Historical/GulfOfMaine_20140818_1200.nc,1.633406"
       ]
      },
      {
       "output_type": "stream",
       "stream": "stdout",
       "text": [
        "\r",
        "[1641]Good:http://www.neracoos.org/thredds/dodsC/WW3/Historical/GulfOfMaine_20140819_0000.nc,1.633406"
       ]
      },
      {
       "output_type": "stream",
       "stream": "stdout",
       "text": [
        "\r",
        "[1642]Good:http://www.neracoos.org/thredds/dodsC/WW3/Historical/GulfOfMaine_20140819_1200.nc,1.633406\r",
        "[1643]Good:http://www.neracoos.org/thredds/dodsC/WW3/Historical/GulfOfMaine_20140820_0000.nc,1.633406"
       ]
      },
      {
       "output_type": "stream",
       "stream": "stdout",
       "text": [
        "\r",
        "[1644]Good:http://www.neracoos.org/thredds/dodsC/WW3/Historical/GulfOfMaine_20140820_1200.nc,1.633406"
       ]
      },
      {
       "output_type": "stream",
       "stream": "stdout",
       "text": [
        "\r",
        "[1645]Good:http://www.neracoos.org/thredds/dodsC/WW3/Historical/GulfOfMaine_20140821_0000.nc,1.633406\r",
        "[1646]Good:http://www.neracoos.org/thredds/dodsC/WW3/Historical/GulfOfMaine_20140821_1200.nc,1.633406"
       ]
      },
      {
       "output_type": "stream",
       "stream": "stdout",
       "text": [
        "\r",
        "[1647]Good:http://www.neracoos.org/thredds/dodsC/WW3/Historical/GulfOfMaine_20140822_0000.nc,1.633406"
       ]
      },
      {
       "output_type": "stream",
       "stream": "stdout",
       "text": [
        "\r",
        "[1648]Good:http://www.neracoos.org/thredds/dodsC/WW3/Historical/GulfOfMaine_20140822_1200.nc,1.633406"
       ]
      },
      {
       "output_type": "stream",
       "stream": "stdout",
       "text": [
        "\r",
        "[1649]Good:http://www.neracoos.org/thredds/dodsC/WW3/Historical/GulfOfMaine_20140823_0000.nc,1.633406"
       ]
      },
      {
       "output_type": "stream",
       "stream": "stdout",
       "text": [
        "\r",
        "[1650]Good:http://www.neracoos.org/thredds/dodsC/WW3/Historical/GulfOfMaine_20140823_1200.nc,1.633406"
       ]
      },
      {
       "output_type": "stream",
       "stream": "stdout",
       "text": [
        "\r",
        "[1651]Good:http://www.neracoos.org/thredds/dodsC/WW3/Historical/GulfOfMaine_20140824_0000.nc,1.633406"
       ]
      },
      {
       "output_type": "stream",
       "stream": "stdout",
       "text": [
        "\r",
        "[1652]Good:http://www.neracoos.org/thredds/dodsC/WW3/Historical/GulfOfMaine_20140824_1200.nc,1.633406"
       ]
      },
      {
       "output_type": "stream",
       "stream": "stdout",
       "text": [
        "\r",
        "[1653]Good:http://www.neracoos.org/thredds/dodsC/WW3/Historical/GulfOfMaine_20140825_0000.nc,1.633406"
       ]
      },
      {
       "output_type": "stream",
       "stream": "stdout",
       "text": [
        "\r",
        "[1654]Good:http://www.neracoos.org/thredds/dodsC/WW3/Historical/GulfOfMaine_20140825_1200.nc,1.633406\r",
        "[1655]Good:http://www.neracoos.org/thredds/dodsC/WW3/Historical/GulfOfMaine_20140826_0000.nc,1.633406"
       ]
      },
      {
       "output_type": "stream",
       "stream": "stdout",
       "text": [
        "\r",
        "[1656]Good:http://www.neracoos.org/thredds/dodsC/WW3/Historical/GulfOfMaine_20140826_1200.nc,1.633406"
       ]
      },
      {
       "output_type": "stream",
       "stream": "stdout",
       "text": [
        "\r",
        "[1657]Good:http://www.neracoos.org/thredds/dodsC/WW3/Historical/GulfOfMaine_20140827_0000.nc,1.633406"
       ]
      },
      {
       "output_type": "stream",
       "stream": "stdout",
       "text": [
        "\r",
        "[1658]Good:http://www.neracoos.org/thredds/dodsC/WW3/Historical/GulfOfMaine_20140827_1200.nc,1.633406"
       ]
      },
      {
       "output_type": "stream",
       "stream": "stdout",
       "text": [
        "\r",
        "[1659]Good:http://www.neracoos.org/thredds/dodsC/WW3/Historical/GulfOfMaine_20140828_0000.nc,1.633406"
       ]
      },
      {
       "output_type": "stream",
       "stream": "stdout",
       "text": [
        "\r",
        "[1660]Good:http://www.neracoos.org/thredds/dodsC/WW3/Historical/GulfOfMaine_20140828_1200.nc,1.633406"
       ]
      },
      {
       "output_type": "stream",
       "stream": "stdout",
       "text": [
        "\r",
        "[1661]Good:http://www.neracoos.org/thredds/dodsC/WW3/Historical/GulfOfMaine_20140829_0000.nc,1.633406"
       ]
      },
      {
       "output_type": "stream",
       "stream": "stdout",
       "text": [
        "\r",
        "[1662]Good:http://www.neracoos.org/thredds/dodsC/WW3/Historical/GulfOfMaine_20140829_1200.nc,1.633406"
       ]
      },
      {
       "output_type": "stream",
       "stream": "stdout",
       "text": [
        "\r",
        "[1663]Good:http://www.neracoos.org/thredds/dodsC/WW3/Historical/GulfOfMaine_20140830_0000.nc,1.633406\r",
        "[1664]Good:http://www.neracoos.org/thredds/dodsC/WW3/Historical/GulfOfMaine_20140830_1200.nc,1.633406"
       ]
      },
      {
       "output_type": "stream",
       "stream": "stdout",
       "text": [
        "\r",
        "[1665]Good:http://www.neracoos.org/thredds/dodsC/WW3/Historical/GulfOfMaine_20140831_0000.nc,1.633406"
       ]
      },
      {
       "output_type": "stream",
       "stream": "stdout",
       "text": [
        "\r",
        "[1666]Good:http://www.neracoos.org/thredds/dodsC/WW3/Historical/GulfOfMaine_20140831_1200.nc,1.633406"
       ]
      },
      {
       "output_type": "stream",
       "stream": "stdout",
       "text": [
        "\r",
        "[1667]Good:http://www.neracoos.org/thredds/dodsC/WW3/Historical/GulfOfMaine_20140901_0000.nc,1.633406\r",
        "[1668]Good:http://www.neracoos.org/thredds/dodsC/WW3/Historical/GulfOfMaine_20140901_1200.nc,1.633406"
       ]
      },
      {
       "output_type": "stream",
       "stream": "stdout",
       "text": [
        "\r",
        "[1669]Good:http://www.neracoos.org/thredds/dodsC/WW3/Historical/GulfOfMaine_20140902_0000.nc,1.633406"
       ]
      },
      {
       "output_type": "stream",
       "stream": "stdout",
       "text": [
        "\r",
        "[1670]Good:http://www.neracoos.org/thredds/dodsC/WW3/Historical/GulfOfMaine_20140902_1200.nc,1.633406"
       ]
      },
      {
       "output_type": "stream",
       "stream": "stdout",
       "text": [
        "\r",
        "[1671]Good:http://www.neracoos.org/thredds/dodsC/WW3/Historical/GulfOfMaine_20140903_0000.nc,1.633406"
       ]
      },
      {
       "output_type": "stream",
       "stream": "stdout",
       "text": [
        "\r",
        "[1672]Good:http://www.neracoos.org/thredds/dodsC/WW3/Historical/GulfOfMaine_20140904_0000.nc,1.633406"
       ]
      },
      {
       "output_type": "stream",
       "stream": "stdout",
       "text": [
        "\r",
        "[1673]Good:http://www.neracoos.org/thredds/dodsC/WW3/Historical/GulfOfMaine_20140904_1200.nc,1.633406"
       ]
      },
      {
       "output_type": "stream",
       "stream": "stdout",
       "text": [
        "\r",
        "[1674]Good:http://www.neracoos.org/thredds/dodsC/WW3/Historical/GulfOfMaine_20140905_0000.nc,1.633406"
       ]
      },
      {
       "output_type": "stream",
       "stream": "stdout",
       "text": [
        "\r",
        "[1675]Good:http://www.neracoos.org/thredds/dodsC/WW3/Historical/GulfOfMaine_20140905_1200.nc,1.633406"
       ]
      },
      {
       "output_type": "stream",
       "stream": "stdout",
       "text": [
        "\r",
        "[1676]Good:http://www.neracoos.org/thredds/dodsC/WW3/Historical/GulfOfMaine_20140906_0000.nc,1.633406\r",
        "[1677]Good:http://www.neracoos.org/thredds/dodsC/WW3/Historical/GulfOfMaine_20140906_1200.nc,1.633406"
       ]
      },
      {
       "output_type": "stream",
       "stream": "stdout",
       "text": [
        "\r",
        "[1678]Good:http://www.neracoos.org/thredds/dodsC/WW3/Historical/GulfOfMaine_20140907_0000.nc,1.633406\r",
        "[1679]Good:http://www.neracoos.org/thredds/dodsC/WW3/Historical/GulfOfMaine_20140907_1200.nc,1.633406"
       ]
      },
      {
       "output_type": "stream",
       "stream": "stdout",
       "text": [
        "\r",
        "[1680]Good:http://www.neracoos.org/thredds/dodsC/WW3/Historical/GulfOfMaine_20140908_0000.nc,1.633406\r",
        "[1681]Good:http://www.neracoos.org/thredds/dodsC/WW3/Historical/GulfOfMaine_20140908_1200.nc,1.633406"
       ]
      },
      {
       "output_type": "stream",
       "stream": "stdout",
       "text": [
        "\r",
        "[1682]Good:http://www.neracoos.org/thredds/dodsC/WW3/Historical/GulfOfMaine_20140909_0000.nc,1.633406\r",
        "[1683]Good:http://www.neracoos.org/thredds/dodsC/WW3/Historical/GulfOfMaine_20140909_1200.nc,1.633406"
       ]
      },
      {
       "output_type": "stream",
       "stream": "stdout",
       "text": [
        "\r",
        "[1684]Good:http://www.neracoos.org/thredds/dodsC/WW3/Historical/GulfOfMaine_20140910_0000.nc,1.633406\r",
        "[1685]Good:http://www.neracoos.org/thredds/dodsC/WW3/Historical/GulfOfMaine_20140910_1200.nc,1.633406"
       ]
      },
      {
       "output_type": "stream",
       "stream": "stdout",
       "text": [
        "\r",
        "[1686]Good:http://www.neracoos.org/thredds/dodsC/WW3/Historical/GulfOfMaine_20140911_0000.nc,1.633406\r",
        "[1687]Good:http://www.neracoos.org/thredds/dodsC/WW3/Historical/GulfOfMaine_20140911_1200.nc,1.633406"
       ]
      },
      {
       "output_type": "stream",
       "stream": "stdout",
       "text": [
        "\r",
        "[1688]Good:http://www.neracoos.org/thredds/dodsC/WW3/Historical/GulfOfMaine_20140912_0000.nc,1.633406\r",
        "[1689]Good:http://www.neracoos.org/thredds/dodsC/WW3/Historical/GulfOfMaine_20140912_1200.nc,1.633406"
       ]
      },
      {
       "output_type": "stream",
       "stream": "stdout",
       "text": [
        "\r",
        "[1690]Good:http://www.neracoos.org/thredds/dodsC/WW3/Historical/GulfOfMaine_20140913_0000.nc,1.633406\r",
        "[1691]Good:http://www.neracoos.org/thredds/dodsC/WW3/Historical/GulfOfMaine_20140913_1200.nc,1.633406"
       ]
      },
      {
       "output_type": "stream",
       "stream": "stdout",
       "text": [
        "\r",
        "[1692]Good:http://www.neracoos.org/thredds/dodsC/WW3/Historical/GulfOfMaine_20140914_0000.nc,1.633406\r",
        "[1693]Good:http://www.neracoos.org/thredds/dodsC/WW3/Historical/GulfOfMaine_20140914_1200.nc,1.633406"
       ]
      },
      {
       "output_type": "stream",
       "stream": "stdout",
       "text": [
        "\r",
        "[1694]Good:http://www.neracoos.org/thredds/dodsC/WW3/Historical/GulfOfMaine_20140915_0000.nc,1.633406\r",
        "[1695]Good:http://www.neracoos.org/thredds/dodsC/WW3/Historical/GulfOfMaine_20140915_1200.nc,1.633406"
       ]
      },
      {
       "output_type": "stream",
       "stream": "stdout",
       "text": [
        "\r",
        "[1696]Good:http://www.neracoos.org/thredds/dodsC/WW3/Historical/GulfOfMaine_20140916_0000.nc,1.633406\r",
        "[1697]Good:http://www.neracoos.org/thredds/dodsC/WW3/Historical/GulfOfMaine_20140916_1200.nc,1.633406"
       ]
      },
      {
       "output_type": "stream",
       "stream": "stdout",
       "text": [
        "\r",
        "[1698]Good:http://www.neracoos.org/thredds/dodsC/WW3/Historical/GulfOfMaine_20140917_0000.nc,1.633406\r",
        "[1699]Good:http://www.neracoos.org/thredds/dodsC/WW3/Historical/GulfOfMaine_20140917_1200.nc,1.633406"
       ]
      },
      {
       "output_type": "stream",
       "stream": "stdout",
       "text": [
        "\r",
        "[1700]Good:http://www.neracoos.org/thredds/dodsC/WW3/Historical/GulfOfMaine_20140918_0000.nc,1.633406\r",
        "[1701]Good:http://www.neracoos.org/thredds/dodsC/WW3/Historical/GulfOfMaine_20140918_1200.nc,1.633406"
       ]
      },
      {
       "output_type": "stream",
       "stream": "stdout",
       "text": [
        "\r",
        "[1702]Good:http://www.neracoos.org/thredds/dodsC/WW3/Historical/GulfOfMaine_20140919_0000.nc,1.633406\r",
        "[1703]Good:http://www.neracoos.org/thredds/dodsC/WW3/Historical/GulfOfMaine_20140919_1200.nc,1.633406"
       ]
      },
      {
       "output_type": "stream",
       "stream": "stdout",
       "text": [
        "\r",
        "[1704]Good:http://www.neracoos.org/thredds/dodsC/WW3/Historical/GulfOfMaine_20140920_0000.nc,1.633406\r",
        "[1705]Good:http://www.neracoos.org/thredds/dodsC/WW3/Historical/GulfOfMaine_20140920_1200.nc,1.633406"
       ]
      },
      {
       "output_type": "stream",
       "stream": "stdout",
       "text": [
        "\r",
        "[1706]Good:http://www.neracoos.org/thredds/dodsC/WW3/Historical/GulfOfMaine_20140921_0000.nc,1.633406\r",
        "[1707]Good:http://www.neracoos.org/thredds/dodsC/WW3/Historical/GulfOfMaine_20140921_1200.nc,1.633406"
       ]
      },
      {
       "output_type": "stream",
       "stream": "stdout",
       "text": [
        "\r",
        "[1708]Good:http://www.neracoos.org/thredds/dodsC/WW3/Historical/GulfOfMaine_20140922_0000.nc,1.633406"
       ]
      },
      {
       "output_type": "stream",
       "stream": "stdout",
       "text": [
        "\r",
        "[1709]Good:http://www.neracoos.org/thredds/dodsC/WW3/Historical/GulfOfMaine_20140922_1200.nc,1.633406\r",
        "[1710]Good:http://www.neracoos.org/thredds/dodsC/WW3/Historical/GulfOfMaine_20140923_0000.nc,1.633406"
       ]
      },
      {
       "output_type": "stream",
       "stream": "stdout",
       "text": [
        "\r",
        "[1711]Good:http://www.neracoos.org/thredds/dodsC/WW3/Historical/GulfOfMaine_20140924_0000.nc,1.633406\r",
        "[1712]Good:http://www.neracoos.org/thredds/dodsC/WW3/Historical/GulfOfMaine_20140924_1200.nc,1.633406"
       ]
      },
      {
       "output_type": "stream",
       "stream": "stdout",
       "text": [
        "\r",
        "[1713]Good:http://www.neracoos.org/thredds/dodsC/WW3/Historical/GulfOfMaine_20140925_0000.nc,1.633406\r",
        "[1714]Good:http://www.neracoos.org/thredds/dodsC/WW3/Historical/GulfOfMaine_20140925_1200.nc,1.633406"
       ]
      },
      {
       "output_type": "stream",
       "stream": "stdout",
       "text": [
        "\r",
        "[1715]Good:http://www.neracoos.org/thredds/dodsC/WW3/Historical/GulfOfMaine_20140926_0000.nc,1.633406\r",
        "[1716]Good:http://www.neracoos.org/thredds/dodsC/WW3/Historical/GulfOfMaine_20140926_1200.nc,1.633406"
       ]
      },
      {
       "output_type": "stream",
       "stream": "stdout",
       "text": [
        "\r",
        "[1717]Good:http://www.neracoos.org/thredds/dodsC/WW3/Historical/GulfOfMaine_20140927_0000.nc,1.633406\r",
        "[1718]Good:http://www.neracoos.org/thredds/dodsC/WW3/Historical/GulfOfMaine_20140927_1200.nc,1.633406"
       ]
      },
      {
       "output_type": "stream",
       "stream": "stdout",
       "text": [
        "\r",
        "[1719]Good:http://www.neracoos.org/thredds/dodsC/WW3/Historical/GulfOfMaine_20140928_0000.nc,1.633406\r",
        "[1720]Good:http://www.neracoos.org/thredds/dodsC/WW3/Historical/GulfOfMaine_20140928_1200.nc,1.633406"
       ]
      },
      {
       "output_type": "stream",
       "stream": "stdout",
       "text": [
        "\r",
        "[1721]Good:http://www.neracoos.org/thredds/dodsC/WW3/Historical/GulfOfMaine_20140929_0000.nc,1.633406\r",
        "[1722]Good:http://www.neracoos.org/thredds/dodsC/WW3/Historical/GulfOfMaine_20140929_1200.nc,1.633406"
       ]
      },
      {
       "output_type": "stream",
       "stream": "stdout",
       "text": [
        "\r",
        "[1723]Good:http://www.neracoos.org/thredds/dodsC/WW3/Historical/GulfOfMaine_20140930_0000.nc,1.633406\r",
        "[1724]Good:http://www.neracoos.org/thredds/dodsC/WW3/Historical/GulfOfMaine_20140930_1200.nc,1.633406"
       ]
      },
      {
       "output_type": "stream",
       "stream": "stdout",
       "text": [
        "\r",
        "[1725]Good:http://www.neracoos.org/thredds/dodsC/WW3/Historical/GulfOfMaine_20141001_0000.nc,1.633406\r",
        "[1726]Good:http://www.neracoos.org/thredds/dodsC/WW3/Historical/GulfOfMaine_20141001_1200.nc,1.633406"
       ]
      },
      {
       "output_type": "stream",
       "stream": "stdout",
       "text": [
        "\r",
        "[1727]Good:http://www.neracoos.org/thredds/dodsC/WW3/Historical/GulfOfMaine_20141002_0000.nc,1.633406\r",
        "[1728]Good:http://www.neracoos.org/thredds/dodsC/WW3/Historical/GulfOfMaine_20141002_1200.nc,1.633406"
       ]
      },
      {
       "output_type": "stream",
       "stream": "stdout",
       "text": [
        "\r",
        "[1729]Good:http://www.neracoos.org/thredds/dodsC/WW3/Historical/GulfOfMaine_20141003_0000.nc,1.633406\r",
        "[1730]Good:http://www.neracoos.org/thredds/dodsC/WW3/Historical/GulfOfMaine_20141003_1200.nc,1.633406"
       ]
      },
      {
       "output_type": "stream",
       "stream": "stdout",
       "text": [
        "\r",
        "[1731]Good:http://www.neracoos.org/thredds/dodsC/WW3/Historical/GulfOfMaine_20141004_0000.nc,1.633406\r",
        "[1732]Good:http://www.neracoos.org/thredds/dodsC/WW3/Historical/GulfOfMaine_20141004_1200.nc,1.633406"
       ]
      },
      {
       "output_type": "stream",
       "stream": "stdout",
       "text": [
        "\r",
        "[1733]Good:http://www.neracoos.org/thredds/dodsC/WW3/Historical/GulfOfMaine_20141005_0000.nc,1.633406\r",
        "[1734]Good:http://www.neracoos.org/thredds/dodsC/WW3/Historical/GulfOfMaine_20141005_1200.nc,1.633406"
       ]
      },
      {
       "output_type": "stream",
       "stream": "stdout",
       "text": [
        "\r",
        "[1735]Good:http://www.neracoos.org/thredds/dodsC/WW3/Historical/GulfOfMaine_20141006_0000.nc,1.633406\r",
        "[1736]Good:http://www.neracoos.org/thredds/dodsC/WW3/Historical/GulfOfMaine_20141006_1200.nc,1.633406"
       ]
      },
      {
       "output_type": "stream",
       "stream": "stdout",
       "text": [
        "\r",
        "[1737]Good:http://www.neracoos.org/thredds/dodsC/WW3/Historical/GulfOfMaine_20141007_0000.nc,1.633406\r",
        "[1738]Good:http://www.neracoos.org/thredds/dodsC/WW3/Historical/GulfOfMaine_20141007_1200.nc,1.633406"
       ]
      },
      {
       "output_type": "stream",
       "stream": "stdout",
       "text": [
        "\r",
        "[1739]Good:http://www.neracoos.org/thredds/dodsC/WW3/Historical/GulfOfMaine_20141008_0000.nc,1.633406\r",
        "[1740]Good:http://www.neracoos.org/thredds/dodsC/WW3/Historical/GulfOfMaine_20141008_1200.nc,1.633406"
       ]
      },
      {
       "output_type": "stream",
       "stream": "stdout",
       "text": [
        "\r",
        "[1741]Good:http://www.neracoos.org/thredds/dodsC/WW3/Historical/GulfOfMaine_20141009_0000.nc,1.633406\r",
        "[1742]Good:http://www.neracoos.org/thredds/dodsC/WW3/Historical/GulfOfMaine_20141009_1200.nc,1.633406"
       ]
      },
      {
       "output_type": "stream",
       "stream": "stdout",
       "text": [
        "\r",
        "[1743]Good:http://www.neracoos.org/thredds/dodsC/WW3/Historical/GulfOfMaine_20141010_0000.nc,1.633406\r",
        "[1744]Good:http://www.neracoos.org/thredds/dodsC/WW3/Historical/GulfOfMaine_20141010_1200.nc,1.633406"
       ]
      },
      {
       "output_type": "stream",
       "stream": "stdout",
       "text": [
        "\r",
        "[1745]Good:http://www.neracoos.org/thredds/dodsC/WW3/Historical/GulfOfMaine_20141011_0000.nc,1.633406\r",
        "[1746]Good:http://www.neracoos.org/thredds/dodsC/WW3/Historical/GulfOfMaine_20141011_1200.nc,1.633406"
       ]
      },
      {
       "output_type": "stream",
       "stream": "stdout",
       "text": [
        "\r",
        "[1747]Good:http://www.neracoos.org/thredds/dodsC/WW3/Historical/GulfOfMaine_20141012_0000.nc,1.633406\r",
        "[1748]Good:http://www.neracoos.org/thredds/dodsC/WW3/Historical/GulfOfMaine_20141012_1200.nc,1.633406"
       ]
      },
      {
       "output_type": "stream",
       "stream": "stdout",
       "text": [
        "\r",
        "[1749]Good:http://www.neracoos.org/thredds/dodsC/WW3/Historical/GulfOfMaine_20141013_0000.nc,1.633406\r",
        "[1750]Good:http://www.neracoos.org/thredds/dodsC/WW3/Historical/GulfOfMaine_20141013_1200.nc,1.633406"
       ]
      },
      {
       "output_type": "stream",
       "stream": "stdout",
       "text": [
        "\r",
        "[1751]Good:http://www.neracoos.org/thredds/dodsC/WW3/Historical/GulfOfMaine_20141014_0000.nc,1.633406\r",
        "[1752]Good:http://www.neracoos.org/thredds/dodsC/WW3/Historical/GulfOfMaine_20141014_1200.nc,1.633406"
       ]
      },
      {
       "output_type": "stream",
       "stream": "stdout",
       "text": [
        "\r",
        "[1753]Good:http://www.neracoos.org/thredds/dodsC/WW3/Historical/GulfOfMaine_20141015_0000.nc,1.633406\r",
        "[1754]Good:http://www.neracoos.org/thredds/dodsC/WW3/Historical/GulfOfMaine_20141015_1200.nc,1.633406"
       ]
      },
      {
       "output_type": "stream",
       "stream": "stdout",
       "text": [
        "\r",
        "[1755]Good:http://www.neracoos.org/thredds/dodsC/WW3/Historical/GulfOfMaine_20141016_0000.nc,1.633406\r",
        "[1756]Good:http://www.neracoos.org/thredds/dodsC/WW3/Historical/GulfOfMaine_20141016_1200.nc,1.633406"
       ]
      },
      {
       "output_type": "stream",
       "stream": "stdout",
       "text": [
        "\r",
        "[1757]Good:http://www.neracoos.org/thredds/dodsC/WW3/Historical/GulfOfMaine_20141017_0000.nc,1.633406\r",
        "[1758]Good:http://www.neracoos.org/thredds/dodsC/WW3/Historical/GulfOfMaine_20141017_1200.nc,1.633406"
       ]
      },
      {
       "output_type": "stream",
       "stream": "stdout",
       "text": [
        "\r",
        "[1759]Good:http://www.neracoos.org/thredds/dodsC/WW3/Historical/GulfOfMaine_20141018_0000.nc,1.633406\r",
        "[1760]Good:http://www.neracoos.org/thredds/dodsC/WW3/Historical/GulfOfMaine_20141018_1200.nc,1.633406"
       ]
      },
      {
       "output_type": "stream",
       "stream": "stdout",
       "text": [
        "\r",
        "[1761]Good:http://www.neracoos.org/thredds/dodsC/WW3/Historical/GulfOfMaine_20141019_0000.nc,1.633406\r",
        "[1762]Good:http://www.neracoos.org/thredds/dodsC/WW3/Historical/GulfOfMaine_20141019_1200.nc,1.633406"
       ]
      },
      {
       "output_type": "stream",
       "stream": "stdout",
       "text": [
        "\r",
        "[1763]Good:http://www.neracoos.org/thredds/dodsC/WW3/Historical/GulfOfMaine_20141020_0000.nc,1.633406\r",
        "[1764]Good:http://www.neracoos.org/thredds/dodsC/WW3/Historical/GulfOfMaine_20141020_1200.nc,1.633406"
       ]
      },
      {
       "output_type": "stream",
       "stream": "stdout",
       "text": [
        "\r",
        "[1765]Good:http://www.neracoos.org/thredds/dodsC/WW3/Historical/GulfOfMaine_20141021_0000.nc,1.633406\r",
        "[1766]Good:http://www.neracoos.org/thredds/dodsC/WW3/Historical/GulfOfMaine_20141021_1200.nc,1.633406"
       ]
      },
      {
       "output_type": "stream",
       "stream": "stdout",
       "text": [
        "\r",
        "[1767]Good:http://www.neracoos.org/thredds/dodsC/WW3/Historical/GulfOfMaine_20141022_0000.nc,1.633406\r",
        "[1768]Good:http://www.neracoos.org/thredds/dodsC/WW3/Historical/GulfOfMaine_20141022_1200.nc,1.633406"
       ]
      },
      {
       "output_type": "stream",
       "stream": "stdout",
       "text": [
        "\r",
        "[1769]Good:http://www.neracoos.org/thredds/dodsC/WW3/Historical/GulfOfMaine_20141023_0000.nc,1.633406\r",
        "[1770]Good:http://www.neracoos.org/thredds/dodsC/WW3/Historical/GulfOfMaine_20141023_1200.nc,1.633406"
       ]
      },
      {
       "output_type": "stream",
       "stream": "stdout",
       "text": [
        "\r",
        "[1771]Good:http://www.neracoos.org/thredds/dodsC/WW3/Historical/GulfOfMaine_20141024_0000.nc,1.633406\r",
        "[1772]Good:http://www.neracoos.org/thredds/dodsC/WW3/Historical/GulfOfMaine_20141024_1200.nc,1.633406"
       ]
      },
      {
       "output_type": "stream",
       "stream": "stdout",
       "text": [
        "\r",
        "[1773]Good:http://www.neracoos.org/thredds/dodsC/WW3/Historical/GulfOfMaine_20141025_0000.nc,1.633406\r",
        "[1774]Good:http://www.neracoos.org/thredds/dodsC/WW3/Historical/GulfOfMaine_20141026_0000.nc,1.633406"
       ]
      },
      {
       "output_type": "stream",
       "stream": "stdout",
       "text": [
        "\r",
        "[1775]Good:http://www.neracoos.org/thredds/dodsC/WW3/Historical/GulfOfMaine_20141026_1200.nc,1.633406\r",
        "[1776]Good:http://www.neracoos.org/thredds/dodsC/WW3/Historical/GulfOfMaine_20141027_0000.nc,1.633406"
       ]
      },
      {
       "output_type": "stream",
       "stream": "stdout",
       "text": [
        "\r",
        "[1777]Good:http://www.neracoos.org/thredds/dodsC/WW3/Historical/GulfOfMaine_20141027_1200.nc,1.633406\r",
        "[1778]Good:http://www.neracoos.org/thredds/dodsC/WW3/Historical/GulfOfMaine_20141029_1200.nc,1.633406"
       ]
      },
      {
       "output_type": "stream",
       "stream": "stdout",
       "text": [
        "\r",
        "[1779]Good:http://www.neracoos.org/thredds/dodsC/WW3/Historical/GulfOfMaine_20141030_0000.nc,1.633406\r",
        "[1780]Good:http://www.neracoos.org/thredds/dodsC/WW3/Historical/GulfOfMaine_20141030_1200.nc,1.633406"
       ]
      },
      {
       "output_type": "stream",
       "stream": "stdout",
       "text": [
        "\r",
        "[1781]Good:http://www.neracoos.org/thredds/dodsC/WW3/Historical/GulfOfMaine_20141031_0000.nc,1.633406\r",
        "[1782]Good:http://www.neracoos.org/thredds/dodsC/WW3/Historical/GulfOfMaine_20141031_1200.nc,1.633406"
       ]
      },
      {
       "output_type": "stream",
       "stream": "stdout",
       "text": [
        "\r",
        "[1783]Good:http://www.neracoos.org/thredds/dodsC/WW3/Historical/GulfOfMaine_20141101_0000.nc,1.633406\r",
        "[1784]Good:http://www.neracoos.org/thredds/dodsC/WW3/Historical/GulfOfMaine_20141101_1200.nc,1.633406"
       ]
      },
      {
       "output_type": "stream",
       "stream": "stdout",
       "text": [
        "\r",
        "[1785]Good:http://www.neracoos.org/thredds/dodsC/WW3/Historical/GulfOfMaine_20141102_0000.nc,1.633406\r",
        "[1786]Good:http://www.neracoos.org/thredds/dodsC/WW3/Historical/GulfOfMaine_20141102_1200.nc,1.633406"
       ]
      },
      {
       "output_type": "stream",
       "stream": "stdout",
       "text": [
        "\r",
        "[1787]Good:http://www.neracoos.org/thredds/dodsC/WW3/Historical/GulfOfMaine_20141103_0000.nc,1.633406\r",
        "[1788]Good:http://www.neracoos.org/thredds/dodsC/WW3/Historical/GulfOfMaine_20141103_1200.nc,1.633406"
       ]
      },
      {
       "output_type": "stream",
       "stream": "stdout",
       "text": [
        "\r",
        "[1789]Good:http://www.neracoos.org/thredds/dodsC/WW3/Historical/GulfOfMaine_20141104_0000.nc,1.633406\r",
        "[1790]Good:http://www.neracoos.org/thredds/dodsC/WW3/Historical/GulfOfMaine_20141104_1200.nc,1.633406"
       ]
      },
      {
       "output_type": "stream",
       "stream": "stdout",
       "text": [
        "\r",
        "[1791]Good:http://www.neracoos.org/thredds/dodsC/WW3/Historical/GulfOfMaine_20141105_0000.nc,1.633406\r",
        "[1792]Good:http://www.neracoos.org/thredds/dodsC/WW3/Historical/GulfOfMaine_20141105_1200.nc,1.633406"
       ]
      },
      {
       "output_type": "stream",
       "stream": "stdout",
       "text": [
        "\r",
        "[1793]Good:http://www.neracoos.org/thredds/dodsC/WW3/Historical/GulfOfMaine_20141106_0000.nc,1.633406\r",
        "[1794]Good:http://www.neracoos.org/thredds/dodsC/WW3/Historical/GulfOfMaine_20141106_1200.nc,1.633406"
       ]
      },
      {
       "output_type": "stream",
       "stream": "stdout",
       "text": [
        "\r",
        "[1795]Good:http://www.neracoos.org/thredds/dodsC/WW3/Historical/GulfOfMaine_20141107_0000.nc,1.633406\r",
        "[1796]Good:http://www.neracoos.org/thredds/dodsC/WW3/Historical/GulfOfMaine_20141107_1200.nc,1.633406"
       ]
      },
      {
       "output_type": "stream",
       "stream": "stdout",
       "text": [
        "\r",
        "[1797]Good:http://www.neracoos.org/thredds/dodsC/WW3/Historical/GulfOfMaine_20141108_0000.nc,1.633406\r",
        "[1798]Good:http://www.neracoos.org/thredds/dodsC/WW3/Historical/GulfOfMaine_20141108_1200.nc,1.633406"
       ]
      },
      {
       "output_type": "stream",
       "stream": "stdout",
       "text": [
        "\r",
        "[1799]Good:http://www.neracoos.org/thredds/dodsC/WW3/Historical/GulfOfMaine_20141109_0000.nc,1.633406\r",
        "[1800]Good:http://www.neracoos.org/thredds/dodsC/WW3/Historical/GulfOfMaine_20141109_1200.nc,1.633406"
       ]
      },
      {
       "output_type": "stream",
       "stream": "stdout",
       "text": [
        "\r",
        "[1801]Good:http://www.neracoos.org/thredds/dodsC/WW3/Historical/GulfOfMaine_20141110_1200.nc,1.633406\r",
        "[1802]Good:http://www.neracoos.org/thredds/dodsC/WW3/Historical/GulfOfMaine_20141111_1200.nc,1.633406"
       ]
      },
      {
       "output_type": "stream",
       "stream": "stdout",
       "text": [
        "\r",
        "[1803]Good:http://www.neracoos.org/thredds/dodsC/WW3/Historical/GulfOfMaine_20141112_0000.nc,1.633406\r",
        "[1804]Good:http://www.neracoos.org/thredds/dodsC/WW3/Historical/GulfOfMaine_20141112_1200.nc,1.633406"
       ]
      },
      {
       "output_type": "stream",
       "stream": "stdout",
       "text": [
        "\r",
        "[1805]Good:http://www.neracoos.org/thredds/dodsC/WW3/Historical/GulfOfMaine_20141113_0000.nc,1.633406\r",
        "[1806]Good:http://www.neracoos.org/thredds/dodsC/WW3/Historical/GulfOfMaine_20141114_0000.nc,1.633406"
       ]
      },
      {
       "output_type": "stream",
       "stream": "stdout",
       "text": [
        "\r",
        "[1807]Good:http://www.neracoos.org/thredds/dodsC/WW3/Historical/GulfOfMaine_20141114_1200.nc,1.633406\r",
        "[1808]Good:http://www.neracoos.org/thredds/dodsC/WW3/Historical/GulfOfMaine_20141115_0000.nc,1.633406"
       ]
      },
      {
       "output_type": "stream",
       "stream": "stdout",
       "text": [
        "\r",
        "[1809]Good:http://www.neracoos.org/thredds/dodsC/WW3/Historical/GulfOfMaine_20141115_1200.nc,1.633406\r",
        "[1810]Good:http://www.neracoos.org/thredds/dodsC/WW3/Historical/GulfOfMaine_20141116_0000.nc,1.633406"
       ]
      },
      {
       "output_type": "stream",
       "stream": "stdout",
       "text": [
        "\r",
        "[1811]Good:http://www.neracoos.org/thredds/dodsC/WW3/Historical/GulfOfMaine_20141116_1200.nc,1.633406\r",
        "[1812]Good:http://www.neracoos.org/thredds/dodsC/WW3/Historical/GulfOfMaine_20141117_0000.nc,1.633406"
       ]
      },
      {
       "output_type": "stream",
       "stream": "stdout",
       "text": [
        "\r",
        "[1813]Good:http://www.neracoos.org/thredds/dodsC/WW3/Historical/GulfOfMaine_20141117_1200.nc,1.633406\r",
        "[1814]Good:http://www.neracoos.org/thredds/dodsC/WW3/Historical/GulfOfMaine_20141118_0000.nc,1.633406"
       ]
      },
      {
       "output_type": "stream",
       "stream": "stdout",
       "text": [
        "\r",
        "[1815]Good:http://www.neracoos.org/thredds/dodsC/WW3/Historical/GulfOfMaine_20141118_1200.nc,1.633406\r",
        "[1816]Good:http://www.neracoos.org/thredds/dodsC/WW3/Historical/GulfOfMaine_20141119_0000.nc,1.633406"
       ]
      },
      {
       "output_type": "stream",
       "stream": "stdout",
       "text": [
        "\r",
        "[1817]Good:http://www.neracoos.org/thredds/dodsC/WW3/Historical/GulfOfMaine_20141119_1200.nc,1.633406\r",
        "[1818]Good:http://www.neracoos.org/thredds/dodsC/WW3/Historical/GulfOfMaine_20141124_0000.nc,1.633406"
       ]
      },
      {
       "output_type": "stream",
       "stream": "stdout",
       "text": [
        "\r",
        "[1819]Good:http://www.neracoos.org/thredds/dodsC/WW3/Historical/GulfOfMaine_20141125_0000.nc,1.633406\r",
        "[1820]Good:http://www.neracoos.org/thredds/dodsC/WW3/Historical/GulfOfMaine_20141125_1200.nc,1.633406"
       ]
      },
      {
       "output_type": "stream",
       "stream": "stdout",
       "text": [
        "\r",
        "[1821]Good:http://www.neracoos.org/thredds/dodsC/WW3/Historical/GulfOfMaine_20141126_1200.nc,1.633406\r",
        "[1822]Good:http://www.neracoos.org/thredds/dodsC/WW3/Historical/GulfOfMaine_20141127_0000.nc,1.633406"
       ]
      },
      {
       "output_type": "stream",
       "stream": "stdout",
       "text": [
        "\r",
        "[1823]Good:http://www.neracoos.org/thredds/dodsC/WW3/Historical/GulfOfMaine_20141127_1200.nc,1.633406\r",
        "[1824]Good:http://www.neracoos.org/thredds/dodsC/WW3/Historical/GulfOfMaine_20141128_0000.nc,1.633406"
       ]
      },
      {
       "output_type": "stream",
       "stream": "stdout",
       "text": [
        "\r",
        "[1825]Good:http://www.neracoos.org/thredds/dodsC/WW3/Historical/GulfOfMaine_20141128_1200.nc,1.633406\r",
        "[1826]Good:http://www.neracoos.org/thredds/dodsC/WW3/Historical/GulfOfMaine_20141129_0000.nc,1.633406"
       ]
      },
      {
       "output_type": "stream",
       "stream": "stdout",
       "text": [
        "\r",
        "[1827]Good:http://www.neracoos.org/thredds/dodsC/WW3/Historical/GulfOfMaine_20141129_1200.nc,1.633406\r",
        "[1828]Good:http://www.neracoos.org/thredds/dodsC/WW3/Historical/GulfOfMaine_20141130_0000.nc,1.633406"
       ]
      },
      {
       "output_type": "stream",
       "stream": "stdout",
       "text": [
        "\r",
        "[1829]Good:http://www.neracoos.org/thredds/dodsC/WW3/Historical/GulfOfMaine_20141130_1200.nc,1.633406\r",
        "[1830]Good:http://www.neracoos.org/thredds/dodsC/WW3/Historical/GulfOfMaine_20141201_0000.nc,1.633406"
       ]
      },
      {
       "output_type": "stream",
       "stream": "stdout",
       "text": [
        "\r",
        "[1831]Good:http://www.neracoos.org/thredds/dodsC/WW3/Historical/GulfOfMaine_20141201_1200.nc,1.633406"
       ]
      },
      {
       "output_type": "stream",
       "stream": "stdout",
       "text": [
        "\r",
        "[1832]Good:http://www.neracoos.org/thredds/dodsC/WW3/NorthAtlantic.nc,1.384292\r",
        "[1833]Good:http://thredds.axiomalaska.com/thredds/dodsC/ARDEM.nc,111.009624"
       ]
      },
      {
       "output_type": "stream",
       "stream": "stdout",
       "text": [
        "\r",
        "[1834]Fail:http://thredds.axiomalaska.com/thredds/dodsC/Aquarius_SSS_Daily.nc,404"
       ]
      },
      {
       "output_type": "stream",
       "stream": "stdout",
       "text": [
        "\r",
        "[1835]Fail:http://thredds.axiomalaska.com/thredds/dodsC/Aquarius_SSS_Monthly.nc,404"
       ]
      },
      {
       "output_type": "stream",
       "stream": "stdout",
       "text": [
        "\r",
        "[1836]Fail:http://thredds.axiomalaska.com/thredds/dodsC/Aquarius_SSS_Trimonthly.nc,404"
       ]
      },
      {
       "output_type": "stream",
       "stream": "stdout",
       "text": [
        "\r",
        "[1837]Fail:http://thredds.axiomalaska.com/thredds/dodsC/Aquarius_SSS_Weekly.nc,404"
       ]
      },
      {
       "output_type": "stream",
       "stream": "stdout",
       "text": [
        "\r",
        "[1838]Fail:http://thredds.axiomalaska.com/thredds/dodsC/Aquarius_V3_SSS_Daily.nc,-1"
       ]
      },
      {
       "output_type": "stream",
       "stream": "stdout",
       "text": [
        "\r",
        "[1839]Good:http://thredds.axiomalaska.com/thredds/dodsC/Aquarius_V3_SSS_Monthly.nc,10.113276"
       ]
      },
      {
       "output_type": "stream",
       "stream": "stdout",
       "text": [
        "\r",
        "[1840]Fail:http://thredds.axiomalaska.com/thredds/dodsC/Aquarius_V3_SSS_Weekly.nc,-1"
       ]
      },
      {
       "output_type": "stream",
       "stream": "stdout",
       "text": [
        "\r",
        "[1841]Fail:http://thredds.axiomalaska.com/thredds/dodsC/Aquarius_V3_scat_wind_speed_Daily.nc,-1"
       ]
      },
      {
       "output_type": "stream",
       "stream": "stdout",
       "text": [
        "\r",
        "[1842]Good:http://thredds.axiomalaska.com/thredds/dodsC/Aquarius_V3_scat_wind_speed_Monthly.nc,10.113276"
       ]
      },
      {
       "output_type": "stream",
       "stream": "stdout",
       "text": [
        "\r",
        "[1843]Fail:http://thredds.axiomalaska.com/thredds/dodsC/Aquarius_V3_scat_wind_speed_Weekly.nc,-1"
       ]
      },
      {
       "output_type": "stream",
       "stream": "stdout",
       "text": [
        "\r",
        "[1844]Fail:http://thredds.axiomalaska.com/thredds/dodsC/Aquarius_scat_wind_speed_Daily.nc,404"
       ]
      },
      {
       "output_type": "stream",
       "stream": "stdout",
       "text": [
        "\r",
        "[1845]Fail:http://thredds.axiomalaska.com/thredds/dodsC/Aquarius_scat_wind_speed_Monthly.nc,404"
       ]
      },
      {
       "output_type": "stream",
       "stream": "stdout",
       "text": [
        "\r",
        "[1846]Fail:http://thredds.axiomalaska.com/thredds/dodsC/Aquarius_scat_wind_speed_Trimonthly.nc,404"
       ]
      },
      {
       "output_type": "stream",
       "stream": "stdout",
       "text": [
        "\r",
        "[1847]Fail:http://thredds.axiomalaska.com/thredds/dodsC/Aquarius_scat_wind_speed_Weekly.nc,404"
       ]
      },
      {
       "output_type": "stream",
       "stream": "stdout",
       "text": [
        "\r",
        "[1848]Fail:http://thredds.axiomalaska.com/thredds/dodsC/CORDC.nc,-1"
       ]
      },
      {
       "output_type": "stream",
       "stream": "stdout",
       "text": [
        "\r",
        "[1849]Good:http://thredds.axiomalaska.com/thredds/dodsC/G1_SST.nc,645304.478004"
       ]
      },
      {
       "output_type": "stream",
       "stream": "stdout",
       "text": [
        "\r",
        "[1850]Good:http://thredds.axiomalaska.com/thredds/dodsC/GEBCO.nc,518.7936"
       ]
      },
      {
       "output_type": "stream",
       "stream": "stdout",
       "text": [
        "\r",
        "[1851]Fail:http://thredds.axiomalaska.com/thredds/dodsC/HYCOM.nc,-1"
       ]
      },
      {
       "output_type": "stream",
       "stream": "stdout",
       "text": [
        "\r",
        "[1852]Good:http://thredds.axiomalaska.com/thredds/dodsC/IBCAO.nc,1079.823384"
       ]
      },
      {
       "output_type": "stream",
       "stream": "stdout",
       "text": [
        "\r",
        "[1853]Fail:http://thredds.axiomalaska.com/thredds/dodsC/JPL_BERING_HINDCAST.nc,-1"
       ]
      },
      {
       "output_type": "stream",
       "stream": "stdout",
       "text": [
        "\r",
        "[1854]Good:http://thredds.axiomalaska.com/thredds/dodsC/MUR.nc,147102.777344"
       ]
      },
      {
       "output_type": "stream",
       "stream": "stdout",
       "text": [
        "\r",
        "[1855]Fail:http://thredds.axiomalaska.com/thredds/dodsC/NCEP_SKIN_TEMP.nc,-1"
       ]
      },
      {
       "output_type": "stream",
       "stream": "stdout",
       "text": [
        "\r",
        "[1856]Fail:http://thredds.axiomalaska.com/thredds/dodsC/NDFD_Aggregate.nc,-1"
       ]
      },
      {
       "output_type": "stream",
       "stream": "stdout",
       "text": [
        "\r",
        "[1857]Fail:http://thredds.axiomalaska.com/thredds/dodsC/NDFD_Maximum_Temperature.nc,-1"
       ]
      },
      {
       "output_type": "stream",
       "stream": "stdout",
       "text": [
        "\r",
        "[1858]Fail:http://thredds.axiomalaska.com/thredds/dodsC/NDFD_Minimum_Temperature.nc,-1"
       ]
      },
      {
       "output_type": "stream",
       "stream": "stdout",
       "text": [
        "\r",
        "[1859]Fail:http://thredds.axiomalaska.com/thredds/dodsC/NDFD_Significant_height_of_wind_waves.nc,-1"
       ]
      },
      {
       "output_type": "stream",
       "stream": "stdout",
       "text": [
        "\r",
        "[1860]Fail:http://thredds.axiomalaska.com/thredds/dodsC/NDFD_Total_Precipitation.nc,-1"
       ]
      },
      {
       "output_type": "stream",
       "stream": "stdout",
       "text": [
        "\r",
        "[1861]Fail:http://thredds.axiomalaska.com/thredds/dodsC/NDFD_Total_Snowfall.nc,-1"
       ]
      },
      {
       "output_type": "stream",
       "stream": "stdout",
       "text": [
        "\r",
        "[1862]Fail:http://thredds.axiomalaska.com/thredds/dodsC/NDFD_Wind_Speed_Gust.nc,-1"
       ]
      },
      {
       "output_type": "stream",
       "stream": "stdout",
       "text": [
        "\r",
        "[1863]Good:http://thredds.axiomalaska.com/thredds/dodsC/NOAA_CSDL_ROMS.nc,3189.590776"
       ]
      },
      {
       "output_type": "stream",
       "stream": "stdout",
       "text": [
        "\r",
        "[1864]Fail:http://thredds.axiomalaska.com/thredds/dodsC/NSIDC_SEA_ICE_CON.nc,-1"
       ]
      },
      {
       "output_type": "stream",
       "stream": "stdout",
       "text": [
        "\r",
        "[1865]Fail:http://thredds.axiomalaska.com/thredds/dodsC/PWS_DAS.nc,-1"
       ]
      },
      {
       "output_type": "stream",
       "stream": "stdout",
       "text": [
        "\r",
        "[1866]Fail:http://thredds.axiomalaska.com/thredds/dodsC/PWS_L0_FCST.nc,-1"
       ]
      },
      {
       "output_type": "stream",
       "stream": "stdout",
       "text": [
        "\r",
        "[1867]Fail:http://thredds.axiomalaska.com/thredds/dodsC/PWS_L1_FCST.nc,-1"
       ]
      },
      {
       "output_type": "stream",
       "stream": "stdout",
       "text": [
        "\r",
        "[1868]Fail:http://thredds.axiomalaska.com/thredds/dodsC/PWS_L2_FCST.nc,-1"
       ]
      },
      {
       "output_type": "stream",
       "stream": "stdout",
       "text": [
        "\r",
        "[1869]Fail:http://thredds.axiomalaska.com/thredds/dodsC/RAPID_REFRESH_ACC_TOTAL_PRCP.nc,-1"
       ]
      },
      {
       "output_type": "stream",
       "stream": "stdout",
       "text": [
        "\r",
        "[1870]Fail:http://thredds.axiomalaska.com/thredds/dodsC/RAPID_REFRESH_SKIN_TEMP.nc,-1"
       ]
      },
      {
       "output_type": "stream",
       "stream": "stdout",
       "text": [
        "\r",
        "[1871]Fail:http://thredds.axiomalaska.com/thredds/dodsC/RAPID_REFRESH_UV10M.nc,-1"
       ]
      },
      {
       "output_type": "stream",
       "stream": "stdout",
       "text": [
        "\r",
        "[1872]Fail:http://thredds.axiomalaska.com/thredds/dodsC/SNAP_A1B.nc,-1"
       ]
      },
      {
       "output_type": "stream",
       "stream": "stdout",
       "text": [
        "\r",
        "[1873]Fail:http://thredds.axiomalaska.com/thredds/dodsC/SNAP_B1_A2.nc,-1"
       ]
      },
      {
       "output_type": "stream",
       "stream": "stdout",
       "text": [
        "\r",
        "[1874]Fail:http://thredds.axiomalaska.com/thredds/dodsC/SNAP_JOHN_WALSH_HISTORICAL.nc,-1"
       ]
      },
      {
       "output_type": "stream",
       "stream": "stdout",
       "text": [
        "\r",
        "[1875]Fail:http://thredds.axiomalaska.com/thredds/dodsC/SNAP_JOHN_WALSH_RCP60.nc,-1"
       ]
      },
      {
       "output_type": "stream",
       "stream": "stdout",
       "text": [
        "\r",
        "[1876]Fail:http://thredds.axiomalaska.com/thredds/dodsC/SNAP_JOHN_WALSH_RCP85.nc,-1"
       ]
      },
      {
       "output_type": "stream",
       "stream": "stdout",
       "text": [
        "\r",
        "[1877]Good:http://thredds.axiomalaska.com/thredds/dodsC/SNAP_JOHN_WALSH_SEA_ICE.nc,240.70384"
       ]
      },
      {
       "output_type": "stream",
       "stream": "stdout",
       "text": [
        "\r",
        "[1878]Good:http://thredds.axiomalaska.com/thredds/dodsC/SNAP_PRC_CRU.nc,27066.15148"
       ]
      },
      {
       "output_type": "stream",
       "stream": "stdout",
       "text": [
        "\r",
        "[1879]Fail:http://thredds.axiomalaska.com/thredds/dodsC/SNAP_TAVE_CRU.nc,-1"
       ]
      },
      {
       "output_type": "stream",
       "stream": "stdout",
       "text": [
        "\r",
        "[1880]Good:http://thredds.axiomalaska.com/thredds/dodsC/ShelikofStraits_CookInlet_DEM.nc,5.61216"
       ]
      },
      {
       "output_type": "stream",
       "stream": "stdout",
       "text": [
        "\r",
        "[1881]Good:http://thredds.axiomalaska.com/thredds/dodsC/WAVE_1.nc,3218.207984"
       ]
      },
      {
       "output_type": "stream",
       "stream": "stdout",
       "text": [
        "\r",
        "[1882]Fail:http://thredds.axiomalaska.com/thredds/dodsC/WAVE_2.nc,-1"
       ]
      },
      {
       "output_type": "stream",
       "stream": "stdout",
       "text": [
        "\r",
        "[1883]Fail:http://thredds.axiomalaska.com/thredds/dodsC/WAVE_3.nc,-1"
       ]
      },
      {
       "output_type": "stream",
       "stream": "stdout",
       "text": [
        "\r",
        "[1884]Good:http://thredds.axiomalaska.com/thredds/dodsC/WRF_D01.nc,5084.23332"
       ]
      },
      {
       "output_type": "stream",
       "stream": "stdout",
       "text": [
        "\r",
        "[1885]Good:http://thredds.axiomalaska.com/thredds/dodsC/WRF_D02.nc,8601.006712"
       ]
      },
      {
       "output_type": "stream",
       "stream": "stdout",
       "text": [
        "\r",
        "Elapsed time=20.0452855984 minutes\n"
       ]
      }
     ],
     "prompt_number": 61
    },
    {
     "cell_type": "code",
     "collapsed": false,
     "input": [
      "print('Elapsed time={} minutes'.format((time.time()-time0)/60.))"
     ],
     "language": "python",
     "metadata": {},
     "outputs": [
      {
       "output_type": "stream",
       "stream": "stdout",
       "text": [
        "Elapsed time=20.0453634818 minutes\n"
       ]
      }
     ],
     "prompt_number": 62
    },
    {
     "cell_type": "code",
     "collapsed": false,
     "input": [
      "len(bad_data)"
     ],
     "language": "python",
     "metadata": {},
     "outputs": [
      {
       "metadata": {},
       "output_type": "pyout",
       "prompt_number": 63,
       "text": [
        "248"
       ]
      }
     ],
     "prompt_number": 63
    },
    {
     "cell_type": "code",
     "collapsed": false,
     "input": [
      "bad_data[0][0]"
     ],
     "language": "python",
     "metadata": {},
     "outputs": [
      {
       "metadata": {},
       "output_type": "pyout",
       "prompt_number": 64,
       "text": [
        "'http://www.neracoos.org/thredds/dodsC/UMO/DSG/SOS/A01/Doppler/HistoricRealtime/Agg.ncml'"
       ]
      }
     ],
     "prompt_number": 64
    },
    {
     "cell_type": "markdown",
     "metadata": {},
     "source": [
      "So how much data are we serving?"
     ]
    },
    {
     "cell_type": "code",
     "collapsed": false,
     "input": [
      "sum=0\n",
      "for ds in good_data:\n",
      "    sum +=ds[1]\n",
      "    \n",
      "print('{} terabytes'.format(sum/1.e6))"
     ],
     "language": "python",
     "metadata": {},
     "outputs": [
      {
       "output_type": "stream",
       "stream": "stdout",
       "text": [
        "53.2175702391 terabytes\n"
       ]
      }
     ],
     "prompt_number": 65
    },
    {
     "cell_type": "code",
     "collapsed": false,
     "input": [
      "url=[]\n",
      "size=[]\n",
      "for item in good_data:\n",
      "    url.append(item[0])\n",
      "    size.append(item[1])"
     ],
     "language": "python",
     "metadata": {},
     "outputs": [],
     "prompt_number": 66
    },
    {
     "cell_type": "code",
     "collapsed": false,
     "input": [
      "d={}\n",
      "d['url']=url\n",
      "d['size']=size"
     ],
     "language": "python",
     "metadata": {},
     "outputs": [],
     "prompt_number": 67
    },
    {
     "cell_type": "code",
     "collapsed": false,
     "input": [
      "good = pd.DataFrame(d)"
     ],
     "language": "python",
     "metadata": {},
     "outputs": [],
     "prompt_number": 68
    },
    {
     "cell_type": "code",
     "collapsed": false,
     "input": [
      "good.head()"
     ],
     "language": "python",
     "metadata": {},
     "outputs": [
      {
       "html": [
        "<div style=\"max-height:1000px;max-width:1500px;overflow:auto;\">\n",
        "<table border=\"1\" class=\"dataframe\">\n",
        "  <thead>\n",
        "    <tr style=\"text-align: right;\">\n",
        "      <th></th>\n",
        "      <th>size</th>\n",
        "      <th>url</th>\n",
        "    </tr>\n",
        "  </thead>\n",
        "  <tbody>\n",
        "    <tr>\n",
        "      <th>0</th>\n",
        "      <td> 161.589067</td>\n",
        "      <td> http://oos.soest.hawaii.edu/thredds/dodsC/paci...</td>\n",
        "    </tr>\n",
        "    <tr>\n",
        "      <th>1</th>\n",
        "      <td>  12.899552</td>\n",
        "      <td> http://www.neracoos.org/thredds/dodsC/UMO/DSG/...</td>\n",
        "    </tr>\n",
        "    <tr>\n",
        "      <th>2</th>\n",
        "      <td>  14.328960</td>\n",
        "      <td> http://www.neracoos.org/thredds/dodsC/UMO/DSG/...</td>\n",
        "    </tr>\n",
        "    <tr>\n",
        "      <th>3</th>\n",
        "      <td> 274.258484</td>\n",
        "      <td> http://thredds.coastal.ufl.edu:8080/thredds/do...</td>\n",
        "    </tr>\n",
        "    <tr>\n",
        "      <th>4</th>\n",
        "      <td> 721.913524</td>\n",
        "      <td> http://thredds.coastal.ufl.edu:8080/thredds/do...</td>\n",
        "    </tr>\n",
        "  </tbody>\n",
        "</table>\n",
        "</div>"
       ],
       "metadata": {},
       "output_type": "pyout",
       "prompt_number": 69,
       "text": [
        "         size                                                url\n",
        "0  161.589067  http://oos.soest.hawaii.edu/thredds/dodsC/paci...\n",
        "1   12.899552  http://www.neracoos.org/thredds/dodsC/UMO/DSG/...\n",
        "2   14.328960  http://www.neracoos.org/thredds/dodsC/UMO/DSG/...\n",
        "3  274.258484  http://thredds.coastal.ufl.edu:8080/thredds/do...\n",
        "4  721.913524  http://thredds.coastal.ufl.edu:8080/thredds/do..."
       ]
      }
     ],
     "prompt_number": 69
    },
    {
     "cell_type": "code",
     "collapsed": false,
     "input": [
      "good=good.sort(['size'],ascending=0)"
     ],
     "language": "python",
     "metadata": {},
     "outputs": [],
     "prompt_number": 70
    },
    {
     "cell_type": "code",
     "collapsed": false,
     "input": [
      "good.head()"
     ],
     "language": "python",
     "metadata": {},
     "outputs": [
      {
       "html": [
        "<div style=\"max-height:1000px;max-width:1500px;overflow:auto;\">\n",
        "<table border=\"1\" class=\"dataframe\">\n",
        "  <thead>\n",
        "    <tr style=\"text-align: right;\">\n",
        "      <th></th>\n",
        "      <th>size</th>\n",
        "      <th>url</th>\n",
        "    </tr>\n",
        "  </thead>\n",
        "  <tbody>\n",
        "    <tr>\n",
        "      <th>1037</th>\n",
        "      <td> 8075141.971392</td>\n",
        "      <td> http://ecowatch.ncddc.noaa.gov/thredds/dodsC/n...</td>\n",
        "    </tr>\n",
        "    <tr>\n",
        "      <th>967 </th>\n",
        "      <td> 7494709.539768</td>\n",
        "      <td> http://geoport.whoi.edu/thredds/dodsC/coawst_4...</td>\n",
        "    </tr>\n",
        "    <tr>\n",
        "      <th>1143</th>\n",
        "      <td> 4567598.362696</td>\n",
        "      <td> http://oos.soest.hawaii.edu/thredds/dodsC/paci...</td>\n",
        "    </tr>\n",
        "    <tr>\n",
        "      <th>1038</th>\n",
        "      <td> 3432967.640784</td>\n",
        "      <td> http://ecowatch.ncddc.noaa.gov/thredds/dodsC/n...</td>\n",
        "    </tr>\n",
        "    <tr>\n",
        "      <th>1049</th>\n",
        "      <td> 3077189.375788</td>\n",
        "      <td> http://ecowatch.ncddc.noaa.gov/thredds/dodsC/n...</td>\n",
        "    </tr>\n",
        "  </tbody>\n",
        "</table>\n",
        "</div>"
       ],
       "metadata": {},
       "output_type": "pyout",
       "prompt_number": 71,
       "text": [
        "                size                                                url\n",
        "1037  8075141.971392  http://ecowatch.ncddc.noaa.gov/thredds/dodsC/n...\n",
        "967   7494709.539768  http://geoport.whoi.edu/thredds/dodsC/coawst_4...\n",
        "1143  4567598.362696  http://oos.soest.hawaii.edu/thredds/dodsC/paci...\n",
        "1038  3432967.640784  http://ecowatch.ncddc.noaa.gov/thredds/dodsC/n...\n",
        "1049  3077189.375788  http://ecowatch.ncddc.noaa.gov/thredds/dodsC/n..."
       ]
      }
     ],
     "prompt_number": 71
    },
    {
     "cell_type": "code",
     "collapsed": false,
     "input": [
      "url=[]\n",
      "code=[]\n",
      "for item in bad_data:\n",
      "    url.append(item[0])\n",
      "    code.append(item[1])"
     ],
     "language": "python",
     "metadata": {},
     "outputs": [],
     "prompt_number": 72
    },
    {
     "cell_type": "code",
     "collapsed": false,
     "input": [
      "d={}\n",
      "d['url']=url\n",
      "d['code']=code\n",
      "bad = pd.DataFrame(d)"
     ],
     "language": "python",
     "metadata": {},
     "outputs": [],
     "prompt_number": 73
    },
    {
     "cell_type": "code",
     "collapsed": false,
     "input": [
      "bad.head()"
     ],
     "language": "python",
     "metadata": {},
     "outputs": [
      {
       "html": [
        "<div style=\"max-height:1000px;max-width:1500px;overflow:auto;\">\n",
        "<table border=\"1\" class=\"dataframe\">\n",
        "  <thead>\n",
        "    <tr style=\"text-align: right;\">\n",
        "      <th></th>\n",
        "      <th>code</th>\n",
        "      <th>url</th>\n",
        "    </tr>\n",
        "  </thead>\n",
        "  <tbody>\n",
        "    <tr>\n",
        "      <th>0</th>\n",
        "      <td> 404</td>\n",
        "      <td> http://www.neracoos.org/thredds/dodsC/UMO/DSG/...</td>\n",
        "    </tr>\n",
        "    <tr>\n",
        "      <th>1</th>\n",
        "      <td> 404</td>\n",
        "      <td> http://www.neracoos.org/thredds/dodsC/UMO/DSG/...</td>\n",
        "    </tr>\n",
        "    <tr>\n",
        "      <th>2</th>\n",
        "      <td> 404</td>\n",
        "      <td> http://www.neracoos.org/thredds/dodsC/UMO/DSG/...</td>\n",
        "    </tr>\n",
        "    <tr>\n",
        "      <th>3</th>\n",
        "      <td> 404</td>\n",
        "      <td> http://www.neracoos.org/thredds/dodsC/UMO/DSG/...</td>\n",
        "    </tr>\n",
        "    <tr>\n",
        "      <th>4</th>\n",
        "      <td> 404</td>\n",
        "      <td> http://www.neracoos.org/thredds/dodsC/UMO/DSG/...</td>\n",
        "    </tr>\n",
        "  </tbody>\n",
        "</table>\n",
        "</div>"
       ],
       "metadata": {},
       "output_type": "pyout",
       "prompt_number": 74,
       "text": [
        "   code                                                url\n",
        "0   404  http://www.neracoos.org/thredds/dodsC/UMO/DSG/...\n",
        "1   404  http://www.neracoos.org/thredds/dodsC/UMO/DSG/...\n",
        "2   404  http://www.neracoos.org/thredds/dodsC/UMO/DSG/...\n",
        "3   404  http://www.neracoos.org/thredds/dodsC/UMO/DSG/...\n",
        "4   404  http://www.neracoos.org/thredds/dodsC/UMO/DSG/..."
       ]
      }
     ],
     "prompt_number": 74
    },
    {
     "cell_type": "code",
     "collapsed": false,
     "input": [
      "cd /usgs/data2/notebook/system-test/Theme_1_Baseline"
     ],
     "language": "python",
     "metadata": {},
     "outputs": [
      {
       "output_type": "stream",
       "stream": "stdout",
       "text": [
        "/usgs/data2/notebook/system-test/Theme_1_Baseline\n"
       ]
      }
     ],
     "prompt_number": 75
    },
    {
     "cell_type": "code",
     "collapsed": false,
     "input": [
      "td = dt.datetime.today().strftime('%Y-%m-%d')"
     ],
     "language": "python",
     "metadata": {},
     "outputs": [],
     "prompt_number": 76
    },
    {
     "cell_type": "code",
     "collapsed": false,
     "input": [
      "bad.to_csv('bad'+td+'.csv')"
     ],
     "language": "python",
     "metadata": {},
     "outputs": [],
     "prompt_number": 77
    },
    {
     "cell_type": "code",
     "collapsed": false,
     "input": [
      "good.to_csv('good'+td+'.csv')"
     ],
     "language": "python",
     "metadata": {},
     "outputs": [],
     "prompt_number": 78
    },
    {
     "cell_type": "code",
     "collapsed": false,
     "input": [
      "bad=bad.sort(['url','code'],ascending=[0,0])"
     ],
     "language": "python",
     "metadata": {},
     "outputs": [],
     "prompt_number": 79
    },
    {
     "cell_type": "code",
     "collapsed": false,
     "input": [
      "bad = pd.read_csv('bad'+td+'.csv',index_col=0)\n",
      "good = pd.read_csv('good'+td+'.csv',index_col=0)"
     ],
     "language": "python",
     "metadata": {},
     "outputs": [],
     "prompt_number": 80
    },
    {
     "cell_type": "code",
     "collapsed": false,
     "input": [
      "bad.head()"
     ],
     "language": "python",
     "metadata": {},
     "outputs": [
      {
       "html": [
        "<div style=\"max-height:1000px;max-width:1500px;overflow:auto;\">\n",
        "<table border=\"1\" class=\"dataframe\">\n",
        "  <thead>\n",
        "    <tr style=\"text-align: right;\">\n",
        "      <th></th>\n",
        "      <th>code</th>\n",
        "      <th>url</th>\n",
        "    </tr>\n",
        "  </thead>\n",
        "  <tbody>\n",
        "    <tr>\n",
        "      <th>0</th>\n",
        "      <td> 404</td>\n",
        "      <td> http://www.neracoos.org/thredds/dodsC/UMO/DSG/...</td>\n",
        "    </tr>\n",
        "    <tr>\n",
        "      <th>1</th>\n",
        "      <td> 404</td>\n",
        "      <td> http://www.neracoos.org/thredds/dodsC/UMO/DSG/...</td>\n",
        "    </tr>\n",
        "    <tr>\n",
        "      <th>2</th>\n",
        "      <td> 404</td>\n",
        "      <td> http://www.neracoos.org/thredds/dodsC/UMO/DSG/...</td>\n",
        "    </tr>\n",
        "    <tr>\n",
        "      <th>3</th>\n",
        "      <td> 404</td>\n",
        "      <td> http://www.neracoos.org/thredds/dodsC/UMO/DSG/...</td>\n",
        "    </tr>\n",
        "    <tr>\n",
        "      <th>4</th>\n",
        "      <td> 404</td>\n",
        "      <td> http://www.neracoos.org/thredds/dodsC/UMO/DSG/...</td>\n",
        "    </tr>\n",
        "  </tbody>\n",
        "</table>\n",
        "</div>"
       ],
       "metadata": {},
       "output_type": "pyout",
       "prompt_number": 81,
       "text": [
        "   code                                                url\n",
        "0   404  http://www.neracoos.org/thredds/dodsC/UMO/DSG/...\n",
        "1   404  http://www.neracoos.org/thredds/dodsC/UMO/DSG/...\n",
        "2   404  http://www.neracoos.org/thredds/dodsC/UMO/DSG/...\n",
        "3   404  http://www.neracoos.org/thredds/dodsC/UMO/DSG/...\n",
        "4   404  http://www.neracoos.org/thredds/dodsC/UMO/DSG/..."
       ]
      }
     ],
     "prompt_number": 81
    },
    {
     "cell_type": "code",
     "collapsed": false,
     "input": [
      "recs = bad[bad['url'].str.contains('neracoos')]\n",
      "print(len(recs))"
     ],
     "language": "python",
     "metadata": {},
     "outputs": [
      {
       "output_type": "stream",
       "stream": "stdout",
       "text": [
        "11\n"
       ]
      }
     ],
     "prompt_number": 82
    },
    {
     "cell_type": "code",
     "collapsed": false,
     "input": [
      "recs = bad[bad['url'].str.contains('ucar')]\n",
      "print(len(recs))"
     ],
     "language": "python",
     "metadata": {},
     "outputs": [
      {
       "output_type": "stream",
       "stream": "stdout",
       "text": [
        "7\n"
       ]
      }
     ],
     "prompt_number": 83
    },
    {
     "cell_type": "code",
     "collapsed": false,
     "input": [
      "recs = bad[bad['url'].str.contains('tamu')]\n",
      "print(len(recs))"
     ],
     "language": "python",
     "metadata": {},
     "outputs": [
      {
       "output_type": "stream",
       "stream": "stdout",
       "text": [
        "1\n"
       ]
      }
     ],
     "prompt_number": 84
    },
    {
     "cell_type": "code",
     "collapsed": false,
     "input": [
      "recs = bad[bad['url'].str.contains('axiom')]\n",
      "print(len(recs))"
     ],
     "language": "python",
     "metadata": {},
     "outputs": [
      {
       "output_type": "stream",
       "stream": "stdout",
       "text": [
        "78\n"
       ]
      }
     ],
     "prompt_number": 85
    },
    {
     "cell_type": "code",
     "collapsed": false,
     "input": [
      "recs = bad[bad['url'].str.contains('caricoos')]\n",
      "print(len(recs))"
     ],
     "language": "python",
     "metadata": {},
     "outputs": [
      {
       "output_type": "stream",
       "stream": "stdout",
       "text": [
        "0\n"
       ]
      }
     ],
     "prompt_number": 86
    },
    {
     "cell_type": "code",
     "collapsed": false,
     "input": [
      "recs = bad[bad['url'].str.contains('secoora')]\n",
      "print(len(recs))"
     ],
     "language": "python",
     "metadata": {},
     "outputs": [
      {
       "output_type": "stream",
       "stream": "stdout",
       "text": [
        "3\n"
       ]
      }
     ],
     "prompt_number": 87
    },
    {
     "cell_type": "code",
     "collapsed": false,
     "input": [
      "recs = bad[bad['url'].str.contains('nanoos')]\n",
      "print(len(recs))"
     ],
     "language": "python",
     "metadata": {},
     "outputs": [
      {
       "output_type": "stream",
       "stream": "stdout",
       "text": [
        "0\n"
       ]
      }
     ],
     "prompt_number": 88
    },
    {
     "cell_type": "code",
     "collapsed": false,
     "input": [
      "recs.to_csv('axiom.csv')\n"
     ],
     "language": "python",
     "metadata": {},
     "outputs": [],
     "prompt_number": 89
    },
    {
     "cell_type": "code",
     "collapsed": false,
     "input": [
      "!git add *.csv"
     ],
     "language": "python",
     "metadata": {},
     "outputs": [],
     "prompt_number": 90
    },
    {
     "cell_type": "code",
     "collapsed": false,
     "input": [
      "!git commit -m 'new csv'"
     ],
     "language": "python",
     "metadata": {},
     "outputs": [
      {
       "output_type": "stream",
       "stream": "stdout",
       "text": [
        "[master 53a2493] new csv\r\n",
        " 2 files changed, 1887 insertions(+)\r\n",
        " create mode 100644 Theme_1_Baseline/bad2014-12-02.csv\r\n",
        " create mode 100644 Theme_1_Baseline/good2014-12-02.csv\r\n"
       ]
      }
     ],
     "prompt_number": 91
    },
    {
     "cell_type": "code",
     "collapsed": false,
     "input": [
      "!git push"
     ],
     "language": "python",
     "metadata": {},
     "outputs": [
      {
       "output_type": "stream",
       "stream": "stdout",
       "text": [
        "ssh: /home/usgs/anaconda/lib/libcrypto.so.1.0.0: no version information available (required by ssh)\r\n"
       ]
      },
      {
       "output_type": "stream",
       "stream": "stdout",
       "text": [
        "Counting objects: 7, done.\r\n",
        "Delta compression using up to 16 threads.\r\n",
        "Compressing objects:  20% (1/5)   \r",
        "Compressing objects:  40% (2/5)   \r",
        "Compressing objects:  60% (3/5)   \r",
        "Compressing objects:  80% (4/5)   \r",
        "Compressing objects: 100% (5/5)   \r",
        "Compressing objects: 100% (5/5), done.\r\n",
        "Writing objects:  20% (1/5)   \r",
        "Writing objects:  40% (2/5)   \r",
        "Writing objects:  60% (3/5)   \r",
        "Writing objects:  80% (4/5)   \r",
        "Writing objects: 100% (5/5)   \r",
        "Writing objects: 100% (5/5), 28.61 KiB, done.\r\n",
        "Total 5 (delta 2), reused 0 (delta 0)\r\n"
       ]
      },
      {
       "output_type": "stream",
       "stream": "stdout",
       "text": [
        "To git@github.com:rsignell-usgs/system-test.git\r\n",
        "   6238558..53a2493  master -> master\r\n"
       ]
      }
     ],
     "prompt_number": 92
    },
    {
     "cell_type": "code",
     "collapsed": false,
     "input": [],
     "language": "python",
     "metadata": {},
     "outputs": [],
     "prompt_number": 92
    }
   ],
   "metadata": {}
  }
 ]
}