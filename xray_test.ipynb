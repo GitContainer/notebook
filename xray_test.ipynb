{
 "metadata": {
  "gist_id": "047235496029529585cc",
  "name": "",
  "signature": "sha256:66dccf6284bbf38937fdb2f8bc31143d8503bbfbd11ae14fc94080ab6486208f"
 },
 "nbformat": 3,
 "nbformat_minor": 0,
 "worksheets": [
  {
   "cells": [
    {
     "cell_type": "code",
     "collapsed": false,
     "input": [
      "import xray\n",
      "import datetime\n",
      "import matplotlib.pyplot as plt\n",
      "import numpy as np\n",
      "import pandas as pd\n",
      "%matplotlib inline"
     ],
     "language": "python",
     "metadata": {},
     "outputs": [],
     "prompt_number": 1
    },
    {
     "cell_type": "code",
     "collapsed": false,
     "input": [
      "URL = 'http://thredds.ucar.edu/thredds/dodsC/grib/NCEP/GFS/Global_0p5deg/Best'"
     ],
     "language": "python",
     "metadata": {},
     "outputs": [],
     "prompt_number": 2
    },
    {
     "cell_type": "code",
     "collapsed": false,
     "input": [
      "ds = xray.open_dataset(URL)"
     ],
     "language": "python",
     "metadata": {},
     "outputs": [],
     "prompt_number": 3
    },
    {
     "cell_type": "code",
     "collapsed": false,
     "input": [
      "# select lat,lon region of interest\n",
      "# note: slice(20.5,55.0) fails\n",
      "dsloc = ds.sel(lon=slice(230.5,300.0),lat=slice(55.0,20.5))"
     ],
     "language": "python",
     "metadata": {},
     "outputs": [],
     "prompt_number": 4
    },
    {
     "cell_type": "code",
     "collapsed": false,
     "input": [
      "# select closest data to time of interest\n",
      "date = datetime.datetime(2015,7,15,3,0,0)\n",
      "#date = datetime.datetime.now()\n",
      "ds_snapshot = dsloc.sel(time1=date,method='nearest')"
     ],
     "language": "python",
     "metadata": {},
     "outputs": []
    },
    {
     "cell_type": "code",
     "collapsed": false,
     "input": [
      "# ds.data_vars\n",
      "# ds.coords\n",
      "# ds.attrs"
     ],
     "language": "python",
     "metadata": {},
     "outputs": [],
     "prompt_number": 6
    },
    {
     "cell_type": "code",
     "collapsed": false,
     "input": [
      "t = ds_snapshot['Temperature_surface']"
     ],
     "language": "python",
     "metadata": {},
     "outputs": [],
     "prompt_number": 7
    },
    {
     "cell_type": "code",
     "collapsed": false,
     "input": [
      "t.shape"
     ],
     "language": "python",
     "metadata": {},
     "outputs": [
      {
       "metadata": {},
       "output_type": "pyout",
       "prompt_number": 8,
       "text": [
        "(209, 70, 140)"
       ]
      }
     ],
     "prompt_number": 8
    },
    {
     "cell_type": "code",
     "collapsed": false,
     "input": [
      "plt.pcolormesh(t.lon.data,t.lat.data,t.data)\n",
      "plt.title(t.name+pd.Timestamp(t.time.values).strftime(': %Y-%m-%d  %H:%M:%S %Z %z'));"
     ],
     "language": "python",
     "metadata": {},
     "outputs": [
      {
       "ename": "ValueError",
       "evalue": "too many values to unpack",
       "output_type": "pyerr",
       "traceback": [
        "\u001b[1;31m---------------------------------------------------------------------------\u001b[0m\n\u001b[1;31mValueError\u001b[0m                                Traceback (most recent call last)",
        "\u001b[1;32m<ipython-input-9-ae43f2f1e663>\u001b[0m in \u001b[0;36m<module>\u001b[1;34m()\u001b[0m\n\u001b[1;32m----> 1\u001b[1;33m \u001b[0mplt\u001b[0m\u001b[1;33m.\u001b[0m\u001b[0mpcolormesh\u001b[0m\u001b[1;33m(\u001b[0m\u001b[0mt\u001b[0m\u001b[1;33m.\u001b[0m\u001b[0mlon\u001b[0m\u001b[1;33m.\u001b[0m\u001b[0mdata\u001b[0m\u001b[1;33m,\u001b[0m\u001b[0mt\u001b[0m\u001b[1;33m.\u001b[0m\u001b[0mlat\u001b[0m\u001b[1;33m.\u001b[0m\u001b[0mdata\u001b[0m\u001b[1;33m,\u001b[0m\u001b[0mt\u001b[0m\u001b[1;33m.\u001b[0m\u001b[0mdata\u001b[0m\u001b[1;33m)\u001b[0m\u001b[1;33m\u001b[0m\u001b[0m\n\u001b[0m\u001b[0;32m      2\u001b[0m \u001b[0mplt\u001b[0m\u001b[1;33m.\u001b[0m\u001b[0mtitle\u001b[0m\u001b[1;33m(\u001b[0m\u001b[0mt\u001b[0m\u001b[1;33m.\u001b[0m\u001b[0mname\u001b[0m\u001b[1;33m+\u001b[0m\u001b[0mpd\u001b[0m\u001b[1;33m.\u001b[0m\u001b[0mTimestamp\u001b[0m\u001b[1;33m(\u001b[0m\u001b[0mt\u001b[0m\u001b[1;33m.\u001b[0m\u001b[0mtime\u001b[0m\u001b[1;33m.\u001b[0m\u001b[0mvalues\u001b[0m\u001b[1;33m)\u001b[0m\u001b[1;33m.\u001b[0m\u001b[0mstrftime\u001b[0m\u001b[1;33m(\u001b[0m\u001b[1;34m': %Y-%m-%d  %H:%M:%S %Z %z'\u001b[0m\u001b[1;33m)\u001b[0m\u001b[1;33m)\u001b[0m\u001b[1;33m;\u001b[0m\u001b[1;33m\u001b[0m\u001b[0m\n",
        "\u001b[1;32m/home/usgs/miniconda/envs/ioos/lib/python2.7/site-packages/matplotlib/pyplot.pyc\u001b[0m in \u001b[0;36mpcolormesh\u001b[1;34m(*args, **kwargs)\u001b[0m\n\u001b[0;32m   3034\u001b[0m         \u001b[0max\u001b[0m\u001b[1;33m.\u001b[0m\u001b[0mhold\u001b[0m\u001b[1;33m(\u001b[0m\u001b[0mhold\u001b[0m\u001b[1;33m)\u001b[0m\u001b[1;33m\u001b[0m\u001b[0m\n\u001b[0;32m   3035\u001b[0m     \u001b[1;32mtry\u001b[0m\u001b[1;33m:\u001b[0m\u001b[1;33m\u001b[0m\u001b[0m\n\u001b[1;32m-> 3036\u001b[1;33m         \u001b[0mret\u001b[0m \u001b[1;33m=\u001b[0m \u001b[0max\u001b[0m\u001b[1;33m.\u001b[0m\u001b[0mpcolormesh\u001b[0m\u001b[1;33m(\u001b[0m\u001b[1;33m*\u001b[0m\u001b[0margs\u001b[0m\u001b[1;33m,\u001b[0m \u001b[1;33m**\u001b[0m\u001b[0mkwargs\u001b[0m\u001b[1;33m)\u001b[0m\u001b[1;33m\u001b[0m\u001b[0m\n\u001b[0m\u001b[0;32m   3037\u001b[0m         \u001b[0mdraw_if_interactive\u001b[0m\u001b[1;33m(\u001b[0m\u001b[1;33m)\u001b[0m\u001b[1;33m\u001b[0m\u001b[0m\n\u001b[0;32m   3038\u001b[0m     \u001b[1;32mfinally\u001b[0m\u001b[1;33m:\u001b[0m\u001b[1;33m\u001b[0m\u001b[0m\n",
        "\u001b[1;32m/home/usgs/miniconda/envs/ioos/lib/python2.7/site-packages/matplotlib/axes/_axes.pyc\u001b[0m in \u001b[0;36mpcolormesh\u001b[1;34m(self, *args, **kwargs)\u001b[0m\n\u001b[0;32m   5087\u001b[0m         \u001b[0mallmatch\u001b[0m \u001b[1;33m=\u001b[0m \u001b[1;33m(\u001b[0m\u001b[0mshading\u001b[0m \u001b[1;33m==\u001b[0m \u001b[1;34m'gouraud'\u001b[0m\u001b[1;33m)\u001b[0m\u001b[1;33m\u001b[0m\u001b[0m\n\u001b[0;32m   5088\u001b[0m \u001b[1;33m\u001b[0m\u001b[0m\n\u001b[1;32m-> 5089\u001b[1;33m         \u001b[0mX\u001b[0m\u001b[1;33m,\u001b[0m \u001b[0mY\u001b[0m\u001b[1;33m,\u001b[0m \u001b[0mC\u001b[0m \u001b[1;33m=\u001b[0m \u001b[0mself\u001b[0m\u001b[1;33m.\u001b[0m\u001b[0m_pcolorargs\u001b[0m\u001b[1;33m(\u001b[0m\u001b[1;34m'pcolormesh'\u001b[0m\u001b[1;33m,\u001b[0m \u001b[1;33m*\u001b[0m\u001b[0margs\u001b[0m\u001b[1;33m,\u001b[0m \u001b[0mallmatch\u001b[0m\u001b[1;33m=\u001b[0m\u001b[0mallmatch\u001b[0m\u001b[1;33m)\u001b[0m\u001b[1;33m\u001b[0m\u001b[0m\n\u001b[0m\u001b[0;32m   5090\u001b[0m         \u001b[0mNy\u001b[0m\u001b[1;33m,\u001b[0m \u001b[0mNx\u001b[0m \u001b[1;33m=\u001b[0m \u001b[0mX\u001b[0m\u001b[1;33m.\u001b[0m\u001b[0mshape\u001b[0m\u001b[1;33m\u001b[0m\u001b[0m\n\u001b[0;32m   5091\u001b[0m \u001b[1;33m\u001b[0m\u001b[0m\n",
        "\u001b[1;32m/home/usgs/miniconda/envs/ioos/lib/python2.7/site-packages/matplotlib/axes/_axes.pyc\u001b[0m in \u001b[0;36m_pcolorargs\u001b[1;34m(funcname, *args, **kw)\u001b[0m\n\u001b[0;32m   4690\u001b[0m         \u001b[1;32mif\u001b[0m \u001b[0mlen\u001b[0m\u001b[1;33m(\u001b[0m\u001b[0margs\u001b[0m\u001b[1;33m)\u001b[0m \u001b[1;33m==\u001b[0m \u001b[1;36m3\u001b[0m\u001b[1;33m:\u001b[0m\u001b[1;33m\u001b[0m\u001b[0m\n\u001b[0;32m   4691\u001b[0m             \u001b[0mX\u001b[0m\u001b[1;33m,\u001b[0m \u001b[0mY\u001b[0m\u001b[1;33m,\u001b[0m \u001b[0mC\u001b[0m \u001b[1;33m=\u001b[0m \u001b[0margs\u001b[0m\u001b[1;33m\u001b[0m\u001b[0m\n\u001b[1;32m-> 4692\u001b[1;33m             \u001b[0mnumRows\u001b[0m\u001b[1;33m,\u001b[0m \u001b[0mnumCols\u001b[0m \u001b[1;33m=\u001b[0m \u001b[0mC\u001b[0m\u001b[1;33m.\u001b[0m\u001b[0mshape\u001b[0m\u001b[1;33m\u001b[0m\u001b[0m\n\u001b[0m\u001b[0;32m   4693\u001b[0m         \u001b[1;32melse\u001b[0m\u001b[1;33m:\u001b[0m\u001b[1;33m\u001b[0m\u001b[0m\n\u001b[0;32m   4694\u001b[0m             raise TypeError(\n",
        "\u001b[1;31mValueError\u001b[0m: too many values to unpack"
       ]
      },
      {
       "metadata": {},
       "output_type": "display_data",
       "png": "[encoded data removed]",
       "text": [
        "<matplotlib.figure.Figure at 0x7fda15ce11d0>"
       ]
      }
     ],
     "prompt_number": 9
    },
    {
     "cell_type": "code",
     "collapsed": false,
     "input": [
      "# time series closest to specified lon,lat location\n",
      "ds_series = ds.sel(lon=250.,lat=33.,method='nearest')"
     ],
     "language": "python",
     "metadata": {},
     "outputs": [],
     "prompt_number": 16
    },
    {
     "cell_type": "code",
     "collapsed": false,
     "input": [
      "# Select temperature and convert to Pandas Series\n",
      "v_series = ds_series['Temperature_surface'].to_series()"
     ],
     "language": "python",
     "metadata": {},
     "outputs": [],
     "prompt_number": 17
    },
    {
     "cell_type": "code",
     "collapsed": false,
     "input": [
      "v_series.plot(title=v_series.name);"
     ],
     "language": "python",
     "metadata": {},
     "outputs": [
      {
       "metadata": {},
       "output_type": "display_data",
       "png": "[encoded data removed]",
       "text": [
        "<matplotlib.figure.Figure at 0x7fda15a76b10>"
       ]
      }
     ],
     "prompt_number": 18
    },
    {
     "cell_type": "code",
     "collapsed": false,
     "input": [
      "ds_snapshot.to_netcdf('ds_snapshot.nc')"
     ],
     "language": "python",
     "metadata": {},
     "outputs": [],
     "prompt_number": 19
    },
    {
     "cell_type": "code",
     "collapsed": false,
     "input": [
      "ds_snapshot"
     ],
     "language": "python",
     "metadata": {},
     "outputs": [
      {
       "metadata": {},
       "output_type": "pyout",
       "prompt_number": 20,
       "text": [
        "<xray.Dataset>\n",
        "Dimensions:                                                                     (altitude_above_msl: 3, depth_below_surface_layer: 4, depth_below_surface_layer_bounds_1: 2, height_above_ground: 1, height_above_ground1: 2, height_above_ground2: 1, height_above_ground3: 3, height_above_ground4: 3, height_above_ground_layer: 1, height_above_ground_layer1: 1, height_above_ground_layer1_bounds_1: 2, height_above_ground_layer_bounds_1: 2, isobaric: 12, isobaric1: 1, isobaric2: 21, isobaric3: 26, lat: 70, lon: 140, potential_vorticity_surface: 2, pressure_difference_layer: 1, pressure_difference_layer1: 1, pressure_difference_layer1_bounds_1: 2, pressure_difference_layer2: 2, pressure_difference_layer2_bounds_1: 2, pressure_difference_layer_bounds_1: 2, sigma: 1, sigma_layer: 4, sigma_layer_bounds_1: 2, time1: 209, time2: 208, time2_bounds_1: 2)\n",
        "Coordinates:\n",
        "  * lat                                                                         (lat) float32 55.0 ...\n",
        "  * lon                                                                         (lon) float32 230.5 ...\n",
        "    time                                                                        datetime64[ns] 2015-07-15T03:00:00 ...\n",
        "    reftime                                                                     datetime64[ns] 2015-07-15 ...\n",
        "  * time1                                                                       (time1) datetime64[ns] 2015-07-01 ...\n",
        "    reftime1                                                                    (time1) datetime64[ns] 2015-07-01 ...\n",
        "  * time2                                                                       (time2) datetime64[ns] 2015-07-01T03:00:00 ...\n",
        "    reftime2                                                                    (time2) datetime64[ns] 2015-07-01 ...\n",
        "  * depth_below_surface_layer                                                   (depth_below_surface_layer) float32 0.05 ...\n",
        "  * isobaric                                                                    (isobaric) float32 1000.0 ...\n",
        "  * height_above_ground_layer                                                   (height_above_ground_layer) float32 1500.0 ...\n",
        "  * height_above_ground                                                         (height_above_ground) float32 2.0 ...\n",
        "  * potential_vorticity_surface                                                 (potential_vorticity_surface) float32 -2e-06 ...\n",
        "  * pressure_difference_layer                                                   (pressure_difference_layer) float32 1500.0 ...\n",
        "  * isobaric1                                                                   (isobaric1) float32 50000.0 ...\n",
        "  * height_above_ground1                                                        (height_above_ground1) float32 2.0 ...\n",
        "  * height_above_ground2                                                        (height_above_ground2) float32 80.0 ...\n",
        "  * isobaric2                                                                   (isobaric2) float32 10000.0 ...\n",
        "  * sigma                                                                       (sigma) float32 0.995 ...\n",
        "  * altitude_above_msl                                                          (altitude_above_msl) float32 1829.0 ...\n",
        "  * height_above_ground3                                                        (height_above_ground3) float32 10.0 ...\n",
        "  * height_above_ground_layer1                                                  (height_above_ground_layer1) float32 3000.0 ...\n",
        "  * pressure_difference_layer1                                                  (pressure_difference_layer1) float32 12750.0 ...\n",
        "  * isobaric3                                                                   (isobaric3) float32 1000.0 ...\n",
        "  * sigma_layer                                                                 (sigma_layer) float32 0.58 ...\n",
        "  * pressure_difference_layer2                                                  (pressure_difference_layer2) float32 9000.0 ...\n",
        "  * height_above_ground4                                                        (height_above_ground4) float32 2.0 ...\n",
        "  * depth_below_surface_layer_bounds_1                                          (depth_below_surface_layer_bounds_1) int64 0 ...\n",
        "  * height_above_ground_layer1_bounds_1                                         (height_above_ground_layer1_bounds_1) int64 0 ...\n",
        "  * height_above_ground_layer_bounds_1                                          (height_above_ground_layer_bounds_1) int64 0 ...\n",
        "  * pressure_difference_layer1_bounds_1                                         (pressure_difference_layer1_bounds_1) int64 0 ...\n",
        "  * pressure_difference_layer2_bounds_1                                         (pressure_difference_layer2_bounds_1) int64 0 ...\n",
        "  * pressure_difference_layer_bounds_1                                          (pressure_difference_layer_bounds_1) int64 0 ...\n",
        "  * sigma_layer_bounds_1                                                        (sigma_layer_bounds_1) int64 0 ...\n",
        "  * time2_bounds_1                                                              (time2_bounds_1) int64 0 ...\n",
        "Data variables:\n",
        "    LatLon_Projection                                                           int64 0 ...\n",
        "    time2_bounds                                                                (time2, time2_bounds_1) datetime64[ns] 2015-07-01 ...\n",
        "    depth_below_surface_layer_bounds                                            (depth_below_surface_layer, depth_below_surface_layer_bounds_1) float32 0.0 ...\n",
        "    height_above_ground_layer_bounds                                            (height_above_ground_layer, height_above_ground_layer_bounds_1) float32 3000.0 ...\n",
        "    pressure_difference_layer_bounds                                            (pressure_difference_layer, pressure_difference_layer_bounds_1) float32 3000.0 ...\n",
        "    height_above_ground_layer1_bounds                                           (height_above_ground_layer1, height_above_ground_layer1_bounds_1) float32 6000.0 ...\n",
        "    pressure_difference_layer1_bounds                                           (pressure_difference_layer1, pressure_difference_layer1_bounds_1) float32 25500.0 ...\n",
        "    sigma_layer_bounds                                                          (sigma_layer, sigma_layer_bounds_1) float32 0.44 ...\n",
        "    pressure_difference_layer2_bounds                                           (pressure_difference_layer2, pressure_difference_layer2_bounds_1) float32 18000.0 ...\n",
        "    Total_ozone_entire_atmosphere_single_layer                                  (time1, lat, lon) float32 345.5 ...\n",
        "    Ozone_Mixing_Ratio_isobaric                                                 (time1, isobaric, lat, lon) float32 1.2811e-05 ...\n",
        "    Momentum_flux_u-component_surface_Mixed_intervals_Average                   (time2, lat, lon) float32 -0.263 ...\n",
        "    Momentum_flux_v-component_surface_Mixed_intervals_Average                   (time2, lat, lon) float32 -0.024 ...\n",
        "    Surface_Lifted_Index_surface                                                (time1, lat, lon) float32 3.9 ...\n",
        "    Downward_Short-Wave_Radiation_Flux_surface_Mixed_intervals_Average          (time2, lat, lon) float32 428.0 ...\n",
        "    Downward_Long-Wave_Radp_Flux_surface_Mixed_intervals_Average                (time2, lat, lon) float32 305.0 ...\n",
        "    MSLP_Eta_model_reduction_msl                                                (time1, lat, lon) float32 102217.0 ...\n",
        "    Pressure_high_cloud_bottom_Mixed_intervals_Average                          (time2, lat, lon) float32 27790.0 ...\n",
        "    Pressure_low_cloud_bottom_Mixed_intervals_Average                           (time2, lat, lon) float32 80830.4 ...\n",
        "    Pressure_low_cloud_top_Mixed_intervals_Average                              (time2, lat, lon) float32 73250.4 ...\n",
        "    Pressure_high_cloud_top_Mixed_intervals_Average                             (time2, lat, lon) float32 20510.0 ...\n",
        "    Vertical_Speed_Shear_potential_vorticity_surface                            (time1, potential_vorticity_surface, lat, lon) float32 nan ...\n",
        "    Pressure_middle_cloud_top_Mixed_intervals_Average                           (time2, lat, lon) float32 nan ...\n",
        "    Pressure_middle_cloud_bottom_Mixed_intervals_Average                        (time2, lat, lon) float32 nan ...\n",
        "    Ventilation_Rate_planetary_boundary                                         (time1, lat, lon) float32 3800.0 ...\n",
        "    Pressure_convective_cloud_top                                               (lat, lon) float32 nan ...\n",
        "    Pressure_convective_cloud_bottom                                            (lat, lon) float32 nan ...\n",
        "    Vertical_Speed_Shear_tropopause                                             (time1, lat, lon) float32 -0.008 ...\n",
        "    Wind_speed_gust_surface                                                     (time1, lat, lon) float32 3.2 ...\n",
        "    Pressure_of_level_from_which_parcel_was_lifted_pressure_difference_layer    (time1, pressure_difference_layer1, lat, lon) float32 94382.7 ...\n",
        "    Temperature_low_cloud_top_Mixed_intervals_Average                           (time2, lat, lon) float32 275.7 ...\n",
        "    Temperature_middle_cloud_top_Mixed_intervals_Average                        (time2, lat, lon) float32 nan ...\n",
        "    Temperature_high_cloud_top_Mixed_intervals_Average                          (time2, lat, lon) float32 218.1 ...\n",
        "    Categorical_Rain_surface_Mixed_intervals_Average                            (time2, lat, lon) float32 1.0 ...\n",
        "    Potential_Evaporation_Rate_surface                                          (lat, lon) float32 99.0 ...\n",
        "    Volumetric_Soil_Moisture_Content_depth_below_surface_layer                  (time1, depth_below_surface_layer, lat, lon) float32 0.24 ...\n",
        "    Ice_cover_surface                                                           (time1, lat, lon) float32 0.0 ...\n",
        "    Land_cover_0__sea_1__land_surface                                           (time1, lat, lon) float32 1.0 ...\n",
        "    Pressure_surface                                                            (time1, lat, lon) float32 94634.4 ...\n",
        "    Specific_humidity_pressure_difference_layer                                 (time1, pressure_difference_layer, lat, lon) float32 0.007171 ...\n",
        "    Temperature_pressure_difference_layer                                       (time1, pressure_difference_layer, lat, lon) float32 287.0 ...\n",
        "    Temperature_surface                                                         (time1, lat, lon) float32 290.7 ...\n",
        "    Albedo_surface_Mixed_intervals_Average                                      (time2, lat, lon) float32 21.1 ...\n",
        "    Relative_humidity_sigma_layer                                               (time1, sigma_layer, lat, lon) float32 23.0 ...\n",
        "    Relative_humidity_pressure_difference_layer                                 (time1, pressure_difference_layer, lat, lon) float32 67.0 ...\n",
        "    Haines_Index_surface                                                        (time1, lat, lon) float32 3.0 ...\n",
        "    Soil_temperature_depth_below_surface_layer                                  (time1, depth_below_surface_layer, lat, lon) float32 287.8 ...\n",
        "    u-component_of_wind_pressure_difference_layer                               (time1, pressure_difference_layer, lat, lon) float32 3.54 ...\n",
        "    v-component_of_wind_pressure_difference_layer                               (time1, pressure_difference_layer, lat, lon) float32 0.2 ...\n",
        "    Geopotential_height_surface                                                 (time1, lat, lon) float32 656.161 ...\n",
        "    Water_runoff_surface_Mixed_intervals_Accumulation                           (time2, lat, lon) float32 0.1752 ...\n",
        "    Convective_available_potential_energy_pressure_difference_layer             (time1, pressure_difference_layer2, lat, lon) float32 14.0 ...\n",
        "    Convective_available_potential_energy_surface                               (time1, lat, lon) float32 27.0 ...\n",
        "    Convective_inhibition_pressure_difference_layer                             (time1, pressure_difference_layer2, lat, lon) float32 -2.0 ...\n",
        "    Convective_inhibition_surface                                               (time1, lat, lon) float32 0.0 ...\n",
        "    Precipitation_rate_surface_Mixed_intervals_Average                          (time2, lat, lon) float32 0.0 ...\n",
        "    Storm_relative_helicity_height_above_ground_layer                           (time1, height_above_ground_layer, lat, lon) float32 -13.0 ...\n",
        "    Total_precipitation_surface_Mixed_intervals_Accumulation                    (time2, lat, lon) float32 0.0 ...\n",
        "    Convective_precipitation_surface_Mixed_intervals_Accumulation               (time2, lat, lon) float32 0.04 ...\n",
        "    Latent_heat_net_flux_surface_Mixed_intervals_Average                        (time2, lat, lon) float32 99.0 ...\n",
        "    Sensible_heat_net_flux_surface_Mixed_intervals_Average                      (time2, lat, lon) float32 145.0 ...\n",
        "    Snow_depth_surface                                                          (time1, lat, lon) float32 0.0 ...\n",
        "    Water_equivalent_of_accumulated_snow_depth_surface                          (time1, lat, lon) float32 0.0 ...\n",
        "    Total_cloud_cover_high_cloud_Mixed_intervals_Average                        (time2, lat, lon) float32 22.0 ...\n",
        "    Total_cloud_cover_convective_cloud                                          (lat, lon) float32 0.0 ...\n",
        "    Total_cloud_cover_low_cloud_Mixed_intervals_Average                         (time2, lat, lon) float32 12.0 ...\n",
        "    Total_cloud_cover_middle_cloud_Mixed_intervals_Average                      (time2, lat, lon) float32 0.0 ...\n",
        "    Total_cloud_cover_boundary_layer_cloud_Mixed_intervals_Average              (time2, lat, lon) float32 2.0 ...\n",
        "    Cloud_Work_Function_entire_atmosphere_single_layer_Mixed_intervals_Average  (time2, lat, lon) float32 0.0 ...\n",
        "    Sunshine_Duration_surface                                                   (time1, lat, lon) float32 450.0 ...\n",
        "    Best_4_layer_Lifted_Index_surface                                           (time1, lat, lon) float32 4.5 ...\n",
        "    Upward_Short-Wave_Radiation_Flux_atmosphere_top_Mixed_intervals_Average     (time2, lat, lon) float32 159.0 ...\n",
        "    Upward_Short-Wave_Radiation_Flux_surface_Mixed_intervals_Average            (time2, lat, lon) float32 90.0 ...\n",
        "    Upward_Long-Wave_Radp_Flux_surface_Mixed_intervals_Average                  (time2, lat, lon) float32 395.0 ...\n",
        "    Upward_Long-Wave_Radp_Flux_atmosphere_top_Mixed_intervals_Average           (time2, lat, lon) float32 264.0 ...\n",
        "    5-Wave_Geopotential_Height_isobaric                                         (time1, isobaric1, lat, lon) float32 5820.33 ...\n",
        "    Relative_humidity_highest_tropospheric_freezing                             (time1, lat, lon) float32 33.0 ...\n",
        "    Relative_humidity_entire_atmosphere_single_layer                            (time1, lat, lon) float32 22.0 ...\n",
        "    Categorical_Freezing_Rain_surface_Mixed_intervals_Average                   (time2, lat, lon) float32 0.0 ...\n",
        "    Ground_Heat_Flux_surface_Mixed_intervals_Average                            (time2, lat, lon) float32 -16.0 ...\n",
        "    Wilting_Point_surface                                                       (time1, lat, lon) float32 0.0469 ...\n",
        "    Per_cent_frozen_precipitation_surface                                       (time1, lat, lon) float32 0.0 ...\n",
        "    Temperature_isobaric                                                        (time1, isobaric3, lat, lon) float32 238.4 ...\n",
        "    Relative_humidity_isobaric                                                  (time1, isobaric3, lat, lon) float32 0.0 ...\n",
        "    Relative_humidity_zeroDegC_isotherm                                         (time1, lat, lon) float32 33.0 ...\n",
        "    u-component_of_wind_isobaric                                                (time1, isobaric3, lat, lon) float32 -12.7 ...\n",
        "    v-component_of_wind_isobaric                                                (time1, isobaric3, lat, lon) float32 1.6 ...\n",
        "    Geopotential_height_isobaric                                                (time1, isobaric3, lat, lon) float32 31827.2 ...\n",
        "    Geopotential_height_zeroDegC_isotherm                                       (time1, lat, lon) float32 3274.4 ...\n",
        "    U-Component_Storm_Motion_height_above_ground_layer                          (time1, height_above_ground_layer1, lat, lon) float32 8.76 ...\n",
        "    Zonal_Flux_of_Gravity_Wave_Stress_surface_Mixed_intervals_Average           (time2, lat, lon) float32 0.065 ...\n",
        "    u-component_of_wind_planetary_boundary                                      (time1, lat, lon) float32 3.6 ...\n",
        "    Categorical_Ice_Pellets_surface_Mixed_intervals_Average                     (time2, lat, lon) float32 0.0 ...\n",
        "    Vertical_velocity_pressure_isobaric                                         (time1, isobaric2, lat, lon) float32 0.01149 ...\n",
        "    Absolute_vorticity_isobaric                                                 (time1, isobaric3, lat, lon) float32 0.000114 ...\n",
        "    Pressure_reduced_to_MSL_msl                                                 (time1, lat, lon) float32 102168.0 ...\n",
        "    Cloud_mixing_ratio_isobaric                                                 (time1, isobaric2, lat, lon) float32 0.0 ...\n",
        "    Pressure_maximum_wind                                                       (time1, lat, lon) float32 23430.4 ...\n",
        "    Temperature_altitude_above_msl                                              (time1, altitude_above_msl, lat, lon) float32 278.2 ...\n",
        "    Temperature_maximum_wind                                                    (time1, lat, lon) float32 220.7 ...\n",
        "    u-component_of_wind_altitude_above_msl                                      (time1, altitude_above_msl, lat, lon) float32 2.87 ...\n",
        "    u-component_of_wind_maximum_wind                                            (time1, lat, lon) float32 29.5 ...\n",
        "    ICAO_Standard_Atmosphere_Reference_Height_maximum_wind                      (time1, lat, lon) float32 10779.2 ...\n",
        "    v-component_of_wind_altitude_above_msl                                      (time1, altitude_above_msl, lat, lon) float32 0.65 ...\n",
        "    v-component_of_wind_maximum_wind                                            (time1, lat, lon) float32 -6.8 ...\n",
        "    Apparent_temperature_height_above_ground                                    (time1, height_above_ground, lat, lon) float32 289.5 ...\n",
        "    Geopotential_height_maximum_wind                                            (time1, lat, lon) float32 11064.5 ...\n",
        "    V-Component_Storm_Motion_height_above_ground_layer                          (time1, height_above_ground_layer1, lat, lon) float32 -6.05 ...\n",
        "    Meridional_Flux_of_Gravity_Wave_Stress_surface_Mixed_intervals_Average      (time2, lat, lon) float32 2.281 ...\n",
        "    Field_Capacity_surface                                                      (time1, lat, lon) float32 0.2821 ...\n",
        "    v-component_of_wind_planetary_boundary                                      (time1, lat, lon) float32 0.5 ...\n",
        "    Precipitable_water_entire_atmosphere_single_layer                           (time1, lat, lon) float32 15.6 ...\n",
        "    Categorical_Snow_surface_Mixed_intervals_Average                            (time2, lat, lon) float32 0.0 ...\n",
        "    Pressure_height_above_ground                                                (time1, height_above_ground2, lat, lon) float32 93748.7 ...\n",
        "    Pressure_tropopause                                                         (time1, lat, lon) float32 21156.9 ...\n",
        "    Specific_humidity_height_above_ground                                       (time1, height_above_ground1, lat, lon) float32 0.00766 ...\n",
        "    Temperature_tropopause                                                      (time1, lat, lon) float32 218.2 ...\n",
        "    Temperature_height_above_ground                                             (time1, height_above_ground4, lat, lon) float32 289.5 ...\n",
        "    Relative_humidity_height_above_ground                                       (time1, height_above_ground, lat, lon) float32 62.2 ...\n",
        "    u-component_of_wind_height_above_ground                                     (time1, height_above_ground3, lat, lon) float32 2.88 ...\n",
        "    u-component_of_wind_tropopause                                              (time1, lat, lon) float32 27.5 ...\n",
        "    ICAO_Standard_Atmosphere_Reference_Height_tropopause                        (time1, lat, lon) float32 11427.1 ...\n",
        "    v-component_of_wind_height_above_ground                                     (time1, height_above_ground3, lat, lon) float32 0.04 ...\n",
        "    v-component_of_wind_tropopause                                              (time1, lat, lon) float32 -4.9 ...\n",
        "    Maximum_temperature_height_above_ground_Mixed_intervals_Maximum             (time2, height_above_ground, lat, lon) float32 289.6 ...\n",
        "    Geopotential_height_tropopause                                              (time1, lat, lon) float32 11719.5 ...\n",
        "    Minimum_temperature_height_above_ground_Mixed_intervals_Minimum             (time2, height_above_ground, lat, lon) float32 287.5 ...\n",
        "    Dewpoint_temperature_height_above_ground                                    (time1, height_above_ground, lat, lon) float32 282.3 ...\n",
        "    Temperature_sigma                                                           (time1, sigma, lat, lon) float32 288.4 ...\n",
        "    Relative_humidity_sigma                                                     (time1, sigma, lat, lon) float32 63.0 ...\n",
        "    Potential_temperature_sigma                                                 (time1, sigma, lat, lon) float32 293.4 ...\n",
        "    u-component_of_wind_sigma                                                   (time1, sigma, lat, lon) float32 3.21 ...\n",
        "    v-component_of_wind_sigma                                                   (time1, sigma, lat, lon) float32 0.12 ...\n",
        "    Planetary_Boundary_Layer_Height_surface                                     (time1, lat, lon) float32 1044.0 ...\n",
        "    Convective_Precipitation_Rate_surface_Mixed_intervals_Average               (time2, lat, lon) float32 4e-06 ...\n",
        "    Vertical_velocity_pressure_sigma                                            (time1, sigma, lat, lon) float32 0.384 ...\n",
        "    Total_cloud_cover_entire_atmosphere_Mixed_intervals_Average                 (time2, lat, lon) float32 32.0 ...\n",
        "    Geopotential_height_highest_tropospheric_freezing                           (time1, lat, lon) float32 3275.2 ...\n",
        "    Cloud_water_entire_atmosphere_single_layer                                  (time1, lat, lon) float32 0.0 ...\n",
        "    Pressure_potential_vorticity_surface                                        (time1, potential_vorticity_surface, lat, lon) float32 nan ...\n",
        "    Temperature_potential_vorticity_surface                                     (time1, potential_vorticity_surface, lat, lon) float32 nan ...\n",
        "    u-component_of_wind_potential_vorticity_surface                             (time1, potential_vorticity_surface, lat, lon) float32 nan ...\n",
        "    v-component_of_wind_potential_vorticity_surface                             (time1, potential_vorticity_surface, lat, lon) float32 nan ...\n",
        "    Geopotential_height_potential_vorticity_surface                             (time1, potential_vorticity_surface, lat, lon) float32 nan ...\n",
        "Attributes:\n",
        "    Originating_or_generating_Center: US National Weather Service, National Centres for Environmental Prediction (NCEP)\n",
        "    Originating_or_generating_Subcenter: 0\n",
        "    GRIB_table_version: 2,1\n",
        "    Type_of_generating_process: Forecast\n",
        "    Analysis_or_forecast_generating_process_identifier_defined_by_originating_centre: Analysis from GFS (Global Forecast System)\n",
        "    file_format: GRIB-2\n",
        "    Conventions: CF-1.6\n",
        "    history: Read using CDM IOSP GribCollection v3\n",
        "    featureType: GRID\n",
        "    _CoordSysBuilder: ucar.nc2.dataset.conv.CF1Convention"
       ]
      }
     ],
     "prompt_number": 20
    },
    {
     "cell_type": "code",
     "collapsed": false,
     "input": [],
     "language": "python",
     "metadata": {},
     "outputs": []
    }
   ],
   "metadata": {}
  }
 ]
}