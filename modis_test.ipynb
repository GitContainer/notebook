{
 "metadata": {
  "name": "",
  "signature": "sha256:70f2dfd03a9db1ed561955e81c3f1d9036e3923916ef82958a1db63b0d986fa2"
 },
 "nbformat": 3,
 "nbformat_minor": 0,
 "worksheets": [
  {
   "cells": [
    {
     "cell_type": "code",
     "collapsed": false,
     "input": [
      "import iris"
     ],
     "language": "python",
     "metadata": {},
     "outputs": [],
     "prompt_number": 1
    },
    {
     "cell_type": "markdown",
     "metadata": {},
     "source": [
      "Try opening the east coast MODIS chlorophyll from PFEG"
     ]
    },
    {
     "cell_type": "code",
     "collapsed": false,
     "input": [
      "url='http://oceanwatch.pfeg.noaa.gov/thredds/dodsC/satellite/ME/chla/1day'"
     ],
     "language": "python",
     "metadata": {},
     "outputs": [],
     "prompt_number": 2
    },
    {
     "cell_type": "code",
     "collapsed": false,
     "input": [
      "c = iris.load_cube(url,'concentration_of_chlorophyll_in_sea_water')"
     ],
     "language": "python",
     "metadata": {},
     "outputs": [],
     "prompt_number": 3
    },
    {
     "cell_type": "markdown",
     "metadata": {},
     "source": [
      "print last time step"
     ]
    },
    {
     "cell_type": "code",
     "collapsed": false,
     "input": [
      "print c[-1,0,0]"
     ],
     "language": "python",
     "metadata": {},
     "outputs": [
      {
       "output_type": "stream",
       "stream": "stdout",
       "text": [
        "concentration_of_chlorophyll_in_sea_water / (mg m-3) (longitude: 2401)\n",
        "     Dimension coordinates:\n",
        "          longitude                                            x\n",
        "     Scalar coordinates:\n",
        "          altitude: 0.0 m\n",
        "          latitude: 20.0 degrees\n",
        "          time: 2012-07-03 12:00:00\n",
        "     Attributes:\n",
        "          Conventions: COARDS, CF-1.0, Unidata Dataset Discovery v1.0, CWHDF\n",
        "          Easternmost_Easting: -60.0\n",
        "          Northernmost_Northing: 50.0\n",
        "          Southernmost_Northing: 20.0\n",
        "          Westernmost_Easting: -90.0\n",
        "          acknowledgement: NOAA NESDIS COASTWATCH, NOAA SWFSC ERD\n",
        "          actual_range: [  1.00000005e-03   4.64265015e+02]\n",
        "          cdm_data_type: Grid\n",
        "          cols: 2401\n",
        "          composite: true\n",
        "          contributor_name: NASA GSFC (OBPG)\n",
        "          contributor_role: Source of level 2 data.\n",
        "          coordsys: geographic\n",
        "          creator_email: dave.foley@noaa.gov\n",
        "          creator_name: NOAA CoastWatch, West Coast Node\n",
        "          creator_url: http://coastwatch.pfel.noaa.gov\n",
        "          cwhdf_version: 3.4\n",
        "          date_created: 2012-07-07Z\n",
        "          date_issued: 2012-07-07Z\n",
        "          et_affine: [  0.00000000e+00   1.25000000e-02   1.25000000e-02   0.00000000e+00\n",
        " ...\n",
        "          fraction_digits: 2\n",
        "          gctp_datum: 12\n",
        "          gctp_parm: [ 0.  0.  0.  0.  0.  0.  0.  0.  0.  0.  0.  0.  0.  0.  0.]\n",
        "          gctp_sys: 0\n",
        "          gctp_zone: 0\n",
        "          geospatial_lat_max: 50.0\n",
        "          geospatial_lat_min: 20.0\n",
        "          geospatial_lat_resolution: 0.0125\n",
        "          geospatial_lat_units: degrees_north\n",
        "          geospatial_lon_max: -60.0\n",
        "          geospatial_lon_min: -90.0\n",
        "          geospatial_lon_resolution: 0.0125\n",
        "          geospatial_lon_units: degrees_east\n",
        "          geospatial_vertical_max: 0.0\n",
        "          geospatial_vertical_min: 0.0\n",
        "          geospatial_vertical_positive: up\n",
        "          geospatial_vertical_units: m\n",
        "          history: NASA GSFC (OBPG)\n",
        "2012-07-07T23:40:20Z NOAA CoastWatch (West Coast Node)...\n",
        "          id: LMEchlaS1day_20120702120000\n",
        "          institution: NOAA CoastWatch, West Coast Node\n",
        "          keywords: EARTH SCIENCE > Oceans > Ocean Chemistry > Chlorophyll\n",
        "          keywords_vocabulary: GCMD Science Keywords\n",
        "          license: The data may be used and redistributed for free but is not intended for...\n",
        "          naming_authority: gov.noaa.pfel.coastwatch\n",
        "          numberOfObservations: 1009133\n",
        "          origin: NASA GSFC (OBPG)\n",
        "          pass_date: 15523\n",
        "          percentCoverage: 0.175050795335\n",
        "          polygon_latitude: [ 20.  50.  50.  20.  20.]\n",
        "          polygon_longitude: [-90. -90. -60. -60. -90.]\n",
        "          processing_level: 3\n",
        "          project: CoastWatch (http://coastwatch.noaa.gov/)\n",
        "          projection: geographic\n",
        "          projection_type: mapped\n",
        "          references: Aqua/MODIS information: http://oceancolor.gsfc.nasa.gov/ . MODIS information:...\n",
        "          rows: 2401\n",
        "          satellite: Aqua\n",
        "          sensor: MODIS\n",
        "          source: satellite observation: Aqua, MODIS\n",
        "          standard_name_vocabulary: CF-1.0\n",
        "          start_time: 0.0\n",
        "          summary: NOAA CoastWatch distributes chlorophyll-a concentration data from NASA's...\n",
        "          time_coverage_end: 2012-07-03T00:00:00Z\n",
        "          time_coverage_start: 2012-07-02T00:00:00Z\n",
        "          title: Chlorophyll-a, Aqua MODIS, NPP, 0.0125 degrees, East US, EXPERIMENTAL\n"
       ]
      }
     ],
     "prompt_number": 4
    },
    {
     "cell_type": "markdown",
     "metadata": {},
     "source": [
      "Try opening the Global MODIS chlorophyll from PFEG"
     ]
    },
    {
     "cell_type": "code",
     "collapsed": false,
     "input": [
      "url='http://oceanwatch.pfeg.noaa.gov/thredds/dodsC/satellite/MH1/chla/1day'\n",
      "c = iris.load_cube(url,'concentration_of_chlorophyll_in_sea_water')"
     ],
     "language": "python",
     "metadata": {},
     "outputs": [],
     "prompt_number": 5
    },
    {
     "cell_type": "markdown",
     "metadata": {},
     "source": [
      "print last time step"
     ]
    },
    {
     "cell_type": "code",
     "collapsed": false,
     "input": [
      "print c[-1,0,0]"
     ],
     "language": "python",
     "metadata": {},
     "outputs": [
      {
       "output_type": "stream",
       "stream": "stdout",
       "text": [
        "concentration_of_chlorophyll_in_sea_water / (mg m^-3) (scalar cube)\n",
        "     Scalar coordinates:\n",
        "          latitude: 89.97918 degrees\n",
        "          longitude: -179.9792 degrees\n",
        "          time: 2014-09-16 00:00:00\n",
        "     Attributes:\n",
        "          Conventions: CF-1.6\n",
        "          L2_Flag_Names: ATMFAIL,LAND,HILT,HISATZEN,STRAYLIGHT,CLDICE,COCCOLITH,LOWLW,CHLWARN,C...\n",
        "          Map_Projection: Equidistant Cylindrical\n",
        "          Processing_Version: 2013.1.1QL\n",
        "          Sensor_Name: HMODISA\n",
        "          Software_Name: smigen\n",
        "          Software_Version: 4.42\n",
        "          _History: Direct read of HDF4 file through CDM library\n",
        "          infoUrl: http://oceancolor.gsfc.nasa.gov/\n",
        "          institution: NASA/GSFC OBPG\n",
        "          title: MODISA Level-3 Standard Mapped Image, Chlorophyll a, Daily, 4km\n"
       ]
      }
     ],
     "prompt_number": 6
    },
    {
     "cell_type": "code",
     "collapsed": false,
     "input": [],
     "language": "python",
     "metadata": {},
     "outputs": [],
     "prompt_number": 6
    }
   ],
   "metadata": {}
  }
 ]
}